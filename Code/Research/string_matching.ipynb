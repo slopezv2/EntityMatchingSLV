{
 "cells": [
  {
   "cell_type": "code",
   "execution_count": 1,
   "metadata": {},
   "outputs": [],
   "source": [
    "import py_stringmatching as sm"
   ]
  },
  {
   "cell_type": "code",
   "execution_count": 2,
   "metadata": {},
   "outputs": [],
   "source": [
    "text_1 = \"I am looking for a good book on machine learning.\"\n",
    "text_2 = \"I am looking for a book on machine learning.\""
   ]
  },
  {
   "cell_type": "markdown",
   "metadata": {},
   "source": [
    "Distance is converted into a similarity function s"
   ]
  },
  {
   "attachments": {
    "image.png": {
     "image/png": "[encoded data removed]"
    }
   },
   "cell_type": "markdown",
   "metadata": {},
   "source": [
    "![image.png](attachment:image.png)"
   ]
  },
  {
   "cell_type": "markdown",
   "metadata": {},
   "source": [
    "# Levenshtein and Edit distance"
   ]
  },
  {
   "cell_type": "code",
   "execution_count": 3,
   "metadata": {},
   "outputs": [
    {
     "name": "stdout",
     "output_type": "stream",
     "text": [
      "0.8979591836734694\n",
      "5\n"
     ]
    }
   ],
   "source": [
    "lev = sm.Levenshtein()\n",
    "print(lev.get_sim_score(text_1, text_2))\n",
    "print(lev.get_raw_score(text_1, text_2)) #Edit distance"
   ]
  },
  {
   "cell_type": "markdown",
   "metadata": {},
   "source": [
    "# Needleman-Wunch score\n",
    "Computes a score based on a similarity function, coincidence and "
   ]
  },
  {
   "cell_type": "code",
   "execution_count": 10,
   "metadata": {},
   "outputs": [],
   "source": [
    "n1 = \"david\"\n",
    "n2= \"dave\""
   ]
  },
  {
   "cell_type": "code",
   "execution_count": 11,
   "metadata": {},
   "outputs": [
    {
     "name": "stdout",
     "output_type": "stream",
     "text": [
      "2.5\n"
     ]
    }
   ],
   "source": [
    "needleman_wunsch = sm.NeedlemanWunsch( gap_cost=0.5, sim_func=lambda a, b: 1 if a==b else 0)\n",
    "print(needleman_wunsch.get_raw_score(n1, n2))"
   ]
  },
  {
   "cell_type": "code",
   "execution_count": 12,
   "metadata": {},
   "outputs": [
    {
     "name": "stdout",
     "output_type": "stream",
     "text": [
      "2.5\n"
     ]
    }
   ],
   "source": [
    "needleman_wunsch = sm.NeedlemanWunsch( gap_cost=0.5, sim_func=lambda a, b: 1 if a==b else 0)\n",
    "print(needleman_wunsch.get_raw_score(n1, n2))"
   ]
  },
  {
   "cell_type": "markdown",
   "metadata": {},
   "source": [
    "As similarity using $$s = 1-\\frac{d(x,y)}{max(length(x),length(y))}$$"
   ]
  },
  {
   "cell_type": "code",
   "execution_count": 13,
   "metadata": {},
   "outputs": [
    {
     "name": "stdout",
     "output_type": "stream",
     "text": [
      "0.5\n"
     ]
    }
   ],
   "source": [
    "print(1-needleman_wunsch.get_raw_score(n1, n2)/max(len(n1),len(n2)))"
   ]
  },
  {
   "cell_type": "markdown",
   "metadata": {},
   "source": [
    "0 is \"equal\", greater is \"different\""
   ]
  },
  {
   "cell_type": "code",
   "execution_count": 15,
   "metadata": {},
   "outputs": [
    {
     "name": "stdout",
     "output_type": "stream",
     "text": [
      "0.30000000000000004\n"
     ]
    }
   ],
   "source": [
    "n1 = \"davi\"\n",
    "n2= \"david\"\n",
    "print(1 - needleman_wunsch.get_raw_score(n1, n2)/max(len(n1),len(n2)))"
   ]
  },
  {
   "cell_type": "code",
   "execution_count": 23,
   "metadata": {},
   "outputs": [
    {
     "name": "stdout",
     "output_type": "stream",
     "text": [
      "0.0\n",
      "1.0\n",
      "5.0\n",
      "0.7727272727272727\n"
     ]
    }
   ],
   "source": [
    "n1 = \"David Smith\"\n",
    "n2 = \"David Richardson Smith\"\n",
    "needleman_wunsch = sm.NeedlemanWunsch( gap_cost=1, sim_func=lambda a, b: 1 if a==b else 0)\n",
    "af_gap= sm.Affine(gap_start=1,gap_continuation=0.5,sim_func=lambda a, b: 1 if a==b else 0)\n",
    "print(needleman_wunsch.get_raw_score(n2, n1))\n",
    "print(1-needleman_wunsch.get_raw_score(n1, n2)/max(len(n1),len(n2)))\n",
    "print(af_gap.get_raw_score(n1,n2))\n",
    "print(1 - af_gap.get_raw_score(n1, n2)/max(len(n1),len(n2)))\n"
   ]
  },
  {
   "cell_type": "markdown",
   "metadata": {},
   "source": [
    "# Smith-Waterman\n",
    "- The Smith-Waterman measure is designed to find matching substrings by introducing two key changes to the Needleman-Wunch measure. First, the measure allows the match to restart at any position in the strings (no longer limited to just the first position)\n",
    "- The second key change is that after computing the matrix using the recurrence equation, the algorithm starts retracing the arrows from the largest value in the matrix (4 in our example) rather than starting from the lower-right corner (3 in the matrix). This change effectively ignores suffixes if the match they produce is not optimal"
   ]
  },
  {
   "cell_type": "code",
   "execution_count": 24,
   "metadata": {},
   "outputs": [
    {
     "name": "stdout",
     "output_type": "stream",
     "text": [
      "8.0\n",
      "0.6\n",
      "5.5\n",
      "0.725\n"
     ]
    }
   ],
   "source": [
    "n1 = \"Prof. David R. Smith\"\n",
    "n2 = \"David Smith\"\n",
    "sw = sm.SmithWaterman(gap_cost=1,sim_func=lambda a, b: 1 if a==b else 0)\n",
    "print(sw.get_raw_score(n1,n2))\n",
    "print(1 - (sw.get_raw_score(n1, n2)/max(len(n1),len(n2))))\n",
    "print(af_gap.get_raw_score(n1,n2))\n",
    "print(1 - af_gap.get_raw_score(n1, n2)/max(len(n1),len(n2)))"
   ]
  },
  {
   "cell_type": "markdown",
   "metadata": {},
   "source": [
    "# Jaro Measure\n",
    "The Jaro measure was developed mainly to compare short strings, such as first and last\n",
    "names"
   ]
  },
  {
   "cell_type": "code",
   "execution_count": 25,
   "metadata": {},
   "outputs": [
    {
     "name": "stdout",
     "output_type": "stream",
     "text": [
      "0.9444444179534912\n",
      "0.24090909957885742\n",
      "0.0\n"
     ]
    }
   ],
   "source": [
    "jaro = sm.Jaro()\n",
    "print(jaro.get_raw_score('MARTHA', 'MARHTA'))\n",
    "print(1 - (jaro.get_raw_score(n1, n2)))\n",
    "print(1 - jaro.get_raw_score('MARTHA', 'MARTHA'))"
   ]
  },
  {
   "cell_type": "markdown",
   "metadata": {},
   "source": [
    "# Jaro-Winkler\n",
    "The Jaro-Winkler measure is designed to capture cases where two strings have a low Jaro\n",
    "score, but share a prefix and thus are still likely to match. Specifically, the measure introduces\n",
    "two parameters: PL, which is the length of the longest common prefix between the\n",
    "two strengths, and PW, which is the weight to give the prefix"
   ]
  },
  {
   "cell_type": "code",
   "execution_count": 30,
   "metadata": {},
   "outputs": [
    {
     "name": "stdout",
     "output_type": "stream",
     "text": [
      "I am looking for a good book on machine learning.\n",
      "I am looking for a book on machine learning.\n",
      "1.0\n",
      "0.9795918367346939\n",
      "1.0\n"
     ]
    }
   ],
   "source": [
    "print(text_1)\n",
    "print(text_2)\n",
    "jw = sm.JaroWinkler(prefix_weight=0.25)\n",
    "print(jw.get_raw_score(text_1, text_2))\n",
    "print(1- jw.get_raw_score(text_1, text_2)/max(len(text_1),len(text_2)))\n",
    "print(jw.get_sim_score(text_1, text_2))"
   ]
  },
  {
   "cell_type": "markdown",
   "metadata": {},
   "source": [
    "# Set-Based Similarity"
   ]
  },
  {
   "cell_type": "code",
   "execution_count": 31,
   "metadata": {},
   "outputs": [
    {
     "name": "stdout",
     "output_type": "stream",
     "text": [
      "I am looking for a good book on machine learning.\n",
      "I am looking for a good book related to statistics.\n",
      "0.7\n",
      "0.7\n",
      "0.9862745098039216\n"
     ]
    }
   ],
   "source": [
    "text_2 = \"I am looking for a good book related to statistics.\"\n",
    "print(text_1)\n",
    "print(text_2)\n",
    "oc = sm.OverlapCoefficient()\n",
    "print(oc.get_sim_score(text_1.split(\" \"), text_2.split(\" \")))\n",
    "print(oc.get_raw_score(text_1.split(\" \"), text_2.split(\" \")))\n",
    "print(1- oc.get_raw_score(text_1.split(\" \"), text_2.split(\" \"))/max(len(text_1),len(text_2)))"
   ]
  },
  {
   "cell_type": "markdown",
   "metadata": {},
   "source": [
    "# Generalized jaccard\n",
    "This similarity measure is softened version of the Jaccard measure. The Jaccard measure is promising candidate for tokens which exactly match across the sets. However, in practice tokens are often misspelled, such as energy vs. eneryg. THe generalized Jaccard measure will enable matching in such cases"
   ]
  },
  {
   "cell_type": "code",
   "execution_count": 32,
   "metadata": {},
   "outputs": [
    {
     "name": "stdout",
     "output_type": "stream",
     "text": [
      "I am lookig for a god book on machine learning.\n",
      "I am looking for a good book related to statistics.\n",
      "0.5\n"
     ]
    }
   ],
   "source": [
    "text_1= \"I am lookig for a god book on machine learning.\"\n",
    "gj = sm.GeneralizedJaccard(sim_func=lambda a, b: 1 if a==b else 0)\n",
    "print(text_1)\n",
    "print(text_2)\n",
    "print(1- oc.get_sim_score(text_1.split(\" \"), text_2.split(\" \")))"
   ]
  },
  {
   "cell_type": "markdown",
   "metadata": {},
   "source": [
    "# TF / IDF\n",
    "This measure employs the notion of TF/IDF score commonly used in information retrieval (IR) to find documents that are relevant to keyword queries. The intuition underlying the TF/IDF measure is that two strings are similar if they share distinguishing terms"
   ]
  },
  {
   "cell_type": "code",
   "execution_count": 33,
   "metadata": {},
   "outputs": [
    {
     "name": "stdout",
     "output_type": "stream",
     "text": [
      "I am lookig for a good book on machine learning.\n",
      "I am looking for a good book related to statistics.\n",
      "0.7272727272727273\n"
     ]
    }
   ],
   "source": [
    "text_1= \"I am lookig for a good book on machine learning.\"\n",
    "tfidf = sm.TfIdf(dampen=False)\n",
    "print(text_1)\n",
    "print(text_2)\n",
    "print(1 - tfidf.get_sim_score(text_1.split(\" \"), text_2.split(\" \")))"
   ]
  },
  {
   "cell_type": "markdown",
   "metadata": {},
   "source": [
    "# Soft TF / IDF\n",
    "In case you have misspelled words"
   ]
  },
  {
   "cell_type": "code",
   "execution_count": 79,
   "metadata": {},
   "outputs": [
    {
     "name": "stdout",
     "output_type": "stream",
     "text": [
      "I am lookig for an good book on machine learning.\n",
      "I am looking for a good book related to statistics.\n",
      "0.2407407426834106\n"
     ]
    }
   ],
   "source": [
    "text_1= \"I am lookig for an good book on machine learning.\"\n",
    "softtfidf = sm.SoftTfIdf()\n",
    "print(text_1)\n",
    "print(text_2)\n",
    "print(1 - softtfidf.get_raw_score(text_1.split(\" \"), text_2.split(\" \")))"
   ]
  },
  {
   "cell_type": "markdown",
   "metadata": {},
   "source": [
    "# Soundex\n",
    "Depends on language, short words"
   ]
  },
  {
   "cell_type": "code",
   "execution_count": 40,
   "metadata": {},
   "outputs": [
    {
     "name": "stdout",
     "output_type": "stream",
     "text": [
      "1\n"
     ]
    }
   ],
   "source": [
    "so = sm.Soundex()\n",
    "print(so.get_raw_score(\"Anders\",\"Anthers\"))"
   ]
  },
  {
   "cell_type": "markdown",
   "metadata": {},
   "source": [
    "# Partial Ratio\n",
    "Fuzzy Wuzzy partial ratio raw score is a measure of the strings similarity as an int in the range [0, 100]. Given two strings X and Y, let the shorter string (X) be of length m. It finds the fuzzy wuzzy ratio similarity measure between the shorter string and every substring of length m of the longer string, and returns the maximum of those similarity measures. Fuzzy Wuzzy partial ratio sim score is a float in the range [0, 1]"
   ]
  },
  {
   "cell_type": "code",
   "execution_count": 42,
   "metadata": {},
   "outputs": [
    {
     "name": "stdout",
     "output_type": "stream",
     "text": [
      "Apple Inc\n",
      "Apple\n",
      "1.0\n"
     ]
    }
   ],
   "source": [
    "pr = sm.PartialRatio()\n",
    "n1= \"Apple Inc\"\n",
    "n2 = \"Apple\"\n",
    "print(n1)\n",
    "print(n2)\n",
    "print(pr.get_sim_score(n1, n2))"
   ]
  },
  {
   "attachments": {
    "image.png": {
     "image/png": "[encoded data removed]"
    }
   },
   "cell_type": "markdown",
   "metadata": {},
   "source": [
    "# Bag Distance\n",
    "Calculate distance over X, Y based on counting the elements that are not present in both sets:\n",
    "\n",
    "![image.png](attachment:image.png)"
   ]
  },
  {
   "cell_type": "code",
   "execution_count": 93,
   "metadata": {},
   "outputs": [
    {
     "name": "stdout",
     "output_type": "stream",
     "text": [
      "Apple Inc\n",
      "Aple InK\n",
      "0.7777777777777778\n"
     ]
    }
   ],
   "source": [
    "bd = sm.BagDistance()\n",
    "n1= \"Apple Inc\"\n",
    "n2 = \"Aple InK\"\n",
    "print(n1)\n",
    "print(n2)\n",
    "print(1 - bd.get_raw_score(n1, n2)/max(len(n1),len(n2)))"
   ]
  },
  {
   "attachments": {
    "image.png": {
     "image/png": "[encoded data removed]"
    }
   },
   "cell_type": "markdown",
   "metadata": {},
   "source": [
    "# Ochiai coefficient\n",
    "Similar to Cosine distance\n",
    "![image.png](attachment:image.png)"
   ]
  },
  {
   "cell_type": "code",
   "execution_count": 95,
   "metadata": {},
   "outputs": [
    {
     "name": "stdout",
     "output_type": "stream",
     "text": [
      "I am lookig for a good book on machine learning.\n",
      "I am looking for a good book related to statistics.\n",
      "0.40000000000000013\n"
     ]
    }
   ],
   "source": [
    "cos = sm.Cosine()\n",
    "text_1= \"I am lookig for a good book on machine learning.\"\n",
    "print(text_1)\n",
    "print(text_2)\n",
    "print(1 - cos.get_sim_score(text_1.split(\" \"),text_2.split(\" \")))"
   ]
  },
  {
   "cell_type": "markdown",
   "metadata": {},
   "source": [
    "# Hamming Distance\n",
    "The Hamming distance between two strings of equal length is the number of positions at which the corresponding symbols are different. Thus, it measures the minimum number of substitutions required to change one string into the other, or the minimum number of errors that could have transformed one string into the other."
   ]
  },
  {
   "cell_type": "code",
   "execution_count": 44,
   "metadata": {},
   "outputs": [
    {
     "name": "stdout",
     "output_type": "stream",
     "text": [
      "2\n",
      "0.18181818181818188\n"
     ]
    }
   ],
   "source": [
    "n1 = \"Hello World\"\n",
    "n2 = \"Hell0 W0rld\"\n",
    "hd = sm.HammingDistance()\n",
    "print(hd.get_raw_score(n1,n2))\n",
    "print(1 - (hd.get_sim_score(n1,n2)))"
   ]
  },
  {
   "cell_type": "code",
   "execution_count": null,
   "metadata": {},
   "outputs": [],
   "source": [
    "\n",
    "\n",
    "string1 = \"apple\"\n",
    "string2 = \"banana\"\n",
    "\n",
    "# Calculate the similarity using different measures\n",
    "ratio = fuzz.ratio(string1, string2)\n",
    "partial_ratio = fuzz.partial_ratio(string1, string2)\n",
    "token_sort_ratio = fuzz.token_sort_ratio(string1, string2)\n",
    "token_set_ratio = fuzz.token_set_ratio(string1, string2)\n",
    "\n",
    "# Print the similarity scores\n",
    "print(\"Ratio:\", ratio)\n",
    "print(\"Partial Ratio:\", partial_ratio)\n",
    "print(\"Token Sort Ratio:\", token_sort_ratio)\n",
    "print(\"Token Set Ratio:\", token_set_ratio)\n"
   ]
  },
  {
   "attachments": {
    "image.png": {
     "image/png": "[encoded data removed]"
    }
   },
   "cell_type": "markdown",
   "metadata": {},
   "source": [
    "# Jaccard\n",
    "![image.png](attachment:image.png)"
   ]
  },
  {
   "cell_type": "code",
   "execution_count": 12,
   "metadata": {},
   "outputs": [
    {
     "name": "stdout",
     "output_type": "stream",
     "text": [
      "I am looking for a good book on machine learning.\n",
      "I am looking for a book on machine learning.\n",
      "0.09999999999999998\n"
     ]
    }
   ],
   "source": [
    "jcc = sm.Jaccard()\n",
    "print(text_1)\n",
    "print(text_2)\n",
    "print(1 - jcc.get_sim_score(text_1.split(\" \"), text_2.split(\" \")))"
   ]
  },
  {
   "cell_type": "markdown",
   "metadata": {},
   "source": [
    "# Monge-Elkan\n",
    "The Monge-Elkan similarity measure is a type of hybrid similarity measure that combines the benefits of sequence-based and set-based methods. This can be effective for domains in which more control is needed over the similarity measure. It implicitly uses a secondary similarity measure, such as Levenshtein to compute over all similarity score"
   ]
  },
  {
   "cell_type": "code",
   "execution_count": 45,
   "metadata": {},
   "outputs": [
    {
     "name": "stdout",
     "output_type": "stream",
     "text": [
      "0.8364448130130768\n"
     ]
    }
   ],
   "source": [
    "me = sm.MongeElkan() # Default is Jaro-Winkler\n",
    "print(me.get_raw_score(['Comput.', 'Sci.', 'and', 'Eng.', 'Dept.,', 'University', 'of', 'California,', 'San', 'Diego'], \n",
    "                       ['Department', 'of', 'Computer', 'Science,', 'Univ.', 'Calif.,', 'San', 'Diego']))"
   ]
  }
 ],
 "metadata": {
  "kernelspec": {
   "display_name": "maestriamatching",
   "language": "python",
   "name": "python3"
  },
  "language_info": {
   "codemirror_mode": {
    "name": "ipython",
    "version": 3
   },
   "file_extension": ".py",
   "mimetype": "text/x-python",
   "name": "python",
   "nbconvert_exporter": "python",
   "pygments_lexer": "ipython3",
   "version": "3.10.13"
  }
 },
 "nbformat": 4,
 "nbformat_minor": 2
}
