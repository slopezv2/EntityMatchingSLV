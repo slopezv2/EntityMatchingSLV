{
 "cells": [
  {
   "cell_type": "code",
   "execution_count": 2,
   "metadata": {},
   "outputs": [],
   "source": [
    "from sklearn.neural_network import MLPClassifier\n",
    "import numpy as np # linear algebra\n",
    "import pandas as pd # data processing, CSV file I/O (e.g. pd.read_csv)\n",
    "from sklearn.model_selection import train_test_split\n"
   ]
  },
  {
   "cell_type": "code",
   "execution_count": 3,
   "metadata": {},
   "outputs": [],
   "source": [
    "import matplotlib.pyplot as plt\n",
    "#%matplotlib inline \n",
    "import seaborn as sns"
   ]
  },
  {
   "cell_type": "code",
   "execution_count": 4,
   "metadata": {},
   "outputs": [],
   "source": [
    "df_skroutz_word2vec = pd.read_parquet('../../Datos/embeddings/df_skroutz_word2vec.parquet', engine='pyarrow')"
   ]
  },
  {
   "cell_type": "code",
   "execution_count": 5,
   "metadata": {},
   "outputs": [
    {
     "data": {
      "text/html": [
       "<div>\n",
       "<style scoped>\n",
       "    .dataframe tbody tr th:only-of-type {\n",
       "        vertical-align: middle;\n",
       "    }\n",
       "\n",
       "    .dataframe tbody tr th {\n",
       "        vertical-align: top;\n",
       "    }\n",
       "\n",
       "    .dataframe thead th {\n",
       "        text-align: right;\n",
       "    }\n",
       "</style>\n",
       "<table border=\"1\" class=\"dataframe\">\n",
       "  <thead>\n",
       "    <tr style=\"text-align: right;\">\n",
       "      <th></th>\n",
       "      <th>ProductID</th>\n",
       "      <th>ProductID2</th>\n",
       "      <th>ProductID_word2vec</th>\n",
       "      <th>ProductID2_word2vec</th>\n",
       "    </tr>\n",
       "    <tr>\n",
       "      <th>same_product</th>\n",
       "      <th></th>\n",
       "      <th></th>\n",
       "      <th></th>\n",
       "      <th></th>\n",
       "    </tr>\n",
       "  </thead>\n",
       "  <tbody>\n",
       "    <tr>\n",
       "      <th>False</th>\n",
       "      <td>31762</td>\n",
       "      <td>31762</td>\n",
       "      <td>31762</td>\n",
       "      <td>31762</td>\n",
       "    </tr>\n",
       "    <tr>\n",
       "      <th>True</th>\n",
       "      <td>31762</td>\n",
       "      <td>31762</td>\n",
       "      <td>31762</td>\n",
       "      <td>31762</td>\n",
       "    </tr>\n",
       "  </tbody>\n",
       "</table>\n",
       "</div>"
      ],
      "text/plain": [
       "              ProductID  ProductID2  ProductID_word2vec  ProductID2_word2vec\n",
       "same_product                                                                \n",
       "False             31762       31762               31762                31762\n",
       "True              31762       31762               31762                31762"
      ]
     },
     "execution_count": 5,
     "metadata": {},
     "output_type": "execute_result"
    }
   ],
   "source": [
    "df_skroutz_word2vec.groupby(\"same_product\").count()"
   ]
  },
  {
   "cell_type": "code",
   "execution_count": 6,
   "metadata": {},
   "outputs": [],
   "source": [
    "df_skroutz_word2vec[\"features\"] = df_skroutz_word2vec[\"ProductID_word2vec\"].apply(lambda row: row.tolist()) + df_skroutz_word2vec[\"ProductID2_word2vec\"].apply(lambda row: row.tolist())\n",
    "df_skroutz_word2vec[\"features\"]=df_skroutz_word2vec[\"features\"].apply(lambda row: np.array(row))"
   ]
  },
  {
   "cell_type": "code",
   "execution_count": 7,
   "metadata": {},
   "outputs": [],
   "source": [
    "X = df_skroutz_word2vec[\"features\"].explode().to_numpy().reshape(df_skroutz_word2vec.shape[0],600).astype(\"float\")\n",
    "y = df_skroutz_word2vec[[\"same_product\"]].astype(\"int\").to_numpy().reshape(df_skroutz_word2vec.shape[0],1)"
   ]
  },
  {
   "cell_type": "code",
   "execution_count": 8,
   "metadata": {},
   "outputs": [],
   "source": [
    "X_train, X_test, y_train, y_test = train_test_split(\n",
    "    X, y, test_size=0.33, random_state=42, stratify= y)"
   ]
  },
  {
   "cell_type": "code",
   "execution_count": 9,
   "metadata": {},
   "outputs": [],
   "source": [
    "from sklearn.model_selection import GridSearchCV\n",
    "clf = MLPClassifier(hidden_layer_sizes=(600,100,50,1))\n",
    "param_grid = {\"activation\": [\"identity\",\"logistic\",\"tanh\",\"relu\"], \n",
    "              \"solver\":[\"lbfgs\", \"sgd\",\"adam\"], \"alpha\":[0.0001, 0.0005, 0.001, 0.005, 0.01, 0.05, 0.1,0.000001], \n",
    "              \"learning_rate\":[\"constant\", \"invscaling\", \"adaptive\"],\n",
    "              \"learning_rate_init\":[0.0001, 0.0005, 0.001, 0.005, 0.01, 0.05, 0.1,0.000001],\n",
    "              \"power_t\":[0.5, 0.1, 0.9,0.001,0.005],\"max_iter\":[5,10,20,50], \"early_stopping\": [True],\"n_iter_no_change\":[5]}\n",
    "grid_search = GridSearchCV(clf, param_grid, verbose=2, n_jobs=-1, cv=3, scoring=\"balanced_accuracy\")"
   ]
  },
  {
   "cell_type": "code",
   "execution_count": 10,
   "metadata": {},
   "outputs": [
    {
     "name": "stdout",
     "output_type": "stream",
     "text": [
      "Fitting 3 folds for each of 46080 candidates, totalling 138240 fits\n"
     ]
    },
    {
     "name": "stderr",
     "output_type": "stream",
     "text": [
      "/Users/sebastianlopez/miniconda3/envs/maestriamatching/lib/python3.10/site-packages/sklearn/neural_network/_multilayer_perceptron.py:691: ConvergenceWarning: Stochastic Optimizer: Maximum iterations (5) reached and the optimization hasn't converged yet.\n",
      "  warnings.warn(\n",
      "/Users/sebastianlopez/miniconda3/envs/maestriamatching/lib/python3.10/site-packages/sklearn/neural_network/_multilayer_perceptron.py:691: ConvergenceWarning: Stochastic Optimizer: Maximum iterations (5) reached and the optimization hasn't converged yet.\n",
      "  warnings.warn(\n",
      "/Users/sebastianlopez/miniconda3/envs/maestriamatching/lib/python3.10/site-packages/sklearn/neural_network/_multilayer_perceptron.py:691: ConvergenceWarning: Stochastic Optimizer: Maximum iterations (5) reached and the optimization hasn't converged yet.\n",
      "  warnings.warn(\n"
     ]
    },
    {
     "name": "stdout",
     "output_type": "stream",
     "text": [
      "[CV] END activation=identity, alpha=0.0001, early_stopping=True, learning_rate=constant, learning_rate_init=0.0001, max_iter=5, n_iter_no_change=5, power_t=0.5, solver=sgd; total time=  15.5s\n",
      "[CV] END activation=identity, alpha=0.0001, early_stopping=True, learning_rate=constant, learning_rate_init=0.0001, max_iter=5, n_iter_no_change=5, power_t=0.5, solver=sgd; total time=  15.7s\n",
      "[CV] END activation=identity, alpha=0.0001, early_stopping=True, learning_rate=constant, learning_rate_init=0.0001, max_iter=5, n_iter_no_change=5, power_t=0.5, solver=sgd; total time=  15.9s\n"
     ]
    },
    {
     "name": "stderr",
     "output_type": "stream",
     "text": [
      "/Users/sebastianlopez/miniconda3/envs/maestriamatching/lib/python3.10/site-packages/sklearn/neural_network/_multilayer_perceptron.py:691: ConvergenceWarning: Stochastic Optimizer: Maximum iterations (5) reached and the optimization hasn't converged yet.\n",
      "  warnings.warn(\n",
      "/Users/sebastianlopez/miniconda3/envs/maestriamatching/lib/python3.10/site-packages/sklearn/neural_network/_multilayer_perceptron.py:691: ConvergenceWarning: Stochastic Optimizer: Maximum iterations (5) reached and the optimization hasn't converged yet.\n",
      "  warnings.warn(\n",
      "/Users/sebastianlopez/miniconda3/envs/maestriamatching/lib/python3.10/site-packages/sklearn/neural_network/_multilayer_perceptron.py:691: ConvergenceWarning: Stochastic Optimizer: Maximum iterations (5) reached and the optimization hasn't converged yet.\n",
      "  warnings.warn(\n"
     ]
    },
    {
     "name": "stdout",
     "output_type": "stream",
     "text": [
      "[CV] END activation=identity, alpha=0.0001, early_stopping=True, learning_rate=constant, learning_rate_init=0.0001, max_iter=5, n_iter_no_change=5, power_t=0.5, solver=adam; total time=  16.6s\n",
      "[CV] END activation=identity, alpha=0.0001, early_stopping=True, learning_rate=constant, learning_rate_init=0.0001, max_iter=5, n_iter_no_change=5, power_t=0.5, solver=adam; total time=  16.8s\n",
      "[CV] END activation=identity, alpha=0.0001, early_stopping=True, learning_rate=constant, learning_rate_init=0.0001, max_iter=5, n_iter_no_change=5, power_t=0.5, solver=adam; total time=  16.8s\n"
     ]
    },
    {
     "name": "stderr",
     "output_type": "stream",
     "text": [
      "/Users/sebastianlopez/miniconda3/envs/maestriamatching/lib/python3.10/site-packages/sklearn/neural_network/_multilayer_perceptron.py:546: ConvergenceWarning: lbfgs failed to converge (status=1):\n",
      "STOP: TOTAL NO. of ITERATIONS REACHED LIMIT.\n",
      "\n",
      "Increase the number of iterations (max_iter) or scale the data as shown in:\n",
      "    https://scikit-learn.org/stable/modules/preprocessing.html\n",
      "  self.n_iter_ = _check_optimize_result(\"lbfgs\", opt_res, self.max_iter)\n"
     ]
    },
    {
     "name": "stdout",
     "output_type": "stream",
     "text": [
      "[CV] END activation=identity, alpha=0.0001, early_stopping=True, learning_rate=constant, learning_rate_init=0.0001, max_iter=5, n_iter_no_change=5, power_t=0.1, solver=lbfgs; total time=  17.7s\n"
     ]
    },
    {
     "name": "stderr",
     "output_type": "stream",
     "text": [
      "/Users/sebastianlopez/miniconda3/envs/maestriamatching/lib/python3.10/site-packages/sklearn/neural_network/_multilayer_perceptron.py:546: ConvergenceWarning: lbfgs failed to converge (status=1):\n",
      "STOP: TOTAL NO. of ITERATIONS REACHED LIMIT.\n",
      "\n",
      "Increase the number of iterations (max_iter) or scale the data as shown in:\n",
      "    https://scikit-learn.org/stable/modules/preprocessing.html\n",
      "  self.n_iter_ = _check_optimize_result(\"lbfgs\", opt_res, self.max_iter)\n",
      "/Users/sebastianlopez/miniconda3/envs/maestriamatching/lib/python3.10/site-packages/sklearn/neural_network/_multilayer_perceptron.py:546: ConvergenceWarning: lbfgs failed to converge (status=1):\n",
      "STOP: TOTAL NO. of ITERATIONS REACHED LIMIT.\n",
      "\n",
      "Increase the number of iterations (max_iter) or scale the data as shown in:\n",
      "    https://scikit-learn.org/stable/modules/preprocessing.html\n",
      "  self.n_iter_ = _check_optimize_result(\"lbfgs\", opt_res, self.max_iter)\n",
      "/Users/sebastianlopez/miniconda3/envs/maestriamatching/lib/python3.10/site-packages/sklearn/neural_network/_multilayer_perceptron.py:546: ConvergenceWarning: lbfgs failed to converge (status=1):\n",
      "STOP: TOTAL NO. of ITERATIONS REACHED LIMIT.\n",
      "\n",
      "Increase the number of iterations (max_iter) or scale the data as shown in:\n",
      "    https://scikit-learn.org/stable/modules/preprocessing.html\n",
      "  self.n_iter_ = _check_optimize_result(\"lbfgs\", opt_res, self.max_iter)\n"
     ]
    },
    {
     "name": "stdout",
     "output_type": "stream",
     "text": [
      "[CV] END activation=identity, alpha=0.0001, early_stopping=True, learning_rate=constant, learning_rate_init=0.0001, max_iter=5, n_iter_no_change=5, power_t=0.5, solver=lbfgs; total time=  19.4s\n",
      "[CV] END activation=identity, alpha=0.0001, early_stopping=True, learning_rate=constant, learning_rate_init=0.0001, max_iter=5, n_iter_no_change=5, power_t=0.5, solver=lbfgs; total time=  19.5s\n",
      "[CV] END activation=identity, alpha=0.0001, early_stopping=True, learning_rate=constant, learning_rate_init=0.0001, max_iter=5, n_iter_no_change=5, power_t=0.1, solver=lbfgs; total time=  19.6s\n"
     ]
    },
    {
     "name": "stderr",
     "output_type": "stream",
     "text": [
      "/Users/sebastianlopez/miniconda3/envs/maestriamatching/lib/python3.10/site-packages/sklearn/neural_network/_multilayer_perceptron.py:546: ConvergenceWarning: lbfgs failed to converge (status=1):\n",
      "STOP: TOTAL NO. of ITERATIONS REACHED LIMIT.\n",
      "\n",
      "Increase the number of iterations (max_iter) or scale the data as shown in:\n",
      "    https://scikit-learn.org/stable/modules/preprocessing.html\n",
      "  self.n_iter_ = _check_optimize_result(\"lbfgs\", opt_res, self.max_iter)\n"
     ]
    },
    {
     "name": "stdout",
     "output_type": "stream",
     "text": [
      "[CV] END activation=identity, alpha=0.0001, early_stopping=True, learning_rate=constant, learning_rate_init=0.0001, max_iter=5, n_iter_no_change=5, power_t=0.5, solver=lbfgs; total time=  22.0s\n"
     ]
    },
    {
     "name": "stderr",
     "output_type": "stream",
     "text": [
      "/Users/sebastianlopez/miniconda3/envs/maestriamatching/lib/python3.10/site-packages/sklearn/neural_network/_multilayer_perceptron.py:691: ConvergenceWarning: Stochastic Optimizer: Maximum iterations (5) reached and the optimization hasn't converged yet.\n",
      "  warnings.warn(\n",
      "/Users/sebastianlopez/miniconda3/envs/maestriamatching/lib/python3.10/site-packages/sklearn/neural_network/_multilayer_perceptron.py:691: ConvergenceWarning: Stochastic Optimizer: Maximum iterations (5) reached and the optimization hasn't converged yet.\n",
      "  warnings.warn(\n"
     ]
    },
    {
     "name": "stdout",
     "output_type": "stream",
     "text": [
      "[CV] END activation=identity, alpha=0.0001, early_stopping=True, learning_rate=constant, learning_rate_init=0.0001, max_iter=5, n_iter_no_change=5, power_t=0.1, solver=sgd; total time=  14.4s\n",
      "[CV] END activation=identity, alpha=0.0001, early_stopping=True, learning_rate=constant, learning_rate_init=0.0001, max_iter=5, n_iter_no_change=5, power_t=0.1, solver=sgd; total time=  14.8s\n"
     ]
    },
    {
     "name": "stderr",
     "output_type": "stream",
     "text": [
      "/Users/sebastianlopez/miniconda3/envs/maestriamatching/lib/python3.10/site-packages/sklearn/neural_network/_multilayer_perceptron.py:691: ConvergenceWarning: Stochastic Optimizer: Maximum iterations (5) reached and the optimization hasn't converged yet.\n",
      "  warnings.warn(\n",
      "/Users/sebastianlopez/miniconda3/envs/maestriamatching/lib/python3.10/site-packages/sklearn/neural_network/_multilayer_perceptron.py:546: ConvergenceWarning: lbfgs failed to converge (status=1):\n",
      "STOP: TOTAL NO. of ITERATIONS REACHED LIMIT.\n",
      "\n",
      "Increase the number of iterations (max_iter) or scale the data as shown in:\n",
      "    https://scikit-learn.org/stable/modules/preprocessing.html\n",
      "  self.n_iter_ = _check_optimize_result(\"lbfgs\", opt_res, self.max_iter)\n"
     ]
    },
    {
     "name": "stdout",
     "output_type": "stream",
     "text": [
      "[CV] END activation=identity, alpha=0.0001, early_stopping=True, learning_rate=constant, learning_rate_init=0.0001, max_iter=5, n_iter_no_change=5, power_t=0.1, solver=sgd; total time=  15.3s\n",
      "[CV] END activation=identity, alpha=0.0001, early_stopping=True, learning_rate=constant, learning_rate_init=0.0001, max_iter=5, n_iter_no_change=5, power_t=0.1, solver=lbfgs; total time=  16.6s\n"
     ]
    },
    {
     "name": "stderr",
     "output_type": "stream",
     "text": [
      "/Users/sebastianlopez/miniconda3/envs/maestriamatching/lib/python3.10/site-packages/sklearn/neural_network/_multilayer_perceptron.py:691: ConvergenceWarning: Stochastic Optimizer: Maximum iterations (5) reached and the optimization hasn't converged yet.\n",
      "  warnings.warn(\n",
      "/Users/sebastianlopez/miniconda3/envs/maestriamatching/lib/python3.10/site-packages/sklearn/neural_network/_multilayer_perceptron.py:691: ConvergenceWarning: Stochastic Optimizer: Maximum iterations (5) reached and the optimization hasn't converged yet.\n",
      "  warnings.warn(\n"
     ]
    },
    {
     "name": "stdout",
     "output_type": "stream",
     "text": [
      "[CV] END activation=identity, alpha=0.0001, early_stopping=True, learning_rate=constant, learning_rate_init=0.0001, max_iter=5, n_iter_no_change=5, power_t=0.1, solver=adam; total time=  16.3s\n",
      "[CV] END activation=identity, alpha=0.0001, early_stopping=True, learning_rate=constant, learning_rate_init=0.0001, max_iter=5, n_iter_no_change=5, power_t=0.1, solver=adam; total time=  16.5s\n"
     ]
    },
    {
     "name": "stderr",
     "output_type": "stream",
     "text": [
      "/Users/sebastianlopez/miniconda3/envs/maestriamatching/lib/python3.10/site-packages/sklearn/neural_network/_multilayer_perceptron.py:691: ConvergenceWarning: Stochastic Optimizer: Maximum iterations (5) reached and the optimization hasn't converged yet.\n",
      "  warnings.warn(\n"
     ]
    },
    {
     "name": "stdout",
     "output_type": "stream",
     "text": [
      "[CV] END activation=identity, alpha=0.0001, early_stopping=True, learning_rate=constant, learning_rate_init=0.0001, max_iter=5, n_iter_no_change=5, power_t=0.1, solver=adam; total time=  16.7s\n"
     ]
    },
    {
     "name": "stderr",
     "output_type": "stream",
     "text": [
      "/Users/sebastianlopez/miniconda3/envs/maestriamatching/lib/python3.10/site-packages/sklearn/neural_network/_multilayer_perceptron.py:546: ConvergenceWarning: lbfgs failed to converge (status=1):\n",
      "STOP: TOTAL NO. of ITERATIONS REACHED LIMIT.\n",
      "\n",
      "Increase the number of iterations (max_iter) or scale the data as shown in:\n",
      "    https://scikit-learn.org/stable/modules/preprocessing.html\n",
      "  self.n_iter_ = _check_optimize_result(\"lbfgs\", opt_res, self.max_iter)\n",
      "/Users/sebastianlopez/miniconda3/envs/maestriamatching/lib/python3.10/site-packages/sklearn/neural_network/_multilayer_perceptron.py:546: ConvergenceWarning: lbfgs failed to converge (status=1):\n",
      "STOP: TOTAL NO. of ITERATIONS REACHED LIMIT.\n",
      "\n",
      "Increase the number of iterations (max_iter) or scale the data as shown in:\n",
      "    https://scikit-learn.org/stable/modules/preprocessing.html\n",
      "  self.n_iter_ = _check_optimize_result(\"lbfgs\", opt_res, self.max_iter)\n",
      "/Users/sebastianlopez/miniconda3/envs/maestriamatching/lib/python3.10/site-packages/sklearn/neural_network/_multilayer_perceptron.py:546: ConvergenceWarning: lbfgs failed to converge (status=1):\n",
      "STOP: TOTAL NO. of ITERATIONS REACHED LIMIT.\n",
      "\n",
      "Increase the number of iterations (max_iter) or scale the data as shown in:\n",
      "    https://scikit-learn.org/stable/modules/preprocessing.html\n",
      "  self.n_iter_ = _check_optimize_result(\"lbfgs\", opt_res, self.max_iter)\n"
     ]
    },
    {
     "name": "stdout",
     "output_type": "stream",
     "text": [
      "[CV] END activation=identity, alpha=0.0001, early_stopping=True, learning_rate=constant, learning_rate_init=0.0001, max_iter=5, n_iter_no_change=5, power_t=0.9, solver=lbfgs; total time=  18.0s\n",
      "[CV] END activation=identity, alpha=0.0001, early_stopping=True, learning_rate=constant, learning_rate_init=0.0001, max_iter=5, n_iter_no_change=5, power_t=0.9, solver=lbfgs; total time=  18.3s\n",
      "[CV] END activation=identity, alpha=0.0001, early_stopping=True, learning_rate=constant, learning_rate_init=0.0001, max_iter=5, n_iter_no_change=5, power_t=0.9, solver=lbfgs; total time=  18.5s\n"
     ]
    },
    {
     "name": "stderr",
     "output_type": "stream",
     "text": [
      "/Users/sebastianlopez/miniconda3/envs/maestriamatching/lib/python3.10/site-packages/sklearn/neural_network/_multilayer_perceptron.py:691: ConvergenceWarning: Stochastic Optimizer: Maximum iterations (5) reached and the optimization hasn't converged yet.\n",
      "  warnings.warn(\n"
     ]
    },
    {
     "name": "stdout",
     "output_type": "stream",
     "text": [
      "[CV] END activation=identity, alpha=0.0001, early_stopping=True, learning_rate=constant, learning_rate_init=0.0001, max_iter=5, n_iter_no_change=5, power_t=0.9, solver=sgd; total time=  16.9s\n"
     ]
    },
    {
     "name": "stderr",
     "output_type": "stream",
     "text": [
      "/Users/sebastianlopez/miniconda3/envs/maestriamatching/lib/python3.10/site-packages/sklearn/neural_network/_multilayer_perceptron.py:691: ConvergenceWarning: Stochastic Optimizer: Maximum iterations (5) reached and the optimization hasn't converged yet.\n",
      "  warnings.warn(\n",
      "/Users/sebastianlopez/miniconda3/envs/maestriamatching/lib/python3.10/site-packages/sklearn/neural_network/_multilayer_perceptron.py:691: ConvergenceWarning: Stochastic Optimizer: Maximum iterations (5) reached and the optimization hasn't converged yet.\n",
      "  warnings.warn(\n"
     ]
    },
    {
     "name": "stdout",
     "output_type": "stream",
     "text": [
      "[CV] END activation=identity, alpha=0.0001, early_stopping=True, learning_rate=constant, learning_rate_init=0.0001, max_iter=5, n_iter_no_change=5, power_t=0.9, solver=sgd; total time=  17.0s\n",
      "[CV] END activation=identity, alpha=0.0001, early_stopping=True, learning_rate=constant, learning_rate_init=0.0001, max_iter=5, n_iter_no_change=5, power_t=0.9, solver=sgd; total time=  16.9s\n"
     ]
    },
    {
     "name": "stderr",
     "output_type": "stream",
     "text": [
      "/Users/sebastianlopez/miniconda3/envs/maestriamatching/lib/python3.10/site-packages/sklearn/neural_network/_multilayer_perceptron.py:691: ConvergenceWarning: Stochastic Optimizer: Maximum iterations (5) reached and the optimization hasn't converged yet.\n",
      "  warnings.warn(\n",
      "/Users/sebastianlopez/miniconda3/envs/maestriamatching/lib/python3.10/site-packages/sklearn/neural_network/_multilayer_perceptron.py:691: ConvergenceWarning: Stochastic Optimizer: Maximum iterations (5) reached and the optimization hasn't converged yet.\n",
      "  warnings.warn(\n"
     ]
    },
    {
     "name": "stdout",
     "output_type": "stream",
     "text": [
      "[CV] END activation=identity, alpha=0.0001, early_stopping=True, learning_rate=constant, learning_rate_init=0.0001, max_iter=5, n_iter_no_change=5, power_t=0.9, solver=adam; total time=  17.9s\n",
      "[CV] END activation=identity, alpha=0.0001, early_stopping=True, learning_rate=constant, learning_rate_init=0.0001, max_iter=5, n_iter_no_change=5, power_t=0.9, solver=adam; total time=  18.4s\n"
     ]
    },
    {
     "name": "stderr",
     "output_type": "stream",
     "text": [
      "/Users/sebastianlopez/miniconda3/envs/maestriamatching/lib/python3.10/site-packages/sklearn/neural_network/_multilayer_perceptron.py:691: ConvergenceWarning: Stochastic Optimizer: Maximum iterations (5) reached and the optimization hasn't converged yet.\n",
      "  warnings.warn(\n"
     ]
    },
    {
     "name": "stdout",
     "output_type": "stream",
     "text": [
      "[CV] END activation=identity, alpha=0.0001, early_stopping=True, learning_rate=constant, learning_rate_init=0.0001, max_iter=5, n_iter_no_change=5, power_t=0.9, solver=adam; total time=  18.2s\n"
     ]
    },
    {
     "name": "stderr",
     "output_type": "stream",
     "text": [
      "/Users/sebastianlopez/miniconda3/envs/maestriamatching/lib/python3.10/site-packages/sklearn/neural_network/_multilayer_perceptron.py:546: ConvergenceWarning: lbfgs failed to converge (status=1):\n",
      "STOP: TOTAL NO. of ITERATIONS REACHED LIMIT.\n",
      "\n",
      "Increase the number of iterations (max_iter) or scale the data as shown in:\n",
      "    https://scikit-learn.org/stable/modules/preprocessing.html\n",
      "  self.n_iter_ = _check_optimize_result(\"lbfgs\", opt_res, self.max_iter)\n"
     ]
    },
    {
     "name": "stdout",
     "output_type": "stream",
     "text": [
      "[CV] END activation=identity, alpha=0.0001, early_stopping=True, learning_rate=constant, learning_rate_init=0.0001, max_iter=5, n_iter_no_change=5, power_t=0.001, solver=lbfgs; total time=  18.8s\n"
     ]
    },
    {
     "name": "stderr",
     "output_type": "stream",
     "text": [
      "/Users/sebastianlopez/miniconda3/envs/maestriamatching/lib/python3.10/site-packages/sklearn/neural_network/_multilayer_perceptron.py:691: ConvergenceWarning: Stochastic Optimizer: Maximum iterations (5) reached and the optimization hasn't converged yet.\n",
      "  warnings.warn(\n"
     ]
    },
    {
     "name": "stdout",
     "output_type": "stream",
     "text": [
      "[CV] END activation=identity, alpha=0.0001, early_stopping=True, learning_rate=constant, learning_rate_init=0.0001, max_iter=5, n_iter_no_change=5, power_t=0.001, solver=sgd; total time=  15.1s\n"
     ]
    },
    {
     "name": "stderr",
     "output_type": "stream",
     "text": [
      "/Users/sebastianlopez/miniconda3/envs/maestriamatching/lib/python3.10/site-packages/sklearn/neural_network/_multilayer_perceptron.py:691: ConvergenceWarning: Stochastic Optimizer: Maximum iterations (5) reached and the optimization hasn't converged yet.\n",
      "  warnings.warn(\n",
      "/Users/sebastianlopez/miniconda3/envs/maestriamatching/lib/python3.10/site-packages/sklearn/neural_network/_multilayer_perceptron.py:691: ConvergenceWarning: Stochastic Optimizer: Maximum iterations (5) reached and the optimization hasn't converged yet.\n",
      "  warnings.warn(\n"
     ]
    },
    {
     "name": "stdout",
     "output_type": "stream",
     "text": [
      "[CV] END activation=identity, alpha=0.0001, early_stopping=True, learning_rate=constant, learning_rate_init=0.0001, max_iter=5, n_iter_no_change=5, power_t=0.001, solver=sgd; total time=  15.4s\n",
      "[CV] END activation=identity, alpha=0.0001, early_stopping=True, learning_rate=constant, learning_rate_init=0.0001, max_iter=5, n_iter_no_change=5, power_t=0.001, solver=sgd; total time=  15.3s\n"
     ]
    },
    {
     "name": "stderr",
     "output_type": "stream",
     "text": [
      "/Users/sebastianlopez/miniconda3/envs/maestriamatching/lib/python3.10/site-packages/sklearn/neural_network/_multilayer_perceptron.py:546: ConvergenceWarning: lbfgs failed to converge (status=1):\n",
      "STOP: TOTAL NO. of ITERATIONS REACHED LIMIT.\n",
      "\n",
      "Increase the number of iterations (max_iter) or scale the data as shown in:\n",
      "    https://scikit-learn.org/stable/modules/preprocessing.html\n",
      "  self.n_iter_ = _check_optimize_result(\"lbfgs\", opt_res, self.max_iter)\n"
     ]
    },
    {
     "name": "stdout",
     "output_type": "stream",
     "text": [
      "[CV] END activation=identity, alpha=0.0001, early_stopping=True, learning_rate=constant, learning_rate_init=0.0001, max_iter=5, n_iter_no_change=5, power_t=0.001, solver=lbfgs; total time=  21.0s\n"
     ]
    },
    {
     "name": "stderr",
     "output_type": "stream",
     "text": [
      "/Users/sebastianlopez/miniconda3/envs/maestriamatching/lib/python3.10/site-packages/sklearn/neural_network/_multilayer_perceptron.py:546: ConvergenceWarning: lbfgs failed to converge (status=1):\n",
      "STOP: TOTAL NO. of ITERATIONS REACHED LIMIT.\n",
      "\n",
      "Increase the number of iterations (max_iter) or scale the data as shown in:\n",
      "    https://scikit-learn.org/stable/modules/preprocessing.html\n",
      "  self.n_iter_ = _check_optimize_result(\"lbfgs\", opt_res, self.max_iter)\n"
     ]
    },
    {
     "name": "stdout",
     "output_type": "stream",
     "text": [
      "[CV] END activation=identity, alpha=0.0001, early_stopping=True, learning_rate=constant, learning_rate_init=0.0001, max_iter=5, n_iter_no_change=5, power_t=0.001, solver=lbfgs; total time=  22.6s\n"
     ]
    },
    {
     "name": "stderr",
     "output_type": "stream",
     "text": [
      "/Users/sebastianlopez/miniconda3/envs/maestriamatching/lib/python3.10/site-packages/sklearn/neural_network/_multilayer_perceptron.py:691: ConvergenceWarning: Stochastic Optimizer: Maximum iterations (5) reached and the optimization hasn't converged yet.\n",
      "  warnings.warn(\n",
      "/Users/sebastianlopez/miniconda3/envs/maestriamatching/lib/python3.10/site-packages/sklearn/neural_network/_multilayer_perceptron.py:691: ConvergenceWarning: Stochastic Optimizer: Maximum iterations (5) reached and the optimization hasn't converged yet.\n",
      "  warnings.warn(\n"
     ]
    },
    {
     "name": "stdout",
     "output_type": "stream",
     "text": [
      "[CV] END activation=identity, alpha=0.0001, early_stopping=True, learning_rate=constant, learning_rate_init=0.0001, max_iter=5, n_iter_no_change=5, power_t=0.001, solver=adam; total time=  17.5s\n",
      "[CV] END activation=identity, alpha=0.0001, early_stopping=True, learning_rate=constant, learning_rate_init=0.0001, max_iter=5, n_iter_no_change=5, power_t=0.001, solver=adam; total time=  17.3s\n"
     ]
    },
    {
     "name": "stderr",
     "output_type": "stream",
     "text": [
      "/Users/sebastianlopez/miniconda3/envs/maestriamatching/lib/python3.10/site-packages/sklearn/neural_network/_multilayer_perceptron.py:691: ConvergenceWarning: Stochastic Optimizer: Maximum iterations (5) reached and the optimization hasn't converged yet.\n",
      "  warnings.warn(\n"
     ]
    },
    {
     "name": "stdout",
     "output_type": "stream",
     "text": [
      "[CV] END activation=identity, alpha=0.0001, early_stopping=True, learning_rate=constant, learning_rate_init=0.0001, max_iter=5, n_iter_no_change=5, power_t=0.001, solver=adam; total time=  17.9s\n"
     ]
    },
    {
     "name": "stderr",
     "output_type": "stream",
     "text": [
      "/Users/sebastianlopez/miniconda3/envs/maestriamatching/lib/python3.10/site-packages/sklearn/neural_network/_multilayer_perceptron.py:546: ConvergenceWarning: lbfgs failed to converge (status=1):\n",
      "STOP: TOTAL NO. of ITERATIONS REACHED LIMIT.\n",
      "\n",
      "Increase the number of iterations (max_iter) or scale the data as shown in:\n",
      "    https://scikit-learn.org/stable/modules/preprocessing.html\n",
      "  self.n_iter_ = _check_optimize_result(\"lbfgs\", opt_res, self.max_iter)\n"
     ]
    },
    {
     "name": "stdout",
     "output_type": "stream",
     "text": [
      "[CV] END activation=identity, alpha=0.0001, early_stopping=True, learning_rate=constant, learning_rate_init=0.0001, max_iter=5, n_iter_no_change=5, power_t=0.005, solver=lbfgs; total time=  19.2s\n"
     ]
    },
    {
     "name": "stderr",
     "output_type": "stream",
     "text": [
      "/Users/sebastianlopez/miniconda3/envs/maestriamatching/lib/python3.10/site-packages/sklearn/neural_network/_multilayer_perceptron.py:691: ConvergenceWarning: Stochastic Optimizer: Maximum iterations (5) reached and the optimization hasn't converged yet.\n",
      "  warnings.warn(\n",
      "/Users/sebastianlopez/miniconda3/envs/maestriamatching/lib/python3.10/site-packages/sklearn/neural_network/_multilayer_perceptron.py:546: ConvergenceWarning: lbfgs failed to converge (status=1):\n",
      "STOP: TOTAL NO. of ITERATIONS REACHED LIMIT.\n",
      "\n",
      "Increase the number of iterations (max_iter) or scale the data as shown in:\n",
      "    https://scikit-learn.org/stable/modules/preprocessing.html\n",
      "  self.n_iter_ = _check_optimize_result(\"lbfgs\", opt_res, self.max_iter)\n"
     ]
    },
    {
     "name": "stdout",
     "output_type": "stream",
     "text": [
      "[CV] END activation=identity, alpha=0.0001, early_stopping=True, learning_rate=constant, learning_rate_init=0.0001, max_iter=5, n_iter_no_change=5, power_t=0.005, solver=sgd; total time=  17.0s\n"
     ]
    },
    {
     "name": "stderr",
     "output_type": "stream",
     "text": [
      "/Users/sebastianlopez/miniconda3/envs/maestriamatching/lib/python3.10/site-packages/sklearn/neural_network/_multilayer_perceptron.py:691: ConvergenceWarning: Stochastic Optimizer: Maximum iterations (5) reached and the optimization hasn't converged yet.\n",
      "  warnings.warn(\n",
      "/Users/sebastianlopez/miniconda3/envs/maestriamatching/lib/python3.10/site-packages/sklearn/neural_network/_multilayer_perceptron.py:546: ConvergenceWarning: lbfgs failed to converge (status=1):\n",
      "STOP: TOTAL NO. of ITERATIONS REACHED LIMIT.\n",
      "\n",
      "Increase the number of iterations (max_iter) or scale the data as shown in:\n",
      "    https://scikit-learn.org/stable/modules/preprocessing.html\n",
      "  self.n_iter_ = _check_optimize_result(\"lbfgs\", opt_res, self.max_iter)\n",
      "/Users/sebastianlopez/miniconda3/envs/maestriamatching/lib/python3.10/site-packages/sklearn/neural_network/_multilayer_perceptron.py:691: ConvergenceWarning: Stochastic Optimizer: Maximum iterations (5) reached and the optimization hasn't converged yet.\n",
      "  warnings.warn(\n"
     ]
    },
    {
     "name": "stdout",
     "output_type": "stream",
     "text": [
      "[CV] END activation=identity, alpha=0.0001, early_stopping=True, learning_rate=constant, learning_rate_init=0.0001, max_iter=5, n_iter_no_change=5, power_t=0.005, solver=lbfgs; total time=  19.2s\n",
      "[CV] END activation=identity, alpha=0.0001, early_stopping=True, learning_rate=constant, learning_rate_init=0.0001, max_iter=5, n_iter_no_change=5, power_t=0.005, solver=sgd; total time=  17.5s\n",
      "[CV] END activation=identity, alpha=0.0001, early_stopping=True, learning_rate=constant, learning_rate_init=0.0001, max_iter=5, n_iter_no_change=5, power_t=0.005, solver=lbfgs; total time=  19.1s\n",
      "[CV] END activation=identity, alpha=0.0001, early_stopping=True, learning_rate=constant, learning_rate_init=0.0001, max_iter=5, n_iter_no_change=5, power_t=0.005, solver=sgd; total time=  17.1s\n"
     ]
    },
    {
     "name": "stderr",
     "output_type": "stream",
     "text": [
      "/Users/sebastianlopez/miniconda3/envs/maestriamatching/lib/python3.10/site-packages/sklearn/neural_network/_multilayer_perceptron.py:691: ConvergenceWarning: Stochastic Optimizer: Maximum iterations (5) reached and the optimization hasn't converged yet.\n",
      "  warnings.warn(\n"
     ]
    },
    {
     "name": "stdout",
     "output_type": "stream",
     "text": [
      "[CV] END activation=identity, alpha=0.0001, early_stopping=True, learning_rate=constant, learning_rate_init=0.0001, max_iter=5, n_iter_no_change=5, power_t=0.005, solver=adam; total time=  18.3s\n"
     ]
    },
    {
     "name": "stderr",
     "output_type": "stream",
     "text": [
      "/Users/sebastianlopez/miniconda3/envs/maestriamatching/lib/python3.10/site-packages/sklearn/neural_network/_multilayer_perceptron.py:691: ConvergenceWarning: Stochastic Optimizer: Maximum iterations (5) reached and the optimization hasn't converged yet.\n",
      "  warnings.warn(\n"
     ]
    },
    {
     "name": "stdout",
     "output_type": "stream",
     "text": [
      "[CV] END activation=identity, alpha=0.0001, early_stopping=True, learning_rate=constant, learning_rate_init=0.0001, max_iter=5, n_iter_no_change=5, power_t=0.005, solver=adam; total time=  18.1s\n"
     ]
    },
    {
     "name": "stderr",
     "output_type": "stream",
     "text": [
      "/Users/sebastianlopez/miniconda3/envs/maestriamatching/lib/python3.10/site-packages/sklearn/neural_network/_multilayer_perceptron.py:691: ConvergenceWarning: Stochastic Optimizer: Maximum iterations (5) reached and the optimization hasn't converged yet.\n",
      "  warnings.warn(\n"
     ]
    },
    {
     "name": "stdout",
     "output_type": "stream",
     "text": [
      "[CV] END activation=identity, alpha=0.0001, early_stopping=True, learning_rate=constant, learning_rate_init=0.0001, max_iter=5, n_iter_no_change=5, power_t=0.005, solver=adam; total time=  17.2s\n"
     ]
    },
    {
     "name": "stderr",
     "output_type": "stream",
     "text": [
      "/Users/sebastianlopez/miniconda3/envs/maestriamatching/lib/python3.10/site-packages/sklearn/neural_network/_multilayer_perceptron.py:546: ConvergenceWarning: lbfgs failed to converge (status=1):\n",
      "STOP: TOTAL NO. of ITERATIONS REACHED LIMIT.\n",
      "\n",
      "Increase the number of iterations (max_iter) or scale the data as shown in:\n",
      "    https://scikit-learn.org/stable/modules/preprocessing.html\n",
      "  self.n_iter_ = _check_optimize_result(\"lbfgs\", opt_res, self.max_iter)\n"
     ]
    },
    {
     "name": "stdout",
     "output_type": "stream",
     "text": [
      "[CV] END activation=identity, alpha=0.0001, early_stopping=True, learning_rate=constant, learning_rate_init=0.0001, max_iter=10, n_iter_no_change=5, power_t=0.5, solver=lbfgs; total time=  32.3s\n"
     ]
    },
    {
     "name": "stderr",
     "output_type": "stream",
     "text": [
      "/Users/sebastianlopez/miniconda3/envs/maestriamatching/lib/python3.10/site-packages/sklearn/neural_network/_multilayer_perceptron.py:691: ConvergenceWarning: Stochastic Optimizer: Maximum iterations (10) reached and the optimization hasn't converged yet.\n",
      "  warnings.warn(\n",
      "/Users/sebastianlopez/miniconda3/envs/maestriamatching/lib/python3.10/site-packages/sklearn/neural_network/_multilayer_perceptron.py:691: ConvergenceWarning: Stochastic Optimizer: Maximum iterations (10) reached and the optimization hasn't converged yet.\n",
      "  warnings.warn(\n"
     ]
    },
    {
     "name": "stdout",
     "output_type": "stream",
     "text": [
      "[CV] END activation=identity, alpha=0.0001, early_stopping=True, learning_rate=constant, learning_rate_init=0.0001, max_iter=10, n_iter_no_change=5, power_t=0.5, solver=sgd; total time=  28.1s\n"
     ]
    },
    {
     "name": "stderr",
     "output_type": "stream",
     "text": [
      "/Users/sebastianlopez/miniconda3/envs/maestriamatching/lib/python3.10/site-packages/sklearn/neural_network/_multilayer_perceptron.py:546: ConvergenceWarning: lbfgs failed to converge (status=1):\n",
      "STOP: TOTAL NO. of ITERATIONS REACHED LIMIT.\n",
      "\n",
      "Increase the number of iterations (max_iter) or scale the data as shown in:\n",
      "    https://scikit-learn.org/stable/modules/preprocessing.html\n",
      "  self.n_iter_ = _check_optimize_result(\"lbfgs\", opt_res, self.max_iter)\n"
     ]
    },
    {
     "name": "stdout",
     "output_type": "stream",
     "text": [
      "[CV] END activation=identity, alpha=0.0001, early_stopping=True, learning_rate=constant, learning_rate_init=0.0001, max_iter=10, n_iter_no_change=5, power_t=0.5, solver=sgd; total time=  27.8s\n",
      "[CV] END activation=identity, alpha=0.0001, early_stopping=True, learning_rate=constant, learning_rate_init=0.0001, max_iter=10, n_iter_no_change=5, power_t=0.5, solver=lbfgs; total time=  30.5s\n"
     ]
    },
    {
     "name": "stderr",
     "output_type": "stream",
     "text": [
      "/Users/sebastianlopez/miniconda3/envs/maestriamatching/lib/python3.10/site-packages/sklearn/neural_network/_multilayer_perceptron.py:691: ConvergenceWarning: Stochastic Optimizer: Maximum iterations (10) reached and the optimization hasn't converged yet.\n",
      "  warnings.warn(\n"
     ]
    },
    {
     "name": "stdout",
     "output_type": "stream",
     "text": [
      "[CV] END activation=identity, alpha=0.0001, early_stopping=True, learning_rate=constant, learning_rate_init=0.0001, max_iter=10, n_iter_no_change=5, power_t=0.5, solver=sgd; total time=  28.1s\n"
     ]
    },
    {
     "name": "stderr",
     "output_type": "stream",
     "text": [
      "/Users/sebastianlopez/miniconda3/envs/maestriamatching/lib/python3.10/site-packages/sklearn/neural_network/_multilayer_perceptron.py:691: ConvergenceWarning: Stochastic Optimizer: Maximum iterations (10) reached and the optimization hasn't converged yet.\n",
      "  warnings.warn(\n",
      "/Users/sebastianlopez/miniconda3/envs/maestriamatching/lib/python3.10/site-packages/sklearn/neural_network/_multilayer_perceptron.py:691: ConvergenceWarning: Stochastic Optimizer: Maximum iterations (10) reached and the optimization hasn't converged yet.\n",
      "  warnings.warn(\n"
     ]
    },
    {
     "name": "stdout",
     "output_type": "stream",
     "text": [
      "[CV] END activation=identity, alpha=0.0001, early_stopping=True, learning_rate=constant, learning_rate_init=0.0001, max_iter=10, n_iter_no_change=5, power_t=0.5, solver=adam; total time=  29.8s\n",
      "[CV] END activation=identity, alpha=0.0001, early_stopping=True, learning_rate=constant, learning_rate_init=0.0001, max_iter=10, n_iter_no_change=5, power_t=0.5, solver=adam; total time=  30.2s\n"
     ]
    },
    {
     "name": "stderr",
     "output_type": "stream",
     "text": [
      "/Users/sebastianlopez/miniconda3/envs/maestriamatching/lib/python3.10/site-packages/sklearn/neural_network/_multilayer_perceptron.py:546: ConvergenceWarning: lbfgs failed to converge (status=1):\n",
      "STOP: TOTAL NO. of ITERATIONS REACHED LIMIT.\n",
      "\n",
      "Increase the number of iterations (max_iter) or scale the data as shown in:\n",
      "    https://scikit-learn.org/stable/modules/preprocessing.html\n",
      "  self.n_iter_ = _check_optimize_result(\"lbfgs\", opt_res, self.max_iter)\n"
     ]
    },
    {
     "name": "stdout",
     "output_type": "stream",
     "text": [
      "[CV] END activation=identity, alpha=0.0001, early_stopping=True, learning_rate=constant, learning_rate_init=0.0001, max_iter=10, n_iter_no_change=5, power_t=0.5, solver=lbfgs; total time=  32.8s\n"
     ]
    },
    {
     "name": "stderr",
     "output_type": "stream",
     "text": [
      "/Users/sebastianlopez/miniconda3/envs/maestriamatching/lib/python3.10/site-packages/sklearn/neural_network/_multilayer_perceptron.py:691: ConvergenceWarning: Stochastic Optimizer: Maximum iterations (10) reached and the optimization hasn't converged yet.\n",
      "  warnings.warn(\n"
     ]
    },
    {
     "name": "stdout",
     "output_type": "stream",
     "text": [
      "[CV] END activation=identity, alpha=0.0001, early_stopping=True, learning_rate=constant, learning_rate_init=0.0001, max_iter=10, n_iter_no_change=5, power_t=0.5, solver=adam; total time=  30.3s\n"
     ]
    },
    {
     "name": "stderr",
     "output_type": "stream",
     "text": [
      "/Users/sebastianlopez/miniconda3/envs/maestriamatching/lib/python3.10/site-packages/sklearn/neural_network/_multilayer_perceptron.py:546: ConvergenceWarning: lbfgs failed to converge (status=1):\n",
      "STOP: TOTAL NO. of ITERATIONS REACHED LIMIT.\n",
      "\n",
      "Increase the number of iterations (max_iter) or scale the data as shown in:\n",
      "    https://scikit-learn.org/stable/modules/preprocessing.html\n",
      "  self.n_iter_ = _check_optimize_result(\"lbfgs\", opt_res, self.max_iter)\n"
     ]
    },
    {
     "name": "stdout",
     "output_type": "stream",
     "text": [
      "[CV] END activation=identity, alpha=0.0001, early_stopping=True, learning_rate=constant, learning_rate_init=0.0001, max_iter=10, n_iter_no_change=5, power_t=0.1, solver=lbfgs; total time=  29.4s\n"
     ]
    },
    {
     "name": "stderr",
     "output_type": "stream",
     "text": [
      "/Users/sebastianlopez/miniconda3/envs/maestriamatching/lib/python3.10/site-packages/sklearn/neural_network/_multilayer_perceptron.py:546: ConvergenceWarning: lbfgs failed to converge (status=1):\n",
      "STOP: TOTAL NO. of ITERATIONS REACHED LIMIT.\n",
      "\n",
      "Increase the number of iterations (max_iter) or scale the data as shown in:\n",
      "    https://scikit-learn.org/stable/modules/preprocessing.html\n",
      "  self.n_iter_ = _check_optimize_result(\"lbfgs\", opt_res, self.max_iter)\n"
     ]
    },
    {
     "name": "stdout",
     "output_type": "stream",
     "text": [
      "[CV] END activation=identity, alpha=0.0001, early_stopping=True, learning_rate=constant, learning_rate_init=0.0001, max_iter=10, n_iter_no_change=5, power_t=0.1, solver=lbfgs; total time=  31.8s\n"
     ]
    },
    {
     "name": "stderr",
     "output_type": "stream",
     "text": [
      "/Users/sebastianlopez/miniconda3/envs/maestriamatching/lib/python3.10/site-packages/sklearn/neural_network/_multilayer_perceptron.py:691: ConvergenceWarning: Stochastic Optimizer: Maximum iterations (10) reached and the optimization hasn't converged yet.\n",
      "  warnings.warn(\n",
      "/Users/sebastianlopez/miniconda3/envs/maestriamatching/lib/python3.10/site-packages/sklearn/neural_network/_multilayer_perceptron.py:691: ConvergenceWarning: Stochastic Optimizer: Maximum iterations (10) reached and the optimization hasn't converged yet.\n",
      "  warnings.warn(\n",
      "/Users/sebastianlopez/miniconda3/envs/maestriamatching/lib/python3.10/site-packages/sklearn/neural_network/_multilayer_perceptron.py:691: ConvergenceWarning: Stochastic Optimizer: Maximum iterations (10) reached and the optimization hasn't converged yet.\n",
      "  warnings.warn(\n"
     ]
    },
    {
     "name": "stdout",
     "output_type": "stream",
     "text": [
      "[CV] END activation=identity, alpha=0.0001, early_stopping=True, learning_rate=constant, learning_rate_init=0.0001, max_iter=10, n_iter_no_change=5, power_t=0.1, solver=sgd; total time=  26.9s\n",
      "[CV] END activation=identity, alpha=0.0001, early_stopping=True, learning_rate=constant, learning_rate_init=0.0001, max_iter=10, n_iter_no_change=5, power_t=0.1, solver=sgd; total time=  26.7s\n",
      "[CV] END activation=identity, alpha=0.0001, early_stopping=True, learning_rate=constant, learning_rate_init=0.0001, max_iter=10, n_iter_no_change=5, power_t=0.1, solver=sgd; total time=  26.8s\n"
     ]
    },
    {
     "name": "stderr",
     "output_type": "stream",
     "text": [
      "/Users/sebastianlopez/miniconda3/envs/maestriamatching/lib/python3.10/site-packages/sklearn/neural_network/_multilayer_perceptron.py:546: ConvergenceWarning: lbfgs failed to converge (status=1):\n",
      "STOP: TOTAL NO. of ITERATIONS REACHED LIMIT.\n",
      "\n",
      "Increase the number of iterations (max_iter) or scale the data as shown in:\n",
      "    https://scikit-learn.org/stable/modules/preprocessing.html\n",
      "  self.n_iter_ = _check_optimize_result(\"lbfgs\", opt_res, self.max_iter)\n"
     ]
    },
    {
     "name": "stdout",
     "output_type": "stream",
     "text": [
      "[CV] END activation=identity, alpha=0.0001, early_stopping=True, learning_rate=constant, learning_rate_init=0.0001, max_iter=10, n_iter_no_change=5, power_t=0.1, solver=lbfgs; total time=  29.1s\n"
     ]
    },
    {
     "name": "stderr",
     "output_type": "stream",
     "text": [
      "/Users/sebastianlopez/miniconda3/envs/maestriamatching/lib/python3.10/site-packages/sklearn/neural_network/_multilayer_perceptron.py:691: ConvergenceWarning: Stochastic Optimizer: Maximum iterations (10) reached and the optimization hasn't converged yet.\n",
      "  warnings.warn(\n"
     ]
    },
    {
     "name": "stdout",
     "output_type": "stream",
     "text": [
      "[CV] END activation=identity, alpha=0.0001, early_stopping=True, learning_rate=constant, learning_rate_init=0.0001, max_iter=10, n_iter_no_change=5, power_t=0.1, solver=adam; total time=  29.4s\n"
     ]
    },
    {
     "name": "stderr",
     "output_type": "stream",
     "text": [
      "/Users/sebastianlopez/miniconda3/envs/maestriamatching/lib/python3.10/site-packages/sklearn/neural_network/_multilayer_perceptron.py:691: ConvergenceWarning: Stochastic Optimizer: Maximum iterations (10) reached and the optimization hasn't converged yet.\n",
      "  warnings.warn(\n",
      "/Users/sebastianlopez/miniconda3/envs/maestriamatching/lib/python3.10/site-packages/sklearn/neural_network/_multilayer_perceptron.py:691: ConvergenceWarning: Stochastic Optimizer: Maximum iterations (10) reached and the optimization hasn't converged yet.\n",
      "  warnings.warn(\n"
     ]
    },
    {
     "name": "stdout",
     "output_type": "stream",
     "text": [
      "[CV] END activation=identity, alpha=0.0001, early_stopping=True, learning_rate=constant, learning_rate_init=0.0001, max_iter=10, n_iter_no_change=5, power_t=0.1, solver=adam; total time=  29.0s\n",
      "[CV] END activation=identity, alpha=0.0001, early_stopping=True, learning_rate=constant, learning_rate_init=0.0001, max_iter=10, n_iter_no_change=5, power_t=0.1, solver=adam; total time=  29.0s\n"
     ]
    },
    {
     "name": "stderr",
     "output_type": "stream",
     "text": [
      "/Users/sebastianlopez/miniconda3/envs/maestriamatching/lib/python3.10/site-packages/sklearn/neural_network/_multilayer_perceptron.py:546: ConvergenceWarning: lbfgs failed to converge (status=1):\n",
      "STOP: TOTAL NO. of ITERATIONS REACHED LIMIT.\n",
      "\n",
      "Increase the number of iterations (max_iter) or scale the data as shown in:\n",
      "    https://scikit-learn.org/stable/modules/preprocessing.html\n",
      "  self.n_iter_ = _check_optimize_result(\"lbfgs\", opt_res, self.max_iter)\n"
     ]
    },
    {
     "name": "stdout",
     "output_type": "stream",
     "text": [
      "[CV] END activation=identity, alpha=0.0001, early_stopping=True, learning_rate=constant, learning_rate_init=0.0001, max_iter=10, n_iter_no_change=5, power_t=0.9, solver=lbfgs; total time=  28.7s\n"
     ]
    },
    {
     "name": "stderr",
     "output_type": "stream",
     "text": [
      "/Users/sebastianlopez/miniconda3/envs/maestriamatching/lib/python3.10/site-packages/sklearn/neural_network/_multilayer_perceptron.py:546: ConvergenceWarning: lbfgs failed to converge (status=1):\n",
      "STOP: TOTAL NO. of ITERATIONS REACHED LIMIT.\n",
      "\n",
      "Increase the number of iterations (max_iter) or scale the data as shown in:\n",
      "    https://scikit-learn.org/stable/modules/preprocessing.html\n",
      "  self.n_iter_ = _check_optimize_result(\"lbfgs\", opt_res, self.max_iter)\n"
     ]
    },
    {
     "name": "stdout",
     "output_type": "stream",
     "text": [
      "[CV] END activation=identity, alpha=0.0001, early_stopping=True, learning_rate=constant, learning_rate_init=0.0001, max_iter=10, n_iter_no_change=5, power_t=0.9, solver=lbfgs; total time=  26.6s\n"
     ]
    },
    {
     "name": "stderr",
     "output_type": "stream",
     "text": [
      "/Users/sebastianlopez/miniconda3/envs/maestriamatching/lib/python3.10/site-packages/sklearn/neural_network/_multilayer_perceptron.py:546: ConvergenceWarning: lbfgs failed to converge (status=1):\n",
      "STOP: TOTAL NO. of ITERATIONS REACHED LIMIT.\n",
      "\n",
      "Increase the number of iterations (max_iter) or scale the data as shown in:\n",
      "    https://scikit-learn.org/stable/modules/preprocessing.html\n",
      "  self.n_iter_ = _check_optimize_result(\"lbfgs\", opt_res, self.max_iter)\n"
     ]
    },
    {
     "name": "stdout",
     "output_type": "stream",
     "text": [
      "[CV] END activation=identity, alpha=0.0001, early_stopping=True, learning_rate=constant, learning_rate_init=0.0001, max_iter=10, n_iter_no_change=5, power_t=0.9, solver=lbfgs; total time=  34.1s\n"
     ]
    },
    {
     "name": "stderr",
     "output_type": "stream",
     "text": [
      "/Users/sebastianlopez/miniconda3/envs/maestriamatching/lib/python3.10/site-packages/sklearn/neural_network/_multilayer_perceptron.py:691: ConvergenceWarning: Stochastic Optimizer: Maximum iterations (10) reached and the optimization hasn't converged yet.\n",
      "  warnings.warn(\n"
     ]
    },
    {
     "name": "stdout",
     "output_type": "stream",
     "text": [
      "[CV] END activation=identity, alpha=0.0001, early_stopping=True, learning_rate=constant, learning_rate_init=0.0001, max_iter=10, n_iter_no_change=5, power_t=0.9, solver=sgd; total time=  28.8s\n"
     ]
    },
    {
     "name": "stderr",
     "output_type": "stream",
     "text": [
      "/Users/sebastianlopez/miniconda3/envs/maestriamatching/lib/python3.10/site-packages/sklearn/neural_network/_multilayer_perceptron.py:691: ConvergenceWarning: Stochastic Optimizer: Maximum iterations (10) reached and the optimization hasn't converged yet.\n",
      "  warnings.warn(\n",
      "/Users/sebastianlopez/miniconda3/envs/maestriamatching/lib/python3.10/site-packages/sklearn/neural_network/_multilayer_perceptron.py:691: ConvergenceWarning: Stochastic Optimizer: Maximum iterations (10) reached and the optimization hasn't converged yet.\n",
      "  warnings.warn(\n"
     ]
    },
    {
     "name": "stdout",
     "output_type": "stream",
     "text": [
      "[CV] END activation=identity, alpha=0.0001, early_stopping=True, learning_rate=constant, learning_rate_init=0.0001, max_iter=10, n_iter_no_change=5, power_t=0.9, solver=sgd; total time=  30.1s\n",
      "[CV] END activation=identity, alpha=0.0001, early_stopping=True, learning_rate=constant, learning_rate_init=0.0001, max_iter=10, n_iter_no_change=5, power_t=0.9, solver=sgd; total time=  30.0s\n"
     ]
    },
    {
     "name": "stderr",
     "output_type": "stream",
     "text": [
      "/Users/sebastianlopez/miniconda3/envs/maestriamatching/lib/python3.10/site-packages/sklearn/neural_network/_multilayer_perceptron.py:691: ConvergenceWarning: Stochastic Optimizer: Maximum iterations (10) reached and the optimization hasn't converged yet.\n",
      "  warnings.warn(\n"
     ]
    },
    {
     "name": "stdout",
     "output_type": "stream",
     "text": [
      "[CV] END activation=identity, alpha=0.0001, early_stopping=True, learning_rate=constant, learning_rate_init=0.0001, max_iter=10, n_iter_no_change=5, power_t=0.9, solver=adam; total time=  32.4s\n"
     ]
    },
    {
     "name": "stderr",
     "output_type": "stream",
     "text": [
      "/Users/sebastianlopez/miniconda3/envs/maestriamatching/lib/python3.10/site-packages/sklearn/neural_network/_multilayer_perceptron.py:691: ConvergenceWarning: Stochastic Optimizer: Maximum iterations (10) reached and the optimization hasn't converged yet.\n",
      "  warnings.warn(\n"
     ]
    },
    {
     "name": "stdout",
     "output_type": "stream",
     "text": [
      "[CV] END activation=identity, alpha=0.0001, early_stopping=True, learning_rate=constant, learning_rate_init=0.0001, max_iter=10, n_iter_no_change=5, power_t=0.9, solver=adam; total time=  32.9s\n"
     ]
    },
    {
     "name": "stderr",
     "output_type": "stream",
     "text": [
      "/Users/sebastianlopez/miniconda3/envs/maestriamatching/lib/python3.10/site-packages/sklearn/neural_network/_multilayer_perceptron.py:691: ConvergenceWarning: Stochastic Optimizer: Maximum iterations (10) reached and the optimization hasn't converged yet.\n",
      "  warnings.warn(\n",
      "/Users/sebastianlopez/miniconda3/envs/maestriamatching/lib/python3.10/site-packages/sklearn/neural_network/_multilayer_perceptron.py:546: ConvergenceWarning: lbfgs failed to converge (status=1):\n",
      "STOP: TOTAL NO. of ITERATIONS REACHED LIMIT.\n",
      "\n",
      "Increase the number of iterations (max_iter) or scale the data as shown in:\n",
      "    https://scikit-learn.org/stable/modules/preprocessing.html\n",
      "  self.n_iter_ = _check_optimize_result(\"lbfgs\", opt_res, self.max_iter)\n"
     ]
    },
    {
     "name": "stdout",
     "output_type": "stream",
     "text": [
      "[CV] END activation=identity, alpha=0.0001, early_stopping=True, learning_rate=constant, learning_rate_init=0.0001, max_iter=10, n_iter_no_change=5, power_t=0.9, solver=adam; total time=  33.2s\n",
      "[CV] END activation=identity, alpha=0.0001, early_stopping=True, learning_rate=constant, learning_rate_init=0.0001, max_iter=10, n_iter_no_change=5, power_t=0.001, solver=lbfgs; total time=  31.6s\n"
     ]
    },
    {
     "name": "stderr",
     "output_type": "stream",
     "text": [
      "/Users/sebastianlopez/miniconda3/envs/maestriamatching/lib/python3.10/site-packages/sklearn/neural_network/_multilayer_perceptron.py:546: ConvergenceWarning: lbfgs failed to converge (status=1):\n",
      "STOP: TOTAL NO. of ITERATIONS REACHED LIMIT.\n",
      "\n",
      "Increase the number of iterations (max_iter) or scale the data as shown in:\n",
      "    https://scikit-learn.org/stable/modules/preprocessing.html\n",
      "  self.n_iter_ = _check_optimize_result(\"lbfgs\", opt_res, self.max_iter)\n"
     ]
    },
    {
     "name": "stdout",
     "output_type": "stream",
     "text": [
      "[CV] END activation=identity, alpha=0.0001, early_stopping=True, learning_rate=constant, learning_rate_init=0.0001, max_iter=10, n_iter_no_change=5, power_t=0.001, solver=lbfgs; total time=  31.6s\n"
     ]
    },
    {
     "name": "stderr",
     "output_type": "stream",
     "text": [
      "/Users/sebastianlopez/miniconda3/envs/maestriamatching/lib/python3.10/site-packages/sklearn/neural_network/_multilayer_perceptron.py:691: ConvergenceWarning: Stochastic Optimizer: Maximum iterations (10) reached and the optimization hasn't converged yet.\n",
      "  warnings.warn(\n"
     ]
    },
    {
     "name": "stdout",
     "output_type": "stream",
     "text": [
      "[CV] END activation=identity, alpha=0.0001, early_stopping=True, learning_rate=constant, learning_rate_init=0.0001, max_iter=10, n_iter_no_change=5, power_t=0.001, solver=sgd; total time=  31.4s\n"
     ]
    },
    {
     "name": "stderr",
     "output_type": "stream",
     "text": [
      "/Users/sebastianlopez/miniconda3/envs/maestriamatching/lib/python3.10/site-packages/sklearn/neural_network/_multilayer_perceptron.py:691: ConvergenceWarning: Stochastic Optimizer: Maximum iterations (10) reached and the optimization hasn't converged yet.\n",
      "  warnings.warn(\n"
     ]
    },
    {
     "name": "stdout",
     "output_type": "stream",
     "text": [
      "[CV] END activation=identity, alpha=0.0001, early_stopping=True, learning_rate=constant, learning_rate_init=0.0001, max_iter=10, n_iter_no_change=5, power_t=0.001, solver=sgd; total time=  30.8s\n"
     ]
    },
    {
     "name": "stderr",
     "output_type": "stream",
     "text": [
      "/Users/sebastianlopez/miniconda3/envs/maestriamatching/lib/python3.10/site-packages/sklearn/neural_network/_multilayer_perceptron.py:546: ConvergenceWarning: lbfgs failed to converge (status=1):\n",
      "STOP: TOTAL NO. of ITERATIONS REACHED LIMIT.\n",
      "\n",
      "Increase the number of iterations (max_iter) or scale the data as shown in:\n",
      "    https://scikit-learn.org/stable/modules/preprocessing.html\n",
      "  self.n_iter_ = _check_optimize_result(\"lbfgs\", opt_res, self.max_iter)\n"
     ]
    },
    {
     "name": "stdout",
     "output_type": "stream",
     "text": [
      "[CV] END activation=identity, alpha=0.0001, early_stopping=True, learning_rate=constant, learning_rate_init=0.0001, max_iter=10, n_iter_no_change=5, power_t=0.001, solver=lbfgs; total time=  38.7s\n"
     ]
    },
    {
     "name": "stderr",
     "output_type": "stream",
     "text": [
      "/Users/sebastianlopez/miniconda3/envs/maestriamatching/lib/python3.10/site-packages/sklearn/neural_network/_multilayer_perceptron.py:691: ConvergenceWarning: Stochastic Optimizer: Maximum iterations (10) reached and the optimization hasn't converged yet.\n",
      "  warnings.warn(\n"
     ]
    },
    {
     "name": "stdout",
     "output_type": "stream",
     "text": [
      "[CV] END activation=identity, alpha=0.0001, early_stopping=True, learning_rate=constant, learning_rate_init=0.0001, max_iter=10, n_iter_no_change=5, power_t=0.001, solver=sgd; total time=  31.6s\n"
     ]
    },
    {
     "name": "stderr",
     "output_type": "stream",
     "text": [
      "/Users/sebastianlopez/miniconda3/envs/maestriamatching/lib/python3.10/site-packages/sklearn/neural_network/_multilayer_perceptron.py:546: ConvergenceWarning: lbfgs failed to converge (status=1):\n",
      "STOP: TOTAL NO. of ITERATIONS REACHED LIMIT.\n",
      "\n",
      "Increase the number of iterations (max_iter) or scale the data as shown in:\n",
      "    https://scikit-learn.org/stable/modules/preprocessing.html\n",
      "  self.n_iter_ = _check_optimize_result(\"lbfgs\", opt_res, self.max_iter)\n"
     ]
    },
    {
     "name": "stdout",
     "output_type": "stream",
     "text": [
      "[CV] END activation=identity, alpha=0.0001, early_stopping=True, learning_rate=constant, learning_rate_init=0.0001, max_iter=10, n_iter_no_change=5, power_t=0.005, solver=sgd; total time=  23.2s\n",
      "[CV] END activation=identity, alpha=0.0001, early_stopping=True, learning_rate=constant, learning_rate_init=0.0001, max_iter=10, n_iter_no_change=5, power_t=0.005, solver=lbfgs; total time=  29.0s\n"
     ]
    },
    {
     "name": "stderr",
     "output_type": "stream",
     "text": [
      "/Users/sebastianlopez/miniconda3/envs/maestriamatching/lib/python3.10/site-packages/sklearn/neural_network/_multilayer_perceptron.py:691: ConvergenceWarning: Stochastic Optimizer: Maximum iterations (10) reached and the optimization hasn't converged yet.\n",
      "  warnings.warn(\n",
      "/Users/sebastianlopez/miniconda3/envs/maestriamatching/lib/python3.10/site-packages/sklearn/neural_network/_multilayer_perceptron.py:691: ConvergenceWarning: Stochastic Optimizer: Maximum iterations (10) reached and the optimization hasn't converged yet.\n",
      "  warnings.warn(\n"
     ]
    },
    {
     "name": "stdout",
     "output_type": "stream",
     "text": [
      "[CV] END activation=identity, alpha=0.0001, early_stopping=True, learning_rate=constant, learning_rate_init=0.0001, max_iter=10, n_iter_no_change=5, power_t=0.001, solver=adam; total time=  35.3s\n",
      "[CV] END activation=identity, alpha=0.0001, early_stopping=True, learning_rate=constant, learning_rate_init=0.0001, max_iter=10, n_iter_no_change=5, power_t=0.001, solver=adam; total time=  35.4s\n"
     ]
    },
    {
     "name": "stderr",
     "output_type": "stream",
     "text": [
      "/Users/sebastianlopez/miniconda3/envs/maestriamatching/lib/python3.10/site-packages/sklearn/neural_network/_multilayer_perceptron.py:546: ConvergenceWarning: lbfgs failed to converge (status=1):\n",
      "STOP: TOTAL NO. of ITERATIONS REACHED LIMIT.\n",
      "\n",
      "Increase the number of iterations (max_iter) or scale the data as shown in:\n",
      "    https://scikit-learn.org/stable/modules/preprocessing.html\n",
      "  self.n_iter_ = _check_optimize_result(\"lbfgs\", opt_res, self.max_iter)\n",
      "/Users/sebastianlopez/miniconda3/envs/maestriamatching/lib/python3.10/site-packages/sklearn/neural_network/_multilayer_perceptron.py:691: ConvergenceWarning: Stochastic Optimizer: Maximum iterations (10) reached and the optimization hasn't converged yet.\n",
      "  warnings.warn(\n"
     ]
    },
    {
     "name": "stdout",
     "output_type": "stream",
     "text": [
      "[CV] END activation=identity, alpha=0.0001, early_stopping=True, learning_rate=constant, learning_rate_init=0.0001, max_iter=10, n_iter_no_change=5, power_t=0.005, solver=lbfgs; total time=  31.4s\n",
      "[CV] END activation=identity, alpha=0.0001, early_stopping=True, learning_rate=constant, learning_rate_init=0.0001, max_iter=10, n_iter_no_change=5, power_t=0.001, solver=adam; total time=  35.7s\n"
     ]
    },
    {
     "name": "stderr",
     "output_type": "stream",
     "text": [
      "/Users/sebastianlopez/miniconda3/envs/maestriamatching/lib/python3.10/site-packages/sklearn/neural_network/_multilayer_perceptron.py:546: ConvergenceWarning: lbfgs failed to converge (status=1):\n",
      "STOP: TOTAL NO. of ITERATIONS REACHED LIMIT.\n",
      "\n",
      "Increase the number of iterations (max_iter) or scale the data as shown in:\n",
      "    https://scikit-learn.org/stable/modules/preprocessing.html\n",
      "  self.n_iter_ = _check_optimize_result(\"lbfgs\", opt_res, self.max_iter)\n"
     ]
    },
    {
     "name": "stdout",
     "output_type": "stream",
     "text": [
      "[CV] END activation=identity, alpha=0.0001, early_stopping=True, learning_rate=constant, learning_rate_init=0.0001, max_iter=10, n_iter_no_change=5, power_t=0.005, solver=lbfgs; total time=  34.7s\n"
     ]
    },
    {
     "name": "stderr",
     "output_type": "stream",
     "text": [
      "/Users/sebastianlopez/miniconda3/envs/maestriamatching/lib/python3.10/site-packages/sklearn/neural_network/_multilayer_perceptron.py:691: ConvergenceWarning: Stochastic Optimizer: Maximum iterations (10) reached and the optimization hasn't converged yet.\n",
      "  warnings.warn(\n"
     ]
    },
    {
     "name": "stdout",
     "output_type": "stream",
     "text": [
      "[CV] END activation=identity, alpha=0.0001, early_stopping=True, learning_rate=constant, learning_rate_init=0.0001, max_iter=10, n_iter_no_change=5, power_t=0.005, solver=sgd; total time=  33.1s\n"
     ]
    },
    {
     "name": "stderr",
     "output_type": "stream",
     "text": [
      "/Users/sebastianlopez/miniconda3/envs/maestriamatching/lib/python3.10/site-packages/sklearn/neural_network/_multilayer_perceptron.py:691: ConvergenceWarning: Stochastic Optimizer: Maximum iterations (10) reached and the optimization hasn't converged yet.\n",
      "  warnings.warn(\n"
     ]
    },
    {
     "name": "stdout",
     "output_type": "stream",
     "text": [
      "[CV] END activation=identity, alpha=0.0001, early_stopping=True, learning_rate=constant, learning_rate_init=0.0001, max_iter=10, n_iter_no_change=5, power_t=0.005, solver=sgd; total time=  33.0s\n"
     ]
    },
    {
     "name": "stderr",
     "output_type": "stream",
     "text": [
      "/Users/sebastianlopez/miniconda3/envs/maestriamatching/lib/python3.10/site-packages/sklearn/neural_network/_multilayer_perceptron.py:691: ConvergenceWarning: Stochastic Optimizer: Maximum iterations (10) reached and the optimization hasn't converged yet.\n",
      "  warnings.warn(\n"
     ]
    },
    {
     "name": "stdout",
     "output_type": "stream",
     "text": [
      "[CV] END activation=identity, alpha=0.0001, early_stopping=True, learning_rate=constant, learning_rate_init=0.0001, max_iter=10, n_iter_no_change=5, power_t=0.005, solver=adam; total time=  35.6s\n"
     ]
    },
    {
     "name": "stderr",
     "output_type": "stream",
     "text": [
      "/Users/sebastianlopez/miniconda3/envs/maestriamatching/lib/python3.10/site-packages/sklearn/neural_network/_multilayer_perceptron.py:691: ConvergenceWarning: Stochastic Optimizer: Maximum iterations (10) reached and the optimization hasn't converged yet.\n",
      "  warnings.warn(\n"
     ]
    },
    {
     "name": "stdout",
     "output_type": "stream",
     "text": [
      "[CV] END activation=identity, alpha=0.0001, early_stopping=True, learning_rate=constant, learning_rate_init=0.0001, max_iter=10, n_iter_no_change=5, power_t=0.005, solver=adam; total time=  35.5s\n"
     ]
    },
    {
     "name": "stderr",
     "output_type": "stream",
     "text": [
      "/Users/sebastianlopez/miniconda3/envs/maestriamatching/lib/python3.10/site-packages/sklearn/neural_network/_multilayer_perceptron.py:691: ConvergenceWarning: Stochastic Optimizer: Maximum iterations (10) reached and the optimization hasn't converged yet.\n",
      "  warnings.warn(\n"
     ]
    },
    {
     "name": "stdout",
     "output_type": "stream",
     "text": [
      "[CV] END activation=identity, alpha=0.0001, early_stopping=True, learning_rate=constant, learning_rate_init=0.0001, max_iter=10, n_iter_no_change=5, power_t=0.005, solver=adam; total time=  35.7s\n"
     ]
    },
    {
     "name": "stderr",
     "output_type": "stream",
     "text": [
      "/Users/sebastianlopez/miniconda3/envs/maestriamatching/lib/python3.10/site-packages/sklearn/neural_network/_multilayer_perceptron.py:546: ConvergenceWarning: lbfgs failed to converge (status=1):\n",
      "STOP: TOTAL NO. of ITERATIONS REACHED LIMIT.\n",
      "\n",
      "Increase the number of iterations (max_iter) or scale the data as shown in:\n",
      "    https://scikit-learn.org/stable/modules/preprocessing.html\n",
      "  self.n_iter_ = _check_optimize_result(\"lbfgs\", opt_res, self.max_iter)\n"
     ]
    },
    {
     "name": "stdout",
     "output_type": "stream",
     "text": [
      "[CV] END activation=identity, alpha=0.0001, early_stopping=True, learning_rate=constant, learning_rate_init=0.0001, max_iter=20, n_iter_no_change=5, power_t=0.5, solver=lbfgs; total time= 1.1min\n"
     ]
    },
    {
     "name": "stderr",
     "output_type": "stream",
     "text": [
      "/Users/sebastianlopez/miniconda3/envs/maestriamatching/lib/python3.10/site-packages/sklearn/neural_network/_multilayer_perceptron.py:546: ConvergenceWarning: lbfgs failed to converge (status=1):\n",
      "STOP: TOTAL NO. of ITERATIONS REACHED LIMIT.\n",
      "\n",
      "Increase the number of iterations (max_iter) or scale the data as shown in:\n",
      "    https://scikit-learn.org/stable/modules/preprocessing.html\n",
      "  self.n_iter_ = _check_optimize_result(\"lbfgs\", opt_res, self.max_iter)\n"
     ]
    },
    {
     "name": "stdout",
     "output_type": "stream",
     "text": [
      "[CV] END activation=identity, alpha=0.0001, early_stopping=True, learning_rate=constant, learning_rate_init=0.0001, max_iter=20, n_iter_no_change=5, power_t=0.5, solver=lbfgs; total time= 1.0min\n"
     ]
    },
    {
     "name": "stderr",
     "output_type": "stream",
     "text": [
      "/Users/sebastianlopez/miniconda3/envs/maestriamatching/lib/python3.10/site-packages/sklearn/neural_network/_multilayer_perceptron.py:691: ConvergenceWarning: Stochastic Optimizer: Maximum iterations (20) reached and the optimization hasn't converged yet.\n",
      "  warnings.warn(\n",
      "/Users/sebastianlopez/miniconda3/envs/maestriamatching/lib/python3.10/site-packages/sklearn/neural_network/_multilayer_perceptron.py:691: ConvergenceWarning: Stochastic Optimizer: Maximum iterations (20) reached and the optimization hasn't converged yet.\n",
      "  warnings.warn(\n"
     ]
    },
    {
     "name": "stdout",
     "output_type": "stream",
     "text": [
      "[CV] END activation=identity, alpha=0.0001, early_stopping=True, learning_rate=constant, learning_rate_init=0.0001, max_iter=20, n_iter_no_change=5, power_t=0.5, solver=sgd; total time= 1.1min\n",
      "[CV] END activation=identity, alpha=0.0001, early_stopping=True, learning_rate=constant, learning_rate_init=0.0001, max_iter=20, n_iter_no_change=5, power_t=0.5, solver=sgd; total time= 1.1min\n"
     ]
    },
    {
     "name": "stderr",
     "output_type": "stream",
     "text": [
      "/Users/sebastianlopez/miniconda3/envs/maestriamatching/lib/python3.10/site-packages/sklearn/neural_network/_multilayer_perceptron.py:691: ConvergenceWarning: Stochastic Optimizer: Maximum iterations (20) reached and the optimization hasn't converged yet.\n",
      "  warnings.warn(\n"
     ]
    },
    {
     "name": "stdout",
     "output_type": "stream",
     "text": [
      "[CV] END activation=identity, alpha=0.0001, early_stopping=True, learning_rate=constant, learning_rate_init=0.0001, max_iter=20, n_iter_no_change=5, power_t=0.5, solver=sgd; total time= 1.1min\n"
     ]
    },
    {
     "name": "stderr",
     "output_type": "stream",
     "text": [
      "/Users/sebastianlopez/miniconda3/envs/maestriamatching/lib/python3.10/site-packages/sklearn/neural_network/_multilayer_perceptron.py:546: ConvergenceWarning: lbfgs failed to converge (status=1):\n",
      "STOP: TOTAL NO. of ITERATIONS REACHED LIMIT.\n",
      "\n",
      "Increase the number of iterations (max_iter) or scale the data as shown in:\n",
      "    https://scikit-learn.org/stable/modules/preprocessing.html\n",
      "  self.n_iter_ = _check_optimize_result(\"lbfgs\", opt_res, self.max_iter)\n"
     ]
    },
    {
     "name": "stdout",
     "output_type": "stream",
     "text": [
      "[CV] END activation=identity, alpha=0.0001, early_stopping=True, learning_rate=constant, learning_rate_init=0.0001, max_iter=20, n_iter_no_change=5, power_t=0.5, solver=lbfgs; total time= 1.2min\n"
     ]
    },
    {
     "name": "stderr",
     "output_type": "stream",
     "text": [
      "/Users/sebastianlopez/miniconda3/envs/maestriamatching/lib/python3.10/site-packages/sklearn/neural_network/_multilayer_perceptron.py:691: ConvergenceWarning: Stochastic Optimizer: Maximum iterations (20) reached and the optimization hasn't converged yet.\n",
      "  warnings.warn(\n"
     ]
    },
    {
     "name": "stdout",
     "output_type": "stream",
     "text": [
      "[CV] END activation=identity, alpha=0.0001, early_stopping=True, learning_rate=constant, learning_rate_init=0.0001, max_iter=20, n_iter_no_change=5, power_t=0.5, solver=adam; total time= 1.2min\n",
      "[CV] END activation=identity, alpha=0.0001, early_stopping=True, learning_rate=constant, learning_rate_init=0.0001, max_iter=20, n_iter_no_change=5, power_t=0.5, solver=adam; total time= 1.1min\n"
     ]
    },
    {
     "name": "stderr",
     "output_type": "stream",
     "text": [
      "/Users/sebastianlopez/miniconda3/envs/maestriamatching/lib/python3.10/site-packages/sklearn/neural_network/_multilayer_perceptron.py:691: ConvergenceWarning: Stochastic Optimizer: Maximum iterations (20) reached and the optimization hasn't converged yet.\n",
      "  warnings.warn(\n"
     ]
    },
    {
     "name": "stdout",
     "output_type": "stream",
     "text": [
      "[CV] END activation=identity, alpha=0.0001, early_stopping=True, learning_rate=constant, learning_rate_init=0.0001, max_iter=20, n_iter_no_change=5, power_t=0.5, solver=adam; total time= 1.1min\n",
      "[CV] END activation=identity, alpha=0.0001, early_stopping=True, learning_rate=constant, learning_rate_init=0.0001, max_iter=20, n_iter_no_change=5, power_t=0.1, solver=sgd; total time=  22.2s\n"
     ]
    },
    {
     "name": "stderr",
     "output_type": "stream",
     "text": [
      "/Users/sebastianlopez/miniconda3/envs/maestriamatching/lib/python3.10/site-packages/sklearn/neural_network/_multilayer_perceptron.py:546: ConvergenceWarning: lbfgs failed to converge (status=1):\n",
      "STOP: TOTAL NO. of ITERATIONS REACHED LIMIT.\n",
      "\n",
      "Increase the number of iterations (max_iter) or scale the data as shown in:\n",
      "    https://scikit-learn.org/stable/modules/preprocessing.html\n",
      "  self.n_iter_ = _check_optimize_result(\"lbfgs\", opt_res, self.max_iter)\n"
     ]
    },
    {
     "name": "stdout",
     "output_type": "stream",
     "text": [
      "[CV] END activation=identity, alpha=0.0001, early_stopping=True, learning_rate=constant, learning_rate_init=0.0001, max_iter=20, n_iter_no_change=5, power_t=0.1, solver=lbfgs; total time=  58.3s\n"
     ]
    },
    {
     "name": "stderr",
     "output_type": "stream",
     "text": [
      "/Users/sebastianlopez/miniconda3/envs/maestriamatching/lib/python3.10/site-packages/sklearn/neural_network/_multilayer_perceptron.py:546: ConvergenceWarning: lbfgs failed to converge (status=1):\n",
      "STOP: TOTAL NO. of ITERATIONS REACHED LIMIT.\n",
      "\n",
      "Increase the number of iterations (max_iter) or scale the data as shown in:\n",
      "    https://scikit-learn.org/stable/modules/preprocessing.html\n",
      "  self.n_iter_ = _check_optimize_result(\"lbfgs\", opt_res, self.max_iter)\n"
     ]
    },
    {
     "name": "stdout",
     "output_type": "stream",
     "text": [
      "[CV] END activation=identity, alpha=0.0001, early_stopping=True, learning_rate=constant, learning_rate_init=0.0001, max_iter=20, n_iter_no_change=5, power_t=0.1, solver=lbfgs; total time= 1.3min\n"
     ]
    },
    {
     "name": "stderr",
     "output_type": "stream",
     "text": [
      "/Users/sebastianlopez/miniconda3/envs/maestriamatching/lib/python3.10/site-packages/sklearn/neural_network/_multilayer_perceptron.py:546: ConvergenceWarning: lbfgs failed to converge (status=1):\n",
      "STOP: TOTAL NO. of ITERATIONS REACHED LIMIT.\n",
      "\n",
      "Increase the number of iterations (max_iter) or scale the data as shown in:\n",
      "    https://scikit-learn.org/stable/modules/preprocessing.html\n",
      "  self.n_iter_ = _check_optimize_result(\"lbfgs\", opt_res, self.max_iter)\n"
     ]
    },
    {
     "name": "stdout",
     "output_type": "stream",
     "text": [
      "[CV] END activation=identity, alpha=0.0001, early_stopping=True, learning_rate=constant, learning_rate_init=0.0001, max_iter=20, n_iter_no_change=5, power_t=0.1, solver=lbfgs; total time=  56.1s\n"
     ]
    },
    {
     "name": "stderr",
     "output_type": "stream",
     "text": [
      "/Users/sebastianlopez/miniconda3/envs/maestriamatching/lib/python3.10/site-packages/sklearn/neural_network/_multilayer_perceptron.py:691: ConvergenceWarning: Stochastic Optimizer: Maximum iterations (20) reached and the optimization hasn't converged yet.\n",
      "  warnings.warn(\n"
     ]
    },
    {
     "name": "stdout",
     "output_type": "stream",
     "text": [
      "[CV] END activation=identity, alpha=0.0001, early_stopping=True, learning_rate=constant, learning_rate_init=0.0001, max_iter=20, n_iter_no_change=5, power_t=0.1, solver=adam; total time=  44.4s\n",
      "[CV] END activation=identity, alpha=0.0001, early_stopping=True, learning_rate=constant, learning_rate_init=0.0001, max_iter=20, n_iter_no_change=5, power_t=0.1, solver=sgd; total time=  59.0s\n"
     ]
    },
    {
     "name": "stderr",
     "output_type": "stream",
     "text": [
      "/Users/sebastianlopez/miniconda3/envs/maestriamatching/lib/python3.10/site-packages/sklearn/neural_network/_multilayer_perceptron.py:691: ConvergenceWarning: Stochastic Optimizer: Maximum iterations (20) reached and the optimization hasn't converged yet.\n",
      "  warnings.warn(\n"
     ]
    },
    {
     "name": "stdout",
     "output_type": "stream",
     "text": [
      "[CV] END activation=identity, alpha=0.0001, early_stopping=True, learning_rate=constant, learning_rate_init=0.0001, max_iter=20, n_iter_no_change=5, power_t=0.1, solver=sgd; total time=  58.9s\n"
     ]
    },
    {
     "name": "stderr",
     "output_type": "stream",
     "text": [
      "/Users/sebastianlopez/miniconda3/envs/maestriamatching/lib/python3.10/site-packages/sklearn/neural_network/_multilayer_perceptron.py:691: ConvergenceWarning: Stochastic Optimizer: Maximum iterations (20) reached and the optimization hasn't converged yet.\n",
      "  warnings.warn(\n"
     ]
    },
    {
     "name": "stdout",
     "output_type": "stream",
     "text": [
      "[CV] END activation=identity, alpha=0.0001, early_stopping=True, learning_rate=constant, learning_rate_init=0.0001, max_iter=20, n_iter_no_change=5, power_t=0.1, solver=adam; total time= 1.1min\n"
     ]
    },
    {
     "name": "stderr",
     "output_type": "stream",
     "text": [
      "/Users/sebastianlopez/miniconda3/envs/maestriamatching/lib/python3.10/site-packages/sklearn/neural_network/_multilayer_perceptron.py:546: ConvergenceWarning: lbfgs failed to converge (status=1):\n",
      "STOP: TOTAL NO. of ITERATIONS REACHED LIMIT.\n",
      "\n",
      "Increase the number of iterations (max_iter) or scale the data as shown in:\n",
      "    https://scikit-learn.org/stable/modules/preprocessing.html\n",
      "  self.n_iter_ = _check_optimize_result(\"lbfgs\", opt_res, self.max_iter)\n"
     ]
    },
    {
     "name": "stdout",
     "output_type": "stream",
     "text": [
      "[CV] END activation=identity, alpha=0.0001, early_stopping=True, learning_rate=constant, learning_rate_init=0.0001, max_iter=20, n_iter_no_change=5, power_t=0.9, solver=lbfgs; total time=  52.4s\n"
     ]
    },
    {
     "name": "stderr",
     "output_type": "stream",
     "text": [
      "/Users/sebastianlopez/miniconda3/envs/maestriamatching/lib/python3.10/site-packages/sklearn/neural_network/_multilayer_perceptron.py:691: ConvergenceWarning: Stochastic Optimizer: Maximum iterations (20) reached and the optimization hasn't converged yet.\n",
      "  warnings.warn(\n"
     ]
    },
    {
     "name": "stdout",
     "output_type": "stream",
     "text": [
      "[CV] END activation=identity, alpha=0.0001, early_stopping=True, learning_rate=constant, learning_rate_init=0.0001, max_iter=20, n_iter_no_change=5, power_t=0.1, solver=adam; total time= 1.1min\n"
     ]
    },
    {
     "name": "stderr",
     "output_type": "stream",
     "text": [
      "/Users/sebastianlopez/miniconda3/envs/maestriamatching/lib/python3.10/site-packages/sklearn/neural_network/_multilayer_perceptron.py:546: ConvergenceWarning: lbfgs failed to converge (status=1):\n",
      "STOP: TOTAL NO. of ITERATIONS REACHED LIMIT.\n",
      "\n",
      "Increase the number of iterations (max_iter) or scale the data as shown in:\n",
      "    https://scikit-learn.org/stable/modules/preprocessing.html\n",
      "  self.n_iter_ = _check_optimize_result(\"lbfgs\", opt_res, self.max_iter)\n"
     ]
    },
    {
     "name": "stdout",
     "output_type": "stream",
     "text": [
      "[CV] END activation=identity, alpha=0.0001, early_stopping=True, learning_rate=constant, learning_rate_init=0.0001, max_iter=20, n_iter_no_change=5, power_t=0.9, solver=lbfgs; total time= 1.0min\n"
     ]
    },
    {
     "name": "stderr",
     "output_type": "stream",
     "text": [
      "/Users/sebastianlopez/miniconda3/envs/maestriamatching/lib/python3.10/site-packages/sklearn/neural_network/_multilayer_perceptron.py:546: ConvergenceWarning: lbfgs failed to converge (status=1):\n",
      "STOP: TOTAL NO. of ITERATIONS REACHED LIMIT.\n",
      "\n",
      "Increase the number of iterations (max_iter) or scale the data as shown in:\n",
      "    https://scikit-learn.org/stable/modules/preprocessing.html\n",
      "  self.n_iter_ = _check_optimize_result(\"lbfgs\", opt_res, self.max_iter)\n"
     ]
    },
    {
     "name": "stdout",
     "output_type": "stream",
     "text": [
      "[CV] END activation=identity, alpha=0.0001, early_stopping=True, learning_rate=constant, learning_rate_init=0.0001, max_iter=20, n_iter_no_change=5, power_t=0.9, solver=lbfgs; total time=  52.5s\n"
     ]
    },
    {
     "name": "stderr",
     "output_type": "stream",
     "text": [
      "/Users/sebastianlopez/miniconda3/envs/maestriamatching/lib/python3.10/site-packages/sklearn/neural_network/_multilayer_perceptron.py:691: ConvergenceWarning: Stochastic Optimizer: Maximum iterations (20) reached and the optimization hasn't converged yet.\n",
      "  warnings.warn(\n"
     ]
    },
    {
     "name": "stdout",
     "output_type": "stream",
     "text": [
      "[CV] END activation=identity, alpha=0.0001, early_stopping=True, learning_rate=constant, learning_rate_init=0.0001, max_iter=20, n_iter_no_change=5, power_t=0.9, solver=sgd; total time=  58.5s\n"
     ]
    },
    {
     "name": "stderr",
     "output_type": "stream",
     "text": [
      "/Users/sebastianlopez/miniconda3/envs/maestriamatching/lib/python3.10/site-packages/sklearn/neural_network/_multilayer_perceptron.py:691: ConvergenceWarning: Stochastic Optimizer: Maximum iterations (20) reached and the optimization hasn't converged yet.\n",
      "  warnings.warn(\n"
     ]
    },
    {
     "name": "stdout",
     "output_type": "stream",
     "text": [
      "[CV] END activation=identity, alpha=0.0001, early_stopping=True, learning_rate=constant, learning_rate_init=0.0001, max_iter=20, n_iter_no_change=5, power_t=0.9, solver=sgd; total time=  58.2s\n",
      "[CV] END activation=identity, alpha=0.0001, early_stopping=True, learning_rate=constant, learning_rate_init=0.0001, max_iter=20, n_iter_no_change=5, power_t=0.9, solver=adam; total time=  48.9s\n"
     ]
    },
    {
     "name": "stderr",
     "output_type": "stream",
     "text": [
      "/Users/sebastianlopez/miniconda3/envs/maestriamatching/lib/python3.10/site-packages/sklearn/neural_network/_multilayer_perceptron.py:691: ConvergenceWarning: Stochastic Optimizer: Maximum iterations (20) reached and the optimization hasn't converged yet.\n",
      "  warnings.warn(\n"
     ]
    },
    {
     "name": "stdout",
     "output_type": "stream",
     "text": [
      "[CV] END activation=identity, alpha=0.0001, early_stopping=True, learning_rate=constant, learning_rate_init=0.0001, max_iter=20, n_iter_no_change=5, power_t=0.9, solver=sgd; total time=  59.0s\n",
      "[CV] END activation=identity, alpha=0.0001, early_stopping=True, learning_rate=constant, learning_rate_init=0.0001, max_iter=20, n_iter_no_change=5, power_t=0.9, solver=adam; total time=  56.7s\n"
     ]
    },
    {
     "name": "stderr",
     "output_type": "stream",
     "text": [
      "/Users/sebastianlopez/miniconda3/envs/maestriamatching/lib/python3.10/site-packages/sklearn/neural_network/_multilayer_perceptron.py:691: ConvergenceWarning: Stochastic Optimizer: Maximum iterations (20) reached and the optimization hasn't converged yet.\n",
      "  warnings.warn(\n"
     ]
    },
    {
     "name": "stdout",
     "output_type": "stream",
     "text": [
      "[CV] END activation=identity, alpha=0.0001, early_stopping=True, learning_rate=constant, learning_rate_init=0.0001, max_iter=20, n_iter_no_change=5, power_t=0.9, solver=adam; total time= 1.0min\n"
     ]
    },
    {
     "name": "stderr",
     "output_type": "stream",
     "text": [
      "/Users/sebastianlopez/miniconda3/envs/maestriamatching/lib/python3.10/site-packages/sklearn/neural_network/_multilayer_perceptron.py:546: ConvergenceWarning: lbfgs failed to converge (status=1):\n",
      "STOP: TOTAL NO. of ITERATIONS REACHED LIMIT.\n",
      "\n",
      "Increase the number of iterations (max_iter) or scale the data as shown in:\n",
      "    https://scikit-learn.org/stable/modules/preprocessing.html\n",
      "  self.n_iter_ = _check_optimize_result(\"lbfgs\", opt_res, self.max_iter)\n",
      "/Users/sebastianlopez/miniconda3/envs/maestriamatching/lib/python3.10/site-packages/sklearn/neural_network/_multilayer_perceptron.py:546: ConvergenceWarning: lbfgs failed to converge (status=1):\n",
      "STOP: TOTAL NO. of ITERATIONS REACHED LIMIT.\n",
      "\n",
      "Increase the number of iterations (max_iter) or scale the data as shown in:\n",
      "    https://scikit-learn.org/stable/modules/preprocessing.html\n",
      "  self.n_iter_ = _check_optimize_result(\"lbfgs\", opt_res, self.max_iter)\n"
     ]
    },
    {
     "name": "stdout",
     "output_type": "stream",
     "text": [
      "[CV] END activation=identity, alpha=0.0001, early_stopping=True, learning_rate=constant, learning_rate_init=0.0001, max_iter=20, n_iter_no_change=5, power_t=0.001, solver=lbfgs; total time=  52.5s\n",
      "[CV] END activation=identity, alpha=0.0001, early_stopping=True, learning_rate=constant, learning_rate_init=0.0001, max_iter=20, n_iter_no_change=5, power_t=0.001, solver=lbfgs; total time=  55.2s\n"
     ]
    },
    {
     "name": "stderr",
     "output_type": "stream",
     "text": [
      "/Users/sebastianlopez/miniconda3/envs/maestriamatching/lib/python3.10/site-packages/sklearn/neural_network/_multilayer_perceptron.py:691: ConvergenceWarning: Stochastic Optimizer: Maximum iterations (20) reached and the optimization hasn't converged yet.\n",
      "  warnings.warn(\n"
     ]
    },
    {
     "name": "stdout",
     "output_type": "stream",
     "text": [
      "[CV] END activation=identity, alpha=0.0001, early_stopping=True, learning_rate=constant, learning_rate_init=0.0001, max_iter=20, n_iter_no_change=5, power_t=0.001, solver=sgd; total time=  55.6s\n"
     ]
    },
    {
     "name": "stderr",
     "output_type": "stream",
     "text": [
      "/Users/sebastianlopez/miniconda3/envs/maestriamatching/lib/python3.10/site-packages/sklearn/neural_network/_multilayer_perceptron.py:546: ConvergenceWarning: lbfgs failed to converge (status=1):\n",
      "STOP: TOTAL NO. of ITERATIONS REACHED LIMIT.\n",
      "\n",
      "Increase the number of iterations (max_iter) or scale the data as shown in:\n",
      "    https://scikit-learn.org/stable/modules/preprocessing.html\n",
      "  self.n_iter_ = _check_optimize_result(\"lbfgs\", opt_res, self.max_iter)\n"
     ]
    },
    {
     "name": "stdout",
     "output_type": "stream",
     "text": [
      "[CV] END activation=identity, alpha=0.0001, early_stopping=True, learning_rate=constant, learning_rate_init=0.0001, max_iter=20, n_iter_no_change=5, power_t=0.001, solver=lbfgs; total time= 1.0min\n"
     ]
    },
    {
     "name": "stderr",
     "output_type": "stream",
     "text": [
      "/Users/sebastianlopez/miniconda3/envs/maestriamatching/lib/python3.10/site-packages/sklearn/neural_network/_multilayer_perceptron.py:691: ConvergenceWarning: Stochastic Optimizer: Maximum iterations (20) reached and the optimization hasn't converged yet.\n",
      "  warnings.warn(\n"
     ]
    },
    {
     "name": "stdout",
     "output_type": "stream",
     "text": [
      "[CV] END activation=identity, alpha=0.0001, early_stopping=True, learning_rate=constant, learning_rate_init=0.0001, max_iter=20, n_iter_no_change=5, power_t=0.001, solver=sgd; total time=  55.0s\n"
     ]
    },
    {
     "name": "stderr",
     "output_type": "stream",
     "text": [
      "/Users/sebastianlopez/miniconda3/envs/maestriamatching/lib/python3.10/site-packages/sklearn/neural_network/_multilayer_perceptron.py:691: ConvergenceWarning: Stochastic Optimizer: Maximum iterations (20) reached and the optimization hasn't converged yet.\n",
      "  warnings.warn(\n"
     ]
    },
    {
     "name": "stdout",
     "output_type": "stream",
     "text": [
      "[CV] END activation=identity, alpha=0.0001, early_stopping=True, learning_rate=constant, learning_rate_init=0.0001, max_iter=20, n_iter_no_change=5, power_t=0.001, solver=sgd; total time=  54.6s\n"
     ]
    },
    {
     "name": "stderr",
     "output_type": "stream",
     "text": [
      "/Users/sebastianlopez/miniconda3/envs/maestriamatching/lib/python3.10/site-packages/sklearn/neural_network/_multilayer_perceptron.py:691: ConvergenceWarning: Stochastic Optimizer: Maximum iterations (20) reached and the optimization hasn't converged yet.\n",
      "  warnings.warn(\n"
     ]
    },
    {
     "name": "stdout",
     "output_type": "stream",
     "text": [
      "[CV] END activation=identity, alpha=0.0001, early_stopping=True, learning_rate=constant, learning_rate_init=0.0001, max_iter=20, n_iter_no_change=5, power_t=0.001, solver=adam; total time=  58.0s\n"
     ]
    },
    {
     "name": "stderr",
     "output_type": "stream",
     "text": [
      "/Users/sebastianlopez/miniconda3/envs/maestriamatching/lib/python3.10/site-packages/sklearn/neural_network/_multilayer_perceptron.py:546: ConvergenceWarning: lbfgs failed to converge (status=1):\n",
      "STOP: TOTAL NO. of ITERATIONS REACHED LIMIT.\n",
      "\n",
      "Increase the number of iterations (max_iter) or scale the data as shown in:\n",
      "    https://scikit-learn.org/stable/modules/preprocessing.html\n",
      "  self.n_iter_ = _check_optimize_result(\"lbfgs\", opt_res, self.max_iter)\n"
     ]
    },
    {
     "name": "stdout",
     "output_type": "stream",
     "text": [
      "[CV] END activation=identity, alpha=0.0001, early_stopping=True, learning_rate=constant, learning_rate_init=0.0001, max_iter=20, n_iter_no_change=5, power_t=0.001, solver=adam; total time=  51.3s\n",
      "[CV] END activation=identity, alpha=0.0001, early_stopping=True, learning_rate=constant, learning_rate_init=0.0001, max_iter=20, n_iter_no_change=5, power_t=0.005, solver=lbfgs; total time=  44.9s\n",
      "[CV] END activation=identity, alpha=0.0001, early_stopping=True, learning_rate=constant, learning_rate_init=0.0001, max_iter=20, n_iter_no_change=5, power_t=0.001, solver=adam; total time=  56.8s\n"
     ]
    },
    {
     "name": "stderr",
     "output_type": "stream",
     "text": [
      "/Users/sebastianlopez/miniconda3/envs/maestriamatching/lib/python3.10/site-packages/sklearn/neural_network/_multilayer_perceptron.py:546: ConvergenceWarning: lbfgs failed to converge (status=1):\n",
      "STOP: TOTAL NO. of ITERATIONS REACHED LIMIT.\n",
      "\n",
      "Increase the number of iterations (max_iter) or scale the data as shown in:\n",
      "    https://scikit-learn.org/stable/modules/preprocessing.html\n",
      "  self.n_iter_ = _check_optimize_result(\"lbfgs\", opt_res, self.max_iter)\n"
     ]
    },
    {
     "name": "stdout",
     "output_type": "stream",
     "text": [
      "[CV] END activation=identity, alpha=0.0001, early_stopping=True, learning_rate=constant, learning_rate_init=0.0001, max_iter=20, n_iter_no_change=5, power_t=0.005, solver=lbfgs; total time=  44.8s\n"
     ]
    },
    {
     "name": "stderr",
     "output_type": "stream",
     "text": [
      "/Users/sebastianlopez/miniconda3/envs/maestriamatching/lib/python3.10/site-packages/sklearn/neural_network/_multilayer_perceptron.py:546: ConvergenceWarning: lbfgs failed to converge (status=1):\n",
      "STOP: TOTAL NO. of ITERATIONS REACHED LIMIT.\n",
      "\n",
      "Increase the number of iterations (max_iter) or scale the data as shown in:\n",
      "    https://scikit-learn.org/stable/modules/preprocessing.html\n",
      "  self.n_iter_ = _check_optimize_result(\"lbfgs\", opt_res, self.max_iter)\n"
     ]
    },
    {
     "name": "stdout",
     "output_type": "stream",
     "text": [
      "[CV] END activation=identity, alpha=0.0001, early_stopping=True, learning_rate=constant, learning_rate_init=0.0001, max_iter=20, n_iter_no_change=5, power_t=0.005, solver=lbfgs; total time=  51.2s\n"
     ]
    },
    {
     "name": "stderr",
     "output_type": "stream",
     "text": [
      "/Users/sebastianlopez/miniconda3/envs/maestriamatching/lib/python3.10/site-packages/sklearn/neural_network/_multilayer_perceptron.py:691: ConvergenceWarning: Stochastic Optimizer: Maximum iterations (20) reached and the optimization hasn't converged yet.\n",
      "  warnings.warn(\n"
     ]
    },
    {
     "name": "stdout",
     "output_type": "stream",
     "text": [
      "[CV] END activation=identity, alpha=0.0001, early_stopping=True, learning_rate=constant, learning_rate_init=0.0001, max_iter=20, n_iter_no_change=5, power_t=0.005, solver=sgd; total time=  52.9s\n"
     ]
    },
    {
     "name": "stderr",
     "output_type": "stream",
     "text": [
      "/Users/sebastianlopez/miniconda3/envs/maestriamatching/lib/python3.10/site-packages/sklearn/neural_network/_multilayer_perceptron.py:691: ConvergenceWarning: Stochastic Optimizer: Maximum iterations (20) reached and the optimization hasn't converged yet.\n",
      "  warnings.warn(\n"
     ]
    },
    {
     "name": "stdout",
     "output_type": "stream",
     "text": [
      "[CV] END activation=identity, alpha=0.0001, early_stopping=True, learning_rate=constant, learning_rate_init=0.0001, max_iter=20, n_iter_no_change=5, power_t=0.005, solver=sgd; total time=  53.3s\n"
     ]
    },
    {
     "name": "stderr",
     "output_type": "stream",
     "text": [
      "/Users/sebastianlopez/miniconda3/envs/maestriamatching/lib/python3.10/site-packages/sklearn/neural_network/_multilayer_perceptron.py:691: ConvergenceWarning: Stochastic Optimizer: Maximum iterations (20) reached and the optimization hasn't converged yet.\n",
      "  warnings.warn(\n"
     ]
    },
    {
     "name": "stdout",
     "output_type": "stream",
     "text": [
      "[CV] END activation=identity, alpha=0.0001, early_stopping=True, learning_rate=constant, learning_rate_init=0.0001, max_iter=20, n_iter_no_change=5, power_t=0.005, solver=sgd; total time=  54.4s\n"
     ]
    },
    {
     "name": "stderr",
     "output_type": "stream",
     "text": [
      "/Users/sebastianlopez/miniconda3/envs/maestriamatching/lib/python3.10/site-packages/sklearn/neural_network/_multilayer_perceptron.py:691: ConvergenceWarning: Stochastic Optimizer: Maximum iterations (20) reached and the optimization hasn't converged yet.\n",
      "  warnings.warn(\n"
     ]
    },
    {
     "name": "stdout",
     "output_type": "stream",
     "text": [
      "[CV] END activation=identity, alpha=0.0001, early_stopping=True, learning_rate=constant, learning_rate_init=0.0001, max_iter=20, n_iter_no_change=5, power_t=0.005, solver=adam; total time=  59.6s\n"
     ]
    },
    {
     "name": "stderr",
     "output_type": "stream",
     "text": [
      "/Users/sebastianlopez/miniconda3/envs/maestriamatching/lib/python3.10/site-packages/sklearn/neural_network/_multilayer_perceptron.py:691: ConvergenceWarning: Stochastic Optimizer: Maximum iterations (20) reached and the optimization hasn't converged yet.\n",
      "  warnings.warn(\n"
     ]
    },
    {
     "name": "stdout",
     "output_type": "stream",
     "text": [
      "[CV] END activation=identity, alpha=0.0001, early_stopping=True, learning_rate=constant, learning_rate_init=0.0001, max_iter=20, n_iter_no_change=5, power_t=0.005, solver=adam; total time= 1.0min\n",
      "[CV] END activation=identity, alpha=0.0001, early_stopping=True, learning_rate=constant, learning_rate_init=0.0001, max_iter=20, n_iter_no_change=5, power_t=0.005, solver=adam; total time=  56.3s\n",
      "[CV] END activation=identity, alpha=0.0001, early_stopping=True, learning_rate=constant, learning_rate_init=0.0001, max_iter=50, n_iter_no_change=5, power_t=0.5, solver=adam; total time=  45.2s\n",
      "[CV] END activation=identity, alpha=0.0001, early_stopping=True, learning_rate=constant, learning_rate_init=0.0001, max_iter=50, n_iter_no_change=5, power_t=0.5, solver=adam; total time=  44.2s\n",
      "[CV] END activation=identity, alpha=0.0001, early_stopping=True, learning_rate=constant, learning_rate_init=0.0001, max_iter=50, n_iter_no_change=5, power_t=0.5, solver=adam; total time= 1.1min\n"
     ]
    },
    {
     "name": "stderr",
     "output_type": "stream",
     "text": [
      "/Users/sebastianlopez/miniconda3/envs/maestriamatching/lib/python3.10/site-packages/sklearn/neural_network/_multilayer_perceptron.py:546: ConvergenceWarning: lbfgs failed to converge (status=1):\n",
      "STOP: TOTAL NO. of ITERATIONS REACHED LIMIT.\n",
      "\n",
      "Increase the number of iterations (max_iter) or scale the data as shown in:\n",
      "    https://scikit-learn.org/stable/modules/preprocessing.html\n",
      "  self.n_iter_ = _check_optimize_result(\"lbfgs\", opt_res, self.max_iter)\n"
     ]
    },
    {
     "name": "stdout",
     "output_type": "stream",
     "text": [
      "[CV] END activation=identity, alpha=0.0001, early_stopping=True, learning_rate=constant, learning_rate_init=0.0001, max_iter=50, n_iter_no_change=5, power_t=0.5, solver=lbfgs; total time= 1.9min\n"
     ]
    },
    {
     "name": "stderr",
     "output_type": "stream",
     "text": [
      "/Users/sebastianlopez/miniconda3/envs/maestriamatching/lib/python3.10/site-packages/sklearn/neural_network/_multilayer_perceptron.py:546: ConvergenceWarning: lbfgs failed to converge (status=1):\n",
      "STOP: TOTAL NO. of ITERATIONS REACHED LIMIT.\n",
      "\n",
      "Increase the number of iterations (max_iter) or scale the data as shown in:\n",
      "    https://scikit-learn.org/stable/modules/preprocessing.html\n",
      "  self.n_iter_ = _check_optimize_result(\"lbfgs\", opt_res, self.max_iter)\n"
     ]
    },
    {
     "name": "stdout",
     "output_type": "stream",
     "text": [
      "[CV] END activation=identity, alpha=0.0001, early_stopping=True, learning_rate=constant, learning_rate_init=0.0001, max_iter=50, n_iter_no_change=5, power_t=0.5, solver=lbfgs; total time= 2.0min\n"
     ]
    },
    {
     "name": "stderr",
     "output_type": "stream",
     "text": [
      "/Users/sebastianlopez/miniconda3/envs/maestriamatching/lib/python3.10/site-packages/sklearn/neural_network/_multilayer_perceptron.py:546: ConvergenceWarning: lbfgs failed to converge (status=1):\n",
      "STOP: TOTAL NO. of ITERATIONS REACHED LIMIT.\n",
      "\n",
      "Increase the number of iterations (max_iter) or scale the data as shown in:\n",
      "    https://scikit-learn.org/stable/modules/preprocessing.html\n",
      "  self.n_iter_ = _check_optimize_result(\"lbfgs\", opt_res, self.max_iter)\n"
     ]
    },
    {
     "name": "stdout",
     "output_type": "stream",
     "text": [
      "[CV] END activation=identity, alpha=0.0001, early_stopping=True, learning_rate=constant, learning_rate_init=0.0001, max_iter=50, n_iter_no_change=5, power_t=0.5, solver=lbfgs; total time= 2.2min\n"
     ]
    },
    {
     "name": "stderr",
     "output_type": "stream",
     "text": [
      "/Users/sebastianlopez/miniconda3/envs/maestriamatching/lib/python3.10/site-packages/sklearn/neural_network/_multilayer_perceptron.py:691: ConvergenceWarning: Stochastic Optimizer: Maximum iterations (50) reached and the optimization hasn't converged yet.\n",
      "  warnings.warn(\n"
     ]
    },
    {
     "name": "stdout",
     "output_type": "stream",
     "text": [
      "[CV] END activation=identity, alpha=0.0001, early_stopping=True, learning_rate=constant, learning_rate_init=0.0001, max_iter=50, n_iter_no_change=5, power_t=0.5, solver=sgd; total time= 2.3min\n"
     ]
    },
    {
     "name": "stderr",
     "output_type": "stream",
     "text": [
      "/Users/sebastianlopez/miniconda3/envs/maestriamatching/lib/python3.10/site-packages/sklearn/neural_network/_multilayer_perceptron.py:691: ConvergenceWarning: Stochastic Optimizer: Maximum iterations (50) reached and the optimization hasn't converged yet.\n",
      "  warnings.warn(\n"
     ]
    },
    {
     "name": "stdout",
     "output_type": "stream",
     "text": [
      "[CV] END activation=identity, alpha=0.0001, early_stopping=True, learning_rate=constant, learning_rate_init=0.0001, max_iter=50, n_iter_no_change=5, power_t=0.5, solver=sgd; total time= 2.3min\n"
     ]
    },
    {
     "name": "stderr",
     "output_type": "stream",
     "text": [
      "/Users/sebastianlopez/miniconda3/envs/maestriamatching/lib/python3.10/site-packages/sklearn/neural_network/_multilayer_perceptron.py:691: ConvergenceWarning: Stochastic Optimizer: Maximum iterations (50) reached and the optimization hasn't converged yet.\n",
      "  warnings.warn(\n"
     ]
    },
    {
     "name": "stdout",
     "output_type": "stream",
     "text": [
      "[CV] END activation=identity, alpha=0.0001, early_stopping=True, learning_rate=constant, learning_rate_init=0.0001, max_iter=50, n_iter_no_change=5, power_t=0.5, solver=sgd; total time= 2.3min\n"
     ]
    },
    {
     "name": "stderr",
     "output_type": "stream",
     "text": [
      "/Users/sebastianlopez/miniconda3/envs/maestriamatching/lib/python3.10/site-packages/sklearn/neural_network/_multilayer_perceptron.py:546: ConvergenceWarning: lbfgs failed to converge (status=1):\n",
      "STOP: TOTAL NO. of ITERATIONS REACHED LIMIT.\n",
      "\n",
      "Increase the number of iterations (max_iter) or scale the data as shown in:\n",
      "    https://scikit-learn.org/stable/modules/preprocessing.html\n",
      "  self.n_iter_ = _check_optimize_result(\"lbfgs\", opt_res, self.max_iter)\n"
     ]
    },
    {
     "name": "stdout",
     "output_type": "stream",
     "text": [
      "[CV] END activation=identity, alpha=0.0001, early_stopping=True, learning_rate=constant, learning_rate_init=0.0001, max_iter=50, n_iter_no_change=5, power_t=0.1, solver=lbfgs; total time= 2.1min\n"
     ]
    },
    {
     "name": "stderr",
     "output_type": "stream",
     "text": [
      "/Users/sebastianlopez/miniconda3/envs/maestriamatching/lib/python3.10/site-packages/sklearn/neural_network/_multilayer_perceptron.py:546: ConvergenceWarning: lbfgs failed to converge (status=1):\n",
      "STOP: TOTAL NO. of ITERATIONS REACHED LIMIT.\n",
      "\n",
      "Increase the number of iterations (max_iter) or scale the data as shown in:\n",
      "    https://scikit-learn.org/stable/modules/preprocessing.html\n",
      "  self.n_iter_ = _check_optimize_result(\"lbfgs\", opt_res, self.max_iter)\n"
     ]
    },
    {
     "name": "stdout",
     "output_type": "stream",
     "text": [
      "[CV] END activation=identity, alpha=0.0001, early_stopping=True, learning_rate=constant, learning_rate_init=0.0001, max_iter=50, n_iter_no_change=5, power_t=0.1, solver=lbfgs; total time= 2.1min\n",
      "[CV] END activation=identity, alpha=0.0001, early_stopping=True, learning_rate=constant, learning_rate_init=0.0001, max_iter=50, n_iter_no_change=5, power_t=0.1, solver=adam; total time=  55.0s\n"
     ]
    },
    {
     "name": "stderr",
     "output_type": "stream",
     "text": [
      "/Users/sebastianlopez/miniconda3/envs/maestriamatching/lib/python3.10/site-packages/sklearn/neural_network/_multilayer_perceptron.py:546: ConvergenceWarning: lbfgs failed to converge (status=1):\n",
      "STOP: TOTAL NO. of ITERATIONS REACHED LIMIT.\n",
      "\n",
      "Increase the number of iterations (max_iter) or scale the data as shown in:\n",
      "    https://scikit-learn.org/stable/modules/preprocessing.html\n",
      "  self.n_iter_ = _check_optimize_result(\"lbfgs\", opt_res, self.max_iter)\n"
     ]
    },
    {
     "name": "stdout",
     "output_type": "stream",
     "text": [
      "[CV] END activation=identity, alpha=0.0001, early_stopping=True, learning_rate=constant, learning_rate_init=0.0001, max_iter=50, n_iter_no_change=5, power_t=0.1, solver=lbfgs; total time= 2.0min\n",
      "[CV] END activation=identity, alpha=0.0001, early_stopping=True, learning_rate=constant, learning_rate_init=0.0001, max_iter=50, n_iter_no_change=5, power_t=0.9, solver=sgd; total time=  20.2s\n",
      "[CV] END activation=identity, alpha=0.0001, early_stopping=True, learning_rate=constant, learning_rate_init=0.0001, max_iter=50, n_iter_no_change=5, power_t=0.1, solver=adam; total time=  56.7s\n",
      "[CV] END activation=identity, alpha=0.0001, early_stopping=True, learning_rate=constant, learning_rate_init=0.0001, max_iter=50, n_iter_no_change=5, power_t=0.9, solver=sgd; total time=  19.8s\n"
     ]
    },
    {
     "name": "stderr",
     "output_type": "stream",
     "text": [
      "/Users/sebastianlopez/miniconda3/envs/maestriamatching/lib/python3.10/site-packages/sklearn/neural_network/_multilayer_perceptron.py:691: ConvergenceWarning: Stochastic Optimizer: Maximum iterations (50) reached and the optimization hasn't converged yet.\n",
      "  warnings.warn(\n"
     ]
    },
    {
     "name": "stdout",
     "output_type": "stream",
     "text": [
      "[CV] END activation=identity, alpha=0.0001, early_stopping=True, learning_rate=constant, learning_rate_init=0.0001, max_iter=50, n_iter_no_change=5, power_t=0.1, solver=sgd; total time= 2.3min\n",
      "[CV] END activation=identity, alpha=0.0001, early_stopping=True, learning_rate=constant, learning_rate_init=0.0001, max_iter=50, n_iter_no_change=5, power_t=0.1, solver=adam; total time= 1.2min\n",
      "[CV] END activation=identity, alpha=0.0001, early_stopping=True, learning_rate=constant, learning_rate_init=0.0001, max_iter=50, n_iter_no_change=5, power_t=0.9, solver=adam; total time=  37.3s\n"
     ]
    },
    {
     "name": "stderr",
     "output_type": "stream",
     "text": [
      "/Users/sebastianlopez/miniconda3/envs/maestriamatching/lib/python3.10/site-packages/sklearn/neural_network/_multilayer_perceptron.py:691: ConvergenceWarning: Stochastic Optimizer: Maximum iterations (50) reached and the optimization hasn't converged yet.\n",
      "  warnings.warn(\n"
     ]
    },
    {
     "name": "stdout",
     "output_type": "stream",
     "text": [
      "[CV] END activation=identity, alpha=0.0001, early_stopping=True, learning_rate=constant, learning_rate_init=0.0001, max_iter=50, n_iter_no_change=5, power_t=0.1, solver=sgd; total time= 2.3min\n"
     ]
    },
    {
     "name": "stderr",
     "output_type": "stream",
     "text": [
      "/Users/sebastianlopez/miniconda3/envs/maestriamatching/lib/python3.10/site-packages/sklearn/neural_network/_multilayer_perceptron.py:691: ConvergenceWarning: Stochastic Optimizer: Maximum iterations (50) reached and the optimization hasn't converged yet.\n",
      "  warnings.warn(\n"
     ]
    },
    {
     "name": "stdout",
     "output_type": "stream",
     "text": [
      "[CV] END activation=identity, alpha=0.0001, early_stopping=True, learning_rate=constant, learning_rate_init=0.0001, max_iter=50, n_iter_no_change=5, power_t=0.1, solver=sgd; total time= 2.4min\n",
      "[CV] END activation=identity, alpha=0.0001, early_stopping=True, learning_rate=constant, learning_rate_init=0.0001, max_iter=50, n_iter_no_change=5, power_t=0.9, solver=adam; total time=  53.3s\n",
      "[CV] END activation=identity, alpha=0.0001, early_stopping=True, learning_rate=constant, learning_rate_init=0.0001, max_iter=50, n_iter_no_change=5, power_t=0.9, solver=adam; total time= 1.2min\n"
     ]
    },
    {
     "name": "stderr",
     "output_type": "stream",
     "text": [
      "/Users/sebastianlopez/miniconda3/envs/maestriamatching/lib/python3.10/site-packages/sklearn/neural_network/_multilayer_perceptron.py:546: ConvergenceWarning: lbfgs failed to converge (status=1):\n",
      "STOP: TOTAL NO. of ITERATIONS REACHED LIMIT.\n",
      "\n",
      "Increase the number of iterations (max_iter) or scale the data as shown in:\n",
      "    https://scikit-learn.org/stable/modules/preprocessing.html\n",
      "  self.n_iter_ = _check_optimize_result(\"lbfgs\", opt_res, self.max_iter)\n"
     ]
    },
    {
     "name": "stdout",
     "output_type": "stream",
     "text": [
      "[CV] END activation=identity, alpha=0.0001, early_stopping=True, learning_rate=constant, learning_rate_init=0.0001, max_iter=50, n_iter_no_change=5, power_t=0.9, solver=lbfgs; total time= 2.0min\n"
     ]
    },
    {
     "name": "stderr",
     "output_type": "stream",
     "text": [
      "/Users/sebastianlopez/miniconda3/envs/maestriamatching/lib/python3.10/site-packages/sklearn/neural_network/_multilayer_perceptron.py:546: ConvergenceWarning: lbfgs failed to converge (status=1):\n",
      "STOP: TOTAL NO. of ITERATIONS REACHED LIMIT.\n",
      "\n",
      "Increase the number of iterations (max_iter) or scale the data as shown in:\n",
      "    https://scikit-learn.org/stable/modules/preprocessing.html\n",
      "  self.n_iter_ = _check_optimize_result(\"lbfgs\", opt_res, self.max_iter)\n"
     ]
    },
    {
     "name": "stdout",
     "output_type": "stream",
     "text": [
      "[CV] END activation=identity, alpha=0.0001, early_stopping=True, learning_rate=constant, learning_rate_init=0.0001, max_iter=50, n_iter_no_change=5, power_t=0.9, solver=lbfgs; total time= 2.0min\n"
     ]
    },
    {
     "name": "stderr",
     "output_type": "stream",
     "text": [
      "/Users/sebastianlopez/miniconda3/envs/maestriamatching/lib/python3.10/site-packages/sklearn/neural_network/_multilayer_perceptron.py:546: ConvergenceWarning: lbfgs failed to converge (status=1):\n",
      "STOP: TOTAL NO. of ITERATIONS REACHED LIMIT.\n",
      "\n",
      "Increase the number of iterations (max_iter) or scale the data as shown in:\n",
      "    https://scikit-learn.org/stable/modules/preprocessing.html\n",
      "  self.n_iter_ = _check_optimize_result(\"lbfgs\", opt_res, self.max_iter)\n"
     ]
    },
    {
     "name": "stdout",
     "output_type": "stream",
     "text": [
      "[CV] END activation=identity, alpha=0.0001, early_stopping=True, learning_rate=constant, learning_rate_init=0.0001, max_iter=50, n_iter_no_change=5, power_t=0.9, solver=lbfgs; total time= 2.2min\n",
      "[CV] END activation=identity, alpha=0.0001, early_stopping=True, learning_rate=constant, learning_rate_init=0.0001, max_iter=50, n_iter_no_change=5, power_t=0.001, solver=adam; total time=  52.0s\n"
     ]
    },
    {
     "name": "stderr",
     "output_type": "stream",
     "text": [
      "/Users/sebastianlopez/miniconda3/envs/maestriamatching/lib/python3.10/site-packages/sklearn/neural_network/_multilayer_perceptron.py:691: ConvergenceWarning: Stochastic Optimizer: Maximum iterations (50) reached and the optimization hasn't converged yet.\n",
      "  warnings.warn(\n"
     ]
    },
    {
     "name": "stdout",
     "output_type": "stream",
     "text": [
      "[CV] END activation=identity, alpha=0.0001, early_stopping=True, learning_rate=constant, learning_rate_init=0.0001, max_iter=50, n_iter_no_change=5, power_t=0.9, solver=sgd; total time= 2.4min\n"
     ]
    },
    {
     "name": "stderr",
     "output_type": "stream",
     "text": [
      "/Users/sebastianlopez/miniconda3/envs/maestriamatching/lib/python3.10/site-packages/sklearn/neural_network/_multilayer_perceptron.py:546: ConvergenceWarning: lbfgs failed to converge (status=1):\n",
      "STOP: TOTAL NO. of ITERATIONS REACHED LIMIT.\n",
      "\n",
      "Increase the number of iterations (max_iter) or scale the data as shown in:\n",
      "    https://scikit-learn.org/stable/modules/preprocessing.html\n",
      "  self.n_iter_ = _check_optimize_result(\"lbfgs\", opt_res, self.max_iter)\n"
     ]
    },
    {
     "name": "stdout",
     "output_type": "stream",
     "text": [
      "[CV] END activation=identity, alpha=0.0001, early_stopping=True, learning_rate=constant, learning_rate_init=0.0001, max_iter=50, n_iter_no_change=5, power_t=0.001, solver=lbfgs; total time= 2.2min\n"
     ]
    },
    {
     "name": "stderr",
     "output_type": "stream",
     "text": [
      "/Users/sebastianlopez/miniconda3/envs/maestriamatching/lib/python3.10/site-packages/sklearn/neural_network/_multilayer_perceptron.py:546: ConvergenceWarning: lbfgs failed to converge (status=1):\n",
      "STOP: TOTAL NO. of ITERATIONS REACHED LIMIT.\n",
      "\n",
      "Increase the number of iterations (max_iter) or scale the data as shown in:\n",
      "    https://scikit-learn.org/stable/modules/preprocessing.html\n",
      "  self.n_iter_ = _check_optimize_result(\"lbfgs\", opt_res, self.max_iter)\n"
     ]
    },
    {
     "name": "stdout",
     "output_type": "stream",
     "text": [
      "[CV] END activation=identity, alpha=0.0001, early_stopping=True, learning_rate=constant, learning_rate_init=0.0001, max_iter=50, n_iter_no_change=5, power_t=0.001, solver=lbfgs; total time= 2.1min\n",
      "[CV] END activation=identity, alpha=0.0001, early_stopping=True, learning_rate=constant, learning_rate_init=0.0001, max_iter=50, n_iter_no_change=5, power_t=0.001, solver=adam; total time= 1.1min\n"
     ]
    },
    {
     "name": "stderr",
     "output_type": "stream",
     "text": [
      "/Users/sebastianlopez/miniconda3/envs/maestriamatching/lib/python3.10/site-packages/sklearn/neural_network/_multilayer_perceptron.py:546: ConvergenceWarning: lbfgs failed to converge (status=1):\n",
      "STOP: TOTAL NO. of ITERATIONS REACHED LIMIT.\n",
      "\n",
      "Increase the number of iterations (max_iter) or scale the data as shown in:\n",
      "    https://scikit-learn.org/stable/modules/preprocessing.html\n",
      "  self.n_iter_ = _check_optimize_result(\"lbfgs\", opt_res, self.max_iter)\n"
     ]
    },
    {
     "name": "stdout",
     "output_type": "stream",
     "text": [
      "[CV] END activation=identity, alpha=0.0001, early_stopping=True, learning_rate=constant, learning_rate_init=0.0001, max_iter=50, n_iter_no_change=5, power_t=0.001, solver=lbfgs; total time= 2.0min\n",
      "[CV] END activation=identity, alpha=0.0001, early_stopping=True, learning_rate=constant, learning_rate_init=0.0001, max_iter=50, n_iter_no_change=5, power_t=0.001, solver=adam; total time= 1.2min\n",
      "[CV] END activation=identity, alpha=0.0001, early_stopping=True, learning_rate=constant, learning_rate_init=0.0001, max_iter=50, n_iter_no_change=5, power_t=0.005, solver=sgd; total time=  22.6s\n"
     ]
    },
    {
     "name": "stderr",
     "output_type": "stream",
     "text": [
      "/Users/sebastianlopez/miniconda3/envs/maestriamatching/lib/python3.10/site-packages/sklearn/neural_network/_multilayer_perceptron.py:691: ConvergenceWarning: Stochastic Optimizer: Maximum iterations (50) reached and the optimization hasn't converged yet.\n",
      "  warnings.warn(\n"
     ]
    },
    {
     "name": "stdout",
     "output_type": "stream",
     "text": [
      "[CV] END activation=identity, alpha=0.0001, early_stopping=True, learning_rate=constant, learning_rate_init=0.0001, max_iter=50, n_iter_no_change=5, power_t=0.001, solver=sgd; total time= 2.4min\n",
      "[CV] END activation=identity, alpha=0.0001, early_stopping=True, learning_rate=constant, learning_rate_init=0.0001, max_iter=50, n_iter_no_change=5, power_t=0.005, solver=adam; total time=  52.3s\n"
     ]
    },
    {
     "name": "stderr",
     "output_type": "stream",
     "text": [
      "/Users/sebastianlopez/miniconda3/envs/maestriamatching/lib/python3.10/site-packages/sklearn/neural_network/_multilayer_perceptron.py:546: ConvergenceWarning: lbfgs failed to converge (status=1):\n",
      "STOP: TOTAL NO. of ITERATIONS REACHED LIMIT.\n",
      "\n",
      "Increase the number of iterations (max_iter) or scale the data as shown in:\n",
      "    https://scikit-learn.org/stable/modules/preprocessing.html\n",
      "  self.n_iter_ = _check_optimize_result(\"lbfgs\", opt_res, self.max_iter)\n",
      "/Users/sebastianlopez/miniconda3/envs/maestriamatching/lib/python3.10/site-packages/sklearn/neural_network/_multilayer_perceptron.py:691: ConvergenceWarning: Stochastic Optimizer: Maximum iterations (50) reached and the optimization hasn't converged yet.\n",
      "  warnings.warn(\n",
      "/Users/sebastianlopez/miniconda3/envs/maestriamatching/lib/python3.10/site-packages/sklearn/neural_network/_multilayer_perceptron.py:691: ConvergenceWarning: Stochastic Optimizer: Maximum iterations (50) reached and the optimization hasn't converged yet.\n",
      "  warnings.warn(\n"
     ]
    },
    {
     "name": "stdout",
     "output_type": "stream",
     "text": [
      "[CV] END activation=identity, alpha=0.0001, early_stopping=True, learning_rate=constant, learning_rate_init=0.0005, max_iter=5, n_iter_no_change=5, power_t=0.5, solver=lbfgs; total time=  22.5s\n",
      "[CV] END activation=identity, alpha=0.0001, early_stopping=True, learning_rate=constant, learning_rate_init=0.0001, max_iter=50, n_iter_no_change=5, power_t=0.001, solver=sgd; total time= 2.4min\n",
      "[CV] END activation=identity, alpha=0.0001, early_stopping=True, learning_rate=constant, learning_rate_init=0.0001, max_iter=50, n_iter_no_change=5, power_t=0.001, solver=sgd; total time= 2.4min\n"
     ]
    },
    {
     "name": "stderr",
     "output_type": "stream",
     "text": [
      "/Users/sebastianlopez/miniconda3/envs/maestriamatching/lib/python3.10/site-packages/sklearn/neural_network/_multilayer_perceptron.py:546: ConvergenceWarning: lbfgs failed to converge (status=1):\n",
      "STOP: TOTAL NO. of ITERATIONS REACHED LIMIT.\n",
      "\n",
      "Increase the number of iterations (max_iter) or scale the data as shown in:\n",
      "    https://scikit-learn.org/stable/modules/preprocessing.html\n",
      "  self.n_iter_ = _check_optimize_result(\"lbfgs\", opt_res, self.max_iter)\n"
     ]
    },
    {
     "name": "stdout",
     "output_type": "stream",
     "text": [
      "[CV] END activation=identity, alpha=0.0001, early_stopping=True, learning_rate=constant, learning_rate_init=0.0001, max_iter=50, n_iter_no_change=5, power_t=0.005, solver=lbfgs; total time= 2.1min\n"
     ]
    },
    {
     "name": "stderr",
     "output_type": "stream",
     "text": [
      "/Users/sebastianlopez/miniconda3/envs/maestriamatching/lib/python3.10/site-packages/sklearn/neural_network/_multilayer_perceptron.py:546: ConvergenceWarning: lbfgs failed to converge (status=1):\n",
      "STOP: TOTAL NO. of ITERATIONS REACHED LIMIT.\n",
      "\n",
      "Increase the number of iterations (max_iter) or scale the data as shown in:\n",
      "    https://scikit-learn.org/stable/modules/preprocessing.html\n",
      "  self.n_iter_ = _check_optimize_result(\"lbfgs\", opt_res, self.max_iter)\n"
     ]
    },
    {
     "name": "stdout",
     "output_type": "stream",
     "text": [
      "[CV] END activation=identity, alpha=0.0001, early_stopping=True, learning_rate=constant, learning_rate_init=0.0005, max_iter=5, n_iter_no_change=5, power_t=0.5, solver=lbfgs; total time=  18.7s\n"
     ]
    },
    {
     "name": "stderr",
     "output_type": "stream",
     "text": [
      "/Users/sebastianlopez/miniconda3/envs/maestriamatching/lib/python3.10/site-packages/sklearn/neural_network/_multilayer_perceptron.py:691: ConvergenceWarning: Stochastic Optimizer: Maximum iterations (5) reached and the optimization hasn't converged yet.\n",
      "  warnings.warn(\n",
      "/Users/sebastianlopez/miniconda3/envs/maestriamatching/lib/python3.10/site-packages/sklearn/neural_network/_multilayer_perceptron.py:691: ConvergenceWarning: Stochastic Optimizer: Maximum iterations (5) reached and the optimization hasn't converged yet.\n",
      "  warnings.warn(\n"
     ]
    },
    {
     "name": "stdout",
     "output_type": "stream",
     "text": [
      "[CV] END activation=identity, alpha=0.0001, early_stopping=True, learning_rate=constant, learning_rate_init=0.0005, max_iter=5, n_iter_no_change=5, power_t=0.5, solver=sgd; total time=  15.9s\n",
      "[CV] END activation=identity, alpha=0.0001, early_stopping=True, learning_rate=constant, learning_rate_init=0.0005, max_iter=5, n_iter_no_change=5, power_t=0.5, solver=sgd; total time=  15.8s\n"
     ]
    },
    {
     "name": "stderr",
     "output_type": "stream",
     "text": [
      "/Users/sebastianlopez/miniconda3/envs/maestriamatching/lib/python3.10/site-packages/sklearn/neural_network/_multilayer_perceptron.py:546: ConvergenceWarning: lbfgs failed to converge (status=1):\n",
      "STOP: TOTAL NO. of ITERATIONS REACHED LIMIT.\n",
      "\n",
      "Increase the number of iterations (max_iter) or scale the data as shown in:\n",
      "    https://scikit-learn.org/stable/modules/preprocessing.html\n",
      "  self.n_iter_ = _check_optimize_result(\"lbfgs\", opt_res, self.max_iter)\n"
     ]
    },
    {
     "name": "stdout",
     "output_type": "stream",
     "text": [
      "[CV] END activation=identity, alpha=0.0001, early_stopping=True, learning_rate=constant, learning_rate_init=0.0005, max_iter=5, n_iter_no_change=5, power_t=0.5, solver=lbfgs; total time=  17.1s\n"
     ]
    },
    {
     "name": "stderr",
     "output_type": "stream",
     "text": [
      "/Users/sebastianlopez/miniconda3/envs/maestriamatching/lib/python3.10/site-packages/sklearn/neural_network/_multilayer_perceptron.py:691: ConvergenceWarning: Stochastic Optimizer: Maximum iterations (5) reached and the optimization hasn't converged yet.\n",
      "  warnings.warn(\n"
     ]
    },
    {
     "name": "stdout",
     "output_type": "stream",
     "text": [
      "[CV] END activation=identity, alpha=0.0001, early_stopping=True, learning_rate=constant, learning_rate_init=0.0005, max_iter=5, n_iter_no_change=5, power_t=0.5, solver=sgd; total time=  15.4s\n"
     ]
    },
    {
     "name": "stderr",
     "output_type": "stream",
     "text": [
      "/Users/sebastianlopez/miniconda3/envs/maestriamatching/lib/python3.10/site-packages/joblib/externals/loky/process_executor.py:752: UserWarning: A worker stopped while some jobs were given to the executor. This can be caused by a too short worker timeout or by a memory leak.\n",
      "  warnings.warn(\n"
     ]
    },
    {
     "name": "stdout",
     "output_type": "stream",
     "text": [
      "[CV] END activation=identity, alpha=0.0001, early_stopping=True, learning_rate=constant, learning_rate_init=0.0001, max_iter=50, n_iter_no_change=5, power_t=0.005, solver=adam; total time= 1.2min\n"
     ]
    },
    {
     "name": "stderr",
     "output_type": "stream",
     "text": [
      "/Users/sebastianlopez/miniconda3/envs/maestriamatching/lib/python3.10/site-packages/sklearn/neural_network/_multilayer_perceptron.py:691: ConvergenceWarning: Stochastic Optimizer: Maximum iterations (5) reached and the optimization hasn't converged yet.\n",
      "  warnings.warn(\n"
     ]
    },
    {
     "name": "stdout",
     "output_type": "stream",
     "text": [
      "[CV] END activation=identity, alpha=0.0001, early_stopping=True, learning_rate=constant, learning_rate_init=0.0005, max_iter=5, n_iter_no_change=5, power_t=0.5, solver=adam; total time=  16.6s\n"
     ]
    },
    {
     "name": "stderr",
     "output_type": "stream",
     "text": [
      "/Users/sebastianlopez/miniconda3/envs/maestriamatching/lib/python3.10/site-packages/sklearn/neural_network/_multilayer_perceptron.py:691: ConvergenceWarning: Stochastic Optimizer: Maximum iterations (5) reached and the optimization hasn't converged yet.\n",
      "  warnings.warn(\n",
      "/Users/sebastianlopez/miniconda3/envs/maestriamatching/lib/python3.10/site-packages/sklearn/neural_network/_multilayer_perceptron.py:691: ConvergenceWarning: Stochastic Optimizer: Maximum iterations (5) reached and the optimization hasn't converged yet.\n",
      "  warnings.warn(\n"
     ]
    },
    {
     "name": "stdout",
     "output_type": "stream",
     "text": [
      "[CV] END activation=identity, alpha=0.0001, early_stopping=True, learning_rate=constant, learning_rate_init=0.0005, max_iter=5, n_iter_no_change=5, power_t=0.5, solver=adam; total time=  16.8s\n",
      "[CV] END activation=identity, alpha=0.0001, early_stopping=True, learning_rate=constant, learning_rate_init=0.0005, max_iter=5, n_iter_no_change=5, power_t=0.5, solver=adam; total time=  16.9s\n"
     ]
    },
    {
     "name": "stderr",
     "output_type": "stream",
     "text": [
      "/Users/sebastianlopez/miniconda3/envs/maestriamatching/lib/python3.10/site-packages/sklearn/neural_network/_multilayer_perceptron.py:546: ConvergenceWarning: lbfgs failed to converge (status=1):\n",
      "STOP: TOTAL NO. of ITERATIONS REACHED LIMIT.\n",
      "\n",
      "Increase the number of iterations (max_iter) or scale the data as shown in:\n",
      "    https://scikit-learn.org/stable/modules/preprocessing.html\n",
      "  self.n_iter_ = _check_optimize_result(\"lbfgs\", opt_res, self.max_iter)\n"
     ]
    },
    {
     "name": "stdout",
     "output_type": "stream",
     "text": [
      "[CV] END activation=identity, alpha=0.0001, early_stopping=True, learning_rate=constant, learning_rate_init=0.0005, max_iter=5, n_iter_no_change=5, power_t=0.1, solver=lbfgs; total time=  16.8s\n",
      "[CV] END activation=identity, alpha=0.0001, early_stopping=True, learning_rate=constant, learning_rate_init=0.0001, max_iter=50, n_iter_no_change=5, power_t=0.005, solver=adam; total time= 1.2min\n"
     ]
    },
    {
     "name": "stderr",
     "output_type": "stream",
     "text": [
      "/Users/sebastianlopez/miniconda3/envs/maestriamatching/lib/python3.10/site-packages/sklearn/neural_network/_multilayer_perceptron.py:546: ConvergenceWarning: lbfgs failed to converge (status=1):\n",
      "STOP: TOTAL NO. of ITERATIONS REACHED LIMIT.\n",
      "\n",
      "Increase the number of iterations (max_iter) or scale the data as shown in:\n",
      "    https://scikit-learn.org/stable/modules/preprocessing.html\n",
      "  self.n_iter_ = _check_optimize_result(\"lbfgs\", opt_res, self.max_iter)\n"
     ]
    },
    {
     "name": "stdout",
     "output_type": "stream",
     "text": [
      "[CV] END activation=identity, alpha=0.0001, early_stopping=True, learning_rate=constant, learning_rate_init=0.0001, max_iter=50, n_iter_no_change=5, power_t=0.005, solver=lbfgs; total time= 2.2min\n"
     ]
    },
    {
     "name": "stderr",
     "output_type": "stream",
     "text": [
      "/Users/sebastianlopez/miniconda3/envs/maestriamatching/lib/python3.10/site-packages/sklearn/neural_network/_multilayer_perceptron.py:691: ConvergenceWarning: Stochastic Optimizer: Maximum iterations (5) reached and the optimization hasn't converged yet.\n",
      "  warnings.warn(\n"
     ]
    },
    {
     "name": "stdout",
     "output_type": "stream",
     "text": [
      "[CV] END activation=identity, alpha=0.0001, early_stopping=True, learning_rate=constant, learning_rate_init=0.0005, max_iter=5, n_iter_no_change=5, power_t=0.1, solver=sgd; total time=  15.4s\n"
     ]
    },
    {
     "name": "stderr",
     "output_type": "stream",
     "text": [
      "/Users/sebastianlopez/miniconda3/envs/maestriamatching/lib/python3.10/site-packages/sklearn/neural_network/_multilayer_perceptron.py:546: ConvergenceWarning: lbfgs failed to converge (status=1):\n",
      "STOP: TOTAL NO. of ITERATIONS REACHED LIMIT.\n",
      "\n",
      "Increase the number of iterations (max_iter) or scale the data as shown in:\n",
      "    https://scikit-learn.org/stable/modules/preprocessing.html\n",
      "  self.n_iter_ = _check_optimize_result(\"lbfgs\", opt_res, self.max_iter)\n"
     ]
    },
    {
     "name": "stdout",
     "output_type": "stream",
     "text": [
      "[CV] END activation=identity, alpha=0.0001, early_stopping=True, learning_rate=constant, learning_rate_init=0.0005, max_iter=5, n_iter_no_change=5, power_t=0.1, solver=lbfgs; total time=  17.1s\n"
     ]
    },
    {
     "name": "stderr",
     "output_type": "stream",
     "text": [
      "/Users/sebastianlopez/miniconda3/envs/maestriamatching/lib/python3.10/site-packages/sklearn/neural_network/_multilayer_perceptron.py:546: ConvergenceWarning: lbfgs failed to converge (status=1):\n",
      "STOP: TOTAL NO. of ITERATIONS REACHED LIMIT.\n",
      "\n",
      "Increase the number of iterations (max_iter) or scale the data as shown in:\n",
      "    https://scikit-learn.org/stable/modules/preprocessing.html\n",
      "  self.n_iter_ = _check_optimize_result(\"lbfgs\", opt_res, self.max_iter)\n",
      "/Users/sebastianlopez/miniconda3/envs/maestriamatching/lib/python3.10/site-packages/sklearn/neural_network/_multilayer_perceptron.py:691: ConvergenceWarning: Stochastic Optimizer: Maximum iterations (5) reached and the optimization hasn't converged yet.\n",
      "  warnings.warn(\n"
     ]
    },
    {
     "name": "stdout",
     "output_type": "stream",
     "text": [
      "[CV] END activation=identity, alpha=0.0001, early_stopping=True, learning_rate=constant, learning_rate_init=0.0001, max_iter=50, n_iter_no_change=5, power_t=0.005, solver=lbfgs; total time= 2.2min\n"
     ]
    },
    {
     "name": "stderr",
     "output_type": "stream",
     "text": [
      "/Users/sebastianlopez/miniconda3/envs/maestriamatching/lib/python3.10/site-packages/sklearn/neural_network/_multilayer_perceptron.py:691: ConvergenceWarning: Stochastic Optimizer: Maximum iterations (5) reached and the optimization hasn't converged yet.\n",
      "  warnings.warn(\n"
     ]
    },
    {
     "name": "stdout",
     "output_type": "stream",
     "text": [
      "[CV] END activation=identity, alpha=0.0001, early_stopping=True, learning_rate=constant, learning_rate_init=0.0005, max_iter=5, n_iter_no_change=5, power_t=0.1, solver=sgd; total time=  16.2s\n",
      "[CV] END activation=identity, alpha=0.0001, early_stopping=True, learning_rate=constant, learning_rate_init=0.0005, max_iter=5, n_iter_no_change=5, power_t=0.1, solver=sgd; total time=  16.1s\n"
     ]
    },
    {
     "name": "stderr",
     "output_type": "stream",
     "text": [
      "/Users/sebastianlopez/miniconda3/envs/maestriamatching/lib/python3.10/site-packages/sklearn/neural_network/_multilayer_perceptron.py:546: ConvergenceWarning: lbfgs failed to converge (status=1):\n",
      "STOP: TOTAL NO. of ITERATIONS REACHED LIMIT.\n",
      "\n",
      "Increase the number of iterations (max_iter) or scale the data as shown in:\n",
      "    https://scikit-learn.org/stable/modules/preprocessing.html\n",
      "  self.n_iter_ = _check_optimize_result(\"lbfgs\", opt_res, self.max_iter)\n"
     ]
    },
    {
     "name": "stdout",
     "output_type": "stream",
     "text": [
      "[CV] END activation=identity, alpha=0.0001, early_stopping=True, learning_rate=constant, learning_rate_init=0.0005, max_iter=5, n_iter_no_change=5, power_t=0.1, solver=lbfgs; total time=  24.5s\n"
     ]
    },
    {
     "name": "stderr",
     "output_type": "stream",
     "text": [
      "/Users/sebastianlopez/miniconda3/envs/maestriamatching/lib/python3.10/site-packages/sklearn/neural_network/_multilayer_perceptron.py:691: ConvergenceWarning: Stochastic Optimizer: Maximum iterations (5) reached and the optimization hasn't converged yet.\n",
      "  warnings.warn(\n"
     ]
    },
    {
     "name": "stdout",
     "output_type": "stream",
     "text": [
      "[CV] END activation=identity, alpha=0.0001, early_stopping=True, learning_rate=constant, learning_rate_init=0.0005, max_iter=5, n_iter_no_change=5, power_t=0.1, solver=adam; total time=  17.7s\n"
     ]
    },
    {
     "name": "stderr",
     "output_type": "stream",
     "text": [
      "/Users/sebastianlopez/miniconda3/envs/maestriamatching/lib/python3.10/site-packages/sklearn/neural_network/_multilayer_perceptron.py:691: ConvergenceWarning: Stochastic Optimizer: Maximum iterations (5) reached and the optimization hasn't converged yet.\n",
      "  warnings.warn(\n"
     ]
    },
    {
     "name": "stdout",
     "output_type": "stream",
     "text": [
      "[CV] END activation=identity, alpha=0.0001, early_stopping=True, learning_rate=constant, learning_rate_init=0.0005, max_iter=5, n_iter_no_change=5, power_t=0.1, solver=adam; total time=  17.8s\n"
     ]
    },
    {
     "name": "stderr",
     "output_type": "stream",
     "text": [
      "/Users/sebastianlopez/miniconda3/envs/maestriamatching/lib/python3.10/site-packages/sklearn/neural_network/_multilayer_perceptron.py:691: ConvergenceWarning: Stochastic Optimizer: Maximum iterations (5) reached and the optimization hasn't converged yet.\n",
      "  warnings.warn(\n"
     ]
    },
    {
     "name": "stdout",
     "output_type": "stream",
     "text": [
      "[CV] END activation=identity, alpha=0.0001, early_stopping=True, learning_rate=constant, learning_rate_init=0.0005, max_iter=5, n_iter_no_change=5, power_t=0.1, solver=adam; total time=  17.7s\n"
     ]
    },
    {
     "name": "stderr",
     "output_type": "stream",
     "text": [
      "/Users/sebastianlopez/miniconda3/envs/maestriamatching/lib/python3.10/site-packages/sklearn/neural_network/_multilayer_perceptron.py:546: ConvergenceWarning: lbfgs failed to converge (status=1):\n",
      "STOP: TOTAL NO. of ITERATIONS REACHED LIMIT.\n",
      "\n",
      "Increase the number of iterations (max_iter) or scale the data as shown in:\n",
      "    https://scikit-learn.org/stable/modules/preprocessing.html\n",
      "  self.n_iter_ = _check_optimize_result(\"lbfgs\", opt_res, self.max_iter)\n"
     ]
    },
    {
     "name": "stdout",
     "output_type": "stream",
     "text": [
      "[CV] END activation=identity, alpha=0.0001, early_stopping=True, learning_rate=constant, learning_rate_init=0.0005, max_iter=5, n_iter_no_change=5, power_t=0.9, solver=lbfgs; total time=  18.0s\n"
     ]
    },
    {
     "name": "stderr",
     "output_type": "stream",
     "text": [
      "/Users/sebastianlopez/miniconda3/envs/maestriamatching/lib/python3.10/site-packages/sklearn/neural_network/_multilayer_perceptron.py:546: ConvergenceWarning: lbfgs failed to converge (status=1):\n",
      "STOP: TOTAL NO. of ITERATIONS REACHED LIMIT.\n",
      "\n",
      "Increase the number of iterations (max_iter) or scale the data as shown in:\n",
      "    https://scikit-learn.org/stable/modules/preprocessing.html\n",
      "  self.n_iter_ = _check_optimize_result(\"lbfgs\", opt_res, self.max_iter)\n"
     ]
    },
    {
     "name": "stdout",
     "output_type": "stream",
     "text": [
      "[CV] END activation=identity, alpha=0.0001, early_stopping=True, learning_rate=constant, learning_rate_init=0.0005, max_iter=5, n_iter_no_change=5, power_t=0.9, solver=lbfgs; total time=  17.9s\n"
     ]
    },
    {
     "name": "stderr",
     "output_type": "stream",
     "text": [
      "/Users/sebastianlopez/miniconda3/envs/maestriamatching/lib/python3.10/site-packages/sklearn/neural_network/_multilayer_perceptron.py:691: ConvergenceWarning: Stochastic Optimizer: Maximum iterations (5) reached and the optimization hasn't converged yet.\n",
      "  warnings.warn(\n",
      "/Users/sebastianlopez/miniconda3/envs/maestriamatching/lib/python3.10/site-packages/sklearn/neural_network/_multilayer_perceptron.py:691: ConvergenceWarning: Stochastic Optimizer: Maximum iterations (5) reached and the optimization hasn't converged yet.\n",
      "  warnings.warn(\n"
     ]
    },
    {
     "name": "stdout",
     "output_type": "stream",
     "text": [
      "[CV] END activation=identity, alpha=0.0001, early_stopping=True, learning_rate=constant, learning_rate_init=0.0005, max_iter=5, n_iter_no_change=5, power_t=0.9, solver=sgd; total time=  16.4s\n",
      "[CV] END activation=identity, alpha=0.0001, early_stopping=True, learning_rate=constant, learning_rate_init=0.0005, max_iter=5, n_iter_no_change=5, power_t=0.9, solver=sgd; total time=  16.3s\n"
     ]
    },
    {
     "name": "stderr",
     "output_type": "stream",
     "text": [
      "/Users/sebastianlopez/miniconda3/envs/maestriamatching/lib/python3.10/site-packages/sklearn/neural_network/_multilayer_perceptron.py:546: ConvergenceWarning: lbfgs failed to converge (status=1):\n",
      "STOP: TOTAL NO. of ITERATIONS REACHED LIMIT.\n",
      "\n",
      "Increase the number of iterations (max_iter) or scale the data as shown in:\n",
      "    https://scikit-learn.org/stable/modules/preprocessing.html\n",
      "  self.n_iter_ = _check_optimize_result(\"lbfgs\", opt_res, self.max_iter)\n",
      "/Users/sebastianlopez/miniconda3/envs/maestriamatching/lib/python3.10/site-packages/sklearn/neural_network/_multilayer_perceptron.py:691: ConvergenceWarning: Stochastic Optimizer: Maximum iterations (5) reached and the optimization hasn't converged yet.\n",
      "  warnings.warn(\n"
     ]
    },
    {
     "name": "stdout",
     "output_type": "stream",
     "text": [
      "[CV] END activation=identity, alpha=0.0001, early_stopping=True, learning_rate=constant, learning_rate_init=0.0005, max_iter=5, n_iter_no_change=5, power_t=0.9, solver=lbfgs; total time=  17.7s\n",
      "[CV] END activation=identity, alpha=0.0001, early_stopping=True, learning_rate=constant, learning_rate_init=0.0005, max_iter=5, n_iter_no_change=5, power_t=0.9, solver=sgd; total time=  16.1s\n"
     ]
    },
    {
     "name": "stderr",
     "output_type": "stream",
     "text": [
      "/Users/sebastianlopez/miniconda3/envs/maestriamatching/lib/python3.10/site-packages/sklearn/neural_network/_multilayer_perceptron.py:691: ConvergenceWarning: Stochastic Optimizer: Maximum iterations (5) reached and the optimization hasn't converged yet.\n",
      "  warnings.warn(\n"
     ]
    },
    {
     "name": "stdout",
     "output_type": "stream",
     "text": [
      "[CV] END activation=identity, alpha=0.0001, early_stopping=True, learning_rate=constant, learning_rate_init=0.0005, max_iter=5, n_iter_no_change=5, power_t=0.9, solver=adam; total time=  17.7s\n"
     ]
    },
    {
     "name": "stderr",
     "output_type": "stream",
     "text": [
      "/Users/sebastianlopez/miniconda3/envs/maestriamatching/lib/python3.10/site-packages/sklearn/neural_network/_multilayer_perceptron.py:691: ConvergenceWarning: Stochastic Optimizer: Maximum iterations (5) reached and the optimization hasn't converged yet.\n",
      "  warnings.warn(\n"
     ]
    },
    {
     "name": "stdout",
     "output_type": "stream",
     "text": [
      "[CV] END activation=identity, alpha=0.0001, early_stopping=True, learning_rate=constant, learning_rate_init=0.0005, max_iter=5, n_iter_no_change=5, power_t=0.9, solver=adam; total time=  17.7s\n"
     ]
    },
    {
     "name": "stderr",
     "output_type": "stream",
     "text": [
      "/Users/sebastianlopez/miniconda3/envs/maestriamatching/lib/python3.10/site-packages/sklearn/neural_network/_multilayer_perceptron.py:691: ConvergenceWarning: Stochastic Optimizer: Maximum iterations (5) reached and the optimization hasn't converged yet.\n",
      "  warnings.warn(\n"
     ]
    },
    {
     "name": "stdout",
     "output_type": "stream",
     "text": [
      "[CV] END activation=identity, alpha=0.0001, early_stopping=True, learning_rate=constant, learning_rate_init=0.0005, max_iter=5, n_iter_no_change=5, power_t=0.9, solver=adam; total time=  17.3s\n"
     ]
    },
    {
     "name": "stderr",
     "output_type": "stream",
     "text": [
      "/Users/sebastianlopez/miniconda3/envs/maestriamatching/lib/python3.10/site-packages/sklearn/neural_network/_multilayer_perceptron.py:546: ConvergenceWarning: lbfgs failed to converge (status=1):\n",
      "STOP: TOTAL NO. of ITERATIONS REACHED LIMIT.\n",
      "\n",
      "Increase the number of iterations (max_iter) or scale the data as shown in:\n",
      "    https://scikit-learn.org/stable/modules/preprocessing.html\n",
      "  self.n_iter_ = _check_optimize_result(\"lbfgs\", opt_res, self.max_iter)\n"
     ]
    },
    {
     "name": "stdout",
     "output_type": "stream",
     "text": [
      "[CV] END activation=identity, alpha=0.0001, early_stopping=True, learning_rate=constant, learning_rate_init=0.0005, max_iter=5, n_iter_no_change=5, power_t=0.001, solver=lbfgs; total time=  17.4s\n"
     ]
    },
    {
     "name": "stderr",
     "output_type": "stream",
     "text": [
      "/Users/sebastianlopez/miniconda3/envs/maestriamatching/lib/python3.10/site-packages/sklearn/neural_network/_multilayer_perceptron.py:691: ConvergenceWarning: Stochastic Optimizer: Maximum iterations (5) reached and the optimization hasn't converged yet.\n",
      "  warnings.warn(\n"
     ]
    },
    {
     "name": "stdout",
     "output_type": "stream",
     "text": [
      "[CV] END activation=identity, alpha=0.0001, early_stopping=True, learning_rate=constant, learning_rate_init=0.0005, max_iter=5, n_iter_no_change=5, power_t=0.001, solver=sgd; total time=  15.5s\n"
     ]
    },
    {
     "name": "stderr",
     "output_type": "stream",
     "text": [
      "/Users/sebastianlopez/miniconda3/envs/maestriamatching/lib/python3.10/site-packages/sklearn/neural_network/_multilayer_perceptron.py:546: ConvergenceWarning: lbfgs failed to converge (status=1):\n",
      "STOP: TOTAL NO. of ITERATIONS REACHED LIMIT.\n",
      "\n",
      "Increase the number of iterations (max_iter) or scale the data as shown in:\n",
      "    https://scikit-learn.org/stable/modules/preprocessing.html\n",
      "  self.n_iter_ = _check_optimize_result(\"lbfgs\", opt_res, self.max_iter)\n",
      "/Users/sebastianlopez/miniconda3/envs/maestriamatching/lib/python3.10/site-packages/sklearn/neural_network/_multilayer_perceptron.py:691: ConvergenceWarning: Stochastic Optimizer: Maximum iterations (5) reached and the optimization hasn't converged yet.\n",
      "  warnings.warn(\n",
      "/Users/sebastianlopez/miniconda3/envs/maestriamatching/lib/python3.10/site-packages/sklearn/neural_network/_multilayer_perceptron.py:691: ConvergenceWarning: Stochastic Optimizer: Maximum iterations (5) reached and the optimization hasn't converged yet.\n",
      "  warnings.warn(\n"
     ]
    },
    {
     "name": "stdout",
     "output_type": "stream",
     "text": [
      "[CV] END activation=identity, alpha=0.0001, early_stopping=True, learning_rate=constant, learning_rate_init=0.0005, max_iter=5, n_iter_no_change=5, power_t=0.001, solver=lbfgs; total time=  17.5s\n",
      "[CV] END activation=identity, alpha=0.0001, early_stopping=True, learning_rate=constant, learning_rate_init=0.0005, max_iter=5, n_iter_no_change=5, power_t=0.001, solver=sgd; total time=  15.6s\n"
     ]
    },
    {
     "name": "stderr",
     "output_type": "stream",
     "text": [
      "/Users/sebastianlopez/miniconda3/envs/maestriamatching/lib/python3.10/site-packages/sklearn/neural_network/_multilayer_perceptron.py:546: ConvergenceWarning: lbfgs failed to converge (status=1):\n",
      "STOP: TOTAL NO. of ITERATIONS REACHED LIMIT.\n",
      "\n",
      "Increase the number of iterations (max_iter) or scale the data as shown in:\n",
      "    https://scikit-learn.org/stable/modules/preprocessing.html\n",
      "  self.n_iter_ = _check_optimize_result(\"lbfgs\", opt_res, self.max_iter)\n"
     ]
    },
    {
     "name": "stdout",
     "output_type": "stream",
     "text": [
      "[CV] END activation=identity, alpha=0.0001, early_stopping=True, learning_rate=constant, learning_rate_init=0.0005, max_iter=5, n_iter_no_change=5, power_t=0.001, solver=sgd; total time=  15.6s\n",
      "[CV] END activation=identity, alpha=0.0001, early_stopping=True, learning_rate=constant, learning_rate_init=0.0005, max_iter=5, n_iter_no_change=5, power_t=0.001, solver=lbfgs; total time=  17.4s\n"
     ]
    },
    {
     "name": "stderr",
     "output_type": "stream",
     "text": [
      "/Users/sebastianlopez/miniconda3/envs/maestriamatching/lib/python3.10/site-packages/sklearn/neural_network/_multilayer_perceptron.py:691: ConvergenceWarning: Stochastic Optimizer: Maximum iterations (50) reached and the optimization hasn't converged yet.\n",
      "  warnings.warn(\n"
     ]
    },
    {
     "name": "stdout",
     "output_type": "stream",
     "text": [
      "[CV] END activation=identity, alpha=0.0001, early_stopping=True, learning_rate=constant, learning_rate_init=0.0001, max_iter=50, n_iter_no_change=5, power_t=0.005, solver=sgd; total time= 2.5min\n"
     ]
    },
    {
     "name": "stderr",
     "output_type": "stream",
     "text": [
      "/Users/sebastianlopez/miniconda3/envs/maestriamatching/lib/python3.10/site-packages/sklearn/neural_network/_multilayer_perceptron.py:691: ConvergenceWarning: Stochastic Optimizer: Maximum iterations (5) reached and the optimization hasn't converged yet.\n",
      "  warnings.warn(\n"
     ]
    },
    {
     "name": "stdout",
     "output_type": "stream",
     "text": [
      "[CV] END activation=identity, alpha=0.0001, early_stopping=True, learning_rate=constant, learning_rate_init=0.0005, max_iter=5, n_iter_no_change=5, power_t=0.001, solver=adam; total time=  17.1s\n"
     ]
    },
    {
     "name": "stderr",
     "output_type": "stream",
     "text": [
      "/Users/sebastianlopez/miniconda3/envs/maestriamatching/lib/python3.10/site-packages/sklearn/neural_network/_multilayer_perceptron.py:691: ConvergenceWarning: Stochastic Optimizer: Maximum iterations (50) reached and the optimization hasn't converged yet.\n",
      "  warnings.warn(\n"
     ]
    },
    {
     "name": "stdout",
     "output_type": "stream",
     "text": [
      "[CV] END activation=identity, alpha=0.0001, early_stopping=True, learning_rate=constant, learning_rate_init=0.0001, max_iter=50, n_iter_no_change=5, power_t=0.005, solver=sgd; total time= 2.5min\n"
     ]
    },
    {
     "name": "stderr",
     "output_type": "stream",
     "text": [
      "/Users/sebastianlopez/miniconda3/envs/maestriamatching/lib/python3.10/site-packages/sklearn/neural_network/_multilayer_perceptron.py:691: ConvergenceWarning: Stochastic Optimizer: Maximum iterations (5) reached and the optimization hasn't converged yet.\n",
      "  warnings.warn(\n"
     ]
    },
    {
     "name": "stdout",
     "output_type": "stream",
     "text": [
      "[CV] END activation=identity, alpha=0.0001, early_stopping=True, learning_rate=constant, learning_rate_init=0.0005, max_iter=5, n_iter_no_change=5, power_t=0.001, solver=adam; total time=  17.5s\n"
     ]
    },
    {
     "name": "stderr",
     "output_type": "stream",
     "text": [
      "/Users/sebastianlopez/miniconda3/envs/maestriamatching/lib/python3.10/site-packages/sklearn/neural_network/_multilayer_perceptron.py:691: ConvergenceWarning: Stochastic Optimizer: Maximum iterations (5) reached and the optimization hasn't converged yet.\n",
      "  warnings.warn(\n"
     ]
    },
    {
     "name": "stdout",
     "output_type": "stream",
     "text": [
      "[CV] END activation=identity, alpha=0.0001, early_stopping=True, learning_rate=constant, learning_rate_init=0.0005, max_iter=5, n_iter_no_change=5, power_t=0.001, solver=adam; total time=  17.1s\n"
     ]
    },
    {
     "name": "stderr",
     "output_type": "stream",
     "text": [
      "/Users/sebastianlopez/miniconda3/envs/maestriamatching/lib/python3.10/site-packages/sklearn/neural_network/_multilayer_perceptron.py:691: ConvergenceWarning: Stochastic Optimizer: Maximum iterations (5) reached and the optimization hasn't converged yet.\n",
      "  warnings.warn(\n",
      "/Users/sebastianlopez/miniconda3/envs/maestriamatching/lib/python3.10/site-packages/sklearn/neural_network/_multilayer_perceptron.py:691: ConvergenceWarning: Stochastic Optimizer: Maximum iterations (5) reached and the optimization hasn't converged yet.\n",
      "  warnings.warn(\n",
      "/Users/sebastianlopez/miniconda3/envs/maestriamatching/lib/python3.10/site-packages/sklearn/neural_network/_multilayer_perceptron.py:546: ConvergenceWarning: lbfgs failed to converge (status=1):\n",
      "STOP: TOTAL NO. of ITERATIONS REACHED LIMIT.\n",
      "\n",
      "Increase the number of iterations (max_iter) or scale the data as shown in:\n",
      "    https://scikit-learn.org/stable/modules/preprocessing.html\n",
      "  self.n_iter_ = _check_optimize_result(\"lbfgs\", opt_res, self.max_iter)\n"
     ]
    },
    {
     "name": "stdout",
     "output_type": "stream",
     "text": [
      "[CV] END activation=identity, alpha=0.0001, early_stopping=True, learning_rate=constant, learning_rate_init=0.0005, max_iter=5, n_iter_no_change=5, power_t=0.005, solver=sgd; total time=  15.9s\n"
     ]
    },
    {
     "name": "stderr",
     "output_type": "stream",
     "text": [
      "/Users/sebastianlopez/miniconda3/envs/maestriamatching/lib/python3.10/site-packages/sklearn/neural_network/_multilayer_perceptron.py:691: ConvergenceWarning: Stochastic Optimizer: Maximum iterations (5) reached and the optimization hasn't converged yet.\n",
      "  warnings.warn(\n"
     ]
    },
    {
     "name": "stdout",
     "output_type": "stream",
     "text": [
      "[CV] END activation=identity, alpha=0.0001, early_stopping=True, learning_rate=constant, learning_rate_init=0.0005, max_iter=5, n_iter_no_change=5, power_t=0.005, solver=sgd; total time=  15.9s\n",
      "[CV] END activation=identity, alpha=0.0001, early_stopping=True, learning_rate=constant, learning_rate_init=0.0005, max_iter=5, n_iter_no_change=5, power_t=0.005, solver=lbfgs; total time=  18.1s\n",
      "[CV] END activation=identity, alpha=0.0001, early_stopping=True, learning_rate=constant, learning_rate_init=0.0005, max_iter=5, n_iter_no_change=5, power_t=0.005, solver=sgd; total time=  16.1s\n"
     ]
    },
    {
     "name": "stderr",
     "output_type": "stream",
     "text": [
      "/Users/sebastianlopez/miniconda3/envs/maestriamatching/lib/python3.10/site-packages/sklearn/neural_network/_multilayer_perceptron.py:546: ConvergenceWarning: lbfgs failed to converge (status=1):\n",
      "STOP: TOTAL NO. of ITERATIONS REACHED LIMIT.\n",
      "\n",
      "Increase the number of iterations (max_iter) or scale the data as shown in:\n",
      "    https://scikit-learn.org/stable/modules/preprocessing.html\n",
      "  self.n_iter_ = _check_optimize_result(\"lbfgs\", opt_res, self.max_iter)\n",
      "/Users/sebastianlopez/miniconda3/envs/maestriamatching/lib/python3.10/site-packages/sklearn/neural_network/_multilayer_perceptron.py:691: ConvergenceWarning: Stochastic Optimizer: Maximum iterations (5) reached and the optimization hasn't converged yet.\n",
      "  warnings.warn(\n"
     ]
    },
    {
     "name": "stdout",
     "output_type": "stream",
     "text": [
      "[CV] END activation=identity, alpha=0.0001, early_stopping=True, learning_rate=constant, learning_rate_init=0.0005, max_iter=5, n_iter_no_change=5, power_t=0.005, solver=lbfgs; total time=  19.8s\n",
      "[CV] END activation=identity, alpha=0.0001, early_stopping=True, learning_rate=constant, learning_rate_init=0.0005, max_iter=5, n_iter_no_change=5, power_t=0.005, solver=adam; total time=  17.0s\n"
     ]
    },
    {
     "name": "stderr",
     "output_type": "stream",
     "text": [
      "/Users/sebastianlopez/miniconda3/envs/maestriamatching/lib/python3.10/site-packages/sklearn/neural_network/_multilayer_perceptron.py:691: ConvergenceWarning: Stochastic Optimizer: Maximum iterations (5) reached and the optimization hasn't converged yet.\n",
      "  warnings.warn(\n"
     ]
    },
    {
     "name": "stdout",
     "output_type": "stream",
     "text": [
      "[CV] END activation=identity, alpha=0.0001, early_stopping=True, learning_rate=constant, learning_rate_init=0.0005, max_iter=5, n_iter_no_change=5, power_t=0.005, solver=adam; total time=  16.8s\n"
     ]
    },
    {
     "name": "stderr",
     "output_type": "stream",
     "text": [
      "/Users/sebastianlopez/miniconda3/envs/maestriamatching/lib/python3.10/site-packages/sklearn/neural_network/_multilayer_perceptron.py:691: ConvergenceWarning: Stochastic Optimizer: Maximum iterations (5) reached and the optimization hasn't converged yet.\n",
      "  warnings.warn(\n"
     ]
    },
    {
     "name": "stdout",
     "output_type": "stream",
     "text": [
      "[CV] END activation=identity, alpha=0.0001, early_stopping=True, learning_rate=constant, learning_rate_init=0.0005, max_iter=5, n_iter_no_change=5, power_t=0.005, solver=adam; total time=  16.9s\n"
     ]
    },
    {
     "name": "stderr",
     "output_type": "stream",
     "text": [
      "/Users/sebastianlopez/miniconda3/envs/maestriamatching/lib/python3.10/site-packages/sklearn/neural_network/_multilayer_perceptron.py:546: ConvergenceWarning: lbfgs failed to converge (status=1):\n",
      "STOP: TOTAL NO. of ITERATIONS REACHED LIMIT.\n",
      "\n",
      "Increase the number of iterations (max_iter) or scale the data as shown in:\n",
      "    https://scikit-learn.org/stable/modules/preprocessing.html\n",
      "  self.n_iter_ = _check_optimize_result(\"lbfgs\", opt_res, self.max_iter)\n"
     ]
    },
    {
     "name": "stdout",
     "output_type": "stream",
     "text": [
      "[CV] END activation=identity, alpha=0.0001, early_stopping=True, learning_rate=constant, learning_rate_init=0.0005, max_iter=5, n_iter_no_change=5, power_t=0.005, solver=lbfgs; total time=  26.9s\n"
     ]
    },
    {
     "name": "stderr",
     "output_type": "stream",
     "text": [
      "/Users/sebastianlopez/miniconda3/envs/maestriamatching/lib/python3.10/site-packages/sklearn/neural_network/_multilayer_perceptron.py:546: ConvergenceWarning: lbfgs failed to converge (status=1):\n",
      "STOP: TOTAL NO. of ITERATIONS REACHED LIMIT.\n",
      "\n",
      "Increase the number of iterations (max_iter) or scale the data as shown in:\n",
      "    https://scikit-learn.org/stable/modules/preprocessing.html\n",
      "  self.n_iter_ = _check_optimize_result(\"lbfgs\", opt_res, self.max_iter)\n"
     ]
    },
    {
     "name": "stdout",
     "output_type": "stream",
     "text": [
      "[CV] END activation=identity, alpha=0.0001, early_stopping=True, learning_rate=constant, learning_rate_init=0.0005, max_iter=10, n_iter_no_change=5, power_t=0.5, solver=lbfgs; total time=  30.0s\n"
     ]
    },
    {
     "name": "stderr",
     "output_type": "stream",
     "text": [
      "/Users/sebastianlopez/miniconda3/envs/maestriamatching/lib/python3.10/site-packages/sklearn/neural_network/_multilayer_perceptron.py:546: ConvergenceWarning: lbfgs failed to converge (status=1):\n",
      "STOP: TOTAL NO. of ITERATIONS REACHED LIMIT.\n",
      "\n",
      "Increase the number of iterations (max_iter) or scale the data as shown in:\n",
      "    https://scikit-learn.org/stable/modules/preprocessing.html\n",
      "  self.n_iter_ = _check_optimize_result(\"lbfgs\", opt_res, self.max_iter)\n"
     ]
    },
    {
     "name": "stdout",
     "output_type": "stream",
     "text": [
      "[CV] END activation=identity, alpha=0.0001, early_stopping=True, learning_rate=constant, learning_rate_init=0.0005, max_iter=10, n_iter_no_change=5, power_t=0.5, solver=lbfgs; total time=  29.5s\n"
     ]
    },
    {
     "name": "stderr",
     "output_type": "stream",
     "text": [
      "/Users/sebastianlopez/miniconda3/envs/maestriamatching/lib/python3.10/site-packages/sklearn/neural_network/_multilayer_perceptron.py:546: ConvergenceWarning: lbfgs failed to converge (status=1):\n",
      "STOP: TOTAL NO. of ITERATIONS REACHED LIMIT.\n",
      "\n",
      "Increase the number of iterations (max_iter) or scale the data as shown in:\n",
      "    https://scikit-learn.org/stable/modules/preprocessing.html\n",
      "  self.n_iter_ = _check_optimize_result(\"lbfgs\", opt_res, self.max_iter)\n"
     ]
    },
    {
     "name": "stdout",
     "output_type": "stream",
     "text": [
      "[CV] END activation=identity, alpha=0.0001, early_stopping=True, learning_rate=constant, learning_rate_init=0.0005, max_iter=10, n_iter_no_change=5, power_t=0.5, solver=lbfgs; total time=  27.6s\n"
     ]
    },
    {
     "name": "stderr",
     "output_type": "stream",
     "text": [
      "/Users/sebastianlopez/miniconda3/envs/maestriamatching/lib/python3.10/site-packages/sklearn/neural_network/_multilayer_perceptron.py:691: ConvergenceWarning: Stochastic Optimizer: Maximum iterations (10) reached and the optimization hasn't converged yet.\n",
      "  warnings.warn(\n",
      "/Users/sebastianlopez/miniconda3/envs/maestriamatching/lib/python3.10/site-packages/sklearn/neural_network/_multilayer_perceptron.py:691: ConvergenceWarning: Stochastic Optimizer: Maximum iterations (10) reached and the optimization hasn't converged yet.\n",
      "  warnings.warn(\n",
      "/Users/sebastianlopez/miniconda3/envs/maestriamatching/lib/python3.10/site-packages/sklearn/neural_network/_multilayer_perceptron.py:691: ConvergenceWarning: Stochastic Optimizer: Maximum iterations (10) reached and the optimization hasn't converged yet.\n",
      "  warnings.warn(\n"
     ]
    },
    {
     "name": "stdout",
     "output_type": "stream",
     "text": [
      "[CV] END activation=identity, alpha=0.0001, early_stopping=True, learning_rate=constant, learning_rate_init=0.0005, max_iter=10, n_iter_no_change=5, power_t=0.5, solver=sgd; total time=  28.2s\n",
      "[CV] END activation=identity, alpha=0.0001, early_stopping=True, learning_rate=constant, learning_rate_init=0.0005, max_iter=10, n_iter_no_change=5, power_t=0.5, solver=sgd; total time=  28.0s\n",
      "[CV] END activation=identity, alpha=0.0001, early_stopping=True, learning_rate=constant, learning_rate_init=0.0005, max_iter=10, n_iter_no_change=5, power_t=0.5, solver=sgd; total time=  27.9s\n"
     ]
    },
    {
     "name": "stderr",
     "output_type": "stream",
     "text": [
      "/Users/sebastianlopez/miniconda3/envs/maestriamatching/lib/python3.10/site-packages/sklearn/neural_network/_multilayer_perceptron.py:691: ConvergenceWarning: Stochastic Optimizer: Maximum iterations (10) reached and the optimization hasn't converged yet.\n",
      "  warnings.warn(\n"
     ]
    },
    {
     "name": "stdout",
     "output_type": "stream",
     "text": [
      "[CV] END activation=identity, alpha=0.0001, early_stopping=True, learning_rate=constant, learning_rate_init=0.0005, max_iter=10, n_iter_no_change=5, power_t=0.5, solver=adam; total time=  29.8s\n",
      "[CV] END activation=identity, alpha=0.0001, early_stopping=True, learning_rate=constant, learning_rate_init=0.0005, max_iter=10, n_iter_no_change=5, power_t=0.5, solver=adam; total time=  29.7s\n",
      "[CV] END activation=identity, alpha=0.0001, early_stopping=True, learning_rate=constant, learning_rate_init=0.0005, max_iter=10, n_iter_no_change=5, power_t=0.5, solver=adam; total time=  29.8s\n"
     ]
    },
    {
     "name": "stderr",
     "output_type": "stream",
     "text": [
      "/Users/sebastianlopez/miniconda3/envs/maestriamatching/lib/python3.10/site-packages/sklearn/neural_network/_multilayer_perceptron.py:546: ConvergenceWarning: lbfgs failed to converge (status=1):\n",
      "STOP: TOTAL NO. of ITERATIONS REACHED LIMIT.\n",
      "\n",
      "Increase the number of iterations (max_iter) or scale the data as shown in:\n",
      "    https://scikit-learn.org/stable/modules/preprocessing.html\n",
      "  self.n_iter_ = _check_optimize_result(\"lbfgs\", opt_res, self.max_iter)\n"
     ]
    },
    {
     "name": "stdout",
     "output_type": "stream",
     "text": [
      "[CV] END activation=identity, alpha=0.0001, early_stopping=True, learning_rate=constant, learning_rate_init=0.0005, max_iter=10, n_iter_no_change=5, power_t=0.1, solver=lbfgs; total time=  30.6s\n"
     ]
    },
    {
     "name": "stderr",
     "output_type": "stream",
     "text": [
      "/Users/sebastianlopez/miniconda3/envs/maestriamatching/lib/python3.10/site-packages/sklearn/neural_network/_multilayer_perceptron.py:546: ConvergenceWarning: lbfgs failed to converge (status=1):\n",
      "STOP: TOTAL NO. of ITERATIONS REACHED LIMIT.\n",
      "\n",
      "Increase the number of iterations (max_iter) or scale the data as shown in:\n",
      "    https://scikit-learn.org/stable/modules/preprocessing.html\n",
      "  self.n_iter_ = _check_optimize_result(\"lbfgs\", opt_res, self.max_iter)\n"
     ]
    },
    {
     "name": "stdout",
     "output_type": "stream",
     "text": [
      "[CV] END activation=identity, alpha=0.0001, early_stopping=True, learning_rate=constant, learning_rate_init=0.0005, max_iter=10, n_iter_no_change=5, power_t=0.1, solver=lbfgs; total time=  28.6s\n"
     ]
    },
    {
     "name": "stderr",
     "output_type": "stream",
     "text": [
      "/Users/sebastianlopez/miniconda3/envs/maestriamatching/lib/python3.10/site-packages/sklearn/neural_network/_multilayer_perceptron.py:546: ConvergenceWarning: lbfgs failed to converge (status=1):\n",
      "STOP: TOTAL NO. of ITERATIONS REACHED LIMIT.\n",
      "\n",
      "Increase the number of iterations (max_iter) or scale the data as shown in:\n",
      "    https://scikit-learn.org/stable/modules/preprocessing.html\n",
      "  self.n_iter_ = _check_optimize_result(\"lbfgs\", opt_res, self.max_iter)\n"
     ]
    },
    {
     "name": "stdout",
     "output_type": "stream",
     "text": [
      "[CV] END activation=identity, alpha=0.0001, early_stopping=True, learning_rate=constant, learning_rate_init=0.0005, max_iter=10, n_iter_no_change=5, power_t=0.1, solver=lbfgs; total time=  25.7s\n"
     ]
    },
    {
     "name": "stderr",
     "output_type": "stream",
     "text": [
      "/Users/sebastianlopez/miniconda3/envs/maestriamatching/lib/python3.10/site-packages/sklearn/neural_network/_multilayer_perceptron.py:691: ConvergenceWarning: Stochastic Optimizer: Maximum iterations (10) reached and the optimization hasn't converged yet.\n",
      "  warnings.warn(\n"
     ]
    },
    {
     "name": "stdout",
     "output_type": "stream",
     "text": [
      "[CV] END activation=identity, alpha=0.0001, early_stopping=True, learning_rate=constant, learning_rate_init=0.0005, max_iter=10, n_iter_no_change=5, power_t=0.1, solver=sgd; total time=  27.5s\n"
     ]
    },
    {
     "name": "stderr",
     "output_type": "stream",
     "text": [
      "/Users/sebastianlopez/miniconda3/envs/maestriamatching/lib/python3.10/site-packages/sklearn/neural_network/_multilayer_perceptron.py:691: ConvergenceWarning: Stochastic Optimizer: Maximum iterations (10) reached and the optimization hasn't converged yet.\n",
      "  warnings.warn(\n"
     ]
    },
    {
     "name": "stdout",
     "output_type": "stream",
     "text": [
      "[CV] END activation=identity, alpha=0.0001, early_stopping=True, learning_rate=constant, learning_rate_init=0.0005, max_iter=10, n_iter_no_change=5, power_t=0.1, solver=sgd; total time=  27.9s\n"
     ]
    },
    {
     "name": "stderr",
     "output_type": "stream",
     "text": [
      "/Users/sebastianlopez/miniconda3/envs/maestriamatching/lib/python3.10/site-packages/sklearn/neural_network/_multilayer_perceptron.py:691: ConvergenceWarning: Stochastic Optimizer: Maximum iterations (10) reached and the optimization hasn't converged yet.\n",
      "  warnings.warn(\n"
     ]
    },
    {
     "name": "stdout",
     "output_type": "stream",
     "text": [
      "[CV] END activation=identity, alpha=0.0001, early_stopping=True, learning_rate=constant, learning_rate_init=0.0005, max_iter=10, n_iter_no_change=5, power_t=0.1, solver=sgd; total time=  28.0s\n"
     ]
    },
    {
     "name": "stderr",
     "output_type": "stream",
     "text": [
      "/Users/sebastianlopez/miniconda3/envs/maestriamatching/lib/python3.10/site-packages/sklearn/neural_network/_multilayer_perceptron.py:691: ConvergenceWarning: Stochastic Optimizer: Maximum iterations (10) reached and the optimization hasn't converged yet.\n",
      "  warnings.warn(\n"
     ]
    },
    {
     "name": "stdout",
     "output_type": "stream",
     "text": [
      "[CV] END activation=identity, alpha=0.0001, early_stopping=True, learning_rate=constant, learning_rate_init=0.0005, max_iter=10, n_iter_no_change=5, power_t=0.1, solver=adam; total time=  30.2s\n"
     ]
    },
    {
     "name": "stderr",
     "output_type": "stream",
     "text": [
      "/Users/sebastianlopez/miniconda3/envs/maestriamatching/lib/python3.10/site-packages/sklearn/neural_network/_multilayer_perceptron.py:691: ConvergenceWarning: Stochastic Optimizer: Maximum iterations (10) reached and the optimization hasn't converged yet.\n",
      "  warnings.warn(\n"
     ]
    },
    {
     "name": "stdout",
     "output_type": "stream",
     "text": [
      "[CV] END activation=identity, alpha=0.0001, early_stopping=True, learning_rate=constant, learning_rate_init=0.0005, max_iter=10, n_iter_no_change=5, power_t=0.1, solver=adam; total time=  30.6s\n",
      "[CV] END activation=identity, alpha=0.0001, early_stopping=True, learning_rate=constant, learning_rate_init=0.0005, max_iter=10, n_iter_no_change=5, power_t=0.1, solver=adam; total time=  27.7s\n"
     ]
    },
    {
     "name": "stderr",
     "output_type": "stream",
     "text": [
      "/Users/sebastianlopez/miniconda3/envs/maestriamatching/lib/python3.10/site-packages/sklearn/neural_network/_multilayer_perceptron.py:546: ConvergenceWarning: lbfgs failed to converge (status=1):\n",
      "STOP: TOTAL NO. of ITERATIONS REACHED LIMIT.\n",
      "\n",
      "Increase the number of iterations (max_iter) or scale the data as shown in:\n",
      "    https://scikit-learn.org/stable/modules/preprocessing.html\n",
      "  self.n_iter_ = _check_optimize_result(\"lbfgs\", opt_res, self.max_iter)\n"
     ]
    },
    {
     "name": "stdout",
     "output_type": "stream",
     "text": [
      "[CV] END activation=identity, alpha=0.0001, early_stopping=True, learning_rate=constant, learning_rate_init=0.0005, max_iter=10, n_iter_no_change=5, power_t=0.9, solver=lbfgs; total time=  31.7s\n"
     ]
    },
    {
     "name": "stderr",
     "output_type": "stream",
     "text": [
      "/Users/sebastianlopez/miniconda3/envs/maestriamatching/lib/python3.10/site-packages/sklearn/neural_network/_multilayer_perceptron.py:546: ConvergenceWarning: lbfgs failed to converge (status=1):\n",
      "STOP: TOTAL NO. of ITERATIONS REACHED LIMIT.\n",
      "\n",
      "Increase the number of iterations (max_iter) or scale the data as shown in:\n",
      "    https://scikit-learn.org/stable/modules/preprocessing.html\n",
      "  self.n_iter_ = _check_optimize_result(\"lbfgs\", opt_res, self.max_iter)\n"
     ]
    },
    {
     "name": "stdout",
     "output_type": "stream",
     "text": [
      "[CV] END activation=identity, alpha=0.0001, early_stopping=True, learning_rate=constant, learning_rate_init=0.0005, max_iter=10, n_iter_no_change=5, power_t=0.9, solver=lbfgs; total time=  31.9s\n"
     ]
    },
    {
     "name": "stderr",
     "output_type": "stream",
     "text": [
      "/Users/sebastianlopez/miniconda3/envs/maestriamatching/lib/python3.10/site-packages/sklearn/neural_network/_multilayer_perceptron.py:546: ConvergenceWarning: lbfgs failed to converge (status=1):\n",
      "STOP: TOTAL NO. of ITERATIONS REACHED LIMIT.\n",
      "\n",
      "Increase the number of iterations (max_iter) or scale the data as shown in:\n",
      "    https://scikit-learn.org/stable/modules/preprocessing.html\n",
      "  self.n_iter_ = _check_optimize_result(\"lbfgs\", opt_res, self.max_iter)\n",
      "/Users/sebastianlopez/miniconda3/envs/maestriamatching/lib/python3.10/site-packages/sklearn/neural_network/_multilayer_perceptron.py:691: ConvergenceWarning: Stochastic Optimizer: Maximum iterations (10) reached and the optimization hasn't converged yet.\n",
      "  warnings.warn(\n"
     ]
    },
    {
     "name": "stdout",
     "output_type": "stream",
     "text": [
      "[CV] END activation=identity, alpha=0.0001, early_stopping=True, learning_rate=constant, learning_rate_init=0.0005, max_iter=10, n_iter_no_change=5, power_t=0.9, solver=lbfgs; total time=  31.7s\n",
      "[CV] END activation=identity, alpha=0.0001, early_stopping=True, learning_rate=constant, learning_rate_init=0.0005, max_iter=10, n_iter_no_change=5, power_t=0.9, solver=sgd; total time=  29.3s\n"
     ]
    },
    {
     "name": "stderr",
     "output_type": "stream",
     "text": [
      "/Users/sebastianlopez/miniconda3/envs/maestriamatching/lib/python3.10/site-packages/sklearn/neural_network/_multilayer_perceptron.py:691: ConvergenceWarning: Stochastic Optimizer: Maximum iterations (10) reached and the optimization hasn't converged yet.\n",
      "  warnings.warn(\n"
     ]
    },
    {
     "name": "stdout",
     "output_type": "stream",
     "text": [
      "[CV] END activation=identity, alpha=0.0001, early_stopping=True, learning_rate=constant, learning_rate_init=0.0005, max_iter=10, n_iter_no_change=5, power_t=0.9, solver=sgd; total time=  29.7s\n"
     ]
    },
    {
     "name": "stderr",
     "output_type": "stream",
     "text": [
      "/Users/sebastianlopez/miniconda3/envs/maestriamatching/lib/python3.10/site-packages/sklearn/neural_network/_multilayer_perceptron.py:691: ConvergenceWarning: Stochastic Optimizer: Maximum iterations (10) reached and the optimization hasn't converged yet.\n",
      "  warnings.warn(\n"
     ]
    },
    {
     "name": "stdout",
     "output_type": "stream",
     "text": [
      "[CV] END activation=identity, alpha=0.0001, early_stopping=True, learning_rate=constant, learning_rate_init=0.0005, max_iter=10, n_iter_no_change=5, power_t=0.9, solver=sgd; total time=  29.3s\n"
     ]
    },
    {
     "name": "stderr",
     "output_type": "stream",
     "text": [
      "/Users/sebastianlopez/miniconda3/envs/maestriamatching/lib/python3.10/site-packages/sklearn/neural_network/_multilayer_perceptron.py:691: ConvergenceWarning: Stochastic Optimizer: Maximum iterations (10) reached and the optimization hasn't converged yet.\n",
      "  warnings.warn(\n"
     ]
    },
    {
     "name": "stdout",
     "output_type": "stream",
     "text": [
      "[CV] END activation=identity, alpha=0.0001, early_stopping=True, learning_rate=constant, learning_rate_init=0.0005, max_iter=10, n_iter_no_change=5, power_t=0.9, solver=adam; total time=  31.7s\n"
     ]
    },
    {
     "name": "stderr",
     "output_type": "stream",
     "text": [
      "/Users/sebastianlopez/miniconda3/envs/maestriamatching/lib/python3.10/site-packages/sklearn/neural_network/_multilayer_perceptron.py:691: ConvergenceWarning: Stochastic Optimizer: Maximum iterations (10) reached and the optimization hasn't converged yet.\n",
      "  warnings.warn(\n"
     ]
    },
    {
     "name": "stdout",
     "output_type": "stream",
     "text": [
      "[CV] END activation=identity, alpha=0.0001, early_stopping=True, learning_rate=constant, learning_rate_init=0.0005, max_iter=10, n_iter_no_change=5, power_t=0.9, solver=adam; total time=  32.1s\n"
     ]
    },
    {
     "name": "stderr",
     "output_type": "stream",
     "text": [
      "/Users/sebastianlopez/miniconda3/envs/maestriamatching/lib/python3.10/site-packages/sklearn/neural_network/_multilayer_perceptron.py:691: ConvergenceWarning: Stochastic Optimizer: Maximum iterations (10) reached and the optimization hasn't converged yet.\n",
      "  warnings.warn(\n"
     ]
    },
    {
     "name": "stdout",
     "output_type": "stream",
     "text": [
      "[CV] END activation=identity, alpha=0.0001, early_stopping=True, learning_rate=constant, learning_rate_init=0.0005, max_iter=10, n_iter_no_change=5, power_t=0.9, solver=adam; total time=  31.8s\n"
     ]
    },
    {
     "name": "stderr",
     "output_type": "stream",
     "text": [
      "/Users/sebastianlopez/miniconda3/envs/maestriamatching/lib/python3.10/site-packages/sklearn/neural_network/_multilayer_perceptron.py:546: ConvergenceWarning: lbfgs failed to converge (status=1):\n",
      "STOP: TOTAL NO. of ITERATIONS REACHED LIMIT.\n",
      "\n",
      "Increase the number of iterations (max_iter) or scale the data as shown in:\n",
      "    https://scikit-learn.org/stable/modules/preprocessing.html\n",
      "  self.n_iter_ = _check_optimize_result(\"lbfgs\", opt_res, self.max_iter)\n"
     ]
    },
    {
     "name": "stdout",
     "output_type": "stream",
     "text": [
      "[CV] END activation=identity, alpha=0.0001, early_stopping=True, learning_rate=constant, learning_rate_init=0.0005, max_iter=10, n_iter_no_change=5, power_t=0.001, solver=lbfgs; total time=  29.8s\n"
     ]
    },
    {
     "name": "stderr",
     "output_type": "stream",
     "text": [
      "/Users/sebastianlopez/miniconda3/envs/maestriamatching/lib/python3.10/site-packages/sklearn/neural_network/_multilayer_perceptron.py:691: ConvergenceWarning: Stochastic Optimizer: Maximum iterations (10) reached and the optimization hasn't converged yet.\n",
      "  warnings.warn(\n"
     ]
    },
    {
     "name": "stdout",
     "output_type": "stream",
     "text": [
      "[CV] END activation=identity, alpha=0.0001, early_stopping=True, learning_rate=constant, learning_rate_init=0.0005, max_iter=10, n_iter_no_change=5, power_t=0.001, solver=sgd; total time=  28.7s\n"
     ]
    },
    {
     "name": "stderr",
     "output_type": "stream",
     "text": [
      "/Users/sebastianlopez/miniconda3/envs/maestriamatching/lib/python3.10/site-packages/sklearn/neural_network/_multilayer_perceptron.py:546: ConvergenceWarning: lbfgs failed to converge (status=1):\n",
      "STOP: TOTAL NO. of ITERATIONS REACHED LIMIT.\n",
      "\n",
      "Increase the number of iterations (max_iter) or scale the data as shown in:\n",
      "    https://scikit-learn.org/stable/modules/preprocessing.html\n",
      "  self.n_iter_ = _check_optimize_result(\"lbfgs\", opt_res, self.max_iter)\n",
      "/Users/sebastianlopez/miniconda3/envs/maestriamatching/lib/python3.10/site-packages/sklearn/neural_network/_multilayer_perceptron.py:691: ConvergenceWarning: Stochastic Optimizer: Maximum iterations (10) reached and the optimization hasn't converged yet.\n",
      "  warnings.warn(\n",
      "/Users/sebastianlopez/miniconda3/envs/maestriamatching/lib/python3.10/site-packages/sklearn/neural_network/_multilayer_perceptron.py:546: ConvergenceWarning: lbfgs failed to converge (status=1):\n",
      "STOP: TOTAL NO. of ITERATIONS REACHED LIMIT.\n",
      "\n",
      "Increase the number of iterations (max_iter) or scale the data as shown in:\n",
      "    https://scikit-learn.org/stable/modules/preprocessing.html\n",
      "  self.n_iter_ = _check_optimize_result(\"lbfgs\", opt_res, self.max_iter)\n"
     ]
    },
    {
     "name": "stdout",
     "output_type": "stream",
     "text": [
      "[CV] END activation=identity, alpha=0.0001, early_stopping=True, learning_rate=constant, learning_rate_init=0.0005, max_iter=10, n_iter_no_change=5, power_t=0.001, solver=sgd; total time=  28.9s\n",
      "[CV] END activation=identity, alpha=0.0001, early_stopping=True, learning_rate=constant, learning_rate_init=0.0005, max_iter=10, n_iter_no_change=5, power_t=0.001, solver=lbfgs; total time=  36.7s\n"
     ]
    },
    {
     "name": "stderr",
     "output_type": "stream",
     "text": [
      "/Users/sebastianlopez/miniconda3/envs/maestriamatching/lib/python3.10/site-packages/sklearn/neural_network/_multilayer_perceptron.py:691: ConvergenceWarning: Stochastic Optimizer: Maximum iterations (10) reached and the optimization hasn't converged yet.\n",
      "  warnings.warn(\n"
     ]
    },
    {
     "name": "stdout",
     "output_type": "stream",
     "text": [
      "[CV] END activation=identity, alpha=0.0001, early_stopping=True, learning_rate=constant, learning_rate_init=0.0005, max_iter=10, n_iter_no_change=5, power_t=0.001, solver=lbfgs; total time=  38.4s\n",
      "[CV] END activation=identity, alpha=0.0001, early_stopping=True, learning_rate=constant, learning_rate_init=0.0005, max_iter=10, n_iter_no_change=5, power_t=0.001, solver=sgd; total time=  29.1s\n"
     ]
    },
    {
     "name": "stderr",
     "output_type": "stream",
     "text": [
      "/Users/sebastianlopez/miniconda3/envs/maestriamatching/lib/python3.10/site-packages/sklearn/neural_network/_multilayer_perceptron.py:691: ConvergenceWarning: Stochastic Optimizer: Maximum iterations (10) reached and the optimization hasn't converged yet.\n",
      "  warnings.warn(\n"
     ]
    },
    {
     "name": "stdout",
     "output_type": "stream",
     "text": [
      "[CV] END activation=identity, alpha=0.0001, early_stopping=True, learning_rate=constant, learning_rate_init=0.0005, max_iter=10, n_iter_no_change=5, power_t=0.001, solver=adam; total time=  31.7s\n"
     ]
    },
    {
     "name": "stderr",
     "output_type": "stream",
     "text": [
      "/Users/sebastianlopez/miniconda3/envs/maestriamatching/lib/python3.10/site-packages/sklearn/neural_network/_multilayer_perceptron.py:691: ConvergenceWarning: Stochastic Optimizer: Maximum iterations (10) reached and the optimization hasn't converged yet.\n",
      "  warnings.warn(\n"
     ]
    },
    {
     "name": "stdout",
     "output_type": "stream",
     "text": [
      "[CV] END activation=identity, alpha=0.0001, early_stopping=True, learning_rate=constant, learning_rate_init=0.0005, max_iter=10, n_iter_no_change=5, power_t=0.001, solver=adam; total time=  31.6s\n"
     ]
    },
    {
     "name": "stderr",
     "output_type": "stream",
     "text": [
      "/Users/sebastianlopez/miniconda3/envs/maestriamatching/lib/python3.10/site-packages/sklearn/neural_network/_multilayer_perceptron.py:546: ConvergenceWarning: lbfgs failed to converge (status=1):\n",
      "STOP: TOTAL NO. of ITERATIONS REACHED LIMIT.\n",
      "\n",
      "Increase the number of iterations (max_iter) or scale the data as shown in:\n",
      "    https://scikit-learn.org/stable/modules/preprocessing.html\n",
      "  self.n_iter_ = _check_optimize_result(\"lbfgs\", opt_res, self.max_iter)\n"
     ]
    },
    {
     "name": "stdout",
     "output_type": "stream",
     "text": [
      "[CV] END activation=identity, alpha=0.0001, early_stopping=True, learning_rate=constant, learning_rate_init=0.0005, max_iter=10, n_iter_no_change=5, power_t=0.005, solver=lbfgs; total time=  27.4s\n"
     ]
    },
    {
     "name": "stderr",
     "output_type": "stream",
     "text": [
      "/Users/sebastianlopez/miniconda3/envs/maestriamatching/lib/python3.10/site-packages/sklearn/neural_network/_multilayer_perceptron.py:691: ConvergenceWarning: Stochastic Optimizer: Maximum iterations (10) reached and the optimization hasn't converged yet.\n",
      "  warnings.warn(\n"
     ]
    },
    {
     "name": "stdout",
     "output_type": "stream",
     "text": [
      "[CV] END activation=identity, alpha=0.0001, early_stopping=True, learning_rate=constant, learning_rate_init=0.0005, max_iter=10, n_iter_no_change=5, power_t=0.001, solver=adam; total time=  31.4s\n"
     ]
    },
    {
     "name": "stderr",
     "output_type": "stream",
     "text": [
      "/Users/sebastianlopez/miniconda3/envs/maestriamatching/lib/python3.10/site-packages/sklearn/neural_network/_multilayer_perceptron.py:691: ConvergenceWarning: Stochastic Optimizer: Maximum iterations (10) reached and the optimization hasn't converged yet.\n",
      "  warnings.warn(\n"
     ]
    },
    {
     "name": "stdout",
     "output_type": "stream",
     "text": [
      "[CV] END activation=identity, alpha=0.0001, early_stopping=True, learning_rate=constant, learning_rate_init=0.0005, max_iter=10, n_iter_no_change=5, power_t=0.005, solver=sgd; total time=  28.9s\n"
     ]
    },
    {
     "name": "stderr",
     "output_type": "stream",
     "text": [
      "/Users/sebastianlopez/miniconda3/envs/maestriamatching/lib/python3.10/site-packages/sklearn/neural_network/_multilayer_perceptron.py:691: ConvergenceWarning: Stochastic Optimizer: Maximum iterations (10) reached and the optimization hasn't converged yet.\n",
      "  warnings.warn(\n",
      "/Users/sebastianlopez/miniconda3/envs/maestriamatching/lib/python3.10/site-packages/sklearn/neural_network/_multilayer_perceptron.py:691: ConvergenceWarning: Stochastic Optimizer: Maximum iterations (10) reached and the optimization hasn't converged yet.\n",
      "  warnings.warn(\n"
     ]
    },
    {
     "name": "stdout",
     "output_type": "stream",
     "text": [
      "[CV] END activation=identity, alpha=0.0001, early_stopping=True, learning_rate=constant, learning_rate_init=0.0005, max_iter=10, n_iter_no_change=5, power_t=0.005, solver=sgd; total time=  28.5s\n",
      "[CV] END activation=identity, alpha=0.0001, early_stopping=True, learning_rate=constant, learning_rate_init=0.0005, max_iter=10, n_iter_no_change=5, power_t=0.005, solver=sgd; total time=  28.7s\n"
     ]
    },
    {
     "name": "stderr",
     "output_type": "stream",
     "text": [
      "/Users/sebastianlopez/miniconda3/envs/maestriamatching/lib/python3.10/site-packages/sklearn/neural_network/_multilayer_perceptron.py:546: ConvergenceWarning: lbfgs failed to converge (status=1):\n",
      "STOP: TOTAL NO. of ITERATIONS REACHED LIMIT.\n",
      "\n",
      "Increase the number of iterations (max_iter) or scale the data as shown in:\n",
      "    https://scikit-learn.org/stable/modules/preprocessing.html\n",
      "  self.n_iter_ = _check_optimize_result(\"lbfgs\", opt_res, self.max_iter)\n"
     ]
    },
    {
     "name": "stdout",
     "output_type": "stream",
     "text": [
      "[CV] END activation=identity, alpha=0.0001, early_stopping=True, learning_rate=constant, learning_rate_init=0.0005, max_iter=10, n_iter_no_change=5, power_t=0.005, solver=lbfgs; total time=  35.9s\n"
     ]
    },
    {
     "name": "stderr",
     "output_type": "stream",
     "text": [
      "/Users/sebastianlopez/miniconda3/envs/maestriamatching/lib/python3.10/site-packages/sklearn/neural_network/_multilayer_perceptron.py:691: ConvergenceWarning: Stochastic Optimizer: Maximum iterations (10) reached and the optimization hasn't converged yet.\n",
      "  warnings.warn(\n",
      "/Users/sebastianlopez/miniconda3/envs/maestriamatching/lib/python3.10/site-packages/sklearn/neural_network/_multilayer_perceptron.py:691: ConvergenceWarning: Stochastic Optimizer: Maximum iterations (10) reached and the optimization hasn't converged yet.\n",
      "  warnings.warn(\n"
     ]
    },
    {
     "name": "stdout",
     "output_type": "stream",
     "text": [
      "[CV] END activation=identity, alpha=0.0001, early_stopping=True, learning_rate=constant, learning_rate_init=0.0005, max_iter=10, n_iter_no_change=5, power_t=0.005, solver=adam; total time=  30.8s\n",
      "[CV] END activation=identity, alpha=0.0001, early_stopping=True, learning_rate=constant, learning_rate_init=0.0005, max_iter=10, n_iter_no_change=5, power_t=0.005, solver=adam; total time=  31.0s\n"
     ]
    },
    {
     "name": "stderr",
     "output_type": "stream",
     "text": [
      "/Users/sebastianlopez/miniconda3/envs/maestriamatching/lib/python3.10/site-packages/sklearn/neural_network/_multilayer_perceptron.py:546: ConvergenceWarning: lbfgs failed to converge (status=1):\n",
      "STOP: TOTAL NO. of ITERATIONS REACHED LIMIT.\n",
      "\n",
      "Increase the number of iterations (max_iter) or scale the data as shown in:\n",
      "    https://scikit-learn.org/stable/modules/preprocessing.html\n",
      "  self.n_iter_ = _check_optimize_result(\"lbfgs\", opt_res, self.max_iter)\n"
     ]
    },
    {
     "name": "stdout",
     "output_type": "stream",
     "text": [
      "[CV] END activation=identity, alpha=0.0001, early_stopping=True, learning_rate=constant, learning_rate_init=0.0005, max_iter=10, n_iter_no_change=5, power_t=0.005, solver=lbfgs; total time=  36.1s\n"
     ]
    },
    {
     "name": "stderr",
     "output_type": "stream",
     "text": [
      "/Users/sebastianlopez/miniconda3/envs/maestriamatching/lib/python3.10/site-packages/sklearn/neural_network/_multilayer_perceptron.py:691: ConvergenceWarning: Stochastic Optimizer: Maximum iterations (10) reached and the optimization hasn't converged yet.\n",
      "  warnings.warn(\n"
     ]
    },
    {
     "name": "stdout",
     "output_type": "stream",
     "text": [
      "[CV] END activation=identity, alpha=0.0001, early_stopping=True, learning_rate=constant, learning_rate_init=0.0005, max_iter=10, n_iter_no_change=5, power_t=0.005, solver=adam; total time=  30.1s\n",
      "[CV] END activation=identity, alpha=0.0001, early_stopping=True, learning_rate=constant, learning_rate_init=0.0005, max_iter=20, n_iter_no_change=5, power_t=0.5, solver=adam; total time=  30.5s\n",
      "[CV] END activation=identity, alpha=0.0001, early_stopping=True, learning_rate=constant, learning_rate_init=0.0005, max_iter=20, n_iter_no_change=5, power_t=0.5, solver=adam; total time=  33.6s\n",
      "[CV] END activation=identity, alpha=0.0001, early_stopping=True, learning_rate=constant, learning_rate_init=0.0005, max_iter=20, n_iter_no_change=5, power_t=0.5, solver=adam; total time=  36.7s\n"
     ]
    },
    {
     "name": "stderr",
     "output_type": "stream",
     "text": [
      "/Users/sebastianlopez/miniconda3/envs/maestriamatching/lib/python3.10/site-packages/sklearn/neural_network/_multilayer_perceptron.py:546: ConvergenceWarning: lbfgs failed to converge (status=1):\n",
      "STOP: TOTAL NO. of ITERATIONS REACHED LIMIT.\n",
      "\n",
      "Increase the number of iterations (max_iter) or scale the data as shown in:\n",
      "    https://scikit-learn.org/stable/modules/preprocessing.html\n",
      "  self.n_iter_ = _check_optimize_result(\"lbfgs\", opt_res, self.max_iter)\n"
     ]
    },
    {
     "name": "stdout",
     "output_type": "stream",
     "text": [
      "[CV] END activation=identity, alpha=0.0001, early_stopping=True, learning_rate=constant, learning_rate_init=0.0005, max_iter=20, n_iter_no_change=5, power_t=0.5, solver=lbfgs; total time=  53.8s\n"
     ]
    },
    {
     "name": "stderr",
     "output_type": "stream",
     "text": [
      "/Users/sebastianlopez/miniconda3/envs/maestriamatching/lib/python3.10/site-packages/sklearn/neural_network/_multilayer_perceptron.py:546: ConvergenceWarning: lbfgs failed to converge (status=1):\n",
      "STOP: TOTAL NO. of ITERATIONS REACHED LIMIT.\n",
      "\n",
      "Increase the number of iterations (max_iter) or scale the data as shown in:\n",
      "    https://scikit-learn.org/stable/modules/preprocessing.html\n",
      "  self.n_iter_ = _check_optimize_result(\"lbfgs\", opt_res, self.max_iter)\n"
     ]
    },
    {
     "name": "stdout",
     "output_type": "stream",
     "text": [
      "[CV] END activation=identity, alpha=0.0001, early_stopping=True, learning_rate=constant, learning_rate_init=0.0005, max_iter=20, n_iter_no_change=5, power_t=0.5, solver=lbfgs; total time=  53.7s\n"
     ]
    },
    {
     "name": "stderr",
     "output_type": "stream",
     "text": [
      "/Users/sebastianlopez/miniconda3/envs/maestriamatching/lib/python3.10/site-packages/sklearn/neural_network/_multilayer_perceptron.py:546: ConvergenceWarning: lbfgs failed to converge (status=1):\n",
      "STOP: TOTAL NO. of ITERATIONS REACHED LIMIT.\n",
      "\n",
      "Increase the number of iterations (max_iter) or scale the data as shown in:\n",
      "    https://scikit-learn.org/stable/modules/preprocessing.html\n",
      "  self.n_iter_ = _check_optimize_result(\"lbfgs\", opt_res, self.max_iter)\n"
     ]
    },
    {
     "name": "stdout",
     "output_type": "stream",
     "text": [
      "[CV] END activation=identity, alpha=0.0001, early_stopping=True, learning_rate=constant, learning_rate_init=0.0005, max_iter=20, n_iter_no_change=5, power_t=0.5, solver=lbfgs; total time= 1.0min\n"
     ]
    },
    {
     "name": "stderr",
     "output_type": "stream",
     "text": [
      "/Users/sebastianlopez/miniconda3/envs/maestriamatching/lib/python3.10/site-packages/sklearn/neural_network/_multilayer_perceptron.py:691: ConvergenceWarning: Stochastic Optimizer: Maximum iterations (20) reached and the optimization hasn't converged yet.\n",
      "  warnings.warn(\n"
     ]
    },
    {
     "name": "stdout",
     "output_type": "stream",
     "text": [
      "[CV] END activation=identity, alpha=0.0001, early_stopping=True, learning_rate=constant, learning_rate_init=0.0005, max_iter=20, n_iter_no_change=5, power_t=0.5, solver=sgd; total time=  56.3s\n"
     ]
    },
    {
     "name": "stderr",
     "output_type": "stream",
     "text": [
      "/Users/sebastianlopez/miniconda3/envs/maestriamatching/lib/python3.10/site-packages/sklearn/neural_network/_multilayer_perceptron.py:691: ConvergenceWarning: Stochastic Optimizer: Maximum iterations (20) reached and the optimization hasn't converged yet.\n",
      "  warnings.warn(\n",
      "/Users/sebastianlopez/miniconda3/envs/maestriamatching/lib/python3.10/site-packages/sklearn/neural_network/_multilayer_perceptron.py:691: ConvergenceWarning: Stochastic Optimizer: Maximum iterations (20) reached and the optimization hasn't converged yet.\n",
      "  warnings.warn(\n"
     ]
    },
    {
     "name": "stdout",
     "output_type": "stream",
     "text": [
      "[CV] END activation=identity, alpha=0.0001, early_stopping=True, learning_rate=constant, learning_rate_init=0.0005, max_iter=20, n_iter_no_change=5, power_t=0.5, solver=sgd; total time=  56.4s\n",
      "[CV] END activation=identity, alpha=0.0001, early_stopping=True, learning_rate=constant, learning_rate_init=0.0005, max_iter=20, n_iter_no_change=5, power_t=0.5, solver=sgd; total time=  56.6s\n"
     ]
    },
    {
     "name": "stderr",
     "output_type": "stream",
     "text": [
      "/Users/sebastianlopez/miniconda3/envs/maestriamatching/lib/python3.10/site-packages/sklearn/neural_network/_multilayer_perceptron.py:546: ConvergenceWarning: lbfgs failed to converge (status=1):\n",
      "STOP: TOTAL NO. of ITERATIONS REACHED LIMIT.\n",
      "\n",
      "Increase the number of iterations (max_iter) or scale the data as shown in:\n",
      "    https://scikit-learn.org/stable/modules/preprocessing.html\n",
      "  self.n_iter_ = _check_optimize_result(\"lbfgs\", opt_res, self.max_iter)\n"
     ]
    },
    {
     "name": "stdout",
     "output_type": "stream",
     "text": [
      "[CV] END activation=identity, alpha=0.0001, early_stopping=True, learning_rate=constant, learning_rate_init=0.0005, max_iter=20, n_iter_no_change=5, power_t=0.1, solver=lbfgs; total time=  53.3s\n"
     ]
    },
    {
     "name": "stderr",
     "output_type": "stream",
     "text": [
      "/Users/sebastianlopez/miniconda3/envs/maestriamatching/lib/python3.10/site-packages/sklearn/neural_network/_multilayer_perceptron.py:546: ConvergenceWarning: lbfgs failed to converge (status=1):\n",
      "STOP: TOTAL NO. of ITERATIONS REACHED LIMIT.\n",
      "\n",
      "Increase the number of iterations (max_iter) or scale the data as shown in:\n",
      "    https://scikit-learn.org/stable/modules/preprocessing.html\n",
      "  self.n_iter_ = _check_optimize_result(\"lbfgs\", opt_res, self.max_iter)\n"
     ]
    },
    {
     "name": "stdout",
     "output_type": "stream",
     "text": [
      "[CV] END activation=identity, alpha=0.0001, early_stopping=True, learning_rate=constant, learning_rate_init=0.0005, max_iter=20, n_iter_no_change=5, power_t=0.1, solver=lbfgs; total time= 1.0min\n"
     ]
    },
    {
     "name": "stderr",
     "output_type": "stream",
     "text": [
      "/Users/sebastianlopez/miniconda3/envs/maestriamatching/lib/python3.10/site-packages/sklearn/neural_network/_multilayer_perceptron.py:546: ConvergenceWarning: lbfgs failed to converge (status=1):\n",
      "STOP: TOTAL NO. of ITERATIONS REACHED LIMIT.\n",
      "\n",
      "Increase the number of iterations (max_iter) or scale the data as shown in:\n",
      "    https://scikit-learn.org/stable/modules/preprocessing.html\n",
      "  self.n_iter_ = _check_optimize_result(\"lbfgs\", opt_res, self.max_iter)\n"
     ]
    },
    {
     "name": "stdout",
     "output_type": "stream",
     "text": [
      "[CV] END activation=identity, alpha=0.0001, early_stopping=True, learning_rate=constant, learning_rate_init=0.0005, max_iter=20, n_iter_no_change=5, power_t=0.1, solver=lbfgs; total time=  50.4s\n",
      "[CV] END activation=identity, alpha=0.0001, early_stopping=True, learning_rate=constant, learning_rate_init=0.0005, max_iter=20, n_iter_no_change=5, power_t=0.1, solver=adam; total time=  41.9s\n"
     ]
    },
    {
     "name": "stderr",
     "output_type": "stream",
     "text": [
      "/Users/sebastianlopez/miniconda3/envs/maestriamatching/lib/python3.10/site-packages/sklearn/neural_network/_multilayer_perceptron.py:691: ConvergenceWarning: Stochastic Optimizer: Maximum iterations (20) reached and the optimization hasn't converged yet.\n",
      "  warnings.warn(\n",
      "/Users/sebastianlopez/miniconda3/envs/maestriamatching/lib/python3.10/site-packages/sklearn/neural_network/_multilayer_perceptron.py:691: ConvergenceWarning: Stochastic Optimizer: Maximum iterations (20) reached and the optimization hasn't converged yet.\n",
      "  warnings.warn(\n"
     ]
    },
    {
     "name": "stdout",
     "output_type": "stream",
     "text": [
      "[CV] END activation=identity, alpha=0.0001, early_stopping=True, learning_rate=constant, learning_rate_init=0.0005, max_iter=20, n_iter_no_change=5, power_t=0.1, solver=sgd; total time=  54.3s\n",
      "[CV] END activation=identity, alpha=0.0001, early_stopping=True, learning_rate=constant, learning_rate_init=0.0005, max_iter=20, n_iter_no_change=5, power_t=0.1, solver=sgd; total time=  54.1s\n"
     ]
    },
    {
     "name": "stderr",
     "output_type": "stream",
     "text": [
      "/Users/sebastianlopez/miniconda3/envs/maestriamatching/lib/python3.10/site-packages/sklearn/neural_network/_multilayer_perceptron.py:691: ConvergenceWarning: Stochastic Optimizer: Maximum iterations (20) reached and the optimization hasn't converged yet.\n",
      "  warnings.warn(\n"
     ]
    },
    {
     "name": "stdout",
     "output_type": "stream",
     "text": [
      "[CV] END activation=identity, alpha=0.0001, early_stopping=True, learning_rate=constant, learning_rate_init=0.0005, max_iter=20, n_iter_no_change=5, power_t=0.1, solver=adam; total time=  40.4s\n",
      "[CV] END activation=identity, alpha=0.0001, early_stopping=True, learning_rate=constant, learning_rate_init=0.0005, max_iter=20, n_iter_no_change=5, power_t=0.1, solver=sgd; total time=  53.3s\n"
     ]
    },
    {
     "name": "stderr",
     "output_type": "stream",
     "text": [
      "/Users/sebastianlopez/miniconda3/envs/maestriamatching/lib/python3.10/site-packages/sklearn/neural_network/_multilayer_perceptron.py:546: ConvergenceWarning: lbfgs failed to converge (status=1):\n",
      "STOP: TOTAL NO. of ITERATIONS REACHED LIMIT.\n",
      "\n",
      "Increase the number of iterations (max_iter) or scale the data as shown in:\n",
      "    https://scikit-learn.org/stable/modules/preprocessing.html\n",
      "  self.n_iter_ = _check_optimize_result(\"lbfgs\", opt_res, self.max_iter)\n"
     ]
    },
    {
     "name": "stdout",
     "output_type": "stream",
     "text": [
      "[CV] END activation=identity, alpha=0.0001, early_stopping=True, learning_rate=constant, learning_rate_init=0.0005, max_iter=20, n_iter_no_change=5, power_t=0.9, solver=lbfgs; total time=  48.0s\n",
      "[CV] END activation=identity, alpha=0.0001, early_stopping=True, learning_rate=constant, learning_rate_init=0.0005, max_iter=20, n_iter_no_change=5, power_t=0.1, solver=adam; total time=  57.2s\n"
     ]
    },
    {
     "name": "stderr",
     "output_type": "stream",
     "text": [
      "/Users/sebastianlopez/miniconda3/envs/maestriamatching/lib/python3.10/site-packages/sklearn/neural_network/_multilayer_perceptron.py:546: ConvergenceWarning: lbfgs failed to converge (status=1):\n",
      "STOP: TOTAL NO. of ITERATIONS REACHED LIMIT.\n",
      "\n",
      "Increase the number of iterations (max_iter) or scale the data as shown in:\n",
      "    https://scikit-learn.org/stable/modules/preprocessing.html\n",
      "  self.n_iter_ = _check_optimize_result(\"lbfgs\", opt_res, self.max_iter)\n"
     ]
    },
    {
     "name": "stdout",
     "output_type": "stream",
     "text": [
      "[CV] END activation=identity, alpha=0.0001, early_stopping=True, learning_rate=constant, learning_rate_init=0.0005, max_iter=20, n_iter_no_change=5, power_t=0.9, solver=lbfgs; total time=  56.4s\n"
     ]
    },
    {
     "name": "stderr",
     "output_type": "stream",
     "text": [
      "/Users/sebastianlopez/miniconda3/envs/maestriamatching/lib/python3.10/site-packages/sklearn/neural_network/_multilayer_perceptron.py:546: ConvergenceWarning: lbfgs failed to converge (status=1):\n",
      "STOP: TOTAL NO. of ITERATIONS REACHED LIMIT.\n",
      "\n",
      "Increase the number of iterations (max_iter) or scale the data as shown in:\n",
      "    https://scikit-learn.org/stable/modules/preprocessing.html\n",
      "  self.n_iter_ = _check_optimize_result(\"lbfgs\", opt_res, self.max_iter)\n"
     ]
    },
    {
     "name": "stdout",
     "output_type": "stream",
     "text": [
      "[CV] END activation=identity, alpha=0.0001, early_stopping=True, learning_rate=constant, learning_rate_init=0.0005, max_iter=20, n_iter_no_change=5, power_t=0.9, solver=lbfgs; total time=  48.1s\n",
      "[CV] END activation=identity, alpha=0.0001, early_stopping=True, learning_rate=constant, learning_rate_init=0.0005, max_iter=20, n_iter_no_change=5, power_t=0.9, solver=adam; total time=  23.0s\n"
     ]
    },
    {
     "name": "stderr",
     "output_type": "stream",
     "text": [
      "/Users/sebastianlopez/miniconda3/envs/maestriamatching/lib/python3.10/site-packages/sklearn/neural_network/_multilayer_perceptron.py:691: ConvergenceWarning: Stochastic Optimizer: Maximum iterations (20) reached and the optimization hasn't converged yet.\n",
      "  warnings.warn(\n"
     ]
    },
    {
     "name": "stdout",
     "output_type": "stream",
     "text": [
      "[CV] END activation=identity, alpha=0.0001, early_stopping=True, learning_rate=constant, learning_rate_init=0.0005, max_iter=20, n_iter_no_change=5, power_t=0.9, solver=sgd; total time=  52.9s\n",
      "[CV] END activation=identity, alpha=0.0001, early_stopping=True, learning_rate=constant, learning_rate_init=0.0005, max_iter=20, n_iter_no_change=5, power_t=0.9, solver=adam; total time=  42.4s\n"
     ]
    },
    {
     "name": "stderr",
     "output_type": "stream",
     "text": [
      "/Users/sebastianlopez/miniconda3/envs/maestriamatching/lib/python3.10/site-packages/sklearn/neural_network/_multilayer_perceptron.py:691: ConvergenceWarning: Stochastic Optimizer: Maximum iterations (20) reached and the optimization hasn't converged yet.\n",
      "  warnings.warn(\n"
     ]
    },
    {
     "name": "stdout",
     "output_type": "stream",
     "text": [
      "[CV] END activation=identity, alpha=0.0001, early_stopping=True, learning_rate=constant, learning_rate_init=0.0005, max_iter=20, n_iter_no_change=5, power_t=0.9, solver=sgd; total time=  52.2s\n"
     ]
    },
    {
     "name": "stderr",
     "output_type": "stream",
     "text": [
      "/Users/sebastianlopez/miniconda3/envs/maestriamatching/lib/python3.10/site-packages/sklearn/neural_network/_multilayer_perceptron.py:691: ConvergenceWarning: Stochastic Optimizer: Maximum iterations (20) reached and the optimization hasn't converged yet.\n",
      "  warnings.warn(\n"
     ]
    },
    {
     "name": "stdout",
     "output_type": "stream",
     "text": [
      "[CV] END activation=identity, alpha=0.0001, early_stopping=True, learning_rate=constant, learning_rate_init=0.0005, max_iter=20, n_iter_no_change=5, power_t=0.9, solver=sgd; total time=  52.1s\n"
     ]
    },
    {
     "name": "stderr",
     "output_type": "stream",
     "text": [
      "/Users/sebastianlopez/miniconda3/envs/maestriamatching/lib/python3.10/site-packages/sklearn/neural_network/_multilayer_perceptron.py:546: ConvergenceWarning: lbfgs failed to converge (status=1):\n",
      "STOP: TOTAL NO. of ITERATIONS REACHED LIMIT.\n",
      "\n",
      "Increase the number of iterations (max_iter) or scale the data as shown in:\n",
      "    https://scikit-learn.org/stable/modules/preprocessing.html\n",
      "  self.n_iter_ = _check_optimize_result(\"lbfgs\", opt_res, self.max_iter)\n"
     ]
    },
    {
     "name": "stdout",
     "output_type": "stream",
     "text": [
      "[CV] END activation=identity, alpha=0.0001, early_stopping=True, learning_rate=constant, learning_rate_init=0.0005, max_iter=20, n_iter_no_change=5, power_t=0.001, solver=lbfgs; total time=  53.7s\n"
     ]
    },
    {
     "name": "stderr",
     "output_type": "stream",
     "text": [
      "/Users/sebastianlopez/miniconda3/envs/maestriamatching/lib/python3.10/site-packages/sklearn/neural_network/_multilayer_perceptron.py:691: ConvergenceWarning: Stochastic Optimizer: Maximum iterations (20) reached and the optimization hasn't converged yet.\n",
      "  warnings.warn(\n"
     ]
    },
    {
     "name": "stdout",
     "output_type": "stream",
     "text": [
      "[CV] END activation=identity, alpha=0.0001, early_stopping=True, learning_rate=constant, learning_rate_init=0.0005, max_iter=20, n_iter_no_change=5, power_t=0.9, solver=adam; total time=  57.0s\n"
     ]
    },
    {
     "name": "stderr",
     "output_type": "stream",
     "text": [
      "/Users/sebastianlopez/miniconda3/envs/maestriamatching/lib/python3.10/site-packages/sklearn/neural_network/_multilayer_perceptron.py:546: ConvergenceWarning: lbfgs failed to converge (status=1):\n",
      "STOP: TOTAL NO. of ITERATIONS REACHED LIMIT.\n",
      "\n",
      "Increase the number of iterations (max_iter) or scale the data as shown in:\n",
      "    https://scikit-learn.org/stable/modules/preprocessing.html\n",
      "  self.n_iter_ = _check_optimize_result(\"lbfgs\", opt_res, self.max_iter)\n"
     ]
    },
    {
     "name": "stdout",
     "output_type": "stream",
     "text": [
      "[CV] END activation=identity, alpha=0.0001, early_stopping=True, learning_rate=constant, learning_rate_init=0.0005, max_iter=20, n_iter_no_change=5, power_t=0.001, solver=lbfgs; total time=  43.4s\n"
     ]
    },
    {
     "name": "stderr",
     "output_type": "stream",
     "text": [
      "/Users/sebastianlopez/miniconda3/envs/maestriamatching/lib/python3.10/site-packages/sklearn/neural_network/_multilayer_perceptron.py:546: ConvergenceWarning: lbfgs failed to converge (status=1):\n",
      "STOP: TOTAL NO. of ITERATIONS REACHED LIMIT.\n",
      "\n",
      "Increase the number of iterations (max_iter) or scale the data as shown in:\n",
      "    https://scikit-learn.org/stable/modules/preprocessing.html\n",
      "  self.n_iter_ = _check_optimize_result(\"lbfgs\", opt_res, self.max_iter)\n"
     ]
    },
    {
     "name": "stdout",
     "output_type": "stream",
     "text": [
      "[CV] END activation=identity, alpha=0.0001, early_stopping=True, learning_rate=constant, learning_rate_init=0.0005, max_iter=20, n_iter_no_change=5, power_t=0.001, solver=lbfgs; total time=  58.4s\n"
     ]
    },
    {
     "name": "stderr",
     "output_type": "stream",
     "text": [
      "/Users/sebastianlopez/miniconda3/envs/maestriamatching/lib/python3.10/site-packages/sklearn/neural_network/_multilayer_perceptron.py:691: ConvergenceWarning: Stochastic Optimizer: Maximum iterations (20) reached and the optimization hasn't converged yet.\n",
      "  warnings.warn(\n"
     ]
    },
    {
     "name": "stdout",
     "output_type": "stream",
     "text": [
      "[CV] END activation=identity, alpha=0.0001, early_stopping=True, learning_rate=constant, learning_rate_init=0.0005, max_iter=20, n_iter_no_change=5, power_t=0.001, solver=sgd; total time=  52.6s\n"
     ]
    },
    {
     "name": "stderr",
     "output_type": "stream",
     "text": [
      "/Users/sebastianlopez/miniconda3/envs/maestriamatching/lib/python3.10/site-packages/sklearn/neural_network/_multilayer_perceptron.py:691: ConvergenceWarning: Stochastic Optimizer: Maximum iterations (20) reached and the optimization hasn't converged yet.\n",
      "  warnings.warn(\n"
     ]
    },
    {
     "name": "stdout",
     "output_type": "stream",
     "text": [
      "[CV] END activation=identity, alpha=0.0001, early_stopping=True, learning_rate=constant, learning_rate_init=0.0005, max_iter=20, n_iter_no_change=5, power_t=0.001, solver=sgd; total time=  52.6s\n"
     ]
    },
    {
     "name": "stderr",
     "output_type": "stream",
     "text": [
      "/Users/sebastianlopez/miniconda3/envs/maestriamatching/lib/python3.10/site-packages/sklearn/neural_network/_multilayer_perceptron.py:691: ConvergenceWarning: Stochastic Optimizer: Maximum iterations (20) reached and the optimization hasn't converged yet.\n",
      "  warnings.warn(\n"
     ]
    },
    {
     "name": "stdout",
     "output_type": "stream",
     "text": [
      "[CV] END activation=identity, alpha=0.0001, early_stopping=True, learning_rate=constant, learning_rate_init=0.0005, max_iter=20, n_iter_no_change=5, power_t=0.001, solver=sgd; total time=  52.9s\n",
      "[CV] END activation=identity, alpha=0.0001, early_stopping=True, learning_rate=constant, learning_rate_init=0.0005, max_iter=20, n_iter_no_change=5, power_t=0.001, solver=adam; total time=  34.7s\n"
     ]
    },
    {
     "name": "stderr",
     "output_type": "stream",
     "text": [
      "/Users/sebastianlopez/miniconda3/envs/maestriamatching/lib/python3.10/site-packages/sklearn/neural_network/_multilayer_perceptron.py:691: ConvergenceWarning: Stochastic Optimizer: Maximum iterations (20) reached and the optimization hasn't converged yet.\n",
      "  warnings.warn(\n"
     ]
    },
    {
     "name": "stdout",
     "output_type": "stream",
     "text": [
      "[CV] END activation=identity, alpha=0.0001, early_stopping=True, learning_rate=constant, learning_rate_init=0.0005, max_iter=20, n_iter_no_change=5, power_t=0.001, solver=adam; total time=  57.3s\n"
     ]
    },
    {
     "name": "stderr",
     "output_type": "stream",
     "text": [
      "/Users/sebastianlopez/miniconda3/envs/maestriamatching/lib/python3.10/site-packages/sklearn/neural_network/_multilayer_perceptron.py:546: ConvergenceWarning: lbfgs failed to converge (status=1):\n",
      "STOP: TOTAL NO. of ITERATIONS REACHED LIMIT.\n",
      "\n",
      "Increase the number of iterations (max_iter) or scale the data as shown in:\n",
      "    https://scikit-learn.org/stable/modules/preprocessing.html\n",
      "  self.n_iter_ = _check_optimize_result(\"lbfgs\", opt_res, self.max_iter)\n"
     ]
    },
    {
     "name": "stdout",
     "output_type": "stream",
     "text": [
      "[CV] END activation=identity, alpha=0.0001, early_stopping=True, learning_rate=constant, learning_rate_init=0.0005, max_iter=20, n_iter_no_change=5, power_t=0.005, solver=lbfgs; total time=  47.3s\n",
      "[CV] END activation=identity, alpha=0.0001, early_stopping=True, learning_rate=constant, learning_rate_init=0.0005, max_iter=20, n_iter_no_change=5, power_t=0.001, solver=adam; total time=  53.8s\n",
      "[CV] END activation=identity, alpha=0.0001, early_stopping=True, learning_rate=constant, learning_rate_init=0.0005, max_iter=20, n_iter_no_change=5, power_t=0.005, solver=adam; total time=  25.0s\n",
      "[CV] END activation=identity, alpha=0.0001, early_stopping=True, learning_rate=constant, learning_rate_init=0.0005, max_iter=20, n_iter_no_change=5, power_t=0.005, solver=adam; total time=  30.1s\n",
      "[CV] END activation=identity, alpha=0.0001, early_stopping=True, learning_rate=constant, learning_rate_init=0.0005, max_iter=20, n_iter_no_change=5, power_t=0.005, solver=adam; total time=  27.8s\n"
     ]
    },
    {
     "name": "stderr",
     "output_type": "stream",
     "text": [
      "/Users/sebastianlopez/miniconda3/envs/maestriamatching/lib/python3.10/site-packages/sklearn/neural_network/_multilayer_perceptron.py:546: ConvergenceWarning: lbfgs failed to converge (status=1):\n",
      "STOP: TOTAL NO. of ITERATIONS REACHED LIMIT.\n",
      "\n",
      "Increase the number of iterations (max_iter) or scale the data as shown in:\n",
      "    https://scikit-learn.org/stable/modules/preprocessing.html\n",
      "  self.n_iter_ = _check_optimize_result(\"lbfgs\", opt_res, self.max_iter)\n"
     ]
    },
    {
     "name": "stdout",
     "output_type": "stream",
     "text": [
      "[CV] END activation=identity, alpha=0.0001, early_stopping=True, learning_rate=constant, learning_rate_init=0.0005, max_iter=20, n_iter_no_change=5, power_t=0.005, solver=lbfgs; total time=  50.5s\n"
     ]
    },
    {
     "name": "stderr",
     "output_type": "stream",
     "text": [
      "/Users/sebastianlopez/miniconda3/envs/maestriamatching/lib/python3.10/site-packages/sklearn/neural_network/_multilayer_perceptron.py:546: ConvergenceWarning: lbfgs failed to converge (status=1):\n",
      "STOP: TOTAL NO. of ITERATIONS REACHED LIMIT.\n",
      "\n",
      "Increase the number of iterations (max_iter) or scale the data as shown in:\n",
      "    https://scikit-learn.org/stable/modules/preprocessing.html\n",
      "  self.n_iter_ = _check_optimize_result(\"lbfgs\", opt_res, self.max_iter)\n"
     ]
    },
    {
     "name": "stdout",
     "output_type": "stream",
     "text": [
      "[CV] END activation=identity, alpha=0.0001, early_stopping=True, learning_rate=constant, learning_rate_init=0.0005, max_iter=20, n_iter_no_change=5, power_t=0.005, solver=lbfgs; total time=  48.9s\n"
     ]
    },
    {
     "name": "stderr",
     "output_type": "stream",
     "text": [
      "/Users/sebastianlopez/miniconda3/envs/maestriamatching/lib/python3.10/site-packages/sklearn/neural_network/_multilayer_perceptron.py:691: ConvergenceWarning: Stochastic Optimizer: Maximum iterations (20) reached and the optimization hasn't converged yet.\n",
      "  warnings.warn(\n"
     ]
    },
    {
     "name": "stdout",
     "output_type": "stream",
     "text": [
      "[CV] END activation=identity, alpha=0.0001, early_stopping=True, learning_rate=constant, learning_rate_init=0.0005, max_iter=20, n_iter_no_change=5, power_t=0.005, solver=sgd; total time=  51.2s\n"
     ]
    },
    {
     "name": "stderr",
     "output_type": "stream",
     "text": [
      "/Users/sebastianlopez/miniconda3/envs/maestriamatching/lib/python3.10/site-packages/sklearn/neural_network/_multilayer_perceptron.py:691: ConvergenceWarning: Stochastic Optimizer: Maximum iterations (20) reached and the optimization hasn't converged yet.\n",
      "  warnings.warn(\n"
     ]
    },
    {
     "name": "stdout",
     "output_type": "stream",
     "text": [
      "[CV] END activation=identity, alpha=0.0001, early_stopping=True, learning_rate=constant, learning_rate_init=0.0005, max_iter=20, n_iter_no_change=5, power_t=0.005, solver=sgd; total time=  51.3s\n"
     ]
    },
    {
     "name": "stderr",
     "output_type": "stream",
     "text": [
      "/Users/sebastianlopez/miniconda3/envs/maestriamatching/lib/python3.10/site-packages/sklearn/neural_network/_multilayer_perceptron.py:691: ConvergenceWarning: Stochastic Optimizer: Maximum iterations (20) reached and the optimization hasn't converged yet.\n",
      "  warnings.warn(\n"
     ]
    },
    {
     "name": "stdout",
     "output_type": "stream",
     "text": [
      "[CV] END activation=identity, alpha=0.0001, early_stopping=True, learning_rate=constant, learning_rate_init=0.0005, max_iter=20, n_iter_no_change=5, power_t=0.005, solver=sgd; total time=  51.3s\n",
      "[CV] END activation=identity, alpha=0.0001, early_stopping=True, learning_rate=constant, learning_rate_init=0.0005, max_iter=50, n_iter_no_change=5, power_t=0.5, solver=adam; total time=  36.4s\n",
      "[CV] END activation=identity, alpha=0.0001, early_stopping=True, learning_rate=constant, learning_rate_init=0.0005, max_iter=50, n_iter_no_change=5, power_t=0.5, solver=adam; total time=  33.4s\n",
      "[CV] END activation=identity, alpha=0.0001, early_stopping=True, learning_rate=constant, learning_rate_init=0.0005, max_iter=50, n_iter_no_change=5, power_t=0.5, solver=adam; total time= 1.3min\n"
     ]
    },
    {
     "name": "stderr",
     "output_type": "stream",
     "text": [
      "/Users/sebastianlopez/miniconda3/envs/maestriamatching/lib/python3.10/site-packages/sklearn/neural_network/_multilayer_perceptron.py:546: ConvergenceWarning: lbfgs failed to converge (status=1):\n",
      "STOP: TOTAL NO. of ITERATIONS REACHED LIMIT.\n",
      "\n",
      "Increase the number of iterations (max_iter) or scale the data as shown in:\n",
      "    https://scikit-learn.org/stable/modules/preprocessing.html\n",
      "  self.n_iter_ = _check_optimize_result(\"lbfgs\", opt_res, self.max_iter)\n"
     ]
    },
    {
     "name": "stdout",
     "output_type": "stream",
     "text": [
      "[CV] END activation=identity, alpha=0.0001, early_stopping=True, learning_rate=constant, learning_rate_init=0.0005, max_iter=50, n_iter_no_change=5, power_t=0.5, solver=lbfgs; total time= 1.8min\n"
     ]
    },
    {
     "name": "stderr",
     "output_type": "stream",
     "text": [
      "/Users/sebastianlopez/miniconda3/envs/maestriamatching/lib/python3.10/site-packages/sklearn/neural_network/_multilayer_perceptron.py:546: ConvergenceWarning: lbfgs failed to converge (status=1):\n",
      "STOP: TOTAL NO. of ITERATIONS REACHED LIMIT.\n",
      "\n",
      "Increase the number of iterations (max_iter) or scale the data as shown in:\n",
      "    https://scikit-learn.org/stable/modules/preprocessing.html\n",
      "  self.n_iter_ = _check_optimize_result(\"lbfgs\", opt_res, self.max_iter)\n"
     ]
    },
    {
     "name": "stdout",
     "output_type": "stream",
     "text": [
      "[CV] END activation=identity, alpha=0.0001, early_stopping=True, learning_rate=constant, learning_rate_init=0.0005, max_iter=50, n_iter_no_change=5, power_t=0.5, solver=lbfgs; total time= 1.9min\n"
     ]
    },
    {
     "name": "stderr",
     "output_type": "stream",
     "text": [
      "/Users/sebastianlopez/miniconda3/envs/maestriamatching/lib/python3.10/site-packages/sklearn/neural_network/_multilayer_perceptron.py:546: ConvergenceWarning: lbfgs failed to converge (status=1):\n",
      "STOP: TOTAL NO. of ITERATIONS REACHED LIMIT.\n",
      "\n",
      "Increase the number of iterations (max_iter) or scale the data as shown in:\n",
      "    https://scikit-learn.org/stable/modules/preprocessing.html\n",
      "  self.n_iter_ = _check_optimize_result(\"lbfgs\", opt_res, self.max_iter)\n"
     ]
    },
    {
     "name": "stdout",
     "output_type": "stream",
     "text": [
      "[CV] END activation=identity, alpha=0.0001, early_stopping=True, learning_rate=constant, learning_rate_init=0.0005, max_iter=50, n_iter_no_change=5, power_t=0.5, solver=lbfgs; total time= 1.9min\n",
      "[CV] END activation=identity, alpha=0.0001, early_stopping=True, learning_rate=constant, learning_rate_init=0.0005, max_iter=50, n_iter_no_change=5, power_t=0.5, solver=sgd; total time= 1.9min\n"
     ]
    },
    {
     "name": "stderr",
     "output_type": "stream",
     "text": [
      "/Users/sebastianlopez/miniconda3/envs/maestriamatching/lib/python3.10/site-packages/sklearn/neural_network/_multilayer_perceptron.py:691: ConvergenceWarning: Stochastic Optimizer: Maximum iterations (50) reached and the optimization hasn't converged yet.\n",
      "  warnings.warn(\n"
     ]
    },
    {
     "name": "stdout",
     "output_type": "stream",
     "text": [
      "[CV] END activation=identity, alpha=0.0001, early_stopping=True, learning_rate=constant, learning_rate_init=0.0005, max_iter=50, n_iter_no_change=5, power_t=0.5, solver=sgd; total time= 2.1min\n"
     ]
    },
    {
     "name": "stderr",
     "output_type": "stream",
     "text": [
      "/Users/sebastianlopez/miniconda3/envs/maestriamatching/lib/python3.10/site-packages/sklearn/neural_network/_multilayer_perceptron.py:691: ConvergenceWarning: Stochastic Optimizer: Maximum iterations (50) reached and the optimization hasn't converged yet.\n",
      "  warnings.warn(\n"
     ]
    },
    {
     "name": "stdout",
     "output_type": "stream",
     "text": [
      "[CV] END activation=identity, alpha=0.0001, early_stopping=True, learning_rate=constant, learning_rate_init=0.0005, max_iter=50, n_iter_no_change=5, power_t=0.5, solver=sgd; total time= 2.1min\n"
     ]
    },
    {
     "name": "stderr",
     "output_type": "stream",
     "text": [
      "/Users/sebastianlopez/miniconda3/envs/maestriamatching/lib/python3.10/site-packages/sklearn/neural_network/_multilayer_perceptron.py:546: ConvergenceWarning: lbfgs failed to converge (status=1):\n",
      "STOP: TOTAL NO. of ITERATIONS REACHED LIMIT.\n",
      "\n",
      "Increase the number of iterations (max_iter) or scale the data as shown in:\n",
      "    https://scikit-learn.org/stable/modules/preprocessing.html\n",
      "  self.n_iter_ = _check_optimize_result(\"lbfgs\", opt_res, self.max_iter)\n"
     ]
    },
    {
     "name": "stdout",
     "output_type": "stream",
     "text": [
      "[CV] END activation=identity, alpha=0.0001, early_stopping=True, learning_rate=constant, learning_rate_init=0.0005, max_iter=50, n_iter_no_change=5, power_t=0.1, solver=lbfgs; total time= 1.9min\n"
     ]
    },
    {
     "name": "stderr",
     "output_type": "stream",
     "text": [
      "/Users/sebastianlopez/miniconda3/envs/maestriamatching/lib/python3.10/site-packages/sklearn/neural_network/_multilayer_perceptron.py:546: ConvergenceWarning: lbfgs failed to converge (status=1):\n",
      "STOP: TOTAL NO. of ITERATIONS REACHED LIMIT.\n",
      "\n",
      "Increase the number of iterations (max_iter) or scale the data as shown in:\n",
      "    https://scikit-learn.org/stable/modules/preprocessing.html\n",
      "  self.n_iter_ = _check_optimize_result(\"lbfgs\", opt_res, self.max_iter)\n"
     ]
    },
    {
     "name": "stdout",
     "output_type": "stream",
     "text": [
      "[CV] END activation=identity, alpha=0.0001, early_stopping=True, learning_rate=constant, learning_rate_init=0.0005, max_iter=50, n_iter_no_change=5, power_t=0.1, solver=lbfgs; total time= 1.8min\n",
      "[CV] END activation=identity, alpha=0.0001, early_stopping=True, learning_rate=constant, learning_rate_init=0.0005, max_iter=50, n_iter_no_change=5, power_t=0.1, solver=sgd; total time= 1.6min\n",
      "[CV] END activation=identity, alpha=0.0001, early_stopping=True, learning_rate=constant, learning_rate_init=0.0005, max_iter=50, n_iter_no_change=5, power_t=0.1, solver=adam; total time=  47.7s\n",
      "[CV] END activation=identity, alpha=0.0001, early_stopping=True, learning_rate=constant, learning_rate_init=0.0005, max_iter=50, n_iter_no_change=5, power_t=0.1, solver=adam; total time=  45.3s\n"
     ]
    },
    {
     "name": "stderr",
     "output_type": "stream",
     "text": [
      "/Users/sebastianlopez/miniconda3/envs/maestriamatching/lib/python3.10/site-packages/sklearn/neural_network/_multilayer_perceptron.py:546: ConvergenceWarning: lbfgs failed to converge (status=1):\n",
      "STOP: TOTAL NO. of ITERATIONS REACHED LIMIT.\n",
      "\n",
      "Increase the number of iterations (max_iter) or scale the data as shown in:\n",
      "    https://scikit-learn.org/stable/modules/preprocessing.html\n",
      "  self.n_iter_ = _check_optimize_result(\"lbfgs\", opt_res, self.max_iter)\n"
     ]
    },
    {
     "name": "stdout",
     "output_type": "stream",
     "text": [
      "[CV] END activation=identity, alpha=0.0001, early_stopping=True, learning_rate=constant, learning_rate_init=0.0005, max_iter=50, n_iter_no_change=5, power_t=0.1, solver=lbfgs; total time= 2.0min\n",
      "[CV] END activation=identity, alpha=0.0001, early_stopping=True, learning_rate=constant, learning_rate_init=0.0005, max_iter=50, n_iter_no_change=5, power_t=0.1, solver=adam; total time= 1.2min\n",
      "[CV] END activation=identity, alpha=0.0001, early_stopping=True, learning_rate=constant, learning_rate_init=0.0005, max_iter=50, n_iter_no_change=5, power_t=0.9, solver=adam; total time=  41.1s\n",
      "[CV] END activation=identity, alpha=0.0001, early_stopping=True, learning_rate=constant, learning_rate_init=0.0005, max_iter=50, n_iter_no_change=5, power_t=0.9, solver=adam; total time=  29.8s\n"
     ]
    },
    {
     "name": "stderr",
     "output_type": "stream",
     "text": [
      "/Users/sebastianlopez/miniconda3/envs/maestriamatching/lib/python3.10/site-packages/sklearn/neural_network/_multilayer_perceptron.py:691: ConvergenceWarning: Stochastic Optimizer: Maximum iterations (50) reached and the optimization hasn't converged yet.\n",
      "  warnings.warn(\n"
     ]
    },
    {
     "name": "stdout",
     "output_type": "stream",
     "text": [
      "[CV] END activation=identity, alpha=0.0001, early_stopping=True, learning_rate=constant, learning_rate_init=0.0005, max_iter=50, n_iter_no_change=5, power_t=0.1, solver=sgd; total time= 2.1min\n",
      "[CV] END activation=identity, alpha=0.0001, early_stopping=True, learning_rate=constant, learning_rate_init=0.0005, max_iter=50, n_iter_no_change=5, power_t=0.1, solver=sgd; total time= 2.1min\n",
      "[CV] END activation=identity, alpha=0.0001, early_stopping=True, learning_rate=constant, learning_rate_init=0.0005, max_iter=50, n_iter_no_change=5, power_t=0.9, solver=adam; total time= 1.0min\n"
     ]
    },
    {
     "name": "stderr",
     "output_type": "stream",
     "text": [
      "/Users/sebastianlopez/miniconda3/envs/maestriamatching/lib/python3.10/site-packages/sklearn/neural_network/_multilayer_perceptron.py:546: ConvergenceWarning: lbfgs failed to converge (status=1):\n",
      "STOP: TOTAL NO. of ITERATIONS REACHED LIMIT.\n",
      "\n",
      "Increase the number of iterations (max_iter) or scale the data as shown in:\n",
      "    https://scikit-learn.org/stable/modules/preprocessing.html\n",
      "  self.n_iter_ = _check_optimize_result(\"lbfgs\", opt_res, self.max_iter)\n"
     ]
    },
    {
     "name": "stdout",
     "output_type": "stream",
     "text": [
      "[CV] END activation=identity, alpha=0.0001, early_stopping=True, learning_rate=constant, learning_rate_init=0.0005, max_iter=50, n_iter_no_change=5, power_t=0.9, solver=lbfgs; total time= 2.0min\n",
      "[CV] END activation=identity, alpha=0.0001, early_stopping=True, learning_rate=constant, learning_rate_init=0.0005, max_iter=50, n_iter_no_change=5, power_t=0.9, solver=sgd; total time= 1.5min\n"
     ]
    },
    {
     "name": "stderr",
     "output_type": "stream",
     "text": [
      "/Users/sebastianlopez/miniconda3/envs/maestriamatching/lib/python3.10/site-packages/sklearn/neural_network/_multilayer_perceptron.py:546: ConvergenceWarning: lbfgs failed to converge (status=1):\n",
      "STOP: TOTAL NO. of ITERATIONS REACHED LIMIT.\n",
      "\n",
      "Increase the number of iterations (max_iter) or scale the data as shown in:\n",
      "    https://scikit-learn.org/stable/modules/preprocessing.html\n",
      "  self.n_iter_ = _check_optimize_result(\"lbfgs\", opt_res, self.max_iter)\n"
     ]
    },
    {
     "name": "stdout",
     "output_type": "stream",
     "text": [
      "[CV] END activation=identity, alpha=0.0001, early_stopping=True, learning_rate=constant, learning_rate_init=0.0005, max_iter=50, n_iter_no_change=5, power_t=0.9, solver=lbfgs; total time= 1.9min\n"
     ]
    },
    {
     "name": "stderr",
     "output_type": "stream",
     "text": [
      "/Users/sebastianlopez/miniconda3/envs/maestriamatching/lib/python3.10/site-packages/sklearn/neural_network/_multilayer_perceptron.py:546: ConvergenceWarning: lbfgs failed to converge (status=1):\n",
      "STOP: TOTAL NO. of ITERATIONS REACHED LIMIT.\n",
      "\n",
      "Increase the number of iterations (max_iter) or scale the data as shown in:\n",
      "    https://scikit-learn.org/stable/modules/preprocessing.html\n",
      "  self.n_iter_ = _check_optimize_result(\"lbfgs\", opt_res, self.max_iter)\n"
     ]
    },
    {
     "name": "stdout",
     "output_type": "stream",
     "text": [
      "[CV] END activation=identity, alpha=0.0001, early_stopping=True, learning_rate=constant, learning_rate_init=0.0005, max_iter=50, n_iter_no_change=5, power_t=0.9, solver=lbfgs; total time= 2.0min\n"
     ]
    },
    {
     "name": "stderr",
     "output_type": "stream",
     "text": [
      "/Users/sebastianlopez/miniconda3/envs/maestriamatching/lib/python3.10/site-packages/sklearn/neural_network/_multilayer_perceptron.py:691: ConvergenceWarning: Stochastic Optimizer: Maximum iterations (50) reached and the optimization hasn't converged yet.\n",
      "  warnings.warn(\n"
     ]
    },
    {
     "name": "stdout",
     "output_type": "stream",
     "text": [
      "[CV] END activation=identity, alpha=0.0001, early_stopping=True, learning_rate=constant, learning_rate_init=0.0005, max_iter=50, n_iter_no_change=5, power_t=0.9, solver=sgd; total time= 2.2min\n",
      "[CV] END activation=identity, alpha=0.0001, early_stopping=True, learning_rate=constant, learning_rate_init=0.0005, max_iter=50, n_iter_no_change=5, power_t=0.9, solver=sgd; total time= 2.1min\n",
      "[CV] END activation=identity, alpha=0.0001, early_stopping=True, learning_rate=constant, learning_rate_init=0.0005, max_iter=50, n_iter_no_change=5, power_t=0.001, solver=adam; total time= 1.1min\n",
      "[CV] END activation=identity, alpha=0.0001, early_stopping=True, learning_rate=constant, learning_rate_init=0.0005, max_iter=50, n_iter_no_change=5, power_t=0.001, solver=adam; total time= 1.0min\n",
      "[CV] END activation=identity, alpha=0.0001, early_stopping=True, learning_rate=constant, learning_rate_init=0.0005, max_iter=50, n_iter_no_change=5, power_t=0.001, solver=adam; total time= 1.2min\n"
     ]
    },
    {
     "name": "stderr",
     "output_type": "stream",
     "text": [
      "/Users/sebastianlopez/miniconda3/envs/maestriamatching/lib/python3.10/site-packages/sklearn/neural_network/_multilayer_perceptron.py:546: ConvergenceWarning: lbfgs failed to converge (status=1):\n",
      "STOP: TOTAL NO. of ITERATIONS REACHED LIMIT.\n",
      "\n",
      "Increase the number of iterations (max_iter) or scale the data as shown in:\n",
      "    https://scikit-learn.org/stable/modules/preprocessing.html\n",
      "  self.n_iter_ = _check_optimize_result(\"lbfgs\", opt_res, self.max_iter)\n"
     ]
    },
    {
     "name": "stdout",
     "output_type": "stream",
     "text": [
      "[CV] END activation=identity, alpha=0.0001, early_stopping=True, learning_rate=constant, learning_rate_init=0.0005, max_iter=50, n_iter_no_change=5, power_t=0.001, solver=lbfgs; total time= 2.0min\n"
     ]
    },
    {
     "name": "stderr",
     "output_type": "stream",
     "text": [
      "/Users/sebastianlopez/miniconda3/envs/maestriamatching/lib/python3.10/site-packages/sklearn/neural_network/_multilayer_perceptron.py:546: ConvergenceWarning: lbfgs failed to converge (status=1):\n",
      "STOP: TOTAL NO. of ITERATIONS REACHED LIMIT.\n",
      "\n",
      "Increase the number of iterations (max_iter) or scale the data as shown in:\n",
      "    https://scikit-learn.org/stable/modules/preprocessing.html\n",
      "  self.n_iter_ = _check_optimize_result(\"lbfgs\", opt_res, self.max_iter)\n"
     ]
    },
    {
     "name": "stdout",
     "output_type": "stream",
     "text": [
      "[CV] END activation=identity, alpha=0.0001, early_stopping=True, learning_rate=constant, learning_rate_init=0.0005, max_iter=50, n_iter_no_change=5, power_t=0.001, solver=lbfgs; total time= 2.0min\n"
     ]
    },
    {
     "name": "stderr",
     "output_type": "stream",
     "text": [
      "/Users/sebastianlopez/miniconda3/envs/maestriamatching/lib/python3.10/site-packages/sklearn/neural_network/_multilayer_perceptron.py:546: ConvergenceWarning: lbfgs failed to converge (status=1):\n",
      "STOP: TOTAL NO. of ITERATIONS REACHED LIMIT.\n",
      "\n",
      "Increase the number of iterations (max_iter) or scale the data as shown in:\n",
      "    https://scikit-learn.org/stable/modules/preprocessing.html\n",
      "  self.n_iter_ = _check_optimize_result(\"lbfgs\", opt_res, self.max_iter)\n"
     ]
    },
    {
     "name": "stdout",
     "output_type": "stream",
     "text": [
      "[CV] END activation=identity, alpha=0.0001, early_stopping=True, learning_rate=constant, learning_rate_init=0.0005, max_iter=50, n_iter_no_change=5, power_t=0.001, solver=lbfgs; total time= 2.0min\n",
      "[CV] END activation=identity, alpha=0.0001, early_stopping=True, learning_rate=constant, learning_rate_init=0.0005, max_iter=50, n_iter_no_change=5, power_t=0.001, solver=sgd; total time= 2.0min\n"
     ]
    },
    {
     "name": "stderr",
     "output_type": "stream",
     "text": [
      "/Users/sebastianlopez/miniconda3/envs/maestriamatching/lib/python3.10/site-packages/sklearn/neural_network/_multilayer_perceptron.py:691: ConvergenceWarning: Stochastic Optimizer: Maximum iterations (50) reached and the optimization hasn't converged yet.\n",
      "  warnings.warn(\n"
     ]
    },
    {
     "name": "stdout",
     "output_type": "stream",
     "text": [
      "[CV] END activation=identity, alpha=0.0001, early_stopping=True, learning_rate=constant, learning_rate_init=0.0005, max_iter=50, n_iter_no_change=5, power_t=0.001, solver=sgd; total time= 2.3min\n",
      "[CV] END activation=identity, alpha=0.0001, early_stopping=True, learning_rate=constant, learning_rate_init=0.0005, max_iter=50, n_iter_no_change=5, power_t=0.005, solver=adam; total time=  48.6s\n",
      "[CV] END activation=identity, alpha=0.0001, early_stopping=True, learning_rate=constant, learning_rate_init=0.0005, max_iter=50, n_iter_no_change=5, power_t=0.005, solver=adam; total time=  43.0s\n",
      "[CV] END activation=identity, alpha=0.0001, early_stopping=True, learning_rate=constant, learning_rate_init=0.0005, max_iter=50, n_iter_no_change=5, power_t=0.005, solver=adam; total time=  40.2s\n"
     ]
    },
    {
     "name": "stderr",
     "output_type": "stream",
     "text": [
      "/Users/sebastianlopez/miniconda3/envs/maestriamatching/lib/python3.10/site-packages/sklearn/neural_network/_multilayer_perceptron.py:546: ConvergenceWarning: lbfgs failed to converge (status=1):\n",
      "STOP: TOTAL NO. of ITERATIONS REACHED LIMIT.\n",
      "\n",
      "Increase the number of iterations (max_iter) or scale the data as shown in:\n",
      "    https://scikit-learn.org/stable/modules/preprocessing.html\n",
      "  self.n_iter_ = _check_optimize_result(\"lbfgs\", opt_res, self.max_iter)\n"
     ]
    },
    {
     "name": "stdout",
     "output_type": "stream",
     "text": [
      "[CV] END activation=identity, alpha=0.0001, early_stopping=True, learning_rate=constant, learning_rate_init=0.001, max_iter=5, n_iter_no_change=5, power_t=0.5, solver=lbfgs; total time=  19.5s\n"
     ]
    },
    {
     "name": "stderr",
     "output_type": "stream",
     "text": [
      "/Users/sebastianlopez/miniconda3/envs/maestriamatching/lib/python3.10/site-packages/sklearn/neural_network/_multilayer_perceptron.py:691: ConvergenceWarning: Stochastic Optimizer: Maximum iterations (50) reached and the optimization hasn't converged yet.\n",
      "  warnings.warn(\n"
     ]
    },
    {
     "name": "stdout",
     "output_type": "stream",
     "text": [
      "[CV] END activation=identity, alpha=0.0001, early_stopping=True, learning_rate=constant, learning_rate_init=0.0005, max_iter=50, n_iter_no_change=5, power_t=0.001, solver=sgd; total time= 2.4min\n"
     ]
    },
    {
     "name": "stderr",
     "output_type": "stream",
     "text": [
      "/Users/sebastianlopez/miniconda3/envs/maestriamatching/lib/python3.10/site-packages/sklearn/neural_network/_multilayer_perceptron.py:546: ConvergenceWarning: lbfgs failed to converge (status=1):\n",
      "STOP: TOTAL NO. of ITERATIONS REACHED LIMIT.\n",
      "\n",
      "Increase the number of iterations (max_iter) or scale the data as shown in:\n",
      "    https://scikit-learn.org/stable/modules/preprocessing.html\n",
      "  self.n_iter_ = _check_optimize_result(\"lbfgs\", opt_res, self.max_iter)\n"
     ]
    },
    {
     "name": "stdout",
     "output_type": "stream",
     "text": [
      "[CV] END activation=identity, alpha=0.0001, early_stopping=True, learning_rate=constant, learning_rate_init=0.0005, max_iter=50, n_iter_no_change=5, power_t=0.005, solver=lbfgs; total time= 2.2min\n"
     ]
    },
    {
     "name": "stderr",
     "output_type": "stream",
     "text": [
      "/Users/sebastianlopez/miniconda3/envs/maestriamatching/lib/python3.10/site-packages/sklearn/neural_network/_multilayer_perceptron.py:546: ConvergenceWarning: lbfgs failed to converge (status=1):\n",
      "STOP: TOTAL NO. of ITERATIONS REACHED LIMIT.\n",
      "\n",
      "Increase the number of iterations (max_iter) or scale the data as shown in:\n",
      "    https://scikit-learn.org/stable/modules/preprocessing.html\n",
      "  self.n_iter_ = _check_optimize_result(\"lbfgs\", opt_res, self.max_iter)\n",
      "/Users/sebastianlopez/miniconda3/envs/maestriamatching/lib/python3.10/site-packages/sklearn/neural_network/_multilayer_perceptron.py:691: ConvergenceWarning: Stochastic Optimizer: Maximum iterations (5) reached and the optimization hasn't converged yet.\n",
      "  warnings.warn(\n",
      "/Users/sebastianlopez/miniconda3/envs/maestriamatching/lib/python3.10/site-packages/sklearn/neural_network/_multilayer_perceptron.py:546: ConvergenceWarning: lbfgs failed to converge (status=1):\n",
      "STOP: TOTAL NO. of ITERATIONS REACHED LIMIT.\n",
      "\n",
      "Increase the number of iterations (max_iter) or scale the data as shown in:\n",
      "    https://scikit-learn.org/stable/modules/preprocessing.html\n",
      "  self.n_iter_ = _check_optimize_result(\"lbfgs\", opt_res, self.max_iter)\n"
     ]
    },
    {
     "name": "stdout",
     "output_type": "stream",
     "text": [
      "[CV] END activation=identity, alpha=0.0001, early_stopping=True, learning_rate=constant, learning_rate_init=0.0005, max_iter=50, n_iter_no_change=5, power_t=0.005, solver=lbfgs; total time= 2.0min\n",
      "[CV] END activation=identity, alpha=0.0001, early_stopping=True, learning_rate=constant, learning_rate_init=0.001, max_iter=5, n_iter_no_change=5, power_t=0.5, solver=sgd; total time=  15.9s\n",
      "[CV] END activation=identity, alpha=0.0001, early_stopping=True, learning_rate=constant, learning_rate_init=0.001, max_iter=5, n_iter_no_change=5, power_t=0.5, solver=lbfgs; total time=  17.6s\n"
     ]
    },
    {
     "name": "stderr",
     "output_type": "stream",
     "text": [
      "/Users/sebastianlopez/miniconda3/envs/maestriamatching/lib/python3.10/site-packages/sklearn/neural_network/_multilayer_perceptron.py:546: ConvergenceWarning: lbfgs failed to converge (status=1):\n",
      "STOP: TOTAL NO. of ITERATIONS REACHED LIMIT.\n",
      "\n",
      "Increase the number of iterations (max_iter) or scale the data as shown in:\n",
      "    https://scikit-learn.org/stable/modules/preprocessing.html\n",
      "  self.n_iter_ = _check_optimize_result(\"lbfgs\", opt_res, self.max_iter)\n"
     ]
    },
    {
     "name": "stdout",
     "output_type": "stream",
     "text": [
      "[CV] END activation=identity, alpha=0.0001, early_stopping=True, learning_rate=constant, learning_rate_init=0.001, max_iter=5, n_iter_no_change=5, power_t=0.5, solver=lbfgs; total time=  19.8s\n"
     ]
    },
    {
     "name": "stderr",
     "output_type": "stream",
     "text": [
      "/Users/sebastianlopez/miniconda3/envs/maestriamatching/lib/python3.10/site-packages/sklearn/neural_network/_multilayer_perceptron.py:691: ConvergenceWarning: Stochastic Optimizer: Maximum iterations (5) reached and the optimization hasn't converged yet.\n",
      "  warnings.warn(\n"
     ]
    },
    {
     "name": "stdout",
     "output_type": "stream",
     "text": [
      "[CV] END activation=identity, alpha=0.0001, early_stopping=True, learning_rate=constant, learning_rate_init=0.001, max_iter=5, n_iter_no_change=5, power_t=0.5, solver=sgd; total time=  15.4s\n"
     ]
    },
    {
     "name": "stderr",
     "output_type": "stream",
     "text": [
      "/Users/sebastianlopez/miniconda3/envs/maestriamatching/lib/python3.10/site-packages/sklearn/neural_network/_multilayer_perceptron.py:691: ConvergenceWarning: Stochastic Optimizer: Maximum iterations (5) reached and the optimization hasn't converged yet.\n",
      "  warnings.warn(\n"
     ]
    },
    {
     "name": "stdout",
     "output_type": "stream",
     "text": [
      "[CV] END activation=identity, alpha=0.0001, early_stopping=True, learning_rate=constant, learning_rate_init=0.001, max_iter=5, n_iter_no_change=5, power_t=0.5, solver=sgd; total time=  15.4s\n"
     ]
    },
    {
     "name": "stderr",
     "output_type": "stream",
     "text": [
      "/Users/sebastianlopez/miniconda3/envs/maestriamatching/lib/python3.10/site-packages/sklearn/neural_network/_multilayer_perceptron.py:691: ConvergenceWarning: Stochastic Optimizer: Maximum iterations (5) reached and the optimization hasn't converged yet.\n",
      "  warnings.warn(\n"
     ]
    },
    {
     "name": "stdout",
     "output_type": "stream",
     "text": [
      "[CV] END activation=identity, alpha=0.0001, early_stopping=True, learning_rate=constant, learning_rate_init=0.001, max_iter=5, n_iter_no_change=5, power_t=0.5, solver=adam; total time=  16.8s\n"
     ]
    },
    {
     "name": "stderr",
     "output_type": "stream",
     "text": [
      "/Users/sebastianlopez/miniconda3/envs/maestriamatching/lib/python3.10/site-packages/sklearn/neural_network/_multilayer_perceptron.py:691: ConvergenceWarning: Stochastic Optimizer: Maximum iterations (5) reached and the optimization hasn't converged yet.\n",
      "  warnings.warn(\n",
      "/Users/sebastianlopez/miniconda3/envs/maestriamatching/lib/python3.10/site-packages/sklearn/neural_network/_multilayer_perceptron.py:691: ConvergenceWarning: Stochastic Optimizer: Maximum iterations (5) reached and the optimization hasn't converged yet.\n",
      "  warnings.warn(\n"
     ]
    },
    {
     "name": "stdout",
     "output_type": "stream",
     "text": [
      "[CV] END activation=identity, alpha=0.0001, early_stopping=True, learning_rate=constant, learning_rate_init=0.001, max_iter=5, n_iter_no_change=5, power_t=0.5, solver=adam; total time=  17.0s\n",
      "[CV] END activation=identity, alpha=0.0001, early_stopping=True, learning_rate=constant, learning_rate_init=0.001, max_iter=5, n_iter_no_change=5, power_t=0.5, solver=adam; total time=  17.0s\n"
     ]
    },
    {
     "name": "stderr",
     "output_type": "stream",
     "text": [
      "/Users/sebastianlopez/miniconda3/envs/maestriamatching/lib/python3.10/site-packages/sklearn/neural_network/_multilayer_perceptron.py:546: ConvergenceWarning: lbfgs failed to converge (status=1):\n",
      "STOP: TOTAL NO. of ITERATIONS REACHED LIMIT.\n",
      "\n",
      "Increase the number of iterations (max_iter) or scale the data as shown in:\n",
      "    https://scikit-learn.org/stable/modules/preprocessing.html\n",
      "  self.n_iter_ = _check_optimize_result(\"lbfgs\", opt_res, self.max_iter)\n"
     ]
    },
    {
     "name": "stdout",
     "output_type": "stream",
     "text": [
      "[CV] END activation=identity, alpha=0.0001, early_stopping=True, learning_rate=constant, learning_rate_init=0.001, max_iter=5, n_iter_no_change=5, power_t=0.1, solver=lbfgs; total time=  14.7s\n"
     ]
    },
    {
     "name": "stderr",
     "output_type": "stream",
     "text": [
      "/Users/sebastianlopez/miniconda3/envs/maestriamatching/lib/python3.10/site-packages/sklearn/neural_network/_multilayer_perceptron.py:546: ConvergenceWarning: lbfgs failed to converge (status=1):\n",
      "STOP: TOTAL NO. of ITERATIONS REACHED LIMIT.\n",
      "\n",
      "Increase the number of iterations (max_iter) or scale the data as shown in:\n",
      "    https://scikit-learn.org/stable/modules/preprocessing.html\n",
      "  self.n_iter_ = _check_optimize_result(\"lbfgs\", opt_res, self.max_iter)\n"
     ]
    },
    {
     "name": "stdout",
     "output_type": "stream",
     "text": [
      "[CV] END activation=identity, alpha=0.0001, early_stopping=True, learning_rate=constant, learning_rate_init=0.001, max_iter=5, n_iter_no_change=5, power_t=0.1, solver=lbfgs; total time=  19.2s\n"
     ]
    },
    {
     "name": "stderr",
     "output_type": "stream",
     "text": [
      "/Users/sebastianlopez/miniconda3/envs/maestriamatching/lib/python3.10/site-packages/sklearn/neural_network/_multilayer_perceptron.py:691: ConvergenceWarning: Stochastic Optimizer: Maximum iterations (5) reached and the optimization hasn't converged yet.\n",
      "  warnings.warn(\n"
     ]
    },
    {
     "name": "stdout",
     "output_type": "stream",
     "text": [
      "[CV] END activation=identity, alpha=0.0001, early_stopping=True, learning_rate=constant, learning_rate_init=0.001, max_iter=5, n_iter_no_change=5, power_t=0.1, solver=sgd; total time=  15.5s\n"
     ]
    },
    {
     "name": "stderr",
     "output_type": "stream",
     "text": [
      "/Users/sebastianlopez/miniconda3/envs/maestriamatching/lib/python3.10/site-packages/sklearn/neural_network/_multilayer_perceptron.py:546: ConvergenceWarning: lbfgs failed to converge (status=1):\n",
      "STOP: TOTAL NO. of ITERATIONS REACHED LIMIT.\n",
      "\n",
      "Increase the number of iterations (max_iter) or scale the data as shown in:\n",
      "    https://scikit-learn.org/stable/modules/preprocessing.html\n",
      "  self.n_iter_ = _check_optimize_result(\"lbfgs\", opt_res, self.max_iter)\n"
     ]
    },
    {
     "name": "stdout",
     "output_type": "stream",
     "text": [
      "[CV] END activation=identity, alpha=0.0001, early_stopping=True, learning_rate=constant, learning_rate_init=0.001, max_iter=5, n_iter_no_change=5, power_t=0.1, solver=lbfgs; total time=  19.4s\n"
     ]
    },
    {
     "name": "stderr",
     "output_type": "stream",
     "text": [
      "/Users/sebastianlopez/miniconda3/envs/maestriamatching/lib/python3.10/site-packages/sklearn/neural_network/_multilayer_perceptron.py:691: ConvergenceWarning: Stochastic Optimizer: Maximum iterations (5) reached and the optimization hasn't converged yet.\n",
      "  warnings.warn(\n"
     ]
    },
    {
     "name": "stdout",
     "output_type": "stream",
     "text": [
      "[CV] END activation=identity, alpha=0.0001, early_stopping=True, learning_rate=constant, learning_rate_init=0.001, max_iter=5, n_iter_no_change=5, power_t=0.1, solver=sgd; total time=  15.5s\n"
     ]
    },
    {
     "name": "stderr",
     "output_type": "stream",
     "text": [
      "/Users/sebastianlopez/miniconda3/envs/maestriamatching/lib/python3.10/site-packages/sklearn/neural_network/_multilayer_perceptron.py:691: ConvergenceWarning: Stochastic Optimizer: Maximum iterations (5) reached and the optimization hasn't converged yet.\n",
      "  warnings.warn(\n"
     ]
    },
    {
     "name": "stdout",
     "output_type": "stream",
     "text": [
      "[CV] END activation=identity, alpha=0.0001, early_stopping=True, learning_rate=constant, learning_rate_init=0.001, max_iter=5, n_iter_no_change=5, power_t=0.1, solver=sgd; total time=  15.3s\n"
     ]
    },
    {
     "name": "stderr",
     "output_type": "stream",
     "text": [
      "/Users/sebastianlopez/miniconda3/envs/maestriamatching/lib/python3.10/site-packages/sklearn/neural_network/_multilayer_perceptron.py:691: ConvergenceWarning: Stochastic Optimizer: Maximum iterations (5) reached and the optimization hasn't converged yet.\n",
      "  warnings.warn(\n"
     ]
    },
    {
     "name": "stdout",
     "output_type": "stream",
     "text": [
      "[CV] END activation=identity, alpha=0.0001, early_stopping=True, learning_rate=constant, learning_rate_init=0.001, max_iter=5, n_iter_no_change=5, power_t=0.1, solver=adam; total time=  16.3s\n"
     ]
    },
    {
     "name": "stderr",
     "output_type": "stream",
     "text": [
      "/Users/sebastianlopez/miniconda3/envs/maestriamatching/lib/python3.10/site-packages/sklearn/neural_network/_multilayer_perceptron.py:691: ConvergenceWarning: Stochastic Optimizer: Maximum iterations (5) reached and the optimization hasn't converged yet.\n",
      "  warnings.warn(\n"
     ]
    },
    {
     "name": "stdout",
     "output_type": "stream",
     "text": [
      "[CV] END activation=identity, alpha=0.0001, early_stopping=True, learning_rate=constant, learning_rate_init=0.001, max_iter=5, n_iter_no_change=5, power_t=0.1, solver=adam; total time=  16.1s\n"
     ]
    },
    {
     "name": "stderr",
     "output_type": "stream",
     "text": [
      "/Users/sebastianlopez/miniconda3/envs/maestriamatching/lib/python3.10/site-packages/sklearn/neural_network/_multilayer_perceptron.py:691: ConvergenceWarning: Stochastic Optimizer: Maximum iterations (5) reached and the optimization hasn't converged yet.\n",
      "  warnings.warn(\n"
     ]
    },
    {
     "name": "stdout",
     "output_type": "stream",
     "text": [
      "[CV] END activation=identity, alpha=0.0001, early_stopping=True, learning_rate=constant, learning_rate_init=0.001, max_iter=5, n_iter_no_change=5, power_t=0.1, solver=adam; total time=  15.9s\n"
     ]
    },
    {
     "name": "stderr",
     "output_type": "stream",
     "text": [
      "/Users/sebastianlopez/miniconda3/envs/maestriamatching/lib/python3.10/site-packages/sklearn/neural_network/_multilayer_perceptron.py:546: ConvergenceWarning: lbfgs failed to converge (status=1):\n",
      "STOP: TOTAL NO. of ITERATIONS REACHED LIMIT.\n",
      "\n",
      "Increase the number of iterations (max_iter) or scale the data as shown in:\n",
      "    https://scikit-learn.org/stable/modules/preprocessing.html\n",
      "  self.n_iter_ = _check_optimize_result(\"lbfgs\", opt_res, self.max_iter)\n"
     ]
    },
    {
     "name": "stdout",
     "output_type": "stream",
     "text": [
      "[CV] END activation=identity, alpha=0.0001, early_stopping=True, learning_rate=constant, learning_rate_init=0.0005, max_iter=50, n_iter_no_change=5, power_t=0.005, solver=lbfgs; total time= 2.0min\n"
     ]
    },
    {
     "name": "stderr",
     "output_type": "stream",
     "text": [
      "/Users/sebastianlopez/miniconda3/envs/maestriamatching/lib/python3.10/site-packages/sklearn/neural_network/_multilayer_perceptron.py:546: ConvergenceWarning: lbfgs failed to converge (status=1):\n",
      "STOP: TOTAL NO. of ITERATIONS REACHED LIMIT.\n",
      "\n",
      "Increase the number of iterations (max_iter) or scale the data as shown in:\n",
      "    https://scikit-learn.org/stable/modules/preprocessing.html\n",
      "  self.n_iter_ = _check_optimize_result(\"lbfgs\", opt_res, self.max_iter)\n"
     ]
    },
    {
     "name": "stdout",
     "output_type": "stream",
     "text": [
      "[CV] END activation=identity, alpha=0.0001, early_stopping=True, learning_rate=constant, learning_rate_init=0.001, max_iter=5, n_iter_no_change=5, power_t=0.9, solver=lbfgs; total time=  19.7s\n"
     ]
    },
    {
     "name": "stderr",
     "output_type": "stream",
     "text": [
      "/Users/sebastianlopez/miniconda3/envs/maestriamatching/lib/python3.10/site-packages/sklearn/neural_network/_multilayer_perceptron.py:691: ConvergenceWarning: Stochastic Optimizer: Maximum iterations (5) reached and the optimization hasn't converged yet.\n",
      "  warnings.warn(\n",
      "/Users/sebastianlopez/miniconda3/envs/maestriamatching/lib/python3.10/site-packages/sklearn/neural_network/_multilayer_perceptron.py:546: ConvergenceWarning: lbfgs failed to converge (status=1):\n",
      "STOP: TOTAL NO. of ITERATIONS REACHED LIMIT.\n",
      "\n",
      "Increase the number of iterations (max_iter) or scale the data as shown in:\n",
      "    https://scikit-learn.org/stable/modules/preprocessing.html\n",
      "  self.n_iter_ = _check_optimize_result(\"lbfgs\", opt_res, self.max_iter)\n",
      "/Users/sebastianlopez/miniconda3/envs/maestriamatching/lib/python3.10/site-packages/sklearn/neural_network/_multilayer_perceptron.py:546: ConvergenceWarning: lbfgs failed to converge (status=1):\n",
      "STOP: TOTAL NO. of ITERATIONS REACHED LIMIT.\n",
      "\n",
      "Increase the number of iterations (max_iter) or scale the data as shown in:\n",
      "    https://scikit-learn.org/stable/modules/preprocessing.html\n",
      "  self.n_iter_ = _check_optimize_result(\"lbfgs\", opt_res, self.max_iter)\n"
     ]
    },
    {
     "name": "stdout",
     "output_type": "stream",
     "text": [
      "[CV] END activation=identity, alpha=0.0001, early_stopping=True, learning_rate=constant, learning_rate_init=0.001, max_iter=5, n_iter_no_change=5, power_t=0.9, solver=lbfgs; total time=  21.6s\n",
      "[CV] END activation=identity, alpha=0.0001, early_stopping=True, learning_rate=constant, learning_rate_init=0.001, max_iter=5, n_iter_no_change=5, power_t=0.9, solver=sgd; total time=  13.5s\n",
      "[CV] END activation=identity, alpha=0.0001, early_stopping=True, learning_rate=constant, learning_rate_init=0.001, max_iter=5, n_iter_no_change=5, power_t=0.9, solver=lbfgs; total time=  14.8s\n"
     ]
    },
    {
     "name": "stderr",
     "output_type": "stream",
     "text": [
      "/Users/sebastianlopez/miniconda3/envs/maestriamatching/lib/python3.10/site-packages/sklearn/neural_network/_multilayer_perceptron.py:691: ConvergenceWarning: Stochastic Optimizer: Maximum iterations (5) reached and the optimization hasn't converged yet.\n",
      "  warnings.warn(\n"
     ]
    },
    {
     "name": "stdout",
     "output_type": "stream",
     "text": [
      "[CV] END activation=identity, alpha=0.0001, early_stopping=True, learning_rate=constant, learning_rate_init=0.001, max_iter=5, n_iter_no_change=5, power_t=0.9, solver=sgd; total time=  13.6s\n"
     ]
    },
    {
     "name": "stderr",
     "output_type": "stream",
     "text": [
      "/Users/sebastianlopez/miniconda3/envs/maestriamatching/lib/python3.10/site-packages/sklearn/neural_network/_multilayer_perceptron.py:691: ConvergenceWarning: Stochastic Optimizer: Maximum iterations (5) reached and the optimization hasn't converged yet.\n",
      "  warnings.warn(\n"
     ]
    },
    {
     "name": "stdout",
     "output_type": "stream",
     "text": [
      "[CV] END activation=identity, alpha=0.0001, early_stopping=True, learning_rate=constant, learning_rate_init=0.001, max_iter=5, n_iter_no_change=5, power_t=0.9, solver=sgd; total time=  13.6s\n",
      "[CV] END activation=identity, alpha=0.0001, early_stopping=True, learning_rate=constant, learning_rate_init=0.0005, max_iter=50, n_iter_no_change=5, power_t=0.005, solver=sgd; total time= 2.2min\n"
     ]
    },
    {
     "name": "stderr",
     "output_type": "stream",
     "text": [
      "/Users/sebastianlopez/miniconda3/envs/maestriamatching/lib/python3.10/site-packages/sklearn/neural_network/_multilayer_perceptron.py:691: ConvergenceWarning: Stochastic Optimizer: Maximum iterations (5) reached and the optimization hasn't converged yet.\n",
      "  warnings.warn(\n"
     ]
    },
    {
     "name": "stdout",
     "output_type": "stream",
     "text": [
      "[CV] END activation=identity, alpha=0.0001, early_stopping=True, learning_rate=constant, learning_rate_init=0.001, max_iter=5, n_iter_no_change=5, power_t=0.9, solver=adam; total time=  14.8s\n"
     ]
    },
    {
     "name": "stderr",
     "output_type": "stream",
     "text": [
      "/Users/sebastianlopez/miniconda3/envs/maestriamatching/lib/python3.10/site-packages/sklearn/neural_network/_multilayer_perceptron.py:691: ConvergenceWarning: Stochastic Optimizer: Maximum iterations (5) reached and the optimization hasn't converged yet.\n",
      "  warnings.warn(\n"
     ]
    },
    {
     "name": "stdout",
     "output_type": "stream",
     "text": [
      "[CV] END activation=identity, alpha=0.0001, early_stopping=True, learning_rate=constant, learning_rate_init=0.001, max_iter=5, n_iter_no_change=5, power_t=0.9, solver=adam; total time=  14.7s\n"
     ]
    },
    {
     "name": "stderr",
     "output_type": "stream",
     "text": [
      "/Users/sebastianlopez/miniconda3/envs/maestriamatching/lib/python3.10/site-packages/sklearn/neural_network/_multilayer_perceptron.py:691: ConvergenceWarning: Stochastic Optimizer: Maximum iterations (5) reached and the optimization hasn't converged yet.\n",
      "  warnings.warn(\n"
     ]
    },
    {
     "name": "stdout",
     "output_type": "stream",
     "text": [
      "[CV] END activation=identity, alpha=0.0001, early_stopping=True, learning_rate=constant, learning_rate_init=0.001, max_iter=5, n_iter_no_change=5, power_t=0.9, solver=adam; total time=  14.8s\n"
     ]
    },
    {
     "name": "stderr",
     "output_type": "stream",
     "text": [
      "/Users/sebastianlopez/miniconda3/envs/maestriamatching/lib/python3.10/site-packages/sklearn/neural_network/_multilayer_perceptron.py:546: ConvergenceWarning: lbfgs failed to converge (status=1):\n",
      "STOP: TOTAL NO. of ITERATIONS REACHED LIMIT.\n",
      "\n",
      "Increase the number of iterations (max_iter) or scale the data as shown in:\n",
      "    https://scikit-learn.org/stable/modules/preprocessing.html\n",
      "  self.n_iter_ = _check_optimize_result(\"lbfgs\", opt_res, self.max_iter)\n",
      "/Users/sebastianlopez/miniconda3/envs/maestriamatching/lib/python3.10/site-packages/sklearn/neural_network/_multilayer_perceptron.py:691: ConvergenceWarning: Stochastic Optimizer: Maximum iterations (5) reached and the optimization hasn't converged yet.\n",
      "  warnings.warn(\n"
     ]
    },
    {
     "name": "stdout",
     "output_type": "stream",
     "text": [
      "[CV] END activation=identity, alpha=0.0001, early_stopping=True, learning_rate=constant, learning_rate_init=0.001, max_iter=5, n_iter_no_change=5, power_t=0.001, solver=lbfgs; total time=  15.0s\n",
      "[CV] END activation=identity, alpha=0.0001, early_stopping=True, learning_rate=constant, learning_rate_init=0.001, max_iter=5, n_iter_no_change=5, power_t=0.001, solver=sgd; total time=  13.9s\n"
     ]
    },
    {
     "name": "stderr",
     "output_type": "stream",
     "text": [
      "/Users/sebastianlopez/miniconda3/envs/maestriamatching/lib/python3.10/site-packages/sklearn/neural_network/_multilayer_perceptron.py:691: ConvergenceWarning: Stochastic Optimizer: Maximum iterations (5) reached and the optimization hasn't converged yet.\n",
      "  warnings.warn(\n"
     ]
    },
    {
     "name": "stdout",
     "output_type": "stream",
     "text": [
      "[CV] END activation=identity, alpha=0.0001, early_stopping=True, learning_rate=constant, learning_rate_init=0.001, max_iter=5, n_iter_no_change=5, power_t=0.001, solver=sgd; total time=  13.8s\n"
     ]
    },
    {
     "name": "stderr",
     "output_type": "stream",
     "text": [
      "/Users/sebastianlopez/miniconda3/envs/maestriamatching/lib/python3.10/site-packages/sklearn/neural_network/_multilayer_perceptron.py:546: ConvergenceWarning: lbfgs failed to converge (status=1):\n",
      "STOP: TOTAL NO. of ITERATIONS REACHED LIMIT.\n",
      "\n",
      "Increase the number of iterations (max_iter) or scale the data as shown in:\n",
      "    https://scikit-learn.org/stable/modules/preprocessing.html\n",
      "  self.n_iter_ = _check_optimize_result(\"lbfgs\", opt_res, self.max_iter)\n",
      "/Users/sebastianlopez/miniconda3/envs/maestriamatching/lib/python3.10/site-packages/sklearn/neural_network/_multilayer_perceptron.py:691: ConvergenceWarning: Stochastic Optimizer: Maximum iterations (5) reached and the optimization hasn't converged yet.\n",
      "  warnings.warn(\n"
     ]
    },
    {
     "name": "stdout",
     "output_type": "stream",
     "text": [
      "[CV] END activation=identity, alpha=0.0001, early_stopping=True, learning_rate=constant, learning_rate_init=0.001, max_iter=5, n_iter_no_change=5, power_t=0.001, solver=lbfgs; total time=  17.1s\n",
      "[CV] END activation=identity, alpha=0.0001, early_stopping=True, learning_rate=constant, learning_rate_init=0.001, max_iter=5, n_iter_no_change=5, power_t=0.001, solver=sgd; total time=  13.6s\n"
     ]
    },
    {
     "name": "stderr",
     "output_type": "stream",
     "text": [
      "/Users/sebastianlopez/miniconda3/envs/maestriamatching/lib/python3.10/site-packages/sklearn/neural_network/_multilayer_perceptron.py:691: ConvergenceWarning: Stochastic Optimizer: Maximum iterations (50) reached and the optimization hasn't converged yet.\n",
      "  warnings.warn(\n"
     ]
    },
    {
     "name": "stdout",
     "output_type": "stream",
     "text": [
      "[CV] END activation=identity, alpha=0.0001, early_stopping=True, learning_rate=constant, learning_rate_init=0.0005, max_iter=50, n_iter_no_change=5, power_t=0.005, solver=sgd; total time= 2.4min\n"
     ]
    },
    {
     "name": "stderr",
     "output_type": "stream",
     "text": [
      "/Users/sebastianlopez/miniconda3/envs/maestriamatching/lib/python3.10/site-packages/sklearn/neural_network/_multilayer_perceptron.py:691: ConvergenceWarning: Stochastic Optimizer: Maximum iterations (5) reached and the optimization hasn't converged yet.\n",
      "  warnings.warn(\n"
     ]
    },
    {
     "name": "stdout",
     "output_type": "stream",
     "text": [
      "[CV] END activation=identity, alpha=0.0001, early_stopping=True, learning_rate=constant, learning_rate_init=0.001, max_iter=5, n_iter_no_change=5, power_t=0.001, solver=adam; total time=  14.7s\n"
     ]
    },
    {
     "name": "stderr",
     "output_type": "stream",
     "text": [
      "/Users/sebastianlopez/miniconda3/envs/maestriamatching/lib/python3.10/site-packages/sklearn/neural_network/_multilayer_perceptron.py:546: ConvergenceWarning: lbfgs failed to converge (status=1):\n",
      "STOP: TOTAL NO. of ITERATIONS REACHED LIMIT.\n",
      "\n",
      "Increase the number of iterations (max_iter) or scale the data as shown in:\n",
      "    https://scikit-learn.org/stable/modules/preprocessing.html\n",
      "  self.n_iter_ = _check_optimize_result(\"lbfgs\", opt_res, self.max_iter)\n",
      "/Users/sebastianlopez/miniconda3/envs/maestriamatching/lib/python3.10/site-packages/sklearn/neural_network/_multilayer_perceptron.py:691: ConvergenceWarning: Stochastic Optimizer: Maximum iterations (5) reached and the optimization hasn't converged yet.\n",
      "  warnings.warn(\n"
     ]
    },
    {
     "name": "stdout",
     "output_type": "stream",
     "text": [
      "[CV] END activation=identity, alpha=0.0001, early_stopping=True, learning_rate=constant, learning_rate_init=0.001, max_iter=5, n_iter_no_change=5, power_t=0.001, solver=lbfgs; total time=  21.1s\n",
      "[CV] END activation=identity, alpha=0.0001, early_stopping=True, learning_rate=constant, learning_rate_init=0.001, max_iter=5, n_iter_no_change=5, power_t=0.001, solver=adam; total time=  14.6s\n",
      "[CV] END activation=identity, alpha=0.0001, early_stopping=True, learning_rate=constant, learning_rate_init=0.0005, max_iter=50, n_iter_no_change=5, power_t=0.005, solver=sgd; total time= 2.3min\n"
     ]
    },
    {
     "name": "stderr",
     "output_type": "stream",
     "text": [
      "/Users/sebastianlopez/miniconda3/envs/maestriamatching/lib/python3.10/site-packages/sklearn/neural_network/_multilayer_perceptron.py:691: ConvergenceWarning: Stochastic Optimizer: Maximum iterations (5) reached and the optimization hasn't converged yet.\n",
      "  warnings.warn(\n"
     ]
    },
    {
     "name": "stdout",
     "output_type": "stream",
     "text": [
      "[CV] END activation=identity, alpha=0.0001, early_stopping=True, learning_rate=constant, learning_rate_init=0.001, max_iter=5, n_iter_no_change=5, power_t=0.001, solver=adam; total time=  14.7s\n"
     ]
    },
    {
     "name": "stderr",
     "output_type": "stream",
     "text": [
      "/Users/sebastianlopez/miniconda3/envs/maestriamatching/lib/python3.10/site-packages/sklearn/neural_network/_multilayer_perceptron.py:691: ConvergenceWarning: Stochastic Optimizer: Maximum iterations (5) reached and the optimization hasn't converged yet.\n",
      "  warnings.warn(\n",
      "/Users/sebastianlopez/miniconda3/envs/maestriamatching/lib/python3.10/site-packages/sklearn/neural_network/_multilayer_perceptron.py:691: ConvergenceWarning: Stochastic Optimizer: Maximum iterations (5) reached and the optimization hasn't converged yet.\n",
      "  warnings.warn(\n"
     ]
    },
    {
     "name": "stdout",
     "output_type": "stream",
     "text": [
      "[CV] END activation=identity, alpha=0.0001, early_stopping=True, learning_rate=constant, learning_rate_init=0.001, max_iter=5, n_iter_no_change=5, power_t=0.005, solver=sgd; total time=  13.8s\n",
      "[CV] END activation=identity, alpha=0.0001, early_stopping=True, learning_rate=constant, learning_rate_init=0.001, max_iter=5, n_iter_no_change=5, power_t=0.005, solver=sgd; total time=  13.6s\n"
     ]
    },
    {
     "name": "stderr",
     "output_type": "stream",
     "text": [
      "/Users/sebastianlopez/miniconda3/envs/maestriamatching/lib/python3.10/site-packages/sklearn/neural_network/_multilayer_perceptron.py:691: ConvergenceWarning: Stochastic Optimizer: Maximum iterations (5) reached and the optimization hasn't converged yet.\n",
      "  warnings.warn(\n",
      "/Users/sebastianlopez/miniconda3/envs/maestriamatching/lib/python3.10/site-packages/sklearn/neural_network/_multilayer_perceptron.py:546: ConvergenceWarning: lbfgs failed to converge (status=1):\n",
      "STOP: TOTAL NO. of ITERATIONS REACHED LIMIT.\n",
      "\n",
      "Increase the number of iterations (max_iter) or scale the data as shown in:\n",
      "    https://scikit-learn.org/stable/modules/preprocessing.html\n",
      "  self.n_iter_ = _check_optimize_result(\"lbfgs\", opt_res, self.max_iter)\n",
      "/Users/sebastianlopez/miniconda3/envs/maestriamatching/lib/python3.10/site-packages/sklearn/neural_network/_multilayer_perceptron.py:546: ConvergenceWarning: lbfgs failed to converge (status=1):\n",
      "STOP: TOTAL NO. of ITERATIONS REACHED LIMIT.\n",
      "\n",
      "Increase the number of iterations (max_iter) or scale the data as shown in:\n",
      "    https://scikit-learn.org/stable/modules/preprocessing.html\n",
      "  self.n_iter_ = _check_optimize_result(\"lbfgs\", opt_res, self.max_iter)\n"
     ]
    },
    {
     "name": "stdout",
     "output_type": "stream",
     "text": [
      "[CV] END activation=identity, alpha=0.0001, early_stopping=True, learning_rate=constant, learning_rate_init=0.001, max_iter=5, n_iter_no_change=5, power_t=0.005, solver=sgd; total time=  13.3s\n",
      "[CV] END activation=identity, alpha=0.0001, early_stopping=True, learning_rate=constant, learning_rate_init=0.001, max_iter=5, n_iter_no_change=5, power_t=0.005, solver=lbfgs; total time=  17.5s\n",
      "[CV] END activation=identity, alpha=0.0001, early_stopping=True, learning_rate=constant, learning_rate_init=0.001, max_iter=5, n_iter_no_change=5, power_t=0.005, solver=lbfgs; total time=  17.5s\n"
     ]
    },
    {
     "name": "stderr",
     "output_type": "stream",
     "text": [
      "/Users/sebastianlopez/miniconda3/envs/maestriamatching/lib/python3.10/site-packages/sklearn/neural_network/_multilayer_perceptron.py:691: ConvergenceWarning: Stochastic Optimizer: Maximum iterations (5) reached and the optimization hasn't converged yet.\n",
      "  warnings.warn(\n"
     ]
    },
    {
     "name": "stdout",
     "output_type": "stream",
     "text": [
      "[CV] END activation=identity, alpha=0.0001, early_stopping=True, learning_rate=constant, learning_rate_init=0.001, max_iter=5, n_iter_no_change=5, power_t=0.005, solver=adam; total time=  15.0s\n"
     ]
    },
    {
     "name": "stderr",
     "output_type": "stream",
     "text": [
      "/Users/sebastianlopez/miniconda3/envs/maestriamatching/lib/python3.10/site-packages/sklearn/neural_network/_multilayer_perceptron.py:691: ConvergenceWarning: Stochastic Optimizer: Maximum iterations (5) reached and the optimization hasn't converged yet.\n",
      "  warnings.warn(\n",
      "/Users/sebastianlopez/miniconda3/envs/maestriamatching/lib/python3.10/site-packages/sklearn/neural_network/_multilayer_perceptron.py:691: ConvergenceWarning: Stochastic Optimizer: Maximum iterations (5) reached and the optimization hasn't converged yet.\n",
      "  warnings.warn(\n"
     ]
    },
    {
     "name": "stdout",
     "output_type": "stream",
     "text": [
      "[CV] END activation=identity, alpha=0.0001, early_stopping=True, learning_rate=constant, learning_rate_init=0.001, max_iter=5, n_iter_no_change=5, power_t=0.005, solver=adam; total time=  14.6s\n",
      "[CV] END activation=identity, alpha=0.0001, early_stopping=True, learning_rate=constant, learning_rate_init=0.001, max_iter=5, n_iter_no_change=5, power_t=0.005, solver=adam; total time=  14.7s\n"
     ]
    },
    {
     "name": "stderr",
     "output_type": "stream",
     "text": [
      "/Users/sebastianlopez/miniconda3/envs/maestriamatching/lib/python3.10/site-packages/sklearn/neural_network/_multilayer_perceptron.py:546: ConvergenceWarning: lbfgs failed to converge (status=1):\n",
      "STOP: TOTAL NO. of ITERATIONS REACHED LIMIT.\n",
      "\n",
      "Increase the number of iterations (max_iter) or scale the data as shown in:\n",
      "    https://scikit-learn.org/stable/modules/preprocessing.html\n",
      "  self.n_iter_ = _check_optimize_result(\"lbfgs\", opt_res, self.max_iter)\n"
     ]
    },
    {
     "name": "stdout",
     "output_type": "stream",
     "text": [
      "[CV] END activation=identity, alpha=0.0001, early_stopping=True, learning_rate=constant, learning_rate_init=0.001, max_iter=5, n_iter_no_change=5, power_t=0.005, solver=lbfgs; total time=  26.1s\n"
     ]
    },
    {
     "name": "stderr",
     "output_type": "stream",
     "text": [
      "/Users/sebastianlopez/miniconda3/envs/maestriamatching/lib/python3.10/site-packages/sklearn/neural_network/_multilayer_perceptron.py:546: ConvergenceWarning: lbfgs failed to converge (status=1):\n",
      "STOP: TOTAL NO. of ITERATIONS REACHED LIMIT.\n",
      "\n",
      "Increase the number of iterations (max_iter) or scale the data as shown in:\n",
      "    https://scikit-learn.org/stable/modules/preprocessing.html\n",
      "  self.n_iter_ = _check_optimize_result(\"lbfgs\", opt_res, self.max_iter)\n"
     ]
    },
    {
     "name": "stdout",
     "output_type": "stream",
     "text": [
      "[CV] END activation=identity, alpha=0.0001, early_stopping=True, learning_rate=constant, learning_rate_init=0.001, max_iter=10, n_iter_no_change=5, power_t=0.5, solver=lbfgs; total time=  28.1s\n"
     ]
    },
    {
     "name": "stderr",
     "output_type": "stream",
     "text": [
      "/Users/sebastianlopez/miniconda3/envs/maestriamatching/lib/python3.10/site-packages/sklearn/neural_network/_multilayer_perceptron.py:546: ConvergenceWarning: lbfgs failed to converge (status=1):\n",
      "STOP: TOTAL NO. of ITERATIONS REACHED LIMIT.\n",
      "\n",
      "Increase the number of iterations (max_iter) or scale the data as shown in:\n",
      "    https://scikit-learn.org/stable/modules/preprocessing.html\n",
      "  self.n_iter_ = _check_optimize_result(\"lbfgs\", opt_res, self.max_iter)\n"
     ]
    },
    {
     "name": "stdout",
     "output_type": "stream",
     "text": [
      "[CV] END activation=identity, alpha=0.0001, early_stopping=True, learning_rate=constant, learning_rate_init=0.001, max_iter=10, n_iter_no_change=5, power_t=0.5, solver=lbfgs; total time=  30.3s\n"
     ]
    },
    {
     "name": "stderr",
     "output_type": "stream",
     "text": [
      "/Users/sebastianlopez/miniconda3/envs/maestriamatching/lib/python3.10/site-packages/sklearn/neural_network/_multilayer_perceptron.py:691: ConvergenceWarning: Stochastic Optimizer: Maximum iterations (10) reached and the optimization hasn't converged yet.\n",
      "  warnings.warn(\n",
      "/Users/sebastianlopez/miniconda3/envs/maestriamatching/lib/python3.10/site-packages/sklearn/neural_network/_multilayer_perceptron.py:691: ConvergenceWarning: Stochastic Optimizer: Maximum iterations (10) reached and the optimization hasn't converged yet.\n",
      "  warnings.warn(\n"
     ]
    },
    {
     "name": "stdout",
     "output_type": "stream",
     "text": [
      "[CV] END activation=identity, alpha=0.0001, early_stopping=True, learning_rate=constant, learning_rate_init=0.001, max_iter=10, n_iter_no_change=5, power_t=0.5, solver=sgd; total time=  27.6s\n"
     ]
    },
    {
     "name": "stderr",
     "output_type": "stream",
     "text": [
      "/Users/sebastianlopez/miniconda3/envs/maestriamatching/lib/python3.10/site-packages/sklearn/neural_network/_multilayer_perceptron.py:691: ConvergenceWarning: Stochastic Optimizer: Maximum iterations (10) reached and the optimization hasn't converged yet.\n",
      "  warnings.warn(\n"
     ]
    },
    {
     "name": "stdout",
     "output_type": "stream",
     "text": [
      "[CV] END activation=identity, alpha=0.0001, early_stopping=True, learning_rate=constant, learning_rate_init=0.001, max_iter=10, n_iter_no_change=5, power_t=0.5, solver=sgd; total time=  27.4s\n",
      "[CV] END activation=identity, alpha=0.0001, early_stopping=True, learning_rate=constant, learning_rate_init=0.001, max_iter=10, n_iter_no_change=5, power_t=0.5, solver=sgd; total time=  27.3s\n"
     ]
    },
    {
     "name": "stderr",
     "output_type": "stream",
     "text": [
      "/Users/sebastianlopez/miniconda3/envs/maestriamatching/lib/python3.10/site-packages/sklearn/neural_network/_multilayer_perceptron.py:546: ConvergenceWarning: lbfgs failed to converge (status=1):\n",
      "STOP: TOTAL NO. of ITERATIONS REACHED LIMIT.\n",
      "\n",
      "Increase the number of iterations (max_iter) or scale the data as shown in:\n",
      "    https://scikit-learn.org/stable/modules/preprocessing.html\n",
      "  self.n_iter_ = _check_optimize_result(\"lbfgs\", opt_res, self.max_iter)\n"
     ]
    },
    {
     "name": "stdout",
     "output_type": "stream",
     "text": [
      "[CV] END activation=identity, alpha=0.0001, early_stopping=True, learning_rate=constant, learning_rate_init=0.001, max_iter=10, n_iter_no_change=5, power_t=0.5, solver=lbfgs; total time=  30.4s\n"
     ]
    },
    {
     "name": "stderr",
     "output_type": "stream",
     "text": [
      "/Users/sebastianlopez/miniconda3/envs/maestriamatching/lib/python3.10/site-packages/sklearn/neural_network/_multilayer_perceptron.py:691: ConvergenceWarning: Stochastic Optimizer: Maximum iterations (10) reached and the optimization hasn't converged yet.\n",
      "  warnings.warn(\n"
     ]
    },
    {
     "name": "stdout",
     "output_type": "stream",
     "text": [
      "[CV] END activation=identity, alpha=0.0001, early_stopping=True, learning_rate=constant, learning_rate_init=0.001, max_iter=10, n_iter_no_change=5, power_t=0.5, solver=adam; total time=  29.7s\n"
     ]
    },
    {
     "name": "stderr",
     "output_type": "stream",
     "text": [
      "/Users/sebastianlopez/miniconda3/envs/maestriamatching/lib/python3.10/site-packages/sklearn/neural_network/_multilayer_perceptron.py:691: ConvergenceWarning: Stochastic Optimizer: Maximum iterations (10) reached and the optimization hasn't converged yet.\n",
      "  warnings.warn(\n"
     ]
    },
    {
     "name": "stdout",
     "output_type": "stream",
     "text": [
      "[CV] END activation=identity, alpha=0.0001, early_stopping=True, learning_rate=constant, learning_rate_init=0.001, max_iter=10, n_iter_no_change=5, power_t=0.5, solver=adam; total time=  29.5s\n"
     ]
    },
    {
     "name": "stderr",
     "output_type": "stream",
     "text": [
      "/Users/sebastianlopez/miniconda3/envs/maestriamatching/lib/python3.10/site-packages/sklearn/neural_network/_multilayer_perceptron.py:691: ConvergenceWarning: Stochastic Optimizer: Maximum iterations (10) reached and the optimization hasn't converged yet.\n",
      "  warnings.warn(\n"
     ]
    },
    {
     "name": "stdout",
     "output_type": "stream",
     "text": [
      "[CV] END activation=identity, alpha=0.0001, early_stopping=True, learning_rate=constant, learning_rate_init=0.001, max_iter=10, n_iter_no_change=5, power_t=0.5, solver=adam; total time=  29.3s\n"
     ]
    },
    {
     "name": "stderr",
     "output_type": "stream",
     "text": [
      "/Users/sebastianlopez/miniconda3/envs/maestriamatching/lib/python3.10/site-packages/sklearn/neural_network/_multilayer_perceptron.py:546: ConvergenceWarning: lbfgs failed to converge (status=1):\n",
      "STOP: TOTAL NO. of ITERATIONS REACHED LIMIT.\n",
      "\n",
      "Increase the number of iterations (max_iter) or scale the data as shown in:\n",
      "    https://scikit-learn.org/stable/modules/preprocessing.html\n",
      "  self.n_iter_ = _check_optimize_result(\"lbfgs\", opt_res, self.max_iter)\n",
      "/Users/sebastianlopez/miniconda3/envs/maestriamatching/lib/python3.10/site-packages/sklearn/neural_network/_multilayer_perceptron.py:546: ConvergenceWarning: lbfgs failed to converge (status=1):\n",
      "STOP: TOTAL NO. of ITERATIONS REACHED LIMIT.\n",
      "\n",
      "Increase the number of iterations (max_iter) or scale the data as shown in:\n",
      "    https://scikit-learn.org/stable/modules/preprocessing.html\n",
      "  self.n_iter_ = _check_optimize_result(\"lbfgs\", opt_res, self.max_iter)\n"
     ]
    },
    {
     "name": "stdout",
     "output_type": "stream",
     "text": [
      "[CV] END activation=identity, alpha=0.0001, early_stopping=True, learning_rate=constant, learning_rate_init=0.001, max_iter=10, n_iter_no_change=5, power_t=0.1, solver=lbfgs; total time=  32.2s\n",
      "[CV] END activation=identity, alpha=0.0001, early_stopping=True, learning_rate=constant, learning_rate_init=0.001, max_iter=10, n_iter_no_change=5, power_t=0.1, solver=lbfgs; total time=  38.8s\n"
     ]
    },
    {
     "name": "stderr",
     "output_type": "stream",
     "text": [
      "/Users/sebastianlopez/miniconda3/envs/maestriamatching/lib/python3.10/site-packages/sklearn/neural_network/_multilayer_perceptron.py:691: ConvergenceWarning: Stochastic Optimizer: Maximum iterations (10) reached and the optimization hasn't converged yet.\n",
      "  warnings.warn(\n"
     ]
    },
    {
     "name": "stdout",
     "output_type": "stream",
     "text": [
      "[CV] END activation=identity, alpha=0.0001, early_stopping=True, learning_rate=constant, learning_rate_init=0.001, max_iter=10, n_iter_no_change=5, power_t=0.1, solver=sgd; total time=  27.4s\n"
     ]
    },
    {
     "name": "stderr",
     "output_type": "stream",
     "text": [
      "/Users/sebastianlopez/miniconda3/envs/maestriamatching/lib/python3.10/site-packages/sklearn/neural_network/_multilayer_perceptron.py:691: ConvergenceWarning: Stochastic Optimizer: Maximum iterations (10) reached and the optimization hasn't converged yet.\n",
      "  warnings.warn(\n",
      "/Users/sebastianlopez/miniconda3/envs/maestriamatching/lib/python3.10/site-packages/sklearn/neural_network/_multilayer_perceptron.py:691: ConvergenceWarning: Stochastic Optimizer: Maximum iterations (10) reached and the optimization hasn't converged yet.\n",
      "  warnings.warn(\n"
     ]
    },
    {
     "name": "stdout",
     "output_type": "stream",
     "text": [
      "[CV] END activation=identity, alpha=0.0001, early_stopping=True, learning_rate=constant, learning_rate_init=0.001, max_iter=10, n_iter_no_change=5, power_t=0.1, solver=sgd; total time=  27.2s\n",
      "[CV] END activation=identity, alpha=0.0001, early_stopping=True, learning_rate=constant, learning_rate_init=0.001, max_iter=10, n_iter_no_change=5, power_t=0.1, solver=sgd; total time=  26.9s\n"
     ]
    },
    {
     "name": "stderr",
     "output_type": "stream",
     "text": [
      "/Users/sebastianlopez/miniconda3/envs/maestriamatching/lib/python3.10/site-packages/sklearn/neural_network/_multilayer_perceptron.py:691: ConvergenceWarning: Stochastic Optimizer: Maximum iterations (10) reached and the optimization hasn't converged yet.\n",
      "  warnings.warn(\n"
     ]
    },
    {
     "name": "stdout",
     "output_type": "stream",
     "text": [
      "[CV] END activation=identity, alpha=0.0001, early_stopping=True, learning_rate=constant, learning_rate_init=0.001, max_iter=10, n_iter_no_change=5, power_t=0.1, solver=adam; total time=  28.4s\n"
     ]
    },
    {
     "name": "stderr",
     "output_type": "stream",
     "text": [
      "/Users/sebastianlopez/miniconda3/envs/maestriamatching/lib/python3.10/site-packages/sklearn/neural_network/_multilayer_perceptron.py:691: ConvergenceWarning: Stochastic Optimizer: Maximum iterations (10) reached and the optimization hasn't converged yet.\n",
      "  warnings.warn(\n"
     ]
    },
    {
     "name": "stdout",
     "output_type": "stream",
     "text": [
      "[CV] END activation=identity, alpha=0.0001, early_stopping=True, learning_rate=constant, learning_rate_init=0.001, max_iter=10, n_iter_no_change=5, power_t=0.1, solver=adam; total time=  28.9s\n"
     ]
    },
    {
     "name": "stderr",
     "output_type": "stream",
     "text": [
      "/Users/sebastianlopez/miniconda3/envs/maestriamatching/lib/python3.10/site-packages/sklearn/neural_network/_multilayer_perceptron.py:691: ConvergenceWarning: Stochastic Optimizer: Maximum iterations (10) reached and the optimization hasn't converged yet.\n",
      "  warnings.warn(\n"
     ]
    },
    {
     "name": "stdout",
     "output_type": "stream",
     "text": [
      "[CV] END activation=identity, alpha=0.0001, early_stopping=True, learning_rate=constant, learning_rate_init=0.001, max_iter=10, n_iter_no_change=5, power_t=0.1, solver=adam; total time=  28.9s\n"
     ]
    },
    {
     "name": "stderr",
     "output_type": "stream",
     "text": [
      "/Users/sebastianlopez/miniconda3/envs/maestriamatching/lib/python3.10/site-packages/sklearn/neural_network/_multilayer_perceptron.py:546: ConvergenceWarning: lbfgs failed to converge (status=1):\n",
      "STOP: TOTAL NO. of ITERATIONS REACHED LIMIT.\n",
      "\n",
      "Increase the number of iterations (max_iter) or scale the data as shown in:\n",
      "    https://scikit-learn.org/stable/modules/preprocessing.html\n",
      "  self.n_iter_ = _check_optimize_result(\"lbfgs\", opt_res, self.max_iter)\n"
     ]
    },
    {
     "name": "stdout",
     "output_type": "stream",
     "text": [
      "[CV] END activation=identity, alpha=0.0001, early_stopping=True, learning_rate=constant, learning_rate_init=0.001, max_iter=10, n_iter_no_change=5, power_t=0.9, solver=lbfgs; total time=  27.9s\n"
     ]
    },
    {
     "name": "stderr",
     "output_type": "stream",
     "text": [
      "/Users/sebastianlopez/miniconda3/envs/maestriamatching/lib/python3.10/site-packages/sklearn/neural_network/_multilayer_perceptron.py:546: ConvergenceWarning: lbfgs failed to converge (status=1):\n",
      "STOP: TOTAL NO. of ITERATIONS REACHED LIMIT.\n",
      "\n",
      "Increase the number of iterations (max_iter) or scale the data as shown in:\n",
      "    https://scikit-learn.org/stable/modules/preprocessing.html\n",
      "  self.n_iter_ = _check_optimize_result(\"lbfgs\", opt_res, self.max_iter)\n"
     ]
    },
    {
     "name": "stdout",
     "output_type": "stream",
     "text": [
      "[CV] END activation=identity, alpha=0.0001, early_stopping=True, learning_rate=constant, learning_rate_init=0.001, max_iter=10, n_iter_no_change=5, power_t=0.1, solver=lbfgs; total time=  38.6s\n"
     ]
    },
    {
     "name": "stderr",
     "output_type": "stream",
     "text": [
      "/Users/sebastianlopez/miniconda3/envs/maestriamatching/lib/python3.10/site-packages/sklearn/neural_network/_multilayer_perceptron.py:546: ConvergenceWarning: lbfgs failed to converge (status=1):\n",
      "STOP: TOTAL NO. of ITERATIONS REACHED LIMIT.\n",
      "\n",
      "Increase the number of iterations (max_iter) or scale the data as shown in:\n",
      "    https://scikit-learn.org/stable/modules/preprocessing.html\n",
      "  self.n_iter_ = _check_optimize_result(\"lbfgs\", opt_res, self.max_iter)\n"
     ]
    },
    {
     "name": "stdout",
     "output_type": "stream",
     "text": [
      "[CV] END activation=identity, alpha=0.0001, early_stopping=True, learning_rate=constant, learning_rate_init=0.001, max_iter=10, n_iter_no_change=5, power_t=0.9, solver=lbfgs; total time=  35.8s\n"
     ]
    },
    {
     "name": "stderr",
     "output_type": "stream",
     "text": [
      "/Users/sebastianlopez/miniconda3/envs/maestriamatching/lib/python3.10/site-packages/sklearn/neural_network/_multilayer_perceptron.py:546: ConvergenceWarning: lbfgs failed to converge (status=1):\n",
      "STOP: TOTAL NO. of ITERATIONS REACHED LIMIT.\n",
      "\n",
      "Increase the number of iterations (max_iter) or scale the data as shown in:\n",
      "    https://scikit-learn.org/stable/modules/preprocessing.html\n",
      "  self.n_iter_ = _check_optimize_result(\"lbfgs\", opt_res, self.max_iter)\n"
     ]
    },
    {
     "name": "stdout",
     "output_type": "stream",
     "text": [
      "[CV] END activation=identity, alpha=0.0001, early_stopping=True, learning_rate=constant, learning_rate_init=0.001, max_iter=10, n_iter_no_change=5, power_t=0.9, solver=lbfgs; total time=  25.8s\n"
     ]
    },
    {
     "name": "stderr",
     "output_type": "stream",
     "text": [
      "/Users/sebastianlopez/miniconda3/envs/maestriamatching/lib/python3.10/site-packages/sklearn/neural_network/_multilayer_perceptron.py:691: ConvergenceWarning: Stochastic Optimizer: Maximum iterations (10) reached and the optimization hasn't converged yet.\n",
      "  warnings.warn(\n"
     ]
    },
    {
     "name": "stdout",
     "output_type": "stream",
     "text": [
      "[CV] END activation=identity, alpha=0.0001, early_stopping=True, learning_rate=constant, learning_rate_init=0.001, max_iter=10, n_iter_no_change=5, power_t=0.9, solver=sgd; total time=  26.8s\n"
     ]
    },
    {
     "name": "stderr",
     "output_type": "stream",
     "text": [
      "/Users/sebastianlopez/miniconda3/envs/maestriamatching/lib/python3.10/site-packages/sklearn/neural_network/_multilayer_perceptron.py:691: ConvergenceWarning: Stochastic Optimizer: Maximum iterations (10) reached and the optimization hasn't converged yet.\n",
      "  warnings.warn(\n"
     ]
    },
    {
     "name": "stdout",
     "output_type": "stream",
     "text": [
      "[CV] END activation=identity, alpha=0.0001, early_stopping=True, learning_rate=constant, learning_rate_init=0.001, max_iter=10, n_iter_no_change=5, power_t=0.9, solver=sgd; total time=  27.2s\n"
     ]
    },
    {
     "name": "stderr",
     "output_type": "stream",
     "text": [
      "/Users/sebastianlopez/miniconda3/envs/maestriamatching/lib/python3.10/site-packages/sklearn/neural_network/_multilayer_perceptron.py:691: ConvergenceWarning: Stochastic Optimizer: Maximum iterations (10) reached and the optimization hasn't converged yet.\n",
      "  warnings.warn(\n"
     ]
    },
    {
     "name": "stdout",
     "output_type": "stream",
     "text": [
      "[CV] END activation=identity, alpha=0.0001, early_stopping=True, learning_rate=constant, learning_rate_init=0.001, max_iter=10, n_iter_no_change=5, power_t=0.9, solver=sgd; total time=  28.3s\n"
     ]
    },
    {
     "name": "stderr",
     "output_type": "stream",
     "text": [
      "/Users/sebastianlopez/miniconda3/envs/maestriamatching/lib/python3.10/site-packages/sklearn/neural_network/_multilayer_perceptron.py:691: ConvergenceWarning: Stochastic Optimizer: Maximum iterations (10) reached and the optimization hasn't converged yet.\n",
      "  warnings.warn(\n"
     ]
    },
    {
     "name": "stdout",
     "output_type": "stream",
     "text": [
      "[CV] END activation=identity, alpha=0.0001, early_stopping=True, learning_rate=constant, learning_rate_init=0.001, max_iter=10, n_iter_no_change=5, power_t=0.9, solver=adam; total time=  30.8s\n"
     ]
    },
    {
     "name": "stderr",
     "output_type": "stream",
     "text": [
      "/Users/sebastianlopez/miniconda3/envs/maestriamatching/lib/python3.10/site-packages/sklearn/neural_network/_multilayer_perceptron.py:546: ConvergenceWarning: lbfgs failed to converge (status=1):\n",
      "STOP: TOTAL NO. of ITERATIONS REACHED LIMIT.\n",
      "\n",
      "Increase the number of iterations (max_iter) or scale the data as shown in:\n",
      "    https://scikit-learn.org/stable/modules/preprocessing.html\n",
      "  self.n_iter_ = _check_optimize_result(\"lbfgs\", opt_res, self.max_iter)\n",
      "/Users/sebastianlopez/miniconda3/envs/maestriamatching/lib/python3.10/site-packages/sklearn/neural_network/_multilayer_perceptron.py:691: ConvergenceWarning: Stochastic Optimizer: Maximum iterations (10) reached and the optimization hasn't converged yet.\n",
      "  warnings.warn(\n"
     ]
    },
    {
     "name": "stdout",
     "output_type": "stream",
     "text": [
      "[CV] END activation=identity, alpha=0.0001, early_stopping=True, learning_rate=constant, learning_rate_init=0.001, max_iter=10, n_iter_no_change=5, power_t=0.001, solver=lbfgs; total time=  27.8s\n",
      "[CV] END activation=identity, alpha=0.0001, early_stopping=True, learning_rate=constant, learning_rate_init=0.001, max_iter=10, n_iter_no_change=5, power_t=0.9, solver=adam; total time=  30.9s\n"
     ]
    },
    {
     "name": "stderr",
     "output_type": "stream",
     "text": [
      "/Users/sebastianlopez/miniconda3/envs/maestriamatching/lib/python3.10/site-packages/sklearn/neural_network/_multilayer_perceptron.py:691: ConvergenceWarning: Stochastic Optimizer: Maximum iterations (10) reached and the optimization hasn't converged yet.\n",
      "  warnings.warn(\n"
     ]
    },
    {
     "name": "stdout",
     "output_type": "stream",
     "text": [
      "[CV] END activation=identity, alpha=0.0001, early_stopping=True, learning_rate=constant, learning_rate_init=0.001, max_iter=10, n_iter_no_change=5, power_t=0.9, solver=adam; total time=  31.5s\n"
     ]
    },
    {
     "name": "stderr",
     "output_type": "stream",
     "text": [
      "/Users/sebastianlopez/miniconda3/envs/maestriamatching/lib/python3.10/site-packages/sklearn/neural_network/_multilayer_perceptron.py:546: ConvergenceWarning: lbfgs failed to converge (status=1):\n",
      "STOP: TOTAL NO. of ITERATIONS REACHED LIMIT.\n",
      "\n",
      "Increase the number of iterations (max_iter) or scale the data as shown in:\n",
      "    https://scikit-learn.org/stable/modules/preprocessing.html\n",
      "  self.n_iter_ = _check_optimize_result(\"lbfgs\", opt_res, self.max_iter)\n"
     ]
    },
    {
     "name": "stdout",
     "output_type": "stream",
     "text": [
      "[CV] END activation=identity, alpha=0.0001, early_stopping=True, learning_rate=constant, learning_rate_init=0.001, max_iter=10, n_iter_no_change=5, power_t=0.001, solver=lbfgs; total time=  29.9s\n"
     ]
    },
    {
     "name": "stderr",
     "output_type": "stream",
     "text": [
      "/Users/sebastianlopez/miniconda3/envs/maestriamatching/lib/python3.10/site-packages/sklearn/neural_network/_multilayer_perceptron.py:546: ConvergenceWarning: lbfgs failed to converge (status=1):\n",
      "STOP: TOTAL NO. of ITERATIONS REACHED LIMIT.\n",
      "\n",
      "Increase the number of iterations (max_iter) or scale the data as shown in:\n",
      "    https://scikit-learn.org/stable/modules/preprocessing.html\n",
      "  self.n_iter_ = _check_optimize_result(\"lbfgs\", opt_res, self.max_iter)\n"
     ]
    },
    {
     "name": "stdout",
     "output_type": "stream",
     "text": [
      "[CV] END activation=identity, alpha=0.0001, early_stopping=True, learning_rate=constant, learning_rate_init=0.001, max_iter=10, n_iter_no_change=5, power_t=0.001, solver=lbfgs; total time=  30.3s\n"
     ]
    },
    {
     "name": "stderr",
     "output_type": "stream",
     "text": [
      "/Users/sebastianlopez/miniconda3/envs/maestriamatching/lib/python3.10/site-packages/sklearn/neural_network/_multilayer_perceptron.py:691: ConvergenceWarning: Stochastic Optimizer: Maximum iterations (10) reached and the optimization hasn't converged yet.\n",
      "  warnings.warn(\n",
      "/Users/sebastianlopez/miniconda3/envs/maestriamatching/lib/python3.10/site-packages/sklearn/neural_network/_multilayer_perceptron.py:691: ConvergenceWarning: Stochastic Optimizer: Maximum iterations (10) reached and the optimization hasn't converged yet.\n",
      "  warnings.warn(\n"
     ]
    },
    {
     "name": "stdout",
     "output_type": "stream",
     "text": [
      "[CV] END activation=identity, alpha=0.0001, early_stopping=True, learning_rate=constant, learning_rate_init=0.001, max_iter=10, n_iter_no_change=5, power_t=0.001, solver=sgd; total time=  30.7s\n",
      "[CV] END activation=identity, alpha=0.0001, early_stopping=True, learning_rate=constant, learning_rate_init=0.001, max_iter=10, n_iter_no_change=5, power_t=0.001, solver=sgd; total time=  30.5s\n"
     ]
    },
    {
     "name": "stderr",
     "output_type": "stream",
     "text": [
      "/Users/sebastianlopez/miniconda3/envs/maestriamatching/lib/python3.10/site-packages/sklearn/neural_network/_multilayer_perceptron.py:691: ConvergenceWarning: Stochastic Optimizer: Maximum iterations (10) reached and the optimization hasn't converged yet.\n",
      "  warnings.warn(\n"
     ]
    },
    {
     "name": "stdout",
     "output_type": "stream",
     "text": [
      "[CV] END activation=identity, alpha=0.0001, early_stopping=True, learning_rate=constant, learning_rate_init=0.001, max_iter=10, n_iter_no_change=5, power_t=0.001, solver=sgd; total time=  31.1s\n"
     ]
    },
    {
     "name": "stderr",
     "output_type": "stream",
     "text": [
      "/Users/sebastianlopez/miniconda3/envs/maestriamatching/lib/python3.10/site-packages/sklearn/neural_network/_multilayer_perceptron.py:691: ConvergenceWarning: Stochastic Optimizer: Maximum iterations (10) reached and the optimization hasn't converged yet.\n",
      "  warnings.warn(\n"
     ]
    },
    {
     "name": "stdout",
     "output_type": "stream",
     "text": [
      "[CV] END activation=identity, alpha=0.0001, early_stopping=True, learning_rate=constant, learning_rate_init=0.001, max_iter=10, n_iter_no_change=5, power_t=0.001, solver=adam; total time=  33.4s\n"
     ]
    },
    {
     "name": "stderr",
     "output_type": "stream",
     "text": [
      "/Users/sebastianlopez/miniconda3/envs/maestriamatching/lib/python3.10/site-packages/sklearn/neural_network/_multilayer_perceptron.py:691: ConvergenceWarning: Stochastic Optimizer: Maximum iterations (10) reached and the optimization hasn't converged yet.\n",
      "  warnings.warn(\n"
     ]
    },
    {
     "name": "stdout",
     "output_type": "stream",
     "text": [
      "[CV] END activation=identity, alpha=0.0001, early_stopping=True, learning_rate=constant, learning_rate_init=0.001, max_iter=10, n_iter_no_change=5, power_t=0.001, solver=adam; total time=  33.4s\n"
     ]
    },
    {
     "name": "stderr",
     "output_type": "stream",
     "text": [
      "/Users/sebastianlopez/miniconda3/envs/maestriamatching/lib/python3.10/site-packages/sklearn/neural_network/_multilayer_perceptron.py:691: ConvergenceWarning: Stochastic Optimizer: Maximum iterations (10) reached and the optimization hasn't converged yet.\n",
      "  warnings.warn(\n"
     ]
    },
    {
     "name": "stdout",
     "output_type": "stream",
     "text": [
      "[CV] END activation=identity, alpha=0.0001, early_stopping=True, learning_rate=constant, learning_rate_init=0.001, max_iter=10, n_iter_no_change=5, power_t=0.001, solver=adam; total time=  32.8s\n"
     ]
    },
    {
     "name": "stderr",
     "output_type": "stream",
     "text": [
      "/Users/sebastianlopez/miniconda3/envs/maestriamatching/lib/python3.10/site-packages/sklearn/neural_network/_multilayer_perceptron.py:546: ConvergenceWarning: lbfgs failed to converge (status=1):\n",
      "STOP: TOTAL NO. of ITERATIONS REACHED LIMIT.\n",
      "\n",
      "Increase the number of iterations (max_iter) or scale the data as shown in:\n",
      "    https://scikit-learn.org/stable/modules/preprocessing.html\n",
      "  self.n_iter_ = _check_optimize_result(\"lbfgs\", opt_res, self.max_iter)\n"
     ]
    },
    {
     "name": "stdout",
     "output_type": "stream",
     "text": [
      "[CV] END activation=identity, alpha=0.0001, early_stopping=True, learning_rate=constant, learning_rate_init=0.001, max_iter=10, n_iter_no_change=5, power_t=0.005, solver=lbfgs; total time=  32.3s\n"
     ]
    },
    {
     "name": "stderr",
     "output_type": "stream",
     "text": [
      "/Users/sebastianlopez/miniconda3/envs/maestriamatching/lib/python3.10/site-packages/sklearn/neural_network/_multilayer_perceptron.py:691: ConvergenceWarning: Stochastic Optimizer: Maximum iterations (10) reached and the optimization hasn't converged yet.\n",
      "  warnings.warn(\n"
     ]
    },
    {
     "name": "stdout",
     "output_type": "stream",
     "text": [
      "[CV] END activation=identity, alpha=0.0001, early_stopping=True, learning_rate=constant, learning_rate_init=0.001, max_iter=10, n_iter_no_change=5, power_t=0.005, solver=sgd; total time=  29.3s\n"
     ]
    },
    {
     "name": "stderr",
     "output_type": "stream",
     "text": [
      "/Users/sebastianlopez/miniconda3/envs/maestriamatching/lib/python3.10/site-packages/sklearn/neural_network/_multilayer_perceptron.py:691: ConvergenceWarning: Stochastic Optimizer: Maximum iterations (10) reached and the optimization hasn't converged yet.\n",
      "  warnings.warn(\n"
     ]
    },
    {
     "name": "stdout",
     "output_type": "stream",
     "text": [
      "[CV] END activation=identity, alpha=0.0001, early_stopping=True, learning_rate=constant, learning_rate_init=0.001, max_iter=10, n_iter_no_change=5, power_t=0.005, solver=sgd; total time=  29.2s\n"
     ]
    },
    {
     "name": "stderr",
     "output_type": "stream",
     "text": [
      "/Users/sebastianlopez/miniconda3/envs/maestriamatching/lib/python3.10/site-packages/sklearn/neural_network/_multilayer_perceptron.py:546: ConvergenceWarning: lbfgs failed to converge (status=1):\n",
      "STOP: TOTAL NO. of ITERATIONS REACHED LIMIT.\n",
      "\n",
      "Increase the number of iterations (max_iter) or scale the data as shown in:\n",
      "    https://scikit-learn.org/stable/modules/preprocessing.html\n",
      "  self.n_iter_ = _check_optimize_result(\"lbfgs\", opt_res, self.max_iter)\n"
     ]
    },
    {
     "name": "stdout",
     "output_type": "stream",
     "text": [
      "[CV] END activation=identity, alpha=0.0001, early_stopping=True, learning_rate=constant, learning_rate_init=0.001, max_iter=10, n_iter_no_change=5, power_t=0.005, solver=lbfgs; total time=  38.4s\n"
     ]
    },
    {
     "name": "stderr",
     "output_type": "stream",
     "text": [
      "/Users/sebastianlopez/miniconda3/envs/maestriamatching/lib/python3.10/site-packages/sklearn/neural_network/_multilayer_perceptron.py:691: ConvergenceWarning: Stochastic Optimizer: Maximum iterations (10) reached and the optimization hasn't converged yet.\n",
      "  warnings.warn(\n"
     ]
    },
    {
     "name": "stdout",
     "output_type": "stream",
     "text": [
      "[CV] END activation=identity, alpha=0.0001, early_stopping=True, learning_rate=constant, learning_rate_init=0.001, max_iter=10, n_iter_no_change=5, power_t=0.005, solver=sgd; total time=  27.9s\n"
     ]
    },
    {
     "name": "stderr",
     "output_type": "stream",
     "text": [
      "/Users/sebastianlopez/miniconda3/envs/maestriamatching/lib/python3.10/site-packages/sklearn/neural_network/_multilayer_perceptron.py:546: ConvergenceWarning: lbfgs failed to converge (status=1):\n",
      "STOP: TOTAL NO. of ITERATIONS REACHED LIMIT.\n",
      "\n",
      "Increase the number of iterations (max_iter) or scale the data as shown in:\n",
      "    https://scikit-learn.org/stable/modules/preprocessing.html\n",
      "  self.n_iter_ = _check_optimize_result(\"lbfgs\", opt_res, self.max_iter)\n"
     ]
    },
    {
     "name": "stdout",
     "output_type": "stream",
     "text": [
      "[CV] END activation=identity, alpha=0.0001, early_stopping=True, learning_rate=constant, learning_rate_init=0.001, max_iter=10, n_iter_no_change=5, power_t=0.005, solver=lbfgs; total time=  38.9s\n"
     ]
    },
    {
     "name": "stderr",
     "output_type": "stream",
     "text": [
      "/Users/sebastianlopez/miniconda3/envs/maestriamatching/lib/python3.10/site-packages/sklearn/neural_network/_multilayer_perceptron.py:691: ConvergenceWarning: Stochastic Optimizer: Maximum iterations (10) reached and the optimization hasn't converged yet.\n",
      "  warnings.warn(\n"
     ]
    },
    {
     "name": "stdout",
     "output_type": "stream",
     "text": [
      "[CV] END activation=identity, alpha=0.0001, early_stopping=True, learning_rate=constant, learning_rate_init=0.001, max_iter=10, n_iter_no_change=5, power_t=0.005, solver=adam; total time=  30.8s\n"
     ]
    },
    {
     "name": "stderr",
     "output_type": "stream",
     "text": [
      "/Users/sebastianlopez/miniconda3/envs/maestriamatching/lib/python3.10/site-packages/sklearn/neural_network/_multilayer_perceptron.py:691: ConvergenceWarning: Stochastic Optimizer: Maximum iterations (10) reached and the optimization hasn't converged yet.\n",
      "  warnings.warn(\n"
     ]
    },
    {
     "name": "stdout",
     "output_type": "stream",
     "text": [
      "[CV] END activation=identity, alpha=0.0001, early_stopping=True, learning_rate=constant, learning_rate_init=0.001, max_iter=10, n_iter_no_change=5, power_t=0.005, solver=adam; total time=  30.5s\n"
     ]
    },
    {
     "name": "stderr",
     "output_type": "stream",
     "text": [
      "/Users/sebastianlopez/miniconda3/envs/maestriamatching/lib/python3.10/site-packages/sklearn/neural_network/_multilayer_perceptron.py:691: ConvergenceWarning: Stochastic Optimizer: Maximum iterations (10) reached and the optimization hasn't converged yet.\n",
      "  warnings.warn(\n"
     ]
    },
    {
     "name": "stdout",
     "output_type": "stream",
     "text": [
      "[CV] END activation=identity, alpha=0.0001, early_stopping=True, learning_rate=constant, learning_rate_init=0.001, max_iter=10, n_iter_no_change=5, power_t=0.005, solver=adam; total time=  29.3s\n",
      "[CV] END activation=identity, alpha=0.0001, early_stopping=True, learning_rate=constant, learning_rate_init=0.001, max_iter=20, n_iter_no_change=5, power_t=0.5, solver=adam; total time=  28.5s\n"
     ]
    },
    {
     "name": "stderr",
     "output_type": "stream",
     "text": [
      "/Users/sebastianlopez/miniconda3/envs/maestriamatching/lib/python3.10/site-packages/sklearn/neural_network/_multilayer_perceptron.py:546: ConvergenceWarning: lbfgs failed to converge (status=1):\n",
      "STOP: TOTAL NO. of ITERATIONS REACHED LIMIT.\n",
      "\n",
      "Increase the number of iterations (max_iter) or scale the data as shown in:\n",
      "    https://scikit-learn.org/stable/modules/preprocessing.html\n",
      "  self.n_iter_ = _check_optimize_result(\"lbfgs\", opt_res, self.max_iter)\n"
     ]
    },
    {
     "name": "stdout",
     "output_type": "stream",
     "text": [
      "[CV] END activation=identity, alpha=0.0001, early_stopping=True, learning_rate=constant, learning_rate_init=0.001, max_iter=20, n_iter_no_change=5, power_t=0.5, solver=lbfgs; total time=  46.1s\n"
     ]
    },
    {
     "name": "stderr",
     "output_type": "stream",
     "text": [
      "/Users/sebastianlopez/miniconda3/envs/maestriamatching/lib/python3.10/site-packages/sklearn/neural_network/_multilayer_perceptron.py:546: ConvergenceWarning: lbfgs failed to converge (status=1):\n",
      "STOP: TOTAL NO. of ITERATIONS REACHED LIMIT.\n",
      "\n",
      "Increase the number of iterations (max_iter) or scale the data as shown in:\n",
      "    https://scikit-learn.org/stable/modules/preprocessing.html\n",
      "  self.n_iter_ = _check_optimize_result(\"lbfgs\", opt_res, self.max_iter)\n"
     ]
    },
    {
     "name": "stdout",
     "output_type": "stream",
     "text": [
      "[CV] END activation=identity, alpha=0.0001, early_stopping=True, learning_rate=constant, learning_rate_init=0.001, max_iter=20, n_iter_no_change=5, power_t=0.5, solver=lbfgs; total time=  52.2s\n"
     ]
    },
    {
     "name": "stderr",
     "output_type": "stream",
     "text": [
      "/Users/sebastianlopez/miniconda3/envs/maestriamatching/lib/python3.10/site-packages/sklearn/neural_network/_multilayer_perceptron.py:546: ConvergenceWarning: lbfgs failed to converge (status=1):\n",
      "STOP: TOTAL NO. of ITERATIONS REACHED LIMIT.\n",
      "\n",
      "Increase the number of iterations (max_iter) or scale the data as shown in:\n",
      "    https://scikit-learn.org/stable/modules/preprocessing.html\n",
      "  self.n_iter_ = _check_optimize_result(\"lbfgs\", opt_res, self.max_iter)\n"
     ]
    },
    {
     "name": "stdout",
     "output_type": "stream",
     "text": [
      "[CV] END activation=identity, alpha=0.0001, early_stopping=True, learning_rate=constant, learning_rate_init=0.001, max_iter=20, n_iter_no_change=5, power_t=0.5, solver=lbfgs; total time=  55.9s\n"
     ]
    },
    {
     "name": "stderr",
     "output_type": "stream",
     "text": [
      "/Users/sebastianlopez/miniconda3/envs/maestriamatching/lib/python3.10/site-packages/sklearn/neural_network/_multilayer_perceptron.py:691: ConvergenceWarning: Stochastic Optimizer: Maximum iterations (20) reached and the optimization hasn't converged yet.\n",
      "  warnings.warn(\n"
     ]
    },
    {
     "name": "stdout",
     "output_type": "stream",
     "text": [
      "[CV] END activation=identity, alpha=0.0001, early_stopping=True, learning_rate=constant, learning_rate_init=0.001, max_iter=20, n_iter_no_change=5, power_t=0.5, solver=sgd; total time=  52.3s\n"
     ]
    },
    {
     "name": "stderr",
     "output_type": "stream",
     "text": [
      "/Users/sebastianlopez/miniconda3/envs/maestriamatching/lib/python3.10/site-packages/sklearn/neural_network/_multilayer_perceptron.py:691: ConvergenceWarning: Stochastic Optimizer: Maximum iterations (20) reached and the optimization hasn't converged yet.\n",
      "  warnings.warn(\n"
     ]
    },
    {
     "name": "stdout",
     "output_type": "stream",
     "text": [
      "[CV] END activation=identity, alpha=0.0001, early_stopping=True, learning_rate=constant, learning_rate_init=0.001, max_iter=20, n_iter_no_change=5, power_t=0.5, solver=sgd; total time=  52.2s\n",
      "[CV] END activation=identity, alpha=0.0001, early_stopping=True, learning_rate=constant, learning_rate_init=0.001, max_iter=20, n_iter_no_change=5, power_t=0.5, solver=adam; total time=  45.1s\n"
     ]
    },
    {
     "name": "stderr",
     "output_type": "stream",
     "text": [
      "/Users/sebastianlopez/miniconda3/envs/maestriamatching/lib/python3.10/site-packages/sklearn/neural_network/_multilayer_perceptron.py:691: ConvergenceWarning: Stochastic Optimizer: Maximum iterations (20) reached and the optimization hasn't converged yet.\n",
      "  warnings.warn(\n"
     ]
    },
    {
     "name": "stdout",
     "output_type": "stream",
     "text": [
      "[CV] END activation=identity, alpha=0.0001, early_stopping=True, learning_rate=constant, learning_rate_init=0.001, max_iter=20, n_iter_no_change=5, power_t=0.5, solver=sgd; total time=  52.1s\n",
      "[CV] END activation=identity, alpha=0.0001, early_stopping=True, learning_rate=constant, learning_rate_init=0.001, max_iter=20, n_iter_no_change=5, power_t=0.5, solver=adam; total time=  54.3s\n"
     ]
    },
    {
     "name": "stderr",
     "output_type": "stream",
     "text": [
      "/Users/sebastianlopez/miniconda3/envs/maestriamatching/lib/python3.10/site-packages/sklearn/neural_network/_multilayer_perceptron.py:546: ConvergenceWarning: lbfgs failed to converge (status=1):\n",
      "STOP: TOTAL NO. of ITERATIONS REACHED LIMIT.\n",
      "\n",
      "Increase the number of iterations (max_iter) or scale the data as shown in:\n",
      "    https://scikit-learn.org/stable/modules/preprocessing.html\n",
      "  self.n_iter_ = _check_optimize_result(\"lbfgs\", opt_res, self.max_iter)\n"
     ]
    },
    {
     "name": "stdout",
     "output_type": "stream",
     "text": [
      "[CV] END activation=identity, alpha=0.0001, early_stopping=True, learning_rate=constant, learning_rate_init=0.001, max_iter=20, n_iter_no_change=5, power_t=0.1, solver=lbfgs; total time=  50.2s\n"
     ]
    },
    {
     "name": "stderr",
     "output_type": "stream",
     "text": [
      "/Users/sebastianlopez/miniconda3/envs/maestriamatching/lib/python3.10/site-packages/sklearn/neural_network/_multilayer_perceptron.py:546: ConvergenceWarning: lbfgs failed to converge (status=1):\n",
      "STOP: TOTAL NO. of ITERATIONS REACHED LIMIT.\n",
      "\n",
      "Increase the number of iterations (max_iter) or scale the data as shown in:\n",
      "    https://scikit-learn.org/stable/modules/preprocessing.html\n",
      "  self.n_iter_ = _check_optimize_result(\"lbfgs\", opt_res, self.max_iter)\n"
     ]
    },
    {
     "name": "stdout",
     "output_type": "stream",
     "text": [
      "[CV] END activation=identity, alpha=0.0001, early_stopping=True, learning_rate=constant, learning_rate_init=0.001, max_iter=20, n_iter_no_change=5, power_t=0.1, solver=lbfgs; total time=  48.7s\n"
     ]
    },
    {
     "name": "stderr",
     "output_type": "stream",
     "text": [
      "/Users/sebastianlopez/miniconda3/envs/maestriamatching/lib/python3.10/site-packages/sklearn/neural_network/_multilayer_perceptron.py:546: ConvergenceWarning: lbfgs failed to converge (status=1):\n",
      "STOP: TOTAL NO. of ITERATIONS REACHED LIMIT.\n",
      "\n",
      "Increase the number of iterations (max_iter) or scale the data as shown in:\n",
      "    https://scikit-learn.org/stable/modules/preprocessing.html\n",
      "  self.n_iter_ = _check_optimize_result(\"lbfgs\", opt_res, self.max_iter)\n"
     ]
    },
    {
     "name": "stdout",
     "output_type": "stream",
     "text": [
      "[CV] END activation=identity, alpha=0.0001, early_stopping=True, learning_rate=constant, learning_rate_init=0.001, max_iter=20, n_iter_no_change=5, power_t=0.1, solver=lbfgs; total time=  48.6s\n",
      "[CV] END activation=identity, alpha=0.0001, early_stopping=True, learning_rate=constant, learning_rate_init=0.001, max_iter=20, n_iter_no_change=5, power_t=0.1, solver=adam; total time=  43.3s\n",
      "[CV] END activation=identity, alpha=0.0001, early_stopping=True, learning_rate=constant, learning_rate_init=0.001, max_iter=20, n_iter_no_change=5, power_t=0.1, solver=adam; total time=  43.3s\n",
      "[CV] END activation=identity, alpha=0.0001, early_stopping=True, learning_rate=constant, learning_rate_init=0.001, max_iter=20, n_iter_no_change=5, power_t=0.1, solver=adam; total time=  43.6s\n"
     ]
    },
    {
     "name": "stderr",
     "output_type": "stream",
     "text": [
      "/Users/sebastianlopez/miniconda3/envs/maestriamatching/lib/python3.10/site-packages/sklearn/neural_network/_multilayer_perceptron.py:691: ConvergenceWarning: Stochastic Optimizer: Maximum iterations (20) reached and the optimization hasn't converged yet.\n",
      "  warnings.warn(\n"
     ]
    },
    {
     "name": "stdout",
     "output_type": "stream",
     "text": [
      "[CV] END activation=identity, alpha=0.0001, early_stopping=True, learning_rate=constant, learning_rate_init=0.001, max_iter=20, n_iter_no_change=5, power_t=0.1, solver=sgd; total time=  52.5s\n"
     ]
    },
    {
     "name": "stderr",
     "output_type": "stream",
     "text": [
      "/Users/sebastianlopez/miniconda3/envs/maestriamatching/lib/python3.10/site-packages/sklearn/neural_network/_multilayer_perceptron.py:691: ConvergenceWarning: Stochastic Optimizer: Maximum iterations (20) reached and the optimization hasn't converged yet.\n",
      "  warnings.warn(\n"
     ]
    },
    {
     "name": "stdout",
     "output_type": "stream",
     "text": [
      "[CV] END activation=identity, alpha=0.0001, early_stopping=True, learning_rate=constant, learning_rate_init=0.001, max_iter=20, n_iter_no_change=5, power_t=0.1, solver=sgd; total time=  53.5s\n"
     ]
    },
    {
     "name": "stderr",
     "output_type": "stream",
     "text": [
      "/Users/sebastianlopez/miniconda3/envs/maestriamatching/lib/python3.10/site-packages/sklearn/neural_network/_multilayer_perceptron.py:691: ConvergenceWarning: Stochastic Optimizer: Maximum iterations (20) reached and the optimization hasn't converged yet.\n",
      "  warnings.warn(\n"
     ]
    },
    {
     "name": "stdout",
     "output_type": "stream",
     "text": [
      "[CV] END activation=identity, alpha=0.0001, early_stopping=True, learning_rate=constant, learning_rate_init=0.001, max_iter=20, n_iter_no_change=5, power_t=0.1, solver=sgd; total time=  53.5s\n"
     ]
    },
    {
     "name": "stderr",
     "output_type": "stream",
     "text": [
      "/Users/sebastianlopez/miniconda3/envs/maestriamatching/lib/python3.10/site-packages/sklearn/neural_network/_multilayer_perceptron.py:546: ConvergenceWarning: lbfgs failed to converge (status=1):\n",
      "STOP: TOTAL NO. of ITERATIONS REACHED LIMIT.\n",
      "\n",
      "Increase the number of iterations (max_iter) or scale the data as shown in:\n",
      "    https://scikit-learn.org/stable/modules/preprocessing.html\n",
      "  self.n_iter_ = _check_optimize_result(\"lbfgs\", opt_res, self.max_iter)\n"
     ]
    },
    {
     "name": "stdout",
     "output_type": "stream",
     "text": [
      "[CV] END activation=identity, alpha=0.0001, early_stopping=True, learning_rate=constant, learning_rate_init=0.001, max_iter=20, n_iter_no_change=5, power_t=0.9, solver=lbfgs; total time=  50.4s\n"
     ]
    },
    {
     "name": "stderr",
     "output_type": "stream",
     "text": [
      "/Users/sebastianlopez/miniconda3/envs/maestriamatching/lib/python3.10/site-packages/sklearn/neural_network/_multilayer_perceptron.py:546: ConvergenceWarning: lbfgs failed to converge (status=1):\n",
      "STOP: TOTAL NO. of ITERATIONS REACHED LIMIT.\n",
      "\n",
      "Increase the number of iterations (max_iter) or scale the data as shown in:\n",
      "    https://scikit-learn.org/stable/modules/preprocessing.html\n",
      "  self.n_iter_ = _check_optimize_result(\"lbfgs\", opt_res, self.max_iter)\n"
     ]
    },
    {
     "name": "stdout",
     "output_type": "stream",
     "text": [
      "[CV] END activation=identity, alpha=0.0001, early_stopping=True, learning_rate=constant, learning_rate_init=0.001, max_iter=20, n_iter_no_change=5, power_t=0.9, solver=lbfgs; total time=  48.6s\n"
     ]
    },
    {
     "name": "stderr",
     "output_type": "stream",
     "text": [
      "/Users/sebastianlopez/miniconda3/envs/maestriamatching/lib/python3.10/site-packages/sklearn/neural_network/_multilayer_perceptron.py:546: ConvergenceWarning: lbfgs failed to converge (status=1):\n",
      "STOP: TOTAL NO. of ITERATIONS REACHED LIMIT.\n",
      "\n",
      "Increase the number of iterations (max_iter) or scale the data as shown in:\n",
      "    https://scikit-learn.org/stable/modules/preprocessing.html\n",
      "  self.n_iter_ = _check_optimize_result(\"lbfgs\", opt_res, self.max_iter)\n"
     ]
    },
    {
     "name": "stdout",
     "output_type": "stream",
     "text": [
      "[CV] END activation=identity, alpha=0.0001, early_stopping=True, learning_rate=constant, learning_rate_init=0.001, max_iter=20, n_iter_no_change=5, power_t=0.9, solver=lbfgs; total time=  57.2s\n"
     ]
    },
    {
     "name": "stderr",
     "output_type": "stream",
     "text": [
      "/Users/sebastianlopez/miniconda3/envs/maestriamatching/lib/python3.10/site-packages/sklearn/neural_network/_multilayer_perceptron.py:691: ConvergenceWarning: Stochastic Optimizer: Maximum iterations (20) reached and the optimization hasn't converged yet.\n",
      "  warnings.warn(\n"
     ]
    },
    {
     "name": "stdout",
     "output_type": "stream",
     "text": [
      "[CV] END activation=identity, alpha=0.0001, early_stopping=True, learning_rate=constant, learning_rate_init=0.001, max_iter=20, n_iter_no_change=5, power_t=0.9, solver=sgd; total time=  53.5s\n",
      "[CV] END activation=identity, alpha=0.0001, early_stopping=True, learning_rate=constant, learning_rate_init=0.001, max_iter=20, n_iter_no_change=5, power_t=0.9, solver=adam; total time=  35.0s\n",
      "[CV] END activation=identity, alpha=0.0001, early_stopping=True, learning_rate=constant, learning_rate_init=0.001, max_iter=20, n_iter_no_change=5, power_t=0.9, solver=adam; total time=  35.5s\n"
     ]
    },
    {
     "name": "stderr",
     "output_type": "stream",
     "text": [
      "/Users/sebastianlopez/miniconda3/envs/maestriamatching/lib/python3.10/site-packages/sklearn/neural_network/_multilayer_perceptron.py:691: ConvergenceWarning: Stochastic Optimizer: Maximum iterations (20) reached and the optimization hasn't converged yet.\n",
      "  warnings.warn(\n"
     ]
    },
    {
     "name": "stdout",
     "output_type": "stream",
     "text": [
      "[CV] END activation=identity, alpha=0.0001, early_stopping=True, learning_rate=constant, learning_rate_init=0.001, max_iter=20, n_iter_no_change=5, power_t=0.9, solver=sgd; total time=  53.4s\n"
     ]
    },
    {
     "name": "stderr",
     "output_type": "stream",
     "text": [
      "/Users/sebastianlopez/miniconda3/envs/maestriamatching/lib/python3.10/site-packages/sklearn/neural_network/_multilayer_perceptron.py:691: ConvergenceWarning: Stochastic Optimizer: Maximum iterations (20) reached and the optimization hasn't converged yet.\n",
      "  warnings.warn(\n"
     ]
    },
    {
     "name": "stdout",
     "output_type": "stream",
     "text": [
      "[CV] END activation=identity, alpha=0.0001, early_stopping=True, learning_rate=constant, learning_rate_init=0.001, max_iter=20, n_iter_no_change=5, power_t=0.9, solver=sgd; total time=  53.4s\n"
     ]
    },
    {
     "name": "stderr",
     "output_type": "stream",
     "text": [
      "/Users/sebastianlopez/miniconda3/envs/maestriamatching/lib/python3.10/site-packages/sklearn/neural_network/_multilayer_perceptron.py:546: ConvergenceWarning: lbfgs failed to converge (status=1):\n",
      "STOP: TOTAL NO. of ITERATIONS REACHED LIMIT.\n",
      "\n",
      "Increase the number of iterations (max_iter) or scale the data as shown in:\n",
      "    https://scikit-learn.org/stable/modules/preprocessing.html\n",
      "  self.n_iter_ = _check_optimize_result(\"lbfgs\", opt_res, self.max_iter)\n",
      "/Users/sebastianlopez/miniconda3/envs/maestriamatching/lib/python3.10/site-packages/sklearn/neural_network/_multilayer_perceptron.py:546: ConvergenceWarning: lbfgs failed to converge (status=1):\n",
      "STOP: TOTAL NO. of ITERATIONS REACHED LIMIT.\n",
      "\n",
      "Increase the number of iterations (max_iter) or scale the data as shown in:\n",
      "    https://scikit-learn.org/stable/modules/preprocessing.html\n",
      "  self.n_iter_ = _check_optimize_result(\"lbfgs\", opt_res, self.max_iter)\n"
     ]
    },
    {
     "name": "stdout",
     "output_type": "stream",
     "text": [
      "[CV] END activation=identity, alpha=0.0001, early_stopping=True, learning_rate=constant, learning_rate_init=0.001, max_iter=20, n_iter_no_change=5, power_t=0.001, solver=lbfgs; total time=  48.4s\n",
      "[CV] END activation=identity, alpha=0.0001, early_stopping=True, learning_rate=constant, learning_rate_init=0.001, max_iter=20, n_iter_no_change=5, power_t=0.001, solver=lbfgs; total time=  46.9s\n"
     ]
    },
    {
     "name": "stderr",
     "output_type": "stream",
     "text": [
      "/Users/sebastianlopez/miniconda3/envs/maestriamatching/lib/python3.10/site-packages/sklearn/neural_network/_multilayer_perceptron.py:691: ConvergenceWarning: Stochastic Optimizer: Maximum iterations (20) reached and the optimization hasn't converged yet.\n",
      "  warnings.warn(\n"
     ]
    },
    {
     "name": "stdout",
     "output_type": "stream",
     "text": [
      "[CV] END activation=identity, alpha=0.0001, early_stopping=True, learning_rate=constant, learning_rate_init=0.001, max_iter=20, n_iter_no_change=5, power_t=0.9, solver=adam; total time=  57.5s\n"
     ]
    },
    {
     "name": "stderr",
     "output_type": "stream",
     "text": [
      "/Users/sebastianlopez/miniconda3/envs/maestriamatching/lib/python3.10/site-packages/sklearn/neural_network/_multilayer_perceptron.py:546: ConvergenceWarning: lbfgs failed to converge (status=1):\n",
      "STOP: TOTAL NO. of ITERATIONS REACHED LIMIT.\n",
      "\n",
      "Increase the number of iterations (max_iter) or scale the data as shown in:\n",
      "    https://scikit-learn.org/stable/modules/preprocessing.html\n",
      "  self.n_iter_ = _check_optimize_result(\"lbfgs\", opt_res, self.max_iter)\n"
     ]
    },
    {
     "name": "stdout",
     "output_type": "stream",
     "text": [
      "[CV] END activation=identity, alpha=0.0001, early_stopping=True, learning_rate=constant, learning_rate_init=0.001, max_iter=20, n_iter_no_change=5, power_t=0.001, solver=lbfgs; total time=  47.9s\n"
     ]
    },
    {
     "name": "stderr",
     "output_type": "stream",
     "text": [
      "/Users/sebastianlopez/miniconda3/envs/maestriamatching/lib/python3.10/site-packages/sklearn/neural_network/_multilayer_perceptron.py:691: ConvergenceWarning: Stochastic Optimizer: Maximum iterations (20) reached and the optimization hasn't converged yet.\n",
      "  warnings.warn(\n"
     ]
    },
    {
     "name": "stdout",
     "output_type": "stream",
     "text": [
      "[CV] END activation=identity, alpha=0.0001, early_stopping=True, learning_rate=constant, learning_rate_init=0.001, max_iter=20, n_iter_no_change=5, power_t=0.001, solver=sgd; total time=  53.3s\n"
     ]
    },
    {
     "name": "stderr",
     "output_type": "stream",
     "text": [
      "/Users/sebastianlopez/miniconda3/envs/maestriamatching/lib/python3.10/site-packages/sklearn/neural_network/_multilayer_perceptron.py:691: ConvergenceWarning: Stochastic Optimizer: Maximum iterations (20) reached and the optimization hasn't converged yet.\n",
      "  warnings.warn(\n"
     ]
    },
    {
     "name": "stdout",
     "output_type": "stream",
     "text": [
      "[CV] END activation=identity, alpha=0.0001, early_stopping=True, learning_rate=constant, learning_rate_init=0.001, max_iter=20, n_iter_no_change=5, power_t=0.001, solver=sgd; total time=  53.4s\n"
     ]
    },
    {
     "name": "stderr",
     "output_type": "stream",
     "text": [
      "/Users/sebastianlopez/miniconda3/envs/maestriamatching/lib/python3.10/site-packages/sklearn/neural_network/_multilayer_perceptron.py:691: ConvergenceWarning: Stochastic Optimizer: Maximum iterations (20) reached and the optimization hasn't converged yet.\n",
      "  warnings.warn(\n"
     ]
    },
    {
     "name": "stdout",
     "output_type": "stream",
     "text": [
      "[CV] END activation=identity, alpha=0.0001, early_stopping=True, learning_rate=constant, learning_rate_init=0.001, max_iter=20, n_iter_no_change=5, power_t=0.001, solver=sgd; total time=  52.7s\n",
      "[CV] END activation=identity, alpha=0.0001, early_stopping=True, learning_rate=constant, learning_rate_init=0.001, max_iter=20, n_iter_no_change=5, power_t=0.001, solver=adam; total time=  49.6s\n",
      "[CV] END activation=identity, alpha=0.0001, early_stopping=True, learning_rate=constant, learning_rate_init=0.001, max_iter=20, n_iter_no_change=5, power_t=0.001, solver=adam; total time=  51.6s\n"
     ]
    },
    {
     "name": "stderr",
     "output_type": "stream",
     "text": [
      "/Users/sebastianlopez/miniconda3/envs/maestriamatching/lib/python3.10/site-packages/sklearn/neural_network/_multilayer_perceptron.py:691: ConvergenceWarning: Stochastic Optimizer: Maximum iterations (20) reached and the optimization hasn't converged yet.\n",
      "  warnings.warn(\n",
      "/Users/sebastianlopez/miniconda3/envs/maestriamatching/lib/python3.10/site-packages/sklearn/neural_network/_multilayer_perceptron.py:546: ConvergenceWarning: lbfgs failed to converge (status=1):\n",
      "STOP: TOTAL NO. of ITERATIONS REACHED LIMIT.\n",
      "\n",
      "Increase the number of iterations (max_iter) or scale the data as shown in:\n",
      "    https://scikit-learn.org/stable/modules/preprocessing.html\n",
      "  self.n_iter_ = _check_optimize_result(\"lbfgs\", opt_res, self.max_iter)\n"
     ]
    },
    {
     "name": "stdout",
     "output_type": "stream",
     "text": [
      "[CV] END activation=identity, alpha=0.0001, early_stopping=True, learning_rate=constant, learning_rate_init=0.001, max_iter=20, n_iter_no_change=5, power_t=0.001, solver=adam; total time=  57.3s\n",
      "[CV] END activation=identity, alpha=0.0001, early_stopping=True, learning_rate=constant, learning_rate_init=0.001, max_iter=20, n_iter_no_change=5, power_t=0.005, solver=lbfgs; total time=  48.4s\n"
     ]
    },
    {
     "name": "stderr",
     "output_type": "stream",
     "text": [
      "/Users/sebastianlopez/miniconda3/envs/maestriamatching/lib/python3.10/site-packages/sklearn/neural_network/_multilayer_perceptron.py:546: ConvergenceWarning: lbfgs failed to converge (status=1):\n",
      "STOP: TOTAL NO. of ITERATIONS REACHED LIMIT.\n",
      "\n",
      "Increase the number of iterations (max_iter) or scale the data as shown in:\n",
      "    https://scikit-learn.org/stable/modules/preprocessing.html\n",
      "  self.n_iter_ = _check_optimize_result(\"lbfgs\", opt_res, self.max_iter)\n"
     ]
    },
    {
     "name": "stdout",
     "output_type": "stream",
     "text": [
      "[CV] END activation=identity, alpha=0.0001, early_stopping=True, learning_rate=constant, learning_rate_init=0.001, max_iter=20, n_iter_no_change=5, power_t=0.005, solver=lbfgs; total time=  47.5s\n"
     ]
    },
    {
     "name": "stderr",
     "output_type": "stream",
     "text": [
      "/Users/sebastianlopez/miniconda3/envs/maestriamatching/lib/python3.10/site-packages/sklearn/neural_network/_multilayer_perceptron.py:691: ConvergenceWarning: Stochastic Optimizer: Maximum iterations (20) reached and the optimization hasn't converged yet.\n",
      "  warnings.warn(\n"
     ]
    },
    {
     "name": "stdout",
     "output_type": "stream",
     "text": [
      "[CV] END activation=identity, alpha=0.0001, early_stopping=True, learning_rate=constant, learning_rate_init=0.001, max_iter=20, n_iter_no_change=5, power_t=0.005, solver=sgd; total time=  54.1s\n"
     ]
    },
    {
     "name": "stderr",
     "output_type": "stream",
     "text": [
      "/Users/sebastianlopez/miniconda3/envs/maestriamatching/lib/python3.10/site-packages/sklearn/neural_network/_multilayer_perceptron.py:691: ConvergenceWarning: Stochastic Optimizer: Maximum iterations (20) reached and the optimization hasn't converged yet.\n",
      "  warnings.warn(\n"
     ]
    },
    {
     "name": "stdout",
     "output_type": "stream",
     "text": [
      "[CV] END activation=identity, alpha=0.0001, early_stopping=True, learning_rate=constant, learning_rate_init=0.001, max_iter=20, n_iter_no_change=5, power_t=0.005, solver=sgd; total time=  54.2s\n"
     ]
    },
    {
     "name": "stderr",
     "output_type": "stream",
     "text": [
      "/Users/sebastianlopez/miniconda3/envs/maestriamatching/lib/python3.10/site-packages/sklearn/neural_network/_multilayer_perceptron.py:546: ConvergenceWarning: lbfgs failed to converge (status=1):\n",
      "STOP: TOTAL NO. of ITERATIONS REACHED LIMIT.\n",
      "\n",
      "Increase the number of iterations (max_iter) or scale the data as shown in:\n",
      "    https://scikit-learn.org/stable/modules/preprocessing.html\n",
      "  self.n_iter_ = _check_optimize_result(\"lbfgs\", opt_res, self.max_iter)\n"
     ]
    },
    {
     "name": "stdout",
     "output_type": "stream",
     "text": [
      "[CV] END activation=identity, alpha=0.0001, early_stopping=True, learning_rate=constant, learning_rate_init=0.001, max_iter=20, n_iter_no_change=5, power_t=0.005, solver=lbfgs; total time=  59.0s\n"
     ]
    },
    {
     "name": "stderr",
     "output_type": "stream",
     "text": [
      "/Users/sebastianlopez/miniconda3/envs/maestriamatching/lib/python3.10/site-packages/sklearn/neural_network/_multilayer_perceptron.py:691: ConvergenceWarning: Stochastic Optimizer: Maximum iterations (20) reached and the optimization hasn't converged yet.\n",
      "  warnings.warn(\n"
     ]
    },
    {
     "name": "stdout",
     "output_type": "stream",
     "text": [
      "[CV] END activation=identity, alpha=0.0001, early_stopping=True, learning_rate=constant, learning_rate_init=0.001, max_iter=20, n_iter_no_change=5, power_t=0.005, solver=sgd; total time=  54.9s\n",
      "[CV] END activation=identity, alpha=0.0001, early_stopping=True, learning_rate=constant, learning_rate_init=0.001, max_iter=20, n_iter_no_change=5, power_t=0.005, solver=adam; total time=  47.3s\n",
      "[CV] END activation=identity, alpha=0.0001, early_stopping=True, learning_rate=constant, learning_rate_init=0.001, max_iter=20, n_iter_no_change=5, power_t=0.005, solver=adam; total time=  58.1s\n"
     ]
    },
    {
     "name": "stderr",
     "output_type": "stream",
     "text": [
      "/Users/sebastianlopez/miniconda3/envs/maestriamatching/lib/python3.10/site-packages/sklearn/neural_network/_multilayer_perceptron.py:691: ConvergenceWarning: Stochastic Optimizer: Maximum iterations (20) reached and the optimization hasn't converged yet.\n",
      "  warnings.warn(\n"
     ]
    },
    {
     "name": "stdout",
     "output_type": "stream",
     "text": [
      "[CV] END activation=identity, alpha=0.0001, early_stopping=True, learning_rate=constant, learning_rate_init=0.001, max_iter=20, n_iter_no_change=5, power_t=0.005, solver=adam; total time= 1.0min\n",
      "[CV] END activation=identity, alpha=0.0001, early_stopping=True, learning_rate=constant, learning_rate_init=0.001, max_iter=50, n_iter_no_change=5, power_t=0.5, solver=adam; total time=  34.0s\n",
      "[CV] END activation=identity, alpha=0.0001, early_stopping=True, learning_rate=constant, learning_rate_init=0.001, max_iter=50, n_iter_no_change=5, power_t=0.5, solver=adam; total time=  40.6s\n",
      "[CV] END activation=identity, alpha=0.0001, early_stopping=True, learning_rate=constant, learning_rate_init=0.001, max_iter=50, n_iter_no_change=5, power_t=0.5, solver=sgd; total time= 1.3min\n",
      "[CV] END activation=identity, alpha=0.0001, early_stopping=True, learning_rate=constant, learning_rate_init=0.001, max_iter=50, n_iter_no_change=5, power_t=0.5, solver=adam; total time= 1.1min\n"
     ]
    },
    {
     "name": "stderr",
     "output_type": "stream",
     "text": [
      "/Users/sebastianlopez/miniconda3/envs/maestriamatching/lib/python3.10/site-packages/sklearn/neural_network/_multilayer_perceptron.py:546: ConvergenceWarning: lbfgs failed to converge (status=1):\n",
      "STOP: TOTAL NO. of ITERATIONS REACHED LIMIT.\n",
      "\n",
      "Increase the number of iterations (max_iter) or scale the data as shown in:\n",
      "    https://scikit-learn.org/stable/modules/preprocessing.html\n",
      "  self.n_iter_ = _check_optimize_result(\"lbfgs\", opt_res, self.max_iter)\n"
     ]
    },
    {
     "name": "stdout",
     "output_type": "stream",
     "text": [
      "[CV] END activation=identity, alpha=0.0001, early_stopping=True, learning_rate=constant, learning_rate_init=0.001, max_iter=50, n_iter_no_change=5, power_t=0.5, solver=lbfgs; total time= 2.0min\n"
     ]
    },
    {
     "name": "stderr",
     "output_type": "stream",
     "text": [
      "/Users/sebastianlopez/miniconda3/envs/maestriamatching/lib/python3.10/site-packages/sklearn/neural_network/_multilayer_perceptron.py:546: ConvergenceWarning: lbfgs failed to converge (status=1):\n",
      "STOP: TOTAL NO. of ITERATIONS REACHED LIMIT.\n",
      "\n",
      "Increase the number of iterations (max_iter) or scale the data as shown in:\n",
      "    https://scikit-learn.org/stable/modules/preprocessing.html\n",
      "  self.n_iter_ = _check_optimize_result(\"lbfgs\", opt_res, self.max_iter)\n"
     ]
    },
    {
     "name": "stdout",
     "output_type": "stream",
     "text": [
      "[CV] END activation=identity, alpha=0.0001, early_stopping=True, learning_rate=constant, learning_rate_init=0.001, max_iter=50, n_iter_no_change=5, power_t=0.5, solver=lbfgs; total time= 1.9min\n"
     ]
    },
    {
     "name": "stderr",
     "output_type": "stream",
     "text": [
      "/Users/sebastianlopez/miniconda3/envs/maestriamatching/lib/python3.10/site-packages/sklearn/neural_network/_multilayer_perceptron.py:546: ConvergenceWarning: lbfgs failed to converge (status=1):\n",
      "STOP: TOTAL NO. of ITERATIONS REACHED LIMIT.\n",
      "\n",
      "Increase the number of iterations (max_iter) or scale the data as shown in:\n",
      "    https://scikit-learn.org/stable/modules/preprocessing.html\n",
      "  self.n_iter_ = _check_optimize_result(\"lbfgs\", opt_res, self.max_iter)\n"
     ]
    },
    {
     "name": "stdout",
     "output_type": "stream",
     "text": [
      "[CV] END activation=identity, alpha=0.0001, early_stopping=True, learning_rate=constant, learning_rate_init=0.001, max_iter=50, n_iter_no_change=5, power_t=0.5, solver=lbfgs; total time= 2.0min\n",
      "[CV] END activation=identity, alpha=0.0001, early_stopping=True, learning_rate=constant, learning_rate_init=0.001, max_iter=50, n_iter_no_change=5, power_t=0.5, solver=sgd; total time= 1.8min\n",
      "[CV] END activation=identity, alpha=0.0001, early_stopping=True, learning_rate=constant, learning_rate_init=0.001, max_iter=50, n_iter_no_change=5, power_t=0.5, solver=sgd; total time= 1.9min\n"
     ]
    },
    {
     "name": "stderr",
     "output_type": "stream",
     "text": [
      "/Users/sebastianlopez/miniconda3/envs/maestriamatching/lib/python3.10/site-packages/sklearn/neural_network/_multilayer_perceptron.py:546: ConvergenceWarning: lbfgs failed to converge (status=1):\n",
      "STOP: TOTAL NO. of ITERATIONS REACHED LIMIT.\n",
      "\n",
      "Increase the number of iterations (max_iter) or scale the data as shown in:\n",
      "    https://scikit-learn.org/stable/modules/preprocessing.html\n",
      "  self.n_iter_ = _check_optimize_result(\"lbfgs\", opt_res, self.max_iter)\n"
     ]
    },
    {
     "name": "stdout",
     "output_type": "stream",
     "text": [
      "[CV] END activation=identity, alpha=0.0001, early_stopping=True, learning_rate=constant, learning_rate_init=0.001, max_iter=50, n_iter_no_change=5, power_t=0.1, solver=sgd; total time= 1.2min\n",
      "[CV] END activation=identity, alpha=0.0001, early_stopping=True, learning_rate=constant, learning_rate_init=0.001, max_iter=50, n_iter_no_change=5, power_t=0.1, solver=lbfgs; total time= 1.9min\n",
      "[CV] END activation=identity, alpha=0.0001, early_stopping=True, learning_rate=constant, learning_rate_init=0.001, max_iter=50, n_iter_no_change=5, power_t=0.1, solver=adam; total time=  48.3s\n",
      "[CV] END activation=identity, alpha=0.0001, early_stopping=True, learning_rate=constant, learning_rate_init=0.001, max_iter=50, n_iter_no_change=5, power_t=0.1, solver=adam; total time=  40.6s\n"
     ]
    },
    {
     "name": "stderr",
     "output_type": "stream",
     "text": [
      "/Users/sebastianlopez/miniconda3/envs/maestriamatching/lib/python3.10/site-packages/sklearn/neural_network/_multilayer_perceptron.py:546: ConvergenceWarning: lbfgs failed to converge (status=1):\n",
      "STOP: TOTAL NO. of ITERATIONS REACHED LIMIT.\n",
      "\n",
      "Increase the number of iterations (max_iter) or scale the data as shown in:\n",
      "    https://scikit-learn.org/stable/modules/preprocessing.html\n",
      "  self.n_iter_ = _check_optimize_result(\"lbfgs\", opt_res, self.max_iter)\n"
     ]
    },
    {
     "name": "stdout",
     "output_type": "stream",
     "text": [
      "[CV] END activation=identity, alpha=0.0001, early_stopping=True, learning_rate=constant, learning_rate_init=0.001, max_iter=50, n_iter_no_change=5, power_t=0.1, solver=lbfgs; total time= 1.9min\n",
      "[CV] END activation=identity, alpha=0.0001, early_stopping=True, learning_rate=constant, learning_rate_init=0.001, max_iter=50, n_iter_no_change=5, power_t=0.1, solver=adam; total time=  43.9s\n"
     ]
    },
    {
     "name": "stderr",
     "output_type": "stream",
     "text": [
      "/Users/sebastianlopez/miniconda3/envs/maestriamatching/lib/python3.10/site-packages/sklearn/neural_network/_multilayer_perceptron.py:546: ConvergenceWarning: lbfgs failed to converge (status=1):\n",
      "STOP: TOTAL NO. of ITERATIONS REACHED LIMIT.\n",
      "\n",
      "Increase the number of iterations (max_iter) or scale the data as shown in:\n",
      "    https://scikit-learn.org/stable/modules/preprocessing.html\n",
      "  self.n_iter_ = _check_optimize_result(\"lbfgs\", opt_res, self.max_iter)\n"
     ]
    },
    {
     "name": "stdout",
     "output_type": "stream",
     "text": [
      "[CV] END activation=identity, alpha=0.0001, early_stopping=True, learning_rate=constant, learning_rate_init=0.001, max_iter=50, n_iter_no_change=5, power_t=0.1, solver=lbfgs; total time= 1.9min\n",
      "[CV] END activation=identity, alpha=0.0001, early_stopping=True, learning_rate=constant, learning_rate_init=0.001, max_iter=50, n_iter_no_change=5, power_t=0.1, solver=sgd; total time= 1.6min\n"
     ]
    },
    {
     "name": "stderr",
     "output_type": "stream",
     "text": [
      "/Users/sebastianlopez/miniconda3/envs/maestriamatching/lib/python3.10/site-packages/sklearn/neural_network/_multilayer_perceptron.py:691: ConvergenceWarning: Stochastic Optimizer: Maximum iterations (50) reached and the optimization hasn't converged yet.\n",
      "  warnings.warn(\n"
     ]
    },
    {
     "name": "stdout",
     "output_type": "stream",
     "text": [
      "[CV] END activation=identity, alpha=0.0001, early_stopping=True, learning_rate=constant, learning_rate_init=0.001, max_iter=50, n_iter_no_change=5, power_t=0.1, solver=sgd; total time= 2.2min\n",
      "[CV] END activation=identity, alpha=0.0001, early_stopping=True, learning_rate=constant, learning_rate_init=0.001, max_iter=50, n_iter_no_change=5, power_t=0.9, solver=adam; total time=  31.4s\n",
      "[CV] END activation=identity, alpha=0.0001, early_stopping=True, learning_rate=constant, learning_rate_init=0.001, max_iter=50, n_iter_no_change=5, power_t=0.9, solver=adam; total time=  50.0s\n",
      "[CV] END activation=identity, alpha=0.0001, early_stopping=True, learning_rate=constant, learning_rate_init=0.001, max_iter=50, n_iter_no_change=5, power_t=0.9, solver=adam; total time= 1.2min\n"
     ]
    },
    {
     "name": "stderr",
     "output_type": "stream",
     "text": [
      "/Users/sebastianlopez/miniconda3/envs/maestriamatching/lib/python3.10/site-packages/sklearn/neural_network/_multilayer_perceptron.py:546: ConvergenceWarning: lbfgs failed to converge (status=1):\n",
      "STOP: TOTAL NO. of ITERATIONS REACHED LIMIT.\n",
      "\n",
      "Increase the number of iterations (max_iter) or scale the data as shown in:\n",
      "    https://scikit-learn.org/stable/modules/preprocessing.html\n",
      "  self.n_iter_ = _check_optimize_result(\"lbfgs\", opt_res, self.max_iter)\n"
     ]
    },
    {
     "name": "stdout",
     "output_type": "stream",
     "text": [
      "[CV] END activation=identity, alpha=0.0001, early_stopping=True, learning_rate=constant, learning_rate_init=0.001, max_iter=50, n_iter_no_change=5, power_t=0.9, solver=lbfgs; total time= 2.0min\n"
     ]
    },
    {
     "name": "stderr",
     "output_type": "stream",
     "text": [
      "/Users/sebastianlopez/miniconda3/envs/maestriamatching/lib/python3.10/site-packages/sklearn/neural_network/_multilayer_perceptron.py:546: ConvergenceWarning: lbfgs failed to converge (status=1):\n",
      "STOP: TOTAL NO. of ITERATIONS REACHED LIMIT.\n",
      "\n",
      "Increase the number of iterations (max_iter) or scale the data as shown in:\n",
      "    https://scikit-learn.org/stable/modules/preprocessing.html\n",
      "  self.n_iter_ = _check_optimize_result(\"lbfgs\", opt_res, self.max_iter)\n"
     ]
    },
    {
     "name": "stdout",
     "output_type": "stream",
     "text": [
      "[CV] END activation=identity, alpha=0.0001, early_stopping=True, learning_rate=constant, learning_rate_init=0.001, max_iter=50, n_iter_no_change=5, power_t=0.9, solver=lbfgs; total time= 2.1min\n"
     ]
    },
    {
     "name": "stderr",
     "output_type": "stream",
     "text": [
      "/Users/sebastianlopez/miniconda3/envs/maestriamatching/lib/python3.10/site-packages/sklearn/neural_network/_multilayer_perceptron.py:546: ConvergenceWarning: lbfgs failed to converge (status=1):\n",
      "STOP: TOTAL NO. of ITERATIONS REACHED LIMIT.\n",
      "\n",
      "Increase the number of iterations (max_iter) or scale the data as shown in:\n",
      "    https://scikit-learn.org/stable/modules/preprocessing.html\n",
      "  self.n_iter_ = _check_optimize_result(\"lbfgs\", opt_res, self.max_iter)\n"
     ]
    },
    {
     "name": "stdout",
     "output_type": "stream",
     "text": [
      "[CV] END activation=identity, alpha=0.0001, early_stopping=True, learning_rate=constant, learning_rate_init=0.001, max_iter=50, n_iter_no_change=5, power_t=0.9, solver=lbfgs; total time= 2.1min\n",
      "[CV] END activation=identity, alpha=0.0001, early_stopping=True, learning_rate=constant, learning_rate_init=0.001, max_iter=50, n_iter_no_change=5, power_t=0.9, solver=sgd; total time= 2.1min\n"
     ]
    },
    {
     "name": "stderr",
     "output_type": "stream",
     "text": [
      "/Users/sebastianlopez/miniconda3/envs/maestriamatching/lib/python3.10/site-packages/sklearn/neural_network/_multilayer_perceptron.py:691: ConvergenceWarning: Stochastic Optimizer: Maximum iterations (50) reached and the optimization hasn't converged yet.\n",
      "  warnings.warn(\n"
     ]
    },
    {
     "name": "stdout",
     "output_type": "stream",
     "text": [
      "[CV] END activation=identity, alpha=0.0001, early_stopping=True, learning_rate=constant, learning_rate_init=0.001, max_iter=50, n_iter_no_change=5, power_t=0.9, solver=sgd; total time= 2.3min\n"
     ]
    },
    {
     "name": "stderr",
     "output_type": "stream",
     "text": [
      "/Users/sebastianlopez/miniconda3/envs/maestriamatching/lib/python3.10/site-packages/sklearn/neural_network/_multilayer_perceptron.py:691: ConvergenceWarning: Stochastic Optimizer: Maximum iterations (50) reached and the optimization hasn't converged yet.\n",
      "  warnings.warn(\n"
     ]
    },
    {
     "name": "stdout",
     "output_type": "stream",
     "text": [
      "[CV] END activation=identity, alpha=0.0001, early_stopping=True, learning_rate=constant, learning_rate_init=0.001, max_iter=50, n_iter_no_change=5, power_t=0.9, solver=sgd; total time= 2.3min\n",
      "[CV] END activation=identity, alpha=0.0001, early_stopping=True, learning_rate=constant, learning_rate_init=0.001, max_iter=50, n_iter_no_change=5, power_t=0.001, solver=adam; total time=  40.0s\n"
     ]
    },
    {
     "name": "stderr",
     "output_type": "stream",
     "text": [
      "/Users/sebastianlopez/miniconda3/envs/maestriamatching/lib/python3.10/site-packages/sklearn/neural_network/_multilayer_perceptron.py:546: ConvergenceWarning: lbfgs failed to converge (status=1):\n",
      "STOP: TOTAL NO. of ITERATIONS REACHED LIMIT.\n",
      "\n",
      "Increase the number of iterations (max_iter) or scale the data as shown in:\n",
      "    https://scikit-learn.org/stable/modules/preprocessing.html\n",
      "  self.n_iter_ = _check_optimize_result(\"lbfgs\", opt_res, self.max_iter)\n"
     ]
    },
    {
     "name": "stdout",
     "output_type": "stream",
     "text": [
      "[CV] END activation=identity, alpha=0.0001, early_stopping=True, learning_rate=constant, learning_rate_init=0.001, max_iter=50, n_iter_no_change=5, power_t=0.001, solver=lbfgs; total time= 2.1min\n"
     ]
    },
    {
     "name": "stderr",
     "output_type": "stream",
     "text": [
      "/Users/sebastianlopez/miniconda3/envs/maestriamatching/lib/python3.10/site-packages/sklearn/neural_network/_multilayer_perceptron.py:546: ConvergenceWarning: lbfgs failed to converge (status=1):\n",
      "STOP: TOTAL NO. of ITERATIONS REACHED LIMIT.\n",
      "\n",
      "Increase the number of iterations (max_iter) or scale the data as shown in:\n",
      "    https://scikit-learn.org/stable/modules/preprocessing.html\n",
      "  self.n_iter_ = _check_optimize_result(\"lbfgs\", opt_res, self.max_iter)\n"
     ]
    },
    {
     "name": "stdout",
     "output_type": "stream",
     "text": [
      "[CV] END activation=identity, alpha=0.0001, early_stopping=True, learning_rate=constant, learning_rate_init=0.001, max_iter=50, n_iter_no_change=5, power_t=0.001, solver=lbfgs; total time= 2.2min\n",
      "[CV] END activation=identity, alpha=0.0001, early_stopping=True, learning_rate=constant, learning_rate_init=0.001, max_iter=50, n_iter_no_change=5, power_t=0.001, solver=sgd; total time= 1.7min\n",
      "[CV] END activation=identity, alpha=0.0001, early_stopping=True, learning_rate=constant, learning_rate_init=0.001, max_iter=50, n_iter_no_change=5, power_t=0.001, solver=adam; total time=  38.6s\n",
      "[CV] END activation=identity, alpha=0.0001, early_stopping=True, learning_rate=constant, learning_rate_init=0.001, max_iter=50, n_iter_no_change=5, power_t=0.001, solver=sgd; total time= 1.5min\n"
     ]
    },
    {
     "name": "stderr",
     "output_type": "stream",
     "text": [
      "/Users/sebastianlopez/miniconda3/envs/maestriamatching/lib/python3.10/site-packages/sklearn/neural_network/_multilayer_perceptron.py:546: ConvergenceWarning: lbfgs failed to converge (status=1):\n",
      "STOP: TOTAL NO. of ITERATIONS REACHED LIMIT.\n",
      "\n",
      "Increase the number of iterations (max_iter) or scale the data as shown in:\n",
      "    https://scikit-learn.org/stable/modules/preprocessing.html\n",
      "  self.n_iter_ = _check_optimize_result(\"lbfgs\", opt_res, self.max_iter)\n"
     ]
    },
    {
     "name": "stdout",
     "output_type": "stream",
     "text": [
      "[CV] END activation=identity, alpha=0.0001, early_stopping=True, learning_rate=constant, learning_rate_init=0.001, max_iter=50, n_iter_no_change=5, power_t=0.001, solver=lbfgs; total time= 2.1min\n",
      "[CV] END activation=identity, alpha=0.0001, early_stopping=True, learning_rate=constant, learning_rate_init=0.001, max_iter=50, n_iter_no_change=5, power_t=0.001, solver=adam; total time=  47.9s\n",
      "[CV] END activation=identity, alpha=0.0001, early_stopping=True, learning_rate=constant, learning_rate_init=0.001, max_iter=50, n_iter_no_change=5, power_t=0.001, solver=sgd; total time= 1.8min\n"
     ]
    },
    {
     "name": "stderr",
     "output_type": "stream",
     "text": [
      "/Users/sebastianlopez/miniconda3/envs/maestriamatching/lib/python3.10/site-packages/sklearn/neural_network/_multilayer_perceptron.py:546: ConvergenceWarning: lbfgs failed to converge (status=1):\n",
      "STOP: TOTAL NO. of ITERATIONS REACHED LIMIT.\n",
      "\n",
      "Increase the number of iterations (max_iter) or scale the data as shown in:\n",
      "    https://scikit-learn.org/stable/modules/preprocessing.html\n",
      "  self.n_iter_ = _check_optimize_result(\"lbfgs\", opt_res, self.max_iter)\n"
     ]
    },
    {
     "name": "stdout",
     "output_type": "stream",
     "text": [
      "[CV] END activation=identity, alpha=0.0001, early_stopping=True, learning_rate=constant, learning_rate_init=0.005, max_iter=5, n_iter_no_change=5, power_t=0.5, solver=lbfgs; total time=  15.8s\n",
      "[CV] END activation=identity, alpha=0.0001, early_stopping=True, learning_rate=constant, learning_rate_init=0.001, max_iter=50, n_iter_no_change=5, power_t=0.005, solver=adam; total time=  32.2s\n"
     ]
    },
    {
     "name": "stderr",
     "output_type": "stream",
     "text": [
      "/Users/sebastianlopez/miniconda3/envs/maestriamatching/lib/python3.10/site-packages/sklearn/neural_network/_multilayer_perceptron.py:546: ConvergenceWarning: lbfgs failed to converge (status=1):\n",
      "STOP: TOTAL NO. of ITERATIONS REACHED LIMIT.\n",
      "\n",
      "Increase the number of iterations (max_iter) or scale the data as shown in:\n",
      "    https://scikit-learn.org/stable/modules/preprocessing.html\n",
      "  self.n_iter_ = _check_optimize_result(\"lbfgs\", opt_res, self.max_iter)\n"
     ]
    },
    {
     "name": "stdout",
     "output_type": "stream",
     "text": [
      "[CV] END activation=identity, alpha=0.0001, early_stopping=True, learning_rate=constant, learning_rate_init=0.005, max_iter=5, n_iter_no_change=5, power_t=0.5, solver=lbfgs; total time=  14.8s\n"
     ]
    },
    {
     "name": "stderr",
     "output_type": "stream",
     "text": [
      "/Users/sebastianlopez/miniconda3/envs/maestriamatching/lib/python3.10/site-packages/sklearn/neural_network/_multilayer_perceptron.py:546: ConvergenceWarning: lbfgs failed to converge (status=1):\n",
      "STOP: TOTAL NO. of ITERATIONS REACHED LIMIT.\n",
      "\n",
      "Increase the number of iterations (max_iter) or scale the data as shown in:\n",
      "    https://scikit-learn.org/stable/modules/preprocessing.html\n",
      "  self.n_iter_ = _check_optimize_result(\"lbfgs\", opt_res, self.max_iter)\n"
     ]
    },
    {
     "name": "stdout",
     "output_type": "stream",
     "text": [
      "[CV] END activation=identity, alpha=0.0001, early_stopping=True, learning_rate=constant, learning_rate_init=0.005, max_iter=5, n_iter_no_change=5, power_t=0.5, solver=lbfgs; total time=  15.3s\n",
      "[CV] END activation=identity, alpha=0.0001, early_stopping=True, learning_rate=constant, learning_rate_init=0.001, max_iter=50, n_iter_no_change=5, power_t=0.005, solver=adam; total time=  47.6s\n"
     ]
    },
    {
     "name": "stderr",
     "output_type": "stream",
     "text": [
      "/Users/sebastianlopez/miniconda3/envs/maestriamatching/lib/python3.10/site-packages/sklearn/neural_network/_multilayer_perceptron.py:691: ConvergenceWarning: Stochastic Optimizer: Maximum iterations (5) reached and the optimization hasn't converged yet.\n",
      "  warnings.warn(\n"
     ]
    },
    {
     "name": "stdout",
     "output_type": "stream",
     "text": [
      "[CV] END activation=identity, alpha=0.0001, early_stopping=True, learning_rate=constant, learning_rate_init=0.005, max_iter=5, n_iter_no_change=5, power_t=0.5, solver=sgd; total time=  14.2s\n"
     ]
    },
    {
     "name": "stderr",
     "output_type": "stream",
     "text": [
      "/Users/sebastianlopez/miniconda3/envs/maestriamatching/lib/python3.10/site-packages/sklearn/neural_network/_multilayer_perceptron.py:691: ConvergenceWarning: Stochastic Optimizer: Maximum iterations (5) reached and the optimization hasn't converged yet.\n",
      "  warnings.warn(\n"
     ]
    },
    {
     "name": "stdout",
     "output_type": "stream",
     "text": [
      "[CV] END activation=identity, alpha=0.0001, early_stopping=True, learning_rate=constant, learning_rate_init=0.005, max_iter=5, n_iter_no_change=5, power_t=0.5, solver=sgd; total time=  14.5s\n"
     ]
    },
    {
     "name": "stderr",
     "output_type": "stream",
     "text": [
      "/Users/sebastianlopez/miniconda3/envs/maestriamatching/lib/python3.10/site-packages/sklearn/neural_network/_multilayer_perceptron.py:691: ConvergenceWarning: Stochastic Optimizer: Maximum iterations (5) reached and the optimization hasn't converged yet.\n",
      "  warnings.warn(\n"
     ]
    },
    {
     "name": "stdout",
     "output_type": "stream",
     "text": [
      "[CV] END activation=identity, alpha=0.0001, early_stopping=True, learning_rate=constant, learning_rate_init=0.005, max_iter=5, n_iter_no_change=5, power_t=0.5, solver=sgd; total time=  14.5s\n"
     ]
    },
    {
     "name": "stderr",
     "output_type": "stream",
     "text": [
      "/Users/sebastianlopez/miniconda3/envs/maestriamatching/lib/python3.10/site-packages/sklearn/neural_network/_multilayer_perceptron.py:691: ConvergenceWarning: Stochastic Optimizer: Maximum iterations (5) reached and the optimization hasn't converged yet.\n",
      "  warnings.warn(\n"
     ]
    },
    {
     "name": "stdout",
     "output_type": "stream",
     "text": [
      "[CV] END activation=identity, alpha=0.0001, early_stopping=True, learning_rate=constant, learning_rate_init=0.005, max_iter=5, n_iter_no_change=5, power_t=0.5, solver=adam; total time=  16.2s\n"
     ]
    },
    {
     "name": "stderr",
     "output_type": "stream",
     "text": [
      "/Users/sebastianlopez/miniconda3/envs/maestriamatching/lib/python3.10/site-packages/sklearn/neural_network/_multilayer_perceptron.py:691: ConvergenceWarning: Stochastic Optimizer: Maximum iterations (5) reached and the optimization hasn't converged yet.\n",
      "  warnings.warn(\n"
     ]
    },
    {
     "name": "stdout",
     "output_type": "stream",
     "text": [
      "[CV] END activation=identity, alpha=0.0001, early_stopping=True, learning_rate=constant, learning_rate_init=0.005, max_iter=5, n_iter_no_change=5, power_t=0.5, solver=adam; total time=  15.7s\n"
     ]
    },
    {
     "name": "stderr",
     "output_type": "stream",
     "text": [
      "/Users/sebastianlopez/miniconda3/envs/maestriamatching/lib/python3.10/site-packages/sklearn/neural_network/_multilayer_perceptron.py:691: ConvergenceWarning: Stochastic Optimizer: Maximum iterations (5) reached and the optimization hasn't converged yet.\n",
      "  warnings.warn(\n"
     ]
    },
    {
     "name": "stdout",
     "output_type": "stream",
     "text": [
      "[CV] END activation=identity, alpha=0.0001, early_stopping=True, learning_rate=constant, learning_rate_init=0.005, max_iter=5, n_iter_no_change=5, power_t=0.5, solver=adam; total time=  15.0s\n",
      "[CV] END activation=identity, alpha=0.0001, early_stopping=True, learning_rate=constant, learning_rate_init=0.001, max_iter=50, n_iter_no_change=5, power_t=0.005, solver=adam; total time= 1.1min\n"
     ]
    },
    {
     "name": "stderr",
     "output_type": "stream",
     "text": [
      "/Users/sebastianlopez/miniconda3/envs/maestriamatching/lib/python3.10/site-packages/sklearn/neural_network/_multilayer_perceptron.py:546: ConvergenceWarning: lbfgs failed to converge (status=1):\n",
      "STOP: TOTAL NO. of ITERATIONS REACHED LIMIT.\n",
      "\n",
      "Increase the number of iterations (max_iter) or scale the data as shown in:\n",
      "    https://scikit-learn.org/stable/modules/preprocessing.html\n",
      "  self.n_iter_ = _check_optimize_result(\"lbfgs\", opt_res, self.max_iter)\n"
     ]
    },
    {
     "name": "stdout",
     "output_type": "stream",
     "text": [
      "[CV] END activation=identity, alpha=0.0001, early_stopping=True, learning_rate=constant, learning_rate_init=0.005, max_iter=5, n_iter_no_change=5, power_t=0.1, solver=lbfgs; total time=  19.5s\n",
      "[CV] END activation=identity, alpha=0.0001, early_stopping=True, learning_rate=constant, learning_rate_init=0.001, max_iter=50, n_iter_no_change=5, power_t=0.005, solver=sgd; total time= 1.6min\n"
     ]
    },
    {
     "name": "stderr",
     "output_type": "stream",
     "text": [
      "/Users/sebastianlopez/miniconda3/envs/maestriamatching/lib/python3.10/site-packages/sklearn/neural_network/_multilayer_perceptron.py:691: ConvergenceWarning: Stochastic Optimizer: Maximum iterations (5) reached and the optimization hasn't converged yet.\n",
      "  warnings.warn(\n",
      "/Users/sebastianlopez/miniconda3/envs/maestriamatching/lib/python3.10/site-packages/sklearn/neural_network/_multilayer_perceptron.py:546: ConvergenceWarning: lbfgs failed to converge (status=1):\n",
      "STOP: TOTAL NO. of ITERATIONS REACHED LIMIT.\n",
      "\n",
      "Increase the number of iterations (max_iter) or scale the data as shown in:\n",
      "    https://scikit-learn.org/stable/modules/preprocessing.html\n",
      "  self.n_iter_ = _check_optimize_result(\"lbfgs\", opt_res, self.max_iter)\n"
     ]
    },
    {
     "name": "stdout",
     "output_type": "stream",
     "text": [
      "[CV] END activation=identity, alpha=0.0001, early_stopping=True, learning_rate=constant, learning_rate_init=0.005, max_iter=5, n_iter_no_change=5, power_t=0.1, solver=sgd; total time=  13.1s\n",
      "[CV] END activation=identity, alpha=0.0001, early_stopping=True, learning_rate=constant, learning_rate_init=0.005, max_iter=5, n_iter_no_change=5, power_t=0.1, solver=lbfgs; total time=  22.8s\n"
     ]
    },
    {
     "name": "stderr",
     "output_type": "stream",
     "text": [
      "/Users/sebastianlopez/miniconda3/envs/maestriamatching/lib/python3.10/site-packages/sklearn/neural_network/_multilayer_perceptron.py:546: ConvergenceWarning: lbfgs failed to converge (status=1):\n",
      "STOP: TOTAL NO. of ITERATIONS REACHED LIMIT.\n",
      "\n",
      "Increase the number of iterations (max_iter) or scale the data as shown in:\n",
      "    https://scikit-learn.org/stable/modules/preprocessing.html\n",
      "  self.n_iter_ = _check_optimize_result(\"lbfgs\", opt_res, self.max_iter)\n"
     ]
    },
    {
     "name": "stdout",
     "output_type": "stream",
     "text": [
      "[CV] END activation=identity, alpha=0.0001, early_stopping=True, learning_rate=constant, learning_rate_init=0.005, max_iter=5, n_iter_no_change=5, power_t=0.1, solver=lbfgs; total time=  16.8s\n"
     ]
    },
    {
     "name": "stderr",
     "output_type": "stream",
     "text": [
      "/Users/sebastianlopez/miniconda3/envs/maestriamatching/lib/python3.10/site-packages/sklearn/neural_network/_multilayer_perceptron.py:691: ConvergenceWarning: Stochastic Optimizer: Maximum iterations (5) reached and the optimization hasn't converged yet.\n",
      "  warnings.warn(\n"
     ]
    },
    {
     "name": "stdout",
     "output_type": "stream",
     "text": [
      "[CV] END activation=identity, alpha=0.0001, early_stopping=True, learning_rate=constant, learning_rate_init=0.005, max_iter=5, n_iter_no_change=5, power_t=0.1, solver=sgd; total time=  13.1s\n"
     ]
    },
    {
     "name": "stderr",
     "output_type": "stream",
     "text": [
      "/Users/sebastianlopez/miniconda3/envs/maestriamatching/lib/python3.10/site-packages/sklearn/neural_network/_multilayer_perceptron.py:691: ConvergenceWarning: Stochastic Optimizer: Maximum iterations (5) reached and the optimization hasn't converged yet.\n",
      "  warnings.warn(\n",
      "/Users/sebastianlopez/miniconda3/envs/maestriamatching/lib/python3.10/site-packages/sklearn/neural_network/_multilayer_perceptron.py:546: ConvergenceWarning: lbfgs failed to converge (status=1):\n",
      "STOP: TOTAL NO. of ITERATIONS REACHED LIMIT.\n",
      "\n",
      "Increase the number of iterations (max_iter) or scale the data as shown in:\n",
      "    https://scikit-learn.org/stable/modules/preprocessing.html\n",
      "  self.n_iter_ = _check_optimize_result(\"lbfgs\", opt_res, self.max_iter)\n"
     ]
    },
    {
     "name": "stdout",
     "output_type": "stream",
     "text": [
      "[CV] END activation=identity, alpha=0.0001, early_stopping=True, learning_rate=constant, learning_rate_init=0.005, max_iter=5, n_iter_no_change=5, power_t=0.1, solver=sgd; total time=  13.4s\n",
      "[CV] END activation=identity, alpha=0.0001, early_stopping=True, learning_rate=constant, learning_rate_init=0.001, max_iter=50, n_iter_no_change=5, power_t=0.005, solver=lbfgs; total time= 2.0min\n"
     ]
    },
    {
     "name": "stderr",
     "output_type": "stream",
     "text": [
      "/Users/sebastianlopez/miniconda3/envs/maestriamatching/lib/python3.10/site-packages/sklearn/neural_network/_multilayer_perceptron.py:546: ConvergenceWarning: lbfgs failed to converge (status=1):\n",
      "STOP: TOTAL NO. of ITERATIONS REACHED LIMIT.\n",
      "\n",
      "Increase the number of iterations (max_iter) or scale the data as shown in:\n",
      "    https://scikit-learn.org/stable/modules/preprocessing.html\n",
      "  self.n_iter_ = _check_optimize_result(\"lbfgs\", opt_res, self.max_iter)\n"
     ]
    },
    {
     "name": "stdout",
     "output_type": "stream",
     "text": [
      "[CV] END activation=identity, alpha=0.0001, early_stopping=True, learning_rate=constant, learning_rate_init=0.001, max_iter=50, n_iter_no_change=5, power_t=0.005, solver=lbfgs; total time= 2.0min\n"
     ]
    },
    {
     "name": "stderr",
     "output_type": "stream",
     "text": [
      "/Users/sebastianlopez/miniconda3/envs/maestriamatching/lib/python3.10/site-packages/sklearn/neural_network/_multilayer_perceptron.py:691: ConvergenceWarning: Stochastic Optimizer: Maximum iterations (5) reached and the optimization hasn't converged yet.\n",
      "  warnings.warn(\n"
     ]
    },
    {
     "name": "stdout",
     "output_type": "stream",
     "text": [
      "[CV] END activation=identity, alpha=0.0001, early_stopping=True, learning_rate=constant, learning_rate_init=0.005, max_iter=5, n_iter_no_change=5, power_t=0.1, solver=adam; total time=  14.6s\n"
     ]
    },
    {
     "name": "stderr",
     "output_type": "stream",
     "text": [
      "/Users/sebastianlopez/miniconda3/envs/maestriamatching/lib/python3.10/site-packages/sklearn/neural_network/_multilayer_perceptron.py:691: ConvergenceWarning: Stochastic Optimizer: Maximum iterations (5) reached and the optimization hasn't converged yet.\n",
      "  warnings.warn(\n",
      "/Users/sebastianlopez/miniconda3/envs/maestriamatching/lib/python3.10/site-packages/sklearn/neural_network/_multilayer_perceptron.py:691: ConvergenceWarning: Stochastic Optimizer: Maximum iterations (5) reached and the optimization hasn't converged yet.\n",
      "  warnings.warn(\n"
     ]
    },
    {
     "name": "stdout",
     "output_type": "stream",
     "text": [
      "[CV] END activation=identity, alpha=0.0001, early_stopping=True, learning_rate=constant, learning_rate_init=0.005, max_iter=5, n_iter_no_change=5, power_t=0.1, solver=adam; total time=  15.0s\n",
      "[CV] END activation=identity, alpha=0.0001, early_stopping=True, learning_rate=constant, learning_rate_init=0.005, max_iter=5, n_iter_no_change=5, power_t=0.1, solver=adam; total time=  15.0s\n"
     ]
    },
    {
     "name": "stderr",
     "output_type": "stream",
     "text": [
      "/Users/sebastianlopez/miniconda3/envs/maestriamatching/lib/python3.10/site-packages/sklearn/neural_network/_multilayer_perceptron.py:546: ConvergenceWarning: lbfgs failed to converge (status=1):\n",
      "STOP: TOTAL NO. of ITERATIONS REACHED LIMIT.\n",
      "\n",
      "Increase the number of iterations (max_iter) or scale the data as shown in:\n",
      "    https://scikit-learn.org/stable/modules/preprocessing.html\n",
      "  self.n_iter_ = _check_optimize_result(\"lbfgs\", opt_res, self.max_iter)\n"
     ]
    },
    {
     "name": "stdout",
     "output_type": "stream",
     "text": [
      "[CV] END activation=identity, alpha=0.0001, early_stopping=True, learning_rate=constant, learning_rate_init=0.005, max_iter=5, n_iter_no_change=5, power_t=0.9, solver=lbfgs; total time=  15.9s\n"
     ]
    },
    {
     "name": "stderr",
     "output_type": "stream",
     "text": [
      "/Users/sebastianlopez/miniconda3/envs/maestriamatching/lib/python3.10/site-packages/sklearn/neural_network/_multilayer_perceptron.py:546: ConvergenceWarning: lbfgs failed to converge (status=1):\n",
      "STOP: TOTAL NO. of ITERATIONS REACHED LIMIT.\n",
      "\n",
      "Increase the number of iterations (max_iter) or scale the data as shown in:\n",
      "    https://scikit-learn.org/stable/modules/preprocessing.html\n",
      "  self.n_iter_ = _check_optimize_result(\"lbfgs\", opt_res, self.max_iter)\n"
     ]
    },
    {
     "name": "stdout",
     "output_type": "stream",
     "text": [
      "[CV] END activation=identity, alpha=0.0001, early_stopping=True, learning_rate=constant, learning_rate_init=0.001, max_iter=50, n_iter_no_change=5, power_t=0.005, solver=lbfgs; total time= 2.1min\n"
     ]
    },
    {
     "name": "stderr",
     "output_type": "stream",
     "text": [
      "/Users/sebastianlopez/miniconda3/envs/maestriamatching/lib/python3.10/site-packages/sklearn/neural_network/_multilayer_perceptron.py:691: ConvergenceWarning: Stochastic Optimizer: Maximum iterations (5) reached and the optimization hasn't converged yet.\n",
      "  warnings.warn(\n"
     ]
    },
    {
     "name": "stdout",
     "output_type": "stream",
     "text": [
      "[CV] END activation=identity, alpha=0.0001, early_stopping=True, learning_rate=constant, learning_rate_init=0.005, max_iter=5, n_iter_no_change=5, power_t=0.9, solver=sgd; total time=  13.9s\n"
     ]
    },
    {
     "name": "stderr",
     "output_type": "stream",
     "text": [
      "/Users/sebastianlopez/miniconda3/envs/maestriamatching/lib/python3.10/site-packages/sklearn/neural_network/_multilayer_perceptron.py:546: ConvergenceWarning: lbfgs failed to converge (status=1):\n",
      "STOP: TOTAL NO. of ITERATIONS REACHED LIMIT.\n",
      "\n",
      "Increase the number of iterations (max_iter) or scale the data as shown in:\n",
      "    https://scikit-learn.org/stable/modules/preprocessing.html\n",
      "  self.n_iter_ = _check_optimize_result(\"lbfgs\", opt_res, self.max_iter)\n",
      "/Users/sebastianlopez/miniconda3/envs/maestriamatching/lib/python3.10/site-packages/sklearn/neural_network/_multilayer_perceptron.py:691: ConvergenceWarning: Stochastic Optimizer: Maximum iterations (5) reached and the optimization hasn't converged yet.\n",
      "  warnings.warn(\n",
      "/Users/sebastianlopez/miniconda3/envs/maestriamatching/lib/python3.10/site-packages/sklearn/neural_network/_multilayer_perceptron.py:546: ConvergenceWarning: lbfgs failed to converge (status=1):\n",
      "STOP: TOTAL NO. of ITERATIONS REACHED LIMIT.\n",
      "\n",
      "Increase the number of iterations (max_iter) or scale the data as shown in:\n",
      "    https://scikit-learn.org/stable/modules/preprocessing.html\n",
      "  self.n_iter_ = _check_optimize_result(\"lbfgs\", opt_res, self.max_iter)\n"
     ]
    },
    {
     "name": "stdout",
     "output_type": "stream",
     "text": [
      "[CV] END activation=identity, alpha=0.0001, early_stopping=True, learning_rate=constant, learning_rate_init=0.005, max_iter=5, n_iter_no_change=5, power_t=0.9, solver=lbfgs; total time=  19.9s\n",
      "[CV] END activation=identity, alpha=0.0001, early_stopping=True, learning_rate=constant, learning_rate_init=0.005, max_iter=5, n_iter_no_change=5, power_t=0.9, solver=sgd; total time=  14.2s\n",
      "[CV] END activation=identity, alpha=0.0001, early_stopping=True, learning_rate=constant, learning_rate_init=0.005, max_iter=5, n_iter_no_change=5, power_t=0.9, solver=lbfgs; total time=  15.4s\n"
     ]
    },
    {
     "name": "stderr",
     "output_type": "stream",
     "text": [
      "/Users/sebastianlopez/miniconda3/envs/maestriamatching/lib/python3.10/site-packages/sklearn/neural_network/_multilayer_perceptron.py:691: ConvergenceWarning: Stochastic Optimizer: Maximum iterations (5) reached and the optimization hasn't converged yet.\n",
      "  warnings.warn(\n"
     ]
    },
    {
     "name": "stdout",
     "output_type": "stream",
     "text": [
      "[CV] END activation=identity, alpha=0.0001, early_stopping=True, learning_rate=constant, learning_rate_init=0.005, max_iter=5, n_iter_no_change=5, power_t=0.9, solver=sgd; total time=  14.5s\n"
     ]
    },
    {
     "name": "stderr",
     "output_type": "stream",
     "text": [
      "/Users/sebastianlopez/miniconda3/envs/maestriamatching/lib/python3.10/site-packages/sklearn/neural_network/_multilayer_perceptron.py:691: ConvergenceWarning: Stochastic Optimizer: Maximum iterations (5) reached and the optimization hasn't converged yet.\n",
      "  warnings.warn(\n",
      "/Users/sebastianlopez/miniconda3/envs/maestriamatching/lib/python3.10/site-packages/sklearn/neural_network/_multilayer_perceptron.py:691: ConvergenceWarning: Stochastic Optimizer: Maximum iterations (5) reached and the optimization hasn't converged yet.\n",
      "  warnings.warn(\n"
     ]
    },
    {
     "name": "stdout",
     "output_type": "stream",
     "text": [
      "[CV] END activation=identity, alpha=0.0001, early_stopping=True, learning_rate=constant, learning_rate_init=0.005, max_iter=5, n_iter_no_change=5, power_t=0.9, solver=adam; total time=  15.4s\n",
      "[CV] END activation=identity, alpha=0.0001, early_stopping=True, learning_rate=constant, learning_rate_init=0.005, max_iter=5, n_iter_no_change=5, power_t=0.9, solver=adam; total time=  15.4s\n",
      "[CV] END activation=identity, alpha=0.0001, early_stopping=True, learning_rate=constant, learning_rate_init=0.001, max_iter=50, n_iter_no_change=5, power_t=0.005, solver=sgd; total time= 2.0min\n"
     ]
    },
    {
     "name": "stderr",
     "output_type": "stream",
     "text": [
      "/Users/sebastianlopez/miniconda3/envs/maestriamatching/lib/python3.10/site-packages/sklearn/neural_network/_multilayer_perceptron.py:691: ConvergenceWarning: Stochastic Optimizer: Maximum iterations (5) reached and the optimization hasn't converged yet.\n",
      "  warnings.warn(\n"
     ]
    },
    {
     "name": "stdout",
     "output_type": "stream",
     "text": [
      "[CV] END activation=identity, alpha=0.0001, early_stopping=True, learning_rate=constant, learning_rate_init=0.005, max_iter=5, n_iter_no_change=5, power_t=0.9, solver=adam; total time=  15.3s\n",
      "[CV] END activation=identity, alpha=0.0001, early_stopping=True, learning_rate=constant, learning_rate_init=0.001, max_iter=50, n_iter_no_change=5, power_t=0.005, solver=sgd; total time= 2.1min\n"
     ]
    },
    {
     "name": "stderr",
     "output_type": "stream",
     "text": [
      "/Users/sebastianlopez/miniconda3/envs/maestriamatching/lib/python3.10/site-packages/sklearn/neural_network/_multilayer_perceptron.py:546: ConvergenceWarning: lbfgs failed to converge (status=1):\n",
      "STOP: TOTAL NO. of ITERATIONS REACHED LIMIT.\n",
      "\n",
      "Increase the number of iterations (max_iter) or scale the data as shown in:\n",
      "    https://scikit-learn.org/stable/modules/preprocessing.html\n",
      "  self.n_iter_ = _check_optimize_result(\"lbfgs\", opt_res, self.max_iter)\n"
     ]
    },
    {
     "name": "stdout",
     "output_type": "stream",
     "text": [
      "[CV] END activation=identity, alpha=0.0001, early_stopping=True, learning_rate=constant, learning_rate_init=0.005, max_iter=5, n_iter_no_change=5, power_t=0.001, solver=lbfgs; total time=  14.4s\n"
     ]
    },
    {
     "name": "stderr",
     "output_type": "stream",
     "text": [
      "/Users/sebastianlopez/miniconda3/envs/maestriamatching/lib/python3.10/site-packages/sklearn/neural_network/_multilayer_perceptron.py:691: ConvergenceWarning: Stochastic Optimizer: Maximum iterations (5) reached and the optimization hasn't converged yet.\n",
      "  warnings.warn(\n",
      "/Users/sebastianlopez/miniconda3/envs/maestriamatching/lib/python3.10/site-packages/sklearn/neural_network/_multilayer_perceptron.py:691: ConvergenceWarning: Stochastic Optimizer: Maximum iterations (5) reached and the optimization hasn't converged yet.\n",
      "  warnings.warn(\n"
     ]
    },
    {
     "name": "stdout",
     "output_type": "stream",
     "text": [
      "[CV] END activation=identity, alpha=0.0001, early_stopping=True, learning_rate=constant, learning_rate_init=0.005, max_iter=5, n_iter_no_change=5, power_t=0.001, solver=sgd; total time=  14.0s\n",
      "[CV] END activation=identity, alpha=0.0001, early_stopping=True, learning_rate=constant, learning_rate_init=0.005, max_iter=5, n_iter_no_change=5, power_t=0.001, solver=sgd; total time=  14.3s\n"
     ]
    },
    {
     "name": "stderr",
     "output_type": "stream",
     "text": [
      "/Users/sebastianlopez/miniconda3/envs/maestriamatching/lib/python3.10/site-packages/sklearn/neural_network/_multilayer_perceptron.py:546: ConvergenceWarning: lbfgs failed to converge (status=1):\n",
      "STOP: TOTAL NO. of ITERATIONS REACHED LIMIT.\n",
      "\n",
      "Increase the number of iterations (max_iter) or scale the data as shown in:\n",
      "    https://scikit-learn.org/stable/modules/preprocessing.html\n",
      "  self.n_iter_ = _check_optimize_result(\"lbfgs\", opt_res, self.max_iter)\n"
     ]
    },
    {
     "name": "stdout",
     "output_type": "stream",
     "text": [
      "[CV] END activation=identity, alpha=0.0001, early_stopping=True, learning_rate=constant, learning_rate_init=0.005, max_iter=5, n_iter_no_change=5, power_t=0.001, solver=lbfgs; total time=  16.1s\n"
     ]
    },
    {
     "name": "stderr",
     "output_type": "stream",
     "text": [
      "/Users/sebastianlopez/miniconda3/envs/maestriamatching/lib/python3.10/site-packages/sklearn/neural_network/_multilayer_perceptron.py:546: ConvergenceWarning: lbfgs failed to converge (status=1):\n",
      "STOP: TOTAL NO. of ITERATIONS REACHED LIMIT.\n",
      "\n",
      "Increase the number of iterations (max_iter) or scale the data as shown in:\n",
      "    https://scikit-learn.org/stable/modules/preprocessing.html\n",
      "  self.n_iter_ = _check_optimize_result(\"lbfgs\", opt_res, self.max_iter)\n"
     ]
    },
    {
     "name": "stdout",
     "output_type": "stream",
     "text": [
      "[CV] END activation=identity, alpha=0.0001, early_stopping=True, learning_rate=constant, learning_rate_init=0.005, max_iter=5, n_iter_no_change=5, power_t=0.001, solver=lbfgs; total time=  20.2s\n"
     ]
    },
    {
     "name": "stderr",
     "output_type": "stream",
     "text": [
      "/Users/sebastianlopez/miniconda3/envs/maestriamatching/lib/python3.10/site-packages/sklearn/neural_network/_multilayer_perceptron.py:691: ConvergenceWarning: Stochastic Optimizer: Maximum iterations (5) reached and the optimization hasn't converged yet.\n",
      "  warnings.warn(\n"
     ]
    },
    {
     "name": "stdout",
     "output_type": "stream",
     "text": [
      "[CV] END activation=identity, alpha=0.0001, early_stopping=True, learning_rate=constant, learning_rate_init=0.005, max_iter=5, n_iter_no_change=5, power_t=0.001, solver=sgd; total time=  13.6s\n"
     ]
    },
    {
     "name": "stderr",
     "output_type": "stream",
     "text": [
      "/Users/sebastianlopez/miniconda3/envs/maestriamatching/lib/python3.10/site-packages/sklearn/neural_network/_multilayer_perceptron.py:691: ConvergenceWarning: Stochastic Optimizer: Maximum iterations (5) reached and the optimization hasn't converged yet.\n",
      "  warnings.warn(\n",
      "/Users/sebastianlopez/miniconda3/envs/maestriamatching/lib/python3.10/site-packages/sklearn/neural_network/_multilayer_perceptron.py:691: ConvergenceWarning: Stochastic Optimizer: Maximum iterations (5) reached and the optimization hasn't converged yet.\n",
      "  warnings.warn(\n"
     ]
    },
    {
     "name": "stdout",
     "output_type": "stream",
     "text": [
      "[CV] END activation=identity, alpha=0.0001, early_stopping=True, learning_rate=constant, learning_rate_init=0.005, max_iter=5, n_iter_no_change=5, power_t=0.001, solver=adam; total time=  15.5s\n",
      "[CV] END activation=identity, alpha=0.0001, early_stopping=True, learning_rate=constant, learning_rate_init=0.005, max_iter=5, n_iter_no_change=5, power_t=0.001, solver=adam; total time=  15.4s\n"
     ]
    },
    {
     "name": "stderr",
     "output_type": "stream",
     "text": [
      "/Users/sebastianlopez/miniconda3/envs/maestriamatching/lib/python3.10/site-packages/sklearn/neural_network/_multilayer_perceptron.py:691: ConvergenceWarning: Stochastic Optimizer: Maximum iterations (5) reached and the optimization hasn't converged yet.\n",
      "  warnings.warn(\n"
     ]
    },
    {
     "name": "stdout",
     "output_type": "stream",
     "text": [
      "[CV] END activation=identity, alpha=0.0001, early_stopping=True, learning_rate=constant, learning_rate_init=0.005, max_iter=5, n_iter_no_change=5, power_t=0.001, solver=adam; total time=  16.0s\n"
     ]
    },
    {
     "name": "stderr",
     "output_type": "stream",
     "text": [
      "/Users/sebastianlopez/miniconda3/envs/maestriamatching/lib/python3.10/site-packages/sklearn/neural_network/_multilayer_perceptron.py:546: ConvergenceWarning: lbfgs failed to converge (status=1):\n",
      "STOP: TOTAL NO. of ITERATIONS REACHED LIMIT.\n",
      "\n",
      "Increase the number of iterations (max_iter) or scale the data as shown in:\n",
      "    https://scikit-learn.org/stable/modules/preprocessing.html\n",
      "  self.n_iter_ = _check_optimize_result(\"lbfgs\", opt_res, self.max_iter)\n"
     ]
    },
    {
     "name": "stdout",
     "output_type": "stream",
     "text": [
      "[CV] END activation=identity, alpha=0.0001, early_stopping=True, learning_rate=constant, learning_rate_init=0.005, max_iter=5, n_iter_no_change=5, power_t=0.005, solver=lbfgs; total time=  16.6s\n"
     ]
    },
    {
     "name": "stderr",
     "output_type": "stream",
     "text": [
      "/Users/sebastianlopez/miniconda3/envs/maestriamatching/lib/python3.10/site-packages/sklearn/neural_network/_multilayer_perceptron.py:691: ConvergenceWarning: Stochastic Optimizer: Maximum iterations (5) reached and the optimization hasn't converged yet.\n",
      "  warnings.warn(\n"
     ]
    },
    {
     "name": "stdout",
     "output_type": "stream",
     "text": [
      "[CV] END activation=identity, alpha=0.0001, early_stopping=True, learning_rate=constant, learning_rate_init=0.005, max_iter=5, n_iter_no_change=5, power_t=0.005, solver=sgd; total time=  15.5s\n"
     ]
    },
    {
     "name": "stderr",
     "output_type": "stream",
     "text": [
      "/Users/sebastianlopez/miniconda3/envs/maestriamatching/lib/python3.10/site-packages/sklearn/neural_network/_multilayer_perceptron.py:691: ConvergenceWarning: Stochastic Optimizer: Maximum iterations (5) reached and the optimization hasn't converged yet.\n",
      "  warnings.warn(\n"
     ]
    },
    {
     "name": "stdout",
     "output_type": "stream",
     "text": [
      "[CV] END activation=identity, alpha=0.0001, early_stopping=True, learning_rate=constant, learning_rate_init=0.005, max_iter=5, n_iter_no_change=5, power_t=0.005, solver=sgd; total time=  15.8s\n"
     ]
    },
    {
     "name": "stderr",
     "output_type": "stream",
     "text": [
      "/Users/sebastianlopez/miniconda3/envs/maestriamatching/lib/python3.10/site-packages/sklearn/neural_network/_multilayer_perceptron.py:691: ConvergenceWarning: Stochastic Optimizer: Maximum iterations (5) reached and the optimization hasn't converged yet.\n",
      "  warnings.warn(\n"
     ]
    },
    {
     "name": "stdout",
     "output_type": "stream",
     "text": [
      "[CV] END activation=identity, alpha=0.0001, early_stopping=True, learning_rate=constant, learning_rate_init=0.005, max_iter=5, n_iter_no_change=5, power_t=0.005, solver=sgd; total time=  15.7s\n"
     ]
    },
    {
     "name": "stderr",
     "output_type": "stream",
     "text": [
      "/Users/sebastianlopez/miniconda3/envs/maestriamatching/lib/python3.10/site-packages/sklearn/neural_network/_multilayer_perceptron.py:546: ConvergenceWarning: lbfgs failed to converge (status=1):\n",
      "STOP: TOTAL NO. of ITERATIONS REACHED LIMIT.\n",
      "\n",
      "Increase the number of iterations (max_iter) or scale the data as shown in:\n",
      "    https://scikit-learn.org/stable/modules/preprocessing.html\n",
      "  self.n_iter_ = _check_optimize_result(\"lbfgs\", opt_res, self.max_iter)\n"
     ]
    },
    {
     "name": "stdout",
     "output_type": "stream",
     "text": [
      "[CV] END activation=identity, alpha=0.0001, early_stopping=True, learning_rate=constant, learning_rate_init=0.005, max_iter=5, n_iter_no_change=5, power_t=0.005, solver=lbfgs; total time=  19.5s\n"
     ]
    },
    {
     "name": "stderr",
     "output_type": "stream",
     "text": [
      "/Users/sebastianlopez/miniconda3/envs/maestriamatching/lib/python3.10/site-packages/sklearn/neural_network/_multilayer_perceptron.py:691: ConvergenceWarning: Stochastic Optimizer: Maximum iterations (5) reached and the optimization hasn't converged yet.\n",
      "  warnings.warn(\n"
     ]
    },
    {
     "name": "stdout",
     "output_type": "stream",
     "text": [
      "[CV] END activation=identity, alpha=0.0001, early_stopping=True, learning_rate=constant, learning_rate_init=0.005, max_iter=5, n_iter_no_change=5, power_t=0.005, solver=adam; total time=  17.3s\n"
     ]
    },
    {
     "name": "stderr",
     "output_type": "stream",
     "text": [
      "/Users/sebastianlopez/miniconda3/envs/maestriamatching/lib/python3.10/site-packages/sklearn/neural_network/_multilayer_perceptron.py:691: ConvergenceWarning: Stochastic Optimizer: Maximum iterations (5) reached and the optimization hasn't converged yet.\n",
      "  warnings.warn(\n"
     ]
    },
    {
     "name": "stdout",
     "output_type": "stream",
     "text": [
      "[CV] END activation=identity, alpha=0.0001, early_stopping=True, learning_rate=constant, learning_rate_init=0.005, max_iter=5, n_iter_no_change=5, power_t=0.005, solver=adam; total time=  17.8s\n"
     ]
    },
    {
     "name": "stderr",
     "output_type": "stream",
     "text": [
      "/Users/sebastianlopez/miniconda3/envs/maestriamatching/lib/python3.10/site-packages/sklearn/neural_network/_multilayer_perceptron.py:546: ConvergenceWarning: lbfgs failed to converge (status=1):\n",
      "STOP: TOTAL NO. of ITERATIONS REACHED LIMIT.\n",
      "\n",
      "Increase the number of iterations (max_iter) or scale the data as shown in:\n",
      "    https://scikit-learn.org/stable/modules/preprocessing.html\n",
      "  self.n_iter_ = _check_optimize_result(\"lbfgs\", opt_res, self.max_iter)\n"
     ]
    },
    {
     "name": "stdout",
     "output_type": "stream",
     "text": [
      "[CV] END activation=identity, alpha=0.0001, early_stopping=True, learning_rate=constant, learning_rate_init=0.005, max_iter=5, n_iter_no_change=5, power_t=0.005, solver=lbfgs; total time=  24.1s\n"
     ]
    },
    {
     "name": "stderr",
     "output_type": "stream",
     "text": [
      "/Users/sebastianlopez/miniconda3/envs/maestriamatching/lib/python3.10/site-packages/sklearn/neural_network/_multilayer_perceptron.py:691: ConvergenceWarning: Stochastic Optimizer: Maximum iterations (5) reached and the optimization hasn't converged yet.\n",
      "  warnings.warn(\n"
     ]
    },
    {
     "name": "stdout",
     "output_type": "stream",
     "text": [
      "[CV] END activation=identity, alpha=0.0001, early_stopping=True, learning_rate=constant, learning_rate_init=0.005, max_iter=5, n_iter_no_change=5, power_t=0.005, solver=adam; total time=  17.8s\n"
     ]
    },
    {
     "name": "stderr",
     "output_type": "stream",
     "text": [
      "/Users/sebastianlopez/miniconda3/envs/maestriamatching/lib/python3.10/site-packages/sklearn/neural_network/_multilayer_perceptron.py:546: ConvergenceWarning: lbfgs failed to converge (status=1):\n",
      "STOP: TOTAL NO. of ITERATIONS REACHED LIMIT.\n",
      "\n",
      "Increase the number of iterations (max_iter) or scale the data as shown in:\n",
      "    https://scikit-learn.org/stable/modules/preprocessing.html\n",
      "  self.n_iter_ = _check_optimize_result(\"lbfgs\", opt_res, self.max_iter)\n"
     ]
    },
    {
     "name": "stdout",
     "output_type": "stream",
     "text": [
      "[CV] END activation=identity, alpha=0.0001, early_stopping=True, learning_rate=constant, learning_rate_init=0.005, max_iter=10, n_iter_no_change=5, power_t=0.5, solver=lbfgs; total time=  30.5s\n"
     ]
    },
    {
     "name": "stderr",
     "output_type": "stream",
     "text": [
      "/Users/sebastianlopez/miniconda3/envs/maestriamatching/lib/python3.10/site-packages/sklearn/neural_network/_multilayer_perceptron.py:546: ConvergenceWarning: lbfgs failed to converge (status=1):\n",
      "STOP: TOTAL NO. of ITERATIONS REACHED LIMIT.\n",
      "\n",
      "Increase the number of iterations (max_iter) or scale the data as shown in:\n",
      "    https://scikit-learn.org/stable/modules/preprocessing.html\n",
      "  self.n_iter_ = _check_optimize_result(\"lbfgs\", opt_res, self.max_iter)\n",
      "/Users/sebastianlopez/miniconda3/envs/maestriamatching/lib/python3.10/site-packages/sklearn/neural_network/_multilayer_perceptron.py:691: ConvergenceWarning: Stochastic Optimizer: Maximum iterations (10) reached and the optimization hasn't converged yet.\n",
      "  warnings.warn(\n"
     ]
    },
    {
     "name": "stdout",
     "output_type": "stream",
     "text": [
      "[CV] END activation=identity, alpha=0.0001, early_stopping=True, learning_rate=constant, learning_rate_init=0.005, max_iter=10, n_iter_no_change=5, power_t=0.5, solver=lbfgs; total time=  32.3s\n"
     ]
    },
    {
     "name": "stderr",
     "output_type": "stream",
     "text": [
      "/Users/sebastianlopez/miniconda3/envs/maestriamatching/lib/python3.10/site-packages/sklearn/neural_network/_multilayer_perceptron.py:691: ConvergenceWarning: Stochastic Optimizer: Maximum iterations (10) reached and the optimization hasn't converged yet.\n",
      "  warnings.warn(\n"
     ]
    },
    {
     "name": "stdout",
     "output_type": "stream",
     "text": [
      "[CV] END activation=identity, alpha=0.0001, early_stopping=True, learning_rate=constant, learning_rate_init=0.005, max_iter=10, n_iter_no_change=5, power_t=0.5, solver=sgd; total time=  28.8s\n",
      "[CV] END activation=identity, alpha=0.0001, early_stopping=True, learning_rate=constant, learning_rate_init=0.005, max_iter=10, n_iter_no_change=5, power_t=0.5, solver=sgd; total time=  28.4s\n"
     ]
    },
    {
     "name": "stderr",
     "output_type": "stream",
     "text": [
      "/Users/sebastianlopez/miniconda3/envs/maestriamatching/lib/python3.10/site-packages/sklearn/neural_network/_multilayer_perceptron.py:546: ConvergenceWarning: lbfgs failed to converge (status=1):\n",
      "STOP: TOTAL NO. of ITERATIONS REACHED LIMIT.\n",
      "\n",
      "Increase the number of iterations (max_iter) or scale the data as shown in:\n",
      "    https://scikit-learn.org/stable/modules/preprocessing.html\n",
      "  self.n_iter_ = _check_optimize_result(\"lbfgs\", opt_res, self.max_iter)\n"
     ]
    },
    {
     "name": "stdout",
     "output_type": "stream",
     "text": [
      "[CV] END activation=identity, alpha=0.0001, early_stopping=True, learning_rate=constant, learning_rate_init=0.005, max_iter=10, n_iter_no_change=5, power_t=0.5, solver=lbfgs; total time=  32.3s\n"
     ]
    },
    {
     "name": "stderr",
     "output_type": "stream",
     "text": [
      "/Users/sebastianlopez/miniconda3/envs/maestriamatching/lib/python3.10/site-packages/sklearn/neural_network/_multilayer_perceptron.py:691: ConvergenceWarning: Stochastic Optimizer: Maximum iterations (10) reached and the optimization hasn't converged yet.\n",
      "  warnings.warn(\n"
     ]
    },
    {
     "name": "stdout",
     "output_type": "stream",
     "text": [
      "[CV] END activation=identity, alpha=0.0001, early_stopping=True, learning_rate=constant, learning_rate_init=0.005, max_iter=10, n_iter_no_change=5, power_t=0.5, solver=sgd; total time=  28.8s\n"
     ]
    },
    {
     "name": "stderr",
     "output_type": "stream",
     "text": [
      "/Users/sebastianlopez/miniconda3/envs/maestriamatching/lib/python3.10/site-packages/sklearn/neural_network/_multilayer_perceptron.py:691: ConvergenceWarning: Stochastic Optimizer: Maximum iterations (10) reached and the optimization hasn't converged yet.\n",
      "  warnings.warn(\n"
     ]
    },
    {
     "name": "stdout",
     "output_type": "stream",
     "text": [
      "[CV] END activation=identity, alpha=0.0001, early_stopping=True, learning_rate=constant, learning_rate_init=0.005, max_iter=10, n_iter_no_change=5, power_t=0.5, solver=adam; total time=  30.4s\n"
     ]
    },
    {
     "name": "stderr",
     "output_type": "stream",
     "text": [
      "/Users/sebastianlopez/miniconda3/envs/maestriamatching/lib/python3.10/site-packages/sklearn/neural_network/_multilayer_perceptron.py:691: ConvergenceWarning: Stochastic Optimizer: Maximum iterations (10) reached and the optimization hasn't converged yet.\n",
      "  warnings.warn(\n"
     ]
    },
    {
     "name": "stdout",
     "output_type": "stream",
     "text": [
      "[CV] END activation=identity, alpha=0.0001, early_stopping=True, learning_rate=constant, learning_rate_init=0.005, max_iter=10, n_iter_no_change=5, power_t=0.5, solver=adam; total time=  30.2s\n"
     ]
    },
    {
     "name": "stderr",
     "output_type": "stream",
     "text": [
      "/Users/sebastianlopez/miniconda3/envs/maestriamatching/lib/python3.10/site-packages/sklearn/neural_network/_multilayer_perceptron.py:546: ConvergenceWarning: lbfgs failed to converge (status=1):\n",
      "STOP: TOTAL NO. of ITERATIONS REACHED LIMIT.\n",
      "\n",
      "Increase the number of iterations (max_iter) or scale the data as shown in:\n",
      "    https://scikit-learn.org/stable/modules/preprocessing.html\n",
      "  self.n_iter_ = _check_optimize_result(\"lbfgs\", opt_res, self.max_iter)\n",
      "/Users/sebastianlopez/miniconda3/envs/maestriamatching/lib/python3.10/site-packages/sklearn/neural_network/_multilayer_perceptron.py:691: ConvergenceWarning: Stochastic Optimizer: Maximum iterations (10) reached and the optimization hasn't converged yet.\n",
      "  warnings.warn(\n"
     ]
    },
    {
     "name": "stdout",
     "output_type": "stream",
     "text": [
      "[CV] END activation=identity, alpha=0.0001, early_stopping=True, learning_rate=constant, learning_rate_init=0.005, max_iter=10, n_iter_no_change=5, power_t=0.1, solver=lbfgs; total time=  28.6s\n",
      "[CV] END activation=identity, alpha=0.0001, early_stopping=True, learning_rate=constant, learning_rate_init=0.005, max_iter=10, n_iter_no_change=5, power_t=0.5, solver=adam; total time=  29.5s\n"
     ]
    },
    {
     "name": "stderr",
     "output_type": "stream",
     "text": [
      "/Users/sebastianlopez/miniconda3/envs/maestriamatching/lib/python3.10/site-packages/sklearn/neural_network/_multilayer_perceptron.py:546: ConvergenceWarning: lbfgs failed to converge (status=1):\n",
      "STOP: TOTAL NO. of ITERATIONS REACHED LIMIT.\n",
      "\n",
      "Increase the number of iterations (max_iter) or scale the data as shown in:\n",
      "    https://scikit-learn.org/stable/modules/preprocessing.html\n",
      "  self.n_iter_ = _check_optimize_result(\"lbfgs\", opt_res, self.max_iter)\n"
     ]
    },
    {
     "name": "stdout",
     "output_type": "stream",
     "text": [
      "[CV] END activation=identity, alpha=0.0001, early_stopping=True, learning_rate=constant, learning_rate_init=0.005, max_iter=10, n_iter_no_change=5, power_t=0.1, solver=lbfgs; total time=  28.5s\n"
     ]
    },
    {
     "name": "stderr",
     "output_type": "stream",
     "text": [
      "/Users/sebastianlopez/miniconda3/envs/maestriamatching/lib/python3.10/site-packages/sklearn/neural_network/_multilayer_perceptron.py:546: ConvergenceWarning: lbfgs failed to converge (status=1):\n",
      "STOP: TOTAL NO. of ITERATIONS REACHED LIMIT.\n",
      "\n",
      "Increase the number of iterations (max_iter) or scale the data as shown in:\n",
      "    https://scikit-learn.org/stable/modules/preprocessing.html\n",
      "  self.n_iter_ = _check_optimize_result(\"lbfgs\", opt_res, self.max_iter)\n"
     ]
    },
    {
     "name": "stdout",
     "output_type": "stream",
     "text": [
      "[CV] END activation=identity, alpha=0.0001, early_stopping=True, learning_rate=constant, learning_rate_init=0.005, max_iter=10, n_iter_no_change=5, power_t=0.1, solver=lbfgs; total time=  25.1s\n"
     ]
    },
    {
     "name": "stderr",
     "output_type": "stream",
     "text": [
      "/Users/sebastianlopez/miniconda3/envs/maestriamatching/lib/python3.10/site-packages/sklearn/neural_network/_multilayer_perceptron.py:691: ConvergenceWarning: Stochastic Optimizer: Maximum iterations (10) reached and the optimization hasn't converged yet.\n",
      "  warnings.warn(\n"
     ]
    },
    {
     "name": "stdout",
     "output_type": "stream",
     "text": [
      "[CV] END activation=identity, alpha=0.0001, early_stopping=True, learning_rate=constant, learning_rate_init=0.005, max_iter=10, n_iter_no_change=5, power_t=0.1, solver=sgd; total time=  26.2s\n"
     ]
    },
    {
     "name": "stderr",
     "output_type": "stream",
     "text": [
      "/Users/sebastianlopez/miniconda3/envs/maestriamatching/lib/python3.10/site-packages/sklearn/neural_network/_multilayer_perceptron.py:691: ConvergenceWarning: Stochastic Optimizer: Maximum iterations (10) reached and the optimization hasn't converged yet.\n",
      "  warnings.warn(\n",
      "/Users/sebastianlopez/miniconda3/envs/maestriamatching/lib/python3.10/site-packages/sklearn/neural_network/_multilayer_perceptron.py:691: ConvergenceWarning: Stochastic Optimizer: Maximum iterations (10) reached and the optimization hasn't converged yet.\n",
      "  warnings.warn(\n"
     ]
    },
    {
     "name": "stdout",
     "output_type": "stream",
     "text": [
      "[CV] END activation=identity, alpha=0.0001, early_stopping=True, learning_rate=constant, learning_rate_init=0.005, max_iter=10, n_iter_no_change=5, power_t=0.1, solver=adam; total time=  25.2s\n",
      "[CV] END activation=identity, alpha=0.0001, early_stopping=True, learning_rate=constant, learning_rate_init=0.005, max_iter=10, n_iter_no_change=5, power_t=0.1, solver=sgd; total time=  26.3s\n",
      "[CV] END activation=identity, alpha=0.0001, early_stopping=True, learning_rate=constant, learning_rate_init=0.005, max_iter=10, n_iter_no_change=5, power_t=0.1, solver=sgd; total time=  26.0s\n"
     ]
    },
    {
     "name": "stderr",
     "output_type": "stream",
     "text": [
      "/Users/sebastianlopez/miniconda3/envs/maestriamatching/lib/python3.10/site-packages/sklearn/neural_network/_multilayer_perceptron.py:691: ConvergenceWarning: Stochastic Optimizer: Maximum iterations (10) reached and the optimization hasn't converged yet.\n",
      "  warnings.warn(\n"
     ]
    },
    {
     "name": "stdout",
     "output_type": "stream",
     "text": [
      "[CV] END activation=identity, alpha=0.0001, early_stopping=True, learning_rate=constant, learning_rate_init=0.005, max_iter=10, n_iter_no_change=5, power_t=0.1, solver=adam; total time=  28.7s\n"
     ]
    },
    {
     "name": "stderr",
     "output_type": "stream",
     "text": [
      "/Users/sebastianlopez/miniconda3/envs/maestriamatching/lib/python3.10/site-packages/sklearn/neural_network/_multilayer_perceptron.py:546: ConvergenceWarning: lbfgs failed to converge (status=1):\n",
      "STOP: TOTAL NO. of ITERATIONS REACHED LIMIT.\n",
      "\n",
      "Increase the number of iterations (max_iter) or scale the data as shown in:\n",
      "    https://scikit-learn.org/stable/modules/preprocessing.html\n",
      "  self.n_iter_ = _check_optimize_result(\"lbfgs\", opt_res, self.max_iter)\n"
     ]
    },
    {
     "name": "stdout",
     "output_type": "stream",
     "text": [
      "[CV] END activation=identity, alpha=0.0001, early_stopping=True, learning_rate=constant, learning_rate_init=0.005, max_iter=10, n_iter_no_change=5, power_t=0.9, solver=lbfgs; total time=  25.3s\n"
     ]
    },
    {
     "name": "stderr",
     "output_type": "stream",
     "text": [
      "/Users/sebastianlopez/miniconda3/envs/maestriamatching/lib/python3.10/site-packages/sklearn/neural_network/_multilayer_perceptron.py:691: ConvergenceWarning: Stochastic Optimizer: Maximum iterations (10) reached and the optimization hasn't converged yet.\n",
      "  warnings.warn(\n"
     ]
    },
    {
     "name": "stdout",
     "output_type": "stream",
     "text": [
      "[CV] END activation=identity, alpha=0.0001, early_stopping=True, learning_rate=constant, learning_rate_init=0.005, max_iter=10, n_iter_no_change=5, power_t=0.1, solver=adam; total time=  28.7s\n"
     ]
    },
    {
     "name": "stderr",
     "output_type": "stream",
     "text": [
      "/Users/sebastianlopez/miniconda3/envs/maestriamatching/lib/python3.10/site-packages/sklearn/neural_network/_multilayer_perceptron.py:691: ConvergenceWarning: Stochastic Optimizer: Maximum iterations (10) reached and the optimization hasn't converged yet.\n",
      "  warnings.warn(\n"
     ]
    },
    {
     "name": "stdout",
     "output_type": "stream",
     "text": [
      "[CV] END activation=identity, alpha=0.0001, early_stopping=True, learning_rate=constant, learning_rate_init=0.005, max_iter=10, n_iter_no_change=5, power_t=0.9, solver=sgd; total time=  26.6s\n"
     ]
    },
    {
     "name": "stderr",
     "output_type": "stream",
     "text": [
      "/Users/sebastianlopez/miniconda3/envs/maestriamatching/lib/python3.10/site-packages/sklearn/neural_network/_multilayer_perceptron.py:546: ConvergenceWarning: lbfgs failed to converge (status=1):\n",
      "STOP: TOTAL NO. of ITERATIONS REACHED LIMIT.\n",
      "\n",
      "Increase the number of iterations (max_iter) or scale the data as shown in:\n",
      "    https://scikit-learn.org/stable/modules/preprocessing.html\n",
      "  self.n_iter_ = _check_optimize_result(\"lbfgs\", opt_res, self.max_iter)\n"
     ]
    },
    {
     "name": "stdout",
     "output_type": "stream",
     "text": [
      "[CV] END activation=identity, alpha=0.0001, early_stopping=True, learning_rate=constant, learning_rate_init=0.005, max_iter=10, n_iter_no_change=5, power_t=0.9, solver=lbfgs; total time=  33.7s\n"
     ]
    },
    {
     "name": "stderr",
     "output_type": "stream",
     "text": [
      "/Users/sebastianlopez/miniconda3/envs/maestriamatching/lib/python3.10/site-packages/sklearn/neural_network/_multilayer_perceptron.py:546: ConvergenceWarning: lbfgs failed to converge (status=1):\n",
      "STOP: TOTAL NO. of ITERATIONS REACHED LIMIT.\n",
      "\n",
      "Increase the number of iterations (max_iter) or scale the data as shown in:\n",
      "    https://scikit-learn.org/stable/modules/preprocessing.html\n",
      "  self.n_iter_ = _check_optimize_result(\"lbfgs\", opt_res, self.max_iter)\n"
     ]
    },
    {
     "name": "stdout",
     "output_type": "stream",
     "text": [
      "[CV] END activation=identity, alpha=0.0001, early_stopping=True, learning_rate=constant, learning_rate_init=0.005, max_iter=10, n_iter_no_change=5, power_t=0.9, solver=lbfgs; total time=  37.5s\n"
     ]
    },
    {
     "name": "stderr",
     "output_type": "stream",
     "text": [
      "/Users/sebastianlopez/miniconda3/envs/maestriamatching/lib/python3.10/site-packages/sklearn/neural_network/_multilayer_perceptron.py:691: ConvergenceWarning: Stochastic Optimizer: Maximum iterations (10) reached and the optimization hasn't converged yet.\n",
      "  warnings.warn(\n"
     ]
    },
    {
     "name": "stdout",
     "output_type": "stream",
     "text": [
      "[CV] END activation=identity, alpha=0.0001, early_stopping=True, learning_rate=constant, learning_rate_init=0.005, max_iter=10, n_iter_no_change=5, power_t=0.9, solver=sgd; total time=  26.1s\n"
     ]
    },
    {
     "name": "stderr",
     "output_type": "stream",
     "text": [
      "/Users/sebastianlopez/miniconda3/envs/maestriamatching/lib/python3.10/site-packages/sklearn/neural_network/_multilayer_perceptron.py:691: ConvergenceWarning: Stochastic Optimizer: Maximum iterations (10) reached and the optimization hasn't converged yet.\n",
      "  warnings.warn(\n"
     ]
    },
    {
     "name": "stdout",
     "output_type": "stream",
     "text": [
      "[CV] END activation=identity, alpha=0.0001, early_stopping=True, learning_rate=constant, learning_rate_init=0.005, max_iter=10, n_iter_no_change=5, power_t=0.9, solver=sgd; total time=  26.8s\n"
     ]
    },
    {
     "name": "stderr",
     "output_type": "stream",
     "text": [
      "/Users/sebastianlopez/miniconda3/envs/maestriamatching/lib/python3.10/site-packages/sklearn/neural_network/_multilayer_perceptron.py:691: ConvergenceWarning: Stochastic Optimizer: Maximum iterations (10) reached and the optimization hasn't converged yet.\n",
      "  warnings.warn(\n",
      "/Users/sebastianlopez/miniconda3/envs/maestriamatching/lib/python3.10/site-packages/sklearn/neural_network/_multilayer_perceptron.py:691: ConvergenceWarning: Stochastic Optimizer: Maximum iterations (10) reached and the optimization hasn't converged yet.\n",
      "  warnings.warn(\n"
     ]
    },
    {
     "name": "stdout",
     "output_type": "stream",
     "text": [
      "[CV] END activation=identity, alpha=0.0001, early_stopping=True, learning_rate=constant, learning_rate_init=0.005, max_iter=10, n_iter_no_change=5, power_t=0.9, solver=adam; total time=  28.9s\n",
      "[CV] END activation=identity, alpha=0.0001, early_stopping=True, learning_rate=constant, learning_rate_init=0.005, max_iter=10, n_iter_no_change=5, power_t=0.9, solver=adam; total time=  28.7s\n",
      "[CV] END activation=identity, alpha=0.0001, early_stopping=True, learning_rate=constant, learning_rate_init=0.005, max_iter=10, n_iter_no_change=5, power_t=0.9, solver=adam; total time=  28.9s\n"
     ]
    },
    {
     "name": "stderr",
     "output_type": "stream",
     "text": [
      "/Users/sebastianlopez/miniconda3/envs/maestriamatching/lib/python3.10/site-packages/sklearn/neural_network/_multilayer_perceptron.py:546: ConvergenceWarning: lbfgs failed to converge (status=1):\n",
      "STOP: TOTAL NO. of ITERATIONS REACHED LIMIT.\n",
      "\n",
      "Increase the number of iterations (max_iter) or scale the data as shown in:\n",
      "    https://scikit-learn.org/stable/modules/preprocessing.html\n",
      "  self.n_iter_ = _check_optimize_result(\"lbfgs\", opt_res, self.max_iter)\n"
     ]
    },
    {
     "name": "stdout",
     "output_type": "stream",
     "text": [
      "[CV] END activation=identity, alpha=0.0001, early_stopping=True, learning_rate=constant, learning_rate_init=0.005, max_iter=10, n_iter_no_change=5, power_t=0.001, solver=lbfgs; total time=  27.4s\n"
     ]
    },
    {
     "name": "stderr",
     "output_type": "stream",
     "text": [
      "/Users/sebastianlopez/miniconda3/envs/maestriamatching/lib/python3.10/site-packages/sklearn/neural_network/_multilayer_perceptron.py:546: ConvergenceWarning: lbfgs failed to converge (status=1):\n",
      "STOP: TOTAL NO. of ITERATIONS REACHED LIMIT.\n",
      "\n",
      "Increase the number of iterations (max_iter) or scale the data as shown in:\n",
      "    https://scikit-learn.org/stable/modules/preprocessing.html\n",
      "  self.n_iter_ = _check_optimize_result(\"lbfgs\", opt_res, self.max_iter)\n"
     ]
    },
    {
     "name": "stdout",
     "output_type": "stream",
     "text": [
      "[CV] END activation=identity, alpha=0.0001, early_stopping=True, learning_rate=constant, learning_rate_init=0.005, max_iter=10, n_iter_no_change=5, power_t=0.001, solver=lbfgs; total time=  27.7s\n"
     ]
    },
    {
     "name": "stderr",
     "output_type": "stream",
     "text": [
      "/Users/sebastianlopez/miniconda3/envs/maestriamatching/lib/python3.10/site-packages/sklearn/neural_network/_multilayer_perceptron.py:691: ConvergenceWarning: Stochastic Optimizer: Maximum iterations (10) reached and the optimization hasn't converged yet.\n",
      "  warnings.warn(\n"
     ]
    },
    {
     "name": "stdout",
     "output_type": "stream",
     "text": [
      "[CV] END activation=identity, alpha=0.0001, early_stopping=True, learning_rate=constant, learning_rate_init=0.005, max_iter=10, n_iter_no_change=5, power_t=0.001, solver=sgd; total time=  26.1s\n"
     ]
    },
    {
     "name": "stderr",
     "output_type": "stream",
     "text": [
      "/Users/sebastianlopez/miniconda3/envs/maestriamatching/lib/python3.10/site-packages/sklearn/neural_network/_multilayer_perceptron.py:691: ConvergenceWarning: Stochastic Optimizer: Maximum iterations (10) reached and the optimization hasn't converged yet.\n",
      "  warnings.warn(\n"
     ]
    },
    {
     "name": "stdout",
     "output_type": "stream",
     "text": [
      "[CV] END activation=identity, alpha=0.0001, early_stopping=True, learning_rate=constant, learning_rate_init=0.005, max_iter=10, n_iter_no_change=5, power_t=0.001, solver=sgd; total time=  25.9s\n"
     ]
    },
    {
     "name": "stderr",
     "output_type": "stream",
     "text": [
      "/Users/sebastianlopez/miniconda3/envs/maestriamatching/lib/python3.10/site-packages/sklearn/neural_network/_multilayer_perceptron.py:546: ConvergenceWarning: lbfgs failed to converge (status=1):\n",
      "STOP: TOTAL NO. of ITERATIONS REACHED LIMIT.\n",
      "\n",
      "Increase the number of iterations (max_iter) or scale the data as shown in:\n",
      "    https://scikit-learn.org/stable/modules/preprocessing.html\n",
      "  self.n_iter_ = _check_optimize_result(\"lbfgs\", opt_res, self.max_iter)\n"
     ]
    },
    {
     "name": "stdout",
     "output_type": "stream",
     "text": [
      "[CV] END activation=identity, alpha=0.0001, early_stopping=True, learning_rate=constant, learning_rate_init=0.005, max_iter=10, n_iter_no_change=5, power_t=0.001, solver=lbfgs; total time=  39.7s\n"
     ]
    },
    {
     "name": "stderr",
     "output_type": "stream",
     "text": [
      "/Users/sebastianlopez/miniconda3/envs/maestriamatching/lib/python3.10/site-packages/sklearn/neural_network/_multilayer_perceptron.py:691: ConvergenceWarning: Stochastic Optimizer: Maximum iterations (10) reached and the optimization hasn't converged yet.\n",
      "  warnings.warn(\n"
     ]
    },
    {
     "name": "stdout",
     "output_type": "stream",
     "text": [
      "[CV] END activation=identity, alpha=0.0001, early_stopping=True, learning_rate=constant, learning_rate_init=0.005, max_iter=10, n_iter_no_change=5, power_t=0.001, solver=sgd; total time=  26.8s\n"
     ]
    },
    {
     "name": "stderr",
     "output_type": "stream",
     "text": [
      "/Users/sebastianlopez/miniconda3/envs/maestriamatching/lib/python3.10/site-packages/sklearn/neural_network/_multilayer_perceptron.py:691: ConvergenceWarning: Stochastic Optimizer: Maximum iterations (10) reached and the optimization hasn't converged yet.\n",
      "  warnings.warn(\n"
     ]
    },
    {
     "name": "stdout",
     "output_type": "stream",
     "text": [
      "[CV] END activation=identity, alpha=0.0001, early_stopping=True, learning_rate=constant, learning_rate_init=0.005, max_iter=10, n_iter_no_change=5, power_t=0.001, solver=adam; total time=  28.7s\n"
     ]
    },
    {
     "name": "stderr",
     "output_type": "stream",
     "text": [
      "/Users/sebastianlopez/miniconda3/envs/maestriamatching/lib/python3.10/site-packages/sklearn/neural_network/_multilayer_perceptron.py:546: ConvergenceWarning: lbfgs failed to converge (status=1):\n",
      "STOP: TOTAL NO. of ITERATIONS REACHED LIMIT.\n",
      "\n",
      "Increase the number of iterations (max_iter) or scale the data as shown in:\n",
      "    https://scikit-learn.org/stable/modules/preprocessing.html\n",
      "  self.n_iter_ = _check_optimize_result(\"lbfgs\", opt_res, self.max_iter)\n"
     ]
    },
    {
     "name": "stdout",
     "output_type": "stream",
     "text": [
      "[CV] END activation=identity, alpha=0.0001, early_stopping=True, learning_rate=constant, learning_rate_init=0.005, max_iter=10, n_iter_no_change=5, power_t=0.005, solver=lbfgs; total time=  25.6s\n"
     ]
    },
    {
     "name": "stderr",
     "output_type": "stream",
     "text": [
      "/Users/sebastianlopez/miniconda3/envs/maestriamatching/lib/python3.10/site-packages/sklearn/neural_network/_multilayer_perceptron.py:691: ConvergenceWarning: Stochastic Optimizer: Maximum iterations (10) reached and the optimization hasn't converged yet.\n",
      "  warnings.warn(\n"
     ]
    },
    {
     "name": "stdout",
     "output_type": "stream",
     "text": [
      "[CV] END activation=identity, alpha=0.0001, early_stopping=True, learning_rate=constant, learning_rate_init=0.005, max_iter=10, n_iter_no_change=5, power_t=0.001, solver=adam; total time=  29.0s\n"
     ]
    },
    {
     "name": "stderr",
     "output_type": "stream",
     "text": [
      "/Users/sebastianlopez/miniconda3/envs/maestriamatching/lib/python3.10/site-packages/sklearn/neural_network/_multilayer_perceptron.py:691: ConvergenceWarning: Stochastic Optimizer: Maximum iterations (10) reached and the optimization hasn't converged yet.\n",
      "  warnings.warn(\n"
     ]
    },
    {
     "name": "stdout",
     "output_type": "stream",
     "text": [
      "[CV] END activation=identity, alpha=0.0001, early_stopping=True, learning_rate=constant, learning_rate_init=0.005, max_iter=10, n_iter_no_change=5, power_t=0.001, solver=adam; total time=  28.9s\n"
     ]
    },
    {
     "name": "stderr",
     "output_type": "stream",
     "text": [
      "/Users/sebastianlopez/miniconda3/envs/maestriamatching/lib/python3.10/site-packages/sklearn/neural_network/_multilayer_perceptron.py:691: ConvergenceWarning: Stochastic Optimizer: Maximum iterations (10) reached and the optimization hasn't converged yet.\n",
      "  warnings.warn(\n"
     ]
    },
    {
     "name": "stdout",
     "output_type": "stream",
     "text": [
      "[CV] END activation=identity, alpha=0.0001, early_stopping=True, learning_rate=constant, learning_rate_init=0.005, max_iter=10, n_iter_no_change=5, power_t=0.005, solver=sgd; total time=  27.3s\n"
     ]
    },
    {
     "name": "stderr",
     "output_type": "stream",
     "text": [
      "/Users/sebastianlopez/miniconda3/envs/maestriamatching/lib/python3.10/site-packages/sklearn/neural_network/_multilayer_perceptron.py:691: ConvergenceWarning: Stochastic Optimizer: Maximum iterations (10) reached and the optimization hasn't converged yet.\n",
      "  warnings.warn(\n"
     ]
    },
    {
     "name": "stdout",
     "output_type": "stream",
     "text": [
      "[CV] END activation=identity, alpha=0.0001, early_stopping=True, learning_rate=constant, learning_rate_init=0.005, max_iter=10, n_iter_no_change=5, power_t=0.005, solver=sgd; total time=  27.9s\n"
     ]
    },
    {
     "name": "stderr",
     "output_type": "stream",
     "text": [
      "/Users/sebastianlopez/miniconda3/envs/maestriamatching/lib/python3.10/site-packages/sklearn/neural_network/_multilayer_perceptron.py:691: ConvergenceWarning: Stochastic Optimizer: Maximum iterations (10) reached and the optimization hasn't converged yet.\n",
      "  warnings.warn(\n"
     ]
    },
    {
     "name": "stdout",
     "output_type": "stream",
     "text": [
      "[CV] END activation=identity, alpha=0.0001, early_stopping=True, learning_rate=constant, learning_rate_init=0.005, max_iter=10, n_iter_no_change=5, power_t=0.005, solver=sgd; total time=  27.9s\n"
     ]
    },
    {
     "name": "stderr",
     "output_type": "stream",
     "text": [
      "/Users/sebastianlopez/miniconda3/envs/maestriamatching/lib/python3.10/site-packages/sklearn/neural_network/_multilayer_perceptron.py:546: ConvergenceWarning: lbfgs failed to converge (status=1):\n",
      "STOP: TOTAL NO. of ITERATIONS REACHED LIMIT.\n",
      "\n",
      "Increase the number of iterations (max_iter) or scale the data as shown in:\n",
      "    https://scikit-learn.org/stable/modules/preprocessing.html\n",
      "  self.n_iter_ = _check_optimize_result(\"lbfgs\", opt_res, self.max_iter)\n"
     ]
    },
    {
     "name": "stdout",
     "output_type": "stream",
     "text": [
      "[CV] END activation=identity, alpha=0.0001, early_stopping=True, learning_rate=constant, learning_rate_init=0.005, max_iter=10, n_iter_no_change=5, power_t=0.005, solver=lbfgs; total time=  34.6s\n"
     ]
    },
    {
     "name": "stderr",
     "output_type": "stream",
     "text": [
      "/Users/sebastianlopez/miniconda3/envs/maestriamatching/lib/python3.10/site-packages/sklearn/neural_network/_multilayer_perceptron.py:546: ConvergenceWarning: lbfgs failed to converge (status=1):\n",
      "STOP: TOTAL NO. of ITERATIONS REACHED LIMIT.\n",
      "\n",
      "Increase the number of iterations (max_iter) or scale the data as shown in:\n",
      "    https://scikit-learn.org/stable/modules/preprocessing.html\n",
      "  self.n_iter_ = _check_optimize_result(\"lbfgs\", opt_res, self.max_iter)\n"
     ]
    },
    {
     "name": "stdout",
     "output_type": "stream",
     "text": [
      "[CV] END activation=identity, alpha=0.0001, early_stopping=True, learning_rate=constant, learning_rate_init=0.005, max_iter=10, n_iter_no_change=5, power_t=0.005, solver=lbfgs; total time=  40.8s\n"
     ]
    },
    {
     "name": "stderr",
     "output_type": "stream",
     "text": [
      "/Users/sebastianlopez/miniconda3/envs/maestriamatching/lib/python3.10/site-packages/sklearn/neural_network/_multilayer_perceptron.py:691: ConvergenceWarning: Stochastic Optimizer: Maximum iterations (10) reached and the optimization hasn't converged yet.\n",
      "  warnings.warn(\n"
     ]
    },
    {
     "name": "stdout",
     "output_type": "stream",
     "text": [
      "[CV] END activation=identity, alpha=0.0001, early_stopping=True, learning_rate=constant, learning_rate_init=0.005, max_iter=10, n_iter_no_change=5, power_t=0.005, solver=adam; total time=  30.4s\n"
     ]
    },
    {
     "name": "stderr",
     "output_type": "stream",
     "text": [
      "/Users/sebastianlopez/miniconda3/envs/maestriamatching/lib/python3.10/site-packages/sklearn/neural_network/_multilayer_perceptron.py:691: ConvergenceWarning: Stochastic Optimizer: Maximum iterations (10) reached and the optimization hasn't converged yet.\n",
      "  warnings.warn(\n"
     ]
    },
    {
     "name": "stdout",
     "output_type": "stream",
     "text": [
      "[CV] END activation=identity, alpha=0.0001, early_stopping=True, learning_rate=constant, learning_rate_init=0.005, max_iter=10, n_iter_no_change=5, power_t=0.005, solver=adam; total time=  30.7s\n"
     ]
    },
    {
     "name": "stderr",
     "output_type": "stream",
     "text": [
      "/Users/sebastianlopez/miniconda3/envs/maestriamatching/lib/python3.10/site-packages/sklearn/neural_network/_multilayer_perceptron.py:691: ConvergenceWarning: Stochastic Optimizer: Maximum iterations (10) reached and the optimization hasn't converged yet.\n",
      "  warnings.warn(\n"
     ]
    },
    {
     "name": "stdout",
     "output_type": "stream",
     "text": [
      "[CV] END activation=identity, alpha=0.0001, early_stopping=True, learning_rate=constant, learning_rate_init=0.005, max_iter=10, n_iter_no_change=5, power_t=0.005, solver=adam; total time=  30.9s\n",
      "[CV] END activation=identity, alpha=0.0001, early_stopping=True, learning_rate=constant, learning_rate_init=0.005, max_iter=20, n_iter_no_change=5, power_t=0.5, solver=adam; total time=  27.5s\n"
     ]
    },
    {
     "name": "stderr",
     "output_type": "stream",
     "text": [
      "/Users/sebastianlopez/miniconda3/envs/maestriamatching/lib/python3.10/site-packages/sklearn/neural_network/_multilayer_perceptron.py:546: ConvergenceWarning: lbfgs failed to converge (status=1):\n",
      "STOP: TOTAL NO. of ITERATIONS REACHED LIMIT.\n",
      "\n",
      "Increase the number of iterations (max_iter) or scale the data as shown in:\n",
      "    https://scikit-learn.org/stable/modules/preprocessing.html\n",
      "  self.n_iter_ = _check_optimize_result(\"lbfgs\", opt_res, self.max_iter)\n"
     ]
    },
    {
     "name": "stdout",
     "output_type": "stream",
     "text": [
      "[CV] END activation=identity, alpha=0.0001, early_stopping=True, learning_rate=constant, learning_rate_init=0.005, max_iter=20, n_iter_no_change=5, power_t=0.5, solver=lbfgs; total time=  48.2s\n"
     ]
    },
    {
     "name": "stderr",
     "output_type": "stream",
     "text": [
      "/Users/sebastianlopez/miniconda3/envs/maestriamatching/lib/python3.10/site-packages/sklearn/neural_network/_multilayer_perceptron.py:546: ConvergenceWarning: lbfgs failed to converge (status=1):\n",
      "STOP: TOTAL NO. of ITERATIONS REACHED LIMIT.\n",
      "\n",
      "Increase the number of iterations (max_iter) or scale the data as shown in:\n",
      "    https://scikit-learn.org/stable/modules/preprocessing.html\n",
      "  self.n_iter_ = _check_optimize_result(\"lbfgs\", opt_res, self.max_iter)\n"
     ]
    },
    {
     "name": "stdout",
     "output_type": "stream",
     "text": [
      "[CV] END activation=identity, alpha=0.0001, early_stopping=True, learning_rate=constant, learning_rate_init=0.005, max_iter=20, n_iter_no_change=5, power_t=0.5, solver=lbfgs; total time=  51.0s\n"
     ]
    },
    {
     "name": "stderr",
     "output_type": "stream",
     "text": [
      "/Users/sebastianlopez/miniconda3/envs/maestriamatching/lib/python3.10/site-packages/sklearn/neural_network/_multilayer_perceptron.py:546: ConvergenceWarning: lbfgs failed to converge (status=1):\n",
      "STOP: TOTAL NO. of ITERATIONS REACHED LIMIT.\n",
      "\n",
      "Increase the number of iterations (max_iter) or scale the data as shown in:\n",
      "    https://scikit-learn.org/stable/modules/preprocessing.html\n",
      "  self.n_iter_ = _check_optimize_result(\"lbfgs\", opt_res, self.max_iter)\n"
     ]
    },
    {
     "name": "stdout",
     "output_type": "stream",
     "text": [
      "[CV] END activation=identity, alpha=0.0001, early_stopping=True, learning_rate=constant, learning_rate_init=0.005, max_iter=20, n_iter_no_change=5, power_t=0.5, solver=lbfgs; total time=  50.5s\n",
      "[CV] END activation=identity, alpha=0.0001, early_stopping=True, learning_rate=constant, learning_rate_init=0.005, max_iter=20, n_iter_no_change=5, power_t=0.5, solver=adam; total time=  47.3s\n",
      "[CV] END activation=identity, alpha=0.0001, early_stopping=True, learning_rate=constant, learning_rate_init=0.005, max_iter=20, n_iter_no_change=5, power_t=0.5, solver=adam; total time=  40.9s\n",
      "[CV] END activation=identity, alpha=0.0001, early_stopping=True, learning_rate=constant, learning_rate_init=0.005, max_iter=20, n_iter_no_change=5, power_t=0.5, solver=sgd; total time=  48.8s\n"
     ]
    },
    {
     "name": "stderr",
     "output_type": "stream",
     "text": [
      "/Users/sebastianlopez/miniconda3/envs/maestriamatching/lib/python3.10/site-packages/sklearn/neural_network/_multilayer_perceptron.py:691: ConvergenceWarning: Stochastic Optimizer: Maximum iterations (20) reached and the optimization hasn't converged yet.\n",
      "  warnings.warn(\n"
     ]
    },
    {
     "name": "stdout",
     "output_type": "stream",
     "text": [
      "[CV] END activation=identity, alpha=0.0001, early_stopping=True, learning_rate=constant, learning_rate_init=0.005, max_iter=20, n_iter_no_change=5, power_t=0.5, solver=sgd; total time=  54.7s\n"
     ]
    },
    {
     "name": "stderr",
     "output_type": "stream",
     "text": [
      "/Users/sebastianlopez/miniconda3/envs/maestriamatching/lib/python3.10/site-packages/sklearn/neural_network/_multilayer_perceptron.py:691: ConvergenceWarning: Stochastic Optimizer: Maximum iterations (20) reached and the optimization hasn't converged yet.\n",
      "  warnings.warn(\n"
     ]
    },
    {
     "name": "stdout",
     "output_type": "stream",
     "text": [
      "[CV] END activation=identity, alpha=0.0001, early_stopping=True, learning_rate=constant, learning_rate_init=0.005, max_iter=20, n_iter_no_change=5, power_t=0.5, solver=sgd; total time=  54.0s\n"
     ]
    },
    {
     "name": "stderr",
     "output_type": "stream",
     "text": [
      "/Users/sebastianlopez/miniconda3/envs/maestriamatching/lib/python3.10/site-packages/sklearn/neural_network/_multilayer_perceptron.py:546: ConvergenceWarning: lbfgs failed to converge (status=1):\n",
      "STOP: TOTAL NO. of ITERATIONS REACHED LIMIT.\n",
      "\n",
      "Increase the number of iterations (max_iter) or scale the data as shown in:\n",
      "    https://scikit-learn.org/stable/modules/preprocessing.html\n",
      "  self.n_iter_ = _check_optimize_result(\"lbfgs\", opt_res, self.max_iter)\n"
     ]
    },
    {
     "name": "stdout",
     "output_type": "stream",
     "text": [
      "[CV] END activation=identity, alpha=0.0001, early_stopping=True, learning_rate=constant, learning_rate_init=0.005, max_iter=20, n_iter_no_change=5, power_t=0.1, solver=lbfgs; total time=  51.1s\n"
     ]
    },
    {
     "name": "stderr",
     "output_type": "stream",
     "text": [
      "/Users/sebastianlopez/miniconda3/envs/maestriamatching/lib/python3.10/site-packages/sklearn/neural_network/_multilayer_perceptron.py:546: ConvergenceWarning: lbfgs failed to converge (status=1):\n",
      "STOP: TOTAL NO. of ITERATIONS REACHED LIMIT.\n",
      "\n",
      "Increase the number of iterations (max_iter) or scale the data as shown in:\n",
      "    https://scikit-learn.org/stable/modules/preprocessing.html\n",
      "  self.n_iter_ = _check_optimize_result(\"lbfgs\", opt_res, self.max_iter)\n"
     ]
    },
    {
     "name": "stdout",
     "output_type": "stream",
     "text": [
      "[CV] END activation=identity, alpha=0.0001, early_stopping=True, learning_rate=constant, learning_rate_init=0.005, max_iter=20, n_iter_no_change=5, power_t=0.1, solver=lbfgs; total time=  48.9s\n",
      "[CV] END activation=identity, alpha=0.0001, early_stopping=True, learning_rate=constant, learning_rate_init=0.005, max_iter=20, n_iter_no_change=5, power_t=0.1, solver=adam; total time=  29.3s\n"
     ]
    },
    {
     "name": "stderr",
     "output_type": "stream",
     "text": [
      "/Users/sebastianlopez/miniconda3/envs/maestriamatching/lib/python3.10/site-packages/sklearn/neural_network/_multilayer_perceptron.py:546: ConvergenceWarning: lbfgs failed to converge (status=1):\n",
      "STOP: TOTAL NO. of ITERATIONS REACHED LIMIT.\n",
      "\n",
      "Increase the number of iterations (max_iter) or scale the data as shown in:\n",
      "    https://scikit-learn.org/stable/modules/preprocessing.html\n",
      "  self.n_iter_ = _check_optimize_result(\"lbfgs\", opt_res, self.max_iter)\n"
     ]
    },
    {
     "name": "stdout",
     "output_type": "stream",
     "text": [
      "[CV] END activation=identity, alpha=0.0001, early_stopping=True, learning_rate=constant, learning_rate_init=0.005, max_iter=20, n_iter_no_change=5, power_t=0.1, solver=lbfgs; total time=  52.9s\n"
     ]
    },
    {
     "name": "stderr",
     "output_type": "stream",
     "text": [
      "/Users/sebastianlopez/miniconda3/envs/maestriamatching/lib/python3.10/site-packages/sklearn/neural_network/_multilayer_perceptron.py:691: ConvergenceWarning: Stochastic Optimizer: Maximum iterations (20) reached and the optimization hasn't converged yet.\n",
      "  warnings.warn(\n"
     ]
    },
    {
     "name": "stdout",
     "output_type": "stream",
     "text": [
      "[CV] END activation=identity, alpha=0.0001, early_stopping=True, learning_rate=constant, learning_rate_init=0.005, max_iter=20, n_iter_no_change=5, power_t=0.1, solver=sgd; total time=  53.2s\n"
     ]
    },
    {
     "name": "stderr",
     "output_type": "stream",
     "text": [
      "/Users/sebastianlopez/miniconda3/envs/maestriamatching/lib/python3.10/site-packages/sklearn/neural_network/_multilayer_perceptron.py:691: ConvergenceWarning: Stochastic Optimizer: Maximum iterations (20) reached and the optimization hasn't converged yet.\n",
      "  warnings.warn(\n"
     ]
    },
    {
     "name": "stdout",
     "output_type": "stream",
     "text": [
      "[CV] END activation=identity, alpha=0.0001, early_stopping=True, learning_rate=constant, learning_rate_init=0.005, max_iter=20, n_iter_no_change=5, power_t=0.1, solver=sgd; total time=  53.8s\n",
      "[CV] END activation=identity, alpha=0.0001, early_stopping=True, learning_rate=constant, learning_rate_init=0.005, max_iter=20, n_iter_no_change=5, power_t=0.1, solver=adam; total time=  43.6s\n"
     ]
    },
    {
     "name": "stderr",
     "output_type": "stream",
     "text": [
      "/Users/sebastianlopez/miniconda3/envs/maestriamatching/lib/python3.10/site-packages/sklearn/neural_network/_multilayer_perceptron.py:691: ConvergenceWarning: Stochastic Optimizer: Maximum iterations (20) reached and the optimization hasn't converged yet.\n",
      "  warnings.warn(\n"
     ]
    },
    {
     "name": "stdout",
     "output_type": "stream",
     "text": [
      "[CV] END activation=identity, alpha=0.0001, early_stopping=True, learning_rate=constant, learning_rate_init=0.005, max_iter=20, n_iter_no_change=5, power_t=0.1, solver=sgd; total time=  53.1s\n"
     ]
    },
    {
     "name": "stderr",
     "output_type": "stream",
     "text": [
      "/Users/sebastianlopez/miniconda3/envs/maestriamatching/lib/python3.10/site-packages/sklearn/neural_network/_multilayer_perceptron.py:546: ConvergenceWarning: lbfgs failed to converge (status=1):\n",
      "STOP: TOTAL NO. of ITERATIONS REACHED LIMIT.\n",
      "\n",
      "Increase the number of iterations (max_iter) or scale the data as shown in:\n",
      "    https://scikit-learn.org/stable/modules/preprocessing.html\n",
      "  self.n_iter_ = _check_optimize_result(\"lbfgs\", opt_res, self.max_iter)\n"
     ]
    },
    {
     "name": "stdout",
     "output_type": "stream",
     "text": [
      "[CV] END activation=identity, alpha=0.0001, early_stopping=True, learning_rate=constant, learning_rate_init=0.005, max_iter=20, n_iter_no_change=5, power_t=0.9, solver=lbfgs; total time=  46.9s\n",
      "[CV] END activation=identity, alpha=0.0001, early_stopping=True, learning_rate=constant, learning_rate_init=0.005, max_iter=20, n_iter_no_change=5, power_t=0.1, solver=adam; total time=  48.9s\n"
     ]
    },
    {
     "name": "stderr",
     "output_type": "stream",
     "text": [
      "/Users/sebastianlopez/miniconda3/envs/maestriamatching/lib/python3.10/site-packages/sklearn/neural_network/_multilayer_perceptron.py:546: ConvergenceWarning: lbfgs failed to converge (status=1):\n",
      "STOP: TOTAL NO. of ITERATIONS REACHED LIMIT.\n",
      "\n",
      "Increase the number of iterations (max_iter) or scale the data as shown in:\n",
      "    https://scikit-learn.org/stable/modules/preprocessing.html\n",
      "  self.n_iter_ = _check_optimize_result(\"lbfgs\", opt_res, self.max_iter)\n"
     ]
    },
    {
     "name": "stdout",
     "output_type": "stream",
     "text": [
      "[CV] END activation=identity, alpha=0.0001, early_stopping=True, learning_rate=constant, learning_rate_init=0.005, max_iter=20, n_iter_no_change=5, power_t=0.9, solver=lbfgs; total time=  46.9s\n",
      "[CV] END activation=identity, alpha=0.0001, early_stopping=True, learning_rate=constant, learning_rate_init=0.005, max_iter=20, n_iter_no_change=5, power_t=0.9, solver=sgd; total time=  39.9s\n"
     ]
    },
    {
     "name": "stderr",
     "output_type": "stream",
     "text": [
      "/Users/sebastianlopez/miniconda3/envs/maestriamatching/lib/python3.10/site-packages/sklearn/neural_network/_multilayer_perceptron.py:546: ConvergenceWarning: lbfgs failed to converge (status=1):\n",
      "STOP: TOTAL NO. of ITERATIONS REACHED LIMIT.\n",
      "\n",
      "Increase the number of iterations (max_iter) or scale the data as shown in:\n",
      "    https://scikit-learn.org/stable/modules/preprocessing.html\n",
      "  self.n_iter_ = _check_optimize_result(\"lbfgs\", opt_res, self.max_iter)\n"
     ]
    },
    {
     "name": "stdout",
     "output_type": "stream",
     "text": [
      "[CV] END activation=identity, alpha=0.0001, early_stopping=True, learning_rate=constant, learning_rate_init=0.005, max_iter=20, n_iter_no_change=5, power_t=0.9, solver=lbfgs; total time=  46.7s\n",
      "[CV] END activation=identity, alpha=0.0001, early_stopping=True, learning_rate=constant, learning_rate_init=0.005, max_iter=20, n_iter_no_change=5, power_t=0.9, solver=adam; total time=  35.3s\n",
      "[CV] END activation=identity, alpha=0.0001, early_stopping=True, learning_rate=constant, learning_rate_init=0.005, max_iter=20, n_iter_no_change=5, power_t=0.9, solver=sgd; total time=  43.2s\n"
     ]
    },
    {
     "name": "stderr",
     "output_type": "stream",
     "text": [
      "/Users/sebastianlopez/miniconda3/envs/maestriamatching/lib/python3.10/site-packages/sklearn/neural_network/_multilayer_perceptron.py:691: ConvergenceWarning: Stochastic Optimizer: Maximum iterations (20) reached and the optimization hasn't converged yet.\n",
      "  warnings.warn(\n"
     ]
    },
    {
     "name": "stdout",
     "output_type": "stream",
     "text": [
      "[CV] END activation=identity, alpha=0.0001, early_stopping=True, learning_rate=constant, learning_rate_init=0.005, max_iter=20, n_iter_no_change=5, power_t=0.9, solver=sgd; total time=  54.1s\n",
      "[CV] END activation=identity, alpha=0.0001, early_stopping=True, learning_rate=constant, learning_rate_init=0.005, max_iter=20, n_iter_no_change=5, power_t=0.9, solver=adam; total time=  44.1s\n"
     ]
    },
    {
     "name": "stderr",
     "output_type": "stream",
     "text": [
      "/Users/sebastianlopez/miniconda3/envs/maestriamatching/lib/python3.10/site-packages/sklearn/neural_network/_multilayer_perceptron.py:546: ConvergenceWarning: lbfgs failed to converge (status=1):\n",
      "STOP: TOTAL NO. of ITERATIONS REACHED LIMIT.\n",
      "\n",
      "Increase the number of iterations (max_iter) or scale the data as shown in:\n",
      "    https://scikit-learn.org/stable/modules/preprocessing.html\n",
      "  self.n_iter_ = _check_optimize_result(\"lbfgs\", opt_res, self.max_iter)\n"
     ]
    },
    {
     "name": "stdout",
     "output_type": "stream",
     "text": [
      "[CV] END activation=identity, alpha=0.0001, early_stopping=True, learning_rate=constant, learning_rate_init=0.005, max_iter=20, n_iter_no_change=5, power_t=0.001, solver=lbfgs; total time=  48.9s\n",
      "[CV] END activation=identity, alpha=0.0001, early_stopping=True, learning_rate=constant, learning_rate_init=0.005, max_iter=20, n_iter_no_change=5, power_t=0.001, solver=sgd; total time=  38.4s\n"
     ]
    },
    {
     "name": "stderr",
     "output_type": "stream",
     "text": [
      "/Users/sebastianlopez/miniconda3/envs/maestriamatching/lib/python3.10/site-packages/sklearn/neural_network/_multilayer_perceptron.py:546: ConvergenceWarning: lbfgs failed to converge (status=1):\n",
      "STOP: TOTAL NO. of ITERATIONS REACHED LIMIT.\n",
      "\n",
      "Increase the number of iterations (max_iter) or scale the data as shown in:\n",
      "    https://scikit-learn.org/stable/modules/preprocessing.html\n",
      "  self.n_iter_ = _check_optimize_result(\"lbfgs\", opt_res, self.max_iter)\n"
     ]
    },
    {
     "name": "stdout",
     "output_type": "stream",
     "text": [
      "[CV] END activation=identity, alpha=0.0001, early_stopping=True, learning_rate=constant, learning_rate_init=0.005, max_iter=20, n_iter_no_change=5, power_t=0.001, solver=lbfgs; total time=  49.3s\n"
     ]
    },
    {
     "name": "stderr",
     "output_type": "stream",
     "text": [
      "/Users/sebastianlopez/miniconda3/envs/maestriamatching/lib/python3.10/site-packages/sklearn/neural_network/_multilayer_perceptron.py:546: ConvergenceWarning: lbfgs failed to converge (status=1):\n",
      "STOP: TOTAL NO. of ITERATIONS REACHED LIMIT.\n",
      "\n",
      "Increase the number of iterations (max_iter) or scale the data as shown in:\n",
      "    https://scikit-learn.org/stable/modules/preprocessing.html\n",
      "  self.n_iter_ = _check_optimize_result(\"lbfgs\", opt_res, self.max_iter)\n"
     ]
    },
    {
     "name": "stdout",
     "output_type": "stream",
     "text": [
      "[CV] END activation=identity, alpha=0.0001, early_stopping=True, learning_rate=constant, learning_rate_init=0.005, max_iter=20, n_iter_no_change=5, power_t=0.001, solver=lbfgs; total time=  51.8s\n"
     ]
    },
    {
     "name": "stderr",
     "output_type": "stream",
     "text": [
      "/Users/sebastianlopez/miniconda3/envs/maestriamatching/lib/python3.10/site-packages/sklearn/neural_network/_multilayer_perceptron.py:691: ConvergenceWarning: Stochastic Optimizer: Maximum iterations (20) reached and the optimization hasn't converged yet.\n",
      "  warnings.warn(\n"
     ]
    },
    {
     "name": "stdout",
     "output_type": "stream",
     "text": [
      "[CV] END activation=identity, alpha=0.0001, early_stopping=True, learning_rate=constant, learning_rate_init=0.005, max_iter=20, n_iter_no_change=5, power_t=0.9, solver=adam; total time=  58.7s\n",
      "[CV] END activation=identity, alpha=0.0001, early_stopping=True, learning_rate=constant, learning_rate_init=0.005, max_iter=20, n_iter_no_change=5, power_t=0.001, solver=sgd; total time=  49.0s\n"
     ]
    },
    {
     "name": "stderr",
     "output_type": "stream",
     "text": [
      "/Users/sebastianlopez/miniconda3/envs/maestriamatching/lib/python3.10/site-packages/sklearn/neural_network/_multilayer_perceptron.py:691: ConvergenceWarning: Stochastic Optimizer: Maximum iterations (20) reached and the optimization hasn't converged yet.\n",
      "  warnings.warn(\n"
     ]
    },
    {
     "name": "stdout",
     "output_type": "stream",
     "text": [
      "[CV] END activation=identity, alpha=0.0001, early_stopping=True, learning_rate=constant, learning_rate_init=0.005, max_iter=20, n_iter_no_change=5, power_t=0.001, solver=sgd; total time=  53.4s\n",
      "[CV] END activation=identity, alpha=0.0001, early_stopping=True, learning_rate=constant, learning_rate_init=0.005, max_iter=20, n_iter_no_change=5, power_t=0.001, solver=adam; total time=  40.7s\n",
      "[CV] END activation=identity, alpha=0.0001, early_stopping=True, learning_rate=constant, learning_rate_init=0.005, max_iter=20, n_iter_no_change=5, power_t=0.001, solver=adam; total time=  43.1s\n",
      "[CV] END activation=identity, alpha=0.0001, early_stopping=True, learning_rate=constant, learning_rate_init=0.005, max_iter=20, n_iter_no_change=5, power_t=0.001, solver=adam; total time=  45.9s\n"
     ]
    },
    {
     "name": "stderr",
     "output_type": "stream",
     "text": [
      "/Users/sebastianlopez/miniconda3/envs/maestriamatching/lib/python3.10/site-packages/sklearn/neural_network/_multilayer_perceptron.py:546: ConvergenceWarning: lbfgs failed to converge (status=1):\n",
      "STOP: TOTAL NO. of ITERATIONS REACHED LIMIT.\n",
      "\n",
      "Increase the number of iterations (max_iter) or scale the data as shown in:\n",
      "    https://scikit-learn.org/stable/modules/preprocessing.html\n",
      "  self.n_iter_ = _check_optimize_result(\"lbfgs\", opt_res, self.max_iter)\n"
     ]
    },
    {
     "name": "stdout",
     "output_type": "stream",
     "text": [
      "[CV] END activation=identity, alpha=0.0001, early_stopping=True, learning_rate=constant, learning_rate_init=0.005, max_iter=20, n_iter_no_change=5, power_t=0.005, solver=lbfgs; total time=  49.7s\n",
      "[CV] END activation=identity, alpha=0.0001, early_stopping=True, learning_rate=constant, learning_rate_init=0.005, max_iter=20, n_iter_no_change=5, power_t=0.005, solver=sgd; total time=  42.3s\n"
     ]
    },
    {
     "name": "stderr",
     "output_type": "stream",
     "text": [
      "/Users/sebastianlopez/miniconda3/envs/maestriamatching/lib/python3.10/site-packages/sklearn/neural_network/_multilayer_perceptron.py:546: ConvergenceWarning: lbfgs failed to converge (status=1):\n",
      "STOP: TOTAL NO. of ITERATIONS REACHED LIMIT.\n",
      "\n",
      "Increase the number of iterations (max_iter) or scale the data as shown in:\n",
      "    https://scikit-learn.org/stable/modules/preprocessing.html\n",
      "  self.n_iter_ = _check_optimize_result(\"lbfgs\", opt_res, self.max_iter)\n"
     ]
    },
    {
     "name": "stdout",
     "output_type": "stream",
     "text": [
      "[CV] END activation=identity, alpha=0.0001, early_stopping=True, learning_rate=constant, learning_rate_init=0.005, max_iter=20, n_iter_no_change=5, power_t=0.005, solver=lbfgs; total time=  47.9s\n"
     ]
    },
    {
     "name": "stderr",
     "output_type": "stream",
     "text": [
      "/Users/sebastianlopez/miniconda3/envs/maestriamatching/lib/python3.10/site-packages/sklearn/neural_network/_multilayer_perceptron.py:546: ConvergenceWarning: lbfgs failed to converge (status=1):\n",
      "STOP: TOTAL NO. of ITERATIONS REACHED LIMIT.\n",
      "\n",
      "Increase the number of iterations (max_iter) or scale the data as shown in:\n",
      "    https://scikit-learn.org/stable/modules/preprocessing.html\n",
      "  self.n_iter_ = _check_optimize_result(\"lbfgs\", opt_res, self.max_iter)\n"
     ]
    },
    {
     "name": "stdout",
     "output_type": "stream",
     "text": [
      "[CV] END activation=identity, alpha=0.0001, early_stopping=True, learning_rate=constant, learning_rate_init=0.005, max_iter=20, n_iter_no_change=5, power_t=0.005, solver=lbfgs; total time=  48.1s\n",
      "[CV] END activation=identity, alpha=0.0001, early_stopping=True, learning_rate=constant, learning_rate_init=0.005, max_iter=20, n_iter_no_change=5, power_t=0.005, solver=adam; total time=  42.8s\n",
      "[CV] END activation=identity, alpha=0.0001, early_stopping=True, learning_rate=constant, learning_rate_init=0.005, max_iter=20, n_iter_no_change=5, power_t=0.005, solver=adam; total time=  45.5s\n"
     ]
    },
    {
     "name": "stderr",
     "output_type": "stream",
     "text": [
      "/Users/sebastianlopez/miniconda3/envs/maestriamatching/lib/python3.10/site-packages/sklearn/neural_network/_multilayer_perceptron.py:691: ConvergenceWarning: Stochastic Optimizer: Maximum iterations (20) reached and the optimization hasn't converged yet.\n",
      "  warnings.warn(\n"
     ]
    },
    {
     "name": "stdout",
     "output_type": "stream",
     "text": [
      "[CV] END activation=identity, alpha=0.0001, early_stopping=True, learning_rate=constant, learning_rate_init=0.005, max_iter=20, n_iter_no_change=5, power_t=0.005, solver=sgd; total time=  52.3s\n"
     ]
    },
    {
     "name": "stderr",
     "output_type": "stream",
     "text": [
      "/Users/sebastianlopez/miniconda3/envs/maestriamatching/lib/python3.10/site-packages/sklearn/neural_network/_multilayer_perceptron.py:691: ConvergenceWarning: Stochastic Optimizer: Maximum iterations (20) reached and the optimization hasn't converged yet.\n",
      "  warnings.warn(\n"
     ]
    },
    {
     "name": "stdout",
     "output_type": "stream",
     "text": [
      "[CV] END activation=identity, alpha=0.0001, early_stopping=True, learning_rate=constant, learning_rate_init=0.005, max_iter=20, n_iter_no_change=5, power_t=0.005, solver=sgd; total time=  53.0s\n"
     ]
    },
    {
     "name": "stderr",
     "output_type": "stream",
     "text": [
      "/Users/sebastianlopez/miniconda3/envs/maestriamatching/lib/python3.10/site-packages/sklearn/neural_network/_multilayer_perceptron.py:691: ConvergenceWarning: Stochastic Optimizer: Maximum iterations (20) reached and the optimization hasn't converged yet.\n",
      "  warnings.warn(\n"
     ]
    },
    {
     "name": "stdout",
     "output_type": "stream",
     "text": [
      "[CV] END activation=identity, alpha=0.0001, early_stopping=True, learning_rate=constant, learning_rate_init=0.005, max_iter=20, n_iter_no_change=5, power_t=0.005, solver=adam; total time=  56.6s\n",
      "[CV] END activation=identity, alpha=0.0001, early_stopping=True, learning_rate=constant, learning_rate_init=0.005, max_iter=50, n_iter_no_change=5, power_t=0.5, solver=sgd; total time=  42.2s\n",
      "[CV] END activation=identity, alpha=0.0001, early_stopping=True, learning_rate=constant, learning_rate_init=0.005, max_iter=50, n_iter_no_change=5, power_t=0.5, solver=adam; total time=  37.0s\n",
      "[CV] END activation=identity, alpha=0.0001, early_stopping=True, learning_rate=constant, learning_rate_init=0.005, max_iter=50, n_iter_no_change=5, power_t=0.5, solver=sgd; total time=  50.1s\n",
      "[CV] END activation=identity, alpha=0.0001, early_stopping=True, learning_rate=constant, learning_rate_init=0.005, max_iter=50, n_iter_no_change=5, power_t=0.5, solver=adam; total time=  53.8s\n",
      "[CV] END activation=identity, alpha=0.0001, early_stopping=True, learning_rate=constant, learning_rate_init=0.005, max_iter=50, n_iter_no_change=5, power_t=0.5, solver=adam; total time=  50.6s\n",
      "[CV] END activation=identity, alpha=0.0001, early_stopping=True, learning_rate=constant, learning_rate_init=0.005, max_iter=50, n_iter_no_change=5, power_t=0.5, solver=sgd; total time= 1.1min\n"
     ]
    },
    {
     "name": "stderr",
     "output_type": "stream",
     "text": [
      "/Users/sebastianlopez/miniconda3/envs/maestriamatching/lib/python3.10/site-packages/sklearn/neural_network/_multilayer_perceptron.py:546: ConvergenceWarning: lbfgs failed to converge (status=1):\n",
      "STOP: TOTAL NO. of ITERATIONS REACHED LIMIT.\n",
      "\n",
      "Increase the number of iterations (max_iter) or scale the data as shown in:\n",
      "    https://scikit-learn.org/stable/modules/preprocessing.html\n",
      "  self.n_iter_ = _check_optimize_result(\"lbfgs\", opt_res, self.max_iter)\n"
     ]
    },
    {
     "name": "stdout",
     "output_type": "stream",
     "text": [
      "[CV] END activation=identity, alpha=0.0001, early_stopping=True, learning_rate=constant, learning_rate_init=0.005, max_iter=50, n_iter_no_change=5, power_t=0.5, solver=lbfgs; total time= 2.0min\n"
     ]
    },
    {
     "name": "stderr",
     "output_type": "stream",
     "text": [
      "/Users/sebastianlopez/miniconda3/envs/maestriamatching/lib/python3.10/site-packages/sklearn/neural_network/_multilayer_perceptron.py:546: ConvergenceWarning: lbfgs failed to converge (status=1):\n",
      "STOP: TOTAL NO. of ITERATIONS REACHED LIMIT.\n",
      "\n",
      "Increase the number of iterations (max_iter) or scale the data as shown in:\n",
      "    https://scikit-learn.org/stable/modules/preprocessing.html\n",
      "  self.n_iter_ = _check_optimize_result(\"lbfgs\", opt_res, self.max_iter)\n"
     ]
    },
    {
     "name": "stdout",
     "output_type": "stream",
     "text": [
      "[CV] END activation=identity, alpha=0.0001, early_stopping=True, learning_rate=constant, learning_rate_init=0.005, max_iter=50, n_iter_no_change=5, power_t=0.1, solver=sgd; total time=  54.6s\n",
      "[CV] END activation=identity, alpha=0.0001, early_stopping=True, learning_rate=constant, learning_rate_init=0.005, max_iter=50, n_iter_no_change=5, power_t=0.5, solver=lbfgs; total time= 1.9min\n",
      "[CV] END activation=identity, alpha=0.0001, early_stopping=True, learning_rate=constant, learning_rate_init=0.005, max_iter=50, n_iter_no_change=5, power_t=0.1, solver=adam; total time=  34.7s\n"
     ]
    },
    {
     "name": "stderr",
     "output_type": "stream",
     "text": [
      "/Users/sebastianlopez/miniconda3/envs/maestriamatching/lib/python3.10/site-packages/sklearn/neural_network/_multilayer_perceptron.py:546: ConvergenceWarning: lbfgs failed to converge (status=1):\n",
      "STOP: TOTAL NO. of ITERATIONS REACHED LIMIT.\n",
      "\n",
      "Increase the number of iterations (max_iter) or scale the data as shown in:\n",
      "    https://scikit-learn.org/stable/modules/preprocessing.html\n",
      "  self.n_iter_ = _check_optimize_result(\"lbfgs\", opt_res, self.max_iter)\n"
     ]
    },
    {
     "name": "stdout",
     "output_type": "stream",
     "text": [
      "[CV] END activation=identity, alpha=0.0001, early_stopping=True, learning_rate=constant, learning_rate_init=0.005, max_iter=50, n_iter_no_change=5, power_t=0.5, solver=lbfgs; total time= 1.8min\n",
      "[CV] END activation=identity, alpha=0.0001, early_stopping=True, learning_rate=constant, learning_rate_init=0.005, max_iter=50, n_iter_no_change=5, power_t=0.1, solver=adam; total time=  58.8s\n",
      "[CV] END activation=identity, alpha=0.0001, early_stopping=True, learning_rate=constant, learning_rate_init=0.005, max_iter=50, n_iter_no_change=5, power_t=0.1, solver=sgd; total time= 1.0min\n",
      "[CV] END activation=identity, alpha=0.0001, early_stopping=True, learning_rate=constant, learning_rate_init=0.005, max_iter=50, n_iter_no_change=5, power_t=0.1, solver=sgd; total time= 1.2min\n"
     ]
    },
    {
     "name": "stderr",
     "output_type": "stream",
     "text": [
      "/Users/sebastianlopez/miniconda3/envs/maestriamatching/lib/python3.10/site-packages/sklearn/neural_network/_multilayer_perceptron.py:546: ConvergenceWarning: lbfgs failed to converge (status=1):\n",
      "STOP: TOTAL NO. of ITERATIONS REACHED LIMIT.\n",
      "\n",
      "Increase the number of iterations (max_iter) or scale the data as shown in:\n",
      "    https://scikit-learn.org/stable/modules/preprocessing.html\n",
      "  self.n_iter_ = _check_optimize_result(\"lbfgs\", opt_res, self.max_iter)\n"
     ]
    },
    {
     "name": "stdout",
     "output_type": "stream",
     "text": [
      "[CV] END activation=identity, alpha=0.0001, early_stopping=True, learning_rate=constant, learning_rate_init=0.005, max_iter=50, n_iter_no_change=5, power_t=0.1, solver=lbfgs; total time= 1.8min\n"
     ]
    },
    {
     "name": "stderr",
     "output_type": "stream",
     "text": [
      "/Users/sebastianlopez/miniconda3/envs/maestriamatching/lib/python3.10/site-packages/sklearn/neural_network/_multilayer_perceptron.py:546: ConvergenceWarning: lbfgs failed to converge (status=1):\n",
      "STOP: TOTAL NO. of ITERATIONS REACHED LIMIT.\n",
      "\n",
      "Increase the number of iterations (max_iter) or scale the data as shown in:\n",
      "    https://scikit-learn.org/stable/modules/preprocessing.html\n",
      "  self.n_iter_ = _check_optimize_result(\"lbfgs\", opt_res, self.max_iter)\n"
     ]
    },
    {
     "name": "stdout",
     "output_type": "stream",
     "text": [
      "[CV] END activation=identity, alpha=0.0001, early_stopping=True, learning_rate=constant, learning_rate_init=0.005, max_iter=50, n_iter_no_change=5, power_t=0.1, solver=lbfgs; total time= 1.9min\n",
      "[CV] END activation=identity, alpha=0.0001, early_stopping=True, learning_rate=constant, learning_rate_init=0.005, max_iter=50, n_iter_no_change=5, power_t=0.9, solver=adam; total time=  24.9s\n",
      "[CV] END activation=identity, alpha=0.0001, early_stopping=True, learning_rate=constant, learning_rate_init=0.005, max_iter=50, n_iter_no_change=5, power_t=0.9, solver=sgd; total time=  42.8s\n",
      "[CV] END activation=identity, alpha=0.0001, early_stopping=True, learning_rate=constant, learning_rate_init=0.005, max_iter=50, n_iter_no_change=5, power_t=0.9, solver=sgd; total time=  32.6s\n",
      "[CV] END activation=identity, alpha=0.0001, early_stopping=True, learning_rate=constant, learning_rate_init=0.005, max_iter=50, n_iter_no_change=5, power_t=0.9, solver=adam; total time=  35.3s\n",
      "[CV] END activation=identity, alpha=0.0001, early_stopping=True, learning_rate=constant, learning_rate_init=0.005, max_iter=50, n_iter_no_change=5, power_t=0.1, solver=adam; total time=  57.1s\n"
     ]
    },
    {
     "name": "stderr",
     "output_type": "stream",
     "text": [
      "/Users/sebastianlopez/miniconda3/envs/maestriamatching/lib/python3.10/site-packages/sklearn/neural_network/_multilayer_perceptron.py:546: ConvergenceWarning: lbfgs failed to converge (status=1):\n",
      "STOP: TOTAL NO. of ITERATIONS REACHED LIMIT.\n",
      "\n",
      "Increase the number of iterations (max_iter) or scale the data as shown in:\n",
      "    https://scikit-learn.org/stable/modules/preprocessing.html\n",
      "  self.n_iter_ = _check_optimize_result(\"lbfgs\", opt_res, self.max_iter)\n"
     ]
    },
    {
     "name": "stdout",
     "output_type": "stream",
     "text": [
      "[CV] END activation=identity, alpha=0.0001, early_stopping=True, learning_rate=constant, learning_rate_init=0.005, max_iter=50, n_iter_no_change=5, power_t=0.1, solver=lbfgs; total time= 1.9min\n",
      "[CV] END activation=identity, alpha=0.0001, early_stopping=True, learning_rate=constant, learning_rate_init=0.005, max_iter=50, n_iter_no_change=5, power_t=0.9, solver=sgd; total time=  52.3s\n",
      "[CV] END activation=identity, alpha=0.0001, early_stopping=True, learning_rate=constant, learning_rate_init=0.005, max_iter=50, n_iter_no_change=5, power_t=0.001, solver=adam; total time=  27.9s\n",
      "[CV] END activation=identity, alpha=0.0001, early_stopping=True, learning_rate=constant, learning_rate_init=0.005, max_iter=50, n_iter_no_change=5, power_t=0.9, solver=adam; total time= 1.0min\n"
     ]
    },
    {
     "name": "stderr",
     "output_type": "stream",
     "text": [
      "/Users/sebastianlopez/miniconda3/envs/maestriamatching/lib/python3.10/site-packages/sklearn/neural_network/_multilayer_perceptron.py:546: ConvergenceWarning: lbfgs failed to converge (status=1):\n",
      "STOP: TOTAL NO. of ITERATIONS REACHED LIMIT.\n",
      "\n",
      "Increase the number of iterations (max_iter) or scale the data as shown in:\n",
      "    https://scikit-learn.org/stable/modules/preprocessing.html\n",
      "  self.n_iter_ = _check_optimize_result(\"lbfgs\", opt_res, self.max_iter)\n"
     ]
    },
    {
     "name": "stdout",
     "output_type": "stream",
     "text": [
      "[CV] END activation=identity, alpha=0.0001, early_stopping=True, learning_rate=constant, learning_rate_init=0.005, max_iter=50, n_iter_no_change=5, power_t=0.9, solver=lbfgs; total time= 1.9min\n"
     ]
    },
    {
     "name": "stderr",
     "output_type": "stream",
     "text": [
      "/Users/sebastianlopez/miniconda3/envs/maestriamatching/lib/python3.10/site-packages/sklearn/neural_network/_multilayer_perceptron.py:546: ConvergenceWarning: lbfgs failed to converge (status=1):\n",
      "STOP: TOTAL NO. of ITERATIONS REACHED LIMIT.\n",
      "\n",
      "Increase the number of iterations (max_iter) or scale the data as shown in:\n",
      "    https://scikit-learn.org/stable/modules/preprocessing.html\n",
      "  self.n_iter_ = _check_optimize_result(\"lbfgs\", opt_res, self.max_iter)\n"
     ]
    },
    {
     "name": "stdout",
     "output_type": "stream",
     "text": [
      "[CV] END activation=identity, alpha=0.0001, early_stopping=True, learning_rate=constant, learning_rate_init=0.005, max_iter=50, n_iter_no_change=5, power_t=0.9, solver=lbfgs; total time= 1.9min\n",
      "[CV] END activation=identity, alpha=0.0001, early_stopping=True, learning_rate=constant, learning_rate_init=0.005, max_iter=50, n_iter_no_change=5, power_t=0.001, solver=sgd; total time= 1.0min\n",
      "[CV] END activation=identity, alpha=0.0001, early_stopping=True, learning_rate=constant, learning_rate_init=0.005, max_iter=50, n_iter_no_change=5, power_t=0.001, solver=sgd; total time= 1.0min\n",
      "[CV] END activation=identity, alpha=0.0001, early_stopping=True, learning_rate=constant, learning_rate_init=0.005, max_iter=50, n_iter_no_change=5, power_t=0.001, solver=sgd; total time=  58.6s\n"
     ]
    },
    {
     "name": "stderr",
     "output_type": "stream",
     "text": [
      "/Users/sebastianlopez/miniconda3/envs/maestriamatching/lib/python3.10/site-packages/sklearn/neural_network/_multilayer_perceptron.py:546: ConvergenceWarning: lbfgs failed to converge (status=1):\n",
      "STOP: TOTAL NO. of ITERATIONS REACHED LIMIT.\n",
      "\n",
      "Increase the number of iterations (max_iter) or scale the data as shown in:\n",
      "    https://scikit-learn.org/stable/modules/preprocessing.html\n",
      "  self.n_iter_ = _check_optimize_result(\"lbfgs\", opt_res, self.max_iter)\n"
     ]
    },
    {
     "name": "stdout",
     "output_type": "stream",
     "text": [
      "[CV] END activation=identity, alpha=0.0001, early_stopping=True, learning_rate=constant, learning_rate_init=0.005, max_iter=50, n_iter_no_change=5, power_t=0.9, solver=lbfgs; total time= 2.0min\n",
      "[CV] END activation=identity, alpha=0.0001, early_stopping=True, learning_rate=constant, learning_rate_init=0.005, max_iter=50, n_iter_no_change=5, power_t=0.001, solver=adam; total time=  37.0s\n",
      "[CV] END activation=identity, alpha=0.0001, early_stopping=True, learning_rate=constant, learning_rate_init=0.005, max_iter=50, n_iter_no_change=5, power_t=0.005, solver=sgd; total time=  45.2s\n"
     ]
    },
    {
     "name": "stderr",
     "output_type": "stream",
     "text": [
      "/Users/sebastianlopez/miniconda3/envs/maestriamatching/lib/python3.10/site-packages/sklearn/neural_network/_multilayer_perceptron.py:546: ConvergenceWarning: lbfgs failed to converge (status=1):\n",
      "STOP: TOTAL NO. of ITERATIONS REACHED LIMIT.\n",
      "\n",
      "Increase the number of iterations (max_iter) or scale the data as shown in:\n",
      "    https://scikit-learn.org/stable/modules/preprocessing.html\n",
      "  self.n_iter_ = _check_optimize_result(\"lbfgs\", opt_res, self.max_iter)\n"
     ]
    },
    {
     "name": "stdout",
     "output_type": "stream",
     "text": [
      "[CV] END activation=identity, alpha=0.0001, early_stopping=True, learning_rate=constant, learning_rate_init=0.005, max_iter=50, n_iter_no_change=5, power_t=0.001, solver=lbfgs; total time= 1.9min\n",
      "[CV] END activation=identity, alpha=0.0001, early_stopping=True, learning_rate=constant, learning_rate_init=0.005, max_iter=50, n_iter_no_change=5, power_t=0.001, solver=adam; total time=  57.1s\n"
     ]
    },
    {
     "name": "stderr",
     "output_type": "stream",
     "text": [
      "/Users/sebastianlopez/miniconda3/envs/maestriamatching/lib/python3.10/site-packages/sklearn/neural_network/_multilayer_perceptron.py:546: ConvergenceWarning: lbfgs failed to converge (status=1):\n",
      "STOP: TOTAL NO. of ITERATIONS REACHED LIMIT.\n",
      "\n",
      "Increase the number of iterations (max_iter) or scale the data as shown in:\n",
      "    https://scikit-learn.org/stable/modules/preprocessing.html\n",
      "  self.n_iter_ = _check_optimize_result(\"lbfgs\", opt_res, self.max_iter)\n"
     ]
    },
    {
     "name": "stdout",
     "output_type": "stream",
     "text": [
      "[CV] END activation=identity, alpha=0.0001, early_stopping=True, learning_rate=constant, learning_rate_init=0.005, max_iter=50, n_iter_no_change=5, power_t=0.001, solver=lbfgs; total time= 2.0min\n"
     ]
    },
    {
     "name": "stderr",
     "output_type": "stream",
     "text": [
      "/Users/sebastianlopez/miniconda3/envs/maestriamatching/lib/python3.10/site-packages/sklearn/neural_network/_multilayer_perceptron.py:546: ConvergenceWarning: lbfgs failed to converge (status=1):\n",
      "STOP: TOTAL NO. of ITERATIONS REACHED LIMIT.\n",
      "\n",
      "Increase the number of iterations (max_iter) or scale the data as shown in:\n",
      "    https://scikit-learn.org/stable/modules/preprocessing.html\n",
      "  self.n_iter_ = _check_optimize_result(\"lbfgs\", opt_res, self.max_iter)\n"
     ]
    },
    {
     "name": "stdout",
     "output_type": "stream",
     "text": [
      "[CV] END activation=identity, alpha=0.0001, early_stopping=True, learning_rate=constant, learning_rate_init=0.005, max_iter=50, n_iter_no_change=5, power_t=0.001, solver=lbfgs; total time= 2.0min\n"
     ]
    },
    {
     "name": "stderr",
     "output_type": "stream",
     "text": [
      "/Users/sebastianlopez/miniconda3/envs/maestriamatching/lib/python3.10/site-packages/sklearn/neural_network/_multilayer_perceptron.py:546: ConvergenceWarning: lbfgs failed to converge (status=1):\n",
      "STOP: TOTAL NO. of ITERATIONS REACHED LIMIT.\n",
      "\n",
      "Increase the number of iterations (max_iter) or scale the data as shown in:\n",
      "    https://scikit-learn.org/stable/modules/preprocessing.html\n",
      "  self.n_iter_ = _check_optimize_result(\"lbfgs\", opt_res, self.max_iter)\n"
     ]
    },
    {
     "name": "stdout",
     "output_type": "stream",
     "text": [
      "[CV] END activation=identity, alpha=0.0001, early_stopping=True, learning_rate=constant, learning_rate_init=0.01, max_iter=5, n_iter_no_change=5, power_t=0.5, solver=lbfgs; total time=  16.6s\n",
      "[CV] END activation=identity, alpha=0.0001, early_stopping=True, learning_rate=constant, learning_rate_init=0.005, max_iter=50, n_iter_no_change=5, power_t=0.005, solver=sgd; total time= 1.2min\n"
     ]
    },
    {
     "name": "stderr",
     "output_type": "stream",
     "text": [
      "/Users/sebastianlopez/miniconda3/envs/maestriamatching/lib/python3.10/site-packages/sklearn/neural_network/_multilayer_perceptron.py:546: ConvergenceWarning: lbfgs failed to converge (status=1):\n",
      "STOP: TOTAL NO. of ITERATIONS REACHED LIMIT.\n",
      "\n",
      "Increase the number of iterations (max_iter) or scale the data as shown in:\n",
      "    https://scikit-learn.org/stable/modules/preprocessing.html\n",
      "  self.n_iter_ = _check_optimize_result(\"lbfgs\", opt_res, self.max_iter)\n"
     ]
    },
    {
     "name": "stdout",
     "output_type": "stream",
     "text": [
      "[CV] END activation=identity, alpha=0.0001, early_stopping=True, learning_rate=constant, learning_rate_init=0.01, max_iter=5, n_iter_no_change=5, power_t=0.5, solver=lbfgs; total time=  16.8s\n"
     ]
    },
    {
     "name": "stderr",
     "output_type": "stream",
     "text": [
      "/Users/sebastianlopez/miniconda3/envs/maestriamatching/lib/python3.10/site-packages/sklearn/neural_network/_multilayer_perceptron.py:546: ConvergenceWarning: lbfgs failed to converge (status=1):\n",
      "STOP: TOTAL NO. of ITERATIONS REACHED LIMIT.\n",
      "\n",
      "Increase the number of iterations (max_iter) or scale the data as shown in:\n",
      "    https://scikit-learn.org/stable/modules/preprocessing.html\n",
      "  self.n_iter_ = _check_optimize_result(\"lbfgs\", opt_res, self.max_iter)\n"
     ]
    },
    {
     "name": "stdout",
     "output_type": "stream",
     "text": [
      "[CV] END activation=identity, alpha=0.0001, early_stopping=True, learning_rate=constant, learning_rate_init=0.01, max_iter=5, n_iter_no_change=5, power_t=0.5, solver=lbfgs; total time=  30.5s\n",
      "[CV] END activation=identity, alpha=0.0001, early_stopping=True, learning_rate=constant, learning_rate_init=0.005, max_iter=50, n_iter_no_change=5, power_t=0.005, solver=adam; total time= 1.0min\n"
     ]
    },
    {
     "name": "stderr",
     "output_type": "stream",
     "text": [
      "/Users/sebastianlopez/miniconda3/envs/maestriamatching/lib/python3.10/site-packages/sklearn/neural_network/_multilayer_perceptron.py:691: ConvergenceWarning: Stochastic Optimizer: Maximum iterations (5) reached and the optimization hasn't converged yet.\n",
      "  warnings.warn(\n"
     ]
    },
    {
     "name": "stdout",
     "output_type": "stream",
     "text": [
      "[CV] END activation=identity, alpha=0.0001, early_stopping=True, learning_rate=constant, learning_rate_init=0.01, max_iter=5, n_iter_no_change=5, power_t=0.5, solver=sgd; total time=  14.8s\n"
     ]
    },
    {
     "name": "stderr",
     "output_type": "stream",
     "text": [
      "/Users/sebastianlopez/miniconda3/envs/maestriamatching/lib/python3.10/site-packages/sklearn/neural_network/_multilayer_perceptron.py:691: ConvergenceWarning: Stochastic Optimizer: Maximum iterations (5) reached and the optimization hasn't converged yet.\n",
      "  warnings.warn(\n"
     ]
    },
    {
     "name": "stdout",
     "output_type": "stream",
     "text": [
      "[CV] END activation=identity, alpha=0.0001, early_stopping=True, learning_rate=constant, learning_rate_init=0.01, max_iter=5, n_iter_no_change=5, power_t=0.5, solver=sgd; total time=  15.2s\n"
     ]
    },
    {
     "name": "stderr",
     "output_type": "stream",
     "text": [
      "/Users/sebastianlopez/miniconda3/envs/maestriamatching/lib/python3.10/site-packages/sklearn/neural_network/_multilayer_perceptron.py:691: ConvergenceWarning: Stochastic Optimizer: Maximum iterations (5) reached and the optimization hasn't converged yet.\n",
      "  warnings.warn(\n"
     ]
    },
    {
     "name": "stdout",
     "output_type": "stream",
     "text": [
      "[CV] END activation=identity, alpha=0.0001, early_stopping=True, learning_rate=constant, learning_rate_init=0.01, max_iter=5, n_iter_no_change=5, power_t=0.5, solver=sgd; total time=  15.1s\n",
      "[CV] END activation=identity, alpha=0.0001, early_stopping=True, learning_rate=constant, learning_rate_init=0.005, max_iter=50, n_iter_no_change=5, power_t=0.005, solver=adam; total time=  42.4s\n"
     ]
    },
    {
     "name": "stderr",
     "output_type": "stream",
     "text": [
      "/Users/sebastianlopez/miniconda3/envs/maestriamatching/lib/python3.10/site-packages/sklearn/neural_network/_multilayer_perceptron.py:691: ConvergenceWarning: Stochastic Optimizer: Maximum iterations (5) reached and the optimization hasn't converged yet.\n",
      "  warnings.warn(\n"
     ]
    },
    {
     "name": "stdout",
     "output_type": "stream",
     "text": [
      "[CV] END activation=identity, alpha=0.0001, early_stopping=True, learning_rate=constant, learning_rate_init=0.01, max_iter=5, n_iter_no_change=5, power_t=0.5, solver=adam; total time=  15.5s\n"
     ]
    },
    {
     "name": "stderr",
     "output_type": "stream",
     "text": [
      "/Users/sebastianlopez/miniconda3/envs/maestriamatching/lib/python3.10/site-packages/sklearn/neural_network/_multilayer_perceptron.py:691: ConvergenceWarning: Stochastic Optimizer: Maximum iterations (5) reached and the optimization hasn't converged yet.\n",
      "  warnings.warn(\n"
     ]
    },
    {
     "name": "stdout",
     "output_type": "stream",
     "text": [
      "[CV] END activation=identity, alpha=0.0001, early_stopping=True, learning_rate=constant, learning_rate_init=0.01, max_iter=5, n_iter_no_change=5, power_t=0.5, solver=adam; total time=  15.7s\n"
     ]
    },
    {
     "name": "stderr",
     "output_type": "stream",
     "text": [
      "/Users/sebastianlopez/miniconda3/envs/maestriamatching/lib/python3.10/site-packages/sklearn/neural_network/_multilayer_perceptron.py:691: ConvergenceWarning: Stochastic Optimizer: Maximum iterations (5) reached and the optimization hasn't converged yet.\n",
      "  warnings.warn(\n"
     ]
    },
    {
     "name": "stdout",
     "output_type": "stream",
     "text": [
      "[CV] END activation=identity, alpha=0.0001, early_stopping=True, learning_rate=constant, learning_rate_init=0.01, max_iter=5, n_iter_no_change=5, power_t=0.5, solver=adam; total time=  15.6s\n"
     ]
    },
    {
     "name": "stderr",
     "output_type": "stream",
     "text": [
      "/Users/sebastianlopez/miniconda3/envs/maestriamatching/lib/python3.10/site-packages/sklearn/neural_network/_multilayer_perceptron.py:546: ConvergenceWarning: lbfgs failed to converge (status=1):\n",
      "STOP: TOTAL NO. of ITERATIONS REACHED LIMIT.\n",
      "\n",
      "Increase the number of iterations (max_iter) or scale the data as shown in:\n",
      "    https://scikit-learn.org/stable/modules/preprocessing.html\n",
      "  self.n_iter_ = _check_optimize_result(\"lbfgs\", opt_res, self.max_iter)\n"
     ]
    },
    {
     "name": "stdout",
     "output_type": "stream",
     "text": [
      "[CV] END activation=identity, alpha=0.0001, early_stopping=True, learning_rate=constant, learning_rate_init=0.005, max_iter=50, n_iter_no_change=5, power_t=0.005, solver=sgd; total time= 1.6min\n",
      "[CV] END activation=identity, alpha=0.0001, early_stopping=True, learning_rate=constant, learning_rate_init=0.01, max_iter=5, n_iter_no_change=5, power_t=0.1, solver=lbfgs; total time=  16.7s\n"
     ]
    },
    {
     "name": "stderr",
     "output_type": "stream",
     "text": [
      "/Users/sebastianlopez/miniconda3/envs/maestriamatching/lib/python3.10/site-packages/sklearn/neural_network/_multilayer_perceptron.py:546: ConvergenceWarning: lbfgs failed to converge (status=1):\n",
      "STOP: TOTAL NO. of ITERATIONS REACHED LIMIT.\n",
      "\n",
      "Increase the number of iterations (max_iter) or scale the data as shown in:\n",
      "    https://scikit-learn.org/stable/modules/preprocessing.html\n",
      "  self.n_iter_ = _check_optimize_result(\"lbfgs\", opt_res, self.max_iter)\n",
      "/Users/sebastianlopez/miniconda3/envs/maestriamatching/lib/python3.10/site-packages/sklearn/neural_network/_multilayer_perceptron.py:546: ConvergenceWarning: lbfgs failed to converge (status=1):\n",
      "STOP: TOTAL NO. of ITERATIONS REACHED LIMIT.\n",
      "\n",
      "Increase the number of iterations (max_iter) or scale the data as shown in:\n",
      "    https://scikit-learn.org/stable/modules/preprocessing.html\n",
      "  self.n_iter_ = _check_optimize_result(\"lbfgs\", opt_res, self.max_iter)\n"
     ]
    },
    {
     "name": "stdout",
     "output_type": "stream",
     "text": [
      "[CV] END activation=identity, alpha=0.0001, early_stopping=True, learning_rate=constant, learning_rate_init=0.01, max_iter=5, n_iter_no_change=5, power_t=0.1, solver=lbfgs; total time=  19.4s\n",
      "[CV] END activation=identity, alpha=0.0001, early_stopping=True, learning_rate=constant, learning_rate_init=0.01, max_iter=5, n_iter_no_change=5, power_t=0.1, solver=lbfgs; total time=  17.0s\n"
     ]
    },
    {
     "name": "stderr",
     "output_type": "stream",
     "text": [
      "/Users/sebastianlopez/miniconda3/envs/maestriamatching/lib/python3.10/site-packages/sklearn/neural_network/_multilayer_perceptron.py:691: ConvergenceWarning: Stochastic Optimizer: Maximum iterations (5) reached and the optimization hasn't converged yet.\n",
      "  warnings.warn(\n"
     ]
    },
    {
     "name": "stdout",
     "output_type": "stream",
     "text": [
      "[CV] END activation=identity, alpha=0.0001, early_stopping=True, learning_rate=constant, learning_rate_init=0.01, max_iter=5, n_iter_no_change=5, power_t=0.1, solver=sgd; total time=  15.0s\n"
     ]
    },
    {
     "name": "stderr",
     "output_type": "stream",
     "text": [
      "/Users/sebastianlopez/miniconda3/envs/maestriamatching/lib/python3.10/site-packages/sklearn/neural_network/_multilayer_perceptron.py:691: ConvergenceWarning: Stochastic Optimizer: Maximum iterations (5) reached and the optimization hasn't converged yet.\n",
      "  warnings.warn(\n"
     ]
    },
    {
     "name": "stdout",
     "output_type": "stream",
     "text": [
      "[CV] END activation=identity, alpha=0.0001, early_stopping=True, learning_rate=constant, learning_rate_init=0.01, max_iter=5, n_iter_no_change=5, power_t=0.1, solver=sgd; total time=  14.9s\n"
     ]
    },
    {
     "name": "stderr",
     "output_type": "stream",
     "text": [
      "/Users/sebastianlopez/miniconda3/envs/maestriamatching/lib/python3.10/site-packages/sklearn/neural_network/_multilayer_perceptron.py:691: ConvergenceWarning: Stochastic Optimizer: Maximum iterations (5) reached and the optimization hasn't converged yet.\n",
      "  warnings.warn(\n"
     ]
    },
    {
     "name": "stdout",
     "output_type": "stream",
     "text": [
      "[CV] END activation=identity, alpha=0.0001, early_stopping=True, learning_rate=constant, learning_rate_init=0.01, max_iter=5, n_iter_no_change=5, power_t=0.1, solver=sgd; total time=  15.1s\n"
     ]
    },
    {
     "name": "stderr",
     "output_type": "stream",
     "text": [
      "/Users/sebastianlopez/miniconda3/envs/maestriamatching/lib/python3.10/site-packages/sklearn/neural_network/_multilayer_perceptron.py:691: ConvergenceWarning: Stochastic Optimizer: Maximum iterations (5) reached and the optimization hasn't converged yet.\n",
      "  warnings.warn(\n",
      "/Users/sebastianlopez/miniconda3/envs/maestriamatching/lib/python3.10/site-packages/sklearn/neural_network/_multilayer_perceptron.py:691: ConvergenceWarning: Stochastic Optimizer: Maximum iterations (5) reached and the optimization hasn't converged yet.\n",
      "  warnings.warn(\n"
     ]
    },
    {
     "name": "stdout",
     "output_type": "stream",
     "text": [
      "[CV] END activation=identity, alpha=0.0001, early_stopping=True, learning_rate=constant, learning_rate_init=0.01, max_iter=5, n_iter_no_change=5, power_t=0.1, solver=adam; total time=  16.2s\n"
     ]
    },
    {
     "name": "stderr",
     "output_type": "stream",
     "text": [
      "/Users/sebastianlopez/miniconda3/envs/maestriamatching/lib/python3.10/site-packages/sklearn/neural_network/_multilayer_perceptron.py:546: ConvergenceWarning: lbfgs failed to converge (status=1):\n",
      "STOP: TOTAL NO. of ITERATIONS REACHED LIMIT.\n",
      "\n",
      "Increase the number of iterations (max_iter) or scale the data as shown in:\n",
      "    https://scikit-learn.org/stable/modules/preprocessing.html\n",
      "  self.n_iter_ = _check_optimize_result(\"lbfgs\", opt_res, self.max_iter)\n"
     ]
    },
    {
     "name": "stdout",
     "output_type": "stream",
     "text": [
      "[CV] END activation=identity, alpha=0.0001, early_stopping=True, learning_rate=constant, learning_rate_init=0.01, max_iter=5, n_iter_no_change=5, power_t=0.1, solver=adam; total time=  16.1s\n",
      "[CV] END activation=identity, alpha=0.0001, early_stopping=True, learning_rate=constant, learning_rate_init=0.005, max_iter=50, n_iter_no_change=5, power_t=0.005, solver=lbfgs; total time= 2.0min\n"
     ]
    },
    {
     "name": "stderr",
     "output_type": "stream",
     "text": [
      "/Users/sebastianlopez/miniconda3/envs/maestriamatching/lib/python3.10/site-packages/sklearn/neural_network/_multilayer_perceptron.py:691: ConvergenceWarning: Stochastic Optimizer: Maximum iterations (5) reached and the optimization hasn't converged yet.\n",
      "  warnings.warn(\n"
     ]
    },
    {
     "name": "stdout",
     "output_type": "stream",
     "text": [
      "[CV] END activation=identity, alpha=0.0001, early_stopping=True, learning_rate=constant, learning_rate_init=0.01, max_iter=5, n_iter_no_change=5, power_t=0.1, solver=adam; total time=  16.2s\n",
      "[CV] END activation=identity, alpha=0.0001, early_stopping=True, learning_rate=constant, learning_rate_init=0.005, max_iter=50, n_iter_no_change=5, power_t=0.005, solver=adam; total time= 1.3min\n"
     ]
    },
    {
     "name": "stderr",
     "output_type": "stream",
     "text": [
      "/Users/sebastianlopez/miniconda3/envs/maestriamatching/lib/python3.10/site-packages/sklearn/neural_network/_multilayer_perceptron.py:546: ConvergenceWarning: lbfgs failed to converge (status=1):\n",
      "STOP: TOTAL NO. of ITERATIONS REACHED LIMIT.\n",
      "\n",
      "Increase the number of iterations (max_iter) or scale the data as shown in:\n",
      "    https://scikit-learn.org/stable/modules/preprocessing.html\n",
      "  self.n_iter_ = _check_optimize_result(\"lbfgs\", opt_res, self.max_iter)\n"
     ]
    },
    {
     "name": "stdout",
     "output_type": "stream",
     "text": [
      "[CV] END activation=identity, alpha=0.0001, early_stopping=True, learning_rate=constant, learning_rate_init=0.005, max_iter=50, n_iter_no_change=5, power_t=0.005, solver=lbfgs; total time= 2.1min\n"
     ]
    },
    {
     "name": "stderr",
     "output_type": "stream",
     "text": [
      "/Users/sebastianlopez/miniconda3/envs/maestriamatching/lib/python3.10/site-packages/sklearn/neural_network/_multilayer_perceptron.py:546: ConvergenceWarning: lbfgs failed to converge (status=1):\n",
      "STOP: TOTAL NO. of ITERATIONS REACHED LIMIT.\n",
      "\n",
      "Increase the number of iterations (max_iter) or scale the data as shown in:\n",
      "    https://scikit-learn.org/stable/modules/preprocessing.html\n",
      "  self.n_iter_ = _check_optimize_result(\"lbfgs\", opt_res, self.max_iter)\n"
     ]
    },
    {
     "name": "stdout",
     "output_type": "stream",
     "text": [
      "[CV] END activation=identity, alpha=0.0001, early_stopping=True, learning_rate=constant, learning_rate_init=0.01, max_iter=5, n_iter_no_change=5, power_t=0.9, solver=lbfgs; total time=  18.2s\n"
     ]
    },
    {
     "name": "stderr",
     "output_type": "stream",
     "text": [
      "/Users/sebastianlopez/miniconda3/envs/maestriamatching/lib/python3.10/site-packages/sklearn/neural_network/_multilayer_perceptron.py:546: ConvergenceWarning: lbfgs failed to converge (status=1):\n",
      "STOP: TOTAL NO. of ITERATIONS REACHED LIMIT.\n",
      "\n",
      "Increase the number of iterations (max_iter) or scale the data as shown in:\n",
      "    https://scikit-learn.org/stable/modules/preprocessing.html\n",
      "  self.n_iter_ = _check_optimize_result(\"lbfgs\", opt_res, self.max_iter)\n"
     ]
    },
    {
     "name": "stdout",
     "output_type": "stream",
     "text": [
      "[CV] END activation=identity, alpha=0.0001, early_stopping=True, learning_rate=constant, learning_rate_init=0.005, max_iter=50, n_iter_no_change=5, power_t=0.005, solver=lbfgs; total time= 2.1min\n"
     ]
    },
    {
     "name": "stderr",
     "output_type": "stream",
     "text": [
      "/Users/sebastianlopez/miniconda3/envs/maestriamatching/lib/python3.10/site-packages/sklearn/neural_network/_multilayer_perceptron.py:691: ConvergenceWarning: Stochastic Optimizer: Maximum iterations (5) reached and the optimization hasn't converged yet.\n",
      "  warnings.warn(\n"
     ]
    },
    {
     "name": "stdout",
     "output_type": "stream",
     "text": [
      "[CV] END activation=identity, alpha=0.0001, early_stopping=True, learning_rate=constant, learning_rate_init=0.01, max_iter=5, n_iter_no_change=5, power_t=0.9, solver=sgd; total time=  15.0s\n"
     ]
    },
    {
     "name": "stderr",
     "output_type": "stream",
     "text": [
      "/Users/sebastianlopez/miniconda3/envs/maestriamatching/lib/python3.10/site-packages/sklearn/neural_network/_multilayer_perceptron.py:546: ConvergenceWarning: lbfgs failed to converge (status=1):\n",
      "STOP: TOTAL NO. of ITERATIONS REACHED LIMIT.\n",
      "\n",
      "Increase the number of iterations (max_iter) or scale the data as shown in:\n",
      "    https://scikit-learn.org/stable/modules/preprocessing.html\n",
      "  self.n_iter_ = _check_optimize_result(\"lbfgs\", opt_res, self.max_iter)\n",
      "/Users/sebastianlopez/miniconda3/envs/maestriamatching/lib/python3.10/site-packages/sklearn/neural_network/_multilayer_perceptron.py:691: ConvergenceWarning: Stochastic Optimizer: Maximum iterations (5) reached and the optimization hasn't converged yet.\n",
      "  warnings.warn(\n",
      "/Users/sebastianlopez/miniconda3/envs/maestriamatching/lib/python3.10/site-packages/sklearn/neural_network/_multilayer_perceptron.py:691: ConvergenceWarning: Stochastic Optimizer: Maximum iterations (5) reached and the optimization hasn't converged yet.\n",
      "  warnings.warn(\n",
      "/Users/sebastianlopez/miniconda3/envs/maestriamatching/lib/python3.10/site-packages/sklearn/neural_network/_multilayer_perceptron.py:546: ConvergenceWarning: lbfgs failed to converge (status=1):\n",
      "STOP: TOTAL NO. of ITERATIONS REACHED LIMIT.\n",
      "\n",
      "Increase the number of iterations (max_iter) or scale the data as shown in:\n",
      "    https://scikit-learn.org/stable/modules/preprocessing.html\n",
      "  self.n_iter_ = _check_optimize_result(\"lbfgs\", opt_res, self.max_iter)\n"
     ]
    },
    {
     "name": "stdout",
     "output_type": "stream",
     "text": [
      "[CV] END activation=identity, alpha=0.0001, early_stopping=True, learning_rate=constant, learning_rate_init=0.01, max_iter=5, n_iter_no_change=5, power_t=0.9, solver=lbfgs; total time=  27.1s\n",
      "[CV] END activation=identity, alpha=0.0001, early_stopping=True, learning_rate=constant, learning_rate_init=0.01, max_iter=5, n_iter_no_change=5, power_t=0.9, solver=sgd; total time=  15.2s\n",
      "[CV] END activation=identity, alpha=0.0001, early_stopping=True, learning_rate=constant, learning_rate_init=0.01, max_iter=5, n_iter_no_change=5, power_t=0.9, solver=lbfgs; total time=  20.6s\n",
      "[CV] END activation=identity, alpha=0.0001, early_stopping=True, learning_rate=constant, learning_rate_init=0.01, max_iter=5, n_iter_no_change=5, power_t=0.9, solver=sgd; total time=  15.0s\n"
     ]
    },
    {
     "name": "stderr",
     "output_type": "stream",
     "text": [
      "/Users/sebastianlopez/miniconda3/envs/maestriamatching/lib/python3.10/site-packages/sklearn/neural_network/_multilayer_perceptron.py:691: ConvergenceWarning: Stochastic Optimizer: Maximum iterations (5) reached and the optimization hasn't converged yet.\n",
      "  warnings.warn(\n"
     ]
    },
    {
     "name": "stdout",
     "output_type": "stream",
     "text": [
      "[CV] END activation=identity, alpha=0.0001, early_stopping=True, learning_rate=constant, learning_rate_init=0.01, max_iter=5, n_iter_no_change=5, power_t=0.9, solver=adam; total time=  16.4s\n"
     ]
    },
    {
     "name": "stderr",
     "output_type": "stream",
     "text": [
      "/Users/sebastianlopez/miniconda3/envs/maestriamatching/lib/python3.10/site-packages/sklearn/neural_network/_multilayer_perceptron.py:691: ConvergenceWarning: Stochastic Optimizer: Maximum iterations (5) reached and the optimization hasn't converged yet.\n",
      "  warnings.warn(\n"
     ]
    },
    {
     "name": "stdout",
     "output_type": "stream",
     "text": [
      "[CV] END activation=identity, alpha=0.0001, early_stopping=True, learning_rate=constant, learning_rate_init=0.01, max_iter=5, n_iter_no_change=5, power_t=0.9, solver=adam; total time=  15.6s\n"
     ]
    },
    {
     "name": "stderr",
     "output_type": "stream",
     "text": [
      "/Users/sebastianlopez/miniconda3/envs/maestriamatching/lib/python3.10/site-packages/sklearn/neural_network/_multilayer_perceptron.py:691: ConvergenceWarning: Stochastic Optimizer: Maximum iterations (5) reached and the optimization hasn't converged yet.\n",
      "  warnings.warn(\n"
     ]
    },
    {
     "name": "stdout",
     "output_type": "stream",
     "text": [
      "[CV] END activation=identity, alpha=0.0001, early_stopping=True, learning_rate=constant, learning_rate_init=0.01, max_iter=5, n_iter_no_change=5, power_t=0.9, solver=adam; total time=  15.8s\n"
     ]
    },
    {
     "name": "stderr",
     "output_type": "stream",
     "text": [
      "/Users/sebastianlopez/miniconda3/envs/maestriamatching/lib/python3.10/site-packages/sklearn/neural_network/_multilayer_perceptron.py:546: ConvergenceWarning: lbfgs failed to converge (status=1):\n",
      "STOP: TOTAL NO. of ITERATIONS REACHED LIMIT.\n",
      "\n",
      "Increase the number of iterations (max_iter) or scale the data as shown in:\n",
      "    https://scikit-learn.org/stable/modules/preprocessing.html\n",
      "  self.n_iter_ = _check_optimize_result(\"lbfgs\", opt_res, self.max_iter)\n"
     ]
    },
    {
     "name": "stdout",
     "output_type": "stream",
     "text": [
      "[CV] END activation=identity, alpha=0.0001, early_stopping=True, learning_rate=constant, learning_rate_init=0.01, max_iter=5, n_iter_no_change=5, power_t=0.001, solver=lbfgs; total time=  16.5s\n"
     ]
    },
    {
     "name": "stderr",
     "output_type": "stream",
     "text": [
      "/Users/sebastianlopez/miniconda3/envs/maestriamatching/lib/python3.10/site-packages/sklearn/neural_network/_multilayer_perceptron.py:546: ConvergenceWarning: lbfgs failed to converge (status=1):\n",
      "STOP: TOTAL NO. of ITERATIONS REACHED LIMIT.\n",
      "\n",
      "Increase the number of iterations (max_iter) or scale the data as shown in:\n",
      "    https://scikit-learn.org/stable/modules/preprocessing.html\n",
      "  self.n_iter_ = _check_optimize_result(\"lbfgs\", opt_res, self.max_iter)\n"
     ]
    },
    {
     "name": "stdout",
     "output_type": "stream",
     "text": [
      "[CV] END activation=identity, alpha=0.0001, early_stopping=True, learning_rate=constant, learning_rate_init=0.01, max_iter=5, n_iter_no_change=5, power_t=0.001, solver=lbfgs; total time=  16.4s\n"
     ]
    },
    {
     "name": "stderr",
     "output_type": "stream",
     "text": [
      "/Users/sebastianlopez/miniconda3/envs/maestriamatching/lib/python3.10/site-packages/sklearn/neural_network/_multilayer_perceptron.py:691: ConvergenceWarning: Stochastic Optimizer: Maximum iterations (5) reached and the optimization hasn't converged yet.\n",
      "  warnings.warn(\n"
     ]
    },
    {
     "name": "stdout",
     "output_type": "stream",
     "text": [
      "[CV] END activation=identity, alpha=0.0001, early_stopping=True, learning_rate=constant, learning_rate_init=0.01, max_iter=5, n_iter_no_change=5, power_t=0.001, solver=sgd; total time=  14.3s\n"
     ]
    },
    {
     "name": "stderr",
     "output_type": "stream",
     "text": [
      "/Users/sebastianlopez/miniconda3/envs/maestriamatching/lib/python3.10/site-packages/sklearn/neural_network/_multilayer_perceptron.py:546: ConvergenceWarning: lbfgs failed to converge (status=1):\n",
      "STOP: TOTAL NO. of ITERATIONS REACHED LIMIT.\n",
      "\n",
      "Increase the number of iterations (max_iter) or scale the data as shown in:\n",
      "    https://scikit-learn.org/stable/modules/preprocessing.html\n",
      "  self.n_iter_ = _check_optimize_result(\"lbfgs\", opt_res, self.max_iter)\n"
     ]
    },
    {
     "name": "stdout",
     "output_type": "stream",
     "text": [
      "[CV] END activation=identity, alpha=0.0001, early_stopping=True, learning_rate=constant, learning_rate_init=0.01, max_iter=5, n_iter_no_change=5, power_t=0.001, solver=lbfgs; total time=  16.4s\n"
     ]
    },
    {
     "name": "stderr",
     "output_type": "stream",
     "text": [
      "/Users/sebastianlopez/miniconda3/envs/maestriamatching/lib/python3.10/site-packages/sklearn/neural_network/_multilayer_perceptron.py:691: ConvergenceWarning: Stochastic Optimizer: Maximum iterations (5) reached and the optimization hasn't converged yet.\n",
      "  warnings.warn(\n",
      "/Users/sebastianlopez/miniconda3/envs/maestriamatching/lib/python3.10/site-packages/sklearn/neural_network/_multilayer_perceptron.py:691: ConvergenceWarning: Stochastic Optimizer: Maximum iterations (5) reached and the optimization hasn't converged yet.\n",
      "  warnings.warn(\n"
     ]
    },
    {
     "name": "stdout",
     "output_type": "stream",
     "text": [
      "[CV] END activation=identity, alpha=0.0001, early_stopping=True, learning_rate=constant, learning_rate_init=0.01, max_iter=5, n_iter_no_change=5, power_t=0.001, solver=sgd; total time=  14.1s\n",
      "[CV] END activation=identity, alpha=0.0001, early_stopping=True, learning_rate=constant, learning_rate_init=0.01, max_iter=5, n_iter_no_change=5, power_t=0.001, solver=sgd; total time=  14.2s\n"
     ]
    },
    {
     "name": "stderr",
     "output_type": "stream",
     "text": [
      "/Users/sebastianlopez/miniconda3/envs/maestriamatching/lib/python3.10/site-packages/sklearn/neural_network/_multilayer_perceptron.py:691: ConvergenceWarning: Stochastic Optimizer: Maximum iterations (5) reached and the optimization hasn't converged yet.\n",
      "  warnings.warn(\n",
      "/Users/sebastianlopez/miniconda3/envs/maestriamatching/lib/python3.10/site-packages/sklearn/neural_network/_multilayer_perceptron.py:691: ConvergenceWarning: Stochastic Optimizer: Maximum iterations (5) reached and the optimization hasn't converged yet.\n",
      "  warnings.warn(\n"
     ]
    },
    {
     "name": "stdout",
     "output_type": "stream",
     "text": [
      "[CV] END activation=identity, alpha=0.0001, early_stopping=True, learning_rate=constant, learning_rate_init=0.01, max_iter=5, n_iter_no_change=5, power_t=0.001, solver=adam; total time=  15.2s\n",
      "[CV] END activation=identity, alpha=0.0001, early_stopping=True, learning_rate=constant, learning_rate_init=0.01, max_iter=5, n_iter_no_change=5, power_t=0.001, solver=adam; total time=  15.5s\n"
     ]
    },
    {
     "name": "stderr",
     "output_type": "stream",
     "text": [
      "/Users/sebastianlopez/miniconda3/envs/maestriamatching/lib/python3.10/site-packages/sklearn/neural_network/_multilayer_perceptron.py:691: ConvergenceWarning: Stochastic Optimizer: Maximum iterations (5) reached and the optimization hasn't converged yet.\n",
      "  warnings.warn(\n"
     ]
    },
    {
     "name": "stdout",
     "output_type": "stream",
     "text": [
      "[CV] END activation=identity, alpha=0.0001, early_stopping=True, learning_rate=constant, learning_rate_init=0.01, max_iter=5, n_iter_no_change=5, power_t=0.001, solver=adam; total time=  16.0s\n"
     ]
    },
    {
     "name": "stderr",
     "output_type": "stream",
     "text": [
      "/Users/sebastianlopez/miniconda3/envs/maestriamatching/lib/python3.10/site-packages/sklearn/neural_network/_multilayer_perceptron.py:546: ConvergenceWarning: lbfgs failed to converge (status=1):\n",
      "STOP: TOTAL NO. of ITERATIONS REACHED LIMIT.\n",
      "\n",
      "Increase the number of iterations (max_iter) or scale the data as shown in:\n",
      "    https://scikit-learn.org/stable/modules/preprocessing.html\n",
      "  self.n_iter_ = _check_optimize_result(\"lbfgs\", opt_res, self.max_iter)\n"
     ]
    },
    {
     "name": "stdout",
     "output_type": "stream",
     "text": [
      "[CV] END activation=identity, alpha=0.0001, early_stopping=True, learning_rate=constant, learning_rate_init=0.01, max_iter=5, n_iter_no_change=5, power_t=0.005, solver=lbfgs; total time=  16.6s\n"
     ]
    },
    {
     "name": "stderr",
     "output_type": "stream",
     "text": [
      "/Users/sebastianlopez/miniconda3/envs/maestriamatching/lib/python3.10/site-packages/sklearn/neural_network/_multilayer_perceptron.py:546: ConvergenceWarning: lbfgs failed to converge (status=1):\n",
      "STOP: TOTAL NO. of ITERATIONS REACHED LIMIT.\n",
      "\n",
      "Increase the number of iterations (max_iter) or scale the data as shown in:\n",
      "    https://scikit-learn.org/stable/modules/preprocessing.html\n",
      "  self.n_iter_ = _check_optimize_result(\"lbfgs\", opt_res, self.max_iter)\n"
     ]
    },
    {
     "name": "stdout",
     "output_type": "stream",
     "text": [
      "[CV] END activation=identity, alpha=0.0001, early_stopping=True, learning_rate=constant, learning_rate_init=0.01, max_iter=5, n_iter_no_change=5, power_t=0.005, solver=lbfgs; total time=  16.8s\n"
     ]
    },
    {
     "name": "stderr",
     "output_type": "stream",
     "text": [
      "/Users/sebastianlopez/miniconda3/envs/maestriamatching/lib/python3.10/site-packages/sklearn/neural_network/_multilayer_perceptron.py:691: ConvergenceWarning: Stochastic Optimizer: Maximum iterations (5) reached and the optimization hasn't converged yet.\n",
      "  warnings.warn(\n"
     ]
    },
    {
     "name": "stdout",
     "output_type": "stream",
     "text": [
      "[CV] END activation=identity, alpha=0.0001, early_stopping=True, learning_rate=constant, learning_rate_init=0.01, max_iter=5, n_iter_no_change=5, power_t=0.005, solver=sgd; total time=  14.7s\n"
     ]
    },
    {
     "name": "stderr",
     "output_type": "stream",
     "text": [
      "/Users/sebastianlopez/miniconda3/envs/maestriamatching/lib/python3.10/site-packages/sklearn/neural_network/_multilayer_perceptron.py:691: ConvergenceWarning: Stochastic Optimizer: Maximum iterations (5) reached and the optimization hasn't converged yet.\n",
      "  warnings.warn(\n"
     ]
    },
    {
     "name": "stdout",
     "output_type": "stream",
     "text": [
      "[CV] END activation=identity, alpha=0.0001, early_stopping=True, learning_rate=constant, learning_rate_init=0.01, max_iter=5, n_iter_no_change=5, power_t=0.005, solver=sgd; total time=  14.8s\n"
     ]
    },
    {
     "name": "stderr",
     "output_type": "stream",
     "text": [
      "/Users/sebastianlopez/miniconda3/envs/maestriamatching/lib/python3.10/site-packages/sklearn/neural_network/_multilayer_perceptron.py:691: ConvergenceWarning: Stochastic Optimizer: Maximum iterations (5) reached and the optimization hasn't converged yet.\n",
      "  warnings.warn(\n"
     ]
    },
    {
     "name": "stdout",
     "output_type": "stream",
     "text": [
      "[CV] END activation=identity, alpha=0.0001, early_stopping=True, learning_rate=constant, learning_rate_init=0.01, max_iter=5, n_iter_no_change=5, power_t=0.005, solver=sgd; total time=  14.8s\n"
     ]
    },
    {
     "name": "stderr",
     "output_type": "stream",
     "text": [
      "/Users/sebastianlopez/miniconda3/envs/maestriamatching/lib/python3.10/site-packages/sklearn/neural_network/_multilayer_perceptron.py:691: ConvergenceWarning: Stochastic Optimizer: Maximum iterations (5) reached and the optimization hasn't converged yet.\n",
      "  warnings.warn(\n",
      "/Users/sebastianlopez/miniconda3/envs/maestriamatching/lib/python3.10/site-packages/sklearn/neural_network/_multilayer_perceptron.py:691: ConvergenceWarning: Stochastic Optimizer: Maximum iterations (5) reached and the optimization hasn't converged yet.\n",
      "  warnings.warn(\n"
     ]
    },
    {
     "name": "stdout",
     "output_type": "stream",
     "text": [
      "[CV] END activation=identity, alpha=0.0001, early_stopping=True, learning_rate=constant, learning_rate_init=0.01, max_iter=5, n_iter_no_change=5, power_t=0.005, solver=adam; total time=  16.0s\n",
      "[CV] END activation=identity, alpha=0.0001, early_stopping=True, learning_rate=constant, learning_rate_init=0.01, max_iter=5, n_iter_no_change=5, power_t=0.005, solver=adam; total time=  16.0s\n"
     ]
    },
    {
     "name": "stderr",
     "output_type": "stream",
     "text": [
      "/Users/sebastianlopez/miniconda3/envs/maestriamatching/lib/python3.10/site-packages/sklearn/neural_network/_multilayer_perceptron.py:691: ConvergenceWarning: Stochastic Optimizer: Maximum iterations (5) reached and the optimization hasn't converged yet.\n",
      "  warnings.warn(\n"
     ]
    },
    {
     "name": "stdout",
     "output_type": "stream",
     "text": [
      "[CV] END activation=identity, alpha=0.0001, early_stopping=True, learning_rate=constant, learning_rate_init=0.01, max_iter=5, n_iter_no_change=5, power_t=0.005, solver=adam; total time=  15.8s\n"
     ]
    },
    {
     "name": "stderr",
     "output_type": "stream",
     "text": [
      "/Users/sebastianlopez/miniconda3/envs/maestriamatching/lib/python3.10/site-packages/sklearn/neural_network/_multilayer_perceptron.py:546: ConvergenceWarning: lbfgs failed to converge (status=1):\n",
      "STOP: TOTAL NO. of ITERATIONS REACHED LIMIT.\n",
      "\n",
      "Increase the number of iterations (max_iter) or scale the data as shown in:\n",
      "    https://scikit-learn.org/stable/modules/preprocessing.html\n",
      "  self.n_iter_ = _check_optimize_result(\"lbfgs\", opt_res, self.max_iter)\n"
     ]
    },
    {
     "name": "stdout",
     "output_type": "stream",
     "text": [
      "[CV] END activation=identity, alpha=0.0001, early_stopping=True, learning_rate=constant, learning_rate_init=0.01, max_iter=5, n_iter_no_change=5, power_t=0.005, solver=lbfgs; total time=  25.3s\n"
     ]
    },
    {
     "name": "stderr",
     "output_type": "stream",
     "text": [
      "/Users/sebastianlopez/miniconda3/envs/maestriamatching/lib/python3.10/site-packages/sklearn/neural_network/_multilayer_perceptron.py:546: ConvergenceWarning: lbfgs failed to converge (status=1):\n",
      "STOP: TOTAL NO. of ITERATIONS REACHED LIMIT.\n",
      "\n",
      "Increase the number of iterations (max_iter) or scale the data as shown in:\n",
      "    https://scikit-learn.org/stable/modules/preprocessing.html\n",
      "  self.n_iter_ = _check_optimize_result(\"lbfgs\", opt_res, self.max_iter)\n"
     ]
    },
    {
     "name": "stdout",
     "output_type": "stream",
     "text": [
      "[CV] END activation=identity, alpha=0.0001, early_stopping=True, learning_rate=constant, learning_rate_init=0.01, max_iter=10, n_iter_no_change=5, power_t=0.5, solver=lbfgs; total time=  27.2s\n"
     ]
    },
    {
     "name": "stderr",
     "output_type": "stream",
     "text": [
      "/Users/sebastianlopez/miniconda3/envs/maestriamatching/lib/python3.10/site-packages/sklearn/neural_network/_multilayer_perceptron.py:546: ConvergenceWarning: lbfgs failed to converge (status=1):\n",
      "STOP: TOTAL NO. of ITERATIONS REACHED LIMIT.\n",
      "\n",
      "Increase the number of iterations (max_iter) or scale the data as shown in:\n",
      "    https://scikit-learn.org/stable/modules/preprocessing.html\n",
      "  self.n_iter_ = _check_optimize_result(\"lbfgs\", opt_res, self.max_iter)\n",
      "/Users/sebastianlopez/miniconda3/envs/maestriamatching/lib/python3.10/site-packages/sklearn/neural_network/_multilayer_perceptron.py:691: ConvergenceWarning: Stochastic Optimizer: Maximum iterations (10) reached and the optimization hasn't converged yet.\n",
      "  warnings.warn(\n"
     ]
    },
    {
     "name": "stdout",
     "output_type": "stream",
     "text": [
      "[CV] END activation=identity, alpha=0.0001, early_stopping=True, learning_rate=constant, learning_rate_init=0.01, max_iter=10, n_iter_no_change=5, power_t=0.5, solver=lbfgs; total time=  28.5s\n",
      "[CV] END activation=identity, alpha=0.0001, early_stopping=True, learning_rate=constant, learning_rate_init=0.01, max_iter=10, n_iter_no_change=5, power_t=0.5, solver=sgd; total time=  27.2s\n"
     ]
    },
    {
     "name": "stderr",
     "output_type": "stream",
     "text": [
      "/Users/sebastianlopez/miniconda3/envs/maestriamatching/lib/python3.10/site-packages/sklearn/neural_network/_multilayer_perceptron.py:546: ConvergenceWarning: lbfgs failed to converge (status=1):\n",
      "STOP: TOTAL NO. of ITERATIONS REACHED LIMIT.\n",
      "\n",
      "Increase the number of iterations (max_iter) or scale the data as shown in:\n",
      "    https://scikit-learn.org/stable/modules/preprocessing.html\n",
      "  self.n_iter_ = _check_optimize_result(\"lbfgs\", opt_res, self.max_iter)\n",
      "/Users/sebastianlopez/miniconda3/envs/maestriamatching/lib/python3.10/site-packages/sklearn/neural_network/_multilayer_perceptron.py:691: ConvergenceWarning: Stochastic Optimizer: Maximum iterations (10) reached and the optimization hasn't converged yet.\n",
      "  warnings.warn(\n"
     ]
    },
    {
     "name": "stdout",
     "output_type": "stream",
     "text": [
      "[CV] END activation=identity, alpha=0.0001, early_stopping=True, learning_rate=constant, learning_rate_init=0.01, max_iter=10, n_iter_no_change=5, power_t=0.5, solver=lbfgs; total time=  33.1s\n",
      "[CV] END activation=identity, alpha=0.0001, early_stopping=True, learning_rate=constant, learning_rate_init=0.01, max_iter=10, n_iter_no_change=5, power_t=0.5, solver=sgd; total time=  26.9s\n"
     ]
    },
    {
     "name": "stderr",
     "output_type": "stream",
     "text": [
      "/Users/sebastianlopez/miniconda3/envs/maestriamatching/lib/python3.10/site-packages/sklearn/neural_network/_multilayer_perceptron.py:691: ConvergenceWarning: Stochastic Optimizer: Maximum iterations (10) reached and the optimization hasn't converged yet.\n",
      "  warnings.warn(\n"
     ]
    },
    {
     "name": "stdout",
     "output_type": "stream",
     "text": [
      "[CV] END activation=identity, alpha=0.0001, early_stopping=True, learning_rate=constant, learning_rate_init=0.01, max_iter=10, n_iter_no_change=5, power_t=0.5, solver=sgd; total time=  26.6s\n"
     ]
    },
    {
     "name": "stderr",
     "output_type": "stream",
     "text": [
      "/Users/sebastianlopez/miniconda3/envs/maestriamatching/lib/python3.10/site-packages/sklearn/neural_network/_multilayer_perceptron.py:691: ConvergenceWarning: Stochastic Optimizer: Maximum iterations (10) reached and the optimization hasn't converged yet.\n",
      "  warnings.warn(\n"
     ]
    },
    {
     "name": "stdout",
     "output_type": "stream",
     "text": [
      "[CV] END activation=identity, alpha=0.0001, early_stopping=True, learning_rate=constant, learning_rate_init=0.01, max_iter=10, n_iter_no_change=5, power_t=0.5, solver=adam; total time=  29.7s\n"
     ]
    },
    {
     "name": "stderr",
     "output_type": "stream",
     "text": [
      "/Users/sebastianlopez/miniconda3/envs/maestriamatching/lib/python3.10/site-packages/sklearn/neural_network/_multilayer_perceptron.py:546: ConvergenceWarning: lbfgs failed to converge (status=1):\n",
      "STOP: TOTAL NO. of ITERATIONS REACHED LIMIT.\n",
      "\n",
      "Increase the number of iterations (max_iter) or scale the data as shown in:\n",
      "    https://scikit-learn.org/stable/modules/preprocessing.html\n",
      "  self.n_iter_ = _check_optimize_result(\"lbfgs\", opt_res, self.max_iter)\n",
      "/Users/sebastianlopez/miniconda3/envs/maestriamatching/lib/python3.10/site-packages/sklearn/neural_network/_multilayer_perceptron.py:691: ConvergenceWarning: Stochastic Optimizer: Maximum iterations (10) reached and the optimization hasn't converged yet.\n",
      "  warnings.warn(\n",
      "/Users/sebastianlopez/miniconda3/envs/maestriamatching/lib/python3.10/site-packages/sklearn/neural_network/_multilayer_perceptron.py:691: ConvergenceWarning: Stochastic Optimizer: Maximum iterations (10) reached and the optimization hasn't converged yet.\n",
      "  warnings.warn(\n"
     ]
    },
    {
     "name": "stdout",
     "output_type": "stream",
     "text": [
      "[CV] END activation=identity, alpha=0.0001, early_stopping=True, learning_rate=constant, learning_rate_init=0.01, max_iter=10, n_iter_no_change=5, power_t=0.1, solver=lbfgs; total time=  28.1s\n",
      "[CV] END activation=identity, alpha=0.0001, early_stopping=True, learning_rate=constant, learning_rate_init=0.01, max_iter=10, n_iter_no_change=5, power_t=0.5, solver=adam; total time=  29.3s\n",
      "[CV] END activation=identity, alpha=0.0001, early_stopping=True, learning_rate=constant, learning_rate_init=0.01, max_iter=10, n_iter_no_change=5, power_t=0.5, solver=adam; total time=  29.4s\n"
     ]
    },
    {
     "name": "stderr",
     "output_type": "stream",
     "text": [
      "/Users/sebastianlopez/miniconda3/envs/maestriamatching/lib/python3.10/site-packages/sklearn/neural_network/_multilayer_perceptron.py:546: ConvergenceWarning: lbfgs failed to converge (status=1):\n",
      "STOP: TOTAL NO. of ITERATIONS REACHED LIMIT.\n",
      "\n",
      "Increase the number of iterations (max_iter) or scale the data as shown in:\n",
      "    https://scikit-learn.org/stable/modules/preprocessing.html\n",
      "  self.n_iter_ = _check_optimize_result(\"lbfgs\", opt_res, self.max_iter)\n"
     ]
    },
    {
     "name": "stdout",
     "output_type": "stream",
     "text": [
      "[CV] END activation=identity, alpha=0.0001, early_stopping=True, learning_rate=constant, learning_rate_init=0.01, max_iter=10, n_iter_no_change=5, power_t=0.1, solver=lbfgs; total time=  28.8s\n"
     ]
    },
    {
     "name": "stderr",
     "output_type": "stream",
     "text": [
      "/Users/sebastianlopez/miniconda3/envs/maestriamatching/lib/python3.10/site-packages/sklearn/neural_network/_multilayer_perceptron.py:546: ConvergenceWarning: lbfgs failed to converge (status=1):\n",
      "STOP: TOTAL NO. of ITERATIONS REACHED LIMIT.\n",
      "\n",
      "Increase the number of iterations (max_iter) or scale the data as shown in:\n",
      "    https://scikit-learn.org/stable/modules/preprocessing.html\n",
      "  self.n_iter_ = _check_optimize_result(\"lbfgs\", opt_res, self.max_iter)\n"
     ]
    },
    {
     "name": "stdout",
     "output_type": "stream",
     "text": [
      "[CV] END activation=identity, alpha=0.0001, early_stopping=True, learning_rate=constant, learning_rate_init=0.01, max_iter=10, n_iter_no_change=5, power_t=0.1, solver=lbfgs; total time=  41.0s\n"
     ]
    },
    {
     "name": "stderr",
     "output_type": "stream",
     "text": [
      "/Users/sebastianlopez/miniconda3/envs/maestriamatching/lib/python3.10/site-packages/sklearn/neural_network/_multilayer_perceptron.py:691: ConvergenceWarning: Stochastic Optimizer: Maximum iterations (10) reached and the optimization hasn't converged yet.\n",
      "  warnings.warn(\n",
      "/Users/sebastianlopez/miniconda3/envs/maestriamatching/lib/python3.10/site-packages/sklearn/neural_network/_multilayer_perceptron.py:691: ConvergenceWarning: Stochastic Optimizer: Maximum iterations (10) reached and the optimization hasn't converged yet.\n",
      "  warnings.warn(\n"
     ]
    },
    {
     "name": "stdout",
     "output_type": "stream",
     "text": [
      "[CV] END activation=identity, alpha=0.0001, early_stopping=True, learning_rate=constant, learning_rate_init=0.01, max_iter=10, n_iter_no_change=5, power_t=0.1, solver=sgd; total time=  27.2s\n",
      "[CV] END activation=identity, alpha=0.0001, early_stopping=True, learning_rate=constant, learning_rate_init=0.01, max_iter=10, n_iter_no_change=5, power_t=0.1, solver=sgd; total time=  27.7s\n"
     ]
    },
    {
     "name": "stderr",
     "output_type": "stream",
     "text": [
      "/Users/sebastianlopez/miniconda3/envs/maestriamatching/lib/python3.10/site-packages/sklearn/neural_network/_multilayer_perceptron.py:691: ConvergenceWarning: Stochastic Optimizer: Maximum iterations (10) reached and the optimization hasn't converged yet.\n",
      "  warnings.warn(\n"
     ]
    },
    {
     "name": "stdout",
     "output_type": "stream",
     "text": [
      "[CV] END activation=identity, alpha=0.0001, early_stopping=True, learning_rate=constant, learning_rate_init=0.01, max_iter=10, n_iter_no_change=5, power_t=0.1, solver=sgd; total time=  27.5s\n"
     ]
    },
    {
     "name": "stderr",
     "output_type": "stream",
     "text": [
      "/Users/sebastianlopez/miniconda3/envs/maestriamatching/lib/python3.10/site-packages/sklearn/neural_network/_multilayer_perceptron.py:691: ConvergenceWarning: Stochastic Optimizer: Maximum iterations (10) reached and the optimization hasn't converged yet.\n",
      "  warnings.warn(\n"
     ]
    },
    {
     "name": "stdout",
     "output_type": "stream",
     "text": [
      "[CV] END activation=identity, alpha=0.0001, early_stopping=True, learning_rate=constant, learning_rate_init=0.01, max_iter=10, n_iter_no_change=5, power_t=0.1, solver=adam; total time=  30.2s\n",
      "[CV] END activation=identity, alpha=0.0001, early_stopping=True, learning_rate=constant, learning_rate_init=0.01, max_iter=10, n_iter_no_change=5, power_t=0.1, solver=adam; total time=  29.8s\n"
     ]
    },
    {
     "name": "stderr",
     "output_type": "stream",
     "text": [
      "/Users/sebastianlopez/miniconda3/envs/maestriamatching/lib/python3.10/site-packages/sklearn/neural_network/_multilayer_perceptron.py:546: ConvergenceWarning: lbfgs failed to converge (status=1):\n",
      "STOP: TOTAL NO. of ITERATIONS REACHED LIMIT.\n",
      "\n",
      "Increase the number of iterations (max_iter) or scale the data as shown in:\n",
      "    https://scikit-learn.org/stable/modules/preprocessing.html\n",
      "  self.n_iter_ = _check_optimize_result(\"lbfgs\", opt_res, self.max_iter)\n",
      "/Users/sebastianlopez/miniconda3/envs/maestriamatching/lib/python3.10/site-packages/sklearn/neural_network/_multilayer_perceptron.py:546: ConvergenceWarning: lbfgs failed to converge (status=1):\n",
      "STOP: TOTAL NO. of ITERATIONS REACHED LIMIT.\n",
      "\n",
      "Increase the number of iterations (max_iter) or scale the data as shown in:\n",
      "    https://scikit-learn.org/stable/modules/preprocessing.html\n",
      "  self.n_iter_ = _check_optimize_result(\"lbfgs\", opt_res, self.max_iter)\n",
      "/Users/sebastianlopez/miniconda3/envs/maestriamatching/lib/python3.10/site-packages/sklearn/neural_network/_multilayer_perceptron.py:691: ConvergenceWarning: Stochastic Optimizer: Maximum iterations (10) reached and the optimization hasn't converged yet.\n",
      "  warnings.warn(\n"
     ]
    },
    {
     "name": "stdout",
     "output_type": "stream",
     "text": [
      "[CV] END activation=identity, alpha=0.0001, early_stopping=True, learning_rate=constant, learning_rate_init=0.01, max_iter=10, n_iter_no_change=5, power_t=0.9, solver=lbfgs; total time=  26.1s\n",
      "[CV] END activation=identity, alpha=0.0001, early_stopping=True, learning_rate=constant, learning_rate_init=0.01, max_iter=10, n_iter_no_change=5, power_t=0.9, solver=lbfgs; total time=  26.5s\n",
      "[CV] END activation=identity, alpha=0.0001, early_stopping=True, learning_rate=constant, learning_rate_init=0.01, max_iter=10, n_iter_no_change=5, power_t=0.1, solver=adam; total time=  29.7s\n"
     ]
    },
    {
     "name": "stderr",
     "output_type": "stream",
     "text": [
      "/Users/sebastianlopez/miniconda3/envs/maestriamatching/lib/python3.10/site-packages/sklearn/neural_network/_multilayer_perceptron.py:546: ConvergenceWarning: lbfgs failed to converge (status=1):\n",
      "STOP: TOTAL NO. of ITERATIONS REACHED LIMIT.\n",
      "\n",
      "Increase the number of iterations (max_iter) or scale the data as shown in:\n",
      "    https://scikit-learn.org/stable/modules/preprocessing.html\n",
      "  self.n_iter_ = _check_optimize_result(\"lbfgs\", opt_res, self.max_iter)\n"
     ]
    },
    {
     "name": "stdout",
     "output_type": "stream",
     "text": [
      "[CV] END activation=identity, alpha=0.0001, early_stopping=True, learning_rate=constant, learning_rate_init=0.01, max_iter=10, n_iter_no_change=5, power_t=0.9, solver=lbfgs; total time=  36.4s\n"
     ]
    },
    {
     "name": "stderr",
     "output_type": "stream",
     "text": [
      "/Users/sebastianlopez/miniconda3/envs/maestriamatching/lib/python3.10/site-packages/sklearn/neural_network/_multilayer_perceptron.py:691: ConvergenceWarning: Stochastic Optimizer: Maximum iterations (10) reached and the optimization hasn't converged yet.\n",
      "  warnings.warn(\n"
     ]
    },
    {
     "name": "stdout",
     "output_type": "stream",
     "text": [
      "[CV] END activation=identity, alpha=0.0001, early_stopping=True, learning_rate=constant, learning_rate_init=0.01, max_iter=10, n_iter_no_change=5, power_t=0.9, solver=sgd; total time=  26.8s\n"
     ]
    },
    {
     "name": "stderr",
     "output_type": "stream",
     "text": [
      "/Users/sebastianlopez/miniconda3/envs/maestriamatching/lib/python3.10/site-packages/sklearn/neural_network/_multilayer_perceptron.py:691: ConvergenceWarning: Stochastic Optimizer: Maximum iterations (10) reached and the optimization hasn't converged yet.\n",
      "  warnings.warn(\n"
     ]
    },
    {
     "name": "stdout",
     "output_type": "stream",
     "text": [
      "[CV] END activation=identity, alpha=0.0001, early_stopping=True, learning_rate=constant, learning_rate_init=0.01, max_iter=10, n_iter_no_change=5, power_t=0.9, solver=sgd; total time=  27.2s\n"
     ]
    },
    {
     "name": "stderr",
     "output_type": "stream",
     "text": [
      "/Users/sebastianlopez/miniconda3/envs/maestriamatching/lib/python3.10/site-packages/sklearn/neural_network/_multilayer_perceptron.py:691: ConvergenceWarning: Stochastic Optimizer: Maximum iterations (10) reached and the optimization hasn't converged yet.\n",
      "  warnings.warn(\n"
     ]
    },
    {
     "name": "stdout",
     "output_type": "stream",
     "text": [
      "[CV] END activation=identity, alpha=0.0001, early_stopping=True, learning_rate=constant, learning_rate_init=0.01, max_iter=10, n_iter_no_change=5, power_t=0.9, solver=sgd; total time=  26.8s\n",
      "[CV] END activation=identity, alpha=0.0001, early_stopping=True, learning_rate=constant, learning_rate_init=0.01, max_iter=10, n_iter_no_change=5, power_t=0.9, solver=adam; total time=  29.4s\n"
     ]
    },
    {
     "name": "stderr",
     "output_type": "stream",
     "text": [
      "/Users/sebastianlopez/miniconda3/envs/maestriamatching/lib/python3.10/site-packages/sklearn/neural_network/_multilayer_perceptron.py:691: ConvergenceWarning: Stochastic Optimizer: Maximum iterations (10) reached and the optimization hasn't converged yet.\n",
      "  warnings.warn(\n"
     ]
    },
    {
     "name": "stdout",
     "output_type": "stream",
     "text": [
      "[CV] END activation=identity, alpha=0.0001, early_stopping=True, learning_rate=constant, learning_rate_init=0.01, max_iter=10, n_iter_no_change=5, power_t=0.9, solver=adam; total time=  30.1s\n"
     ]
    },
    {
     "name": "stderr",
     "output_type": "stream",
     "text": [
      "/Users/sebastianlopez/miniconda3/envs/maestriamatching/lib/python3.10/site-packages/sklearn/neural_network/_multilayer_perceptron.py:546: ConvergenceWarning: lbfgs failed to converge (status=1):\n",
      "STOP: TOTAL NO. of ITERATIONS REACHED LIMIT.\n",
      "\n",
      "Increase the number of iterations (max_iter) or scale the data as shown in:\n",
      "    https://scikit-learn.org/stable/modules/preprocessing.html\n",
      "  self.n_iter_ = _check_optimize_result(\"lbfgs\", opt_res, self.max_iter)\n"
     ]
    },
    {
     "name": "stdout",
     "output_type": "stream",
     "text": [
      "[CV] END activation=identity, alpha=0.0001, early_stopping=True, learning_rate=constant, learning_rate_init=0.01, max_iter=10, n_iter_no_change=5, power_t=0.001, solver=lbfgs; total time=  28.2s\n"
     ]
    },
    {
     "name": "stderr",
     "output_type": "stream",
     "text": [
      "/Users/sebastianlopez/miniconda3/envs/maestriamatching/lib/python3.10/site-packages/sklearn/neural_network/_multilayer_perceptron.py:691: ConvergenceWarning: Stochastic Optimizer: Maximum iterations (10) reached and the optimization hasn't converged yet.\n",
      "  warnings.warn(\n",
      "/Users/sebastianlopez/miniconda3/envs/maestriamatching/lib/python3.10/site-packages/sklearn/neural_network/_multilayer_perceptron.py:546: ConvergenceWarning: lbfgs failed to converge (status=1):\n",
      "STOP: TOTAL NO. of ITERATIONS REACHED LIMIT.\n",
      "\n",
      "Increase the number of iterations (max_iter) or scale the data as shown in:\n",
      "    https://scikit-learn.org/stable/modules/preprocessing.html\n",
      "  self.n_iter_ = _check_optimize_result(\"lbfgs\", opt_res, self.max_iter)\n"
     ]
    },
    {
     "name": "stdout",
     "output_type": "stream",
     "text": [
      "[CV] END activation=identity, alpha=0.0001, early_stopping=True, learning_rate=constant, learning_rate_init=0.01, max_iter=10, n_iter_no_change=5, power_t=0.9, solver=adam; total time=  29.6s\n",
      "[CV] END activation=identity, alpha=0.0001, early_stopping=True, learning_rate=constant, learning_rate_init=0.01, max_iter=10, n_iter_no_change=5, power_t=0.001, solver=lbfgs; total time=  25.9s\n"
     ]
    },
    {
     "name": "stderr",
     "output_type": "stream",
     "text": [
      "/Users/sebastianlopez/miniconda3/envs/maestriamatching/lib/python3.10/site-packages/sklearn/neural_network/_multilayer_perceptron.py:691: ConvergenceWarning: Stochastic Optimizer: Maximum iterations (10) reached and the optimization hasn't converged yet.\n",
      "  warnings.warn(\n"
     ]
    },
    {
     "name": "stdout",
     "output_type": "stream",
     "text": [
      "[CV] END activation=identity, alpha=0.0001, early_stopping=True, learning_rate=constant, learning_rate_init=0.01, max_iter=10, n_iter_no_change=5, power_t=0.001, solver=sgd; total time=  27.8s\n"
     ]
    },
    {
     "name": "stderr",
     "output_type": "stream",
     "text": [
      "/Users/sebastianlopez/miniconda3/envs/maestriamatching/lib/python3.10/site-packages/sklearn/neural_network/_multilayer_perceptron.py:546: ConvergenceWarning: lbfgs failed to converge (status=1):\n",
      "STOP: TOTAL NO. of ITERATIONS REACHED LIMIT.\n",
      "\n",
      "Increase the number of iterations (max_iter) or scale the data as shown in:\n",
      "    https://scikit-learn.org/stable/modules/preprocessing.html\n",
      "  self.n_iter_ = _check_optimize_result(\"lbfgs\", opt_res, self.max_iter)\n"
     ]
    },
    {
     "name": "stdout",
     "output_type": "stream",
     "text": [
      "[CV] END activation=identity, alpha=0.0001, early_stopping=True, learning_rate=constant, learning_rate_init=0.01, max_iter=10, n_iter_no_change=5, power_t=0.001, solver=lbfgs; total time=  30.8s\n"
     ]
    },
    {
     "name": "stderr",
     "output_type": "stream",
     "text": [
      "/Users/sebastianlopez/miniconda3/envs/maestriamatching/lib/python3.10/site-packages/sklearn/neural_network/_multilayer_perceptron.py:691: ConvergenceWarning: Stochastic Optimizer: Maximum iterations (10) reached and the optimization hasn't converged yet.\n",
      "  warnings.warn(\n"
     ]
    },
    {
     "name": "stdout",
     "output_type": "stream",
     "text": [
      "[CV] END activation=identity, alpha=0.0001, early_stopping=True, learning_rate=constant, learning_rate_init=0.01, max_iter=10, n_iter_no_change=5, power_t=0.001, solver=sgd; total time=  28.6s\n"
     ]
    },
    {
     "name": "stderr",
     "output_type": "stream",
     "text": [
      "/Users/sebastianlopez/miniconda3/envs/maestriamatching/lib/python3.10/site-packages/sklearn/neural_network/_multilayer_perceptron.py:691: ConvergenceWarning: Stochastic Optimizer: Maximum iterations (10) reached and the optimization hasn't converged yet.\n",
      "  warnings.warn(\n"
     ]
    },
    {
     "name": "stdout",
     "output_type": "stream",
     "text": [
      "[CV] END activation=identity, alpha=0.0001, early_stopping=True, learning_rate=constant, learning_rate_init=0.01, max_iter=10, n_iter_no_change=5, power_t=0.001, solver=sgd; total time=  28.4s\n",
      "[CV] END activation=identity, alpha=0.0001, early_stopping=True, learning_rate=constant, learning_rate_init=0.01, max_iter=10, n_iter_no_change=5, power_t=0.001, solver=adam; total time=  31.2s\n"
     ]
    },
    {
     "name": "stderr",
     "output_type": "stream",
     "text": [
      "/Users/sebastianlopez/miniconda3/envs/maestriamatching/lib/python3.10/site-packages/sklearn/neural_network/_multilayer_perceptron.py:691: ConvergenceWarning: Stochastic Optimizer: Maximum iterations (10) reached and the optimization hasn't converged yet.\n",
      "  warnings.warn(\n"
     ]
    },
    {
     "name": "stdout",
     "output_type": "stream",
     "text": [
      "[CV] END activation=identity, alpha=0.0001, early_stopping=True, learning_rate=constant, learning_rate_init=0.01, max_iter=10, n_iter_no_change=5, power_t=0.001, solver=adam; total time=  30.8s\n"
     ]
    },
    {
     "name": "stderr",
     "output_type": "stream",
     "text": [
      "/Users/sebastianlopez/miniconda3/envs/maestriamatching/lib/python3.10/site-packages/sklearn/neural_network/_multilayer_perceptron.py:546: ConvergenceWarning: lbfgs failed to converge (status=1):\n",
      "STOP: TOTAL NO. of ITERATIONS REACHED LIMIT.\n",
      "\n",
      "Increase the number of iterations (max_iter) or scale the data as shown in:\n",
      "    https://scikit-learn.org/stable/modules/preprocessing.html\n",
      "  self.n_iter_ = _check_optimize_result(\"lbfgs\", opt_res, self.max_iter)\n"
     ]
    },
    {
     "name": "stdout",
     "output_type": "stream",
     "text": [
      "[CV] END activation=identity, alpha=0.0001, early_stopping=True, learning_rate=constant, learning_rate_init=0.01, max_iter=10, n_iter_no_change=5, power_t=0.005, solver=lbfgs; total time=  27.0s\n"
     ]
    },
    {
     "name": "stderr",
     "output_type": "stream",
     "text": [
      "/Users/sebastianlopez/miniconda3/envs/maestriamatching/lib/python3.10/site-packages/sklearn/neural_network/_multilayer_perceptron.py:546: ConvergenceWarning: lbfgs failed to converge (status=1):\n",
      "STOP: TOTAL NO. of ITERATIONS REACHED LIMIT.\n",
      "\n",
      "Increase the number of iterations (max_iter) or scale the data as shown in:\n",
      "    https://scikit-learn.org/stable/modules/preprocessing.html\n",
      "  self.n_iter_ = _check_optimize_result(\"lbfgs\", opt_res, self.max_iter)\n",
      "/Users/sebastianlopez/miniconda3/envs/maestriamatching/lib/python3.10/site-packages/sklearn/neural_network/_multilayer_perceptron.py:691: ConvergenceWarning: Stochastic Optimizer: Maximum iterations (10) reached and the optimization hasn't converged yet.\n",
      "  warnings.warn(\n"
     ]
    },
    {
     "name": "stdout",
     "output_type": "stream",
     "text": [
      "[CV] END activation=identity, alpha=0.0001, early_stopping=True, learning_rate=constant, learning_rate_init=0.01, max_iter=10, n_iter_no_change=5, power_t=0.005, solver=lbfgs; total time=  28.9s\n",
      "[CV] END activation=identity, alpha=0.0001, early_stopping=True, learning_rate=constant, learning_rate_init=0.01, max_iter=10, n_iter_no_change=5, power_t=0.001, solver=adam; total time=  30.9s\n"
     ]
    },
    {
     "name": "stderr",
     "output_type": "stream",
     "text": [
      "/Users/sebastianlopez/miniconda3/envs/maestriamatching/lib/python3.10/site-packages/sklearn/neural_network/_multilayer_perceptron.py:691: ConvergenceWarning: Stochastic Optimizer: Maximum iterations (10) reached and the optimization hasn't converged yet.\n",
      "  warnings.warn(\n"
     ]
    },
    {
     "name": "stdout",
     "output_type": "stream",
     "text": [
      "[CV] END activation=identity, alpha=0.0001, early_stopping=True, learning_rate=constant, learning_rate_init=0.01, max_iter=10, n_iter_no_change=5, power_t=0.005, solver=sgd; total time=  28.6s\n"
     ]
    },
    {
     "name": "stderr",
     "output_type": "stream",
     "text": [
      "/Users/sebastianlopez/miniconda3/envs/maestriamatching/lib/python3.10/site-packages/sklearn/neural_network/_multilayer_perceptron.py:546: ConvergenceWarning: lbfgs failed to converge (status=1):\n",
      "STOP: TOTAL NO. of ITERATIONS REACHED LIMIT.\n",
      "\n",
      "Increase the number of iterations (max_iter) or scale the data as shown in:\n",
      "    https://scikit-learn.org/stable/modules/preprocessing.html\n",
      "  self.n_iter_ = _check_optimize_result(\"lbfgs\", opt_res, self.max_iter)\n",
      "/Users/sebastianlopez/miniconda3/envs/maestriamatching/lib/python3.10/site-packages/sklearn/neural_network/_multilayer_perceptron.py:691: ConvergenceWarning: Stochastic Optimizer: Maximum iterations (10) reached and the optimization hasn't converged yet.\n",
      "  warnings.warn(\n"
     ]
    },
    {
     "name": "stdout",
     "output_type": "stream",
     "text": [
      "[CV] END activation=identity, alpha=0.0001, early_stopping=True, learning_rate=constant, learning_rate_init=0.01, max_iter=10, n_iter_no_change=5, power_t=0.005, solver=lbfgs; total time=  31.0s\n",
      "[CV] END activation=identity, alpha=0.0001, early_stopping=True, learning_rate=constant, learning_rate_init=0.01, max_iter=10, n_iter_no_change=5, power_t=0.005, solver=sgd; total time=  28.8s\n"
     ]
    },
    {
     "name": "stderr",
     "output_type": "stream",
     "text": [
      "/Users/sebastianlopez/miniconda3/envs/maestriamatching/lib/python3.10/site-packages/sklearn/neural_network/_multilayer_perceptron.py:691: ConvergenceWarning: Stochastic Optimizer: Maximum iterations (10) reached and the optimization hasn't converged yet.\n",
      "  warnings.warn(\n"
     ]
    },
    {
     "name": "stdout",
     "output_type": "stream",
     "text": [
      "[CV] END activation=identity, alpha=0.0001, early_stopping=True, learning_rate=constant, learning_rate_init=0.01, max_iter=10, n_iter_no_change=5, power_t=0.005, solver=sgd; total time=  28.2s\n"
     ]
    },
    {
     "name": "stderr",
     "output_type": "stream",
     "text": [
      "/Users/sebastianlopez/miniconda3/envs/maestriamatching/lib/python3.10/site-packages/sklearn/neural_network/_multilayer_perceptron.py:691: ConvergenceWarning: Stochastic Optimizer: Maximum iterations (10) reached and the optimization hasn't converged yet.\n",
      "  warnings.warn(\n"
     ]
    },
    {
     "name": "stdout",
     "output_type": "stream",
     "text": [
      "[CV] END activation=identity, alpha=0.0001, early_stopping=True, learning_rate=constant, learning_rate_init=0.01, max_iter=10, n_iter_no_change=5, power_t=0.005, solver=adam; total time=  30.3s\n"
     ]
    },
    {
     "name": "stderr",
     "output_type": "stream",
     "text": [
      "/Users/sebastianlopez/miniconda3/envs/maestriamatching/lib/python3.10/site-packages/sklearn/neural_network/_multilayer_perceptron.py:691: ConvergenceWarning: Stochastic Optimizer: Maximum iterations (10) reached and the optimization hasn't converged yet.\n",
      "  warnings.warn(\n"
     ]
    },
    {
     "name": "stdout",
     "output_type": "stream",
     "text": [
      "[CV] END activation=identity, alpha=0.0001, early_stopping=True, learning_rate=constant, learning_rate_init=0.01, max_iter=10, n_iter_no_change=5, power_t=0.005, solver=adam; total time=  30.7s\n"
     ]
    },
    {
     "name": "stderr",
     "output_type": "stream",
     "text": [
      "/Users/sebastianlopez/miniconda3/envs/maestriamatching/lib/python3.10/site-packages/sklearn/neural_network/_multilayer_perceptron.py:691: ConvergenceWarning: Stochastic Optimizer: Maximum iterations (10) reached and the optimization hasn't converged yet.\n",
      "  warnings.warn(\n"
     ]
    },
    {
     "name": "stdout",
     "output_type": "stream",
     "text": [
      "[CV] END activation=identity, alpha=0.0001, early_stopping=True, learning_rate=constant, learning_rate_init=0.01, max_iter=10, n_iter_no_change=5, power_t=0.005, solver=adam; total time=  30.4s\n",
      "[CV] END activation=identity, alpha=0.0001, early_stopping=True, learning_rate=constant, learning_rate_init=0.01, max_iter=20, n_iter_no_change=5, power_t=0.5, solver=sgd; total time=  37.2s\n"
     ]
    },
    {
     "name": "stderr",
     "output_type": "stream",
     "text": [
      "/Users/sebastianlopez/miniconda3/envs/maestriamatching/lib/python3.10/site-packages/sklearn/neural_network/_multilayer_perceptron.py:546: ConvergenceWarning: lbfgs failed to converge (status=1):\n",
      "STOP: TOTAL NO. of ITERATIONS REACHED LIMIT.\n",
      "\n",
      "Increase the number of iterations (max_iter) or scale the data as shown in:\n",
      "    https://scikit-learn.org/stable/modules/preprocessing.html\n",
      "  self.n_iter_ = _check_optimize_result(\"lbfgs\", opt_res, self.max_iter)\n"
     ]
    },
    {
     "name": "stdout",
     "output_type": "stream",
     "text": [
      "[CV] END activation=identity, alpha=0.0001, early_stopping=True, learning_rate=constant, learning_rate_init=0.01, max_iter=20, n_iter_no_change=5, power_t=0.5, solver=lbfgs; total time=  46.2s\n",
      "[CV] END activation=identity, alpha=0.0001, early_stopping=True, learning_rate=constant, learning_rate_init=0.01, max_iter=20, n_iter_no_change=5, power_t=0.5, solver=adam; total time=  43.9s\n"
     ]
    },
    {
     "name": "stderr",
     "output_type": "stream",
     "text": [
      "/Users/sebastianlopez/miniconda3/envs/maestriamatching/lib/python3.10/site-packages/sklearn/neural_network/_multilayer_perceptron.py:546: ConvergenceWarning: lbfgs failed to converge (status=1):\n",
      "STOP: TOTAL NO. of ITERATIONS REACHED LIMIT.\n",
      "\n",
      "Increase the number of iterations (max_iter) or scale the data as shown in:\n",
      "    https://scikit-learn.org/stable/modules/preprocessing.html\n",
      "  self.n_iter_ = _check_optimize_result(\"lbfgs\", opt_res, self.max_iter)\n"
     ]
    },
    {
     "name": "stdout",
     "output_type": "stream",
     "text": [
      "[CV] END activation=identity, alpha=0.0001, early_stopping=True, learning_rate=constant, learning_rate_init=0.01, max_iter=20, n_iter_no_change=5, power_t=0.5, solver=lbfgs; total time=  49.6s\n"
     ]
    },
    {
     "name": "stderr",
     "output_type": "stream",
     "text": [
      "/Users/sebastianlopez/miniconda3/envs/maestriamatching/lib/python3.10/site-packages/sklearn/neural_network/_multilayer_perceptron.py:691: ConvergenceWarning: Stochastic Optimizer: Maximum iterations (20) reached and the optimization hasn't converged yet.\n",
      "  warnings.warn(\n"
     ]
    },
    {
     "name": "stdout",
     "output_type": "stream",
     "text": [
      "[CV] END activation=identity, alpha=0.0001, early_stopping=True, learning_rate=constant, learning_rate_init=0.01, max_iter=20, n_iter_no_change=5, power_t=0.5, solver=sgd; total time=  51.2s\n",
      "[CV] END activation=identity, alpha=0.0001, early_stopping=True, learning_rate=constant, learning_rate_init=0.01, max_iter=20, n_iter_no_change=5, power_t=0.5, solver=sgd; total time=  53.7s\n"
     ]
    },
    {
     "name": "stderr",
     "output_type": "stream",
     "text": [
      "/Users/sebastianlopez/miniconda3/envs/maestriamatching/lib/python3.10/site-packages/sklearn/neural_network/_multilayer_perceptron.py:546: ConvergenceWarning: lbfgs failed to converge (status=1):\n",
      "STOP: TOTAL NO. of ITERATIONS REACHED LIMIT.\n",
      "\n",
      "Increase the number of iterations (max_iter) or scale the data as shown in:\n",
      "    https://scikit-learn.org/stable/modules/preprocessing.html\n",
      "  self.n_iter_ = _check_optimize_result(\"lbfgs\", opt_res, self.max_iter)\n"
     ]
    },
    {
     "name": "stdout",
     "output_type": "stream",
     "text": [
      "[CV] END activation=identity, alpha=0.0001, early_stopping=True, learning_rate=constant, learning_rate_init=0.01, max_iter=20, n_iter_no_change=5, power_t=0.5, solver=lbfgs; total time=  57.1s\n",
      "[CV] END activation=identity, alpha=0.0001, early_stopping=True, learning_rate=constant, learning_rate_init=0.01, max_iter=20, n_iter_no_change=5, power_t=0.5, solver=adam; total time=  49.7s\n"
     ]
    },
    {
     "name": "stderr",
     "output_type": "stream",
     "text": [
      "/Users/sebastianlopez/miniconda3/envs/maestriamatching/lib/python3.10/site-packages/sklearn/neural_network/_multilayer_perceptron.py:546: ConvergenceWarning: lbfgs failed to converge (status=1):\n",
      "STOP: TOTAL NO. of ITERATIONS REACHED LIMIT.\n",
      "\n",
      "Increase the number of iterations (max_iter) or scale the data as shown in:\n",
      "    https://scikit-learn.org/stable/modules/preprocessing.html\n",
      "  self.n_iter_ = _check_optimize_result(\"lbfgs\", opt_res, self.max_iter)\n"
     ]
    },
    {
     "name": "stdout",
     "output_type": "stream",
     "text": [
      "[CV] END activation=identity, alpha=0.0001, early_stopping=True, learning_rate=constant, learning_rate_init=0.01, max_iter=20, n_iter_no_change=5, power_t=0.5, solver=adam; total time=  48.9s\n",
      "[CV] END activation=identity, alpha=0.0001, early_stopping=True, learning_rate=constant, learning_rate_init=0.01, max_iter=20, n_iter_no_change=5, power_t=0.1, solver=lbfgs; total time=  46.3s\n"
     ]
    },
    {
     "name": "stderr",
     "output_type": "stream",
     "text": [
      "/Users/sebastianlopez/miniconda3/envs/maestriamatching/lib/python3.10/site-packages/sklearn/neural_network/_multilayer_perceptron.py:546: ConvergenceWarning: lbfgs failed to converge (status=1):\n",
      "STOP: TOTAL NO. of ITERATIONS REACHED LIMIT.\n",
      "\n",
      "Increase the number of iterations (max_iter) or scale the data as shown in:\n",
      "    https://scikit-learn.org/stable/modules/preprocessing.html\n",
      "  self.n_iter_ = _check_optimize_result(\"lbfgs\", opt_res, self.max_iter)\n"
     ]
    },
    {
     "name": "stdout",
     "output_type": "stream",
     "text": [
      "[CV] END activation=identity, alpha=0.0001, early_stopping=True, learning_rate=constant, learning_rate_init=0.01, max_iter=20, n_iter_no_change=5, power_t=0.1, solver=lbfgs; total time=  51.5s\n",
      "[CV] END activation=identity, alpha=0.0001, early_stopping=True, learning_rate=constant, learning_rate_init=0.01, max_iter=20, n_iter_no_change=5, power_t=0.1, solver=sgd; total time=  31.3s\n"
     ]
    },
    {
     "name": "stderr",
     "output_type": "stream",
     "text": [
      "/Users/sebastianlopez/miniconda3/envs/maestriamatching/lib/python3.10/site-packages/sklearn/neural_network/_multilayer_perceptron.py:546: ConvergenceWarning: lbfgs failed to converge (status=1):\n",
      "STOP: TOTAL NO. of ITERATIONS REACHED LIMIT.\n",
      "\n",
      "Increase the number of iterations (max_iter) or scale the data as shown in:\n",
      "    https://scikit-learn.org/stable/modules/preprocessing.html\n",
      "  self.n_iter_ = _check_optimize_result(\"lbfgs\", opt_res, self.max_iter)\n"
     ]
    },
    {
     "name": "stdout",
     "output_type": "stream",
     "text": [
      "[CV] END activation=identity, alpha=0.0001, early_stopping=True, learning_rate=constant, learning_rate_init=0.01, max_iter=20, n_iter_no_change=5, power_t=0.1, solver=lbfgs; total time=  50.7s\n",
      "[CV] END activation=identity, alpha=0.0001, early_stopping=True, learning_rate=constant, learning_rate_init=0.01, max_iter=20, n_iter_no_change=5, power_t=0.1, solver=adam; total time=  39.3s\n",
      "[CV] END activation=identity, alpha=0.0001, early_stopping=True, learning_rate=constant, learning_rate_init=0.01, max_iter=20, n_iter_no_change=5, power_t=0.1, solver=adam; total time=  39.8s\n"
     ]
    },
    {
     "name": "stderr",
     "output_type": "stream",
     "text": [
      "/Users/sebastianlopez/miniconda3/envs/maestriamatching/lib/python3.10/site-packages/sklearn/neural_network/_multilayer_perceptron.py:691: ConvergenceWarning: Stochastic Optimizer: Maximum iterations (20) reached and the optimization hasn't converged yet.\n",
      "  warnings.warn(\n"
     ]
    },
    {
     "name": "stdout",
     "output_type": "stream",
     "text": [
      "[CV] END activation=identity, alpha=0.0001, early_stopping=True, learning_rate=constant, learning_rate_init=0.01, max_iter=20, n_iter_no_change=5, power_t=0.1, solver=sgd; total time=  57.0s\n"
     ]
    },
    {
     "name": "stderr",
     "output_type": "stream",
     "text": [
      "/Users/sebastianlopez/miniconda3/envs/maestriamatching/lib/python3.10/site-packages/sklearn/neural_network/_multilayer_perceptron.py:691: ConvergenceWarning: Stochastic Optimizer: Maximum iterations (20) reached and the optimization hasn't converged yet.\n",
      "  warnings.warn(\n"
     ]
    },
    {
     "name": "stdout",
     "output_type": "stream",
     "text": [
      "[CV] END activation=identity, alpha=0.0001, early_stopping=True, learning_rate=constant, learning_rate_init=0.01, max_iter=20, n_iter_no_change=5, power_t=0.1, solver=sgd; total time=  56.4s\n"
     ]
    },
    {
     "name": "stderr",
     "output_type": "stream",
     "text": [
      "/Users/sebastianlopez/miniconda3/envs/maestriamatching/lib/python3.10/site-packages/sklearn/neural_network/_multilayer_perceptron.py:546: ConvergenceWarning: lbfgs failed to converge (status=1):\n",
      "STOP: TOTAL NO. of ITERATIONS REACHED LIMIT.\n",
      "\n",
      "Increase the number of iterations (max_iter) or scale the data as shown in:\n",
      "    https://scikit-learn.org/stable/modules/preprocessing.html\n",
      "  self.n_iter_ = _check_optimize_result(\"lbfgs\", opt_res, self.max_iter)\n"
     ]
    },
    {
     "name": "stdout",
     "output_type": "stream",
     "text": [
      "[CV] END activation=identity, alpha=0.0001, early_stopping=True, learning_rate=constant, learning_rate_init=0.01, max_iter=20, n_iter_no_change=5, power_t=0.9, solver=lbfgs; total time=  52.2s\n"
     ]
    },
    {
     "name": "stderr",
     "output_type": "stream",
     "text": [
      "/Users/sebastianlopez/miniconda3/envs/maestriamatching/lib/python3.10/site-packages/sklearn/neural_network/_multilayer_perceptron.py:546: ConvergenceWarning: lbfgs failed to converge (status=1):\n",
      "STOP: TOTAL NO. of ITERATIONS REACHED LIMIT.\n",
      "\n",
      "Increase the number of iterations (max_iter) or scale the data as shown in:\n",
      "    https://scikit-learn.org/stable/modules/preprocessing.html\n",
      "  self.n_iter_ = _check_optimize_result(\"lbfgs\", opt_res, self.max_iter)\n"
     ]
    },
    {
     "name": "stdout",
     "output_type": "stream",
     "text": [
      "[CV] END activation=identity, alpha=0.0001, early_stopping=True, learning_rate=constant, learning_rate_init=0.01, max_iter=20, n_iter_no_change=5, power_t=0.9, solver=lbfgs; total time=  47.8s\n"
     ]
    },
    {
     "name": "stderr",
     "output_type": "stream",
     "text": [
      "/Users/sebastianlopez/miniconda3/envs/maestriamatching/lib/python3.10/site-packages/sklearn/neural_network/_multilayer_perceptron.py:691: ConvergenceWarning: Stochastic Optimizer: Maximum iterations (20) reached and the optimization hasn't converged yet.\n",
      "  warnings.warn(\n"
     ]
    },
    {
     "name": "stdout",
     "output_type": "stream",
     "text": [
      "[CV] END activation=identity, alpha=0.0001, early_stopping=True, learning_rate=constant, learning_rate_init=0.01, max_iter=20, n_iter_no_change=5, power_t=0.1, solver=adam; total time= 1.0min\n"
     ]
    },
    {
     "name": "stderr",
     "output_type": "stream",
     "text": [
      "/Users/sebastianlopez/miniconda3/envs/maestriamatching/lib/python3.10/site-packages/sklearn/neural_network/_multilayer_perceptron.py:546: ConvergenceWarning: lbfgs failed to converge (status=1):\n",
      "STOP: TOTAL NO. of ITERATIONS REACHED LIMIT.\n",
      "\n",
      "Increase the number of iterations (max_iter) or scale the data as shown in:\n",
      "    https://scikit-learn.org/stable/modules/preprocessing.html\n",
      "  self.n_iter_ = _check_optimize_result(\"lbfgs\", opt_res, self.max_iter)\n"
     ]
    },
    {
     "name": "stdout",
     "output_type": "stream",
     "text": [
      "[CV] END activation=identity, alpha=0.0001, early_stopping=True, learning_rate=constant, learning_rate_init=0.01, max_iter=20, n_iter_no_change=5, power_t=0.9, solver=lbfgs; total time=  56.8s\n"
     ]
    },
    {
     "name": "stderr",
     "output_type": "stream",
     "text": [
      "/Users/sebastianlopez/miniconda3/envs/maestriamatching/lib/python3.10/site-packages/sklearn/neural_network/_multilayer_perceptron.py:691: ConvergenceWarning: Stochastic Optimizer: Maximum iterations (20) reached and the optimization hasn't converged yet.\n",
      "  warnings.warn(\n"
     ]
    },
    {
     "name": "stdout",
     "output_type": "stream",
     "text": [
      "[CV] END activation=identity, alpha=0.0001, early_stopping=True, learning_rate=constant, learning_rate_init=0.01, max_iter=20, n_iter_no_change=5, power_t=0.9, solver=sgd; total time=  57.6s\n"
     ]
    },
    {
     "name": "stderr",
     "output_type": "stream",
     "text": [
      "/Users/sebastianlopez/miniconda3/envs/maestriamatching/lib/python3.10/site-packages/sklearn/neural_network/_multilayer_perceptron.py:691: ConvergenceWarning: Stochastic Optimizer: Maximum iterations (20) reached and the optimization hasn't converged yet.\n",
      "  warnings.warn(\n"
     ]
    },
    {
     "name": "stdout",
     "output_type": "stream",
     "text": [
      "[CV] END activation=identity, alpha=0.0001, early_stopping=True, learning_rate=constant, learning_rate_init=0.01, max_iter=20, n_iter_no_change=5, power_t=0.9, solver=sgd; total time=  57.0s\n",
      "[CV] END activation=identity, alpha=0.0001, early_stopping=True, learning_rate=constant, learning_rate_init=0.01, max_iter=20, n_iter_no_change=5, power_t=0.9, solver=adam; total time=  46.9s\n"
     ]
    },
    {
     "name": "stderr",
     "output_type": "stream",
     "text": [
      "/Users/sebastianlopez/miniconda3/envs/maestriamatching/lib/python3.10/site-packages/sklearn/neural_network/_multilayer_perceptron.py:691: ConvergenceWarning: Stochastic Optimizer: Maximum iterations (20) reached and the optimization hasn't converged yet.\n",
      "  warnings.warn(\n"
     ]
    },
    {
     "name": "stdout",
     "output_type": "stream",
     "text": [
      "[CV] END activation=identity, alpha=0.0001, early_stopping=True, learning_rate=constant, learning_rate_init=0.01, max_iter=20, n_iter_no_change=5, power_t=0.9, solver=sgd; total time=  57.2s\n"
     ]
    },
    {
     "name": "stderr",
     "output_type": "stream",
     "text": [
      "/Users/sebastianlopez/miniconda3/envs/maestriamatching/lib/python3.10/site-packages/sklearn/neural_network/_multilayer_perceptron.py:546: ConvergenceWarning: lbfgs failed to converge (status=1):\n",
      "STOP: TOTAL NO. of ITERATIONS REACHED LIMIT.\n",
      "\n",
      "Increase the number of iterations (max_iter) or scale the data as shown in:\n",
      "    https://scikit-learn.org/stable/modules/preprocessing.html\n",
      "  self.n_iter_ = _check_optimize_result(\"lbfgs\", opt_res, self.max_iter)\n",
      "/Users/sebastianlopez/miniconda3/envs/maestriamatching/lib/python3.10/site-packages/sklearn/neural_network/_multilayer_perceptron.py:691: ConvergenceWarning: Stochastic Optimizer: Maximum iterations (20) reached and the optimization hasn't converged yet.\n",
      "  warnings.warn(\n"
     ]
    },
    {
     "name": "stdout",
     "output_type": "stream",
     "text": [
      "[CV] END activation=identity, alpha=0.0001, early_stopping=True, learning_rate=constant, learning_rate_init=0.01, max_iter=20, n_iter_no_change=5, power_t=0.001, solver=lbfgs; total time=  48.5s\n",
      "[CV] END activation=identity, alpha=0.0001, early_stopping=True, learning_rate=constant, learning_rate_init=0.01, max_iter=20, n_iter_no_change=5, power_t=0.9, solver=adam; total time= 1.0min\n",
      "[CV] END activation=identity, alpha=0.0001, early_stopping=True, learning_rate=constant, learning_rate_init=0.01, max_iter=20, n_iter_no_change=5, power_t=0.9, solver=adam; total time=  55.0s\n",
      "[CV] END activation=identity, alpha=0.0001, early_stopping=True, learning_rate=constant, learning_rate_init=0.01, max_iter=20, n_iter_no_change=5, power_t=0.001, solver=sgd; total time=  42.8s\n"
     ]
    },
    {
     "name": "stderr",
     "output_type": "stream",
     "text": [
      "/Users/sebastianlopez/miniconda3/envs/maestriamatching/lib/python3.10/site-packages/sklearn/neural_network/_multilayer_perceptron.py:546: ConvergenceWarning: lbfgs failed to converge (status=1):\n",
      "STOP: TOTAL NO. of ITERATIONS REACHED LIMIT.\n",
      "\n",
      "Increase the number of iterations (max_iter) or scale the data as shown in:\n",
      "    https://scikit-learn.org/stable/modules/preprocessing.html\n",
      "  self.n_iter_ = _check_optimize_result(\"lbfgs\", opt_res, self.max_iter)\n"
     ]
    },
    {
     "name": "stdout",
     "output_type": "stream",
     "text": [
      "[CV] END activation=identity, alpha=0.0001, early_stopping=True, learning_rate=constant, learning_rate_init=0.01, max_iter=20, n_iter_no_change=5, power_t=0.001, solver=lbfgs; total time= 1.0min\n"
     ]
    },
    {
     "name": "stderr",
     "output_type": "stream",
     "text": [
      "/Users/sebastianlopez/miniconda3/envs/maestriamatching/lib/python3.10/site-packages/sklearn/neural_network/_multilayer_perceptron.py:546: ConvergenceWarning: lbfgs failed to converge (status=1):\n",
      "STOP: TOTAL NO. of ITERATIONS REACHED LIMIT.\n",
      "\n",
      "Increase the number of iterations (max_iter) or scale the data as shown in:\n",
      "    https://scikit-learn.org/stable/modules/preprocessing.html\n",
      "  self.n_iter_ = _check_optimize_result(\"lbfgs\", opt_res, self.max_iter)\n"
     ]
    },
    {
     "name": "stdout",
     "output_type": "stream",
     "text": [
      "[CV] END activation=identity, alpha=0.0001, early_stopping=True, learning_rate=constant, learning_rate_init=0.01, max_iter=20, n_iter_no_change=5, power_t=0.001, solver=lbfgs; total time=  57.5s\n",
      "[CV] END activation=identity, alpha=0.0001, early_stopping=True, learning_rate=constant, learning_rate_init=0.01, max_iter=20, n_iter_no_change=5, power_t=0.001, solver=sgd; total time=  51.9s\n",
      "[CV] END activation=identity, alpha=0.0001, early_stopping=True, learning_rate=constant, learning_rate_init=0.01, max_iter=20, n_iter_no_change=5, power_t=0.001, solver=adam; total time=  38.0s\n"
     ]
    },
    {
     "name": "stderr",
     "output_type": "stream",
     "text": [
      "/Users/sebastianlopez/miniconda3/envs/maestriamatching/lib/python3.10/site-packages/sklearn/neural_network/_multilayer_perceptron.py:691: ConvergenceWarning: Stochastic Optimizer: Maximum iterations (20) reached and the optimization hasn't converged yet.\n",
      "  warnings.warn(\n"
     ]
    },
    {
     "name": "stdout",
     "output_type": "stream",
     "text": [
      "[CV] END activation=identity, alpha=0.0001, early_stopping=True, learning_rate=constant, learning_rate_init=0.01, max_iter=20, n_iter_no_change=5, power_t=0.001, solver=sgd; total time=  54.1s\n"
     ]
    },
    {
     "name": "stderr",
     "output_type": "stream",
     "text": [
      "/Users/sebastianlopez/miniconda3/envs/maestriamatching/lib/python3.10/site-packages/sklearn/neural_network/_multilayer_perceptron.py:691: ConvergenceWarning: Stochastic Optimizer: Maximum iterations (20) reached and the optimization hasn't converged yet.\n",
      "  warnings.warn(\n"
     ]
    },
    {
     "name": "stdout",
     "output_type": "stream",
     "text": [
      "[CV] END activation=identity, alpha=0.0001, early_stopping=True, learning_rate=constant, learning_rate_init=0.01, max_iter=20, n_iter_no_change=5, power_t=0.001, solver=adam; total time=  57.8s\n"
     ]
    },
    {
     "name": "stderr",
     "output_type": "stream",
     "text": [
      "/Users/sebastianlopez/miniconda3/envs/maestriamatching/lib/python3.10/site-packages/sklearn/neural_network/_multilayer_perceptron.py:546: ConvergenceWarning: lbfgs failed to converge (status=1):\n",
      "STOP: TOTAL NO. of ITERATIONS REACHED LIMIT.\n",
      "\n",
      "Increase the number of iterations (max_iter) or scale the data as shown in:\n",
      "    https://scikit-learn.org/stable/modules/preprocessing.html\n",
      "  self.n_iter_ = _check_optimize_result(\"lbfgs\", opt_res, self.max_iter)\n",
      "/Users/sebastianlopez/miniconda3/envs/maestriamatching/lib/python3.10/site-packages/sklearn/neural_network/_multilayer_perceptron.py:691: ConvergenceWarning: Stochastic Optimizer: Maximum iterations (20) reached and the optimization hasn't converged yet.\n",
      "  warnings.warn(\n"
     ]
    },
    {
     "name": "stdout",
     "output_type": "stream",
     "text": [
      "[CV] END activation=identity, alpha=0.0001, early_stopping=True, learning_rate=constant, learning_rate_init=0.01, max_iter=20, n_iter_no_change=5, power_t=0.005, solver=lbfgs; total time=  46.8s\n",
      "[CV] END activation=identity, alpha=0.0001, early_stopping=True, learning_rate=constant, learning_rate_init=0.01, max_iter=20, n_iter_no_change=5, power_t=0.001, solver=adam; total time=  58.1s\n"
     ]
    },
    {
     "name": "stderr",
     "output_type": "stream",
     "text": [
      "/Users/sebastianlopez/miniconda3/envs/maestriamatching/lib/python3.10/site-packages/sklearn/neural_network/_multilayer_perceptron.py:546: ConvergenceWarning: lbfgs failed to converge (status=1):\n",
      "STOP: TOTAL NO. of ITERATIONS REACHED LIMIT.\n",
      "\n",
      "Increase the number of iterations (max_iter) or scale the data as shown in:\n",
      "    https://scikit-learn.org/stable/modules/preprocessing.html\n",
      "  self.n_iter_ = _check_optimize_result(\"lbfgs\", opt_res, self.max_iter)\n"
     ]
    },
    {
     "name": "stdout",
     "output_type": "stream",
     "text": [
      "[CV] END activation=identity, alpha=0.0001, early_stopping=True, learning_rate=constant, learning_rate_init=0.01, max_iter=20, n_iter_no_change=5, power_t=0.005, solver=lbfgs; total time=  48.7s\n",
      "[CV] END activation=identity, alpha=0.0001, early_stopping=True, learning_rate=constant, learning_rate_init=0.01, max_iter=20, n_iter_no_change=5, power_t=0.005, solver=sgd; total time=  35.6s\n"
     ]
    },
    {
     "name": "stderr",
     "output_type": "stream",
     "text": [
      "/Users/sebastianlopez/miniconda3/envs/maestriamatching/lib/python3.10/site-packages/sklearn/neural_network/_multilayer_perceptron.py:691: ConvergenceWarning: Stochastic Optimizer: Maximum iterations (20) reached and the optimization hasn't converged yet.\n",
      "  warnings.warn(\n"
     ]
    },
    {
     "name": "stdout",
     "output_type": "stream",
     "text": [
      "[CV] END activation=identity, alpha=0.0001, early_stopping=True, learning_rate=constant, learning_rate_init=0.01, max_iter=20, n_iter_no_change=5, power_t=0.005, solver=sgd; total time=  54.1s\n"
     ]
    },
    {
     "name": "stderr",
     "output_type": "stream",
     "text": [
      "/Users/sebastianlopez/miniconda3/envs/maestriamatching/lib/python3.10/site-packages/sklearn/neural_network/_multilayer_perceptron.py:546: ConvergenceWarning: lbfgs failed to converge (status=1):\n",
      "STOP: TOTAL NO. of ITERATIONS REACHED LIMIT.\n",
      "\n",
      "Increase the number of iterations (max_iter) or scale the data as shown in:\n",
      "    https://scikit-learn.org/stable/modules/preprocessing.html\n",
      "  self.n_iter_ = _check_optimize_result(\"lbfgs\", opt_res, self.max_iter)\n"
     ]
    },
    {
     "name": "stdout",
     "output_type": "stream",
     "text": [
      "[CV] END activation=identity, alpha=0.0001, early_stopping=True, learning_rate=constant, learning_rate_init=0.01, max_iter=20, n_iter_no_change=5, power_t=0.005, solver=lbfgs; total time=  57.2s\n",
      "[CV] END activation=identity, alpha=0.0001, early_stopping=True, learning_rate=constant, learning_rate_init=0.01, max_iter=20, n_iter_no_change=5, power_t=0.005, solver=sgd; total time=  46.0s\n",
      "[CV] END activation=identity, alpha=0.0001, early_stopping=True, learning_rate=constant, learning_rate_init=0.01, max_iter=20, n_iter_no_change=5, power_t=0.005, solver=adam; total time=  44.4s\n",
      "[CV] END activation=identity, alpha=0.0001, early_stopping=True, learning_rate=constant, learning_rate_init=0.01, max_iter=20, n_iter_no_change=5, power_t=0.005, solver=adam; total time=  49.7s\n"
     ]
    },
    {
     "name": "stderr",
     "output_type": "stream",
     "text": [
      "/Users/sebastianlopez/miniconda3/envs/maestriamatching/lib/python3.10/site-packages/sklearn/neural_network/_multilayer_perceptron.py:691: ConvergenceWarning: Stochastic Optimizer: Maximum iterations (20) reached and the optimization hasn't converged yet.\n",
      "  warnings.warn(\n"
     ]
    },
    {
     "name": "stdout",
     "output_type": "stream",
     "text": [
      "[CV] END activation=identity, alpha=0.0001, early_stopping=True, learning_rate=constant, learning_rate_init=0.01, max_iter=20, n_iter_no_change=5, power_t=0.005, solver=adam; total time= 1.0min\n",
      "[CV] END activation=identity, alpha=0.0001, early_stopping=True, learning_rate=constant, learning_rate_init=0.01, max_iter=50, n_iter_no_change=5, power_t=0.5, solver=adam; total time=  39.8s\n",
      "[CV] END activation=identity, alpha=0.0001, early_stopping=True, learning_rate=constant, learning_rate_init=0.01, max_iter=50, n_iter_no_change=5, power_t=0.5, solver=adam; total time=  42.2s\n",
      "[CV] END activation=identity, alpha=0.0001, early_stopping=True, learning_rate=constant, learning_rate_init=0.01, max_iter=50, n_iter_no_change=5, power_t=0.5, solver=sgd; total time=  58.0s\n",
      "[CV] END activation=identity, alpha=0.0001, early_stopping=True, learning_rate=constant, learning_rate_init=0.01, max_iter=50, n_iter_no_change=5, power_t=0.5, solver=adam; total time=  42.0s\n",
      "[CV] END activation=identity, alpha=0.0001, early_stopping=True, learning_rate=constant, learning_rate_init=0.01, max_iter=50, n_iter_no_change=5, power_t=0.5, solver=sgd; total time= 1.0min\n",
      "[CV] END activation=identity, alpha=0.0001, early_stopping=True, learning_rate=constant, learning_rate_init=0.01, max_iter=50, n_iter_no_change=5, power_t=0.5, solver=sgd; total time=  57.2s\n",
      "[CV] END activation=identity, alpha=0.0001, early_stopping=True, learning_rate=constant, learning_rate_init=0.01, max_iter=50, n_iter_no_change=5, power_t=0.1, solver=adam; total time=  28.0s\n",
      "[CV] END activation=identity, alpha=0.0001, early_stopping=True, learning_rate=constant, learning_rate_init=0.01, max_iter=50, n_iter_no_change=5, power_t=0.1, solver=sgd; total time=  46.7s\n"
     ]
    },
    {
     "name": "stderr",
     "output_type": "stream",
     "text": [
      "/Users/sebastianlopez/miniconda3/envs/maestriamatching/lib/python3.10/site-packages/sklearn/neural_network/_multilayer_perceptron.py:546: ConvergenceWarning: lbfgs failed to converge (status=1):\n",
      "STOP: TOTAL NO. of ITERATIONS REACHED LIMIT.\n",
      "\n",
      "Increase the number of iterations (max_iter) or scale the data as shown in:\n",
      "    https://scikit-learn.org/stable/modules/preprocessing.html\n",
      "  self.n_iter_ = _check_optimize_result(\"lbfgs\", opt_res, self.max_iter)\n"
     ]
    },
    {
     "name": "stdout",
     "output_type": "stream",
     "text": [
      "[CV] END activation=identity, alpha=0.0001, early_stopping=True, learning_rate=constant, learning_rate_init=0.01, max_iter=50, n_iter_no_change=5, power_t=0.5, solver=lbfgs; total time= 1.9min\n",
      "[CV] END activation=identity, alpha=0.0001, early_stopping=True, learning_rate=constant, learning_rate_init=0.01, max_iter=50, n_iter_no_change=5, power_t=0.1, solver=adam; total time=  41.9s\n"
     ]
    },
    {
     "name": "stderr",
     "output_type": "stream",
     "text": [
      "/Users/sebastianlopez/miniconda3/envs/maestriamatching/lib/python3.10/site-packages/sklearn/neural_network/_multilayer_perceptron.py:546: ConvergenceWarning: lbfgs failed to converge (status=1):\n",
      "STOP: TOTAL NO. of ITERATIONS REACHED LIMIT.\n",
      "\n",
      "Increase the number of iterations (max_iter) or scale the data as shown in:\n",
      "    https://scikit-learn.org/stable/modules/preprocessing.html\n",
      "  self.n_iter_ = _check_optimize_result(\"lbfgs\", opt_res, self.max_iter)\n"
     ]
    },
    {
     "name": "stdout",
     "output_type": "stream",
     "text": [
      "[CV] END activation=identity, alpha=0.0001, early_stopping=True, learning_rate=constant, learning_rate_init=0.01, max_iter=50, n_iter_no_change=5, power_t=0.5, solver=lbfgs; total time= 2.0min\n"
     ]
    },
    {
     "name": "stderr",
     "output_type": "stream",
     "text": [
      "/Users/sebastianlopez/miniconda3/envs/maestriamatching/lib/python3.10/site-packages/sklearn/neural_network/_multilayer_perceptron.py:546: ConvergenceWarning: lbfgs failed to converge (status=1):\n",
      "STOP: TOTAL NO. of ITERATIONS REACHED LIMIT.\n",
      "\n",
      "Increase the number of iterations (max_iter) or scale the data as shown in:\n",
      "    https://scikit-learn.org/stable/modules/preprocessing.html\n",
      "  self.n_iter_ = _check_optimize_result(\"lbfgs\", opt_res, self.max_iter)\n"
     ]
    },
    {
     "name": "stdout",
     "output_type": "stream",
     "text": [
      "[CV] END activation=identity, alpha=0.0001, early_stopping=True, learning_rate=constant, learning_rate_init=0.01, max_iter=50, n_iter_no_change=5, power_t=0.5, solver=lbfgs; total time= 2.0min\n",
      "[CV] END activation=identity, alpha=0.0001, early_stopping=True, learning_rate=constant, learning_rate_init=0.01, max_iter=50, n_iter_no_change=5, power_t=0.1, solver=sgd; total time= 1.2min\n",
      "[CV] END activation=identity, alpha=0.0001, early_stopping=True, learning_rate=constant, learning_rate_init=0.01, max_iter=50, n_iter_no_change=5, power_t=0.1, solver=sgd; total time= 1.5min\n"
     ]
    },
    {
     "name": "stderr",
     "output_type": "stream",
     "text": [
      "/Users/sebastianlopez/miniconda3/envs/maestriamatching/lib/python3.10/site-packages/sklearn/neural_network/_multilayer_perceptron.py:546: ConvergenceWarning: lbfgs failed to converge (status=1):\n",
      "STOP: TOTAL NO. of ITERATIONS REACHED LIMIT.\n",
      "\n",
      "Increase the number of iterations (max_iter) or scale the data as shown in:\n",
      "    https://scikit-learn.org/stable/modules/preprocessing.html\n",
      "  self.n_iter_ = _check_optimize_result(\"lbfgs\", opt_res, self.max_iter)\n"
     ]
    },
    {
     "name": "stdout",
     "output_type": "stream",
     "text": [
      "[CV] END activation=identity, alpha=0.0001, early_stopping=True, learning_rate=constant, learning_rate_init=0.01, max_iter=50, n_iter_no_change=5, power_t=0.1, solver=lbfgs; total time= 1.9min\n",
      "[CV] END activation=identity, alpha=0.0001, early_stopping=True, learning_rate=constant, learning_rate_init=0.01, max_iter=50, n_iter_no_change=5, power_t=0.1, solver=adam; total time=  54.4s\n",
      "[CV] END activation=identity, alpha=0.0001, early_stopping=True, learning_rate=constant, learning_rate_init=0.01, max_iter=50, n_iter_no_change=5, power_t=0.9, solver=sgd; total time=  43.1s\n",
      "[CV] END activation=identity, alpha=0.0001, early_stopping=True, learning_rate=constant, learning_rate_init=0.01, max_iter=50, n_iter_no_change=5, power_t=0.9, solver=sgd; total time=  34.4s\n"
     ]
    },
    {
     "name": "stderr",
     "output_type": "stream",
     "text": [
      "/Users/sebastianlopez/miniconda3/envs/maestriamatching/lib/python3.10/site-packages/sklearn/neural_network/_multilayer_perceptron.py:546: ConvergenceWarning: lbfgs failed to converge (status=1):\n",
      "STOP: TOTAL NO. of ITERATIONS REACHED LIMIT.\n",
      "\n",
      "Increase the number of iterations (max_iter) or scale the data as shown in:\n",
      "    https://scikit-learn.org/stable/modules/preprocessing.html\n",
      "  self.n_iter_ = _check_optimize_result(\"lbfgs\", opt_res, self.max_iter)\n"
     ]
    },
    {
     "name": "stdout",
     "output_type": "stream",
     "text": [
      "[CV] END activation=identity, alpha=0.0001, early_stopping=True, learning_rate=constant, learning_rate_init=0.01, max_iter=50, n_iter_no_change=5, power_t=0.1, solver=lbfgs; total time= 2.0min\n"
     ]
    },
    {
     "name": "stderr",
     "output_type": "stream",
     "text": [
      "/Users/sebastianlopez/miniconda3/envs/maestriamatching/lib/python3.10/site-packages/sklearn/neural_network/_multilayer_perceptron.py:546: ConvergenceWarning: lbfgs failed to converge (status=1):\n",
      "STOP: TOTAL NO. of ITERATIONS REACHED LIMIT.\n",
      "\n",
      "Increase the number of iterations (max_iter) or scale the data as shown in:\n",
      "    https://scikit-learn.org/stable/modules/preprocessing.html\n",
      "  self.n_iter_ = _check_optimize_result(\"lbfgs\", opt_res, self.max_iter)\n"
     ]
    },
    {
     "name": "stdout",
     "output_type": "stream",
     "text": [
      "[CV] END activation=identity, alpha=0.0001, early_stopping=True, learning_rate=constant, learning_rate_init=0.01, max_iter=50, n_iter_no_change=5, power_t=0.1, solver=lbfgs; total time= 2.1min\n",
      "[CV] END activation=identity, alpha=0.0001, early_stopping=True, learning_rate=constant, learning_rate_init=0.01, max_iter=50, n_iter_no_change=5, power_t=0.9, solver=adam; total time=  31.3s\n",
      "[CV] END activation=identity, alpha=0.0001, early_stopping=True, learning_rate=constant, learning_rate_init=0.01, max_iter=50, n_iter_no_change=5, power_t=0.9, solver=sgd; total time= 1.1min\n",
      "[CV] END activation=identity, alpha=0.0001, early_stopping=True, learning_rate=constant, learning_rate_init=0.01, max_iter=50, n_iter_no_change=5, power_t=0.9, solver=adam; total time=  45.6s\n",
      "[CV] END activation=identity, alpha=0.0001, early_stopping=True, learning_rate=constant, learning_rate_init=0.01, max_iter=50, n_iter_no_change=5, power_t=0.9, solver=adam; total time=  53.7s\n"
     ]
    },
    {
     "name": "stderr",
     "output_type": "stream",
     "text": [
      "/Users/sebastianlopez/miniconda3/envs/maestriamatching/lib/python3.10/site-packages/sklearn/neural_network/_multilayer_perceptron.py:546: ConvergenceWarning: lbfgs failed to converge (status=1):\n",
      "STOP: TOTAL NO. of ITERATIONS REACHED LIMIT.\n",
      "\n",
      "Increase the number of iterations (max_iter) or scale the data as shown in:\n",
      "    https://scikit-learn.org/stable/modules/preprocessing.html\n",
      "  self.n_iter_ = _check_optimize_result(\"lbfgs\", opt_res, self.max_iter)\n"
     ]
    },
    {
     "name": "stdout",
     "output_type": "stream",
     "text": [
      "[CV] END activation=identity, alpha=0.0001, early_stopping=True, learning_rate=constant, learning_rate_init=0.01, max_iter=50, n_iter_no_change=5, power_t=0.9, solver=lbfgs; total time= 2.0min\n",
      "[CV] END activation=identity, alpha=0.0001, early_stopping=True, learning_rate=constant, learning_rate_init=0.01, max_iter=50, n_iter_no_change=5, power_t=0.001, solver=sgd; total time=  40.7s\n",
      "[CV] END activation=identity, alpha=0.0001, early_stopping=True, learning_rate=constant, learning_rate_init=0.01, max_iter=50, n_iter_no_change=5, power_t=0.001, solver=adam; total time=  33.3s\n"
     ]
    },
    {
     "name": "stderr",
     "output_type": "stream",
     "text": [
      "/Users/sebastianlopez/miniconda3/envs/maestriamatching/lib/python3.10/site-packages/sklearn/neural_network/_multilayer_perceptron.py:546: ConvergenceWarning: lbfgs failed to converge (status=1):\n",
      "STOP: TOTAL NO. of ITERATIONS REACHED LIMIT.\n",
      "\n",
      "Increase the number of iterations (max_iter) or scale the data as shown in:\n",
      "    https://scikit-learn.org/stable/modules/preprocessing.html\n",
      "  self.n_iter_ = _check_optimize_result(\"lbfgs\", opt_res, self.max_iter)\n"
     ]
    },
    {
     "name": "stdout",
     "output_type": "stream",
     "text": [
      "[CV] END activation=identity, alpha=0.0001, early_stopping=True, learning_rate=constant, learning_rate_init=0.01, max_iter=50, n_iter_no_change=5, power_t=0.9, solver=lbfgs; total time= 2.1min\n"
     ]
    },
    {
     "name": "stderr",
     "output_type": "stream",
     "text": [
      "/Users/sebastianlopez/miniconda3/envs/maestriamatching/lib/python3.10/site-packages/sklearn/neural_network/_multilayer_perceptron.py:546: ConvergenceWarning: lbfgs failed to converge (status=1):\n",
      "STOP: TOTAL NO. of ITERATIONS REACHED LIMIT.\n",
      "\n",
      "Increase the number of iterations (max_iter) or scale the data as shown in:\n",
      "    https://scikit-learn.org/stable/modules/preprocessing.html\n",
      "  self.n_iter_ = _check_optimize_result(\"lbfgs\", opt_res, self.max_iter)\n"
     ]
    },
    {
     "name": "stdout",
     "output_type": "stream",
     "text": [
      "[CV] END activation=identity, alpha=0.0001, early_stopping=True, learning_rate=constant, learning_rate_init=0.01, max_iter=50, n_iter_no_change=5, power_t=0.9, solver=lbfgs; total time= 2.1min\n",
      "[CV] END activation=identity, alpha=0.0001, early_stopping=True, learning_rate=constant, learning_rate_init=0.01, max_iter=50, n_iter_no_change=5, power_t=0.001, solver=sgd; total time= 1.2min\n",
      "[CV] END activation=identity, alpha=0.0001, early_stopping=True, learning_rate=constant, learning_rate_init=0.01, max_iter=50, n_iter_no_change=5, power_t=0.001, solver=sgd; total time= 1.1min\n",
      "[CV] END activation=identity, alpha=0.0001, early_stopping=True, learning_rate=constant, learning_rate_init=0.01, max_iter=50, n_iter_no_change=5, power_t=0.005, solver=sgd; total time=  28.7s\n",
      "[CV] END activation=identity, alpha=0.0001, early_stopping=True, learning_rate=constant, learning_rate_init=0.01, max_iter=50, n_iter_no_change=5, power_t=0.001, solver=adam; total time= 1.2min\n",
      "[CV] END activation=identity, alpha=0.0001, early_stopping=True, learning_rate=constant, learning_rate_init=0.01, max_iter=50, n_iter_no_change=5, power_t=0.001, solver=adam; total time= 1.1min\n"
     ]
    },
    {
     "name": "stderr",
     "output_type": "stream",
     "text": [
      "/Users/sebastianlopez/miniconda3/envs/maestriamatching/lib/python3.10/site-packages/sklearn/neural_network/_multilayer_perceptron.py:546: ConvergenceWarning: lbfgs failed to converge (status=1):\n",
      "STOP: TOTAL NO. of ITERATIONS REACHED LIMIT.\n",
      "\n",
      "Increase the number of iterations (max_iter) or scale the data as shown in:\n",
      "    https://scikit-learn.org/stable/modules/preprocessing.html\n",
      "  self.n_iter_ = _check_optimize_result(\"lbfgs\", opt_res, self.max_iter)\n",
      "/Users/sebastianlopez/miniconda3/envs/maestriamatching/lib/python3.10/site-packages/sklearn/neural_network/_multilayer_perceptron.py:546: ConvergenceWarning: lbfgs failed to converge (status=1):\n",
      "STOP: TOTAL NO. of ITERATIONS REACHED LIMIT.\n",
      "\n",
      "Increase the number of iterations (max_iter) or scale the data as shown in:\n",
      "    https://scikit-learn.org/stable/modules/preprocessing.html\n",
      "  self.n_iter_ = _check_optimize_result(\"lbfgs\", opt_res, self.max_iter)\n"
     ]
    },
    {
     "name": "stdout",
     "output_type": "stream",
     "text": [
      "[CV] END activation=identity, alpha=0.0001, early_stopping=True, learning_rate=constant, learning_rate_init=0.01, max_iter=50, n_iter_no_change=5, power_t=0.001, solver=lbfgs; total time= 2.3min\n",
      "[CV] END activation=identity, alpha=0.0001, early_stopping=True, learning_rate=constant, learning_rate_init=0.01, max_iter=50, n_iter_no_change=5, power_t=0.001, solver=lbfgs; total time= 2.2min\n"
     ]
    },
    {
     "name": "stderr",
     "output_type": "stream",
     "text": [
      "/Users/sebastianlopez/miniconda3/envs/maestriamatching/lib/python3.10/site-packages/sklearn/neural_network/_multilayer_perceptron.py:546: ConvergenceWarning: lbfgs failed to converge (status=1):\n",
      "STOP: TOTAL NO. of ITERATIONS REACHED LIMIT.\n",
      "\n",
      "Increase the number of iterations (max_iter) or scale the data as shown in:\n",
      "    https://scikit-learn.org/stable/modules/preprocessing.html\n",
      "  self.n_iter_ = _check_optimize_result(\"lbfgs\", opt_res, self.max_iter)\n"
     ]
    },
    {
     "name": "stdout",
     "output_type": "stream",
     "text": [
      "[CV] END activation=identity, alpha=0.0001, early_stopping=True, learning_rate=constant, learning_rate_init=0.01, max_iter=50, n_iter_no_change=5, power_t=0.001, solver=lbfgs; total time= 2.2min\n",
      "[CV] END activation=identity, alpha=0.0001, early_stopping=True, learning_rate=constant, learning_rate_init=0.01, max_iter=50, n_iter_no_change=5, power_t=0.005, solver=sgd; total time= 1.2min\n",
      "[CV] END activation=identity, alpha=0.0001, early_stopping=True, learning_rate=constant, learning_rate_init=0.01, max_iter=50, n_iter_no_change=5, power_t=0.005, solver=adam; total time=  36.1s\n"
     ]
    },
    {
     "name": "stderr",
     "output_type": "stream",
     "text": [
      "/Users/sebastianlopez/miniconda3/envs/maestriamatching/lib/python3.10/site-packages/sklearn/neural_network/_multilayer_perceptron.py:546: ConvergenceWarning: lbfgs failed to converge (status=1):\n",
      "STOP: TOTAL NO. of ITERATIONS REACHED LIMIT.\n",
      "\n",
      "Increase the number of iterations (max_iter) or scale the data as shown in:\n",
      "    https://scikit-learn.org/stable/modules/preprocessing.html\n",
      "  self.n_iter_ = _check_optimize_result(\"lbfgs\", opt_res, self.max_iter)\n"
     ]
    },
    {
     "name": "stdout",
     "output_type": "stream",
     "text": [
      "[CV] END activation=identity, alpha=0.0001, early_stopping=True, learning_rate=constant, learning_rate_init=0.05, max_iter=5, n_iter_no_change=5, power_t=0.5, solver=lbfgs; total time=  14.8s\n"
     ]
    },
    {
     "name": "stderr",
     "output_type": "stream",
     "text": [
      "/Users/sebastianlopez/miniconda3/envs/maestriamatching/lib/python3.10/site-packages/sklearn/neural_network/_multilayer_perceptron.py:546: ConvergenceWarning: lbfgs failed to converge (status=1):\n",
      "STOP: TOTAL NO. of ITERATIONS REACHED LIMIT.\n",
      "\n",
      "Increase the number of iterations (max_iter) or scale the data as shown in:\n",
      "    https://scikit-learn.org/stable/modules/preprocessing.html\n",
      "  self.n_iter_ = _check_optimize_result(\"lbfgs\", opt_res, self.max_iter)\n"
     ]
    },
    {
     "name": "stdout",
     "output_type": "stream",
     "text": [
      "[CV] END activation=identity, alpha=0.0001, early_stopping=True, learning_rate=constant, learning_rate_init=0.05, max_iter=5, n_iter_no_change=5, power_t=0.5, solver=lbfgs; total time=  15.6s\n",
      "[CV] END activation=identity, alpha=0.0001, early_stopping=True, learning_rate=constant, learning_rate_init=0.01, max_iter=50, n_iter_no_change=5, power_t=0.005, solver=sgd; total time= 1.1min\n"
     ]
    },
    {
     "name": "stderr",
     "output_type": "stream",
     "text": [
      "/Users/sebastianlopez/miniconda3/envs/maestriamatching/lib/python3.10/site-packages/sklearn/neural_network/_multilayer_perceptron.py:546: ConvergenceWarning: lbfgs failed to converge (status=1):\n",
      "STOP: TOTAL NO. of ITERATIONS REACHED LIMIT.\n",
      "\n",
      "Increase the number of iterations (max_iter) or scale the data as shown in:\n",
      "    https://scikit-learn.org/stable/modules/preprocessing.html\n",
      "  self.n_iter_ = _check_optimize_result(\"lbfgs\", opt_res, self.max_iter)\n"
     ]
    },
    {
     "name": "stdout",
     "output_type": "stream",
     "text": [
      "[CV] END activation=identity, alpha=0.0001, early_stopping=True, learning_rate=constant, learning_rate_init=0.05, max_iter=5, n_iter_no_change=5, power_t=0.5, solver=lbfgs; total time=  16.2s\n"
     ]
    },
    {
     "name": "stderr",
     "output_type": "stream",
     "text": [
      "/Users/sebastianlopez/miniconda3/envs/maestriamatching/lib/python3.10/site-packages/sklearn/neural_network/_multilayer_perceptron.py:691: ConvergenceWarning: Stochastic Optimizer: Maximum iterations (5) reached and the optimization hasn't converged yet.\n",
      "  warnings.warn(\n"
     ]
    },
    {
     "name": "stdout",
     "output_type": "stream",
     "text": [
      "[CV] END activation=identity, alpha=0.0001, early_stopping=True, learning_rate=constant, learning_rate_init=0.05, max_iter=5, n_iter_no_change=5, power_t=0.5, solver=sgd; total time=  14.9s\n",
      "[CV] END activation=identity, alpha=0.0001, early_stopping=True, learning_rate=constant, learning_rate_init=0.01, max_iter=50, n_iter_no_change=5, power_t=0.005, solver=adam; total time=  52.1s\n"
     ]
    },
    {
     "name": "stderr",
     "output_type": "stream",
     "text": [
      "/Users/sebastianlopez/miniconda3/envs/maestriamatching/lib/python3.10/site-packages/sklearn/neural_network/_multilayer_perceptron.py:691: ConvergenceWarning: Stochastic Optimizer: Maximum iterations (5) reached and the optimization hasn't converged yet.\n",
      "  warnings.warn(\n"
     ]
    },
    {
     "name": "stdout",
     "output_type": "stream",
     "text": [
      "[CV] END activation=identity, alpha=0.0001, early_stopping=True, learning_rate=constant, learning_rate_init=0.05, max_iter=5, n_iter_no_change=5, power_t=0.5, solver=sgd; total time=  15.2s\n"
     ]
    },
    {
     "name": "stderr",
     "output_type": "stream",
     "text": [
      "/Users/sebastianlopez/miniconda3/envs/maestriamatching/lib/python3.10/site-packages/sklearn/neural_network/_multilayer_perceptron.py:691: ConvergenceWarning: Stochastic Optimizer: Maximum iterations (5) reached and the optimization hasn't converged yet.\n",
      "  warnings.warn(\n"
     ]
    },
    {
     "name": "stdout",
     "output_type": "stream",
     "text": [
      "[CV] END activation=identity, alpha=0.0001, early_stopping=True, learning_rate=constant, learning_rate_init=0.05, max_iter=5, n_iter_no_change=5, power_t=0.5, solver=sgd; total time=  15.2s\n"
     ]
    },
    {
     "name": "stderr",
     "output_type": "stream",
     "text": [
      "/Users/sebastianlopez/miniconda3/envs/maestriamatching/lib/python3.10/site-packages/sklearn/neural_network/_multilayer_perceptron.py:691: ConvergenceWarning: Stochastic Optimizer: Maximum iterations (5) reached and the optimization hasn't converged yet.\n",
      "  warnings.warn(\n"
     ]
    },
    {
     "name": "stdout",
     "output_type": "stream",
     "text": [
      "[CV] END activation=identity, alpha=0.0001, early_stopping=True, learning_rate=constant, learning_rate_init=0.01, max_iter=50, n_iter_no_change=5, power_t=0.005, solver=adam; total time=  41.2s\n",
      "[CV] END activation=identity, alpha=0.0001, early_stopping=True, learning_rate=constant, learning_rate_init=0.05, max_iter=5, n_iter_no_change=5, power_t=0.5, solver=adam; total time=  16.0s\n"
     ]
    },
    {
     "name": "stderr",
     "output_type": "stream",
     "text": [
      "/Users/sebastianlopez/miniconda3/envs/maestriamatching/lib/python3.10/site-packages/sklearn/neural_network/_multilayer_perceptron.py:691: ConvergenceWarning: Stochastic Optimizer: Maximum iterations (5) reached and the optimization hasn't converged yet.\n",
      "  warnings.warn(\n"
     ]
    },
    {
     "name": "stdout",
     "output_type": "stream",
     "text": [
      "[CV] END activation=identity, alpha=0.0001, early_stopping=True, learning_rate=constant, learning_rate_init=0.05, max_iter=5, n_iter_no_change=5, power_t=0.5, solver=adam; total time=  16.3s\n"
     ]
    },
    {
     "name": "stderr",
     "output_type": "stream",
     "text": [
      "/Users/sebastianlopez/miniconda3/envs/maestriamatching/lib/python3.10/site-packages/sklearn/neural_network/_multilayer_perceptron.py:691: ConvergenceWarning: Stochastic Optimizer: Maximum iterations (5) reached and the optimization hasn't converged yet.\n",
      "  warnings.warn(\n"
     ]
    },
    {
     "name": "stdout",
     "output_type": "stream",
     "text": [
      "[CV] END activation=identity, alpha=0.0001, early_stopping=True, learning_rate=constant, learning_rate_init=0.05, max_iter=5, n_iter_no_change=5, power_t=0.5, solver=adam; total time=  16.0s\n"
     ]
    },
    {
     "name": "stderr",
     "output_type": "stream",
     "text": [
      "/Users/sebastianlopez/miniconda3/envs/maestriamatching/lib/python3.10/site-packages/sklearn/neural_network/_multilayer_perceptron.py:546: ConvergenceWarning: lbfgs failed to converge (status=1):\n",
      "STOP: TOTAL NO. of ITERATIONS REACHED LIMIT.\n",
      "\n",
      "Increase the number of iterations (max_iter) or scale the data as shown in:\n",
      "    https://scikit-learn.org/stable/modules/preprocessing.html\n",
      "  self.n_iter_ = _check_optimize_result(\"lbfgs\", opt_res, self.max_iter)\n"
     ]
    },
    {
     "name": "stdout",
     "output_type": "stream",
     "text": [
      "[CV] END activation=identity, alpha=0.0001, early_stopping=True, learning_rate=constant, learning_rate_init=0.05, max_iter=5, n_iter_no_change=5, power_t=0.1, solver=lbfgs; total time=  16.0s\n"
     ]
    },
    {
     "name": "stderr",
     "output_type": "stream",
     "text": [
      "/Users/sebastianlopez/miniconda3/envs/maestriamatching/lib/python3.10/site-packages/sklearn/neural_network/_multilayer_perceptron.py:546: ConvergenceWarning: lbfgs failed to converge (status=1):\n",
      "STOP: TOTAL NO. of ITERATIONS REACHED LIMIT.\n",
      "\n",
      "Increase the number of iterations (max_iter) or scale the data as shown in:\n",
      "    https://scikit-learn.org/stable/modules/preprocessing.html\n",
      "  self.n_iter_ = _check_optimize_result(\"lbfgs\", opt_res, self.max_iter)\n"
     ]
    },
    {
     "name": "stdout",
     "output_type": "stream",
     "text": [
      "[CV] END activation=identity, alpha=0.0001, early_stopping=True, learning_rate=constant, learning_rate_init=0.05, max_iter=5, n_iter_no_change=5, power_t=0.1, solver=lbfgs; total time=  16.2s\n"
     ]
    },
    {
     "name": "stderr",
     "output_type": "stream",
     "text": [
      "/Users/sebastianlopez/miniconda3/envs/maestriamatching/lib/python3.10/site-packages/sklearn/neural_network/_multilayer_perceptron.py:691: ConvergenceWarning: Stochastic Optimizer: Maximum iterations (5) reached and the optimization hasn't converged yet.\n",
      "  warnings.warn(\n",
      "/Users/sebastianlopez/miniconda3/envs/maestriamatching/lib/python3.10/site-packages/sklearn/neural_network/_multilayer_perceptron.py:546: ConvergenceWarning: lbfgs failed to converge (status=1):\n",
      "STOP: TOTAL NO. of ITERATIONS REACHED LIMIT.\n",
      "\n",
      "Increase the number of iterations (max_iter) or scale the data as shown in:\n",
      "    https://scikit-learn.org/stable/modules/preprocessing.html\n",
      "  self.n_iter_ = _check_optimize_result(\"lbfgs\", opt_res, self.max_iter)\n"
     ]
    },
    {
     "name": "stdout",
     "output_type": "stream",
     "text": [
      "[CV] END activation=identity, alpha=0.0001, early_stopping=True, learning_rate=constant, learning_rate_init=0.05, max_iter=5, n_iter_no_change=5, power_t=0.1, solver=sgd; total time=  14.5s\n",
      "[CV] END activation=identity, alpha=0.0001, early_stopping=True, learning_rate=constant, learning_rate_init=0.05, max_iter=5, n_iter_no_change=5, power_t=0.1, solver=lbfgs; total time=  16.0s\n"
     ]
    },
    {
     "name": "stderr",
     "output_type": "stream",
     "text": [
      "/Users/sebastianlopez/miniconda3/envs/maestriamatching/lib/python3.10/site-packages/sklearn/neural_network/_multilayer_perceptron.py:691: ConvergenceWarning: Stochastic Optimizer: Maximum iterations (5) reached and the optimization hasn't converged yet.\n",
      "  warnings.warn(\n",
      "/Users/sebastianlopez/miniconda3/envs/maestriamatching/lib/python3.10/site-packages/sklearn/neural_network/_multilayer_perceptron.py:691: ConvergenceWarning: Stochastic Optimizer: Maximum iterations (5) reached and the optimization hasn't converged yet.\n",
      "  warnings.warn(\n"
     ]
    },
    {
     "name": "stdout",
     "output_type": "stream",
     "text": [
      "[CV] END activation=identity, alpha=0.0001, early_stopping=True, learning_rate=constant, learning_rate_init=0.05, max_iter=5, n_iter_no_change=5, power_t=0.1, solver=sgd; total time=  14.8s\n",
      "[CV] END activation=identity, alpha=0.0001, early_stopping=True, learning_rate=constant, learning_rate_init=0.05, max_iter=5, n_iter_no_change=5, power_t=0.1, solver=sgd; total time=  14.7s\n"
     ]
    },
    {
     "name": "stderr",
     "output_type": "stream",
     "text": [
      "/Users/sebastianlopez/miniconda3/envs/maestriamatching/lib/python3.10/site-packages/sklearn/neural_network/_multilayer_perceptron.py:691: ConvergenceWarning: Stochastic Optimizer: Maximum iterations (5) reached and the optimization hasn't converged yet.\n",
      "  warnings.warn(\n"
     ]
    },
    {
     "name": "stdout",
     "output_type": "stream",
     "text": [
      "[CV] END activation=identity, alpha=0.0001, early_stopping=True, learning_rate=constant, learning_rate_init=0.05, max_iter=5, n_iter_no_change=5, power_t=0.1, solver=adam; total time=  16.5s\n"
     ]
    },
    {
     "name": "stderr",
     "output_type": "stream",
     "text": [
      "/Users/sebastianlopez/miniconda3/envs/maestriamatching/lib/python3.10/site-packages/sklearn/neural_network/_multilayer_perceptron.py:691: ConvergenceWarning: Stochastic Optimizer: Maximum iterations (5) reached and the optimization hasn't converged yet.\n",
      "  warnings.warn(\n"
     ]
    },
    {
     "name": "stdout",
     "output_type": "stream",
     "text": [
      "[CV] END activation=identity, alpha=0.0001, early_stopping=True, learning_rate=constant, learning_rate_init=0.05, max_iter=5, n_iter_no_change=5, power_t=0.1, solver=adam; total time=  15.6s\n"
     ]
    },
    {
     "name": "stderr",
     "output_type": "stream",
     "text": [
      "/Users/sebastianlopez/miniconda3/envs/maestriamatching/lib/python3.10/site-packages/sklearn/neural_network/_multilayer_perceptron.py:691: ConvergenceWarning: Stochastic Optimizer: Maximum iterations (5) reached and the optimization hasn't converged yet.\n",
      "  warnings.warn(\n",
      "/Users/sebastianlopez/miniconda3/envs/maestriamatching/lib/python3.10/site-packages/sklearn/neural_network/_multilayer_perceptron.py:546: ConvergenceWarning: lbfgs failed to converge (status=1):\n",
      "STOP: TOTAL NO. of ITERATIONS REACHED LIMIT.\n",
      "\n",
      "Increase the number of iterations (max_iter) or scale the data as shown in:\n",
      "    https://scikit-learn.org/stable/modules/preprocessing.html\n",
      "  self.n_iter_ = _check_optimize_result(\"lbfgs\", opt_res, self.max_iter)\n"
     ]
    },
    {
     "name": "stdout",
     "output_type": "stream",
     "text": [
      "[CV] END activation=identity, alpha=0.0001, early_stopping=True, learning_rate=constant, learning_rate_init=0.05, max_iter=5, n_iter_no_change=5, power_t=0.1, solver=adam; total time=  15.8s\n",
      "[CV] END activation=identity, alpha=0.0001, early_stopping=True, learning_rate=constant, learning_rate_init=0.01, max_iter=50, n_iter_no_change=5, power_t=0.005, solver=lbfgs; total time= 2.1min\n"
     ]
    },
    {
     "name": "stderr",
     "output_type": "stream",
     "text": [
      "/Users/sebastianlopez/miniconda3/envs/maestriamatching/lib/python3.10/site-packages/sklearn/neural_network/_multilayer_perceptron.py:546: ConvergenceWarning: lbfgs failed to converge (status=1):\n",
      "STOP: TOTAL NO. of ITERATIONS REACHED LIMIT.\n",
      "\n",
      "Increase the number of iterations (max_iter) or scale the data as shown in:\n",
      "    https://scikit-learn.org/stable/modules/preprocessing.html\n",
      "  self.n_iter_ = _check_optimize_result(\"lbfgs\", opt_res, self.max_iter)\n",
      "/Users/sebastianlopez/miniconda3/envs/maestriamatching/lib/python3.10/site-packages/sklearn/neural_network/_multilayer_perceptron.py:546: ConvergenceWarning: lbfgs failed to converge (status=1):\n",
      "STOP: TOTAL NO. of ITERATIONS REACHED LIMIT.\n",
      "\n",
      "Increase the number of iterations (max_iter) or scale the data as shown in:\n",
      "    https://scikit-learn.org/stable/modules/preprocessing.html\n",
      "  self.n_iter_ = _check_optimize_result(\"lbfgs\", opt_res, self.max_iter)\n",
      "/Users/sebastianlopez/miniconda3/envs/maestriamatching/lib/python3.10/site-packages/sklearn/neural_network/_multilayer_perceptron.py:691: ConvergenceWarning: Stochastic Optimizer: Maximum iterations (5) reached and the optimization hasn't converged yet.\n",
      "  warnings.warn(\n"
     ]
    },
    {
     "name": "stdout",
     "output_type": "stream",
     "text": [
      "[CV] END activation=identity, alpha=0.0001, early_stopping=True, learning_rate=constant, learning_rate_init=0.01, max_iter=50, n_iter_no_change=5, power_t=0.005, solver=lbfgs; total time= 2.1min\n"
     ]
    },
    {
     "name": "stderr",
     "output_type": "stream",
     "text": [
      "/Users/sebastianlopez/miniconda3/envs/maestriamatching/lib/python3.10/site-packages/sklearn/neural_network/_multilayer_perceptron.py:691: ConvergenceWarning: Stochastic Optimizer: Maximum iterations (5) reached and the optimization hasn't converged yet.\n",
      "  warnings.warn(\n"
     ]
    },
    {
     "name": "stdout",
     "output_type": "stream",
     "text": [
      "[CV] END activation=identity, alpha=0.0001, early_stopping=True, learning_rate=constant, learning_rate_init=0.05, max_iter=5, n_iter_no_change=5, power_t=0.9, solver=lbfgs; total time=  16.5s\n",
      "[CV] END activation=identity, alpha=0.0001, early_stopping=True, learning_rate=constant, learning_rate_init=0.05, max_iter=5, n_iter_no_change=5, power_t=0.9, solver=sgd; total time=  14.1s\n",
      "[CV] END activation=identity, alpha=0.0001, early_stopping=True, learning_rate=constant, learning_rate_init=0.05, max_iter=5, n_iter_no_change=5, power_t=0.9, solver=sgd; total time=  14.0s\n"
     ]
    },
    {
     "name": "stderr",
     "output_type": "stream",
     "text": [
      "/Users/sebastianlopez/miniconda3/envs/maestriamatching/lib/python3.10/site-packages/sklearn/neural_network/_multilayer_perceptron.py:546: ConvergenceWarning: lbfgs failed to converge (status=1):\n",
      "STOP: TOTAL NO. of ITERATIONS REACHED LIMIT.\n",
      "\n",
      "Increase the number of iterations (max_iter) or scale the data as shown in:\n",
      "    https://scikit-learn.org/stable/modules/preprocessing.html\n",
      "  self.n_iter_ = _check_optimize_result(\"lbfgs\", opt_res, self.max_iter)\n",
      "/Users/sebastianlopez/miniconda3/envs/maestriamatching/lib/python3.10/site-packages/sklearn/neural_network/_multilayer_perceptron.py:546: ConvergenceWarning: lbfgs failed to converge (status=1):\n",
      "STOP: TOTAL NO. of ITERATIONS REACHED LIMIT.\n",
      "\n",
      "Increase the number of iterations (max_iter) or scale the data as shown in:\n",
      "    https://scikit-learn.org/stable/modules/preprocessing.html\n",
      "  self.n_iter_ = _check_optimize_result(\"lbfgs\", opt_res, self.max_iter)\n"
     ]
    },
    {
     "name": "stdout",
     "output_type": "stream",
     "text": [
      "[CV] END activation=identity, alpha=0.0001, early_stopping=True, learning_rate=constant, learning_rate_init=0.05, max_iter=5, n_iter_no_change=5, power_t=0.9, solver=lbfgs; total time=  16.2s\n",
      "[CV] END activation=identity, alpha=0.0001, early_stopping=True, learning_rate=constant, learning_rate_init=0.05, max_iter=5, n_iter_no_change=5, power_t=0.9, solver=lbfgs; total time=  16.6s\n"
     ]
    },
    {
     "name": "stderr",
     "output_type": "stream",
     "text": [
      "/Users/sebastianlopez/miniconda3/envs/maestriamatching/lib/python3.10/site-packages/sklearn/neural_network/_multilayer_perceptron.py:691: ConvergenceWarning: Stochastic Optimizer: Maximum iterations (5) reached and the optimization hasn't converged yet.\n",
      "  warnings.warn(\n"
     ]
    },
    {
     "name": "stdout",
     "output_type": "stream",
     "text": [
      "[CV] END activation=identity, alpha=0.0001, early_stopping=True, learning_rate=constant, learning_rate_init=0.05, max_iter=5, n_iter_no_change=5, power_t=0.9, solver=sgd; total time=  14.6s\n"
     ]
    },
    {
     "name": "stderr",
     "output_type": "stream",
     "text": [
      "/Users/sebastianlopez/miniconda3/envs/maestriamatching/lib/python3.10/site-packages/sklearn/neural_network/_multilayer_perceptron.py:546: ConvergenceWarning: lbfgs failed to converge (status=1):\n",
      "STOP: TOTAL NO. of ITERATIONS REACHED LIMIT.\n",
      "\n",
      "Increase the number of iterations (max_iter) or scale the data as shown in:\n",
      "    https://scikit-learn.org/stable/modules/preprocessing.html\n",
      "  self.n_iter_ = _check_optimize_result(\"lbfgs\", opt_res, self.max_iter)\n"
     ]
    },
    {
     "name": "stdout",
     "output_type": "stream",
     "text": [
      "[CV] END activation=identity, alpha=0.0001, early_stopping=True, learning_rate=constant, learning_rate_init=0.01, max_iter=50, n_iter_no_change=5, power_t=0.005, solver=lbfgs; total time= 2.2min\n"
     ]
    },
    {
     "name": "stderr",
     "output_type": "stream",
     "text": [
      "/Users/sebastianlopez/miniconda3/envs/maestriamatching/lib/python3.10/site-packages/sklearn/neural_network/_multilayer_perceptron.py:691: ConvergenceWarning: Stochastic Optimizer: Maximum iterations (5) reached and the optimization hasn't converged yet.\n",
      "  warnings.warn(\n"
     ]
    },
    {
     "name": "stdout",
     "output_type": "stream",
     "text": [
      "[CV] END activation=identity, alpha=0.0001, early_stopping=True, learning_rate=constant, learning_rate_init=0.05, max_iter=5, n_iter_no_change=5, power_t=0.9, solver=adam; total time=  16.5s\n"
     ]
    },
    {
     "name": "stderr",
     "output_type": "stream",
     "text": [
      "/Users/sebastianlopez/miniconda3/envs/maestriamatching/lib/python3.10/site-packages/sklearn/neural_network/_multilayer_perceptron.py:691: ConvergenceWarning: Stochastic Optimizer: Maximum iterations (5) reached and the optimization hasn't converged yet.\n",
      "  warnings.warn(\n",
      "/Users/sebastianlopez/miniconda3/envs/maestriamatching/lib/python3.10/site-packages/sklearn/neural_network/_multilayer_perceptron.py:691: ConvergenceWarning: Stochastic Optimizer: Maximum iterations (5) reached and the optimization hasn't converged yet.\n",
      "  warnings.warn(\n"
     ]
    },
    {
     "name": "stdout",
     "output_type": "stream",
     "text": [
      "[CV] END activation=identity, alpha=0.0001, early_stopping=True, learning_rate=constant, learning_rate_init=0.05, max_iter=5, n_iter_no_change=5, power_t=0.9, solver=adam; total time=  16.2s\n",
      "[CV] END activation=identity, alpha=0.0001, early_stopping=True, learning_rate=constant, learning_rate_init=0.05, max_iter=5, n_iter_no_change=5, power_t=0.9, solver=adam; total time=  16.2s\n"
     ]
    },
    {
     "name": "stderr",
     "output_type": "stream",
     "text": [
      "/Users/sebastianlopez/miniconda3/envs/maestriamatching/lib/python3.10/site-packages/sklearn/neural_network/_multilayer_perceptron.py:691: ConvergenceWarning: Stochastic Optimizer: Maximum iterations (5) reached and the optimization hasn't converged yet.\n",
      "  warnings.warn(\n"
     ]
    },
    {
     "name": "stdout",
     "output_type": "stream",
     "text": [
      "[CV] END activation=identity, alpha=0.0001, early_stopping=True, learning_rate=constant, learning_rate_init=0.05, max_iter=5, n_iter_no_change=5, power_t=0.001, solver=sgd; total time=  14.8s\n"
     ]
    },
    {
     "name": "stderr",
     "output_type": "stream",
     "text": [
      "/Users/sebastianlopez/miniconda3/envs/maestriamatching/lib/python3.10/site-packages/sklearn/neural_network/_multilayer_perceptron.py:691: ConvergenceWarning: Stochastic Optimizer: Maximum iterations (5) reached and the optimization hasn't converged yet.\n",
      "  warnings.warn(\n",
      "/Users/sebastianlopez/miniconda3/envs/maestriamatching/lib/python3.10/site-packages/sklearn/neural_network/_multilayer_perceptron.py:691: ConvergenceWarning: Stochastic Optimizer: Maximum iterations (5) reached and the optimization hasn't converged yet.\n",
      "  warnings.warn(\n"
     ]
    },
    {
     "name": "stdout",
     "output_type": "stream",
     "text": [
      "[CV] END activation=identity, alpha=0.0001, early_stopping=True, learning_rate=constant, learning_rate_init=0.05, max_iter=5, n_iter_no_change=5, power_t=0.001, solver=sgd; total time=  14.8s\n",
      "[CV] END activation=identity, alpha=0.0001, early_stopping=True, learning_rate=constant, learning_rate_init=0.05, max_iter=5, n_iter_no_change=5, power_t=0.001, solver=sgd; total time=  15.1s\n"
     ]
    },
    {
     "name": "stderr",
     "output_type": "stream",
     "text": [
      "/Users/sebastianlopez/miniconda3/envs/maestriamatching/lib/python3.10/site-packages/sklearn/neural_network/_multilayer_perceptron.py:546: ConvergenceWarning: lbfgs failed to converge (status=1):\n",
      "STOP: TOTAL NO. of ITERATIONS REACHED LIMIT.\n",
      "\n",
      "Increase the number of iterations (max_iter) or scale the data as shown in:\n",
      "    https://scikit-learn.org/stable/modules/preprocessing.html\n",
      "  self.n_iter_ = _check_optimize_result(\"lbfgs\", opt_res, self.max_iter)\n"
     ]
    },
    {
     "name": "stdout",
     "output_type": "stream",
     "text": [
      "[CV] END activation=identity, alpha=0.0001, early_stopping=True, learning_rate=constant, learning_rate_init=0.05, max_iter=5, n_iter_no_change=5, power_t=0.001, solver=lbfgs; total time=  16.9s\n"
     ]
    },
    {
     "name": "stderr",
     "output_type": "stream",
     "text": [
      "/Users/sebastianlopez/miniconda3/envs/maestriamatching/lib/python3.10/site-packages/sklearn/neural_network/_multilayer_perceptron.py:546: ConvergenceWarning: lbfgs failed to converge (status=1):\n",
      "STOP: TOTAL NO. of ITERATIONS REACHED LIMIT.\n",
      "\n",
      "Increase the number of iterations (max_iter) or scale the data as shown in:\n",
      "    https://scikit-learn.org/stable/modules/preprocessing.html\n",
      "  self.n_iter_ = _check_optimize_result(\"lbfgs\", opt_res, self.max_iter)\n"
     ]
    },
    {
     "name": "stdout",
     "output_type": "stream",
     "text": [
      "[CV] END activation=identity, alpha=0.0001, early_stopping=True, learning_rate=constant, learning_rate_init=0.05, max_iter=5, n_iter_no_change=5, power_t=0.001, solver=lbfgs; total time=  18.7s\n"
     ]
    },
    {
     "name": "stderr",
     "output_type": "stream",
     "text": [
      "/Users/sebastianlopez/miniconda3/envs/maestriamatching/lib/python3.10/site-packages/sklearn/neural_network/_multilayer_perceptron.py:691: ConvergenceWarning: Stochastic Optimizer: Maximum iterations (5) reached and the optimization hasn't converged yet.\n",
      "  warnings.warn(\n"
     ]
    },
    {
     "name": "stdout",
     "output_type": "stream",
     "text": [
      "[CV] END activation=identity, alpha=0.0001, early_stopping=True, learning_rate=constant, learning_rate_init=0.05, max_iter=5, n_iter_no_change=5, power_t=0.001, solver=adam; total time=  15.6s\n"
     ]
    },
    {
     "name": "stderr",
     "output_type": "stream",
     "text": [
      "/Users/sebastianlopez/miniconda3/envs/maestriamatching/lib/python3.10/site-packages/sklearn/neural_network/_multilayer_perceptron.py:546: ConvergenceWarning: lbfgs failed to converge (status=1):\n",
      "STOP: TOTAL NO. of ITERATIONS REACHED LIMIT.\n",
      "\n",
      "Increase the number of iterations (max_iter) or scale the data as shown in:\n",
      "    https://scikit-learn.org/stable/modules/preprocessing.html\n",
      "  self.n_iter_ = _check_optimize_result(\"lbfgs\", opt_res, self.max_iter)\n"
     ]
    },
    {
     "name": "stdout",
     "output_type": "stream",
     "text": [
      "[CV] END activation=identity, alpha=0.0001, early_stopping=True, learning_rate=constant, learning_rate_init=0.05, max_iter=5, n_iter_no_change=5, power_t=0.001, solver=lbfgs; total time=  20.7s\n"
     ]
    },
    {
     "name": "stderr",
     "output_type": "stream",
     "text": [
      "/Users/sebastianlopez/miniconda3/envs/maestriamatching/lib/python3.10/site-packages/sklearn/neural_network/_multilayer_perceptron.py:691: ConvergenceWarning: Stochastic Optimizer: Maximum iterations (5) reached and the optimization hasn't converged yet.\n",
      "  warnings.warn(\n"
     ]
    },
    {
     "name": "stdout",
     "output_type": "stream",
     "text": [
      "[CV] END activation=identity, alpha=0.0001, early_stopping=True, learning_rate=constant, learning_rate_init=0.05, max_iter=5, n_iter_no_change=5, power_t=0.001, solver=adam; total time=  15.4s\n"
     ]
    },
    {
     "name": "stderr",
     "output_type": "stream",
     "text": [
      "/Users/sebastianlopez/miniconda3/envs/maestriamatching/lib/python3.10/site-packages/sklearn/neural_network/_multilayer_perceptron.py:691: ConvergenceWarning: Stochastic Optimizer: Maximum iterations (5) reached and the optimization hasn't converged yet.\n",
      "  warnings.warn(\n"
     ]
    },
    {
     "name": "stdout",
     "output_type": "stream",
     "text": [
      "[CV] END activation=identity, alpha=0.0001, early_stopping=True, learning_rate=constant, learning_rate_init=0.05, max_iter=5, n_iter_no_change=5, power_t=0.001, solver=adam; total time=  15.1s\n"
     ]
    },
    {
     "name": "stderr",
     "output_type": "stream",
     "text": [
      "/Users/sebastianlopez/miniconda3/envs/maestriamatching/lib/python3.10/site-packages/sklearn/neural_network/_multilayer_perceptron.py:546: ConvergenceWarning: lbfgs failed to converge (status=1):\n",
      "STOP: TOTAL NO. of ITERATIONS REACHED LIMIT.\n",
      "\n",
      "Increase the number of iterations (max_iter) or scale the data as shown in:\n",
      "    https://scikit-learn.org/stable/modules/preprocessing.html\n",
      "  self.n_iter_ = _check_optimize_result(\"lbfgs\", opt_res, self.max_iter)\n"
     ]
    },
    {
     "name": "stdout",
     "output_type": "stream",
     "text": [
      "[CV] END activation=identity, alpha=0.0001, early_stopping=True, learning_rate=constant, learning_rate_init=0.05, max_iter=5, n_iter_no_change=5, power_t=0.005, solver=lbfgs; total time=  15.8s\n"
     ]
    },
    {
     "name": "stderr",
     "output_type": "stream",
     "text": [
      "/Users/sebastianlopez/miniconda3/envs/maestriamatching/lib/python3.10/site-packages/sklearn/neural_network/_multilayer_perceptron.py:691: ConvergenceWarning: Stochastic Optimizer: Maximum iterations (5) reached and the optimization hasn't converged yet.\n",
      "  warnings.warn(\n",
      "/Users/sebastianlopez/miniconda3/envs/maestriamatching/lib/python3.10/site-packages/sklearn/neural_network/_multilayer_perceptron.py:691: ConvergenceWarning: Stochastic Optimizer: Maximum iterations (5) reached and the optimization hasn't converged yet.\n",
      "  warnings.warn(\n",
      "/Users/sebastianlopez/miniconda3/envs/maestriamatching/lib/python3.10/site-packages/sklearn/neural_network/_multilayer_perceptron.py:546: ConvergenceWarning: lbfgs failed to converge (status=1):\n",
      "STOP: TOTAL NO. of ITERATIONS REACHED LIMIT.\n",
      "\n",
      "Increase the number of iterations (max_iter) or scale the data as shown in:\n",
      "    https://scikit-learn.org/stable/modules/preprocessing.html\n",
      "  self.n_iter_ = _check_optimize_result(\"lbfgs\", opt_res, self.max_iter)\n"
     ]
    },
    {
     "name": "stdout",
     "output_type": "stream",
     "text": [
      "[CV] END activation=identity, alpha=0.0001, early_stopping=True, learning_rate=constant, learning_rate_init=0.05, max_iter=5, n_iter_no_change=5, power_t=0.005, solver=sgd; total time=  14.2s\n",
      "[CV] END activation=identity, alpha=0.0001, early_stopping=True, learning_rate=constant, learning_rate_init=0.05, max_iter=5, n_iter_no_change=5, power_t=0.005, solver=sgd; total time=  14.1s\n"
     ]
    },
    {
     "name": "stderr",
     "output_type": "stream",
     "text": [
      "/Users/sebastianlopez/miniconda3/envs/maestriamatching/lib/python3.10/site-packages/sklearn/neural_network/_multilayer_perceptron.py:691: ConvergenceWarning: Stochastic Optimizer: Maximum iterations (5) reached and the optimization hasn't converged yet.\n",
      "  warnings.warn(\n"
     ]
    },
    {
     "name": "stdout",
     "output_type": "stream",
     "text": [
      "[CV] END activation=identity, alpha=0.0001, early_stopping=True, learning_rate=constant, learning_rate_init=0.05, max_iter=5, n_iter_no_change=5, power_t=0.005, solver=lbfgs; total time=  17.9s\n",
      "[CV] END activation=identity, alpha=0.0001, early_stopping=True, learning_rate=constant, learning_rate_init=0.05, max_iter=5, n_iter_no_change=5, power_t=0.005, solver=sgd; total time=  14.2s\n"
     ]
    },
    {
     "name": "stderr",
     "output_type": "stream",
     "text": [
      "/Users/sebastianlopez/miniconda3/envs/maestriamatching/lib/python3.10/site-packages/sklearn/neural_network/_multilayer_perceptron.py:691: ConvergenceWarning: Stochastic Optimizer: Maximum iterations (5) reached and the optimization hasn't converged yet.\n",
      "  warnings.warn(\n",
      "/Users/sebastianlopez/miniconda3/envs/maestriamatching/lib/python3.10/site-packages/sklearn/neural_network/_multilayer_perceptron.py:691: ConvergenceWarning: Stochastic Optimizer: Maximum iterations (5) reached and the optimization hasn't converged yet.\n",
      "  warnings.warn(\n"
     ]
    },
    {
     "name": "stdout",
     "output_type": "stream",
     "text": [
      "[CV] END activation=identity, alpha=0.0001, early_stopping=True, learning_rate=constant, learning_rate_init=0.05, max_iter=5, n_iter_no_change=5, power_t=0.005, solver=adam; total time=  15.4s\n",
      "[CV] END activation=identity, alpha=0.0001, early_stopping=True, learning_rate=constant, learning_rate_init=0.05, max_iter=5, n_iter_no_change=5, power_t=0.005, solver=adam; total time=  14.9s\n"
     ]
    },
    {
     "name": "stderr",
     "output_type": "stream",
     "text": [
      "/Users/sebastianlopez/miniconda3/envs/maestriamatching/lib/python3.10/site-packages/sklearn/neural_network/_multilayer_perceptron.py:691: ConvergenceWarning: Stochastic Optimizer: Maximum iterations (5) reached and the optimization hasn't converged yet.\n",
      "  warnings.warn(\n"
     ]
    },
    {
     "name": "stdout",
     "output_type": "stream",
     "text": [
      "[CV] END activation=identity, alpha=0.0001, early_stopping=True, learning_rate=constant, learning_rate_init=0.05, max_iter=5, n_iter_no_change=5, power_t=0.005, solver=adam; total time=  14.9s\n"
     ]
    },
    {
     "name": "stderr",
     "output_type": "stream",
     "text": [
      "/Users/sebastianlopez/miniconda3/envs/maestriamatching/lib/python3.10/site-packages/sklearn/neural_network/_multilayer_perceptron.py:546: ConvergenceWarning: lbfgs failed to converge (status=1):\n",
      "STOP: TOTAL NO. of ITERATIONS REACHED LIMIT.\n",
      "\n",
      "Increase the number of iterations (max_iter) or scale the data as shown in:\n",
      "    https://scikit-learn.org/stable/modules/preprocessing.html\n",
      "  self.n_iter_ = _check_optimize_result(\"lbfgs\", opt_res, self.max_iter)\n"
     ]
    },
    {
     "name": "stdout",
     "output_type": "stream",
     "text": [
      "[CV] END activation=identity, alpha=0.0001, early_stopping=True, learning_rate=constant, learning_rate_init=0.05, max_iter=5, n_iter_no_change=5, power_t=0.005, solver=lbfgs; total time=  26.0s\n"
     ]
    },
    {
     "name": "stderr",
     "output_type": "stream",
     "text": [
      "/Users/sebastianlopez/miniconda3/envs/maestriamatching/lib/python3.10/site-packages/sklearn/neural_network/_multilayer_perceptron.py:546: ConvergenceWarning: lbfgs failed to converge (status=1):\n",
      "STOP: TOTAL NO. of ITERATIONS REACHED LIMIT.\n",
      "\n",
      "Increase the number of iterations (max_iter) or scale the data as shown in:\n",
      "    https://scikit-learn.org/stable/modules/preprocessing.html\n",
      "  self.n_iter_ = _check_optimize_result(\"lbfgs\", opt_res, self.max_iter)\n"
     ]
    },
    {
     "name": "stdout",
     "output_type": "stream",
     "text": [
      "[CV] END activation=identity, alpha=0.0001, early_stopping=True, learning_rate=constant, learning_rate_init=0.05, max_iter=10, n_iter_no_change=5, power_t=0.5, solver=lbfgs; total time=  30.7s\n"
     ]
    },
    {
     "name": "stderr",
     "output_type": "stream",
     "text": [
      "/Users/sebastianlopez/miniconda3/envs/maestriamatching/lib/python3.10/site-packages/sklearn/neural_network/_multilayer_perceptron.py:691: ConvergenceWarning: Stochastic Optimizer: Maximum iterations (10) reached and the optimization hasn't converged yet.\n",
      "  warnings.warn(\n",
      "/Users/sebastianlopez/miniconda3/envs/maestriamatching/lib/python3.10/site-packages/sklearn/neural_network/_multilayer_perceptron.py:691: ConvergenceWarning: Stochastic Optimizer: Maximum iterations (10) reached and the optimization hasn't converged yet.\n",
      "  warnings.warn(\n",
      "/Users/sebastianlopez/miniconda3/envs/maestriamatching/lib/python3.10/site-packages/sklearn/neural_network/_multilayer_perceptron.py:691: ConvergenceWarning: Stochastic Optimizer: Maximum iterations (10) reached and the optimization hasn't converged yet.\n",
      "  warnings.warn(\n"
     ]
    },
    {
     "name": "stdout",
     "output_type": "stream",
     "text": [
      "[CV] END activation=identity, alpha=0.0001, early_stopping=True, learning_rate=constant, learning_rate_init=0.05, max_iter=10, n_iter_no_change=5, power_t=0.5, solver=sgd; total time=  27.3s\n"
     ]
    },
    {
     "name": "stderr",
     "output_type": "stream",
     "text": [
      "/Users/sebastianlopez/miniconda3/envs/maestriamatching/lib/python3.10/site-packages/sklearn/neural_network/_multilayer_perceptron.py:546: ConvergenceWarning: lbfgs failed to converge (status=1):\n",
      "STOP: TOTAL NO. of ITERATIONS REACHED LIMIT.\n",
      "\n",
      "Increase the number of iterations (max_iter) or scale the data as shown in:\n",
      "    https://scikit-learn.org/stable/modules/preprocessing.html\n",
      "  self.n_iter_ = _check_optimize_result(\"lbfgs\", opt_res, self.max_iter)\n"
     ]
    },
    {
     "name": "stdout",
     "output_type": "stream",
     "text": [
      "[CV] END activation=identity, alpha=0.0001, early_stopping=True, learning_rate=constant, learning_rate_init=0.05, max_iter=10, n_iter_no_change=5, power_t=0.5, solver=sgd; total time=  27.5s\n",
      "[CV] END activation=identity, alpha=0.0001, early_stopping=True, learning_rate=constant, learning_rate_init=0.05, max_iter=10, n_iter_no_change=5, power_t=0.5, solver=sgd; total time=  27.2s\n",
      "[CV] END activation=identity, alpha=0.0001, early_stopping=True, learning_rate=constant, learning_rate_init=0.05, max_iter=10, n_iter_no_change=5, power_t=0.5, solver=lbfgs; total time=  32.6s\n"
     ]
    },
    {
     "name": "stderr",
     "output_type": "stream",
     "text": [
      "/Users/sebastianlopez/miniconda3/envs/maestriamatching/lib/python3.10/site-packages/sklearn/neural_network/_multilayer_perceptron.py:691: ConvergenceWarning: Stochastic Optimizer: Maximum iterations (10) reached and the optimization hasn't converged yet.\n",
      "  warnings.warn(\n"
     ]
    },
    {
     "name": "stdout",
     "output_type": "stream",
     "text": [
      "[CV] END activation=identity, alpha=0.0001, early_stopping=True, learning_rate=constant, learning_rate_init=0.05, max_iter=10, n_iter_no_change=5, power_t=0.5, solver=adam; total time=  29.6s\n"
     ]
    },
    {
     "name": "stderr",
     "output_type": "stream",
     "text": [
      "/Users/sebastianlopez/miniconda3/envs/maestriamatching/lib/python3.10/site-packages/sklearn/neural_network/_multilayer_perceptron.py:546: ConvergenceWarning: lbfgs failed to converge (status=1):\n",
      "STOP: TOTAL NO. of ITERATIONS REACHED LIMIT.\n",
      "\n",
      "Increase the number of iterations (max_iter) or scale the data as shown in:\n",
      "    https://scikit-learn.org/stable/modules/preprocessing.html\n",
      "  self.n_iter_ = _check_optimize_result(\"lbfgs\", opt_res, self.max_iter)\n",
      "/Users/sebastianlopez/miniconda3/envs/maestriamatching/lib/python3.10/site-packages/sklearn/neural_network/_multilayer_perceptron.py:691: ConvergenceWarning: Stochastic Optimizer: Maximum iterations (10) reached and the optimization hasn't converged yet.\n",
      "  warnings.warn(\n",
      "/Users/sebastianlopez/miniconda3/envs/maestriamatching/lib/python3.10/site-packages/sklearn/neural_network/_multilayer_perceptron.py:546: ConvergenceWarning: lbfgs failed to converge (status=1):\n",
      "STOP: TOTAL NO. of ITERATIONS REACHED LIMIT.\n",
      "\n",
      "Increase the number of iterations (max_iter) or scale the data as shown in:\n",
      "    https://scikit-learn.org/stable/modules/preprocessing.html\n",
      "  self.n_iter_ = _check_optimize_result(\"lbfgs\", opt_res, self.max_iter)\n",
      "/Users/sebastianlopez/miniconda3/envs/maestriamatching/lib/python3.10/site-packages/sklearn/neural_network/_multilayer_perceptron.py:691: ConvergenceWarning: Stochastic Optimizer: Maximum iterations (10) reached and the optimization hasn't converged yet.\n",
      "  warnings.warn(\n"
     ]
    },
    {
     "name": "stdout",
     "output_type": "stream",
     "text": [
      "[CV] END activation=identity, alpha=0.0001, early_stopping=True, learning_rate=constant, learning_rate_init=0.05, max_iter=10, n_iter_no_change=5, power_t=0.5, solver=lbfgs; total time=  35.2s\n",
      "[CV] END activation=identity, alpha=0.0001, early_stopping=True, learning_rate=constant, learning_rate_init=0.05, max_iter=10, n_iter_no_change=5, power_t=0.5, solver=adam; total time=  30.6s\n",
      "[CV] END activation=identity, alpha=0.0001, early_stopping=True, learning_rate=constant, learning_rate_init=0.05, max_iter=10, n_iter_no_change=5, power_t=0.1, solver=lbfgs; total time=  29.4s\n",
      "[CV] END activation=identity, alpha=0.0001, early_stopping=True, learning_rate=constant, learning_rate_init=0.05, max_iter=10, n_iter_no_change=5, power_t=0.5, solver=adam; total time=  30.3s\n"
     ]
    },
    {
     "name": "stderr",
     "output_type": "stream",
     "text": [
      "/Users/sebastianlopez/miniconda3/envs/maestriamatching/lib/python3.10/site-packages/sklearn/neural_network/_multilayer_perceptron.py:546: ConvergenceWarning: lbfgs failed to converge (status=1):\n",
      "STOP: TOTAL NO. of ITERATIONS REACHED LIMIT.\n",
      "\n",
      "Increase the number of iterations (max_iter) or scale the data as shown in:\n",
      "    https://scikit-learn.org/stable/modules/preprocessing.html\n",
      "  self.n_iter_ = _check_optimize_result(\"lbfgs\", opt_res, self.max_iter)\n"
     ]
    },
    {
     "name": "stdout",
     "output_type": "stream",
     "text": [
      "[CV] END activation=identity, alpha=0.0001, early_stopping=True, learning_rate=constant, learning_rate_init=0.05, max_iter=10, n_iter_no_change=5, power_t=0.1, solver=lbfgs; total time=  29.8s\n"
     ]
    },
    {
     "name": "stderr",
     "output_type": "stream",
     "text": [
      "/Users/sebastianlopez/miniconda3/envs/maestriamatching/lib/python3.10/site-packages/sklearn/neural_network/_multilayer_perceptron.py:546: ConvergenceWarning: lbfgs failed to converge (status=1):\n",
      "STOP: TOTAL NO. of ITERATIONS REACHED LIMIT.\n",
      "\n",
      "Increase the number of iterations (max_iter) or scale the data as shown in:\n",
      "    https://scikit-learn.org/stable/modules/preprocessing.html\n",
      "  self.n_iter_ = _check_optimize_result(\"lbfgs\", opt_res, self.max_iter)\n"
     ]
    },
    {
     "name": "stdout",
     "output_type": "stream",
     "text": [
      "[CV] END activation=identity, alpha=0.0001, early_stopping=True, learning_rate=constant, learning_rate_init=0.05, max_iter=10, n_iter_no_change=5, power_t=0.1, solver=lbfgs; total time=  29.9s\n"
     ]
    },
    {
     "name": "stderr",
     "output_type": "stream",
     "text": [
      "/Users/sebastianlopez/miniconda3/envs/maestriamatching/lib/python3.10/site-packages/sklearn/neural_network/_multilayer_perceptron.py:691: ConvergenceWarning: Stochastic Optimizer: Maximum iterations (10) reached and the optimization hasn't converged yet.\n",
      "  warnings.warn(\n",
      "/Users/sebastianlopez/miniconda3/envs/maestriamatching/lib/python3.10/site-packages/sklearn/neural_network/_multilayer_perceptron.py:691: ConvergenceWarning: Stochastic Optimizer: Maximum iterations (10) reached and the optimization hasn't converged yet.\n",
      "  warnings.warn(\n",
      "/Users/sebastianlopez/miniconda3/envs/maestriamatching/lib/python3.10/site-packages/sklearn/neural_network/_multilayer_perceptron.py:691: ConvergenceWarning: Stochastic Optimizer: Maximum iterations (10) reached and the optimization hasn't converged yet.\n",
      "  warnings.warn(\n"
     ]
    },
    {
     "name": "stdout",
     "output_type": "stream",
     "text": [
      "[CV] END activation=identity, alpha=0.0001, early_stopping=True, learning_rate=constant, learning_rate_init=0.05, max_iter=10, n_iter_no_change=5, power_t=0.1, solver=sgd; total time=  29.7s\n",
      "[CV] END activation=identity, alpha=0.0001, early_stopping=True, learning_rate=constant, learning_rate_init=0.05, max_iter=10, n_iter_no_change=5, power_t=0.1, solver=sgd; total time=  29.6s\n",
      "[CV] END activation=identity, alpha=0.0001, early_stopping=True, learning_rate=constant, learning_rate_init=0.05, max_iter=10, n_iter_no_change=5, power_t=0.1, solver=sgd; total time=  29.7s\n"
     ]
    },
    {
     "name": "stderr",
     "output_type": "stream",
     "text": [
      "/Users/sebastianlopez/miniconda3/envs/maestriamatching/lib/python3.10/site-packages/sklearn/neural_network/_multilayer_perceptron.py:691: ConvergenceWarning: Stochastic Optimizer: Maximum iterations (10) reached and the optimization hasn't converged yet.\n",
      "  warnings.warn(\n"
     ]
    },
    {
     "name": "stdout",
     "output_type": "stream",
     "text": [
      "[CV] END activation=identity, alpha=0.0001, early_stopping=True, learning_rate=constant, learning_rate_init=0.05, max_iter=10, n_iter_no_change=5, power_t=0.1, solver=adam; total time=  32.0s\n"
     ]
    },
    {
     "name": "stderr",
     "output_type": "stream",
     "text": [
      "/Users/sebastianlopez/miniconda3/envs/maestriamatching/lib/python3.10/site-packages/sklearn/neural_network/_multilayer_perceptron.py:546: ConvergenceWarning: lbfgs failed to converge (status=1):\n",
      "STOP: TOTAL NO. of ITERATIONS REACHED LIMIT.\n",
      "\n",
      "Increase the number of iterations (max_iter) or scale the data as shown in:\n",
      "    https://scikit-learn.org/stable/modules/preprocessing.html\n",
      "  self.n_iter_ = _check_optimize_result(\"lbfgs\", opt_res, self.max_iter)\n",
      "/Users/sebastianlopez/miniconda3/envs/maestriamatching/lib/python3.10/site-packages/sklearn/neural_network/_multilayer_perceptron.py:691: ConvergenceWarning: Stochastic Optimizer: Maximum iterations (10) reached and the optimization hasn't converged yet.\n",
      "  warnings.warn(\n"
     ]
    },
    {
     "name": "stdout",
     "output_type": "stream",
     "text": [
      "[CV] END activation=identity, alpha=0.0001, early_stopping=True, learning_rate=constant, learning_rate_init=0.05, max_iter=10, n_iter_no_change=5, power_t=0.9, solver=lbfgs; total time=  27.9s\n",
      "[CV] END activation=identity, alpha=0.0001, early_stopping=True, learning_rate=constant, learning_rate_init=0.05, max_iter=10, n_iter_no_change=5, power_t=0.1, solver=adam; total time=  32.4s\n"
     ]
    },
    {
     "name": "stderr",
     "output_type": "stream",
     "text": [
      "/Users/sebastianlopez/miniconda3/envs/maestriamatching/lib/python3.10/site-packages/sklearn/neural_network/_multilayer_perceptron.py:546: ConvergenceWarning: lbfgs failed to converge (status=1):\n",
      "STOP: TOTAL NO. of ITERATIONS REACHED LIMIT.\n",
      "\n",
      "Increase the number of iterations (max_iter) or scale the data as shown in:\n",
      "    https://scikit-learn.org/stable/modules/preprocessing.html\n",
      "  self.n_iter_ = _check_optimize_result(\"lbfgs\", opt_res, self.max_iter)\n",
      "/Users/sebastianlopez/miniconda3/envs/maestriamatching/lib/python3.10/site-packages/sklearn/neural_network/_multilayer_perceptron.py:546: ConvergenceWarning: lbfgs failed to converge (status=1):\n",
      "STOP: TOTAL NO. of ITERATIONS REACHED LIMIT.\n",
      "\n",
      "Increase the number of iterations (max_iter) or scale the data as shown in:\n",
      "    https://scikit-learn.org/stable/modules/preprocessing.html\n",
      "  self.n_iter_ = _check_optimize_result(\"lbfgs\", opt_res, self.max_iter)\n"
     ]
    },
    {
     "name": "stdout",
     "output_type": "stream",
     "text": [
      "[CV] END activation=identity, alpha=0.0001, early_stopping=True, learning_rate=constant, learning_rate_init=0.05, max_iter=10, n_iter_no_change=5, power_t=0.9, solver=lbfgs; total time=  30.1s\n",
      "[CV] END activation=identity, alpha=0.0001, early_stopping=True, learning_rate=constant, learning_rate_init=0.05, max_iter=10, n_iter_no_change=5, power_t=0.9, solver=lbfgs; total time=  30.2s\n"
     ]
    },
    {
     "name": "stderr",
     "output_type": "stream",
     "text": [
      "/Users/sebastianlopez/miniconda3/envs/maestriamatching/lib/python3.10/site-packages/sklearn/neural_network/_multilayer_perceptron.py:691: ConvergenceWarning: Stochastic Optimizer: Maximum iterations (10) reached and the optimization hasn't converged yet.\n",
      "  warnings.warn(\n"
     ]
    },
    {
     "name": "stdout",
     "output_type": "stream",
     "text": [
      "[CV] END activation=identity, alpha=0.0001, early_stopping=True, learning_rate=constant, learning_rate_init=0.05, max_iter=10, n_iter_no_change=5, power_t=0.1, solver=adam; total time=  32.3s\n"
     ]
    },
    {
     "name": "stderr",
     "output_type": "stream",
     "text": [
      "/Users/sebastianlopez/miniconda3/envs/maestriamatching/lib/python3.10/site-packages/sklearn/neural_network/_multilayer_perceptron.py:691: ConvergenceWarning: Stochastic Optimizer: Maximum iterations (10) reached and the optimization hasn't converged yet.\n",
      "  warnings.warn(\n"
     ]
    },
    {
     "name": "stdout",
     "output_type": "stream",
     "text": [
      "[CV] END activation=identity, alpha=0.0001, early_stopping=True, learning_rate=constant, learning_rate_init=0.05, max_iter=10, n_iter_no_change=5, power_t=0.9, solver=sgd; total time=  29.7s\n"
     ]
    },
    {
     "name": "stderr",
     "output_type": "stream",
     "text": [
      "/Users/sebastianlopez/miniconda3/envs/maestriamatching/lib/python3.10/site-packages/sklearn/neural_network/_multilayer_perceptron.py:691: ConvergenceWarning: Stochastic Optimizer: Maximum iterations (10) reached and the optimization hasn't converged yet.\n",
      "  warnings.warn(\n"
     ]
    },
    {
     "name": "stdout",
     "output_type": "stream",
     "text": [
      "[CV] END activation=identity, alpha=0.0001, early_stopping=True, learning_rate=constant, learning_rate_init=0.05, max_iter=10, n_iter_no_change=5, power_t=0.9, solver=sgd; total time=  29.1s\n"
     ]
    },
    {
     "name": "stderr",
     "output_type": "stream",
     "text": [
      "/Users/sebastianlopez/miniconda3/envs/maestriamatching/lib/python3.10/site-packages/sklearn/neural_network/_multilayer_perceptron.py:691: ConvergenceWarning: Stochastic Optimizer: Maximum iterations (10) reached and the optimization hasn't converged yet.\n",
      "  warnings.warn(\n"
     ]
    },
    {
     "name": "stdout",
     "output_type": "stream",
     "text": [
      "[CV] END activation=identity, alpha=0.0001, early_stopping=True, learning_rate=constant, learning_rate_init=0.05, max_iter=10, n_iter_no_change=5, power_t=0.9, solver=sgd; total time=  29.3s\n"
     ]
    },
    {
     "name": "stderr",
     "output_type": "stream",
     "text": [
      "/Users/sebastianlopez/miniconda3/envs/maestriamatching/lib/python3.10/site-packages/sklearn/neural_network/_multilayer_perceptron.py:691: ConvergenceWarning: Stochastic Optimizer: Maximum iterations (10) reached and the optimization hasn't converged yet.\n",
      "  warnings.warn(\n"
     ]
    },
    {
     "name": "stdout",
     "output_type": "stream",
     "text": [
      "[CV] END activation=identity, alpha=0.0001, early_stopping=True, learning_rate=constant, learning_rate_init=0.05, max_iter=10, n_iter_no_change=5, power_t=0.9, solver=adam; total time=  31.6s\n"
     ]
    },
    {
     "name": "stderr",
     "output_type": "stream",
     "text": [
      "/Users/sebastianlopez/miniconda3/envs/maestriamatching/lib/python3.10/site-packages/sklearn/neural_network/_multilayer_perceptron.py:691: ConvergenceWarning: Stochastic Optimizer: Maximum iterations (10) reached and the optimization hasn't converged yet.\n",
      "  warnings.warn(\n",
      "/Users/sebastianlopez/miniconda3/envs/maestriamatching/lib/python3.10/site-packages/sklearn/neural_network/_multilayer_perceptron.py:546: ConvergenceWarning: lbfgs failed to converge (status=1):\n",
      "STOP: TOTAL NO. of ITERATIONS REACHED LIMIT.\n",
      "\n",
      "Increase the number of iterations (max_iter) or scale the data as shown in:\n",
      "    https://scikit-learn.org/stable/modules/preprocessing.html\n",
      "  self.n_iter_ = _check_optimize_result(\"lbfgs\", opt_res, self.max_iter)\n"
     ]
    },
    {
     "name": "stdout",
     "output_type": "stream",
     "text": [
      "[CV] END activation=identity, alpha=0.0001, early_stopping=True, learning_rate=constant, learning_rate_init=0.05, max_iter=10, n_iter_no_change=5, power_t=0.9, solver=adam; total time=  32.3s\n",
      "[CV] END activation=identity, alpha=0.0001, early_stopping=True, learning_rate=constant, learning_rate_init=0.05, max_iter=10, n_iter_no_change=5, power_t=0.001, solver=lbfgs; total time=  27.2s\n"
     ]
    },
    {
     "name": "stderr",
     "output_type": "stream",
     "text": [
      "/Users/sebastianlopez/miniconda3/envs/maestriamatching/lib/python3.10/site-packages/sklearn/neural_network/_multilayer_perceptron.py:691: ConvergenceWarning: Stochastic Optimizer: Maximum iterations (10) reached and the optimization hasn't converged yet.\n",
      "  warnings.warn(\n"
     ]
    },
    {
     "name": "stdout",
     "output_type": "stream",
     "text": [
      "[CV] END activation=identity, alpha=0.0001, early_stopping=True, learning_rate=constant, learning_rate_init=0.05, max_iter=10, n_iter_no_change=5, power_t=0.9, solver=adam; total time=  31.4s\n"
     ]
    },
    {
     "name": "stderr",
     "output_type": "stream",
     "text": [
      "/Users/sebastianlopez/miniconda3/envs/maestriamatching/lib/python3.10/site-packages/sklearn/neural_network/_multilayer_perceptron.py:691: ConvergenceWarning: Stochastic Optimizer: Maximum iterations (10) reached and the optimization hasn't converged yet.\n",
      "  warnings.warn(\n"
     ]
    },
    {
     "name": "stdout",
     "output_type": "stream",
     "text": [
      "[CV] END activation=identity, alpha=0.0001, early_stopping=True, learning_rate=constant, learning_rate_init=0.05, max_iter=10, n_iter_no_change=5, power_t=0.001, solver=sgd; total time=  28.3s\n"
     ]
    },
    {
     "name": "stderr",
     "output_type": "stream",
     "text": [
      "/Users/sebastianlopez/miniconda3/envs/maestriamatching/lib/python3.10/site-packages/sklearn/neural_network/_multilayer_perceptron.py:546: ConvergenceWarning: lbfgs failed to converge (status=1):\n",
      "STOP: TOTAL NO. of ITERATIONS REACHED LIMIT.\n",
      "\n",
      "Increase the number of iterations (max_iter) or scale the data as shown in:\n",
      "    https://scikit-learn.org/stable/modules/preprocessing.html\n",
      "  self.n_iter_ = _check_optimize_result(\"lbfgs\", opt_res, self.max_iter)\n"
     ]
    },
    {
     "name": "stdout",
     "output_type": "stream",
     "text": [
      "[CV] END activation=identity, alpha=0.0001, early_stopping=True, learning_rate=constant, learning_rate_init=0.05, max_iter=10, n_iter_no_change=5, power_t=0.001, solver=lbfgs; total time=  29.4s\n"
     ]
    },
    {
     "name": "stderr",
     "output_type": "stream",
     "text": [
      "/Users/sebastianlopez/miniconda3/envs/maestriamatching/lib/python3.10/site-packages/sklearn/neural_network/_multilayer_perceptron.py:691: ConvergenceWarning: Stochastic Optimizer: Maximum iterations (10) reached and the optimization hasn't converged yet.\n",
      "  warnings.warn(\n"
     ]
    },
    {
     "name": "stdout",
     "output_type": "stream",
     "text": [
      "[CV] END activation=identity, alpha=0.0001, early_stopping=True, learning_rate=constant, learning_rate_init=0.05, max_iter=10, n_iter_no_change=5, power_t=0.001, solver=sgd; total time=  28.6s\n"
     ]
    },
    {
     "name": "stderr",
     "output_type": "stream",
     "text": [
      "/Users/sebastianlopez/miniconda3/envs/maestriamatching/lib/python3.10/site-packages/sklearn/neural_network/_multilayer_perceptron.py:691: ConvergenceWarning: Stochastic Optimizer: Maximum iterations (10) reached and the optimization hasn't converged yet.\n",
      "  warnings.warn(\n"
     ]
    },
    {
     "name": "stdout",
     "output_type": "stream",
     "text": [
      "[CV] END activation=identity, alpha=0.0001, early_stopping=True, learning_rate=constant, learning_rate_init=0.05, max_iter=10, n_iter_no_change=5, power_t=0.001, solver=sgd; total time=  29.3s\n"
     ]
    },
    {
     "name": "stderr",
     "output_type": "stream",
     "text": [
      "/Users/sebastianlopez/miniconda3/envs/maestriamatching/lib/python3.10/site-packages/sklearn/neural_network/_multilayer_perceptron.py:546: ConvergenceWarning: lbfgs failed to converge (status=1):\n",
      "STOP: TOTAL NO. of ITERATIONS REACHED LIMIT.\n",
      "\n",
      "Increase the number of iterations (max_iter) or scale the data as shown in:\n",
      "    https://scikit-learn.org/stable/modules/preprocessing.html\n",
      "  self.n_iter_ = _check_optimize_result(\"lbfgs\", opt_res, self.max_iter)\n"
     ]
    },
    {
     "name": "stdout",
     "output_type": "stream",
     "text": [
      "[CV] END activation=identity, alpha=0.0001, early_stopping=True, learning_rate=constant, learning_rate_init=0.05, max_iter=10, n_iter_no_change=5, power_t=0.001, solver=lbfgs; total time=  44.9s\n"
     ]
    },
    {
     "name": "stderr",
     "output_type": "stream",
     "text": [
      "/Users/sebastianlopez/miniconda3/envs/maestriamatching/lib/python3.10/site-packages/sklearn/neural_network/_multilayer_perceptron.py:691: ConvergenceWarning: Stochastic Optimizer: Maximum iterations (10) reached and the optimization hasn't converged yet.\n",
      "  warnings.warn(\n"
     ]
    },
    {
     "name": "stdout",
     "output_type": "stream",
     "text": [
      "[CV] END activation=identity, alpha=0.0001, early_stopping=True, learning_rate=constant, learning_rate_init=0.05, max_iter=10, n_iter_no_change=5, power_t=0.001, solver=adam; total time=  30.8s\n"
     ]
    },
    {
     "name": "stderr",
     "output_type": "stream",
     "text": [
      "/Users/sebastianlopez/miniconda3/envs/maestriamatching/lib/python3.10/site-packages/sklearn/neural_network/_multilayer_perceptron.py:691: ConvergenceWarning: Stochastic Optimizer: Maximum iterations (10) reached and the optimization hasn't converged yet.\n",
      "  warnings.warn(\n"
     ]
    },
    {
     "name": "stdout",
     "output_type": "stream",
     "text": [
      "[CV] END activation=identity, alpha=0.0001, early_stopping=True, learning_rate=constant, learning_rate_init=0.05, max_iter=10, n_iter_no_change=5, power_t=0.001, solver=adam; total time=  30.8s\n"
     ]
    },
    {
     "name": "stderr",
     "output_type": "stream",
     "text": [
      "/Users/sebastianlopez/miniconda3/envs/maestriamatching/lib/python3.10/site-packages/sklearn/neural_network/_multilayer_perceptron.py:546: ConvergenceWarning: lbfgs failed to converge (status=1):\n",
      "STOP: TOTAL NO. of ITERATIONS REACHED LIMIT.\n",
      "\n",
      "Increase the number of iterations (max_iter) or scale the data as shown in:\n",
      "    https://scikit-learn.org/stable/modules/preprocessing.html\n",
      "  self.n_iter_ = _check_optimize_result(\"lbfgs\", opt_res, self.max_iter)\n",
      "/Users/sebastianlopez/miniconda3/envs/maestriamatching/lib/python3.10/site-packages/sklearn/neural_network/_multilayer_perceptron.py:546: ConvergenceWarning: lbfgs failed to converge (status=1):\n",
      "STOP: TOTAL NO. of ITERATIONS REACHED LIMIT.\n",
      "\n",
      "Increase the number of iterations (max_iter) or scale the data as shown in:\n",
      "    https://scikit-learn.org/stable/modules/preprocessing.html\n",
      "  self.n_iter_ = _check_optimize_result(\"lbfgs\", opt_res, self.max_iter)\n"
     ]
    },
    {
     "name": "stdout",
     "output_type": "stream",
     "text": [
      "[CV] END activation=identity, alpha=0.0001, early_stopping=True, learning_rate=constant, learning_rate_init=0.05, max_iter=10, n_iter_no_change=5, power_t=0.005, solver=lbfgs; total time=  28.8s\n"
     ]
    },
    {
     "name": "stderr",
     "output_type": "stream",
     "text": [
      "/Users/sebastianlopez/miniconda3/envs/maestriamatching/lib/python3.10/site-packages/sklearn/neural_network/_multilayer_perceptron.py:691: ConvergenceWarning: Stochastic Optimizer: Maximum iterations (10) reached and the optimization hasn't converged yet.\n",
      "  warnings.warn(\n"
     ]
    },
    {
     "name": "stdout",
     "output_type": "stream",
     "text": [
      "[CV] END activation=identity, alpha=0.0001, early_stopping=True, learning_rate=constant, learning_rate_init=0.05, max_iter=10, n_iter_no_change=5, power_t=0.005, solver=lbfgs; total time=  28.6s\n",
      "[CV] END activation=identity, alpha=0.0001, early_stopping=True, learning_rate=constant, learning_rate_init=0.05, max_iter=10, n_iter_no_change=5, power_t=0.001, solver=adam; total time=  30.2s\n"
     ]
    },
    {
     "name": "stderr",
     "output_type": "stream",
     "text": [
      "/Users/sebastianlopez/miniconda3/envs/maestriamatching/lib/python3.10/site-packages/sklearn/neural_network/_multilayer_perceptron.py:691: ConvergenceWarning: Stochastic Optimizer: Maximum iterations (10) reached and the optimization hasn't converged yet.\n",
      "  warnings.warn(\n"
     ]
    },
    {
     "name": "stdout",
     "output_type": "stream",
     "text": [
      "[CV] END activation=identity, alpha=0.0001, early_stopping=True, learning_rate=constant, learning_rate_init=0.05, max_iter=10, n_iter_no_change=5, power_t=0.005, solver=sgd; total time=  27.8s\n"
     ]
    },
    {
     "name": "stderr",
     "output_type": "stream",
     "text": [
      "/Users/sebastianlopez/miniconda3/envs/maestriamatching/lib/python3.10/site-packages/sklearn/neural_network/_multilayer_perceptron.py:691: ConvergenceWarning: Stochastic Optimizer: Maximum iterations (10) reached and the optimization hasn't converged yet.\n",
      "  warnings.warn(\n",
      "/Users/sebastianlopez/miniconda3/envs/maestriamatching/lib/python3.10/site-packages/sklearn/neural_network/_multilayer_perceptron.py:546: ConvergenceWarning: lbfgs failed to converge (status=1):\n",
      "STOP: TOTAL NO. of ITERATIONS REACHED LIMIT.\n",
      "\n",
      "Increase the number of iterations (max_iter) or scale the data as shown in:\n",
      "    https://scikit-learn.org/stable/modules/preprocessing.html\n",
      "  self.n_iter_ = _check_optimize_result(\"lbfgs\", opt_res, self.max_iter)\n"
     ]
    },
    {
     "name": "stdout",
     "output_type": "stream",
     "text": [
      "[CV] END activation=identity, alpha=0.0001, early_stopping=True, learning_rate=constant, learning_rate_init=0.05, max_iter=10, n_iter_no_change=5, power_t=0.005, solver=sgd; total time=  27.8s\n",
      "[CV] END activation=identity, alpha=0.0001, early_stopping=True, learning_rate=constant, learning_rate_init=0.05, max_iter=10, n_iter_no_change=5, power_t=0.005, solver=lbfgs; total time=  30.6s\n"
     ]
    },
    {
     "name": "stderr",
     "output_type": "stream",
     "text": [
      "/Users/sebastianlopez/miniconda3/envs/maestriamatching/lib/python3.10/site-packages/sklearn/neural_network/_multilayer_perceptron.py:691: ConvergenceWarning: Stochastic Optimizer: Maximum iterations (10) reached and the optimization hasn't converged yet.\n",
      "  warnings.warn(\n"
     ]
    },
    {
     "name": "stdout",
     "output_type": "stream",
     "text": [
      "[CV] END activation=identity, alpha=0.0001, early_stopping=True, learning_rate=constant, learning_rate_init=0.05, max_iter=10, n_iter_no_change=5, power_t=0.005, solver=sgd; total time=  27.5s\n"
     ]
    },
    {
     "name": "stderr",
     "output_type": "stream",
     "text": [
      "/Users/sebastianlopez/miniconda3/envs/maestriamatching/lib/python3.10/site-packages/sklearn/neural_network/_multilayer_perceptron.py:691: ConvergenceWarning: Stochastic Optimizer: Maximum iterations (10) reached and the optimization hasn't converged yet.\n",
      "  warnings.warn(\n"
     ]
    },
    {
     "name": "stdout",
     "output_type": "stream",
     "text": [
      "[CV] END activation=identity, alpha=0.0001, early_stopping=True, learning_rate=constant, learning_rate_init=0.05, max_iter=10, n_iter_no_change=5, power_t=0.005, solver=adam; total time=  29.0s\n"
     ]
    },
    {
     "name": "stderr",
     "output_type": "stream",
     "text": [
      "/Users/sebastianlopez/miniconda3/envs/maestriamatching/lib/python3.10/site-packages/sklearn/neural_network/_multilayer_perceptron.py:691: ConvergenceWarning: Stochastic Optimizer: Maximum iterations (10) reached and the optimization hasn't converged yet.\n",
      "  warnings.warn(\n"
     ]
    },
    {
     "name": "stdout",
     "output_type": "stream",
     "text": [
      "[CV] END activation=identity, alpha=0.0001, early_stopping=True, learning_rate=constant, learning_rate_init=0.05, max_iter=10, n_iter_no_change=5, power_t=0.005, solver=adam; total time=  29.6s\n"
     ]
    },
    {
     "name": "stderr",
     "output_type": "stream",
     "text": [
      "/Users/sebastianlopez/miniconda3/envs/maestriamatching/lib/python3.10/site-packages/sklearn/neural_network/_multilayer_perceptron.py:691: ConvergenceWarning: Stochastic Optimizer: Maximum iterations (10) reached and the optimization hasn't converged yet.\n",
      "  warnings.warn(\n"
     ]
    },
    {
     "name": "stdout",
     "output_type": "stream",
     "text": [
      "[CV] END activation=identity, alpha=0.0001, early_stopping=True, learning_rate=constant, learning_rate_init=0.05, max_iter=10, n_iter_no_change=5, power_t=0.005, solver=adam; total time=  29.5s\n",
      "[CV] END activation=identity, alpha=0.0001, early_stopping=True, learning_rate=constant, learning_rate_init=0.05, max_iter=20, n_iter_no_change=5, power_t=0.5, solver=sgd; total time=  36.8s\n"
     ]
    },
    {
     "name": "stderr",
     "output_type": "stream",
     "text": [
      "/Users/sebastianlopez/miniconda3/envs/maestriamatching/lib/python3.10/site-packages/sklearn/neural_network/_multilayer_perceptron.py:546: ConvergenceWarning: lbfgs failed to converge (status=1):\n",
      "STOP: TOTAL NO. of ITERATIONS REACHED LIMIT.\n",
      "\n",
      "Increase the number of iterations (max_iter) or scale the data as shown in:\n",
      "    https://scikit-learn.org/stable/modules/preprocessing.html\n",
      "  self.n_iter_ = _check_optimize_result(\"lbfgs\", opt_res, self.max_iter)\n"
     ]
    },
    {
     "name": "stdout",
     "output_type": "stream",
     "text": [
      "[CV] END activation=identity, alpha=0.0001, early_stopping=True, learning_rate=constant, learning_rate_init=0.05, max_iter=20, n_iter_no_change=5, power_t=0.5, solver=lbfgs; total time=  46.4s\n"
     ]
    },
    {
     "name": "stderr",
     "output_type": "stream",
     "text": [
      "/Users/sebastianlopez/miniconda3/envs/maestriamatching/lib/python3.10/site-packages/sklearn/neural_network/_multilayer_perceptron.py:546: ConvergenceWarning: lbfgs failed to converge (status=1):\n",
      "STOP: TOTAL NO. of ITERATIONS REACHED LIMIT.\n",
      "\n",
      "Increase the number of iterations (max_iter) or scale the data as shown in:\n",
      "    https://scikit-learn.org/stable/modules/preprocessing.html\n",
      "  self.n_iter_ = _check_optimize_result(\"lbfgs\", opt_res, self.max_iter)\n",
      "/Users/sebastianlopez/miniconda3/envs/maestriamatching/lib/python3.10/site-packages/sklearn/neural_network/_multilayer_perceptron.py:546: ConvergenceWarning: lbfgs failed to converge (status=1):\n",
      "STOP: TOTAL NO. of ITERATIONS REACHED LIMIT.\n",
      "\n",
      "Increase the number of iterations (max_iter) or scale the data as shown in:\n",
      "    https://scikit-learn.org/stable/modules/preprocessing.html\n",
      "  self.n_iter_ = _check_optimize_result(\"lbfgs\", opt_res, self.max_iter)\n"
     ]
    },
    {
     "name": "stdout",
     "output_type": "stream",
     "text": [
      "[CV] END activation=identity, alpha=0.0001, early_stopping=True, learning_rate=constant, learning_rate_init=0.05, max_iter=20, n_iter_no_change=5, power_t=0.5, solver=lbfgs; total time=  48.1s\n",
      "[CV] END activation=identity, alpha=0.0001, early_stopping=True, learning_rate=constant, learning_rate_init=0.05, max_iter=20, n_iter_no_change=5, power_t=0.5, solver=lbfgs; total time=  48.2s\n",
      "[CV] END activation=identity, alpha=0.0001, early_stopping=True, learning_rate=constant, learning_rate_init=0.05, max_iter=20, n_iter_no_change=5, power_t=0.5, solver=adam; total time=  40.0s\n"
     ]
    },
    {
     "name": "stderr",
     "output_type": "stream",
     "text": [
      "/Users/sebastianlopez/miniconda3/envs/maestriamatching/lib/python3.10/site-packages/sklearn/neural_network/_multilayer_perceptron.py:691: ConvergenceWarning: Stochastic Optimizer: Maximum iterations (20) reached and the optimization hasn't converged yet.\n",
      "  warnings.warn(\n",
      "/Users/sebastianlopez/miniconda3/envs/maestriamatching/lib/python3.10/site-packages/sklearn/neural_network/_multilayer_perceptron.py:691: ConvergenceWarning: Stochastic Optimizer: Maximum iterations (20) reached and the optimization hasn't converged yet.\n",
      "  warnings.warn(\n"
     ]
    },
    {
     "name": "stdout",
     "output_type": "stream",
     "text": [
      "[CV] END activation=identity, alpha=0.0001, early_stopping=True, learning_rate=constant, learning_rate_init=0.05, max_iter=20, n_iter_no_change=5, power_t=0.5, solver=adam; total time=  51.8s\n",
      "[CV] END activation=identity, alpha=0.0001, early_stopping=True, learning_rate=constant, learning_rate_init=0.05, max_iter=20, n_iter_no_change=5, power_t=0.5, solver=sgd; total time=  53.6s\n",
      "[CV] END activation=identity, alpha=0.0001, early_stopping=True, learning_rate=constant, learning_rate_init=0.05, max_iter=20, n_iter_no_change=5, power_t=0.5, solver=sgd; total time=  53.1s\n"
     ]
    },
    {
     "name": "stderr",
     "output_type": "stream",
     "text": [
      "/Users/sebastianlopez/miniconda3/envs/maestriamatching/lib/python3.10/site-packages/sklearn/neural_network/_multilayer_perceptron.py:691: ConvergenceWarning: Stochastic Optimizer: Maximum iterations (20) reached and the optimization hasn't converged yet.\n",
      "  warnings.warn(\n"
     ]
    },
    {
     "name": "stdout",
     "output_type": "stream",
     "text": [
      "[CV] END activation=identity, alpha=0.0001, early_stopping=True, learning_rate=constant, learning_rate_init=0.05, max_iter=20, n_iter_no_change=5, power_t=0.5, solver=adam; total time=  57.7s\n"
     ]
    },
    {
     "name": "stderr",
     "output_type": "stream",
     "text": [
      "/Users/sebastianlopez/miniconda3/envs/maestriamatching/lib/python3.10/site-packages/sklearn/neural_network/_multilayer_perceptron.py:546: ConvergenceWarning: lbfgs failed to converge (status=1):\n",
      "STOP: TOTAL NO. of ITERATIONS REACHED LIMIT.\n",
      "\n",
      "Increase the number of iterations (max_iter) or scale the data as shown in:\n",
      "    https://scikit-learn.org/stable/modules/preprocessing.html\n",
      "  self.n_iter_ = _check_optimize_result(\"lbfgs\", opt_res, self.max_iter)\n"
     ]
    },
    {
     "name": "stdout",
     "output_type": "stream",
     "text": [
      "[CV] END activation=identity, alpha=0.0001, early_stopping=True, learning_rate=constant, learning_rate_init=0.05, max_iter=20, n_iter_no_change=5, power_t=0.1, solver=lbfgs; total time=  50.4s\n"
     ]
    },
    {
     "name": "stderr",
     "output_type": "stream",
     "text": [
      "/Users/sebastianlopez/miniconda3/envs/maestriamatching/lib/python3.10/site-packages/sklearn/neural_network/_multilayer_perceptron.py:546: ConvergenceWarning: lbfgs failed to converge (status=1):\n",
      "STOP: TOTAL NO. of ITERATIONS REACHED LIMIT.\n",
      "\n",
      "Increase the number of iterations (max_iter) or scale the data as shown in:\n",
      "    https://scikit-learn.org/stable/modules/preprocessing.html\n",
      "  self.n_iter_ = _check_optimize_result(\"lbfgs\", opt_res, self.max_iter)\n"
     ]
    },
    {
     "name": "stdout",
     "output_type": "stream",
     "text": [
      "[CV] END activation=identity, alpha=0.0001, early_stopping=True, learning_rate=constant, learning_rate_init=0.05, max_iter=20, n_iter_no_change=5, power_t=0.1, solver=lbfgs; total time=  48.4s\n",
      "[CV] END activation=identity, alpha=0.0001, early_stopping=True, learning_rate=constant, learning_rate_init=0.05, max_iter=20, n_iter_no_change=5, power_t=0.1, solver=sgd; total time=  27.7s\n"
     ]
    },
    {
     "name": "stderr",
     "output_type": "stream",
     "text": [
      "/Users/sebastianlopez/miniconda3/envs/maestriamatching/lib/python3.10/site-packages/sklearn/neural_network/_multilayer_perceptron.py:546: ConvergenceWarning: lbfgs failed to converge (status=1):\n",
      "STOP: TOTAL NO. of ITERATIONS REACHED LIMIT.\n",
      "\n",
      "Increase the number of iterations (max_iter) or scale the data as shown in:\n",
      "    https://scikit-learn.org/stable/modules/preprocessing.html\n",
      "  self.n_iter_ = _check_optimize_result(\"lbfgs\", opt_res, self.max_iter)\n"
     ]
    },
    {
     "name": "stdout",
     "output_type": "stream",
     "text": [
      "[CV] END activation=identity, alpha=0.0001, early_stopping=True, learning_rate=constant, learning_rate_init=0.05, max_iter=20, n_iter_no_change=5, power_t=0.1, solver=lbfgs; total time=  51.1s\n",
      "[CV] END activation=identity, alpha=0.0001, early_stopping=True, learning_rate=constant, learning_rate_init=0.05, max_iter=20, n_iter_no_change=5, power_t=0.1, solver=sgd; total time=  43.4s\n",
      "[CV] END activation=identity, alpha=0.0001, early_stopping=True, learning_rate=constant, learning_rate_init=0.05, max_iter=20, n_iter_no_change=5, power_t=0.1, solver=adam; total time=  40.5s\n"
     ]
    },
    {
     "name": "stderr",
     "output_type": "stream",
     "text": [
      "/Users/sebastianlopez/miniconda3/envs/maestriamatching/lib/python3.10/site-packages/sklearn/neural_network/_multilayer_perceptron.py:691: ConvergenceWarning: Stochastic Optimizer: Maximum iterations (20) reached and the optimization hasn't converged yet.\n",
      "  warnings.warn(\n"
     ]
    },
    {
     "name": "stdout",
     "output_type": "stream",
     "text": [
      "[CV] END activation=identity, alpha=0.0001, early_stopping=True, learning_rate=constant, learning_rate_init=0.05, max_iter=20, n_iter_no_change=5, power_t=0.1, solver=sgd; total time=  54.1s\n"
     ]
    },
    {
     "name": "stderr",
     "output_type": "stream",
     "text": [
      "/Users/sebastianlopez/miniconda3/envs/maestriamatching/lib/python3.10/site-packages/sklearn/neural_network/_multilayer_perceptron.py:546: ConvergenceWarning: lbfgs failed to converge (status=1):\n",
      "STOP: TOTAL NO. of ITERATIONS REACHED LIMIT.\n",
      "\n",
      "Increase the number of iterations (max_iter) or scale the data as shown in:\n",
      "    https://scikit-learn.org/stable/modules/preprocessing.html\n",
      "  self.n_iter_ = _check_optimize_result(\"lbfgs\", opt_res, self.max_iter)\n"
     ]
    },
    {
     "name": "stdout",
     "output_type": "stream",
     "text": [
      "[CV] END activation=identity, alpha=0.0001, early_stopping=True, learning_rate=constant, learning_rate_init=0.05, max_iter=20, n_iter_no_change=5, power_t=0.9, solver=lbfgs; total time=  46.5s\n",
      "[CV] END activation=identity, alpha=0.0001, early_stopping=True, learning_rate=constant, learning_rate_init=0.05, max_iter=20, n_iter_no_change=5, power_t=0.1, solver=adam; total time=  49.2s\n"
     ]
    },
    {
     "name": "stderr",
     "output_type": "stream",
     "text": [
      "/Users/sebastianlopez/miniconda3/envs/maestriamatching/lib/python3.10/site-packages/sklearn/neural_network/_multilayer_perceptron.py:691: ConvergenceWarning: Stochastic Optimizer: Maximum iterations (20) reached and the optimization hasn't converged yet.\n",
      "  warnings.warn(\n"
     ]
    },
    {
     "name": "stdout",
     "output_type": "stream",
     "text": [
      "[CV] END activation=identity, alpha=0.0001, early_stopping=True, learning_rate=constant, learning_rate_init=0.05, max_iter=20, n_iter_no_change=5, power_t=0.1, solver=adam; total time=  57.9s\n",
      "[CV] END activation=identity, alpha=0.0001, early_stopping=True, learning_rate=constant, learning_rate_init=0.05, max_iter=20, n_iter_no_change=5, power_t=0.9, solver=sgd; total time=  43.7s\n",
      "[CV] END activation=identity, alpha=0.0001, early_stopping=True, learning_rate=constant, learning_rate_init=0.05, max_iter=20, n_iter_no_change=5, power_t=0.9, solver=sgd; total time=  28.8s\n"
     ]
    },
    {
     "name": "stderr",
     "output_type": "stream",
     "text": [
      "/Users/sebastianlopez/miniconda3/envs/maestriamatching/lib/python3.10/site-packages/sklearn/neural_network/_multilayer_perceptron.py:546: ConvergenceWarning: lbfgs failed to converge (status=1):\n",
      "STOP: TOTAL NO. of ITERATIONS REACHED LIMIT.\n",
      "\n",
      "Increase the number of iterations (max_iter) or scale the data as shown in:\n",
      "    https://scikit-learn.org/stable/modules/preprocessing.html\n",
      "  self.n_iter_ = _check_optimize_result(\"lbfgs\", opt_res, self.max_iter)\n"
     ]
    },
    {
     "name": "stdout",
     "output_type": "stream",
     "text": [
      "[CV] END activation=identity, alpha=0.0001, early_stopping=True, learning_rate=constant, learning_rate_init=0.05, max_iter=20, n_iter_no_change=5, power_t=0.9, solver=lbfgs; total time=  56.7s\n"
     ]
    },
    {
     "name": "stderr",
     "output_type": "stream",
     "text": [
      "/Users/sebastianlopez/miniconda3/envs/maestriamatching/lib/python3.10/site-packages/sklearn/neural_network/_multilayer_perceptron.py:546: ConvergenceWarning: lbfgs failed to converge (status=1):\n",
      "STOP: TOTAL NO. of ITERATIONS REACHED LIMIT.\n",
      "\n",
      "Increase the number of iterations (max_iter) or scale the data as shown in:\n",
      "    https://scikit-learn.org/stable/modules/preprocessing.html\n",
      "  self.n_iter_ = _check_optimize_result(\"lbfgs\", opt_res, self.max_iter)\n"
     ]
    },
    {
     "name": "stdout",
     "output_type": "stream",
     "text": [
      "[CV] END activation=identity, alpha=0.0001, early_stopping=True, learning_rate=constant, learning_rate_init=0.05, max_iter=20, n_iter_no_change=5, power_t=0.9, solver=lbfgs; total time=  50.1s\n",
      "[CV] END activation=identity, alpha=0.0001, early_stopping=True, learning_rate=constant, learning_rate_init=0.05, max_iter=20, n_iter_no_change=5, power_t=0.9, solver=adam; total time=  33.5s\n"
     ]
    },
    {
     "name": "stderr",
     "output_type": "stream",
     "text": [
      "/Users/sebastianlopez/miniconda3/envs/maestriamatching/lib/python3.10/site-packages/sklearn/neural_network/_multilayer_perceptron.py:691: ConvergenceWarning: Stochastic Optimizer: Maximum iterations (20) reached and the optimization hasn't converged yet.\n",
      "  warnings.warn(\n"
     ]
    },
    {
     "name": "stdout",
     "output_type": "stream",
     "text": [
      "[CV] END activation=identity, alpha=0.0001, early_stopping=True, learning_rate=constant, learning_rate_init=0.05, max_iter=20, n_iter_no_change=5, power_t=0.9, solver=sgd; total time=  58.5s\n",
      "[CV] END activation=identity, alpha=0.0001, early_stopping=True, learning_rate=constant, learning_rate_init=0.05, max_iter=20, n_iter_no_change=5, power_t=0.9, solver=adam; total time=  59.3s\n",
      "[CV] END activation=identity, alpha=0.0001, early_stopping=True, learning_rate=constant, learning_rate_init=0.05, max_iter=20, n_iter_no_change=5, power_t=0.9, solver=adam; total time=  52.5s\n"
     ]
    },
    {
     "name": "stderr",
     "output_type": "stream",
     "text": [
      "/Users/sebastianlopez/miniconda3/envs/maestriamatching/lib/python3.10/site-packages/sklearn/neural_network/_multilayer_perceptron.py:546: ConvergenceWarning: lbfgs failed to converge (status=1):\n",
      "STOP: TOTAL NO. of ITERATIONS REACHED LIMIT.\n",
      "\n",
      "Increase the number of iterations (max_iter) or scale the data as shown in:\n",
      "    https://scikit-learn.org/stable/modules/preprocessing.html\n",
      "  self.n_iter_ = _check_optimize_result(\"lbfgs\", opt_res, self.max_iter)\n"
     ]
    },
    {
     "name": "stdout",
     "output_type": "stream",
     "text": [
      "[CV] END activation=identity, alpha=0.0001, early_stopping=True, learning_rate=constant, learning_rate_init=0.05, max_iter=20, n_iter_no_change=5, power_t=0.001, solver=lbfgs; total time=  54.3s\n",
      "[CV] END activation=identity, alpha=0.0001, early_stopping=True, learning_rate=constant, learning_rate_init=0.05, max_iter=20, n_iter_no_change=5, power_t=0.001, solver=sgd; total time=  41.6s\n"
     ]
    },
    {
     "name": "stderr",
     "output_type": "stream",
     "text": [
      "/Users/sebastianlopez/miniconda3/envs/maestriamatching/lib/python3.10/site-packages/sklearn/neural_network/_multilayer_perceptron.py:546: ConvergenceWarning: lbfgs failed to converge (status=1):\n",
      "STOP: TOTAL NO. of ITERATIONS REACHED LIMIT.\n",
      "\n",
      "Increase the number of iterations (max_iter) or scale the data as shown in:\n",
      "    https://scikit-learn.org/stable/modules/preprocessing.html\n",
      "  self.n_iter_ = _check_optimize_result(\"lbfgs\", opt_res, self.max_iter)\n"
     ]
    },
    {
     "name": "stdout",
     "output_type": "stream",
     "text": [
      "[CV] END activation=identity, alpha=0.0001, early_stopping=True, learning_rate=constant, learning_rate_init=0.05, max_iter=20, n_iter_no_change=5, power_t=0.001, solver=adam; total time=  42.1s\n",
      "[CV] END activation=identity, alpha=0.0001, early_stopping=True, learning_rate=constant, learning_rate_init=0.05, max_iter=20, n_iter_no_change=5, power_t=0.001, solver=adam; total time=  31.5s\n",
      "[CV] END activation=identity, alpha=0.0001, early_stopping=True, learning_rate=constant, learning_rate_init=0.05, max_iter=20, n_iter_no_change=5, power_t=0.001, solver=lbfgs; total time=  58.6s\n"
     ]
    },
    {
     "name": "stderr",
     "output_type": "stream",
     "text": [
      "/Users/sebastianlopez/miniconda3/envs/maestriamatching/lib/python3.10/site-packages/sklearn/neural_network/_multilayer_perceptron.py:546: ConvergenceWarning: lbfgs failed to converge (status=1):\n",
      "STOP: TOTAL NO. of ITERATIONS REACHED LIMIT.\n",
      "\n",
      "Increase the number of iterations (max_iter) or scale the data as shown in:\n",
      "    https://scikit-learn.org/stable/modules/preprocessing.html\n",
      "  self.n_iter_ = _check_optimize_result(\"lbfgs\", opt_res, self.max_iter)\n"
     ]
    },
    {
     "name": "stdout",
     "output_type": "stream",
     "text": [
      "[CV] END activation=identity, alpha=0.0001, early_stopping=True, learning_rate=constant, learning_rate_init=0.05, max_iter=20, n_iter_no_change=5, power_t=0.001, solver=lbfgs; total time=  56.3s\n"
     ]
    },
    {
     "name": "stderr",
     "output_type": "stream",
     "text": [
      "/Users/sebastianlopez/miniconda3/envs/maestriamatching/lib/python3.10/site-packages/sklearn/neural_network/_multilayer_perceptron.py:691: ConvergenceWarning: Stochastic Optimizer: Maximum iterations (20) reached and the optimization hasn't converged yet.\n",
      "  warnings.warn(\n"
     ]
    },
    {
     "name": "stdout",
     "output_type": "stream",
     "text": [
      "[CV] END activation=identity, alpha=0.0001, early_stopping=True, learning_rate=constant, learning_rate_init=0.05, max_iter=20, n_iter_no_change=5, power_t=0.001, solver=sgd; total time=  58.6s\n"
     ]
    },
    {
     "name": "stderr",
     "output_type": "stream",
     "text": [
      "/Users/sebastianlopez/miniconda3/envs/maestriamatching/lib/python3.10/site-packages/sklearn/neural_network/_multilayer_perceptron.py:691: ConvergenceWarning: Stochastic Optimizer: Maximum iterations (20) reached and the optimization hasn't converged yet.\n",
      "  warnings.warn(\n"
     ]
    },
    {
     "name": "stdout",
     "output_type": "stream",
     "text": [
      "[CV] END activation=identity, alpha=0.0001, early_stopping=True, learning_rate=constant, learning_rate_init=0.05, max_iter=20, n_iter_no_change=5, power_t=0.001, solver=sgd; total time=  58.0s\n",
      "[CV] END activation=identity, alpha=0.0001, early_stopping=True, learning_rate=constant, learning_rate_init=0.05, max_iter=20, n_iter_no_change=5, power_t=0.001, solver=adam; total time= 1.0min\n",
      "[CV] END activation=identity, alpha=0.0001, early_stopping=True, learning_rate=constant, learning_rate_init=0.05, max_iter=20, n_iter_no_change=5, power_t=0.005, solver=sgd; total time=  41.2s\n"
     ]
    },
    {
     "name": "stderr",
     "output_type": "stream",
     "text": [
      "/Users/sebastianlopez/miniconda3/envs/maestriamatching/lib/python3.10/site-packages/sklearn/neural_network/_multilayer_perceptron.py:546: ConvergenceWarning: lbfgs failed to converge (status=1):\n",
      "STOP: TOTAL NO. of ITERATIONS REACHED LIMIT.\n",
      "\n",
      "Increase the number of iterations (max_iter) or scale the data as shown in:\n",
      "    https://scikit-learn.org/stable/modules/preprocessing.html\n",
      "  self.n_iter_ = _check_optimize_result(\"lbfgs\", opt_res, self.max_iter)\n"
     ]
    },
    {
     "name": "stdout",
     "output_type": "stream",
     "text": [
      "[CV] END activation=identity, alpha=0.0001, early_stopping=True, learning_rate=constant, learning_rate_init=0.05, max_iter=20, n_iter_no_change=5, power_t=0.005, solver=lbfgs; total time=  53.6s\n"
     ]
    },
    {
     "name": "stderr",
     "output_type": "stream",
     "text": [
      "/Users/sebastianlopez/miniconda3/envs/maestriamatching/lib/python3.10/site-packages/sklearn/neural_network/_multilayer_perceptron.py:546: ConvergenceWarning: lbfgs failed to converge (status=1):\n",
      "STOP: TOTAL NO. of ITERATIONS REACHED LIMIT.\n",
      "\n",
      "Increase the number of iterations (max_iter) or scale the data as shown in:\n",
      "    https://scikit-learn.org/stable/modules/preprocessing.html\n",
      "  self.n_iter_ = _check_optimize_result(\"lbfgs\", opt_res, self.max_iter)\n"
     ]
    },
    {
     "name": "stdout",
     "output_type": "stream",
     "text": [
      "[CV] END activation=identity, alpha=0.0001, early_stopping=True, learning_rate=constant, learning_rate_init=0.05, max_iter=20, n_iter_no_change=5, power_t=0.005, solver=lbfgs; total time=  50.9s\n",
      "[CV] END activation=identity, alpha=0.0001, early_stopping=True, learning_rate=constant, learning_rate_init=0.05, max_iter=20, n_iter_no_change=5, power_t=0.005, solver=sgd; total time=  51.3s\n"
     ]
    },
    {
     "name": "stderr",
     "output_type": "stream",
     "text": [
      "/Users/sebastianlopez/miniconda3/envs/maestriamatching/lib/python3.10/site-packages/sklearn/neural_network/_multilayer_perceptron.py:546: ConvergenceWarning: lbfgs failed to converge (status=1):\n",
      "STOP: TOTAL NO. of ITERATIONS REACHED LIMIT.\n",
      "\n",
      "Increase the number of iterations (max_iter) or scale the data as shown in:\n",
      "    https://scikit-learn.org/stable/modules/preprocessing.html\n",
      "  self.n_iter_ = _check_optimize_result(\"lbfgs\", opt_res, self.max_iter)\n"
     ]
    },
    {
     "name": "stdout",
     "output_type": "stream",
     "text": [
      "[CV] END activation=identity, alpha=0.0001, early_stopping=True, learning_rate=constant, learning_rate_init=0.05, max_iter=20, n_iter_no_change=5, power_t=0.005, solver=lbfgs; total time= 1.1min\n",
      "[CV] END activation=identity, alpha=0.0001, early_stopping=True, learning_rate=constant, learning_rate_init=0.05, max_iter=20, n_iter_no_change=5, power_t=0.005, solver=adam; total time=  49.9s\n"
     ]
    },
    {
     "name": "stderr",
     "output_type": "stream",
     "text": [
      "/Users/sebastianlopez/miniconda3/envs/maestriamatching/lib/python3.10/site-packages/sklearn/neural_network/_multilayer_perceptron.py:691: ConvergenceWarning: Stochastic Optimizer: Maximum iterations (20) reached and the optimization hasn't converged yet.\n",
      "  warnings.warn(\n"
     ]
    },
    {
     "name": "stdout",
     "output_type": "stream",
     "text": [
      "[CV] END activation=identity, alpha=0.0001, early_stopping=True, learning_rate=constant, learning_rate_init=0.05, max_iter=20, n_iter_no_change=5, power_t=0.005, solver=sgd; total time=  54.1s\n"
     ]
    },
    {
     "name": "stderr",
     "output_type": "stream",
     "text": [
      "/Users/sebastianlopez/miniconda3/envs/maestriamatching/lib/python3.10/site-packages/sklearn/neural_network/_multilayer_perceptron.py:691: ConvergenceWarning: Stochastic Optimizer: Maximum iterations (20) reached and the optimization hasn't converged yet.\n",
      "  warnings.warn(\n"
     ]
    },
    {
     "name": "stdout",
     "output_type": "stream",
     "text": [
      "[CV] END activation=identity, alpha=0.0001, early_stopping=True, learning_rate=constant, learning_rate_init=0.05, max_iter=20, n_iter_no_change=5, power_t=0.005, solver=adam; total time=  58.3s\n",
      "[CV] END activation=identity, alpha=0.0001, early_stopping=True, learning_rate=constant, learning_rate_init=0.05, max_iter=20, n_iter_no_change=5, power_t=0.005, solver=adam; total time=  49.9s\n",
      "[CV] END activation=identity, alpha=0.0001, early_stopping=True, learning_rate=constant, learning_rate_init=0.05, max_iter=50, n_iter_no_change=5, power_t=0.5, solver=sgd; total time=  30.1s\n",
      "[CV] END activation=identity, alpha=0.0001, early_stopping=True, learning_rate=constant, learning_rate_init=0.05, max_iter=50, n_iter_no_change=5, power_t=0.5, solver=adam; total time=  44.0s\n",
      "[CV] END activation=identity, alpha=0.0001, early_stopping=True, learning_rate=constant, learning_rate_init=0.05, max_iter=50, n_iter_no_change=5, power_t=0.5, solver=adam; total time=  43.7s\n",
      "[CV] END activation=identity, alpha=0.0001, early_stopping=True, learning_rate=constant, learning_rate_init=0.05, max_iter=50, n_iter_no_change=5, power_t=0.5, solver=sgd; total time= 1.0min\n",
      "[CV] END activation=identity, alpha=0.0001, early_stopping=True, learning_rate=constant, learning_rate_init=0.05, max_iter=50, n_iter_no_change=5, power_t=0.5, solver=adam; total time=  54.6s\n",
      "[CV] END activation=identity, alpha=0.0001, early_stopping=True, learning_rate=constant, learning_rate_init=0.05, max_iter=50, n_iter_no_change=5, power_t=0.1, solver=sgd; total time=  24.1s\n"
     ]
    },
    {
     "name": "stderr",
     "output_type": "stream",
     "text": [
      "/Users/sebastianlopez/miniconda3/envs/maestriamatching/lib/python3.10/site-packages/sklearn/neural_network/_multilayer_perceptron.py:546: ConvergenceWarning: lbfgs failed to converge (status=1):\n",
      "STOP: TOTAL NO. of ITERATIONS REACHED LIMIT.\n",
      "\n",
      "Increase the number of iterations (max_iter) or scale the data as shown in:\n",
      "    https://scikit-learn.org/stable/modules/preprocessing.html\n",
      "  self.n_iter_ = _check_optimize_result(\"lbfgs\", opt_res, self.max_iter)\n"
     ]
    },
    {
     "name": "stdout",
     "output_type": "stream",
     "text": [
      "[CV] END activation=identity, alpha=0.0001, early_stopping=True, learning_rate=constant, learning_rate_init=0.05, max_iter=50, n_iter_no_change=5, power_t=0.5, solver=sgd; total time= 1.3min\n",
      "[CV] END activation=identity, alpha=0.0001, early_stopping=True, learning_rate=constant, learning_rate_init=0.05, max_iter=50, n_iter_no_change=5, power_t=0.5, solver=lbfgs; total time= 2.0min\n",
      "[CV] END activation=identity, alpha=0.0001, early_stopping=True, learning_rate=constant, learning_rate_init=0.05, max_iter=50, n_iter_no_change=5, power_t=0.1, solver=sgd; total time=  27.2s\n",
      "[CV] END activation=identity, alpha=0.0001, early_stopping=True, learning_rate=constant, learning_rate_init=0.05, max_iter=50, n_iter_no_change=5, power_t=0.1, solver=sgd; total time= 1.1min\n"
     ]
    },
    {
     "name": "stderr",
     "output_type": "stream",
     "text": [
      "/Users/sebastianlopez/miniconda3/envs/maestriamatching/lib/python3.10/site-packages/sklearn/neural_network/_multilayer_perceptron.py:546: ConvergenceWarning: lbfgs failed to converge (status=1):\n",
      "STOP: TOTAL NO. of ITERATIONS REACHED LIMIT.\n",
      "\n",
      "Increase the number of iterations (max_iter) or scale the data as shown in:\n",
      "    https://scikit-learn.org/stable/modules/preprocessing.html\n",
      "  self.n_iter_ = _check_optimize_result(\"lbfgs\", opt_res, self.max_iter)\n",
      "/Users/sebastianlopez/miniconda3/envs/maestriamatching/lib/python3.10/site-packages/sklearn/neural_network/_multilayer_perceptron.py:546: ConvergenceWarning: lbfgs failed to converge (status=1):\n",
      "STOP: TOTAL NO. of ITERATIONS REACHED LIMIT.\n",
      "\n",
      "Increase the number of iterations (max_iter) or scale the data as shown in:\n",
      "    https://scikit-learn.org/stable/modules/preprocessing.html\n",
      "  self.n_iter_ = _check_optimize_result(\"lbfgs\", opt_res, self.max_iter)\n"
     ]
    },
    {
     "name": "stdout",
     "output_type": "stream",
     "text": [
      "[CV] END activation=identity, alpha=0.0001, early_stopping=True, learning_rate=constant, learning_rate_init=0.05, max_iter=50, n_iter_no_change=5, power_t=0.1, solver=adam; total time=  43.1s\n",
      "[CV] END activation=identity, alpha=0.0001, early_stopping=True, learning_rate=constant, learning_rate_init=0.05, max_iter=50, n_iter_no_change=5, power_t=0.5, solver=lbfgs; total time= 2.2min\n",
      "[CV] END activation=identity, alpha=0.0001, early_stopping=True, learning_rate=constant, learning_rate_init=0.05, max_iter=50, n_iter_no_change=5, power_t=0.5, solver=lbfgs; total time= 2.1min\n",
      "[CV] END activation=identity, alpha=0.0001, early_stopping=True, learning_rate=constant, learning_rate_init=0.05, max_iter=50, n_iter_no_change=5, power_t=0.1, solver=adam; total time= 1.1min\n"
     ]
    },
    {
     "name": "stderr",
     "output_type": "stream",
     "text": [
      "/Users/sebastianlopez/miniconda3/envs/maestriamatching/lib/python3.10/site-packages/sklearn/neural_network/_multilayer_perceptron.py:546: ConvergenceWarning: lbfgs failed to converge (status=1):\n",
      "STOP: TOTAL NO. of ITERATIONS REACHED LIMIT.\n",
      "\n",
      "Increase the number of iterations (max_iter) or scale the data as shown in:\n",
      "    https://scikit-learn.org/stable/modules/preprocessing.html\n",
      "  self.n_iter_ = _check_optimize_result(\"lbfgs\", opt_res, self.max_iter)\n"
     ]
    },
    {
     "name": "stdout",
     "output_type": "stream",
     "text": [
      "[CV] END activation=identity, alpha=0.0001, early_stopping=True, learning_rate=constant, learning_rate_init=0.05, max_iter=50, n_iter_no_change=5, power_t=0.1, solver=lbfgs; total time= 1.9min\n"
     ]
    },
    {
     "name": "stderr",
     "output_type": "stream",
     "text": [
      "/Users/sebastianlopez/miniconda3/envs/maestriamatching/lib/python3.10/site-packages/sklearn/neural_network/_multilayer_perceptron.py:546: ConvergenceWarning: lbfgs failed to converge (status=1):\n",
      "STOP: TOTAL NO. of ITERATIONS REACHED LIMIT.\n",
      "\n",
      "Increase the number of iterations (max_iter) or scale the data as shown in:\n",
      "    https://scikit-learn.org/stable/modules/preprocessing.html\n",
      "  self.n_iter_ = _check_optimize_result(\"lbfgs\", opt_res, self.max_iter)\n"
     ]
    },
    {
     "name": "stdout",
     "output_type": "stream",
     "text": [
      "[CV] END activation=identity, alpha=0.0001, early_stopping=True, learning_rate=constant, learning_rate_init=0.05, max_iter=50, n_iter_no_change=5, power_t=0.1, solver=lbfgs; total time= 2.0min\n",
      "[CV] END activation=identity, alpha=0.0001, early_stopping=True, learning_rate=constant, learning_rate_init=0.05, max_iter=50, n_iter_no_change=5, power_t=0.1, solver=adam; total time=  54.3s\n",
      "[CV] END activation=identity, alpha=0.0001, early_stopping=True, learning_rate=constant, learning_rate_init=0.05, max_iter=50, n_iter_no_change=5, power_t=0.9, solver=sgd; total time=  21.9s\n",
      "[CV] END activation=identity, alpha=0.0001, early_stopping=True, learning_rate=constant, learning_rate_init=0.05, max_iter=50, n_iter_no_change=5, power_t=0.9, solver=sgd; total time=  24.2s\n",
      "[CV] END activation=identity, alpha=0.0001, early_stopping=True, learning_rate=constant, learning_rate_init=0.05, max_iter=50, n_iter_no_change=5, power_t=0.9, solver=sgd; total time=  38.1s\n"
     ]
    },
    {
     "name": "stderr",
     "output_type": "stream",
     "text": [
      "/Users/sebastianlopez/miniconda3/envs/maestriamatching/lib/python3.10/site-packages/sklearn/neural_network/_multilayer_perceptron.py:546: ConvergenceWarning: lbfgs failed to converge (status=1):\n",
      "STOP: TOTAL NO. of ITERATIONS REACHED LIMIT.\n",
      "\n",
      "Increase the number of iterations (max_iter) or scale the data as shown in:\n",
      "    https://scikit-learn.org/stable/modules/preprocessing.html\n",
      "  self.n_iter_ = _check_optimize_result(\"lbfgs\", opt_res, self.max_iter)\n"
     ]
    },
    {
     "name": "stdout",
     "output_type": "stream",
     "text": [
      "[CV] END activation=identity, alpha=0.0001, early_stopping=True, learning_rate=constant, learning_rate_init=0.05, max_iter=50, n_iter_no_change=5, power_t=0.1, solver=lbfgs; total time= 2.1min\n",
      "[CV] END activation=identity, alpha=0.0001, early_stopping=True, learning_rate=constant, learning_rate_init=0.05, max_iter=50, n_iter_no_change=5, power_t=0.9, solver=adam; total time=  34.8s\n",
      "[CV] END activation=identity, alpha=0.0001, early_stopping=True, learning_rate=constant, learning_rate_init=0.05, max_iter=50, n_iter_no_change=5, power_t=0.9, solver=adam; total time=  42.8s\n",
      "[CV] END activation=identity, alpha=0.0001, early_stopping=True, learning_rate=constant, learning_rate_init=0.05, max_iter=50, n_iter_no_change=5, power_t=0.9, solver=adam; total time=  52.0s\n",
      "[CV] END activation=identity, alpha=0.0001, early_stopping=True, learning_rate=constant, learning_rate_init=0.05, max_iter=50, n_iter_no_change=5, power_t=0.001, solver=sgd; total time=  29.0s\n"
     ]
    },
    {
     "name": "stderr",
     "output_type": "stream",
     "text": [
      "/Users/sebastianlopez/miniconda3/envs/maestriamatching/lib/python3.10/site-packages/sklearn/neural_network/_multilayer_perceptron.py:546: ConvergenceWarning: lbfgs failed to converge (status=1):\n",
      "STOP: TOTAL NO. of ITERATIONS REACHED LIMIT.\n",
      "\n",
      "Increase the number of iterations (max_iter) or scale the data as shown in:\n",
      "    https://scikit-learn.org/stable/modules/preprocessing.html\n",
      "  self.n_iter_ = _check_optimize_result(\"lbfgs\", opt_res, self.max_iter)\n"
     ]
    },
    {
     "name": "stdout",
     "output_type": "stream",
     "text": [
      "[CV] END activation=identity, alpha=0.0001, early_stopping=True, learning_rate=constant, learning_rate_init=0.05, max_iter=50, n_iter_no_change=5, power_t=0.9, solver=lbfgs; total time= 1.9min\n",
      "[CV] END activation=identity, alpha=0.0001, early_stopping=True, learning_rate=constant, learning_rate_init=0.05, max_iter=50, n_iter_no_change=5, power_t=0.001, solver=sgd; total time=  44.5s\n"
     ]
    },
    {
     "name": "stderr",
     "output_type": "stream",
     "text": [
      "/Users/sebastianlopez/miniconda3/envs/maestriamatching/lib/python3.10/site-packages/sklearn/neural_network/_multilayer_perceptron.py:546: ConvergenceWarning: lbfgs failed to converge (status=1):\n",
      "STOP: TOTAL NO. of ITERATIONS REACHED LIMIT.\n",
      "\n",
      "Increase the number of iterations (max_iter) or scale the data as shown in:\n",
      "    https://scikit-learn.org/stable/modules/preprocessing.html\n",
      "  self.n_iter_ = _check_optimize_result(\"lbfgs\", opt_res, self.max_iter)\n"
     ]
    },
    {
     "name": "stdout",
     "output_type": "stream",
     "text": [
      "[CV] END activation=identity, alpha=0.0001, early_stopping=True, learning_rate=constant, learning_rate_init=0.05, max_iter=50, n_iter_no_change=5, power_t=0.9, solver=lbfgs; total time= 2.1min\n",
      "[CV] END activation=identity, alpha=0.0001, early_stopping=True, learning_rate=constant, learning_rate_init=0.05, max_iter=50, n_iter_no_change=5, power_t=0.001, solver=adam; total time=  55.1s\n"
     ]
    },
    {
     "name": "stderr",
     "output_type": "stream",
     "text": [
      "/Users/sebastianlopez/miniconda3/envs/maestriamatching/lib/python3.10/site-packages/sklearn/neural_network/_multilayer_perceptron.py:546: ConvergenceWarning: lbfgs failed to converge (status=1):\n",
      "STOP: TOTAL NO. of ITERATIONS REACHED LIMIT.\n",
      "\n",
      "Increase the number of iterations (max_iter) or scale the data as shown in:\n",
      "    https://scikit-learn.org/stable/modules/preprocessing.html\n",
      "  self.n_iter_ = _check_optimize_result(\"lbfgs\", opt_res, self.max_iter)\n"
     ]
    },
    {
     "name": "stdout",
     "output_type": "stream",
     "text": [
      "[CV] END activation=identity, alpha=0.0001, early_stopping=True, learning_rate=constant, learning_rate_init=0.05, max_iter=50, n_iter_no_change=5, power_t=0.9, solver=lbfgs; total time= 1.9min\n",
      "[CV] END activation=identity, alpha=0.0001, early_stopping=True, learning_rate=constant, learning_rate_init=0.05, max_iter=50, n_iter_no_change=5, power_t=0.001, solver=adam; total time=  52.0s\n",
      "[CV] END activation=identity, alpha=0.0001, early_stopping=True, learning_rate=constant, learning_rate_init=0.05, max_iter=50, n_iter_no_change=5, power_t=0.001, solver=sgd; total time= 1.5min\n"
     ]
    },
    {
     "name": "stderr",
     "output_type": "stream",
     "text": [
      "/Users/sebastianlopez/miniconda3/envs/maestriamatching/lib/python3.10/site-packages/sklearn/neural_network/_multilayer_perceptron.py:546: ConvergenceWarning: lbfgs failed to converge (status=1):\n",
      "STOP: TOTAL NO. of ITERATIONS REACHED LIMIT.\n",
      "\n",
      "Increase the number of iterations (max_iter) or scale the data as shown in:\n",
      "    https://scikit-learn.org/stable/modules/preprocessing.html\n",
      "  self.n_iter_ = _check_optimize_result(\"lbfgs\", opt_res, self.max_iter)\n"
     ]
    },
    {
     "name": "stdout",
     "output_type": "stream",
     "text": [
      "[CV] END activation=identity, alpha=0.0001, early_stopping=True, learning_rate=constant, learning_rate_init=0.05, max_iter=50, n_iter_no_change=5, power_t=0.001, solver=lbfgs; total time= 1.9min\n",
      "[CV] END activation=identity, alpha=0.0001, early_stopping=True, learning_rate=constant, learning_rate_init=0.05, max_iter=50, n_iter_no_change=5, power_t=0.001, solver=adam; total time= 1.3min\n"
     ]
    },
    {
     "name": "stderr",
     "output_type": "stream",
     "text": [
      "/Users/sebastianlopez/miniconda3/envs/maestriamatching/lib/python3.10/site-packages/sklearn/neural_network/_multilayer_perceptron.py:546: ConvergenceWarning: lbfgs failed to converge (status=1):\n",
      "STOP: TOTAL NO. of ITERATIONS REACHED LIMIT.\n",
      "\n",
      "Increase the number of iterations (max_iter) or scale the data as shown in:\n",
      "    https://scikit-learn.org/stable/modules/preprocessing.html\n",
      "  self.n_iter_ = _check_optimize_result(\"lbfgs\", opt_res, self.max_iter)\n"
     ]
    },
    {
     "name": "stdout",
     "output_type": "stream",
     "text": [
      "[CV] END activation=identity, alpha=0.0001, early_stopping=True, learning_rate=constant, learning_rate_init=0.05, max_iter=50, n_iter_no_change=5, power_t=0.001, solver=lbfgs; total time= 2.0min\n"
     ]
    },
    {
     "name": "stderr",
     "output_type": "stream",
     "text": [
      "/Users/sebastianlopez/miniconda3/envs/maestriamatching/lib/python3.10/site-packages/sklearn/neural_network/_multilayer_perceptron.py:546: ConvergenceWarning: lbfgs failed to converge (status=1):\n",
      "STOP: TOTAL NO. of ITERATIONS REACHED LIMIT.\n",
      "\n",
      "Increase the number of iterations (max_iter) or scale the data as shown in:\n",
      "    https://scikit-learn.org/stable/modules/preprocessing.html\n",
      "  self.n_iter_ = _check_optimize_result(\"lbfgs\", opt_res, self.max_iter)\n"
     ]
    },
    {
     "name": "stdout",
     "output_type": "stream",
     "text": [
      "[CV] END activation=identity, alpha=0.0001, early_stopping=True, learning_rate=constant, learning_rate_init=0.05, max_iter=50, n_iter_no_change=5, power_t=0.001, solver=lbfgs; total time= 2.0min\n",
      "[CV] END activation=identity, alpha=0.0001, early_stopping=True, learning_rate=constant, learning_rate_init=0.05, max_iter=50, n_iter_no_change=5, power_t=0.005, solver=sgd; total time=  29.6s\n"
     ]
    },
    {
     "name": "stderr",
     "output_type": "stream",
     "text": [
      "/Users/sebastianlopez/miniconda3/envs/maestriamatching/lib/python3.10/site-packages/sklearn/neural_network/_multilayer_perceptron.py:546: ConvergenceWarning: lbfgs failed to converge (status=1):\n",
      "STOP: TOTAL NO. of ITERATIONS REACHED LIMIT.\n",
      "\n",
      "Increase the number of iterations (max_iter) or scale the data as shown in:\n",
      "    https://scikit-learn.org/stable/modules/preprocessing.html\n",
      "  self.n_iter_ = _check_optimize_result(\"lbfgs\", opt_res, self.max_iter)\n"
     ]
    },
    {
     "name": "stdout",
     "output_type": "stream",
     "text": [
      "[CV] END activation=identity, alpha=0.0001, early_stopping=True, learning_rate=constant, learning_rate_init=0.1, max_iter=5, n_iter_no_change=5, power_t=0.5, solver=lbfgs; total time=  17.6s\n"
     ]
    },
    {
     "name": "stderr",
     "output_type": "stream",
     "text": [
      "/Users/sebastianlopez/miniconda3/envs/maestriamatching/lib/python3.10/site-packages/sklearn/neural_network/_multilayer_perceptron.py:546: ConvergenceWarning: lbfgs failed to converge (status=1):\n",
      "STOP: TOTAL NO. of ITERATIONS REACHED LIMIT.\n",
      "\n",
      "Increase the number of iterations (max_iter) or scale the data as shown in:\n",
      "    https://scikit-learn.org/stable/modules/preprocessing.html\n",
      "  self.n_iter_ = _check_optimize_result(\"lbfgs\", opt_res, self.max_iter)\n"
     ]
    },
    {
     "name": "stdout",
     "output_type": "stream",
     "text": [
      "[CV] END activation=identity, alpha=0.0001, early_stopping=True, learning_rate=constant, learning_rate_init=0.1, max_iter=5, n_iter_no_change=5, power_t=0.5, solver=lbfgs; total time=  13.1s\n"
     ]
    },
    {
     "name": "stderr",
     "output_type": "stream",
     "text": [
      "/Users/sebastianlopez/miniconda3/envs/maestriamatching/lib/python3.10/site-packages/sklearn/neural_network/_multilayer_perceptron.py:546: ConvergenceWarning: lbfgs failed to converge (status=1):\n",
      "STOP: TOTAL NO. of ITERATIONS REACHED LIMIT.\n",
      "\n",
      "Increase the number of iterations (max_iter) or scale the data as shown in:\n",
      "    https://scikit-learn.org/stable/modules/preprocessing.html\n",
      "  self.n_iter_ = _check_optimize_result(\"lbfgs\", opt_res, self.max_iter)\n"
     ]
    },
    {
     "name": "stdout",
     "output_type": "stream",
     "text": [
      "[CV] END activation=identity, alpha=0.0001, early_stopping=True, learning_rate=constant, learning_rate_init=0.1, max_iter=5, n_iter_no_change=5, power_t=0.5, solver=lbfgs; total time=  25.6s\n"
     ]
    },
    {
     "name": "stderr",
     "output_type": "stream",
     "text": [
      "/Users/sebastianlopez/miniconda3/envs/maestriamatching/lib/python3.10/site-packages/sklearn/neural_network/_multilayer_perceptron.py:691: ConvergenceWarning: Stochastic Optimizer: Maximum iterations (5) reached and the optimization hasn't converged yet.\n",
      "  warnings.warn(\n"
     ]
    },
    {
     "name": "stdout",
     "output_type": "stream",
     "text": [
      "[CV] END activation=identity, alpha=0.0001, early_stopping=True, learning_rate=constant, learning_rate_init=0.1, max_iter=5, n_iter_no_change=5, power_t=0.5, solver=sgd; total time=  14.6s\n"
     ]
    },
    {
     "name": "stderr",
     "output_type": "stream",
     "text": [
      "/Users/sebastianlopez/miniconda3/envs/maestriamatching/lib/python3.10/site-packages/sklearn/neural_network/_multilayer_perceptron.py:691: ConvergenceWarning: Stochastic Optimizer: Maximum iterations (5) reached and the optimization hasn't converged yet.\n",
      "  warnings.warn(\n"
     ]
    },
    {
     "name": "stdout",
     "output_type": "stream",
     "text": [
      "[CV] END activation=identity, alpha=0.0001, early_stopping=True, learning_rate=constant, learning_rate_init=0.1, max_iter=5, n_iter_no_change=5, power_t=0.5, solver=sgd; total time=  14.7s\n"
     ]
    },
    {
     "name": "stderr",
     "output_type": "stream",
     "text": [
      "/Users/sebastianlopez/miniconda3/envs/maestriamatching/lib/python3.10/site-packages/sklearn/neural_network/_multilayer_perceptron.py:691: ConvergenceWarning: Stochastic Optimizer: Maximum iterations (5) reached and the optimization hasn't converged yet.\n",
      "  warnings.warn(\n"
     ]
    },
    {
     "name": "stdout",
     "output_type": "stream",
     "text": [
      "[CV] END activation=identity, alpha=0.0001, early_stopping=True, learning_rate=constant, learning_rate_init=0.1, max_iter=5, n_iter_no_change=5, power_t=0.5, solver=sgd; total time=  14.7s\n"
     ]
    },
    {
     "name": "stderr",
     "output_type": "stream",
     "text": [
      "/Users/sebastianlopez/miniconda3/envs/maestriamatching/lib/python3.10/site-packages/sklearn/neural_network/_multilayer_perceptron.py:691: ConvergenceWarning: Stochastic Optimizer: Maximum iterations (5) reached and the optimization hasn't converged yet.\n",
      "  warnings.warn(\n"
     ]
    },
    {
     "name": "stdout",
     "output_type": "stream",
     "text": [
      "[CV] END activation=identity, alpha=0.0001, early_stopping=True, learning_rate=constant, learning_rate_init=0.1, max_iter=5, n_iter_no_change=5, power_t=0.5, solver=adam; total time=  16.3s\n"
     ]
    },
    {
     "name": "stderr",
     "output_type": "stream",
     "text": [
      "/Users/sebastianlopez/miniconda3/envs/maestriamatching/lib/python3.10/site-packages/sklearn/neural_network/_multilayer_perceptron.py:691: ConvergenceWarning: Stochastic Optimizer: Maximum iterations (5) reached and the optimization hasn't converged yet.\n",
      "  warnings.warn(\n"
     ]
    },
    {
     "name": "stdout",
     "output_type": "stream",
     "text": [
      "[CV] END activation=identity, alpha=0.0001, early_stopping=True, learning_rate=constant, learning_rate_init=0.1, max_iter=5, n_iter_no_change=5, power_t=0.5, solver=adam; total time=  16.1s\n",
      "[CV] END activation=identity, alpha=0.0001, early_stopping=True, learning_rate=constant, learning_rate_init=0.05, max_iter=50, n_iter_no_change=5, power_t=0.005, solver=adam; total time=  57.3s\n",
      "[CV] END activation=identity, alpha=0.0001, early_stopping=True, learning_rate=constant, learning_rate_init=0.05, max_iter=50, n_iter_no_change=5, power_t=0.005, solver=sgd; total time= 1.3min\n",
      "[CV] END activation=identity, alpha=0.0001, early_stopping=True, learning_rate=constant, learning_rate_init=0.05, max_iter=50, n_iter_no_change=5, power_t=0.005, solver=adam; total time= 1.0min\n"
     ]
    },
    {
     "name": "stderr",
     "output_type": "stream",
     "text": [
      "/Users/sebastianlopez/miniconda3/envs/maestriamatching/lib/python3.10/site-packages/sklearn/neural_network/_multilayer_perceptron.py:546: ConvergenceWarning: lbfgs failed to converge (status=1):\n",
      "STOP: TOTAL NO. of ITERATIONS REACHED LIMIT.\n",
      "\n",
      "Increase the number of iterations (max_iter) or scale the data as shown in:\n",
      "    https://scikit-learn.org/stable/modules/preprocessing.html\n",
      "  self.n_iter_ = _check_optimize_result(\"lbfgs\", opt_res, self.max_iter)\n"
     ]
    },
    {
     "name": "stdout",
     "output_type": "stream",
     "text": [
      "[CV] END activation=identity, alpha=0.0001, early_stopping=True, learning_rate=constant, learning_rate_init=0.05, max_iter=50, n_iter_no_change=5, power_t=0.005, solver=lbfgs; total time= 2.0min\n"
     ]
    },
    {
     "name": "stderr",
     "output_type": "stream",
     "text": [
      "/Users/sebastianlopez/miniconda3/envs/maestriamatching/lib/python3.10/site-packages/sklearn/neural_network/_multilayer_perceptron.py:691: ConvergenceWarning: Stochastic Optimizer: Maximum iterations (5) reached and the optimization hasn't converged yet.\n",
      "  warnings.warn(\n"
     ]
    },
    {
     "name": "stdout",
     "output_type": "stream",
     "text": [
      "[CV] END activation=identity, alpha=0.0001, early_stopping=True, learning_rate=constant, learning_rate_init=0.1, max_iter=5, n_iter_no_change=5, power_t=0.5, solver=adam; total time=  15.7s\n"
     ]
    },
    {
     "name": "stderr",
     "output_type": "stream",
     "text": [
      "/Users/sebastianlopez/miniconda3/envs/maestriamatching/lib/python3.10/site-packages/sklearn/neural_network/_multilayer_perceptron.py:546: ConvergenceWarning: lbfgs failed to converge (status=1):\n",
      "STOP: TOTAL NO. of ITERATIONS REACHED LIMIT.\n",
      "\n",
      "Increase the number of iterations (max_iter) or scale the data as shown in:\n",
      "    https://scikit-learn.org/stable/modules/preprocessing.html\n",
      "  self.n_iter_ = _check_optimize_result(\"lbfgs\", opt_res, self.max_iter)\n"
     ]
    },
    {
     "name": "stdout",
     "output_type": "stream",
     "text": [
      "[CV] END activation=identity, alpha=0.0001, early_stopping=True, learning_rate=constant, learning_rate_init=0.1, max_iter=5, n_iter_no_change=5, power_t=0.1, solver=lbfgs; total time=  15.9s\n"
     ]
    },
    {
     "name": "stderr",
     "output_type": "stream",
     "text": [
      "/Users/sebastianlopez/miniconda3/envs/maestriamatching/lib/python3.10/site-packages/sklearn/neural_network/_multilayer_perceptron.py:546: ConvergenceWarning: lbfgs failed to converge (status=1):\n",
      "STOP: TOTAL NO. of ITERATIONS REACHED LIMIT.\n",
      "\n",
      "Increase the number of iterations (max_iter) or scale the data as shown in:\n",
      "    https://scikit-learn.org/stable/modules/preprocessing.html\n",
      "  self.n_iter_ = _check_optimize_result(\"lbfgs\", opt_res, self.max_iter)\n"
     ]
    },
    {
     "name": "stdout",
     "output_type": "stream",
     "text": [
      "[CV] END activation=identity, alpha=0.0001, early_stopping=True, learning_rate=constant, learning_rate_init=0.1, max_iter=5, n_iter_no_change=5, power_t=0.1, solver=lbfgs; total time=  15.8s\n"
     ]
    },
    {
     "name": "stderr",
     "output_type": "stream",
     "text": [
      "/Users/sebastianlopez/miniconda3/envs/maestriamatching/lib/python3.10/site-packages/sklearn/neural_network/_multilayer_perceptron.py:691: ConvergenceWarning: Stochastic Optimizer: Maximum iterations (5) reached and the optimization hasn't converged yet.\n",
      "  warnings.warn(\n"
     ]
    },
    {
     "name": "stdout",
     "output_type": "stream",
     "text": [
      "[CV] END activation=identity, alpha=0.0001, early_stopping=True, learning_rate=constant, learning_rate_init=0.1, max_iter=5, n_iter_no_change=5, power_t=0.1, solver=sgd; total time=  14.5s\n"
     ]
    },
    {
     "name": "stderr",
     "output_type": "stream",
     "text": [
      "/Users/sebastianlopez/miniconda3/envs/maestriamatching/lib/python3.10/site-packages/sklearn/neural_network/_multilayer_perceptron.py:546: ConvergenceWarning: lbfgs failed to converge (status=1):\n",
      "STOP: TOTAL NO. of ITERATIONS REACHED LIMIT.\n",
      "\n",
      "Increase the number of iterations (max_iter) or scale the data as shown in:\n",
      "    https://scikit-learn.org/stable/modules/preprocessing.html\n",
      "  self.n_iter_ = _check_optimize_result(\"lbfgs\", opt_res, self.max_iter)\n"
     ]
    },
    {
     "name": "stdout",
     "output_type": "stream",
     "text": [
      "[CV] END activation=identity, alpha=0.0001, early_stopping=True, learning_rate=constant, learning_rate_init=0.1, max_iter=5, n_iter_no_change=5, power_t=0.1, solver=lbfgs; total time=  16.0s\n",
      "[CV] END activation=identity, alpha=0.0001, early_stopping=True, learning_rate=constant, learning_rate_init=0.05, max_iter=50, n_iter_no_change=5, power_t=0.005, solver=sgd; total time= 1.4min\n"
     ]
    },
    {
     "name": "stderr",
     "output_type": "stream",
     "text": [
      "/Users/sebastianlopez/miniconda3/envs/maestriamatching/lib/python3.10/site-packages/sklearn/neural_network/_multilayer_perceptron.py:691: ConvergenceWarning: Stochastic Optimizer: Maximum iterations (5) reached and the optimization hasn't converged yet.\n",
      "  warnings.warn(\n"
     ]
    },
    {
     "name": "stdout",
     "output_type": "stream",
     "text": [
      "[CV] END activation=identity, alpha=0.0001, early_stopping=True, learning_rate=constant, learning_rate_init=0.1, max_iter=5, n_iter_no_change=5, power_t=0.1, solver=sgd; total time=  14.5s\n",
      "[CV] END activation=identity, alpha=0.0001, early_stopping=True, learning_rate=constant, learning_rate_init=0.05, max_iter=50, n_iter_no_change=5, power_t=0.005, solver=adam; total time= 1.4min\n"
     ]
    },
    {
     "name": "stderr",
     "output_type": "stream",
     "text": [
      "/Users/sebastianlopez/miniconda3/envs/maestriamatching/lib/python3.10/site-packages/sklearn/neural_network/_multilayer_perceptron.py:546: ConvergenceWarning: lbfgs failed to converge (status=1):\n",
      "STOP: TOTAL NO. of ITERATIONS REACHED LIMIT.\n",
      "\n",
      "Increase the number of iterations (max_iter) or scale the data as shown in:\n",
      "    https://scikit-learn.org/stable/modules/preprocessing.html\n",
      "  self.n_iter_ = _check_optimize_result(\"lbfgs\", opt_res, self.max_iter)\n",
      "/Users/sebastianlopez/miniconda3/envs/maestriamatching/lib/python3.10/site-packages/sklearn/neural_network/_multilayer_perceptron.py:691: ConvergenceWarning: Stochastic Optimizer: Maximum iterations (5) reached and the optimization hasn't converged yet.\n",
      "  warnings.warn(\n"
     ]
    },
    {
     "name": "stdout",
     "output_type": "stream",
     "text": [
      "[CV] END activation=identity, alpha=0.0001, early_stopping=True, learning_rate=constant, learning_rate_init=0.05, max_iter=50, n_iter_no_change=5, power_t=0.005, solver=lbfgs; total time= 2.0min\n",
      "[CV] END activation=identity, alpha=0.0001, early_stopping=True, learning_rate=constant, learning_rate_init=0.1, max_iter=5, n_iter_no_change=5, power_t=0.1, solver=sgd; total time=  14.5s\n"
     ]
    },
    {
     "name": "stderr",
     "output_type": "stream",
     "text": [
      "/Users/sebastianlopez/miniconda3/envs/maestriamatching/lib/python3.10/site-packages/sklearn/neural_network/_multilayer_perceptron.py:546: ConvergenceWarning: lbfgs failed to converge (status=1):\n",
      "STOP: TOTAL NO. of ITERATIONS REACHED LIMIT.\n",
      "\n",
      "Increase the number of iterations (max_iter) or scale the data as shown in:\n",
      "    https://scikit-learn.org/stable/modules/preprocessing.html\n",
      "  self.n_iter_ = _check_optimize_result(\"lbfgs\", opt_res, self.max_iter)\n"
     ]
    },
    {
     "name": "stdout",
     "output_type": "stream",
     "text": [
      "[CV] END activation=identity, alpha=0.0001, early_stopping=True, learning_rate=constant, learning_rate_init=0.05, max_iter=50, n_iter_no_change=5, power_t=0.005, solver=lbfgs; total time= 2.1min\n"
     ]
    },
    {
     "name": "stderr",
     "output_type": "stream",
     "text": [
      "/Users/sebastianlopez/miniconda3/envs/maestriamatching/lib/python3.10/site-packages/sklearn/neural_network/_multilayer_perceptron.py:691: ConvergenceWarning: Stochastic Optimizer: Maximum iterations (5) reached and the optimization hasn't converged yet.\n",
      "  warnings.warn(\n"
     ]
    },
    {
     "name": "stdout",
     "output_type": "stream",
     "text": [
      "[CV] END activation=identity, alpha=0.0001, early_stopping=True, learning_rate=constant, learning_rate_init=0.1, max_iter=5, n_iter_no_change=5, power_t=0.1, solver=adam; total time=  15.5s\n"
     ]
    },
    {
     "name": "stderr",
     "output_type": "stream",
     "text": [
      "/Users/sebastianlopez/miniconda3/envs/maestriamatching/lib/python3.10/site-packages/sklearn/neural_network/_multilayer_perceptron.py:691: ConvergenceWarning: Stochastic Optimizer: Maximum iterations (5) reached and the optimization hasn't converged yet.\n",
      "  warnings.warn(\n"
     ]
    },
    {
     "name": "stdout",
     "output_type": "stream",
     "text": [
      "[CV] END activation=identity, alpha=0.0001, early_stopping=True, learning_rate=constant, learning_rate_init=0.1, max_iter=5, n_iter_no_change=5, power_t=0.1, solver=adam; total time=  15.7s\n"
     ]
    },
    {
     "name": "stderr",
     "output_type": "stream",
     "text": [
      "/Users/sebastianlopez/miniconda3/envs/maestriamatching/lib/python3.10/site-packages/sklearn/neural_network/_multilayer_perceptron.py:691: ConvergenceWarning: Stochastic Optimizer: Maximum iterations (5) reached and the optimization hasn't converged yet.\n",
      "  warnings.warn(\n"
     ]
    },
    {
     "name": "stdout",
     "output_type": "stream",
     "text": [
      "[CV] END activation=identity, alpha=0.0001, early_stopping=True, learning_rate=constant, learning_rate_init=0.1, max_iter=5, n_iter_no_change=5, power_t=0.1, solver=adam; total time=  15.8s\n"
     ]
    },
    {
     "name": "stderr",
     "output_type": "stream",
     "text": [
      "/Users/sebastianlopez/miniconda3/envs/maestriamatching/lib/python3.10/site-packages/sklearn/neural_network/_multilayer_perceptron.py:546: ConvergenceWarning: lbfgs failed to converge (status=1):\n",
      "STOP: TOTAL NO. of ITERATIONS REACHED LIMIT.\n",
      "\n",
      "Increase the number of iterations (max_iter) or scale the data as shown in:\n",
      "    https://scikit-learn.org/stable/modules/preprocessing.html\n",
      "  self.n_iter_ = _check_optimize_result(\"lbfgs\", opt_res, self.max_iter)\n"
     ]
    },
    {
     "name": "stdout",
     "output_type": "stream",
     "text": [
      "[CV] END activation=identity, alpha=0.0001, early_stopping=True, learning_rate=constant, learning_rate_init=0.1, max_iter=5, n_iter_no_change=5, power_t=0.9, solver=lbfgs; total time=  15.9s\n"
     ]
    },
    {
     "name": "stderr",
     "output_type": "stream",
     "text": [
      "/Users/sebastianlopez/miniconda3/envs/maestriamatching/lib/python3.10/site-packages/sklearn/neural_network/_multilayer_perceptron.py:546: ConvergenceWarning: lbfgs failed to converge (status=1):\n",
      "STOP: TOTAL NO. of ITERATIONS REACHED LIMIT.\n",
      "\n",
      "Increase the number of iterations (max_iter) or scale the data as shown in:\n",
      "    https://scikit-learn.org/stable/modules/preprocessing.html\n",
      "  self.n_iter_ = _check_optimize_result(\"lbfgs\", opt_res, self.max_iter)\n"
     ]
    },
    {
     "name": "stdout",
     "output_type": "stream",
     "text": [
      "[CV] END activation=identity, alpha=0.0001, early_stopping=True, learning_rate=constant, learning_rate_init=0.1, max_iter=5, n_iter_no_change=5, power_t=0.9, solver=lbfgs; total time=  15.6s\n"
     ]
    },
    {
     "name": "stderr",
     "output_type": "stream",
     "text": [
      "/Users/sebastianlopez/miniconda3/envs/maestriamatching/lib/python3.10/site-packages/sklearn/neural_network/_multilayer_perceptron.py:546: ConvergenceWarning: lbfgs failed to converge (status=1):\n",
      "STOP: TOTAL NO. of ITERATIONS REACHED LIMIT.\n",
      "\n",
      "Increase the number of iterations (max_iter) or scale the data as shown in:\n",
      "    https://scikit-learn.org/stable/modules/preprocessing.html\n",
      "  self.n_iter_ = _check_optimize_result(\"lbfgs\", opt_res, self.max_iter)\n"
     ]
    },
    {
     "name": "stdout",
     "output_type": "stream",
     "text": [
      "[CV] END activation=identity, alpha=0.0001, early_stopping=True, learning_rate=constant, learning_rate_init=0.1, max_iter=5, n_iter_no_change=5, power_t=0.9, solver=lbfgs; total time=  16.1s\n"
     ]
    },
    {
     "name": "stderr",
     "output_type": "stream",
     "text": [
      "/Users/sebastianlopez/miniconda3/envs/maestriamatching/lib/python3.10/site-packages/sklearn/neural_network/_multilayer_perceptron.py:691: ConvergenceWarning: Stochastic Optimizer: Maximum iterations (5) reached and the optimization hasn't converged yet.\n",
      "  warnings.warn(\n"
     ]
    },
    {
     "name": "stdout",
     "output_type": "stream",
     "text": [
      "[CV] END activation=identity, alpha=0.0001, early_stopping=True, learning_rate=constant, learning_rate_init=0.1, max_iter=5, n_iter_no_change=5, power_t=0.9, solver=sgd; total time=  14.5s\n"
     ]
    },
    {
     "name": "stderr",
     "output_type": "stream",
     "text": [
      "/Users/sebastianlopez/miniconda3/envs/maestriamatching/lib/python3.10/site-packages/sklearn/neural_network/_multilayer_perceptron.py:691: ConvergenceWarning: Stochastic Optimizer: Maximum iterations (5) reached and the optimization hasn't converged yet.\n",
      "  warnings.warn(\n"
     ]
    },
    {
     "name": "stdout",
     "output_type": "stream",
     "text": [
      "[CV] END activation=identity, alpha=0.0001, early_stopping=True, learning_rate=constant, learning_rate_init=0.1, max_iter=5, n_iter_no_change=5, power_t=0.9, solver=sgd; total time=  14.8s\n"
     ]
    },
    {
     "name": "stderr",
     "output_type": "stream",
     "text": [
      "/Users/sebastianlopez/miniconda3/envs/maestriamatching/lib/python3.10/site-packages/sklearn/neural_network/_multilayer_perceptron.py:691: ConvergenceWarning: Stochastic Optimizer: Maximum iterations (5) reached and the optimization hasn't converged yet.\n",
      "  warnings.warn(\n"
     ]
    },
    {
     "name": "stdout",
     "output_type": "stream",
     "text": [
      "[CV] END activation=identity, alpha=0.0001, early_stopping=True, learning_rate=constant, learning_rate_init=0.1, max_iter=5, n_iter_no_change=5, power_t=0.9, solver=sgd; total time=  15.0s\n"
     ]
    },
    {
     "name": "stderr",
     "output_type": "stream",
     "text": [
      "/Users/sebastianlopez/miniconda3/envs/maestriamatching/lib/python3.10/site-packages/sklearn/neural_network/_multilayer_perceptron.py:691: ConvergenceWarning: Stochastic Optimizer: Maximum iterations (5) reached and the optimization hasn't converged yet.\n",
      "  warnings.warn(\n",
      "/Users/sebastianlopez/miniconda3/envs/maestriamatching/lib/python3.10/site-packages/sklearn/neural_network/_multilayer_perceptron.py:691: ConvergenceWarning: Stochastic Optimizer: Maximum iterations (5) reached and the optimization hasn't converged yet.\n",
      "  warnings.warn(\n"
     ]
    },
    {
     "name": "stdout",
     "output_type": "stream",
     "text": [
      "[CV] END activation=identity, alpha=0.0001, early_stopping=True, learning_rate=constant, learning_rate_init=0.1, max_iter=5, n_iter_no_change=5, power_t=0.9, solver=adam; total time=  16.0s\n",
      "[CV] END activation=identity, alpha=0.0001, early_stopping=True, learning_rate=constant, learning_rate_init=0.1, max_iter=5, n_iter_no_change=5, power_t=0.9, solver=adam; total time=  15.9s\n"
     ]
    },
    {
     "name": "stderr",
     "output_type": "stream",
     "text": [
      "/Users/sebastianlopez/miniconda3/envs/maestriamatching/lib/python3.10/site-packages/sklearn/neural_network/_multilayer_perceptron.py:691: ConvergenceWarning: Stochastic Optimizer: Maximum iterations (5) reached and the optimization hasn't converged yet.\n",
      "  warnings.warn(\n"
     ]
    },
    {
     "name": "stdout",
     "output_type": "stream",
     "text": [
      "[CV] END activation=identity, alpha=0.0001, early_stopping=True, learning_rate=constant, learning_rate_init=0.1, max_iter=5, n_iter_no_change=5, power_t=0.9, solver=adam; total time=  15.9s\n"
     ]
    },
    {
     "name": "stderr",
     "output_type": "stream",
     "text": [
      "/Users/sebastianlopez/miniconda3/envs/maestriamatching/lib/python3.10/site-packages/sklearn/neural_network/_multilayer_perceptron.py:546: ConvergenceWarning: lbfgs failed to converge (status=1):\n",
      "STOP: TOTAL NO. of ITERATIONS REACHED LIMIT.\n",
      "\n",
      "Increase the number of iterations (max_iter) or scale the data as shown in:\n",
      "    https://scikit-learn.org/stable/modules/preprocessing.html\n",
      "  self.n_iter_ = _check_optimize_result(\"lbfgs\", opt_res, self.max_iter)\n"
     ]
    },
    {
     "name": "stdout",
     "output_type": "stream",
     "text": [
      "[CV] END activation=identity, alpha=0.0001, early_stopping=True, learning_rate=constant, learning_rate_init=0.1, max_iter=5, n_iter_no_change=5, power_t=0.001, solver=lbfgs; total time=  15.9s\n"
     ]
    },
    {
     "name": "stderr",
     "output_type": "stream",
     "text": [
      "/Users/sebastianlopez/miniconda3/envs/maestriamatching/lib/python3.10/site-packages/sklearn/neural_network/_multilayer_perceptron.py:546: ConvergenceWarning: lbfgs failed to converge (status=1):\n",
      "STOP: TOTAL NO. of ITERATIONS REACHED LIMIT.\n",
      "\n",
      "Increase the number of iterations (max_iter) or scale the data as shown in:\n",
      "    https://scikit-learn.org/stable/modules/preprocessing.html\n",
      "  self.n_iter_ = _check_optimize_result(\"lbfgs\", opt_res, self.max_iter)\n",
      "/Users/sebastianlopez/miniconda3/envs/maestriamatching/lib/python3.10/site-packages/sklearn/neural_network/_multilayer_perceptron.py:691: ConvergenceWarning: Stochastic Optimizer: Maximum iterations (5) reached and the optimization hasn't converged yet.\n",
      "  warnings.warn(\n"
     ]
    },
    {
     "name": "stdout",
     "output_type": "stream",
     "text": [
      "[CV] END activation=identity, alpha=0.0001, early_stopping=True, learning_rate=constant, learning_rate_init=0.1, max_iter=5, n_iter_no_change=5, power_t=0.001, solver=lbfgs; total time=  16.3s\n",
      "[CV] END activation=identity, alpha=0.0001, early_stopping=True, learning_rate=constant, learning_rate_init=0.1, max_iter=5, n_iter_no_change=5, power_t=0.001, solver=sgd; total time=  14.2s\n"
     ]
    },
    {
     "name": "stderr",
     "output_type": "stream",
     "text": [
      "/Users/sebastianlopez/miniconda3/envs/maestriamatching/lib/python3.10/site-packages/sklearn/neural_network/_multilayer_perceptron.py:546: ConvergenceWarning: lbfgs failed to converge (status=1):\n",
      "STOP: TOTAL NO. of ITERATIONS REACHED LIMIT.\n",
      "\n",
      "Increase the number of iterations (max_iter) or scale the data as shown in:\n",
      "    https://scikit-learn.org/stable/modules/preprocessing.html\n",
      "  self.n_iter_ = _check_optimize_result(\"lbfgs\", opt_res, self.max_iter)\n"
     ]
    },
    {
     "name": "stdout",
     "output_type": "stream",
     "text": [
      "[CV] END activation=identity, alpha=0.0001, early_stopping=True, learning_rate=constant, learning_rate_init=0.1, max_iter=5, n_iter_no_change=5, power_t=0.001, solver=lbfgs; total time=  15.8s\n"
     ]
    },
    {
     "name": "stderr",
     "output_type": "stream",
     "text": [
      "/Users/sebastianlopez/miniconda3/envs/maestriamatching/lib/python3.10/site-packages/sklearn/neural_network/_multilayer_perceptron.py:691: ConvergenceWarning: Stochastic Optimizer: Maximum iterations (5) reached and the optimization hasn't converged yet.\n",
      "  warnings.warn(\n"
     ]
    },
    {
     "name": "stdout",
     "output_type": "stream",
     "text": [
      "[CV] END activation=identity, alpha=0.0001, early_stopping=True, learning_rate=constant, learning_rate_init=0.1, max_iter=5, n_iter_no_change=5, power_t=0.001, solver=sgd; total time=  14.6s\n"
     ]
    },
    {
     "name": "stderr",
     "output_type": "stream",
     "text": [
      "/Users/sebastianlopez/miniconda3/envs/maestriamatching/lib/python3.10/site-packages/sklearn/neural_network/_multilayer_perceptron.py:691: ConvergenceWarning: Stochastic Optimizer: Maximum iterations (5) reached and the optimization hasn't converged yet.\n",
      "  warnings.warn(\n"
     ]
    },
    {
     "name": "stdout",
     "output_type": "stream",
     "text": [
      "[CV] END activation=identity, alpha=0.0001, early_stopping=True, learning_rate=constant, learning_rate_init=0.1, max_iter=5, n_iter_no_change=5, power_t=0.001, solver=sgd; total time=  14.4s\n"
     ]
    },
    {
     "name": "stderr",
     "output_type": "stream",
     "text": [
      "/Users/sebastianlopez/miniconda3/envs/maestriamatching/lib/python3.10/site-packages/sklearn/neural_network/_multilayer_perceptron.py:691: ConvergenceWarning: Stochastic Optimizer: Maximum iterations (5) reached and the optimization hasn't converged yet.\n",
      "  warnings.warn(\n"
     ]
    },
    {
     "name": "stdout",
     "output_type": "stream",
     "text": [
      "[CV] END activation=identity, alpha=0.0001, early_stopping=True, learning_rate=constant, learning_rate_init=0.1, max_iter=5, n_iter_no_change=5, power_t=0.001, solver=adam; total time=  16.1s\n"
     ]
    },
    {
     "name": "stderr",
     "output_type": "stream",
     "text": [
      "/Users/sebastianlopez/miniconda3/envs/maestriamatching/lib/python3.10/site-packages/sklearn/neural_network/_multilayer_perceptron.py:691: ConvergenceWarning: Stochastic Optimizer: Maximum iterations (5) reached and the optimization hasn't converged yet.\n",
      "  warnings.warn(\n"
     ]
    },
    {
     "name": "stdout",
     "output_type": "stream",
     "text": [
      "[CV] END activation=identity, alpha=0.0001, early_stopping=True, learning_rate=constant, learning_rate_init=0.1, max_iter=5, n_iter_no_change=5, power_t=0.001, solver=adam; total time=  15.9s\n"
     ]
    },
    {
     "name": "stderr",
     "output_type": "stream",
     "text": [
      "/Users/sebastianlopez/miniconda3/envs/maestriamatching/lib/python3.10/site-packages/sklearn/neural_network/_multilayer_perceptron.py:691: ConvergenceWarning: Stochastic Optimizer: Maximum iterations (5) reached and the optimization hasn't converged yet.\n",
      "  warnings.warn(\n"
     ]
    },
    {
     "name": "stdout",
     "output_type": "stream",
     "text": [
      "[CV] END activation=identity, alpha=0.0001, early_stopping=True, learning_rate=constant, learning_rate_init=0.1, max_iter=5, n_iter_no_change=5, power_t=0.001, solver=adam; total time=  15.5s\n"
     ]
    },
    {
     "name": "stderr",
     "output_type": "stream",
     "text": [
      "/Users/sebastianlopez/miniconda3/envs/maestriamatching/lib/python3.10/site-packages/sklearn/neural_network/_multilayer_perceptron.py:546: ConvergenceWarning: lbfgs failed to converge (status=1):\n",
      "STOP: TOTAL NO. of ITERATIONS REACHED LIMIT.\n",
      "\n",
      "Increase the number of iterations (max_iter) or scale the data as shown in:\n",
      "    https://scikit-learn.org/stable/modules/preprocessing.html\n",
      "  self.n_iter_ = _check_optimize_result(\"lbfgs\", opt_res, self.max_iter)\n",
      "/Users/sebastianlopez/miniconda3/envs/maestriamatching/lib/python3.10/site-packages/sklearn/neural_network/_multilayer_perceptron.py:546: ConvergenceWarning: lbfgs failed to converge (status=1):\n",
      "STOP: TOTAL NO. of ITERATIONS REACHED LIMIT.\n",
      "\n",
      "Increase the number of iterations (max_iter) or scale the data as shown in:\n",
      "    https://scikit-learn.org/stable/modules/preprocessing.html\n",
      "  self.n_iter_ = _check_optimize_result(\"lbfgs\", opt_res, self.max_iter)\n"
     ]
    },
    {
     "name": "stdout",
     "output_type": "stream",
     "text": [
      "[CV] END activation=identity, alpha=0.0001, early_stopping=True, learning_rate=constant, learning_rate_init=0.1, max_iter=5, n_iter_no_change=5, power_t=0.005, solver=lbfgs; total time=  13.8s\n",
      "[CV] END activation=identity, alpha=0.0001, early_stopping=True, learning_rate=constant, learning_rate_init=0.1, max_iter=5, n_iter_no_change=5, power_t=0.005, solver=lbfgs; total time=  16.3s\n"
     ]
    },
    {
     "name": "stderr",
     "output_type": "stream",
     "text": [
      "/Users/sebastianlopez/miniconda3/envs/maestriamatching/lib/python3.10/site-packages/sklearn/neural_network/_multilayer_perceptron.py:691: ConvergenceWarning: Stochastic Optimizer: Maximum iterations (5) reached and the optimization hasn't converged yet.\n",
      "  warnings.warn(\n",
      "/Users/sebastianlopez/miniconda3/envs/maestriamatching/lib/python3.10/site-packages/sklearn/neural_network/_multilayer_perceptron.py:691: ConvergenceWarning: Stochastic Optimizer: Maximum iterations (5) reached and the optimization hasn't converged yet.\n",
      "  warnings.warn(\n"
     ]
    },
    {
     "name": "stdout",
     "output_type": "stream",
     "text": [
      "[CV] END activation=identity, alpha=0.0001, early_stopping=True, learning_rate=constant, learning_rate_init=0.1, max_iter=5, n_iter_no_change=5, power_t=0.005, solver=sgd; total time=  14.3s\n"
     ]
    },
    {
     "name": "stderr",
     "output_type": "stream",
     "text": [
      "/Users/sebastianlopez/miniconda3/envs/maestriamatching/lib/python3.10/site-packages/sklearn/neural_network/_multilayer_perceptron.py:546: ConvergenceWarning: lbfgs failed to converge (status=1):\n",
      "STOP: TOTAL NO. of ITERATIONS REACHED LIMIT.\n",
      "\n",
      "Increase the number of iterations (max_iter) or scale the data as shown in:\n",
      "    https://scikit-learn.org/stable/modules/preprocessing.html\n",
      "  self.n_iter_ = _check_optimize_result(\"lbfgs\", opt_res, self.max_iter)\n"
     ]
    },
    {
     "name": "stdout",
     "output_type": "stream",
     "text": [
      "[CV] END activation=identity, alpha=0.0001, early_stopping=True, learning_rate=constant, learning_rate_init=0.1, max_iter=5, n_iter_no_change=5, power_t=0.005, solver=sgd; total time=  14.4s\n",
      "[CV] END activation=identity, alpha=0.0001, early_stopping=True, learning_rate=constant, learning_rate_init=0.1, max_iter=5, n_iter_no_change=5, power_t=0.005, solver=lbfgs; total time=  16.2s\n"
     ]
    },
    {
     "name": "stderr",
     "output_type": "stream",
     "text": [
      "/Users/sebastianlopez/miniconda3/envs/maestriamatching/lib/python3.10/site-packages/sklearn/neural_network/_multilayer_perceptron.py:691: ConvergenceWarning: Stochastic Optimizer: Maximum iterations (5) reached and the optimization hasn't converged yet.\n",
      "  warnings.warn(\n"
     ]
    },
    {
     "name": "stdout",
     "output_type": "stream",
     "text": [
      "[CV] END activation=identity, alpha=0.0001, early_stopping=True, learning_rate=constant, learning_rate_init=0.1, max_iter=5, n_iter_no_change=5, power_t=0.005, solver=sgd; total time=  14.5s\n"
     ]
    },
    {
     "name": "stderr",
     "output_type": "stream",
     "text": [
      "/Users/sebastianlopez/miniconda3/envs/maestriamatching/lib/python3.10/site-packages/sklearn/neural_network/_multilayer_perceptron.py:691: ConvergenceWarning: Stochastic Optimizer: Maximum iterations (5) reached and the optimization hasn't converged yet.\n",
      "  warnings.warn(\n"
     ]
    },
    {
     "name": "stdout",
     "output_type": "stream",
     "text": [
      "[CV] END activation=identity, alpha=0.0001, early_stopping=True, learning_rate=constant, learning_rate_init=0.1, max_iter=5, n_iter_no_change=5, power_t=0.005, solver=adam; total time=  15.6s\n"
     ]
    },
    {
     "name": "stderr",
     "output_type": "stream",
     "text": [
      "/Users/sebastianlopez/miniconda3/envs/maestriamatching/lib/python3.10/site-packages/sklearn/neural_network/_multilayer_perceptron.py:691: ConvergenceWarning: Stochastic Optimizer: Maximum iterations (5) reached and the optimization hasn't converged yet.\n",
      "  warnings.warn(\n"
     ]
    },
    {
     "name": "stdout",
     "output_type": "stream",
     "text": [
      "[CV] END activation=identity, alpha=0.0001, early_stopping=True, learning_rate=constant, learning_rate_init=0.1, max_iter=5, n_iter_no_change=5, power_t=0.005, solver=adam; total time=  15.8s\n"
     ]
    },
    {
     "name": "stderr",
     "output_type": "stream",
     "text": [
      "/Users/sebastianlopez/miniconda3/envs/maestriamatching/lib/python3.10/site-packages/sklearn/neural_network/_multilayer_perceptron.py:691: ConvergenceWarning: Stochastic Optimizer: Maximum iterations (5) reached and the optimization hasn't converged yet.\n",
      "  warnings.warn(\n"
     ]
    },
    {
     "name": "stdout",
     "output_type": "stream",
     "text": [
      "[CV] END activation=identity, alpha=0.0001, early_stopping=True, learning_rate=constant, learning_rate_init=0.1, max_iter=5, n_iter_no_change=5, power_t=0.005, solver=adam; total time=  15.7s\n",
      "[CV] END activation=identity, alpha=0.0001, early_stopping=True, learning_rate=constant, learning_rate_init=0.1, max_iter=10, n_iter_no_change=5, power_t=0.5, solver=sgd; total time=  22.4s\n"
     ]
    },
    {
     "name": "stderr",
     "output_type": "stream",
     "text": [
      "/Users/sebastianlopez/miniconda3/envs/maestriamatching/lib/python3.10/site-packages/sklearn/neural_network/_multilayer_perceptron.py:546: ConvergenceWarning: lbfgs failed to converge (status=1):\n",
      "STOP: TOTAL NO. of ITERATIONS REACHED LIMIT.\n",
      "\n",
      "Increase the number of iterations (max_iter) or scale the data as shown in:\n",
      "    https://scikit-learn.org/stable/modules/preprocessing.html\n",
      "  self.n_iter_ = _check_optimize_result(\"lbfgs\", opt_res, self.max_iter)\n"
     ]
    },
    {
     "name": "stdout",
     "output_type": "stream",
     "text": [
      "[CV] END activation=identity, alpha=0.0001, early_stopping=True, learning_rate=constant, learning_rate_init=0.1, max_iter=10, n_iter_no_change=5, power_t=0.5, solver=lbfgs; total time=  26.4s\n"
     ]
    },
    {
     "name": "stderr",
     "output_type": "stream",
     "text": [
      "/Users/sebastianlopez/miniconda3/envs/maestriamatching/lib/python3.10/site-packages/sklearn/neural_network/_multilayer_perceptron.py:546: ConvergenceWarning: lbfgs failed to converge (status=1):\n",
      "STOP: TOTAL NO. of ITERATIONS REACHED LIMIT.\n",
      "\n",
      "Increase the number of iterations (max_iter) or scale the data as shown in:\n",
      "    https://scikit-learn.org/stable/modules/preprocessing.html\n",
      "  self.n_iter_ = _check_optimize_result(\"lbfgs\", opt_res, self.max_iter)\n"
     ]
    },
    {
     "name": "stdout",
     "output_type": "stream",
     "text": [
      "[CV] END activation=identity, alpha=0.0001, early_stopping=True, learning_rate=constant, learning_rate_init=0.1, max_iter=10, n_iter_no_change=5, power_t=0.5, solver=lbfgs; total time=  28.6s\n"
     ]
    },
    {
     "name": "stderr",
     "output_type": "stream",
     "text": [
      "/Users/sebastianlopez/miniconda3/envs/maestriamatching/lib/python3.10/site-packages/sklearn/neural_network/_multilayer_perceptron.py:546: ConvergenceWarning: lbfgs failed to converge (status=1):\n",
      "STOP: TOTAL NO. of ITERATIONS REACHED LIMIT.\n",
      "\n",
      "Increase the number of iterations (max_iter) or scale the data as shown in:\n",
      "    https://scikit-learn.org/stable/modules/preprocessing.html\n",
      "  self.n_iter_ = _check_optimize_result(\"lbfgs\", opt_res, self.max_iter)\n"
     ]
    },
    {
     "name": "stdout",
     "output_type": "stream",
     "text": [
      "[CV] END activation=identity, alpha=0.0001, early_stopping=True, learning_rate=constant, learning_rate_init=0.1, max_iter=10, n_iter_no_change=5, power_t=0.5, solver=lbfgs; total time=  30.9s\n"
     ]
    },
    {
     "name": "stderr",
     "output_type": "stream",
     "text": [
      "/Users/sebastianlopez/miniconda3/envs/maestriamatching/lib/python3.10/site-packages/sklearn/neural_network/_multilayer_perceptron.py:691: ConvergenceWarning: Stochastic Optimizer: Maximum iterations (10) reached and the optimization hasn't converged yet.\n",
      "  warnings.warn(\n",
      "/Users/sebastianlopez/miniconda3/envs/maestriamatching/lib/python3.10/site-packages/sklearn/neural_network/_multilayer_perceptron.py:691: ConvergenceWarning: Stochastic Optimizer: Maximum iterations (10) reached and the optimization hasn't converged yet.\n",
      "  warnings.warn(\n"
     ]
    },
    {
     "name": "stdout",
     "output_type": "stream",
     "text": [
      "[CV] END activation=identity, alpha=0.0001, early_stopping=True, learning_rate=constant, learning_rate_init=0.1, max_iter=10, n_iter_no_change=5, power_t=0.5, solver=sgd; total time=  28.1s\n",
      "[CV] END activation=identity, alpha=0.0001, early_stopping=True, learning_rate=constant, learning_rate_init=0.1, max_iter=10, n_iter_no_change=5, power_t=0.5, solver=sgd; total time=  27.8s\n"
     ]
    },
    {
     "name": "stderr",
     "output_type": "stream",
     "text": [
      "/Users/sebastianlopez/miniconda3/envs/maestriamatching/lib/python3.10/site-packages/sklearn/neural_network/_multilayer_perceptron.py:691: ConvergenceWarning: Stochastic Optimizer: Maximum iterations (10) reached and the optimization hasn't converged yet.\n",
      "  warnings.warn(\n"
     ]
    },
    {
     "name": "stdout",
     "output_type": "stream",
     "text": [
      "[CV] END activation=identity, alpha=0.0001, early_stopping=True, learning_rate=constant, learning_rate_init=0.1, max_iter=10, n_iter_no_change=5, power_t=0.5, solver=adam; total time=  30.5s\n"
     ]
    },
    {
     "name": "stderr",
     "output_type": "stream",
     "text": [
      "/Users/sebastianlopez/miniconda3/envs/maestriamatching/lib/python3.10/site-packages/sklearn/neural_network/_multilayer_perceptron.py:546: ConvergenceWarning: lbfgs failed to converge (status=1):\n",
      "STOP: TOTAL NO. of ITERATIONS REACHED LIMIT.\n",
      "\n",
      "Increase the number of iterations (max_iter) or scale the data as shown in:\n",
      "    https://scikit-learn.org/stable/modules/preprocessing.html\n",
      "  self.n_iter_ = _check_optimize_result(\"lbfgs\", opt_res, self.max_iter)\n",
      "/Users/sebastianlopez/miniconda3/envs/maestriamatching/lib/python3.10/site-packages/sklearn/neural_network/_multilayer_perceptron.py:691: ConvergenceWarning: Stochastic Optimizer: Maximum iterations (10) reached and the optimization hasn't converged yet.\n",
      "  warnings.warn(\n"
     ]
    },
    {
     "name": "stdout",
     "output_type": "stream",
     "text": [
      "[CV] END activation=identity, alpha=0.0001, early_stopping=True, learning_rate=constant, learning_rate_init=0.1, max_iter=10, n_iter_no_change=5, power_t=0.1, solver=lbfgs; total time=  28.0s\n",
      "[CV] END activation=identity, alpha=0.0001, early_stopping=True, learning_rate=constant, learning_rate_init=0.1, max_iter=10, n_iter_no_change=5, power_t=0.5, solver=adam; total time=  30.8s\n"
     ]
    },
    {
     "name": "stderr",
     "output_type": "stream",
     "text": [
      "/Users/sebastianlopez/miniconda3/envs/maestriamatching/lib/python3.10/site-packages/sklearn/neural_network/_multilayer_perceptron.py:691: ConvergenceWarning: Stochastic Optimizer: Maximum iterations (10) reached and the optimization hasn't converged yet.\n",
      "  warnings.warn(\n"
     ]
    },
    {
     "name": "stdout",
     "output_type": "stream",
     "text": [
      "[CV] END activation=identity, alpha=0.0001, early_stopping=True, learning_rate=constant, learning_rate_init=0.1, max_iter=10, n_iter_no_change=5, power_t=0.5, solver=adam; total time=  30.6s\n"
     ]
    },
    {
     "name": "stderr",
     "output_type": "stream",
     "text": [
      "/Users/sebastianlopez/miniconda3/envs/maestriamatching/lib/python3.10/site-packages/sklearn/neural_network/_multilayer_perceptron.py:546: ConvergenceWarning: lbfgs failed to converge (status=1):\n",
      "STOP: TOTAL NO. of ITERATIONS REACHED LIMIT.\n",
      "\n",
      "Increase the number of iterations (max_iter) or scale the data as shown in:\n",
      "    https://scikit-learn.org/stable/modules/preprocessing.html\n",
      "  self.n_iter_ = _check_optimize_result(\"lbfgs\", opt_res, self.max_iter)\n"
     ]
    },
    {
     "name": "stdout",
     "output_type": "stream",
     "text": [
      "[CV] END activation=identity, alpha=0.0001, early_stopping=True, learning_rate=constant, learning_rate_init=0.1, max_iter=10, n_iter_no_change=5, power_t=0.1, solver=lbfgs; total time=  38.7s\n"
     ]
    },
    {
     "name": "stderr",
     "output_type": "stream",
     "text": [
      "/Users/sebastianlopez/miniconda3/envs/maestriamatching/lib/python3.10/site-packages/sklearn/neural_network/_multilayer_perceptron.py:546: ConvergenceWarning: lbfgs failed to converge (status=1):\n",
      "STOP: TOTAL NO. of ITERATIONS REACHED LIMIT.\n",
      "\n",
      "Increase the number of iterations (max_iter) or scale the data as shown in:\n",
      "    https://scikit-learn.org/stable/modules/preprocessing.html\n",
      "  self.n_iter_ = _check_optimize_result(\"lbfgs\", opt_res, self.max_iter)\n"
     ]
    },
    {
     "name": "stdout",
     "output_type": "stream",
     "text": [
      "[CV] END activation=identity, alpha=0.0001, early_stopping=True, learning_rate=constant, learning_rate_init=0.1, max_iter=10, n_iter_no_change=5, power_t=0.1, solver=lbfgs; total time=  30.3s\n"
     ]
    },
    {
     "name": "stderr",
     "output_type": "stream",
     "text": [
      "/Users/sebastianlopez/miniconda3/envs/maestriamatching/lib/python3.10/site-packages/sklearn/neural_network/_multilayer_perceptron.py:691: ConvergenceWarning: Stochastic Optimizer: Maximum iterations (10) reached and the optimization hasn't converged yet.\n",
      "  warnings.warn(\n"
     ]
    },
    {
     "name": "stdout",
     "output_type": "stream",
     "text": [
      "[CV] END activation=identity, alpha=0.0001, early_stopping=True, learning_rate=constant, learning_rate_init=0.1, max_iter=10, n_iter_no_change=5, power_t=0.1, solver=sgd; total time=  28.2s\n"
     ]
    },
    {
     "name": "stderr",
     "output_type": "stream",
     "text": [
      "/Users/sebastianlopez/miniconda3/envs/maestriamatching/lib/python3.10/site-packages/sklearn/neural_network/_multilayer_perceptron.py:691: ConvergenceWarning: Stochastic Optimizer: Maximum iterations (10) reached and the optimization hasn't converged yet.\n",
      "  warnings.warn(\n"
     ]
    },
    {
     "name": "stdout",
     "output_type": "stream",
     "text": [
      "[CV] END activation=identity, alpha=0.0001, early_stopping=True, learning_rate=constant, learning_rate_init=0.1, max_iter=10, n_iter_no_change=5, power_t=0.1, solver=sgd; total time=  28.4s\n"
     ]
    },
    {
     "name": "stderr",
     "output_type": "stream",
     "text": [
      "/Users/sebastianlopez/miniconda3/envs/maestriamatching/lib/python3.10/site-packages/sklearn/neural_network/_multilayer_perceptron.py:691: ConvergenceWarning: Stochastic Optimizer: Maximum iterations (10) reached and the optimization hasn't converged yet.\n",
      "  warnings.warn(\n"
     ]
    },
    {
     "name": "stdout",
     "output_type": "stream",
     "text": [
      "[CV] END activation=identity, alpha=0.0001, early_stopping=True, learning_rate=constant, learning_rate_init=0.1, max_iter=10, n_iter_no_change=5, power_t=0.1, solver=sgd; total time=  28.5s\n"
     ]
    },
    {
     "name": "stderr",
     "output_type": "stream",
     "text": [
      "/Users/sebastianlopez/miniconda3/envs/maestriamatching/lib/python3.10/site-packages/sklearn/neural_network/_multilayer_perceptron.py:691: ConvergenceWarning: Stochastic Optimizer: Maximum iterations (10) reached and the optimization hasn't converged yet.\n",
      "  warnings.warn(\n",
      "/Users/sebastianlopez/miniconda3/envs/maestriamatching/lib/python3.10/site-packages/sklearn/neural_network/_multilayer_perceptron.py:691: ConvergenceWarning: Stochastic Optimizer: Maximum iterations (10) reached and the optimization hasn't converged yet.\n",
      "  warnings.warn(\n"
     ]
    },
    {
     "name": "stdout",
     "output_type": "stream",
     "text": [
      "[CV] END activation=identity, alpha=0.0001, early_stopping=True, learning_rate=constant, learning_rate_init=0.1, max_iter=10, n_iter_no_change=5, power_t=0.1, solver=adam; total time=  30.4s\n",
      "[CV] END activation=identity, alpha=0.0001, early_stopping=True, learning_rate=constant, learning_rate_init=0.1, max_iter=10, n_iter_no_change=5, power_t=0.1, solver=adam; total time=  30.5s\n"
     ]
    },
    {
     "name": "stderr",
     "output_type": "stream",
     "text": [
      "/Users/sebastianlopez/miniconda3/envs/maestriamatching/lib/python3.10/site-packages/sklearn/neural_network/_multilayer_perceptron.py:546: ConvergenceWarning: lbfgs failed to converge (status=1):\n",
      "STOP: TOTAL NO. of ITERATIONS REACHED LIMIT.\n",
      "\n",
      "Increase the number of iterations (max_iter) or scale the data as shown in:\n",
      "    https://scikit-learn.org/stable/modules/preprocessing.html\n",
      "  self.n_iter_ = _check_optimize_result(\"lbfgs\", opt_res, self.max_iter)\n"
     ]
    },
    {
     "name": "stdout",
     "output_type": "stream",
     "text": [
      "[CV] END activation=identity, alpha=0.0001, early_stopping=True, learning_rate=constant, learning_rate_init=0.1, max_iter=10, n_iter_no_change=5, power_t=0.9, solver=lbfgs; total time=  28.6s\n"
     ]
    },
    {
     "name": "stderr",
     "output_type": "stream",
     "text": [
      "/Users/sebastianlopez/miniconda3/envs/maestriamatching/lib/python3.10/site-packages/sklearn/neural_network/_multilayer_perceptron.py:691: ConvergenceWarning: Stochastic Optimizer: Maximum iterations (10) reached and the optimization hasn't converged yet.\n",
      "  warnings.warn(\n"
     ]
    },
    {
     "name": "stdout",
     "output_type": "stream",
     "text": [
      "[CV] END activation=identity, alpha=0.0001, early_stopping=True, learning_rate=constant, learning_rate_init=0.1, max_iter=10, n_iter_no_change=5, power_t=0.1, solver=adam; total time=  30.5s\n"
     ]
    },
    {
     "name": "stderr",
     "output_type": "stream",
     "text": [
      "/Users/sebastianlopez/miniconda3/envs/maestriamatching/lib/python3.10/site-packages/sklearn/neural_network/_multilayer_perceptron.py:546: ConvergenceWarning: lbfgs failed to converge (status=1):\n",
      "STOP: TOTAL NO. of ITERATIONS REACHED LIMIT.\n",
      "\n",
      "Increase the number of iterations (max_iter) or scale the data as shown in:\n",
      "    https://scikit-learn.org/stable/modules/preprocessing.html\n",
      "  self.n_iter_ = _check_optimize_result(\"lbfgs\", opt_res, self.max_iter)\n"
     ]
    },
    {
     "name": "stdout",
     "output_type": "stream",
     "text": [
      "[CV] END activation=identity, alpha=0.0001, early_stopping=True, learning_rate=constant, learning_rate_init=0.1, max_iter=10, n_iter_no_change=5, power_t=0.9, solver=lbfgs; total time=  30.9s\n"
     ]
    },
    {
     "name": "stderr",
     "output_type": "stream",
     "text": [
      "/Users/sebastianlopez/miniconda3/envs/maestriamatching/lib/python3.10/site-packages/sklearn/neural_network/_multilayer_perceptron.py:546: ConvergenceWarning: lbfgs failed to converge (status=1):\n",
      "STOP: TOTAL NO. of ITERATIONS REACHED LIMIT.\n",
      "\n",
      "Increase the number of iterations (max_iter) or scale the data as shown in:\n",
      "    https://scikit-learn.org/stable/modules/preprocessing.html\n",
      "  self.n_iter_ = _check_optimize_result(\"lbfgs\", opt_res, self.max_iter)\n"
     ]
    },
    {
     "name": "stdout",
     "output_type": "stream",
     "text": [
      "[CV] END activation=identity, alpha=0.0001, early_stopping=True, learning_rate=constant, learning_rate_init=0.1, max_iter=10, n_iter_no_change=5, power_t=0.9, solver=lbfgs; total time=  30.5s\n",
      "[CV] END activation=identity, alpha=0.0001, early_stopping=True, learning_rate=constant, learning_rate_init=0.1, max_iter=10, n_iter_no_change=5, power_t=0.9, solver=sgd; total time=  25.5s\n"
     ]
    },
    {
     "name": "stderr",
     "output_type": "stream",
     "text": [
      "/Users/sebastianlopez/miniconda3/envs/maestriamatching/lib/python3.10/site-packages/sklearn/neural_network/_multilayer_perceptron.py:691: ConvergenceWarning: Stochastic Optimizer: Maximum iterations (10) reached and the optimization hasn't converged yet.\n",
      "  warnings.warn(\n"
     ]
    },
    {
     "name": "stdout",
     "output_type": "stream",
     "text": [
      "[CV] END activation=identity, alpha=0.0001, early_stopping=True, learning_rate=constant, learning_rate_init=0.1, max_iter=10, n_iter_no_change=5, power_t=0.9, solver=sgd; total time=  27.8s\n"
     ]
    },
    {
     "name": "stderr",
     "output_type": "stream",
     "text": [
      "/Users/sebastianlopez/miniconda3/envs/maestriamatching/lib/python3.10/site-packages/sklearn/neural_network/_multilayer_perceptron.py:691: ConvergenceWarning: Stochastic Optimizer: Maximum iterations (10) reached and the optimization hasn't converged yet.\n",
      "  warnings.warn(\n"
     ]
    },
    {
     "name": "stdout",
     "output_type": "stream",
     "text": [
      "[CV] END activation=identity, alpha=0.0001, early_stopping=True, learning_rate=constant, learning_rate_init=0.1, max_iter=10, n_iter_no_change=5, power_t=0.9, solver=sgd; total time=  28.2s\n"
     ]
    },
    {
     "name": "stderr",
     "output_type": "stream",
     "text": [
      "/Users/sebastianlopez/miniconda3/envs/maestriamatching/lib/python3.10/site-packages/sklearn/neural_network/_multilayer_perceptron.py:691: ConvergenceWarning: Stochastic Optimizer: Maximum iterations (10) reached and the optimization hasn't converged yet.\n",
      "  warnings.warn(\n"
     ]
    },
    {
     "name": "stdout",
     "output_type": "stream",
     "text": [
      "[CV] END activation=identity, alpha=0.0001, early_stopping=True, learning_rate=constant, learning_rate_init=0.1, max_iter=10, n_iter_no_change=5, power_t=0.9, solver=adam; total time=  31.4s\n"
     ]
    },
    {
     "name": "stderr",
     "output_type": "stream",
     "text": [
      "/Users/sebastianlopez/miniconda3/envs/maestriamatching/lib/python3.10/site-packages/sklearn/neural_network/_multilayer_perceptron.py:691: ConvergenceWarning: Stochastic Optimizer: Maximum iterations (10) reached and the optimization hasn't converged yet.\n",
      "  warnings.warn(\n"
     ]
    },
    {
     "name": "stdout",
     "output_type": "stream",
     "text": [
      "[CV] END activation=identity, alpha=0.0001, early_stopping=True, learning_rate=constant, learning_rate_init=0.1, max_iter=10, n_iter_no_change=5, power_t=0.9, solver=adam; total time=  30.7s\n"
     ]
    },
    {
     "name": "stderr",
     "output_type": "stream",
     "text": [
      "/Users/sebastianlopez/miniconda3/envs/maestriamatching/lib/python3.10/site-packages/sklearn/neural_network/_multilayer_perceptron.py:546: ConvergenceWarning: lbfgs failed to converge (status=1):\n",
      "STOP: TOTAL NO. of ITERATIONS REACHED LIMIT.\n",
      "\n",
      "Increase the number of iterations (max_iter) or scale the data as shown in:\n",
      "    https://scikit-learn.org/stable/modules/preprocessing.html\n",
      "  self.n_iter_ = _check_optimize_result(\"lbfgs\", opt_res, self.max_iter)\n"
     ]
    },
    {
     "name": "stdout",
     "output_type": "stream",
     "text": [
      "[CV] END activation=identity, alpha=0.0001, early_stopping=True, learning_rate=constant, learning_rate_init=0.1, max_iter=10, n_iter_no_change=5, power_t=0.001, solver=lbfgs; total time=  26.0s\n"
     ]
    },
    {
     "name": "stderr",
     "output_type": "stream",
     "text": [
      "/Users/sebastianlopez/miniconda3/envs/maestriamatching/lib/python3.10/site-packages/sklearn/neural_network/_multilayer_perceptron.py:691: ConvergenceWarning: Stochastic Optimizer: Maximum iterations (10) reached and the optimization hasn't converged yet.\n",
      "  warnings.warn(\n"
     ]
    },
    {
     "name": "stdout",
     "output_type": "stream",
     "text": [
      "[CV] END activation=identity, alpha=0.0001, early_stopping=True, learning_rate=constant, learning_rate_init=0.1, max_iter=10, n_iter_no_change=5, power_t=0.9, solver=adam; total time=  30.5s\n"
     ]
    },
    {
     "name": "stderr",
     "output_type": "stream",
     "text": [
      "/Users/sebastianlopez/miniconda3/envs/maestriamatching/lib/python3.10/site-packages/sklearn/neural_network/_multilayer_perceptron.py:546: ConvergenceWarning: lbfgs failed to converge (status=1):\n",
      "STOP: TOTAL NO. of ITERATIONS REACHED LIMIT.\n",
      "\n",
      "Increase the number of iterations (max_iter) or scale the data as shown in:\n",
      "    https://scikit-learn.org/stable/modules/preprocessing.html\n",
      "  self.n_iter_ = _check_optimize_result(\"lbfgs\", opt_res, self.max_iter)\n"
     ]
    },
    {
     "name": "stdout",
     "output_type": "stream",
     "text": [
      "[CV] END activation=identity, alpha=0.0001, early_stopping=True, learning_rate=constant, learning_rate_init=0.1, max_iter=10, n_iter_no_change=5, power_t=0.001, solver=lbfgs; total time=  30.8s\n"
     ]
    },
    {
     "name": "stderr",
     "output_type": "stream",
     "text": [
      "/Users/sebastianlopez/miniconda3/envs/maestriamatching/lib/python3.10/site-packages/sklearn/neural_network/_multilayer_perceptron.py:691: ConvergenceWarning: Stochastic Optimizer: Maximum iterations (10) reached and the optimization hasn't converged yet.\n",
      "  warnings.warn(\n"
     ]
    },
    {
     "name": "stdout",
     "output_type": "stream",
     "text": [
      "[CV] END activation=identity, alpha=0.0001, early_stopping=True, learning_rate=constant, learning_rate_init=0.1, max_iter=10, n_iter_no_change=5, power_t=0.001, solver=sgd; total time=  28.2s\n"
     ]
    },
    {
     "name": "stderr",
     "output_type": "stream",
     "text": [
      "/Users/sebastianlopez/miniconda3/envs/maestriamatching/lib/python3.10/site-packages/sklearn/neural_network/_multilayer_perceptron.py:546: ConvergenceWarning: lbfgs failed to converge (status=1):\n",
      "STOP: TOTAL NO. of ITERATIONS REACHED LIMIT.\n",
      "\n",
      "Increase the number of iterations (max_iter) or scale the data as shown in:\n",
      "    https://scikit-learn.org/stable/modules/preprocessing.html\n",
      "  self.n_iter_ = _check_optimize_result(\"lbfgs\", opt_res, self.max_iter)\n",
      "/Users/sebastianlopez/miniconda3/envs/maestriamatching/lib/python3.10/site-packages/sklearn/neural_network/_multilayer_perceptron.py:691: ConvergenceWarning: Stochastic Optimizer: Maximum iterations (10) reached and the optimization hasn't converged yet.\n",
      "  warnings.warn(\n"
     ]
    },
    {
     "name": "stdout",
     "output_type": "stream",
     "text": [
      "[CV] END activation=identity, alpha=0.0001, early_stopping=True, learning_rate=constant, learning_rate_init=0.1, max_iter=10, n_iter_no_change=5, power_t=0.001, solver=sgd; total time=  28.1s\n",
      "[CV] END activation=identity, alpha=0.0001, early_stopping=True, learning_rate=constant, learning_rate_init=0.1, max_iter=10, n_iter_no_change=5, power_t=0.001, solver=lbfgs; total time=  30.6s\n"
     ]
    },
    {
     "name": "stderr",
     "output_type": "stream",
     "text": [
      "/Users/sebastianlopez/miniconda3/envs/maestriamatching/lib/python3.10/site-packages/sklearn/neural_network/_multilayer_perceptron.py:691: ConvergenceWarning: Stochastic Optimizer: Maximum iterations (10) reached and the optimization hasn't converged yet.\n",
      "  warnings.warn(\n"
     ]
    },
    {
     "name": "stdout",
     "output_type": "stream",
     "text": [
      "[CV] END activation=identity, alpha=0.0001, early_stopping=True, learning_rate=constant, learning_rate_init=0.1, max_iter=10, n_iter_no_change=5, power_t=0.001, solver=sgd; total time=  28.4s\n"
     ]
    },
    {
     "name": "stderr",
     "output_type": "stream",
     "text": [
      "/Users/sebastianlopez/miniconda3/envs/maestriamatching/lib/python3.10/site-packages/sklearn/neural_network/_multilayer_perceptron.py:691: ConvergenceWarning: Stochastic Optimizer: Maximum iterations (10) reached and the optimization hasn't converged yet.\n",
      "  warnings.warn(\n"
     ]
    },
    {
     "name": "stdout",
     "output_type": "stream",
     "text": [
      "[CV] END activation=identity, alpha=0.0001, early_stopping=True, learning_rate=constant, learning_rate_init=0.1, max_iter=10, n_iter_no_change=5, power_t=0.001, solver=adam; total time=  30.6s\n"
     ]
    },
    {
     "name": "stderr",
     "output_type": "stream",
     "text": [
      "/Users/sebastianlopez/miniconda3/envs/maestriamatching/lib/python3.10/site-packages/sklearn/neural_network/_multilayer_perceptron.py:691: ConvergenceWarning: Stochastic Optimizer: Maximum iterations (10) reached and the optimization hasn't converged yet.\n",
      "  warnings.warn(\n"
     ]
    },
    {
     "name": "stdout",
     "output_type": "stream",
     "text": [
      "[CV] END activation=identity, alpha=0.0001, early_stopping=True, learning_rate=constant, learning_rate_init=0.1, max_iter=10, n_iter_no_change=5, power_t=0.001, solver=adam; total time=  30.7s\n"
     ]
    },
    {
     "name": "stderr",
     "output_type": "stream",
     "text": [
      "/Users/sebastianlopez/miniconda3/envs/maestriamatching/lib/python3.10/site-packages/sklearn/neural_network/_multilayer_perceptron.py:691: ConvergenceWarning: Stochastic Optimizer: Maximum iterations (10) reached and the optimization hasn't converged yet.\n",
      "  warnings.warn(\n"
     ]
    },
    {
     "name": "stdout",
     "output_type": "stream",
     "text": [
      "[CV] END activation=identity, alpha=0.0001, early_stopping=True, learning_rate=constant, learning_rate_init=0.1, max_iter=10, n_iter_no_change=5, power_t=0.001, solver=adam; total time=  31.1s\n"
     ]
    },
    {
     "name": "stderr",
     "output_type": "stream",
     "text": [
      "/Users/sebastianlopez/miniconda3/envs/maestriamatching/lib/python3.10/site-packages/sklearn/neural_network/_multilayer_perceptron.py:546: ConvergenceWarning: lbfgs failed to converge (status=1):\n",
      "STOP: TOTAL NO. of ITERATIONS REACHED LIMIT.\n",
      "\n",
      "Increase the number of iterations (max_iter) or scale the data as shown in:\n",
      "    https://scikit-learn.org/stable/modules/preprocessing.html\n",
      "  self.n_iter_ = _check_optimize_result(\"lbfgs\", opt_res, self.max_iter)\n"
     ]
    },
    {
     "name": "stdout",
     "output_type": "stream",
     "text": [
      "[CV] END activation=identity, alpha=0.0001, early_stopping=True, learning_rate=constant, learning_rate_init=0.1, max_iter=10, n_iter_no_change=5, power_t=0.005, solver=lbfgs; total time=  28.5s\n"
     ]
    },
    {
     "name": "stderr",
     "output_type": "stream",
     "text": [
      "/Users/sebastianlopez/miniconda3/envs/maestriamatching/lib/python3.10/site-packages/sklearn/neural_network/_multilayer_perceptron.py:546: ConvergenceWarning: lbfgs failed to converge (status=1):\n",
      "STOP: TOTAL NO. of ITERATIONS REACHED LIMIT.\n",
      "\n",
      "Increase the number of iterations (max_iter) or scale the data as shown in:\n",
      "    https://scikit-learn.org/stable/modules/preprocessing.html\n",
      "  self.n_iter_ = _check_optimize_result(\"lbfgs\", opt_res, self.max_iter)\n",
      "/Users/sebastianlopez/miniconda3/envs/maestriamatching/lib/python3.10/site-packages/sklearn/neural_network/_multilayer_perceptron.py:691: ConvergenceWarning: Stochastic Optimizer: Maximum iterations (10) reached and the optimization hasn't converged yet.\n",
      "  warnings.warn(\n"
     ]
    },
    {
     "name": "stdout",
     "output_type": "stream",
     "text": [
      "[CV] END activation=identity, alpha=0.0001, early_stopping=True, learning_rate=constant, learning_rate_init=0.1, max_iter=10, n_iter_no_change=5, power_t=0.005, solver=lbfgs; total time=  30.7s\n",
      "[CV] END activation=identity, alpha=0.0001, early_stopping=True, learning_rate=constant, learning_rate_init=0.1, max_iter=10, n_iter_no_change=5, power_t=0.005, solver=sgd; total time=  28.6s\n"
     ]
    },
    {
     "name": "stderr",
     "output_type": "stream",
     "text": [
      "/Users/sebastianlopez/miniconda3/envs/maestriamatching/lib/python3.10/site-packages/sklearn/neural_network/_multilayer_perceptron.py:691: ConvergenceWarning: Stochastic Optimizer: Maximum iterations (10) reached and the optimization hasn't converged yet.\n",
      "  warnings.warn(\n",
      "/Users/sebastianlopez/miniconda3/envs/maestriamatching/lib/python3.10/site-packages/sklearn/neural_network/_multilayer_perceptron.py:546: ConvergenceWarning: lbfgs failed to converge (status=1):\n",
      "STOP: TOTAL NO. of ITERATIONS REACHED LIMIT.\n",
      "\n",
      "Increase the number of iterations (max_iter) or scale the data as shown in:\n",
      "    https://scikit-learn.org/stable/modules/preprocessing.html\n",
      "  self.n_iter_ = _check_optimize_result(\"lbfgs\", opt_res, self.max_iter)\n"
     ]
    },
    {
     "name": "stdout",
     "output_type": "stream",
     "text": [
      "[CV] END activation=identity, alpha=0.0001, early_stopping=True, learning_rate=constant, learning_rate_init=0.1, max_iter=10, n_iter_no_change=5, power_t=0.005, solver=sgd; total time=  28.3s\n",
      "[CV] END activation=identity, alpha=0.0001, early_stopping=True, learning_rate=constant, learning_rate_init=0.1, max_iter=10, n_iter_no_change=5, power_t=0.005, solver=lbfgs; total time=  30.7s\n"
     ]
    },
    {
     "name": "stderr",
     "output_type": "stream",
     "text": [
      "/Users/sebastianlopez/miniconda3/envs/maestriamatching/lib/python3.10/site-packages/sklearn/neural_network/_multilayer_perceptron.py:691: ConvergenceWarning: Stochastic Optimizer: Maximum iterations (10) reached and the optimization hasn't converged yet.\n",
      "  warnings.warn(\n"
     ]
    },
    {
     "name": "stdout",
     "output_type": "stream",
     "text": [
      "[CV] END activation=identity, alpha=0.0001, early_stopping=True, learning_rate=constant, learning_rate_init=0.1, max_iter=10, n_iter_no_change=5, power_t=0.005, solver=sgd; total time=  28.4s\n"
     ]
    },
    {
     "name": "stderr",
     "output_type": "stream",
     "text": [
      "/Users/sebastianlopez/miniconda3/envs/maestriamatching/lib/python3.10/site-packages/sklearn/neural_network/_multilayer_perceptron.py:691: ConvergenceWarning: Stochastic Optimizer: Maximum iterations (10) reached and the optimization hasn't converged yet.\n",
      "  warnings.warn(\n"
     ]
    },
    {
     "name": "stdout",
     "output_type": "stream",
     "text": [
      "[CV] END activation=identity, alpha=0.0001, early_stopping=True, learning_rate=constant, learning_rate_init=0.1, max_iter=10, n_iter_no_change=5, power_t=0.005, solver=adam; total time=  30.5s\n"
     ]
    },
    {
     "name": "stderr",
     "output_type": "stream",
     "text": [
      "/Users/sebastianlopez/miniconda3/envs/maestriamatching/lib/python3.10/site-packages/sklearn/neural_network/_multilayer_perceptron.py:691: ConvergenceWarning: Stochastic Optimizer: Maximum iterations (10) reached and the optimization hasn't converged yet.\n",
      "  warnings.warn(\n"
     ]
    },
    {
     "name": "stdout",
     "output_type": "stream",
     "text": [
      "[CV] END activation=identity, alpha=0.0001, early_stopping=True, learning_rate=constant, learning_rate_init=0.1, max_iter=10, n_iter_no_change=5, power_t=0.005, solver=adam; total time=  30.6s\n"
     ]
    },
    {
     "name": "stderr",
     "output_type": "stream",
     "text": [
      "/Users/sebastianlopez/miniconda3/envs/maestriamatching/lib/python3.10/site-packages/sklearn/neural_network/_multilayer_perceptron.py:691: ConvergenceWarning: Stochastic Optimizer: Maximum iterations (10) reached and the optimization hasn't converged yet.\n",
      "  warnings.warn(\n"
     ]
    },
    {
     "name": "stdout",
     "output_type": "stream",
     "text": [
      "[CV] END activation=identity, alpha=0.0001, early_stopping=True, learning_rate=constant, learning_rate_init=0.1, max_iter=10, n_iter_no_change=5, power_t=0.005, solver=adam; total time=  30.5s\n"
     ]
    },
    {
     "name": "stderr",
     "output_type": "stream",
     "text": [
      "/Users/sebastianlopez/miniconda3/envs/maestriamatching/lib/python3.10/site-packages/sklearn/neural_network/_multilayer_perceptron.py:546: ConvergenceWarning: lbfgs failed to converge (status=1):\n",
      "STOP: TOTAL NO. of ITERATIONS REACHED LIMIT.\n",
      "\n",
      "Increase the number of iterations (max_iter) or scale the data as shown in:\n",
      "    https://scikit-learn.org/stable/modules/preprocessing.html\n",
      "  self.n_iter_ = _check_optimize_result(\"lbfgs\", opt_res, self.max_iter)\n"
     ]
    },
    {
     "name": "stdout",
     "output_type": "stream",
     "text": [
      "[CV] END activation=identity, alpha=0.0001, early_stopping=True, learning_rate=constant, learning_rate_init=0.1, max_iter=20, n_iter_no_change=5, power_t=0.5, solver=lbfgs; total time=  47.6s\n"
     ]
    },
    {
     "name": "stderr",
     "output_type": "stream",
     "text": [
      "/Users/sebastianlopez/miniconda3/envs/maestriamatching/lib/python3.10/site-packages/sklearn/neural_network/_multilayer_perceptron.py:546: ConvergenceWarning: lbfgs failed to converge (status=1):\n",
      "STOP: TOTAL NO. of ITERATIONS REACHED LIMIT.\n",
      "\n",
      "Increase the number of iterations (max_iter) or scale the data as shown in:\n",
      "    https://scikit-learn.org/stable/modules/preprocessing.html\n",
      "  self.n_iter_ = _check_optimize_result(\"lbfgs\", opt_res, self.max_iter)\n"
     ]
    },
    {
     "name": "stdout",
     "output_type": "stream",
     "text": [
      "[CV] END activation=identity, alpha=0.0001, early_stopping=True, learning_rate=constant, learning_rate_init=0.1, max_iter=20, n_iter_no_change=5, power_t=0.5, solver=lbfgs; total time=  47.6s\n",
      "[CV] END activation=identity, alpha=0.0001, early_stopping=True, learning_rate=constant, learning_rate_init=0.1, max_iter=20, n_iter_no_change=5, power_t=0.5, solver=sgd; total time=  43.9s\n"
     ]
    },
    {
     "name": "stderr",
     "output_type": "stream",
     "text": [
      "/Users/sebastianlopez/miniconda3/envs/maestriamatching/lib/python3.10/site-packages/sklearn/neural_network/_multilayer_perceptron.py:546: ConvergenceWarning: lbfgs failed to converge (status=1):\n",
      "STOP: TOTAL NO. of ITERATIONS REACHED LIMIT.\n",
      "\n",
      "Increase the number of iterations (max_iter) or scale the data as shown in:\n",
      "    https://scikit-learn.org/stable/modules/preprocessing.html\n",
      "  self.n_iter_ = _check_optimize_result(\"lbfgs\", opt_res, self.max_iter)\n"
     ]
    },
    {
     "name": "stdout",
     "output_type": "stream",
     "text": [
      "[CV] END activation=identity, alpha=0.0001, early_stopping=True, learning_rate=constant, learning_rate_init=0.1, max_iter=20, n_iter_no_change=5, power_t=0.5, solver=lbfgs; total time=  51.6s\n",
      "[CV] END activation=identity, alpha=0.0001, early_stopping=True, learning_rate=constant, learning_rate_init=0.1, max_iter=20, n_iter_no_change=5, power_t=0.5, solver=sgd; total time=  49.6s\n",
      "[CV] END activation=identity, alpha=0.0001, early_stopping=True, learning_rate=constant, learning_rate_init=0.1, max_iter=20, n_iter_no_change=5, power_t=0.5, solver=adam; total time=  48.1s\n"
     ]
    },
    {
     "name": "stderr",
     "output_type": "stream",
     "text": [
      "/Users/sebastianlopez/miniconda3/envs/maestriamatching/lib/python3.10/site-packages/sklearn/neural_network/_multilayer_perceptron.py:691: ConvergenceWarning: Stochastic Optimizer: Maximum iterations (20) reached and the optimization hasn't converged yet.\n",
      "  warnings.warn(\n"
     ]
    },
    {
     "name": "stdout",
     "output_type": "stream",
     "text": [
      "[CV] END activation=identity, alpha=0.0001, early_stopping=True, learning_rate=constant, learning_rate_init=0.1, max_iter=20, n_iter_no_change=5, power_t=0.5, solver=sgd; total time=  55.9s\n"
     ]
    },
    {
     "name": "stderr",
     "output_type": "stream",
     "text": [
      "/Users/sebastianlopez/miniconda3/envs/maestriamatching/lib/python3.10/site-packages/sklearn/neural_network/_multilayer_perceptron.py:546: ConvergenceWarning: lbfgs failed to converge (status=1):\n",
      "STOP: TOTAL NO. of ITERATIONS REACHED LIMIT.\n",
      "\n",
      "Increase the number of iterations (max_iter) or scale the data as shown in:\n",
      "    https://scikit-learn.org/stable/modules/preprocessing.html\n",
      "  self.n_iter_ = _check_optimize_result(\"lbfgs\", opt_res, self.max_iter)\n"
     ]
    },
    {
     "name": "stdout",
     "output_type": "stream",
     "text": [
      "[CV] END activation=identity, alpha=0.0001, early_stopping=True, learning_rate=constant, learning_rate_init=0.1, max_iter=20, n_iter_no_change=5, power_t=0.1, solver=lbfgs; total time=  47.8s\n",
      "[CV] END activation=identity, alpha=0.0001, early_stopping=True, learning_rate=constant, learning_rate_init=0.1, max_iter=20, n_iter_no_change=5, power_t=0.5, solver=adam; total time= 1.0min\n"
     ]
    },
    {
     "name": "stderr",
     "output_type": "stream",
     "text": [
      "/Users/sebastianlopez/miniconda3/envs/maestriamatching/lib/python3.10/site-packages/sklearn/neural_network/_multilayer_perceptron.py:691: ConvergenceWarning: Stochastic Optimizer: Maximum iterations (20) reached and the optimization hasn't converged yet.\n",
      "  warnings.warn(\n"
     ]
    },
    {
     "name": "stdout",
     "output_type": "stream",
     "text": [
      "[CV] END activation=identity, alpha=0.0001, early_stopping=True, learning_rate=constant, learning_rate_init=0.1, max_iter=20, n_iter_no_change=5, power_t=0.5, solver=adam; total time= 1.0min\n"
     ]
    },
    {
     "name": "stderr",
     "output_type": "stream",
     "text": [
      "/Users/sebastianlopez/miniconda3/envs/maestriamatching/lib/python3.10/site-packages/sklearn/neural_network/_multilayer_perceptron.py:546: ConvergenceWarning: lbfgs failed to converge (status=1):\n",
      "STOP: TOTAL NO. of ITERATIONS REACHED LIMIT.\n",
      "\n",
      "Increase the number of iterations (max_iter) or scale the data as shown in:\n",
      "    https://scikit-learn.org/stable/modules/preprocessing.html\n",
      "  self.n_iter_ = _check_optimize_result(\"lbfgs\", opt_res, self.max_iter)\n"
     ]
    },
    {
     "name": "stdout",
     "output_type": "stream",
     "text": [
      "[CV] END activation=identity, alpha=0.0001, early_stopping=True, learning_rate=constant, learning_rate_init=0.1, max_iter=20, n_iter_no_change=5, power_t=0.1, solver=lbfgs; total time=  47.5s\n",
      "[CV] END activation=identity, alpha=0.0001, early_stopping=True, learning_rate=constant, learning_rate_init=0.1, max_iter=20, n_iter_no_change=5, power_t=0.1, solver=sgd; total time=  33.5s\n"
     ]
    },
    {
     "name": "stderr",
     "output_type": "stream",
     "text": [
      "/Users/sebastianlopez/miniconda3/envs/maestriamatching/lib/python3.10/site-packages/sklearn/neural_network/_multilayer_perceptron.py:546: ConvergenceWarning: lbfgs failed to converge (status=1):\n",
      "STOP: TOTAL NO. of ITERATIONS REACHED LIMIT.\n",
      "\n",
      "Increase the number of iterations (max_iter) or scale the data as shown in:\n",
      "    https://scikit-learn.org/stable/modules/preprocessing.html\n",
      "  self.n_iter_ = _check_optimize_result(\"lbfgs\", opt_res, self.max_iter)\n"
     ]
    },
    {
     "name": "stdout",
     "output_type": "stream",
     "text": [
      "[CV] END activation=identity, alpha=0.0001, early_stopping=True, learning_rate=constant, learning_rate_init=0.1, max_iter=20, n_iter_no_change=5, power_t=0.1, solver=lbfgs; total time=  49.8s\n",
      "[CV] END activation=identity, alpha=0.0001, early_stopping=True, learning_rate=constant, learning_rate_init=0.1, max_iter=20, n_iter_no_change=5, power_t=0.1, solver=sgd; total time=  55.4s\n"
     ]
    },
    {
     "name": "stderr",
     "output_type": "stream",
     "text": [
      "/Users/sebastianlopez/miniconda3/envs/maestriamatching/lib/python3.10/site-packages/sklearn/neural_network/_multilayer_perceptron.py:691: ConvergenceWarning: Stochastic Optimizer: Maximum iterations (20) reached and the optimization hasn't converged yet.\n",
      "  warnings.warn(\n"
     ]
    },
    {
     "name": "stdout",
     "output_type": "stream",
     "text": [
      "[CV] END activation=identity, alpha=0.0001, early_stopping=True, learning_rate=constant, learning_rate_init=0.1, max_iter=20, n_iter_no_change=5, power_t=0.1, solver=sgd; total time=  54.7s\n"
     ]
    },
    {
     "name": "stderr",
     "output_type": "stream",
     "text": [
      "/Users/sebastianlopez/miniconda3/envs/maestriamatching/lib/python3.10/site-packages/sklearn/neural_network/_multilayer_perceptron.py:546: ConvergenceWarning: lbfgs failed to converge (status=1):\n",
      "STOP: TOTAL NO. of ITERATIONS REACHED LIMIT.\n",
      "\n",
      "Increase the number of iterations (max_iter) or scale the data as shown in:\n",
      "    https://scikit-learn.org/stable/modules/preprocessing.html\n",
      "  self.n_iter_ = _check_optimize_result(\"lbfgs\", opt_res, self.max_iter)\n"
     ]
    },
    {
     "name": "stdout",
     "output_type": "stream",
     "text": [
      "[CV] END activation=identity, alpha=0.0001, early_stopping=True, learning_rate=constant, learning_rate_init=0.1, max_iter=20, n_iter_no_change=5, power_t=0.9, solver=lbfgs; total time=  46.1s\n"
     ]
    },
    {
     "name": "stderr",
     "output_type": "stream",
     "text": [
      "/Users/sebastianlopez/miniconda3/envs/maestriamatching/lib/python3.10/site-packages/sklearn/neural_network/_multilayer_perceptron.py:691: ConvergenceWarning: Stochastic Optimizer: Maximum iterations (20) reached and the optimization hasn't converged yet.\n",
      "  warnings.warn(\n"
     ]
    },
    {
     "name": "stdout",
     "output_type": "stream",
     "text": [
      "[CV] END activation=identity, alpha=0.0001, early_stopping=True, learning_rate=constant, learning_rate_init=0.1, max_iter=20, n_iter_no_change=5, power_t=0.1, solver=adam; total time=  55.9s\n",
      "[CV] END activation=identity, alpha=0.0001, early_stopping=True, learning_rate=constant, learning_rate_init=0.1, max_iter=20, n_iter_no_change=5, power_t=0.1, solver=adam; total time=  59.2s\n"
     ]
    },
    {
     "name": "stderr",
     "output_type": "stream",
     "text": [
      "/Users/sebastianlopez/miniconda3/envs/maestriamatching/lib/python3.10/site-packages/sklearn/neural_network/_multilayer_perceptron.py:546: ConvergenceWarning: lbfgs failed to converge (status=1):\n",
      "STOP: TOTAL NO. of ITERATIONS REACHED LIMIT.\n",
      "\n",
      "Increase the number of iterations (max_iter) or scale the data as shown in:\n",
      "    https://scikit-learn.org/stable/modules/preprocessing.html\n",
      "  self.n_iter_ = _check_optimize_result(\"lbfgs\", opt_res, self.max_iter)\n"
     ]
    },
    {
     "name": "stdout",
     "output_type": "stream",
     "text": [
      "[CV] END activation=identity, alpha=0.0001, early_stopping=True, learning_rate=constant, learning_rate_init=0.1, max_iter=20, n_iter_no_change=5, power_t=0.9, solver=lbfgs; total time=  47.9s\n",
      "[CV] END activation=identity, alpha=0.0001, early_stopping=True, learning_rate=constant, learning_rate_init=0.1, max_iter=20, n_iter_no_change=5, power_t=0.9, solver=sgd; total time=  45.0s\n"
     ]
    },
    {
     "name": "stderr",
     "output_type": "stream",
     "text": [
      "/Users/sebastianlopez/miniconda3/envs/maestriamatching/lib/python3.10/site-packages/sklearn/neural_network/_multilayer_perceptron.py:546: ConvergenceWarning: lbfgs failed to converge (status=1):\n",
      "STOP: TOTAL NO. of ITERATIONS REACHED LIMIT.\n",
      "\n",
      "Increase the number of iterations (max_iter) or scale the data as shown in:\n",
      "    https://scikit-learn.org/stable/modules/preprocessing.html\n",
      "  self.n_iter_ = _check_optimize_result(\"lbfgs\", opt_res, self.max_iter)\n"
     ]
    },
    {
     "name": "stdout",
     "output_type": "stream",
     "text": [
      "[CV] END activation=identity, alpha=0.0001, early_stopping=True, learning_rate=constant, learning_rate_init=0.1, max_iter=20, n_iter_no_change=5, power_t=0.9, solver=lbfgs; total time=  48.0s\n"
     ]
    },
    {
     "name": "stderr",
     "output_type": "stream",
     "text": [
      "/Users/sebastianlopez/miniconda3/envs/maestriamatching/lib/python3.10/site-packages/sklearn/neural_network/_multilayer_perceptron.py:691: ConvergenceWarning: Stochastic Optimizer: Maximum iterations (20) reached and the optimization hasn't converged yet.\n",
      "  warnings.warn(\n"
     ]
    },
    {
     "name": "stdout",
     "output_type": "stream",
     "text": [
      "[CV] END activation=identity, alpha=0.0001, early_stopping=True, learning_rate=constant, learning_rate_init=0.1, max_iter=20, n_iter_no_change=5, power_t=0.1, solver=adam; total time=  58.6s\n",
      "[CV] END activation=identity, alpha=0.0001, early_stopping=True, learning_rate=constant, learning_rate_init=0.1, max_iter=20, n_iter_no_change=5, power_t=0.9, solver=sgd; total time=  42.3s\n"
     ]
    },
    {
     "name": "stderr",
     "output_type": "stream",
     "text": [
      "/Users/sebastianlopez/miniconda3/envs/maestriamatching/lib/python3.10/site-packages/sklearn/neural_network/_multilayer_perceptron.py:691: ConvergenceWarning: Stochastic Optimizer: Maximum iterations (20) reached and the optimization hasn't converged yet.\n",
      "  warnings.warn(\n"
     ]
    },
    {
     "name": "stdout",
     "output_type": "stream",
     "text": [
      "[CV] END activation=identity, alpha=0.0001, early_stopping=True, learning_rate=constant, learning_rate_init=0.1, max_iter=20, n_iter_no_change=5, power_t=0.9, solver=sgd; total time=  52.1s\n",
      "[CV] END activation=identity, alpha=0.0001, early_stopping=True, learning_rate=constant, learning_rate_init=0.1, max_iter=20, n_iter_no_change=5, power_t=0.9, solver=adam; total time=  37.5s\n",
      "[CV] END activation=identity, alpha=0.0001, early_stopping=True, learning_rate=constant, learning_rate_init=0.1, max_iter=20, n_iter_no_change=5, power_t=0.001, solver=sgd; total time=  31.5s\n",
      "[CV] END activation=identity, alpha=0.0001, early_stopping=True, learning_rate=constant, learning_rate_init=0.1, max_iter=20, n_iter_no_change=5, power_t=0.9, solver=adam; total time=  51.0s\n",
      "[CV] END activation=identity, alpha=0.0001, early_stopping=True, learning_rate=constant, learning_rate_init=0.1, max_iter=20, n_iter_no_change=5, power_t=0.9, solver=adam; total time=  54.6s\n"
     ]
    },
    {
     "name": "stderr",
     "output_type": "stream",
     "text": [
      "/Users/sebastianlopez/miniconda3/envs/maestriamatching/lib/python3.10/site-packages/sklearn/neural_network/_multilayer_perceptron.py:546: ConvergenceWarning: lbfgs failed to converge (status=1):\n",
      "STOP: TOTAL NO. of ITERATIONS REACHED LIMIT.\n",
      "\n",
      "Increase the number of iterations (max_iter) or scale the data as shown in:\n",
      "    https://scikit-learn.org/stable/modules/preprocessing.html\n",
      "  self.n_iter_ = _check_optimize_result(\"lbfgs\", opt_res, self.max_iter)\n"
     ]
    },
    {
     "name": "stdout",
     "output_type": "stream",
     "text": [
      "[CV] END activation=identity, alpha=0.0001, early_stopping=True, learning_rate=constant, learning_rate_init=0.1, max_iter=20, n_iter_no_change=5, power_t=0.001, solver=lbfgs; total time=  47.2s\n"
     ]
    },
    {
     "name": "stderr",
     "output_type": "stream",
     "text": [
      "/Users/sebastianlopez/miniconda3/envs/maestriamatching/lib/python3.10/site-packages/sklearn/neural_network/_multilayer_perceptron.py:546: ConvergenceWarning: lbfgs failed to converge (status=1):\n",
      "STOP: TOTAL NO. of ITERATIONS REACHED LIMIT.\n",
      "\n",
      "Increase the number of iterations (max_iter) or scale the data as shown in:\n",
      "    https://scikit-learn.org/stable/modules/preprocessing.html\n",
      "  self.n_iter_ = _check_optimize_result(\"lbfgs\", opt_res, self.max_iter)\n"
     ]
    },
    {
     "name": "stdout",
     "output_type": "stream",
     "text": [
      "[CV] END activation=identity, alpha=0.0001, early_stopping=True, learning_rate=constant, learning_rate_init=0.1, max_iter=20, n_iter_no_change=5, power_t=0.001, solver=lbfgs; total time=  53.1s\n"
     ]
    },
    {
     "name": "stderr",
     "output_type": "stream",
     "text": [
      "/Users/sebastianlopez/miniconda3/envs/maestriamatching/lib/python3.10/site-packages/sklearn/neural_network/_multilayer_perceptron.py:691: ConvergenceWarning: Stochastic Optimizer: Maximum iterations (20) reached and the optimization hasn't converged yet.\n",
      "  warnings.warn(\n"
     ]
    },
    {
     "name": "stdout",
     "output_type": "stream",
     "text": [
      "[CV] END activation=identity, alpha=0.0001, early_stopping=True, learning_rate=constant, learning_rate_init=0.1, max_iter=20, n_iter_no_change=5, power_t=0.001, solver=sgd; total time=  51.7s\n"
     ]
    },
    {
     "name": "stderr",
     "output_type": "stream",
     "text": [
      "/Users/sebastianlopez/miniconda3/envs/maestriamatching/lib/python3.10/site-packages/sklearn/neural_network/_multilayer_perceptron.py:546: ConvergenceWarning: lbfgs failed to converge (status=1):\n",
      "STOP: TOTAL NO. of ITERATIONS REACHED LIMIT.\n",
      "\n",
      "Increase the number of iterations (max_iter) or scale the data as shown in:\n",
      "    https://scikit-learn.org/stable/modules/preprocessing.html\n",
      "  self.n_iter_ = _check_optimize_result(\"lbfgs\", opt_res, self.max_iter)\n",
      "/Users/sebastianlopez/miniconda3/envs/maestriamatching/lib/python3.10/site-packages/sklearn/neural_network/_multilayer_perceptron.py:691: ConvergenceWarning: Stochastic Optimizer: Maximum iterations (20) reached and the optimization hasn't converged yet.\n",
      "  warnings.warn(\n"
     ]
    },
    {
     "name": "stdout",
     "output_type": "stream",
     "text": [
      "[CV] END activation=identity, alpha=0.0001, early_stopping=True, learning_rate=constant, learning_rate_init=0.1, max_iter=20, n_iter_no_change=5, power_t=0.001, solver=lbfgs; total time=  53.3s\n",
      "[CV] END activation=identity, alpha=0.0001, early_stopping=True, learning_rate=constant, learning_rate_init=0.1, max_iter=20, n_iter_no_change=5, power_t=0.001, solver=sgd; total time=  52.0s\n",
      "[CV] END activation=identity, alpha=0.0001, early_stopping=True, learning_rate=constant, learning_rate_init=0.1, max_iter=20, n_iter_no_change=5, power_t=0.005, solver=sgd; total time=  21.5s\n",
      "[CV] END activation=identity, alpha=0.0001, early_stopping=True, learning_rate=constant, learning_rate_init=0.1, max_iter=20, n_iter_no_change=5, power_t=0.001, solver=adam; total time=  57.0s\n",
      "[CV] END activation=identity, alpha=0.0001, early_stopping=True, learning_rate=constant, learning_rate_init=0.1, max_iter=20, n_iter_no_change=5, power_t=0.001, solver=adam; total time=  40.5s\n"
     ]
    },
    {
     "name": "stderr",
     "output_type": "stream",
     "text": [
      "/Users/sebastianlopez/miniconda3/envs/maestriamatching/lib/python3.10/site-packages/sklearn/neural_network/_multilayer_perceptron.py:691: ConvergenceWarning: Stochastic Optimizer: Maximum iterations (20) reached and the optimization hasn't converged yet.\n",
      "  warnings.warn(\n"
     ]
    },
    {
     "name": "stdout",
     "output_type": "stream",
     "text": [
      "[CV] END activation=identity, alpha=0.0001, early_stopping=True, learning_rate=constant, learning_rate_init=0.1, max_iter=20, n_iter_no_change=5, power_t=0.001, solver=adam; total time=  58.6s\n"
     ]
    },
    {
     "name": "stderr",
     "output_type": "stream",
     "text": [
      "/Users/sebastianlopez/miniconda3/envs/maestriamatching/lib/python3.10/site-packages/sklearn/neural_network/_multilayer_perceptron.py:546: ConvergenceWarning: lbfgs failed to converge (status=1):\n",
      "STOP: TOTAL NO. of ITERATIONS REACHED LIMIT.\n",
      "\n",
      "Increase the number of iterations (max_iter) or scale the data as shown in:\n",
      "    https://scikit-learn.org/stable/modules/preprocessing.html\n",
      "  self.n_iter_ = _check_optimize_result(\"lbfgs\", opt_res, self.max_iter)\n",
      "/Users/sebastianlopez/miniconda3/envs/maestriamatching/lib/python3.10/site-packages/sklearn/neural_network/_multilayer_perceptron.py:546: ConvergenceWarning: lbfgs failed to converge (status=1):\n",
      "STOP: TOTAL NO. of ITERATIONS REACHED LIMIT.\n",
      "\n",
      "Increase the number of iterations (max_iter) or scale the data as shown in:\n",
      "    https://scikit-learn.org/stable/modules/preprocessing.html\n",
      "  self.n_iter_ = _check_optimize_result(\"lbfgs\", opt_res, self.max_iter)\n"
     ]
    },
    {
     "name": "stdout",
     "output_type": "stream",
     "text": [
      "[CV] END activation=identity, alpha=0.0001, early_stopping=True, learning_rate=constant, learning_rate_init=0.1, max_iter=20, n_iter_no_change=5, power_t=0.005, solver=sgd; total time=  36.5s\n",
      "[CV] END activation=identity, alpha=0.0001, early_stopping=True, learning_rate=constant, learning_rate_init=0.1, max_iter=20, n_iter_no_change=5, power_t=0.005, solver=lbfgs; total time=  52.0s\n",
      "[CV] END activation=identity, alpha=0.0001, early_stopping=True, learning_rate=constant, learning_rate_init=0.1, max_iter=20, n_iter_no_change=5, power_t=0.005, solver=lbfgs; total time=  50.4s\n",
      "[CV] END activation=identity, alpha=0.0001, early_stopping=True, learning_rate=constant, learning_rate_init=0.1, max_iter=20, n_iter_no_change=5, power_t=0.005, solver=sgd; total time=  39.8s\n"
     ]
    },
    {
     "name": "stderr",
     "output_type": "stream",
     "text": [
      "/Users/sebastianlopez/miniconda3/envs/maestriamatching/lib/python3.10/site-packages/sklearn/neural_network/_multilayer_perceptron.py:546: ConvergenceWarning: lbfgs failed to converge (status=1):\n",
      "STOP: TOTAL NO. of ITERATIONS REACHED LIMIT.\n",
      "\n",
      "Increase the number of iterations (max_iter) or scale the data as shown in:\n",
      "    https://scikit-learn.org/stable/modules/preprocessing.html\n",
      "  self.n_iter_ = _check_optimize_result(\"lbfgs\", opt_res, self.max_iter)\n"
     ]
    },
    {
     "name": "stdout",
     "output_type": "stream",
     "text": [
      "[CV] END activation=identity, alpha=0.0001, early_stopping=True, learning_rate=constant, learning_rate_init=0.1, max_iter=20, n_iter_no_change=5, power_t=0.005, solver=lbfgs; total time=  53.3s\n",
      "[CV] END activation=identity, alpha=0.0001, early_stopping=True, learning_rate=constant, learning_rate_init=0.1, max_iter=20, n_iter_no_change=5, power_t=0.005, solver=adam; total time=  43.5s\n",
      "[CV] END activation=identity, alpha=0.0001, early_stopping=True, learning_rate=constant, learning_rate_init=0.1, max_iter=20, n_iter_no_change=5, power_t=0.005, solver=adam; total time=  46.5s\n"
     ]
    },
    {
     "name": "stderr",
     "output_type": "stream",
     "text": [
      "/Users/sebastianlopez/miniconda3/envs/maestriamatching/lib/python3.10/site-packages/sklearn/neural_network/_multilayer_perceptron.py:691: ConvergenceWarning: Stochastic Optimizer: Maximum iterations (20) reached and the optimization hasn't converged yet.\n",
      "  warnings.warn(\n"
     ]
    },
    {
     "name": "stdout",
     "output_type": "stream",
     "text": [
      "[CV] END activation=identity, alpha=0.0001, early_stopping=True, learning_rate=constant, learning_rate_init=0.1, max_iter=20, n_iter_no_change=5, power_t=0.005, solver=adam; total time= 1.1min\n",
      "[CV] END activation=identity, alpha=0.0001, early_stopping=True, learning_rate=constant, learning_rate_init=0.1, max_iter=50, n_iter_no_change=5, power_t=0.5, solver=sgd; total time=  43.6s\n",
      "[CV] END activation=identity, alpha=0.0001, early_stopping=True, learning_rate=constant, learning_rate_init=0.1, max_iter=50, n_iter_no_change=5, power_t=0.5, solver=adam; total time=  54.9s\n",
      "[CV] END activation=identity, alpha=0.0001, early_stopping=True, learning_rate=constant, learning_rate_init=0.1, max_iter=50, n_iter_no_change=5, power_t=0.5, solver=sgd; total time= 1.1min\n",
      "[CV] END activation=identity, alpha=0.0001, early_stopping=True, learning_rate=constant, learning_rate_init=0.1, max_iter=50, n_iter_no_change=5, power_t=0.5, solver=adam; total time= 1.1min\n",
      "[CV] END activation=identity, alpha=0.0001, early_stopping=True, learning_rate=constant, learning_rate_init=0.1, max_iter=50, n_iter_no_change=5, power_t=0.5, solver=adam; total time= 1.3min\n",
      "[CV] END activation=identity, alpha=0.0001, early_stopping=True, learning_rate=constant, learning_rate_init=0.1, max_iter=50, n_iter_no_change=5, power_t=0.5, solver=sgd; total time= 1.6min\n",
      "[CV] END activation=identity, alpha=0.0001, early_stopping=True, learning_rate=constant, learning_rate_init=0.1, max_iter=50, n_iter_no_change=5, power_t=0.1, solver=sgd; total time=  25.6s\n",
      "[CV] END activation=identity, alpha=0.0001, early_stopping=True, learning_rate=constant, learning_rate_init=0.1, max_iter=50, n_iter_no_change=5, power_t=0.1, solver=sgd; total time=  44.0s\n"
     ]
    },
    {
     "name": "stderr",
     "output_type": "stream",
     "text": [
      "/Users/sebastianlopez/miniconda3/envs/maestriamatching/lib/python3.10/site-packages/sklearn/neural_network/_multilayer_perceptron.py:546: ConvergenceWarning: lbfgs failed to converge (status=1):\n",
      "STOP: TOTAL NO. of ITERATIONS REACHED LIMIT.\n",
      "\n",
      "Increase the number of iterations (max_iter) or scale the data as shown in:\n",
      "    https://scikit-learn.org/stable/modules/preprocessing.html\n",
      "  self.n_iter_ = _check_optimize_result(\"lbfgs\", opt_res, self.max_iter)\n"
     ]
    },
    {
     "name": "stdout",
     "output_type": "stream",
     "text": [
      "[CV] END activation=identity, alpha=0.0001, early_stopping=True, learning_rate=constant, learning_rate_init=0.1, max_iter=50, n_iter_no_change=5, power_t=0.5, solver=lbfgs; total time= 2.1min\n",
      "[CV] END activation=identity, alpha=0.0001, early_stopping=True, learning_rate=constant, learning_rate_init=0.1, max_iter=50, n_iter_no_change=5, power_t=0.1, solver=sgd; total time=  43.1s\n"
     ]
    },
    {
     "name": "stderr",
     "output_type": "stream",
     "text": [
      "/Users/sebastianlopez/miniconda3/envs/maestriamatching/lib/python3.10/site-packages/sklearn/neural_network/_multilayer_perceptron.py:546: ConvergenceWarning: lbfgs failed to converge (status=1):\n",
      "STOP: TOTAL NO. of ITERATIONS REACHED LIMIT.\n",
      "\n",
      "Increase the number of iterations (max_iter) or scale the data as shown in:\n",
      "    https://scikit-learn.org/stable/modules/preprocessing.html\n",
      "  self.n_iter_ = _check_optimize_result(\"lbfgs\", opt_res, self.max_iter)\n"
     ]
    },
    {
     "name": "stdout",
     "output_type": "stream",
     "text": [
      "[CV] END activation=identity, alpha=0.0001, early_stopping=True, learning_rate=constant, learning_rate_init=0.1, max_iter=50, n_iter_no_change=5, power_t=0.5, solver=lbfgs; total time= 2.1min\n"
     ]
    },
    {
     "name": "stderr",
     "output_type": "stream",
     "text": [
      "/Users/sebastianlopez/miniconda3/envs/maestriamatching/lib/python3.10/site-packages/sklearn/neural_network/_multilayer_perceptron.py:546: ConvergenceWarning: lbfgs failed to converge (status=1):\n",
      "STOP: TOTAL NO. of ITERATIONS REACHED LIMIT.\n",
      "\n",
      "Increase the number of iterations (max_iter) or scale the data as shown in:\n",
      "    https://scikit-learn.org/stable/modules/preprocessing.html\n",
      "  self.n_iter_ = _check_optimize_result(\"lbfgs\", opt_res, self.max_iter)\n"
     ]
    },
    {
     "name": "stdout",
     "output_type": "stream",
     "text": [
      "[CV] END activation=identity, alpha=0.0001, early_stopping=True, learning_rate=constant, learning_rate_init=0.1, max_iter=50, n_iter_no_change=5, power_t=0.5, solver=lbfgs; total time= 2.0min\n",
      "[CV] END activation=identity, alpha=0.0001, early_stopping=True, learning_rate=constant, learning_rate_init=0.1, max_iter=50, n_iter_no_change=5, power_t=0.1, solver=adam; total time=  41.3s\n"
     ]
    },
    {
     "name": "stderr",
     "output_type": "stream",
     "text": [
      "/Users/sebastianlopez/miniconda3/envs/maestriamatching/lib/python3.10/site-packages/sklearn/neural_network/_multilayer_perceptron.py:546: ConvergenceWarning: lbfgs failed to converge (status=1):\n",
      "STOP: TOTAL NO. of ITERATIONS REACHED LIMIT.\n",
      "\n",
      "Increase the number of iterations (max_iter) or scale the data as shown in:\n",
      "    https://scikit-learn.org/stable/modules/preprocessing.html\n",
      "  self.n_iter_ = _check_optimize_result(\"lbfgs\", opt_res, self.max_iter)\n"
     ]
    },
    {
     "name": "stdout",
     "output_type": "stream",
     "text": [
      "[CV] END activation=identity, alpha=0.0001, early_stopping=True, learning_rate=constant, learning_rate_init=0.1, max_iter=50, n_iter_no_change=5, power_t=0.1, solver=adam; total time=  48.4s\n",
      "[CV] END activation=identity, alpha=0.0001, early_stopping=True, learning_rate=constant, learning_rate_init=0.1, max_iter=50, n_iter_no_change=5, power_t=0.1, solver=lbfgs; total time= 2.0min\n",
      "[CV] END activation=identity, alpha=0.0001, early_stopping=True, learning_rate=constant, learning_rate_init=0.1, max_iter=50, n_iter_no_change=5, power_t=0.1, solver=adam; total time= 1.0min\n"
     ]
    },
    {
     "name": "stderr",
     "output_type": "stream",
     "text": [
      "/Users/sebastianlopez/miniconda3/envs/maestriamatching/lib/python3.10/site-packages/sklearn/neural_network/_multilayer_perceptron.py:546: ConvergenceWarning: lbfgs failed to converge (status=1):\n",
      "STOP: TOTAL NO. of ITERATIONS REACHED LIMIT.\n",
      "\n",
      "Increase the number of iterations (max_iter) or scale the data as shown in:\n",
      "    https://scikit-learn.org/stable/modules/preprocessing.html\n",
      "  self.n_iter_ = _check_optimize_result(\"lbfgs\", opt_res, self.max_iter)\n"
     ]
    },
    {
     "name": "stdout",
     "output_type": "stream",
     "text": [
      "[CV] END activation=identity, alpha=0.0001, early_stopping=True, learning_rate=constant, learning_rate_init=0.1, max_iter=50, n_iter_no_change=5, power_t=0.1, solver=lbfgs; total time= 2.1min\n",
      "[CV] END activation=identity, alpha=0.0001, early_stopping=True, learning_rate=constant, learning_rate_init=0.1, max_iter=50, n_iter_no_change=5, power_t=0.9, solver=sgd; total time=  44.9s\n"
     ]
    },
    {
     "name": "stderr",
     "output_type": "stream",
     "text": [
      "/Users/sebastianlopez/miniconda3/envs/maestriamatching/lib/python3.10/site-packages/sklearn/neural_network/_multilayer_perceptron.py:546: ConvergenceWarning: lbfgs failed to converge (status=1):\n",
      "STOP: TOTAL NO. of ITERATIONS REACHED LIMIT.\n",
      "\n",
      "Increase the number of iterations (max_iter) or scale the data as shown in:\n",
      "    https://scikit-learn.org/stable/modules/preprocessing.html\n",
      "  self.n_iter_ = _check_optimize_result(\"lbfgs\", opt_res, self.max_iter)\n"
     ]
    },
    {
     "name": "stdout",
     "output_type": "stream",
     "text": [
      "[CV] END activation=identity, alpha=0.0001, early_stopping=True, learning_rate=constant, learning_rate_init=0.1, max_iter=50, n_iter_no_change=5, power_t=0.1, solver=lbfgs; total time= 2.0min\n",
      "[CV] END activation=identity, alpha=0.0001, early_stopping=True, learning_rate=constant, learning_rate_init=0.1, max_iter=50, n_iter_no_change=5, power_t=0.9, solver=sgd; total time=  49.0s\n",
      "[CV] END activation=identity, alpha=0.0001, early_stopping=True, learning_rate=constant, learning_rate_init=0.1, max_iter=50, n_iter_no_change=5, power_t=0.9, solver=adam; total time=  47.5s\n",
      "[CV] END activation=identity, alpha=0.0001, early_stopping=True, learning_rate=constant, learning_rate_init=0.1, max_iter=50, n_iter_no_change=5, power_t=0.9, solver=adam; total time=  55.9s\n",
      "[CV] END activation=identity, alpha=0.0001, early_stopping=True, learning_rate=constant, learning_rate_init=0.1, max_iter=50, n_iter_no_change=5, power_t=0.9, solver=adam; total time=  58.7s\n",
      "[CV] END activation=identity, alpha=0.0001, early_stopping=True, learning_rate=constant, learning_rate_init=0.1, max_iter=50, n_iter_no_change=5, power_t=0.9, solver=sgd; total time= 1.4min\n"
     ]
    },
    {
     "name": "stderr",
     "output_type": "stream",
     "text": [
      "/Users/sebastianlopez/miniconda3/envs/maestriamatching/lib/python3.10/site-packages/sklearn/neural_network/_multilayer_perceptron.py:546: ConvergenceWarning: lbfgs failed to converge (status=1):\n",
      "STOP: TOTAL NO. of ITERATIONS REACHED LIMIT.\n",
      "\n",
      "Increase the number of iterations (max_iter) or scale the data as shown in:\n",
      "    https://scikit-learn.org/stable/modules/preprocessing.html\n",
      "  self.n_iter_ = _check_optimize_result(\"lbfgs\", opt_res, self.max_iter)\n"
     ]
    },
    {
     "name": "stdout",
     "output_type": "stream",
     "text": [
      "[CV] END activation=identity, alpha=0.0001, early_stopping=True, learning_rate=constant, learning_rate_init=0.1, max_iter=50, n_iter_no_change=5, power_t=0.9, solver=lbfgs; total time= 1.9min\n"
     ]
    },
    {
     "name": "stderr",
     "output_type": "stream",
     "text": [
      "/Users/sebastianlopez/miniconda3/envs/maestriamatching/lib/python3.10/site-packages/sklearn/neural_network/_multilayer_perceptron.py:546: ConvergenceWarning: lbfgs failed to converge (status=1):\n",
      "STOP: TOTAL NO. of ITERATIONS REACHED LIMIT.\n",
      "\n",
      "Increase the number of iterations (max_iter) or scale the data as shown in:\n",
      "    https://scikit-learn.org/stable/modules/preprocessing.html\n",
      "  self.n_iter_ = _check_optimize_result(\"lbfgs\", opt_res, self.max_iter)\n"
     ]
    },
    {
     "name": "stdout",
     "output_type": "stream",
     "text": [
      "[CV] END activation=identity, alpha=0.0001, early_stopping=True, learning_rate=constant, learning_rate_init=0.1, max_iter=50, n_iter_no_change=5, power_t=0.9, solver=lbfgs; total time= 2.0min\n"
     ]
    },
    {
     "name": "stderr",
     "output_type": "stream",
     "text": [
      "/Users/sebastianlopez/miniconda3/envs/maestriamatching/lib/python3.10/site-packages/sklearn/neural_network/_multilayer_perceptron.py:546: ConvergenceWarning: lbfgs failed to converge (status=1):\n",
      "STOP: TOTAL NO. of ITERATIONS REACHED LIMIT.\n",
      "\n",
      "Increase the number of iterations (max_iter) or scale the data as shown in:\n",
      "    https://scikit-learn.org/stable/modules/preprocessing.html\n",
      "  self.n_iter_ = _check_optimize_result(\"lbfgs\", opt_res, self.max_iter)\n"
     ]
    },
    {
     "name": "stdout",
     "output_type": "stream",
     "text": [
      "[CV] END activation=identity, alpha=0.0001, early_stopping=True, learning_rate=constant, learning_rate_init=0.1, max_iter=50, n_iter_no_change=5, power_t=0.9, solver=lbfgs; total time= 2.0min\n",
      "[CV] END activation=identity, alpha=0.0001, early_stopping=True, learning_rate=constant, learning_rate_init=0.1, max_iter=50, n_iter_no_change=5, power_t=0.001, solver=sgd; total time=  58.3s\n",
      "[CV] END activation=identity, alpha=0.0001, early_stopping=True, learning_rate=constant, learning_rate_init=0.1, max_iter=50, n_iter_no_change=5, power_t=0.001, solver=adam; total time=  57.2s\n",
      "[CV] END activation=identity, alpha=0.0001, early_stopping=True, learning_rate=constant, learning_rate_init=0.1, max_iter=50, n_iter_no_change=5, power_t=0.001, solver=sgd; total time= 1.2min\n",
      "[CV] END activation=identity, alpha=0.0001, early_stopping=True, learning_rate=constant, learning_rate_init=0.1, max_iter=50, n_iter_no_change=5, power_t=0.001, solver=sgd; total time= 1.2min\n"
     ]
    },
    {
     "name": "stderr",
     "output_type": "stream",
     "text": [
      "/Users/sebastianlopez/miniconda3/envs/maestriamatching/lib/python3.10/site-packages/sklearn/neural_network/_multilayer_perceptron.py:546: ConvergenceWarning: lbfgs failed to converge (status=1):\n",
      "STOP: TOTAL NO. of ITERATIONS REACHED LIMIT.\n",
      "\n",
      "Increase the number of iterations (max_iter) or scale the data as shown in:\n",
      "    https://scikit-learn.org/stable/modules/preprocessing.html\n",
      "  self.n_iter_ = _check_optimize_result(\"lbfgs\", opt_res, self.max_iter)\n"
     ]
    },
    {
     "name": "stdout",
     "output_type": "stream",
     "text": [
      "[CV] END activation=identity, alpha=0.0001, early_stopping=True, learning_rate=constant, learning_rate_init=0.1, max_iter=50, n_iter_no_change=5, power_t=0.001, solver=adam; total time= 1.1min\n",
      "[CV] END activation=identity, alpha=0.0001, early_stopping=True, learning_rate=constant, learning_rate_init=0.1, max_iter=50, n_iter_no_change=5, power_t=0.001, solver=lbfgs; total time= 2.0min\n",
      "[CV] END activation=identity, alpha=0.0001, early_stopping=True, learning_rate=constant, learning_rate_init=0.1, max_iter=50, n_iter_no_change=5, power_t=0.001, solver=adam; total time=  58.5s\n"
     ]
    },
    {
     "name": "stderr",
     "output_type": "stream",
     "text": [
      "/Users/sebastianlopez/miniconda3/envs/maestriamatching/lib/python3.10/site-packages/sklearn/neural_network/_multilayer_perceptron.py:546: ConvergenceWarning: lbfgs failed to converge (status=1):\n",
      "STOP: TOTAL NO. of ITERATIONS REACHED LIMIT.\n",
      "\n",
      "Increase the number of iterations (max_iter) or scale the data as shown in:\n",
      "    https://scikit-learn.org/stable/modules/preprocessing.html\n",
      "  self.n_iter_ = _check_optimize_result(\"lbfgs\", opt_res, self.max_iter)\n"
     ]
    },
    {
     "name": "stdout",
     "output_type": "stream",
     "text": [
      "[CV] END activation=identity, alpha=0.0001, early_stopping=True, learning_rate=constant, learning_rate_init=0.1, max_iter=50, n_iter_no_change=5, power_t=0.001, solver=lbfgs; total time= 2.0min\n"
     ]
    },
    {
     "name": "stderr",
     "output_type": "stream",
     "text": [
      "/Users/sebastianlopez/miniconda3/envs/maestriamatching/lib/python3.10/site-packages/sklearn/neural_network/_multilayer_perceptron.py:546: ConvergenceWarning: lbfgs failed to converge (status=1):\n",
      "STOP: TOTAL NO. of ITERATIONS REACHED LIMIT.\n",
      "\n",
      "Increase the number of iterations (max_iter) or scale the data as shown in:\n",
      "    https://scikit-learn.org/stable/modules/preprocessing.html\n",
      "  self.n_iter_ = _check_optimize_result(\"lbfgs\", opt_res, self.max_iter)\n"
     ]
    },
    {
     "name": "stdout",
     "output_type": "stream",
     "text": [
      "[CV] END activation=identity, alpha=0.0001, early_stopping=True, learning_rate=constant, learning_rate_init=0.1, max_iter=50, n_iter_no_change=5, power_t=0.001, solver=lbfgs; total time= 2.1min\n"
     ]
    },
    {
     "name": "stderr",
     "output_type": "stream",
     "text": [
      "/Users/sebastianlopez/miniconda3/envs/maestriamatching/lib/python3.10/site-packages/sklearn/neural_network/_multilayer_perceptron.py:546: ConvergenceWarning: lbfgs failed to converge (status=1):\n",
      "STOP: TOTAL NO. of ITERATIONS REACHED LIMIT.\n",
      "\n",
      "Increase the number of iterations (max_iter) or scale the data as shown in:\n",
      "    https://scikit-learn.org/stable/modules/preprocessing.html\n",
      "  self.n_iter_ = _check_optimize_result(\"lbfgs\", opt_res, self.max_iter)\n"
     ]
    },
    {
     "name": "stdout",
     "output_type": "stream",
     "text": [
      "[CV] END activation=identity, alpha=0.0001, early_stopping=True, learning_rate=constant, learning_rate_init=1e-06, max_iter=5, n_iter_no_change=5, power_t=0.5, solver=lbfgs; total time=  20.1s\n"
     ]
    },
    {
     "name": "stderr",
     "output_type": "stream",
     "text": [
      "/Users/sebastianlopez/miniconda3/envs/maestriamatching/lib/python3.10/site-packages/sklearn/neural_network/_multilayer_perceptron.py:546: ConvergenceWarning: lbfgs failed to converge (status=1):\n",
      "STOP: TOTAL NO. of ITERATIONS REACHED LIMIT.\n",
      "\n",
      "Increase the number of iterations (max_iter) or scale the data as shown in:\n",
      "    https://scikit-learn.org/stable/modules/preprocessing.html\n",
      "  self.n_iter_ = _check_optimize_result(\"lbfgs\", opt_res, self.max_iter)\n"
     ]
    },
    {
     "name": "stdout",
     "output_type": "stream",
     "text": [
      "[CV] END activation=identity, alpha=0.0001, early_stopping=True, learning_rate=constant, learning_rate_init=1e-06, max_iter=5, n_iter_no_change=5, power_t=0.5, solver=lbfgs; total time=  15.8s\n",
      "[CV] END activation=identity, alpha=0.0001, early_stopping=True, learning_rate=constant, learning_rate_init=0.1, max_iter=50, n_iter_no_change=5, power_t=0.005, solver=sgd; total time=  51.9s\n",
      "[CV] END activation=identity, alpha=0.0001, early_stopping=True, learning_rate=constant, learning_rate_init=0.1, max_iter=50, n_iter_no_change=5, power_t=0.005, solver=sgd; total time=  54.4s\n"
     ]
    },
    {
     "name": "stderr",
     "output_type": "stream",
     "text": [
      "/Users/sebastianlopez/miniconda3/envs/maestriamatching/lib/python3.10/site-packages/sklearn/neural_network/_multilayer_perceptron.py:546: ConvergenceWarning: lbfgs failed to converge (status=1):\n",
      "STOP: TOTAL NO. of ITERATIONS REACHED LIMIT.\n",
      "\n",
      "Increase the number of iterations (max_iter) or scale the data as shown in:\n",
      "    https://scikit-learn.org/stable/modules/preprocessing.html\n",
      "  self.n_iter_ = _check_optimize_result(\"lbfgs\", opt_res, self.max_iter)\n"
     ]
    },
    {
     "name": "stdout",
     "output_type": "stream",
     "text": [
      "[CV] END activation=identity, alpha=0.0001, early_stopping=True, learning_rate=constant, learning_rate_init=1e-06, max_iter=5, n_iter_no_change=5, power_t=0.5, solver=lbfgs; total time=  15.4s\n"
     ]
    },
    {
     "name": "stderr",
     "output_type": "stream",
     "text": [
      "/Users/sebastianlopez/miniconda3/envs/maestriamatching/lib/python3.10/site-packages/sklearn/neural_network/_multilayer_perceptron.py:691: ConvergenceWarning: Stochastic Optimizer: Maximum iterations (5) reached and the optimization hasn't converged yet.\n",
      "  warnings.warn(\n"
     ]
    },
    {
     "name": "stdout",
     "output_type": "stream",
     "text": [
      "[CV] END activation=identity, alpha=0.0001, early_stopping=True, learning_rate=constant, learning_rate_init=1e-06, max_iter=5, n_iter_no_change=5, power_t=0.5, solver=sgd; total time=  14.0s\n",
      "[CV] END activation=identity, alpha=0.0001, early_stopping=True, learning_rate=constant, learning_rate_init=0.1, max_iter=50, n_iter_no_change=5, power_t=0.005, solver=sgd; total time=  54.0s\n"
     ]
    },
    {
     "name": "stderr",
     "output_type": "stream",
     "text": [
      "/Users/sebastianlopez/miniconda3/envs/maestriamatching/lib/python3.10/site-packages/sklearn/neural_network/_multilayer_perceptron.py:691: ConvergenceWarning: Stochastic Optimizer: Maximum iterations (5) reached and the optimization hasn't converged yet.\n",
      "  warnings.warn(\n"
     ]
    },
    {
     "name": "stdout",
     "output_type": "stream",
     "text": [
      "[CV] END activation=identity, alpha=0.0001, early_stopping=True, learning_rate=constant, learning_rate_init=1e-06, max_iter=5, n_iter_no_change=5, power_t=0.5, solver=sgd; total time=  14.1s\n"
     ]
    },
    {
     "name": "stderr",
     "output_type": "stream",
     "text": [
      "/Users/sebastianlopez/miniconda3/envs/maestriamatching/lib/python3.10/site-packages/sklearn/neural_network/_multilayer_perceptron.py:691: ConvergenceWarning: Stochastic Optimizer: Maximum iterations (5) reached and the optimization hasn't converged yet.\n",
      "  warnings.warn(\n"
     ]
    },
    {
     "name": "stdout",
     "output_type": "stream",
     "text": [
      "[CV] END activation=identity, alpha=0.0001, early_stopping=True, learning_rate=constant, learning_rate_init=1e-06, max_iter=5, n_iter_no_change=5, power_t=0.5, solver=sgd; total time=  14.1s\n",
      "[CV] END activation=identity, alpha=0.0001, early_stopping=True, learning_rate=constant, learning_rate_init=0.1, max_iter=50, n_iter_no_change=5, power_t=0.005, solver=adam; total time=  52.6s\n"
     ]
    },
    {
     "name": "stderr",
     "output_type": "stream",
     "text": [
      "/Users/sebastianlopez/miniconda3/envs/maestriamatching/lib/python3.10/site-packages/sklearn/neural_network/_multilayer_perceptron.py:691: ConvergenceWarning: Stochastic Optimizer: Maximum iterations (5) reached and the optimization hasn't converged yet.\n",
      "  warnings.warn(\n"
     ]
    },
    {
     "name": "stdout",
     "output_type": "stream",
     "text": [
      "[CV] END activation=identity, alpha=0.0001, early_stopping=True, learning_rate=constant, learning_rate_init=1e-06, max_iter=5, n_iter_no_change=5, power_t=0.5, solver=adam; total time=  15.1s\n",
      "[CV] END activation=identity, alpha=0.0001, early_stopping=True, learning_rate=constant, learning_rate_init=0.1, max_iter=50, n_iter_no_change=5, power_t=0.005, solver=adam; total time=  58.6s\n",
      "[CV] END activation=identity, alpha=0.0001, early_stopping=True, learning_rate=constant, learning_rate_init=0.1, max_iter=50, n_iter_no_change=5, power_t=0.005, solver=adam; total time=  58.8s\n"
     ]
    },
    {
     "name": "stderr",
     "output_type": "stream",
     "text": [
      "/Users/sebastianlopez/miniconda3/envs/maestriamatching/lib/python3.10/site-packages/sklearn/neural_network/_multilayer_perceptron.py:691: ConvergenceWarning: Stochastic Optimizer: Maximum iterations (5) reached and the optimization hasn't converged yet.\n",
      "  warnings.warn(\n"
     ]
    },
    {
     "name": "stdout",
     "output_type": "stream",
     "text": [
      "[CV] END activation=identity, alpha=0.0001, early_stopping=True, learning_rate=constant, learning_rate_init=1e-06, max_iter=5, n_iter_no_change=5, power_t=0.5, solver=adam; total time=  14.9s\n"
     ]
    },
    {
     "name": "stderr",
     "output_type": "stream",
     "text": [
      "/Users/sebastianlopez/miniconda3/envs/maestriamatching/lib/python3.10/site-packages/sklearn/neural_network/_multilayer_perceptron.py:691: ConvergenceWarning: Stochastic Optimizer: Maximum iterations (5) reached and the optimization hasn't converged yet.\n",
      "  warnings.warn(\n"
     ]
    },
    {
     "name": "stdout",
     "output_type": "stream",
     "text": [
      "[CV] END activation=identity, alpha=0.0001, early_stopping=True, learning_rate=constant, learning_rate_init=1e-06, max_iter=5, n_iter_no_change=5, power_t=0.5, solver=adam; total time=  14.6s\n"
     ]
    },
    {
     "name": "stderr",
     "output_type": "stream",
     "text": [
      "/Users/sebastianlopez/miniconda3/envs/maestriamatching/lib/python3.10/site-packages/sklearn/neural_network/_multilayer_perceptron.py:546: ConvergenceWarning: lbfgs failed to converge (status=1):\n",
      "STOP: TOTAL NO. of ITERATIONS REACHED LIMIT.\n",
      "\n",
      "Increase the number of iterations (max_iter) or scale the data as shown in:\n",
      "    https://scikit-learn.org/stable/modules/preprocessing.html\n",
      "  self.n_iter_ = _check_optimize_result(\"lbfgs\", opt_res, self.max_iter)\n"
     ]
    },
    {
     "name": "stdout",
     "output_type": "stream",
     "text": [
      "[CV] END activation=identity, alpha=0.0001, early_stopping=True, learning_rate=constant, learning_rate_init=0.1, max_iter=50, n_iter_no_change=5, power_t=0.005, solver=lbfgs; total time= 2.0min\n"
     ]
    },
    {
     "name": "stderr",
     "output_type": "stream",
     "text": [
      "/Users/sebastianlopez/miniconda3/envs/maestriamatching/lib/python3.10/site-packages/sklearn/neural_network/_multilayer_perceptron.py:691: ConvergenceWarning: Stochastic Optimizer: Maximum iterations (5) reached and the optimization hasn't converged yet.\n",
      "  warnings.warn(\n",
      "/Users/sebastianlopez/miniconda3/envs/maestriamatching/lib/python3.10/site-packages/sklearn/neural_network/_multilayer_perceptron.py:546: ConvergenceWarning: lbfgs failed to converge (status=1):\n",
      "STOP: TOTAL NO. of ITERATIONS REACHED LIMIT.\n",
      "\n",
      "Increase the number of iterations (max_iter) or scale the data as shown in:\n",
      "    https://scikit-learn.org/stable/modules/preprocessing.html\n",
      "  self.n_iter_ = _check_optimize_result(\"lbfgs\", opt_res, self.max_iter)\n"
     ]
    },
    {
     "name": "stdout",
     "output_type": "stream",
     "text": [
      "[CV] END activation=identity, alpha=0.0001, early_stopping=True, learning_rate=constant, learning_rate_init=1e-06, max_iter=5, n_iter_no_change=5, power_t=0.1, solver=sgd; total time=  13.5s\n"
     ]
    },
    {
     "name": "stderr",
     "output_type": "stream",
     "text": [
      "/Users/sebastianlopez/miniconda3/envs/maestriamatching/lib/python3.10/site-packages/sklearn/neural_network/_multilayer_perceptron.py:546: ConvergenceWarning: lbfgs failed to converge (status=1):\n",
      "STOP: TOTAL NO. of ITERATIONS REACHED LIMIT.\n",
      "\n",
      "Increase the number of iterations (max_iter) or scale the data as shown in:\n",
      "    https://scikit-learn.org/stable/modules/preprocessing.html\n",
      "  self.n_iter_ = _check_optimize_result(\"lbfgs\", opt_res, self.max_iter)\n"
     ]
    },
    {
     "name": "stdout",
     "output_type": "stream",
     "text": [
      "[CV] END activation=identity, alpha=0.0001, early_stopping=True, learning_rate=constant, learning_rate_init=1e-06, max_iter=5, n_iter_no_change=5, power_t=0.1, solver=lbfgs; total time=  15.4s\n",
      "[CV] END activation=identity, alpha=0.0001, early_stopping=True, learning_rate=constant, learning_rate_init=1e-06, max_iter=5, n_iter_no_change=5, power_t=0.1, solver=lbfgs; total time=  17.7s\n"
     ]
    },
    {
     "name": "stderr",
     "output_type": "stream",
     "text": [
      "/Users/sebastianlopez/miniconda3/envs/maestriamatching/lib/python3.10/site-packages/sklearn/neural_network/_multilayer_perceptron.py:546: ConvergenceWarning: lbfgs failed to converge (status=1):\n",
      "STOP: TOTAL NO. of ITERATIONS REACHED LIMIT.\n",
      "\n",
      "Increase the number of iterations (max_iter) or scale the data as shown in:\n",
      "    https://scikit-learn.org/stable/modules/preprocessing.html\n",
      "  self.n_iter_ = _check_optimize_result(\"lbfgs\", opt_res, self.max_iter)\n",
      "/Users/sebastianlopez/miniconda3/envs/maestriamatching/lib/python3.10/site-packages/sklearn/neural_network/_multilayer_perceptron.py:691: ConvergenceWarning: Stochastic Optimizer: Maximum iterations (5) reached and the optimization hasn't converged yet.\n",
      "  warnings.warn(\n"
     ]
    },
    {
     "name": "stdout",
     "output_type": "stream",
     "text": [
      "[CV] END activation=identity, alpha=0.0001, early_stopping=True, learning_rate=constant, learning_rate_init=1e-06, max_iter=5, n_iter_no_change=5, power_t=0.1, solver=lbfgs; total time=  15.4s\n",
      "[CV] END activation=identity, alpha=0.0001, early_stopping=True, learning_rate=constant, learning_rate_init=1e-06, max_iter=5, n_iter_no_change=5, power_t=0.1, solver=sgd; total time=  13.4s\n"
     ]
    },
    {
     "name": "stderr",
     "output_type": "stream",
     "text": [
      "/Users/sebastianlopez/miniconda3/envs/maestriamatching/lib/python3.10/site-packages/sklearn/neural_network/_multilayer_perceptron.py:691: ConvergenceWarning: Stochastic Optimizer: Maximum iterations (5) reached and the optimization hasn't converged yet.\n",
      "  warnings.warn(\n"
     ]
    },
    {
     "name": "stdout",
     "output_type": "stream",
     "text": [
      "[CV] END activation=identity, alpha=0.0001, early_stopping=True, learning_rate=constant, learning_rate_init=1e-06, max_iter=5, n_iter_no_change=5, power_t=0.1, solver=sgd; total time=  13.4s\n"
     ]
    },
    {
     "name": "stderr",
     "output_type": "stream",
     "text": [
      "/Users/sebastianlopez/miniconda3/envs/maestriamatching/lib/python3.10/site-packages/sklearn/neural_network/_multilayer_perceptron.py:691: ConvergenceWarning: Stochastic Optimizer: Maximum iterations (5) reached and the optimization hasn't converged yet.\n",
      "  warnings.warn(\n"
     ]
    },
    {
     "name": "stdout",
     "output_type": "stream",
     "text": [
      "[CV] END activation=identity, alpha=0.0001, early_stopping=True, learning_rate=constant, learning_rate_init=1e-06, max_iter=5, n_iter_no_change=5, power_t=0.1, solver=adam; total time=  14.6s\n"
     ]
    },
    {
     "name": "stderr",
     "output_type": "stream",
     "text": [
      "/Users/sebastianlopez/miniconda3/envs/maestriamatching/lib/python3.10/site-packages/sklearn/neural_network/_multilayer_perceptron.py:546: ConvergenceWarning: lbfgs failed to converge (status=1):\n",
      "STOP: TOTAL NO. of ITERATIONS REACHED LIMIT.\n",
      "\n",
      "Increase the number of iterations (max_iter) or scale the data as shown in:\n",
      "    https://scikit-learn.org/stable/modules/preprocessing.html\n",
      "  self.n_iter_ = _check_optimize_result(\"lbfgs\", opt_res, self.max_iter)\n",
      "/Users/sebastianlopez/miniconda3/envs/maestriamatching/lib/python3.10/site-packages/sklearn/neural_network/_multilayer_perceptron.py:691: ConvergenceWarning: Stochastic Optimizer: Maximum iterations (5) reached and the optimization hasn't converged yet.\n",
      "  warnings.warn(\n"
     ]
    },
    {
     "name": "stdout",
     "output_type": "stream",
     "text": [
      "[CV] END activation=identity, alpha=0.0001, early_stopping=True, learning_rate=constant, learning_rate_init=0.1, max_iter=50, n_iter_no_change=5, power_t=0.005, solver=lbfgs; total time= 2.0min\n",
      "[CV] END activation=identity, alpha=0.0001, early_stopping=True, learning_rate=constant, learning_rate_init=1e-06, max_iter=5, n_iter_no_change=5, power_t=0.1, solver=adam; total time=  14.4s\n"
     ]
    },
    {
     "name": "stderr",
     "output_type": "stream",
     "text": [
      "/Users/sebastianlopez/miniconda3/envs/maestriamatching/lib/python3.10/site-packages/sklearn/neural_network/_multilayer_perceptron.py:691: ConvergenceWarning: Stochastic Optimizer: Maximum iterations (5) reached and the optimization hasn't converged yet.\n",
      "  warnings.warn(\n"
     ]
    },
    {
     "name": "stdout",
     "output_type": "stream",
     "text": [
      "[CV] END activation=identity, alpha=0.0001, early_stopping=True, learning_rate=constant, learning_rate_init=1e-06, max_iter=5, n_iter_no_change=5, power_t=0.1, solver=adam; total time=  14.8s\n"
     ]
    },
    {
     "name": "stderr",
     "output_type": "stream",
     "text": [
      "/Users/sebastianlopez/miniconda3/envs/maestriamatching/lib/python3.10/site-packages/sklearn/neural_network/_multilayer_perceptron.py:691: ConvergenceWarning: Stochastic Optimizer: Maximum iterations (5) reached and the optimization hasn't converged yet.\n",
      "  warnings.warn(\n"
     ]
    },
    {
     "name": "stdout",
     "output_type": "stream",
     "text": [
      "[CV] END activation=identity, alpha=0.0001, early_stopping=True, learning_rate=constant, learning_rate_init=1e-06, max_iter=5, n_iter_no_change=5, power_t=0.9, solver=sgd; total time=  13.6s\n"
     ]
    },
    {
     "name": "stderr",
     "output_type": "stream",
     "text": [
      "/Users/sebastianlopez/miniconda3/envs/maestriamatching/lib/python3.10/site-packages/sklearn/neural_network/_multilayer_perceptron.py:691: ConvergenceWarning: Stochastic Optimizer: Maximum iterations (5) reached and the optimization hasn't converged yet.\n",
      "  warnings.warn(\n",
      "/Users/sebastianlopez/miniconda3/envs/maestriamatching/lib/python3.10/site-packages/sklearn/neural_network/_multilayer_perceptron.py:546: ConvergenceWarning: lbfgs failed to converge (status=1):\n",
      "STOP: TOTAL NO. of ITERATIONS REACHED LIMIT.\n",
      "\n",
      "Increase the number of iterations (max_iter) or scale the data as shown in:\n",
      "    https://scikit-learn.org/stable/modules/preprocessing.html\n",
      "  self.n_iter_ = _check_optimize_result(\"lbfgs\", opt_res, self.max_iter)\n",
      "/Users/sebastianlopez/miniconda3/envs/maestriamatching/lib/python3.10/site-packages/sklearn/neural_network/_multilayer_perceptron.py:546: ConvergenceWarning: lbfgs failed to converge (status=1):\n",
      "STOP: TOTAL NO. of ITERATIONS REACHED LIMIT.\n",
      "\n",
      "Increase the number of iterations (max_iter) or scale the data as shown in:\n",
      "    https://scikit-learn.org/stable/modules/preprocessing.html\n",
      "  self.n_iter_ = _check_optimize_result(\"lbfgs\", opt_res, self.max_iter)\n",
      "/Users/sebastianlopez/miniconda3/envs/maestriamatching/lib/python3.10/site-packages/sklearn/neural_network/_multilayer_perceptron.py:691: ConvergenceWarning: Stochastic Optimizer: Maximum iterations (5) reached and the optimization hasn't converged yet.\n",
      "  warnings.warn(\n"
     ]
    },
    {
     "name": "stdout",
     "output_type": "stream",
     "text": [
      "[CV] END activation=identity, alpha=0.0001, early_stopping=True, learning_rate=constant, learning_rate_init=1e-06, max_iter=5, n_iter_no_change=5, power_t=0.9, solver=sgd; total time=  13.8s\n",
      "[CV] END activation=identity, alpha=0.0001, early_stopping=True, learning_rate=constant, learning_rate_init=1e-06, max_iter=5, n_iter_no_change=5, power_t=0.9, solver=lbfgs; total time=  15.5s\n"
     ]
    },
    {
     "name": "stderr",
     "output_type": "stream",
     "text": [
      "/Users/sebastianlopez/miniconda3/envs/maestriamatching/lib/python3.10/site-packages/sklearn/neural_network/_multilayer_perceptron.py:546: ConvergenceWarning: lbfgs failed to converge (status=1):\n",
      "STOP: TOTAL NO. of ITERATIONS REACHED LIMIT.\n",
      "\n",
      "Increase the number of iterations (max_iter) or scale the data as shown in:\n",
      "    https://scikit-learn.org/stable/modules/preprocessing.html\n",
      "  self.n_iter_ = _check_optimize_result(\"lbfgs\", opt_res, self.max_iter)\n"
     ]
    },
    {
     "name": "stdout",
     "output_type": "stream",
     "text": [
      "[CV] END activation=identity, alpha=0.0001, early_stopping=True, learning_rate=constant, learning_rate_init=1e-06, max_iter=5, n_iter_no_change=5, power_t=0.9, solver=lbfgs; total time=  15.5s\n",
      "[CV] END activation=identity, alpha=0.0001, early_stopping=True, learning_rate=constant, learning_rate_init=1e-06, max_iter=5, n_iter_no_change=5, power_t=0.9, solver=sgd; total time=  13.7s\n",
      "[CV] END activation=identity, alpha=0.0001, early_stopping=True, learning_rate=constant, learning_rate_init=1e-06, max_iter=5, n_iter_no_change=5, power_t=0.9, solver=lbfgs; total time=  15.6s\n"
     ]
    },
    {
     "name": "stderr",
     "output_type": "stream",
     "text": [
      "/Users/sebastianlopez/miniconda3/envs/maestriamatching/lib/python3.10/site-packages/sklearn/neural_network/_multilayer_perceptron.py:691: ConvergenceWarning: Stochastic Optimizer: Maximum iterations (5) reached and the optimization hasn't converged yet.\n",
      "  warnings.warn(\n"
     ]
    },
    {
     "name": "stdout",
     "output_type": "stream",
     "text": [
      "[CV] END activation=identity, alpha=0.0001, early_stopping=True, learning_rate=constant, learning_rate_init=1e-06, max_iter=5, n_iter_no_change=5, power_t=0.9, solver=adam; total time=  14.6s\n"
     ]
    },
    {
     "name": "stderr",
     "output_type": "stream",
     "text": [
      "/Users/sebastianlopez/miniconda3/envs/maestriamatching/lib/python3.10/site-packages/sklearn/neural_network/_multilayer_perceptron.py:691: ConvergenceWarning: Stochastic Optimizer: Maximum iterations (5) reached and the optimization hasn't converged yet.\n",
      "  warnings.warn(\n"
     ]
    },
    {
     "name": "stdout",
     "output_type": "stream",
     "text": [
      "[CV] END activation=identity, alpha=0.0001, early_stopping=True, learning_rate=constant, learning_rate_init=1e-06, max_iter=5, n_iter_no_change=5, power_t=0.9, solver=adam; total time=  14.5s\n"
     ]
    },
    {
     "name": "stderr",
     "output_type": "stream",
     "text": [
      "/Users/sebastianlopez/miniconda3/envs/maestriamatching/lib/python3.10/site-packages/sklearn/neural_network/_multilayer_perceptron.py:691: ConvergenceWarning: Stochastic Optimizer: Maximum iterations (5) reached and the optimization hasn't converged yet.\n",
      "  warnings.warn(\n"
     ]
    },
    {
     "name": "stdout",
     "output_type": "stream",
     "text": [
      "[CV] END activation=identity, alpha=0.0001, early_stopping=True, learning_rate=constant, learning_rate_init=1e-06, max_iter=5, n_iter_no_change=5, power_t=0.9, solver=adam; total time=  14.8s\n"
     ]
    },
    {
     "name": "stderr",
     "output_type": "stream",
     "text": [
      "/Users/sebastianlopez/miniconda3/envs/maestriamatching/lib/python3.10/site-packages/sklearn/neural_network/_multilayer_perceptron.py:691: ConvergenceWarning: Stochastic Optimizer: Maximum iterations (5) reached and the optimization hasn't converged yet.\n",
      "  warnings.warn(\n",
      "/Users/sebastianlopez/miniconda3/envs/maestriamatching/lib/python3.10/site-packages/sklearn/neural_network/_multilayer_perceptron.py:691: ConvergenceWarning: Stochastic Optimizer: Maximum iterations (5) reached and the optimization hasn't converged yet.\n",
      "  warnings.warn(\n",
      "/Users/sebastianlopez/miniconda3/envs/maestriamatching/lib/python3.10/site-packages/sklearn/neural_network/_multilayer_perceptron.py:691: ConvergenceWarning: Stochastic Optimizer: Maximum iterations (5) reached and the optimization hasn't converged yet.\n",
      "  warnings.warn(\n"
     ]
    },
    {
     "name": "stdout",
     "output_type": "stream",
     "text": [
      "[CV] END activation=identity, alpha=0.0001, early_stopping=True, learning_rate=constant, learning_rate_init=1e-06, max_iter=5, n_iter_no_change=5, power_t=0.001, solver=sgd; total time=  13.5s\n",
      "[CV] END activation=identity, alpha=0.0001, early_stopping=True, learning_rate=constant, learning_rate_init=1e-06, max_iter=5, n_iter_no_change=5, power_t=0.001, solver=sgd; total time=  14.0s\n"
     ]
    },
    {
     "name": "stderr",
     "output_type": "stream",
     "text": [
      "/Users/sebastianlopez/miniconda3/envs/maestriamatching/lib/python3.10/site-packages/sklearn/neural_network/_multilayer_perceptron.py:546: ConvergenceWarning: lbfgs failed to converge (status=1):\n",
      "STOP: TOTAL NO. of ITERATIONS REACHED LIMIT.\n",
      "\n",
      "Increase the number of iterations (max_iter) or scale the data as shown in:\n",
      "    https://scikit-learn.org/stable/modules/preprocessing.html\n",
      "  self.n_iter_ = _check_optimize_result(\"lbfgs\", opt_res, self.max_iter)\n"
     ]
    },
    {
     "name": "stdout",
     "output_type": "stream",
     "text": [
      "[CV] END activation=identity, alpha=0.0001, early_stopping=True, learning_rate=constant, learning_rate_init=1e-06, max_iter=5, n_iter_no_change=5, power_t=0.001, solver=sgd; total time=  13.8s\n",
      "[CV] END activation=identity, alpha=0.0001, early_stopping=True, learning_rate=constant, learning_rate_init=0.1, max_iter=50, n_iter_no_change=5, power_t=0.005, solver=lbfgs; total time= 2.0min\n"
     ]
    },
    {
     "name": "stderr",
     "output_type": "stream",
     "text": [
      "/Users/sebastianlopez/miniconda3/envs/maestriamatching/lib/python3.10/site-packages/sklearn/neural_network/_multilayer_perceptron.py:546: ConvergenceWarning: lbfgs failed to converge (status=1):\n",
      "STOP: TOTAL NO. of ITERATIONS REACHED LIMIT.\n",
      "\n",
      "Increase the number of iterations (max_iter) or scale the data as shown in:\n",
      "    https://scikit-learn.org/stable/modules/preprocessing.html\n",
      "  self.n_iter_ = _check_optimize_result(\"lbfgs\", opt_res, self.max_iter)\n",
      "/Users/sebastianlopez/miniconda3/envs/maestriamatching/lib/python3.10/site-packages/sklearn/neural_network/_multilayer_perceptron.py:691: ConvergenceWarning: Stochastic Optimizer: Maximum iterations (5) reached and the optimization hasn't converged yet.\n",
      "  warnings.warn(\n"
     ]
    },
    {
     "name": "stdout",
     "output_type": "stream",
     "text": [
      "[CV] END activation=identity, alpha=0.0001, early_stopping=True, learning_rate=constant, learning_rate_init=1e-06, max_iter=5, n_iter_no_change=5, power_t=0.001, solver=lbfgs; total time=  15.8s\n",
      "[CV] END activation=identity, alpha=0.0001, early_stopping=True, learning_rate=constant, learning_rate_init=1e-06, max_iter=5, n_iter_no_change=5, power_t=0.001, solver=adam; total time=  14.8s\n"
     ]
    },
    {
     "name": "stderr",
     "output_type": "stream",
     "text": [
      "/Users/sebastianlopez/miniconda3/envs/maestriamatching/lib/python3.10/site-packages/sklearn/neural_network/_multilayer_perceptron.py:546: ConvergenceWarning: lbfgs failed to converge (status=1):\n",
      "STOP: TOTAL NO. of ITERATIONS REACHED LIMIT.\n",
      "\n",
      "Increase the number of iterations (max_iter) or scale the data as shown in:\n",
      "    https://scikit-learn.org/stable/modules/preprocessing.html\n",
      "  self.n_iter_ = _check_optimize_result(\"lbfgs\", opt_res, self.max_iter)\n"
     ]
    },
    {
     "name": "stdout",
     "output_type": "stream",
     "text": [
      "[CV] END activation=identity, alpha=0.0001, early_stopping=True, learning_rate=constant, learning_rate_init=1e-06, max_iter=5, n_iter_no_change=5, power_t=0.001, solver=lbfgs; total time=  17.8s\n"
     ]
    },
    {
     "name": "stderr",
     "output_type": "stream",
     "text": [
      "/Users/sebastianlopez/miniconda3/envs/maestriamatching/lib/python3.10/site-packages/sklearn/neural_network/_multilayer_perceptron.py:546: ConvergenceWarning: lbfgs failed to converge (status=1):\n",
      "STOP: TOTAL NO. of ITERATIONS REACHED LIMIT.\n",
      "\n",
      "Increase the number of iterations (max_iter) or scale the data as shown in:\n",
      "    https://scikit-learn.org/stable/modules/preprocessing.html\n",
      "  self.n_iter_ = _check_optimize_result(\"lbfgs\", opt_res, self.max_iter)\n"
     ]
    },
    {
     "name": "stdout",
     "output_type": "stream",
     "text": [
      "[CV] END activation=identity, alpha=0.0001, early_stopping=True, learning_rate=constant, learning_rate_init=1e-06, max_iter=5, n_iter_no_change=5, power_t=0.001, solver=lbfgs; total time=  17.4s\n"
     ]
    },
    {
     "name": "stderr",
     "output_type": "stream",
     "text": [
      "/Users/sebastianlopez/miniconda3/envs/maestriamatching/lib/python3.10/site-packages/sklearn/neural_network/_multilayer_perceptron.py:691: ConvergenceWarning: Stochastic Optimizer: Maximum iterations (5) reached and the optimization hasn't converged yet.\n",
      "  warnings.warn(\n"
     ]
    },
    {
     "name": "stdout",
     "output_type": "stream",
     "text": [
      "[CV] END activation=identity, alpha=0.0001, early_stopping=True, learning_rate=constant, learning_rate_init=1e-06, max_iter=5, n_iter_no_change=5, power_t=0.001, solver=adam; total time=  15.0s\n"
     ]
    },
    {
     "name": "stderr",
     "output_type": "stream",
     "text": [
      "/Users/sebastianlopez/miniconda3/envs/maestriamatching/lib/python3.10/site-packages/sklearn/neural_network/_multilayer_perceptron.py:691: ConvergenceWarning: Stochastic Optimizer: Maximum iterations (5) reached and the optimization hasn't converged yet.\n",
      "  warnings.warn(\n"
     ]
    },
    {
     "name": "stdout",
     "output_type": "stream",
     "text": [
      "[CV] END activation=identity, alpha=0.0001, early_stopping=True, learning_rate=constant, learning_rate_init=1e-06, max_iter=5, n_iter_no_change=5, power_t=0.001, solver=adam; total time=  14.7s\n"
     ]
    },
    {
     "name": "stderr",
     "output_type": "stream",
     "text": [
      "/Users/sebastianlopez/miniconda3/envs/maestriamatching/lib/python3.10/site-packages/sklearn/neural_network/_multilayer_perceptron.py:546: ConvergenceWarning: lbfgs failed to converge (status=1):\n",
      "STOP: TOTAL NO. of ITERATIONS REACHED LIMIT.\n",
      "\n",
      "Increase the number of iterations (max_iter) or scale the data as shown in:\n",
      "    https://scikit-learn.org/stable/modules/preprocessing.html\n",
      "  self.n_iter_ = _check_optimize_result(\"lbfgs\", opt_res, self.max_iter)\n"
     ]
    },
    {
     "name": "stdout",
     "output_type": "stream",
     "text": [
      "[CV] END activation=identity, alpha=0.0001, early_stopping=True, learning_rate=constant, learning_rate_init=1e-06, max_iter=5, n_iter_no_change=5, power_t=0.005, solver=lbfgs; total time=  15.5s\n"
     ]
    },
    {
     "name": "stderr",
     "output_type": "stream",
     "text": [
      "/Users/sebastianlopez/miniconda3/envs/maestriamatching/lib/python3.10/site-packages/sklearn/neural_network/_multilayer_perceptron.py:691: ConvergenceWarning: Stochastic Optimizer: Maximum iterations (5) reached and the optimization hasn't converged yet.\n",
      "  warnings.warn(\n",
      "/Users/sebastianlopez/miniconda3/envs/maestriamatching/lib/python3.10/site-packages/sklearn/neural_network/_multilayer_perceptron.py:691: ConvergenceWarning: Stochastic Optimizer: Maximum iterations (5) reached and the optimization hasn't converged yet.\n",
      "  warnings.warn(\n"
     ]
    },
    {
     "name": "stdout",
     "output_type": "stream",
     "text": [
      "[CV] END activation=identity, alpha=0.0001, early_stopping=True, learning_rate=constant, learning_rate_init=1e-06, max_iter=5, n_iter_no_change=5, power_t=0.005, solver=sgd; total time=  13.8s\n",
      "[CV] END activation=identity, alpha=0.0001, early_stopping=True, learning_rate=constant, learning_rate_init=1e-06, max_iter=5, n_iter_no_change=5, power_t=0.005, solver=sgd; total time=  13.7s\n"
     ]
    },
    {
     "name": "stderr",
     "output_type": "stream",
     "text": [
      "/Users/sebastianlopez/miniconda3/envs/maestriamatching/lib/python3.10/site-packages/sklearn/neural_network/_multilayer_perceptron.py:691: ConvergenceWarning: Stochastic Optimizer: Maximum iterations (5) reached and the optimization hasn't converged yet.\n",
      "  warnings.warn(\n"
     ]
    },
    {
     "name": "stdout",
     "output_type": "stream",
     "text": [
      "[CV] END activation=identity, alpha=0.0001, early_stopping=True, learning_rate=constant, learning_rate_init=1e-06, max_iter=5, n_iter_no_change=5, power_t=0.005, solver=sgd; total time=  13.7s\n"
     ]
    },
    {
     "name": "stderr",
     "output_type": "stream",
     "text": [
      "/Users/sebastianlopez/miniconda3/envs/maestriamatching/lib/python3.10/site-packages/sklearn/neural_network/_multilayer_perceptron.py:546: ConvergenceWarning: lbfgs failed to converge (status=1):\n",
      "STOP: TOTAL NO. of ITERATIONS REACHED LIMIT.\n",
      "\n",
      "Increase the number of iterations (max_iter) or scale the data as shown in:\n",
      "    https://scikit-learn.org/stable/modules/preprocessing.html\n",
      "  self.n_iter_ = _check_optimize_result(\"lbfgs\", opt_res, self.max_iter)\n",
      "/Users/sebastianlopez/miniconda3/envs/maestriamatching/lib/python3.10/site-packages/sklearn/neural_network/_multilayer_perceptron.py:691: ConvergenceWarning: Stochastic Optimizer: Maximum iterations (5) reached and the optimization hasn't converged yet.\n",
      "  warnings.warn(\n"
     ]
    },
    {
     "name": "stdout",
     "output_type": "stream",
     "text": [
      "[CV] END activation=identity, alpha=0.0001, early_stopping=True, learning_rate=constant, learning_rate_init=1e-06, max_iter=5, n_iter_no_change=5, power_t=0.005, solver=lbfgs; total time=  16.1s\n",
      "[CV] END activation=identity, alpha=0.0001, early_stopping=True, learning_rate=constant, learning_rate_init=1e-06, max_iter=5, n_iter_no_change=5, power_t=0.005, solver=adam; total time=  14.9s\n"
     ]
    },
    {
     "name": "stderr",
     "output_type": "stream",
     "text": [
      "/Users/sebastianlopez/miniconda3/envs/maestriamatching/lib/python3.10/site-packages/sklearn/neural_network/_multilayer_perceptron.py:691: ConvergenceWarning: Stochastic Optimizer: Maximum iterations (5) reached and the optimization hasn't converged yet.\n",
      "  warnings.warn(\n"
     ]
    },
    {
     "name": "stdout",
     "output_type": "stream",
     "text": [
      "[CV] END activation=identity, alpha=0.0001, early_stopping=True, learning_rate=constant, learning_rate_init=1e-06, max_iter=5, n_iter_no_change=5, power_t=0.005, solver=adam; total time=  14.7s\n"
     ]
    },
    {
     "name": "stderr",
     "output_type": "stream",
     "text": [
      "/Users/sebastianlopez/miniconda3/envs/maestriamatching/lib/python3.10/site-packages/sklearn/neural_network/_multilayer_perceptron.py:691: ConvergenceWarning: Stochastic Optimizer: Maximum iterations (5) reached and the optimization hasn't converged yet.\n",
      "  warnings.warn(\n"
     ]
    },
    {
     "name": "stdout",
     "output_type": "stream",
     "text": [
      "[CV] END activation=identity, alpha=0.0001, early_stopping=True, learning_rate=constant, learning_rate_init=1e-06, max_iter=5, n_iter_no_change=5, power_t=0.005, solver=adam; total time=  14.9s\n"
     ]
    },
    {
     "name": "stderr",
     "output_type": "stream",
     "text": [
      "/Users/sebastianlopez/miniconda3/envs/maestriamatching/lib/python3.10/site-packages/sklearn/neural_network/_multilayer_perceptron.py:546: ConvergenceWarning: lbfgs failed to converge (status=1):\n",
      "STOP: TOTAL NO. of ITERATIONS REACHED LIMIT.\n",
      "\n",
      "Increase the number of iterations (max_iter) or scale the data as shown in:\n",
      "    https://scikit-learn.org/stable/modules/preprocessing.html\n",
      "  self.n_iter_ = _check_optimize_result(\"lbfgs\", opt_res, self.max_iter)\n"
     ]
    },
    {
     "name": "stdout",
     "output_type": "stream",
     "text": [
      "[CV] END activation=identity, alpha=0.0001, early_stopping=True, learning_rate=constant, learning_rate_init=1e-06, max_iter=5, n_iter_no_change=5, power_t=0.005, solver=lbfgs; total time=  29.3s\n",
      "[CV] END activation=identity, alpha=0.0001, early_stopping=True, learning_rate=constant, learning_rate_init=1e-06, max_iter=10, n_iter_no_change=5, power_t=0.5, solver=sgd; total time=  19.9s\n",
      "[CV] END activation=identity, alpha=0.0001, early_stopping=True, learning_rate=constant, learning_rate_init=1e-06, max_iter=10, n_iter_no_change=5, power_t=0.5, solver=sgd; total time=  20.0s\n",
      "[CV] END activation=identity, alpha=0.0001, early_stopping=True, learning_rate=constant, learning_rate_init=1e-06, max_iter=10, n_iter_no_change=5, power_t=0.5, solver=sgd; total time=  20.5s\n"
     ]
    },
    {
     "name": "stderr",
     "output_type": "stream",
     "text": [
      "/Users/sebastianlopez/miniconda3/envs/maestriamatching/lib/python3.10/site-packages/sklearn/neural_network/_multilayer_perceptron.py:546: ConvergenceWarning: lbfgs failed to converge (status=1):\n",
      "STOP: TOTAL NO. of ITERATIONS REACHED LIMIT.\n",
      "\n",
      "Increase the number of iterations (max_iter) or scale the data as shown in:\n",
      "    https://scikit-learn.org/stable/modules/preprocessing.html\n",
      "  self.n_iter_ = _check_optimize_result(\"lbfgs\", opt_res, self.max_iter)\n"
     ]
    },
    {
     "name": "stdout",
     "output_type": "stream",
     "text": [
      "[CV] END activation=identity, alpha=0.0001, early_stopping=True, learning_rate=constant, learning_rate_init=1e-06, max_iter=10, n_iter_no_change=5, power_t=0.5, solver=lbfgs; total time=  27.3s\n",
      "[CV] END activation=identity, alpha=0.0001, early_stopping=True, learning_rate=constant, learning_rate_init=1e-06, max_iter=10, n_iter_no_change=5, power_t=0.5, solver=adam; total time=  22.8s\n"
     ]
    },
    {
     "name": "stderr",
     "output_type": "stream",
     "text": [
      "/Users/sebastianlopez/miniconda3/envs/maestriamatching/lib/python3.10/site-packages/sklearn/neural_network/_multilayer_perceptron.py:546: ConvergenceWarning: lbfgs failed to converge (status=1):\n",
      "STOP: TOTAL NO. of ITERATIONS REACHED LIMIT.\n",
      "\n",
      "Increase the number of iterations (max_iter) or scale the data as shown in:\n",
      "    https://scikit-learn.org/stable/modules/preprocessing.html\n",
      "  self.n_iter_ = _check_optimize_result(\"lbfgs\", opt_res, self.max_iter)\n"
     ]
    },
    {
     "name": "stdout",
     "output_type": "stream",
     "text": [
      "[CV] END activation=identity, alpha=0.0001, early_stopping=True, learning_rate=constant, learning_rate_init=1e-06, max_iter=10, n_iter_no_change=5, power_t=0.5, solver=lbfgs; total time=  30.2s\n"
     ]
    },
    {
     "name": "stderr",
     "output_type": "stream",
     "text": [
      "/Users/sebastianlopez/miniconda3/envs/maestriamatching/lib/python3.10/site-packages/sklearn/neural_network/_multilayer_perceptron.py:546: ConvergenceWarning: lbfgs failed to converge (status=1):\n",
      "STOP: TOTAL NO. of ITERATIONS REACHED LIMIT.\n",
      "\n",
      "Increase the number of iterations (max_iter) or scale the data as shown in:\n",
      "    https://scikit-learn.org/stable/modules/preprocessing.html\n",
      "  self.n_iter_ = _check_optimize_result(\"lbfgs\", opt_res, self.max_iter)\n"
     ]
    },
    {
     "name": "stdout",
     "output_type": "stream",
     "text": [
      "[CV] END activation=identity, alpha=0.0001, early_stopping=True, learning_rate=constant, learning_rate_init=1e-06, max_iter=10, n_iter_no_change=5, power_t=0.5, solver=lbfgs; total time=  36.9s\n"
     ]
    },
    {
     "name": "stderr",
     "output_type": "stream",
     "text": [
      "/Users/sebastianlopez/miniconda3/envs/maestriamatching/lib/python3.10/site-packages/sklearn/neural_network/_multilayer_perceptron.py:691: ConvergenceWarning: Stochastic Optimizer: Maximum iterations (10) reached and the optimization hasn't converged yet.\n",
      "  warnings.warn(\n"
     ]
    },
    {
     "name": "stdout",
     "output_type": "stream",
     "text": [
      "[CV] END activation=identity, alpha=0.0001, early_stopping=True, learning_rate=constant, learning_rate_init=1e-06, max_iter=10, n_iter_no_change=5, power_t=0.5, solver=adam; total time=  32.7s\n"
     ]
    },
    {
     "name": "stderr",
     "output_type": "stream",
     "text": [
      "/Users/sebastianlopez/miniconda3/envs/maestriamatching/lib/python3.10/site-packages/sklearn/neural_network/_multilayer_perceptron.py:691: ConvergenceWarning: Stochastic Optimizer: Maximum iterations (10) reached and the optimization hasn't converged yet.\n",
      "  warnings.warn(\n"
     ]
    },
    {
     "name": "stdout",
     "output_type": "stream",
     "text": [
      "[CV] END activation=identity, alpha=0.0001, early_stopping=True, learning_rate=constant, learning_rate_init=1e-06, max_iter=10, n_iter_no_change=5, power_t=0.5, solver=adam; total time=  32.8s\n"
     ]
    },
    {
     "name": "stderr",
     "output_type": "stream",
     "text": [
      "/Users/sebastianlopez/miniconda3/envs/maestriamatching/lib/python3.10/site-packages/sklearn/neural_network/_multilayer_perceptron.py:546: ConvergenceWarning: lbfgs failed to converge (status=1):\n",
      "STOP: TOTAL NO. of ITERATIONS REACHED LIMIT.\n",
      "\n",
      "Increase the number of iterations (max_iter) or scale the data as shown in:\n",
      "    https://scikit-learn.org/stable/modules/preprocessing.html\n",
      "  self.n_iter_ = _check_optimize_result(\"lbfgs\", opt_res, self.max_iter)\n"
     ]
    },
    {
     "name": "stdout",
     "output_type": "stream",
     "text": [
      "[CV] END activation=identity, alpha=0.0001, early_stopping=True, learning_rate=constant, learning_rate_init=1e-06, max_iter=10, n_iter_no_change=5, power_t=0.1, solver=sgd; total time=  22.2s\n",
      "[CV] END activation=identity, alpha=0.0001, early_stopping=True, learning_rate=constant, learning_rate_init=1e-06, max_iter=10, n_iter_no_change=5, power_t=0.1, solver=lbfgs; total time=  38.3s\n",
      "[CV] END activation=identity, alpha=0.0001, early_stopping=True, learning_rate=constant, learning_rate_init=1e-06, max_iter=10, n_iter_no_change=5, power_t=0.1, solver=sgd; total time=  22.0s\n",
      "[CV] END activation=identity, alpha=0.0001, early_stopping=True, learning_rate=constant, learning_rate_init=1e-06, max_iter=10, n_iter_no_change=5, power_t=0.1, solver=adam; total time=  23.5s\n"
     ]
    },
    {
     "name": "stderr",
     "output_type": "stream",
     "text": [
      "/Users/sebastianlopez/miniconda3/envs/maestriamatching/lib/python3.10/site-packages/sklearn/neural_network/_multilayer_perceptron.py:546: ConvergenceWarning: lbfgs failed to converge (status=1):\n",
      "STOP: TOTAL NO. of ITERATIONS REACHED LIMIT.\n",
      "\n",
      "Increase the number of iterations (max_iter) or scale the data as shown in:\n",
      "    https://scikit-learn.org/stable/modules/preprocessing.html\n",
      "  self.n_iter_ = _check_optimize_result(\"lbfgs\", opt_res, self.max_iter)\n"
     ]
    },
    {
     "name": "stdout",
     "output_type": "stream",
     "text": [
      "[CV] END activation=identity, alpha=0.0001, early_stopping=True, learning_rate=constant, learning_rate_init=1e-06, max_iter=10, n_iter_no_change=5, power_t=0.1, solver=lbfgs; total time=  30.1s\n"
     ]
    },
    {
     "name": "stderr",
     "output_type": "stream",
     "text": [
      "/Users/sebastianlopez/miniconda3/envs/maestriamatching/lib/python3.10/site-packages/sklearn/neural_network/_multilayer_perceptron.py:691: ConvergenceWarning: Stochastic Optimizer: Maximum iterations (10) reached and the optimization hasn't converged yet.\n",
      "  warnings.warn(\n"
     ]
    },
    {
     "name": "stdout",
     "output_type": "stream",
     "text": [
      "[CV] END activation=identity, alpha=0.0001, early_stopping=True, learning_rate=constant, learning_rate_init=1e-06, max_iter=10, n_iter_no_change=5, power_t=0.1, solver=sgd; total time=  31.6s\n"
     ]
    },
    {
     "name": "stderr",
     "output_type": "stream",
     "text": [
      "/Users/sebastianlopez/miniconda3/envs/maestriamatching/lib/python3.10/site-packages/sklearn/neural_network/_multilayer_perceptron.py:546: ConvergenceWarning: lbfgs failed to converge (status=1):\n",
      "STOP: TOTAL NO. of ITERATIONS REACHED LIMIT.\n",
      "\n",
      "Increase the number of iterations (max_iter) or scale the data as shown in:\n",
      "    https://scikit-learn.org/stable/modules/preprocessing.html\n",
      "  self.n_iter_ = _check_optimize_result(\"lbfgs\", opt_res, self.max_iter)\n",
      "/Users/sebastianlopez/miniconda3/envs/maestriamatching/lib/python3.10/site-packages/sklearn/neural_network/_multilayer_perceptron.py:691: ConvergenceWarning: Stochastic Optimizer: Maximum iterations (10) reached and the optimization hasn't converged yet.\n",
      "  warnings.warn(\n"
     ]
    },
    {
     "name": "stdout",
     "output_type": "stream",
     "text": [
      "[CV] END activation=identity, alpha=0.0001, early_stopping=True, learning_rate=constant, learning_rate_init=1e-06, max_iter=10, n_iter_no_change=5, power_t=0.1, solver=lbfgs; total time=  43.7s\n",
      "[CV] END activation=identity, alpha=0.0001, early_stopping=True, learning_rate=constant, learning_rate_init=1e-06, max_iter=10, n_iter_no_change=5, power_t=0.1, solver=adam; total time=  32.5s\n"
     ]
    },
    {
     "name": "stderr",
     "output_type": "stream",
     "text": [
      "/Users/sebastianlopez/miniconda3/envs/maestriamatching/lib/python3.10/site-packages/sklearn/neural_network/_multilayer_perceptron.py:691: ConvergenceWarning: Stochastic Optimizer: Maximum iterations (10) reached and the optimization hasn't converged yet.\n",
      "  warnings.warn(\n"
     ]
    },
    {
     "name": "stdout",
     "output_type": "stream",
     "text": [
      "[CV] END activation=identity, alpha=0.0001, early_stopping=True, learning_rate=constant, learning_rate_init=1e-06, max_iter=10, n_iter_no_change=5, power_t=0.1, solver=adam; total time=  32.4s\n",
      "[CV] END activation=identity, alpha=0.0001, early_stopping=True, learning_rate=constant, learning_rate_init=1e-06, max_iter=10, n_iter_no_change=5, power_t=0.9, solver=sgd; total time=  20.5s\n",
      "[CV] END activation=identity, alpha=0.0001, early_stopping=True, learning_rate=constant, learning_rate_init=1e-06, max_iter=10, n_iter_no_change=5, power_t=0.9, solver=sgd; total time=  20.2s\n",
      "[CV] END activation=identity, alpha=0.0001, early_stopping=True, learning_rate=constant, learning_rate_init=1e-06, max_iter=10, n_iter_no_change=5, power_t=0.9, solver=sgd; total time=  19.8s\n"
     ]
    },
    {
     "name": "stderr",
     "output_type": "stream",
     "text": [
      "/Users/sebastianlopez/miniconda3/envs/maestriamatching/lib/python3.10/site-packages/sklearn/neural_network/_multilayer_perceptron.py:546: ConvergenceWarning: lbfgs failed to converge (status=1):\n",
      "STOP: TOTAL NO. of ITERATIONS REACHED LIMIT.\n",
      "\n",
      "Increase the number of iterations (max_iter) or scale the data as shown in:\n",
      "    https://scikit-learn.org/stable/modules/preprocessing.html\n",
      "  self.n_iter_ = _check_optimize_result(\"lbfgs\", opt_res, self.max_iter)\n"
     ]
    },
    {
     "name": "stdout",
     "output_type": "stream",
     "text": [
      "[CV] END activation=identity, alpha=0.0001, early_stopping=True, learning_rate=constant, learning_rate_init=1e-06, max_iter=10, n_iter_no_change=5, power_t=0.9, solver=lbfgs; total time=  34.2s\n"
     ]
    },
    {
     "name": "stderr",
     "output_type": "stream",
     "text": [
      "/Users/sebastianlopez/miniconda3/envs/maestriamatching/lib/python3.10/site-packages/sklearn/neural_network/_multilayer_perceptron.py:546: ConvergenceWarning: lbfgs failed to converge (status=1):\n",
      "STOP: TOTAL NO. of ITERATIONS REACHED LIMIT.\n",
      "\n",
      "Increase the number of iterations (max_iter) or scale the data as shown in:\n",
      "    https://scikit-learn.org/stable/modules/preprocessing.html\n",
      "  self.n_iter_ = _check_optimize_result(\"lbfgs\", opt_res, self.max_iter)\n",
      "/Users/sebastianlopez/miniconda3/envs/maestriamatching/lib/python3.10/site-packages/sklearn/neural_network/_multilayer_perceptron.py:546: ConvergenceWarning: lbfgs failed to converge (status=1):\n",
      "STOP: TOTAL NO. of ITERATIONS REACHED LIMIT.\n",
      "\n",
      "Increase the number of iterations (max_iter) or scale the data as shown in:\n",
      "    https://scikit-learn.org/stable/modules/preprocessing.html\n",
      "  self.n_iter_ = _check_optimize_result(\"lbfgs\", opt_res, self.max_iter)\n"
     ]
    },
    {
     "name": "stdout",
     "output_type": "stream",
     "text": [
      "[CV] END activation=identity, alpha=0.0001, early_stopping=True, learning_rate=constant, learning_rate_init=1e-06, max_iter=10, n_iter_no_change=5, power_t=0.9, solver=lbfgs; total time=  27.6s\n",
      "[CV] END activation=identity, alpha=0.0001, early_stopping=True, learning_rate=constant, learning_rate_init=1e-06, max_iter=10, n_iter_no_change=5, power_t=0.9, solver=lbfgs; total time=  34.0s\n"
     ]
    },
    {
     "name": "stderr",
     "output_type": "stream",
     "text": [
      "/Users/sebastianlopez/miniconda3/envs/maestriamatching/lib/python3.10/site-packages/sklearn/neural_network/_multilayer_perceptron.py:691: ConvergenceWarning: Stochastic Optimizer: Maximum iterations (10) reached and the optimization hasn't converged yet.\n",
      "  warnings.warn(\n"
     ]
    },
    {
     "name": "stdout",
     "output_type": "stream",
     "text": [
      "[CV] END activation=identity, alpha=0.0001, early_stopping=True, learning_rate=constant, learning_rate_init=1e-06, max_iter=10, n_iter_no_change=5, power_t=0.9, solver=adam; total time=  30.1s\n"
     ]
    },
    {
     "name": "stderr",
     "output_type": "stream",
     "text": [
      "/Users/sebastianlopez/miniconda3/envs/maestriamatching/lib/python3.10/site-packages/sklearn/neural_network/_multilayer_perceptron.py:691: ConvergenceWarning: Stochastic Optimizer: Maximum iterations (10) reached and the optimization hasn't converged yet.\n",
      "  warnings.warn(\n"
     ]
    },
    {
     "name": "stdout",
     "output_type": "stream",
     "text": [
      "[CV] END activation=identity, alpha=0.0001, early_stopping=True, learning_rate=constant, learning_rate_init=1e-06, max_iter=10, n_iter_no_change=5, power_t=0.9, solver=adam; total time=  29.0s\n"
     ]
    },
    {
     "name": "stderr",
     "output_type": "stream",
     "text": [
      "/Users/sebastianlopez/miniconda3/envs/maestriamatching/lib/python3.10/site-packages/sklearn/neural_network/_multilayer_perceptron.py:546: ConvergenceWarning: lbfgs failed to converge (status=1):\n",
      "STOP: TOTAL NO. of ITERATIONS REACHED LIMIT.\n",
      "\n",
      "Increase the number of iterations (max_iter) or scale the data as shown in:\n",
      "    https://scikit-learn.org/stable/modules/preprocessing.html\n",
      "  self.n_iter_ = _check_optimize_result(\"lbfgs\", opt_res, self.max_iter)\n"
     ]
    },
    {
     "name": "stdout",
     "output_type": "stream",
     "text": [
      "[CV] END activation=identity, alpha=0.0001, early_stopping=True, learning_rate=constant, learning_rate_init=1e-06, max_iter=10, n_iter_no_change=5, power_t=0.001, solver=lbfgs; total time=  23.9s\n"
     ]
    },
    {
     "name": "stderr",
     "output_type": "stream",
     "text": [
      "/Users/sebastianlopez/miniconda3/envs/maestriamatching/lib/python3.10/site-packages/sklearn/neural_network/_multilayer_perceptron.py:691: ConvergenceWarning: Stochastic Optimizer: Maximum iterations (10) reached and the optimization hasn't converged yet.\n",
      "  warnings.warn(\n"
     ]
    },
    {
     "name": "stdout",
     "output_type": "stream",
     "text": [
      "[CV] END activation=identity, alpha=0.0001, early_stopping=True, learning_rate=constant, learning_rate_init=1e-06, max_iter=10, n_iter_no_change=5, power_t=0.9, solver=adam; total time=  29.0s\n",
      "[CV] END activation=identity, alpha=0.0001, early_stopping=True, learning_rate=constant, learning_rate_init=1e-06, max_iter=10, n_iter_no_change=5, power_t=0.001, solver=sgd; total time=  19.5s\n"
     ]
    },
    {
     "name": "stderr",
     "output_type": "stream",
     "text": [
      "/Users/sebastianlopez/miniconda3/envs/maestriamatching/lib/python3.10/site-packages/sklearn/neural_network/_multilayer_perceptron.py:546: ConvergenceWarning: lbfgs failed to converge (status=1):\n",
      "STOP: TOTAL NO. of ITERATIONS REACHED LIMIT.\n",
      "\n",
      "Increase the number of iterations (max_iter) or scale the data as shown in:\n",
      "    https://scikit-learn.org/stable/modules/preprocessing.html\n",
      "  self.n_iter_ = _check_optimize_result(\"lbfgs\", opt_res, self.max_iter)\n",
      "/Users/sebastianlopez/miniconda3/envs/maestriamatching/lib/python3.10/site-packages/sklearn/neural_network/_multilayer_perceptron.py:546: ConvergenceWarning: lbfgs failed to converge (status=1):\n",
      "STOP: TOTAL NO. of ITERATIONS REACHED LIMIT.\n",
      "\n",
      "Increase the number of iterations (max_iter) or scale the data as shown in:\n",
      "    https://scikit-learn.org/stable/modules/preprocessing.html\n",
      "  self.n_iter_ = _check_optimize_result(\"lbfgs\", opt_res, self.max_iter)\n",
      "/Users/sebastianlopez/miniconda3/envs/maestriamatching/lib/python3.10/site-packages/sklearn/neural_network/_multilayer_perceptron.py:691: ConvergenceWarning: Stochastic Optimizer: Maximum iterations (10) reached and the optimization hasn't converged yet.\n",
      "  warnings.warn(\n"
     ]
    },
    {
     "name": "stdout",
     "output_type": "stream",
     "text": [
      "[CV] END activation=identity, alpha=0.0001, early_stopping=True, learning_rate=constant, learning_rate_init=1e-06, max_iter=10, n_iter_no_change=5, power_t=0.001, solver=lbfgs; total time=  28.5s\n",
      "[CV] END activation=identity, alpha=0.0001, early_stopping=True, learning_rate=constant, learning_rate_init=1e-06, max_iter=10, n_iter_no_change=5, power_t=0.001, solver=lbfgs; total time=  32.4s\n",
      "[CV] END activation=identity, alpha=0.0001, early_stopping=True, learning_rate=constant, learning_rate_init=1e-06, max_iter=10, n_iter_no_change=5, power_t=0.001, solver=sgd; total time=  27.2s\n"
     ]
    },
    {
     "name": "stderr",
     "output_type": "stream",
     "text": [
      "/Users/sebastianlopez/miniconda3/envs/maestriamatching/lib/python3.10/site-packages/sklearn/neural_network/_multilayer_perceptron.py:691: ConvergenceWarning: Stochastic Optimizer: Maximum iterations (10) reached and the optimization hasn't converged yet.\n",
      "  warnings.warn(\n"
     ]
    },
    {
     "name": "stdout",
     "output_type": "stream",
     "text": [
      "[CV] END activation=identity, alpha=0.0001, early_stopping=True, learning_rate=constant, learning_rate_init=1e-06, max_iter=10, n_iter_no_change=5, power_t=0.001, solver=sgd; total time=  27.4s\n"
     ]
    },
    {
     "name": "stderr",
     "output_type": "stream",
     "text": [
      "/Users/sebastianlopez/miniconda3/envs/maestriamatching/lib/python3.10/site-packages/sklearn/neural_network/_multilayer_perceptron.py:691: ConvergenceWarning: Stochastic Optimizer: Maximum iterations (10) reached and the optimization hasn't converged yet.\n",
      "  warnings.warn(\n",
      "/Users/sebastianlopez/miniconda3/envs/maestriamatching/lib/python3.10/site-packages/sklearn/neural_network/_multilayer_perceptron.py:691: ConvergenceWarning: Stochastic Optimizer: Maximum iterations (10) reached and the optimization hasn't converged yet.\n",
      "  warnings.warn(\n"
     ]
    },
    {
     "name": "stdout",
     "output_type": "stream",
     "text": [
      "[CV] END activation=identity, alpha=0.0001, early_stopping=True, learning_rate=constant, learning_rate_init=1e-06, max_iter=10, n_iter_no_change=5, power_t=0.001, solver=adam; total time=  29.6s\n",
      "[CV] END activation=identity, alpha=0.0001, early_stopping=True, learning_rate=constant, learning_rate_init=1e-06, max_iter=10, n_iter_no_change=5, power_t=0.001, solver=adam; total time=  30.0s\n",
      "[CV] END activation=identity, alpha=0.0001, early_stopping=True, learning_rate=constant, learning_rate_init=1e-06, max_iter=10, n_iter_no_change=5, power_t=0.005, solver=sgd; total time=  19.4s\n"
     ]
    },
    {
     "name": "stderr",
     "output_type": "stream",
     "text": [
      "/Users/sebastianlopez/miniconda3/envs/maestriamatching/lib/python3.10/site-packages/sklearn/neural_network/_multilayer_perceptron.py:691: ConvergenceWarning: Stochastic Optimizer: Maximum iterations (10) reached and the optimization hasn't converged yet.\n",
      "  warnings.warn(\n"
     ]
    },
    {
     "name": "stdout",
     "output_type": "stream",
     "text": [
      "[CV] END activation=identity, alpha=0.0001, early_stopping=True, learning_rate=constant, learning_rate_init=1e-06, max_iter=10, n_iter_no_change=5, power_t=0.001, solver=adam; total time=  28.8s\n"
     ]
    },
    {
     "name": "stderr",
     "output_type": "stream",
     "text": [
      "/Users/sebastianlopez/miniconda3/envs/maestriamatching/lib/python3.10/site-packages/sklearn/neural_network/_multilayer_perceptron.py:546: ConvergenceWarning: lbfgs failed to converge (status=1):\n",
      "STOP: TOTAL NO. of ITERATIONS REACHED LIMIT.\n",
      "\n",
      "Increase the number of iterations (max_iter) or scale the data as shown in:\n",
      "    https://scikit-learn.org/stable/modules/preprocessing.html\n",
      "  self.n_iter_ = _check_optimize_result(\"lbfgs\", opt_res, self.max_iter)\n"
     ]
    },
    {
     "name": "stdout",
     "output_type": "stream",
     "text": [
      "[CV] END activation=identity, alpha=0.0001, early_stopping=True, learning_rate=constant, learning_rate_init=1e-06, max_iter=10, n_iter_no_change=5, power_t=0.005, solver=sgd; total time=  18.3s\n",
      "[CV] END activation=identity, alpha=0.0001, early_stopping=True, learning_rate=constant, learning_rate_init=1e-06, max_iter=10, n_iter_no_change=5, power_t=0.005, solver=lbfgs; total time=  28.0s\n",
      "[CV] END activation=identity, alpha=0.0001, early_stopping=True, learning_rate=constant, learning_rate_init=1e-06, max_iter=10, n_iter_no_change=5, power_t=0.005, solver=sgd; total time=  18.5s\n"
     ]
    },
    {
     "name": "stderr",
     "output_type": "stream",
     "text": [
      "/Users/sebastianlopez/miniconda3/envs/maestriamatching/lib/python3.10/site-packages/sklearn/neural_network/_multilayer_perceptron.py:546: ConvergenceWarning: lbfgs failed to converge (status=1):\n",
      "STOP: TOTAL NO. of ITERATIONS REACHED LIMIT.\n",
      "\n",
      "Increase the number of iterations (max_iter) or scale the data as shown in:\n",
      "    https://scikit-learn.org/stable/modules/preprocessing.html\n",
      "  self.n_iter_ = _check_optimize_result(\"lbfgs\", opt_res, self.max_iter)\n"
     ]
    },
    {
     "name": "stdout",
     "output_type": "stream",
     "text": [
      "[CV] END activation=identity, alpha=0.0001, early_stopping=True, learning_rate=constant, learning_rate_init=1e-06, max_iter=10, n_iter_no_change=5, power_t=0.005, solver=lbfgs; total time=  31.9s\n",
      "[CV] END activation=identity, alpha=0.0001, early_stopping=True, learning_rate=constant, learning_rate_init=1e-06, max_iter=10, n_iter_no_change=5, power_t=0.005, solver=adam; total time=  20.3s\n"
     ]
    },
    {
     "name": "stderr",
     "output_type": "stream",
     "text": [
      "/Users/sebastianlopez/miniconda3/envs/maestriamatching/lib/python3.10/site-packages/sklearn/neural_network/_multilayer_perceptron.py:691: ConvergenceWarning: Stochastic Optimizer: Maximum iterations (10) reached and the optimization hasn't converged yet.\n",
      "  warnings.warn(\n",
      "/Users/sebastianlopez/miniconda3/envs/maestriamatching/lib/python3.10/site-packages/sklearn/neural_network/_multilayer_perceptron.py:546: ConvergenceWarning: lbfgs failed to converge (status=1):\n",
      "STOP: TOTAL NO. of ITERATIONS REACHED LIMIT.\n",
      "\n",
      "Increase the number of iterations (max_iter) or scale the data as shown in:\n",
      "    https://scikit-learn.org/stable/modules/preprocessing.html\n",
      "  self.n_iter_ = _check_optimize_result(\"lbfgs\", opt_res, self.max_iter)\n"
     ]
    },
    {
     "name": "stdout",
     "output_type": "stream",
     "text": [
      "[CV] END activation=identity, alpha=0.0001, early_stopping=True, learning_rate=constant, learning_rate_init=1e-06, max_iter=10, n_iter_no_change=5, power_t=0.005, solver=adam; total time=  28.4s\n",
      "[CV] END activation=identity, alpha=0.0001, early_stopping=True, learning_rate=constant, learning_rate_init=1e-06, max_iter=10, n_iter_no_change=5, power_t=0.005, solver=lbfgs; total time=  32.5s\n"
     ]
    },
    {
     "name": "stderr",
     "output_type": "stream",
     "text": [
      "/Users/sebastianlopez/miniconda3/envs/maestriamatching/lib/python3.10/site-packages/sklearn/neural_network/_multilayer_perceptron.py:691: ConvergenceWarning: Stochastic Optimizer: Maximum iterations (10) reached and the optimization hasn't converged yet.\n",
      "  warnings.warn(\n"
     ]
    },
    {
     "name": "stdout",
     "output_type": "stream",
     "text": [
      "[CV] END activation=identity, alpha=0.0001, early_stopping=True, learning_rate=constant, learning_rate_init=1e-06, max_iter=10, n_iter_no_change=5, power_t=0.005, solver=adam; total time=  28.5s\n",
      "[CV] END activation=identity, alpha=0.0001, early_stopping=True, learning_rate=constant, learning_rate_init=1e-06, max_iter=20, n_iter_no_change=5, power_t=0.5, solver=sgd; total time=  18.2s\n",
      "[CV] END activation=identity, alpha=0.0001, early_stopping=True, learning_rate=constant, learning_rate_init=1e-06, max_iter=20, n_iter_no_change=5, power_t=0.5, solver=sgd; total time=  18.3s\n",
      "[CV] END activation=identity, alpha=0.0001, early_stopping=True, learning_rate=constant, learning_rate_init=1e-06, max_iter=20, n_iter_no_change=5, power_t=0.1, solver=sgd; total time=  18.1s\n"
     ]
    },
    {
     "name": "stderr",
     "output_type": "stream",
     "text": [
      "/Users/sebastianlopez/miniconda3/envs/maestriamatching/lib/python3.10/site-packages/sklearn/neural_network/_multilayer_perceptron.py:546: ConvergenceWarning: lbfgs failed to converge (status=1):\n",
      "STOP: TOTAL NO. of ITERATIONS REACHED LIMIT.\n",
      "\n",
      "Increase the number of iterations (max_iter) or scale the data as shown in:\n",
      "    https://scikit-learn.org/stable/modules/preprocessing.html\n",
      "  self.n_iter_ = _check_optimize_result(\"lbfgs\", opt_res, self.max_iter)\n"
     ]
    },
    {
     "name": "stdout",
     "output_type": "stream",
     "text": [
      "[CV] END activation=identity, alpha=0.0001, early_stopping=True, learning_rate=constant, learning_rate_init=1e-06, max_iter=20, n_iter_no_change=5, power_t=0.5, solver=lbfgs; total time=  56.2s\n"
     ]
    },
    {
     "name": "stderr",
     "output_type": "stream",
     "text": [
      "/Users/sebastianlopez/miniconda3/envs/maestriamatching/lib/python3.10/site-packages/sklearn/neural_network/_multilayer_perceptron.py:546: ConvergenceWarning: lbfgs failed to converge (status=1):\n",
      "STOP: TOTAL NO. of ITERATIONS REACHED LIMIT.\n",
      "\n",
      "Increase the number of iterations (max_iter) or scale the data as shown in:\n",
      "    https://scikit-learn.org/stable/modules/preprocessing.html\n",
      "  self.n_iter_ = _check_optimize_result(\"lbfgs\", opt_res, self.max_iter)\n"
     ]
    },
    {
     "name": "stdout",
     "output_type": "stream",
     "text": [
      "[CV] END activation=identity, alpha=0.0001, early_stopping=True, learning_rate=constant, learning_rate_init=1e-06, max_iter=20, n_iter_no_change=5, power_t=0.5, solver=lbfgs; total time=  48.6s\n",
      "[CV] END activation=identity, alpha=0.0001, early_stopping=True, learning_rate=constant, learning_rate_init=1e-06, max_iter=20, n_iter_no_change=5, power_t=0.5, solver=sgd; total time=  48.6s\n"
     ]
    },
    {
     "name": "stderr",
     "output_type": "stream",
     "text": [
      "/Users/sebastianlopez/miniconda3/envs/maestriamatching/lib/python3.10/site-packages/sklearn/neural_network/_multilayer_perceptron.py:546: ConvergenceWarning: lbfgs failed to converge (status=1):\n",
      "STOP: TOTAL NO. of ITERATIONS REACHED LIMIT.\n",
      "\n",
      "Increase the number of iterations (max_iter) or scale the data as shown in:\n",
      "    https://scikit-learn.org/stable/modules/preprocessing.html\n",
      "  self.n_iter_ = _check_optimize_result(\"lbfgs\", opt_res, self.max_iter)\n"
     ]
    },
    {
     "name": "stdout",
     "output_type": "stream",
     "text": [
      "[CV] END activation=identity, alpha=0.0001, early_stopping=True, learning_rate=constant, learning_rate_init=1e-06, max_iter=20, n_iter_no_change=5, power_t=0.5, solver=lbfgs; total time=  52.1s\n",
      "[CV] END activation=identity, alpha=0.0001, early_stopping=True, learning_rate=constant, learning_rate_init=1e-06, max_iter=20, n_iter_no_change=5, power_t=0.1, solver=sgd; total time=  18.0s\n"
     ]
    },
    {
     "name": "stderr",
     "output_type": "stream",
     "text": [
      "/Users/sebastianlopez/miniconda3/envs/maestriamatching/lib/python3.10/site-packages/sklearn/neural_network/_multilayer_perceptron.py:691: ConvergenceWarning: Stochastic Optimizer: Maximum iterations (20) reached and the optimization hasn't converged yet.\n",
      "  warnings.warn(\n"
     ]
    },
    {
     "name": "stdout",
     "output_type": "stream",
     "text": [
      "[CV] END activation=identity, alpha=0.0001, early_stopping=True, learning_rate=constant, learning_rate_init=1e-06, max_iter=20, n_iter_no_change=5, power_t=0.5, solver=adam; total time=  54.9s\n"
     ]
    },
    {
     "name": "stderr",
     "output_type": "stream",
     "text": [
      "/Users/sebastianlopez/miniconda3/envs/maestriamatching/lib/python3.10/site-packages/sklearn/neural_network/_multilayer_perceptron.py:546: ConvergenceWarning: lbfgs failed to converge (status=1):\n",
      "STOP: TOTAL NO. of ITERATIONS REACHED LIMIT.\n",
      "\n",
      "Increase the number of iterations (max_iter) or scale the data as shown in:\n",
      "    https://scikit-learn.org/stable/modules/preprocessing.html\n",
      "  self.n_iter_ = _check_optimize_result(\"lbfgs\", opt_res, self.max_iter)\n",
      "/Users/sebastianlopez/miniconda3/envs/maestriamatching/lib/python3.10/site-packages/sklearn/neural_network/_multilayer_perceptron.py:691: ConvergenceWarning: Stochastic Optimizer: Maximum iterations (20) reached and the optimization hasn't converged yet.\n",
      "  warnings.warn(\n"
     ]
    },
    {
     "name": "stdout",
     "output_type": "stream",
     "text": [
      "[CV] END activation=identity, alpha=0.0001, early_stopping=True, learning_rate=constant, learning_rate_init=1e-06, max_iter=20, n_iter_no_change=5, power_t=0.1, solver=lbfgs; total time=  51.9s\n",
      "[CV] END activation=identity, alpha=0.0001, early_stopping=True, learning_rate=constant, learning_rate_init=1e-06, max_iter=20, n_iter_no_change=5, power_t=0.5, solver=adam; total time=  55.3s\n"
     ]
    },
    {
     "name": "stderr",
     "output_type": "stream",
     "text": [
      "/Users/sebastianlopez/miniconda3/envs/maestriamatching/lib/python3.10/site-packages/sklearn/neural_network/_multilayer_perceptron.py:691: ConvergenceWarning: Stochastic Optimizer: Maximum iterations (20) reached and the optimization hasn't converged yet.\n",
      "  warnings.warn(\n"
     ]
    },
    {
     "name": "stdout",
     "output_type": "stream",
     "text": [
      "[CV] END activation=identity, alpha=0.0001, early_stopping=True, learning_rate=constant, learning_rate_init=1e-06, max_iter=20, n_iter_no_change=5, power_t=0.1, solver=sgd; total time=  18.9s\n",
      "[CV] END activation=identity, alpha=0.0001, early_stopping=True, learning_rate=constant, learning_rate_init=1e-06, max_iter=20, n_iter_no_change=5, power_t=0.5, solver=adam; total time=  55.0s\n"
     ]
    },
    {
     "name": "stderr",
     "output_type": "stream",
     "text": [
      "/Users/sebastianlopez/miniconda3/envs/maestriamatching/lib/python3.10/site-packages/sklearn/neural_network/_multilayer_perceptron.py:546: ConvergenceWarning: lbfgs failed to converge (status=1):\n",
      "STOP: TOTAL NO. of ITERATIONS REACHED LIMIT.\n",
      "\n",
      "Increase the number of iterations (max_iter) or scale the data as shown in:\n",
      "    https://scikit-learn.org/stable/modules/preprocessing.html\n",
      "  self.n_iter_ = _check_optimize_result(\"lbfgs\", opt_res, self.max_iter)\n"
     ]
    },
    {
     "name": "stdout",
     "output_type": "stream",
     "text": [
      "[CV] END activation=identity, alpha=0.0001, early_stopping=True, learning_rate=constant, learning_rate_init=1e-06, max_iter=20, n_iter_no_change=5, power_t=0.1, solver=lbfgs; total time=  47.8s\n"
     ]
    },
    {
     "name": "stderr",
     "output_type": "stream",
     "text": [
      "/Users/sebastianlopez/miniconda3/envs/maestriamatching/lib/python3.10/site-packages/sklearn/neural_network/_multilayer_perceptron.py:546: ConvergenceWarning: lbfgs failed to converge (status=1):\n",
      "STOP: TOTAL NO. of ITERATIONS REACHED LIMIT.\n",
      "\n",
      "Increase the number of iterations (max_iter) or scale the data as shown in:\n",
      "    https://scikit-learn.org/stable/modules/preprocessing.html\n",
      "  self.n_iter_ = _check_optimize_result(\"lbfgs\", opt_res, self.max_iter)\n"
     ]
    },
    {
     "name": "stdout",
     "output_type": "stream",
     "text": [
      "[CV] END activation=identity, alpha=0.0001, early_stopping=True, learning_rate=constant, learning_rate_init=1e-06, max_iter=20, n_iter_no_change=5, power_t=0.1, solver=lbfgs; total time=  50.2s\n",
      "[CV] END activation=identity, alpha=0.0001, early_stopping=True, learning_rate=constant, learning_rate_init=1e-06, max_iter=20, n_iter_no_change=5, power_t=0.9, solver=sgd; total time=  22.4s\n",
      "[CV] END activation=identity, alpha=0.0001, early_stopping=True, learning_rate=constant, learning_rate_init=1e-06, max_iter=20, n_iter_no_change=5, power_t=0.9, solver=sgd; total time=  22.4s\n",
      "[CV] END activation=identity, alpha=0.0001, early_stopping=True, learning_rate=constant, learning_rate_init=1e-06, max_iter=20, n_iter_no_change=5, power_t=0.9, solver=sgd; total time=  22.6s\n",
      "[CV] END activation=identity, alpha=0.0001, early_stopping=True, learning_rate=constant, learning_rate_init=1e-06, max_iter=20, n_iter_no_change=5, power_t=0.9, solver=adam; total time=  24.0s\n"
     ]
    },
    {
     "name": "stderr",
     "output_type": "stream",
     "text": [
      "/Users/sebastianlopez/miniconda3/envs/maestriamatching/lib/python3.10/site-packages/sklearn/neural_network/_multilayer_perceptron.py:546: ConvergenceWarning: lbfgs failed to converge (status=1):\n",
      "STOP: TOTAL NO. of ITERATIONS REACHED LIMIT.\n",
      "\n",
      "Increase the number of iterations (max_iter) or scale the data as shown in:\n",
      "    https://scikit-learn.org/stable/modules/preprocessing.html\n",
      "  self.n_iter_ = _check_optimize_result(\"lbfgs\", opt_res, self.max_iter)\n"
     ]
    },
    {
     "name": "stdout",
     "output_type": "stream",
     "text": [
      "[CV] END activation=identity, alpha=0.0001, early_stopping=True, learning_rate=constant, learning_rate_init=1e-06, max_iter=20, n_iter_no_change=5, power_t=0.9, solver=lbfgs; total time=  53.7s\n"
     ]
    },
    {
     "name": "stderr",
     "output_type": "stream",
     "text": [
      "/Users/sebastianlopez/miniconda3/envs/maestriamatching/lib/python3.10/site-packages/sklearn/neural_network/_multilayer_perceptron.py:691: ConvergenceWarning: Stochastic Optimizer: Maximum iterations (20) reached and the optimization hasn't converged yet.\n",
      "  warnings.warn(\n"
     ]
    },
    {
     "name": "stdout",
     "output_type": "stream",
     "text": [
      "[CV] END activation=identity, alpha=0.0001, early_stopping=True, learning_rate=constant, learning_rate_init=1e-06, max_iter=20, n_iter_no_change=5, power_t=0.1, solver=adam; total time= 1.0min\n"
     ]
    },
    {
     "name": "stderr",
     "output_type": "stream",
     "text": [
      "/Users/sebastianlopez/miniconda3/envs/maestriamatching/lib/python3.10/site-packages/sklearn/neural_network/_multilayer_perceptron.py:691: ConvergenceWarning: Stochastic Optimizer: Maximum iterations (20) reached and the optimization hasn't converged yet.\n",
      "  warnings.warn(\n"
     ]
    },
    {
     "name": "stdout",
     "output_type": "stream",
     "text": [
      "[CV] END activation=identity, alpha=0.0001, early_stopping=True, learning_rate=constant, learning_rate_init=1e-06, max_iter=20, n_iter_no_change=5, power_t=0.1, solver=adam; total time= 1.0min\n"
     ]
    },
    {
     "name": "stderr",
     "output_type": "stream",
     "text": [
      "/Users/sebastianlopez/miniconda3/envs/maestriamatching/lib/python3.10/site-packages/sklearn/neural_network/_multilayer_perceptron.py:691: ConvergenceWarning: Stochastic Optimizer: Maximum iterations (20) reached and the optimization hasn't converged yet.\n",
      "  warnings.warn(\n"
     ]
    },
    {
     "name": "stdout",
     "output_type": "stream",
     "text": [
      "[CV] END activation=identity, alpha=0.0001, early_stopping=True, learning_rate=constant, learning_rate_init=1e-06, max_iter=20, n_iter_no_change=5, power_t=0.1, solver=adam; total time= 1.0min\n"
     ]
    },
    {
     "name": "stderr",
     "output_type": "stream",
     "text": [
      "/Users/sebastianlopez/miniconda3/envs/maestriamatching/lib/python3.10/site-packages/sklearn/neural_network/_multilayer_perceptron.py:546: ConvergenceWarning: lbfgs failed to converge (status=1):\n",
      "STOP: TOTAL NO. of ITERATIONS REACHED LIMIT.\n",
      "\n",
      "Increase the number of iterations (max_iter) or scale the data as shown in:\n",
      "    https://scikit-learn.org/stable/modules/preprocessing.html\n",
      "  self.n_iter_ = _check_optimize_result(\"lbfgs\", opt_res, self.max_iter)\n"
     ]
    },
    {
     "name": "stdout",
     "output_type": "stream",
     "text": [
      "[CV] END activation=identity, alpha=0.0001, early_stopping=True, learning_rate=constant, learning_rate_init=1e-06, max_iter=20, n_iter_no_change=5, power_t=0.9, solver=lbfgs; total time=  50.8s\n"
     ]
    },
    {
     "name": "stderr",
     "output_type": "stream",
     "text": [
      "/Users/sebastianlopez/miniconda3/envs/maestriamatching/lib/python3.10/site-packages/sklearn/neural_network/_multilayer_perceptron.py:546: ConvergenceWarning: lbfgs failed to converge (status=1):\n",
      "STOP: TOTAL NO. of ITERATIONS REACHED LIMIT.\n",
      "\n",
      "Increase the number of iterations (max_iter) or scale the data as shown in:\n",
      "    https://scikit-learn.org/stable/modules/preprocessing.html\n",
      "  self.n_iter_ = _check_optimize_result(\"lbfgs\", opt_res, self.max_iter)\n"
     ]
    },
    {
     "name": "stdout",
     "output_type": "stream",
     "text": [
      "[CV] END activation=identity, alpha=0.0001, early_stopping=True, learning_rate=constant, learning_rate_init=1e-06, max_iter=20, n_iter_no_change=5, power_t=0.9, solver=lbfgs; total time=  59.9s\n",
      "[CV] END activation=identity, alpha=0.0001, early_stopping=True, learning_rate=constant, learning_rate_init=1e-06, max_iter=20, n_iter_no_change=5, power_t=0.001, solver=sgd; total time=  20.2s\n",
      "[CV] END activation=identity, alpha=0.0001, early_stopping=True, learning_rate=constant, learning_rate_init=1e-06, max_iter=20, n_iter_no_change=5, power_t=0.001, solver=sgd; total time=  20.3s\n"
     ]
    },
    {
     "name": "stderr",
     "output_type": "stream",
     "text": [
      "/Users/sebastianlopez/miniconda3/envs/maestriamatching/lib/python3.10/site-packages/sklearn/neural_network/_multilayer_perceptron.py:691: ConvergenceWarning: Stochastic Optimizer: Maximum iterations (20) reached and the optimization hasn't converged yet.\n",
      "  warnings.warn(\n"
     ]
    },
    {
     "name": "stdout",
     "output_type": "stream",
     "text": [
      "[CV] END activation=identity, alpha=0.0001, early_stopping=True, learning_rate=constant, learning_rate_init=1e-06, max_iter=20, n_iter_no_change=5, power_t=0.001, solver=sgd; total time=  20.0s\n",
      "[CV] END activation=identity, alpha=0.0001, early_stopping=True, learning_rate=constant, learning_rate_init=1e-06, max_iter=20, n_iter_no_change=5, power_t=0.9, solver=adam; total time= 1.0min\n",
      "[CV] END activation=identity, alpha=0.0001, early_stopping=True, learning_rate=constant, learning_rate_init=1e-06, max_iter=20, n_iter_no_change=5, power_t=0.001, solver=adam; total time=  21.7s\n"
     ]
    },
    {
     "name": "stderr",
     "output_type": "stream",
     "text": [
      "/Users/sebastianlopez/miniconda3/envs/maestriamatching/lib/python3.10/site-packages/sklearn/neural_network/_multilayer_perceptron.py:546: ConvergenceWarning: lbfgs failed to converge (status=1):\n",
      "STOP: TOTAL NO. of ITERATIONS REACHED LIMIT.\n",
      "\n",
      "Increase the number of iterations (max_iter) or scale the data as shown in:\n",
      "    https://scikit-learn.org/stable/modules/preprocessing.html\n",
      "  self.n_iter_ = _check_optimize_result(\"lbfgs\", opt_res, self.max_iter)\n"
     ]
    },
    {
     "name": "stdout",
     "output_type": "stream",
     "text": [
      "[CV] END activation=identity, alpha=0.0001, early_stopping=True, learning_rate=constant, learning_rate_init=1e-06, max_iter=20, n_iter_no_change=5, power_t=0.001, solver=lbfgs; total time=  50.5s\n"
     ]
    },
    {
     "name": "stderr",
     "output_type": "stream",
     "text": [
      "/Users/sebastianlopez/miniconda3/envs/maestriamatching/lib/python3.10/site-packages/sklearn/neural_network/_multilayer_perceptron.py:546: ConvergenceWarning: lbfgs failed to converge (status=1):\n",
      "STOP: TOTAL NO. of ITERATIONS REACHED LIMIT.\n",
      "\n",
      "Increase the number of iterations (max_iter) or scale the data as shown in:\n",
      "    https://scikit-learn.org/stable/modules/preprocessing.html\n",
      "  self.n_iter_ = _check_optimize_result(\"lbfgs\", opt_res, self.max_iter)\n"
     ]
    },
    {
     "name": "stdout",
     "output_type": "stream",
     "text": [
      "[CV] END activation=identity, alpha=0.0001, early_stopping=True, learning_rate=constant, learning_rate_init=1e-06, max_iter=20, n_iter_no_change=5, power_t=0.001, solver=lbfgs; total time=  50.8s\n"
     ]
    },
    {
     "name": "stderr",
     "output_type": "stream",
     "text": [
      "/Users/sebastianlopez/miniconda3/envs/maestriamatching/lib/python3.10/site-packages/sklearn/neural_network/_multilayer_perceptron.py:691: ConvergenceWarning: Stochastic Optimizer: Maximum iterations (20) reached and the optimization hasn't converged yet.\n",
      "  warnings.warn(\n"
     ]
    },
    {
     "name": "stdout",
     "output_type": "stream",
     "text": [
      "[CV] END activation=identity, alpha=0.0001, early_stopping=True, learning_rate=constant, learning_rate_init=1e-06, max_iter=20, n_iter_no_change=5, power_t=0.9, solver=adam; total time=  59.2s\n",
      "[CV] END activation=identity, alpha=0.0001, early_stopping=True, learning_rate=constant, learning_rate_init=1e-06, max_iter=20, n_iter_no_change=5, power_t=0.005, solver=sgd; total time=  19.0s\n",
      "[CV] END activation=identity, alpha=0.0001, early_stopping=True, learning_rate=constant, learning_rate_init=1e-06, max_iter=20, n_iter_no_change=5, power_t=0.005, solver=sgd; total time=  20.4s\n"
     ]
    },
    {
     "name": "stderr",
     "output_type": "stream",
     "text": [
      "/Users/sebastianlopez/miniconda3/envs/maestriamatching/lib/python3.10/site-packages/sklearn/neural_network/_multilayer_perceptron.py:546: ConvergenceWarning: lbfgs failed to converge (status=1):\n",
      "STOP: TOTAL NO. of ITERATIONS REACHED LIMIT.\n",
      "\n",
      "Increase the number of iterations (max_iter) or scale the data as shown in:\n",
      "    https://scikit-learn.org/stable/modules/preprocessing.html\n",
      "  self.n_iter_ = _check_optimize_result(\"lbfgs\", opt_res, self.max_iter)\n"
     ]
    },
    {
     "name": "stdout",
     "output_type": "stream",
     "text": [
      "[CV] END activation=identity, alpha=0.0001, early_stopping=True, learning_rate=constant, learning_rate_init=1e-06, max_iter=20, n_iter_no_change=5, power_t=0.001, solver=lbfgs; total time= 1.1min\n",
      "[CV] END activation=identity, alpha=0.0001, early_stopping=True, learning_rate=constant, learning_rate_init=1e-06, max_iter=20, n_iter_no_change=5, power_t=0.005, solver=sgd; total time=  21.0s\n"
     ]
    },
    {
     "name": "stderr",
     "output_type": "stream",
     "text": [
      "/Users/sebastianlopez/miniconda3/envs/maestriamatching/lib/python3.10/site-packages/sklearn/neural_network/_multilayer_perceptron.py:691: ConvergenceWarning: Stochastic Optimizer: Maximum iterations (20) reached and the optimization hasn't converged yet.\n",
      "  warnings.warn(\n"
     ]
    },
    {
     "name": "stdout",
     "output_type": "stream",
     "text": [
      "[CV] END activation=identity, alpha=0.0001, early_stopping=True, learning_rate=constant, learning_rate_init=1e-06, max_iter=20, n_iter_no_change=5, power_t=0.001, solver=adam; total time=  60.0s\n"
     ]
    },
    {
     "name": "stderr",
     "output_type": "stream",
     "text": [
      "/Users/sebastianlopez/miniconda3/envs/maestriamatching/lib/python3.10/site-packages/sklearn/neural_network/_multilayer_perceptron.py:546: ConvergenceWarning: lbfgs failed to converge (status=1):\n",
      "STOP: TOTAL NO. of ITERATIONS REACHED LIMIT.\n",
      "\n",
      "Increase the number of iterations (max_iter) or scale the data as shown in:\n",
      "    https://scikit-learn.org/stable/modules/preprocessing.html\n",
      "  self.n_iter_ = _check_optimize_result(\"lbfgs\", opt_res, self.max_iter)\n",
      "/Users/sebastianlopez/miniconda3/envs/maestriamatching/lib/python3.10/site-packages/sklearn/neural_network/_multilayer_perceptron.py:546: ConvergenceWarning: lbfgs failed to converge (status=1):\n",
      "STOP: TOTAL NO. of ITERATIONS REACHED LIMIT.\n",
      "\n",
      "Increase the number of iterations (max_iter) or scale the data as shown in:\n",
      "    https://scikit-learn.org/stable/modules/preprocessing.html\n",
      "  self.n_iter_ = _check_optimize_result(\"lbfgs\", opt_res, self.max_iter)\n"
     ]
    },
    {
     "name": "stdout",
     "output_type": "stream",
     "text": [
      "[CV] END activation=identity, alpha=0.0001, early_stopping=True, learning_rate=constant, learning_rate_init=1e-06, max_iter=20, n_iter_no_change=5, power_t=0.005, solver=lbfgs; total time=  51.9s\n",
      "[CV] END activation=identity, alpha=0.0001, early_stopping=True, learning_rate=constant, learning_rate_init=1e-06, max_iter=20, n_iter_no_change=5, power_t=0.005, solver=lbfgs; total time=  51.7s\n"
     ]
    },
    {
     "name": "stderr",
     "output_type": "stream",
     "text": [
      "/Users/sebastianlopez/miniconda3/envs/maestriamatching/lib/python3.10/site-packages/sklearn/neural_network/_multilayer_perceptron.py:691: ConvergenceWarning: Stochastic Optimizer: Maximum iterations (20) reached and the optimization hasn't converged yet.\n",
      "  warnings.warn(\n"
     ]
    },
    {
     "name": "stdout",
     "output_type": "stream",
     "text": [
      "[CV] END activation=identity, alpha=0.0001, early_stopping=True, learning_rate=constant, learning_rate_init=1e-06, max_iter=20, n_iter_no_change=5, power_t=0.001, solver=adam; total time= 1.1min\n"
     ]
    },
    {
     "name": "stderr",
     "output_type": "stream",
     "text": [
      "/Users/sebastianlopez/miniconda3/envs/maestriamatching/lib/python3.10/site-packages/sklearn/neural_network/_multilayer_perceptron.py:546: ConvergenceWarning: lbfgs failed to converge (status=1):\n",
      "STOP: TOTAL NO. of ITERATIONS REACHED LIMIT.\n",
      "\n",
      "Increase the number of iterations (max_iter) or scale the data as shown in:\n",
      "    https://scikit-learn.org/stable/modules/preprocessing.html\n",
      "  self.n_iter_ = _check_optimize_result(\"lbfgs\", opt_res, self.max_iter)\n"
     ]
    },
    {
     "name": "stdout",
     "output_type": "stream",
     "text": [
      "[CV] END activation=identity, alpha=0.0001, early_stopping=True, learning_rate=constant, learning_rate_init=1e-06, max_iter=20, n_iter_no_change=5, power_t=0.005, solver=lbfgs; total time=  59.8s\n",
      "[CV] END activation=identity, alpha=0.0001, early_stopping=True, learning_rate=constant, learning_rate_init=1e-06, max_iter=50, n_iter_no_change=5, power_t=0.5, solver=sgd; total time=  23.4s\n",
      "[CV] END activation=identity, alpha=0.0001, early_stopping=True, learning_rate=constant, learning_rate_init=1e-06, max_iter=50, n_iter_no_change=5, power_t=0.5, solver=sgd; total time=  21.0s\n"
     ]
    },
    {
     "name": "stderr",
     "output_type": "stream",
     "text": [
      "/Users/sebastianlopez/miniconda3/envs/maestriamatching/lib/python3.10/site-packages/sklearn/neural_network/_multilayer_perceptron.py:691: ConvergenceWarning: Stochastic Optimizer: Maximum iterations (20) reached and the optimization hasn't converged yet.\n",
      "  warnings.warn(\n"
     ]
    },
    {
     "name": "stdout",
     "output_type": "stream",
     "text": [
      "[CV] END activation=identity, alpha=0.0001, early_stopping=True, learning_rate=constant, learning_rate_init=1e-06, max_iter=20, n_iter_no_change=5, power_t=0.005, solver=adam; total time= 1.1min\n"
     ]
    },
    {
     "name": "stderr",
     "output_type": "stream",
     "text": [
      "/Users/sebastianlopez/miniconda3/envs/maestriamatching/lib/python3.10/site-packages/sklearn/neural_network/_multilayer_perceptron.py:691: ConvergenceWarning: Stochastic Optimizer: Maximum iterations (20) reached and the optimization hasn't converged yet.\n",
      "  warnings.warn(\n"
     ]
    },
    {
     "name": "stdout",
     "output_type": "stream",
     "text": [
      "[CV] END activation=identity, alpha=0.0001, early_stopping=True, learning_rate=constant, learning_rate_init=1e-06, max_iter=20, n_iter_no_change=5, power_t=0.005, solver=adam; total time= 1.1min\n"
     ]
    },
    {
     "name": "stderr",
     "output_type": "stream",
     "text": [
      "/Users/sebastianlopez/miniconda3/envs/maestriamatching/lib/python3.10/site-packages/sklearn/neural_network/_multilayer_perceptron.py:691: ConvergenceWarning: Stochastic Optimizer: Maximum iterations (20) reached and the optimization hasn't converged yet.\n",
      "  warnings.warn(\n"
     ]
    },
    {
     "name": "stdout",
     "output_type": "stream",
     "text": [
      "[CV] END activation=identity, alpha=0.0001, early_stopping=True, learning_rate=constant, learning_rate_init=1e-06, max_iter=20, n_iter_no_change=5, power_t=0.005, solver=adam; total time= 1.0min\n"
     ]
    },
    {
     "name": "stderr",
     "output_type": "stream",
     "text": [
      "/Users/sebastianlopez/miniconda3/envs/maestriamatching/lib/python3.10/site-packages/sklearn/neural_network/_multilayer_perceptron.py:546: ConvergenceWarning: lbfgs failed to converge (status=1):\n",
      "STOP: TOTAL NO. of ITERATIONS REACHED LIMIT.\n",
      "\n",
      "Increase the number of iterations (max_iter) or scale the data as shown in:\n",
      "    https://scikit-learn.org/stable/modules/preprocessing.html\n",
      "  self.n_iter_ = _check_optimize_result(\"lbfgs\", opt_res, self.max_iter)\n"
     ]
    },
    {
     "name": "stdout",
     "output_type": "stream",
     "text": [
      "[CV] END activation=identity, alpha=0.0001, early_stopping=True, learning_rate=constant, learning_rate_init=1e-06, max_iter=50, n_iter_no_change=5, power_t=0.5, solver=lbfgs; total time= 2.1min\n"
     ]
    },
    {
     "name": "stderr",
     "output_type": "stream",
     "text": [
      "/Users/sebastianlopez/miniconda3/envs/maestriamatching/lib/python3.10/site-packages/sklearn/neural_network/_multilayer_perceptron.py:546: ConvergenceWarning: lbfgs failed to converge (status=1):\n",
      "STOP: TOTAL NO. of ITERATIONS REACHED LIMIT.\n",
      "\n",
      "Increase the number of iterations (max_iter) or scale the data as shown in:\n",
      "    https://scikit-learn.org/stable/modules/preprocessing.html\n",
      "  self.n_iter_ = _check_optimize_result(\"lbfgs\", opt_res, self.max_iter)\n"
     ]
    },
    {
     "name": "stdout",
     "output_type": "stream",
     "text": [
      "[CV] END activation=identity, alpha=0.0001, early_stopping=True, learning_rate=constant, learning_rate_init=1e-06, max_iter=50, n_iter_no_change=5, power_t=0.5, solver=lbfgs; total time= 2.2min\n"
     ]
    },
    {
     "name": "stderr",
     "output_type": "stream",
     "text": [
      "/Users/sebastianlopez/miniconda3/envs/maestriamatching/lib/python3.10/site-packages/sklearn/neural_network/_multilayer_perceptron.py:546: ConvergenceWarning: lbfgs failed to converge (status=1):\n",
      "STOP: TOTAL NO. of ITERATIONS REACHED LIMIT.\n",
      "\n",
      "Increase the number of iterations (max_iter) or scale the data as shown in:\n",
      "    https://scikit-learn.org/stable/modules/preprocessing.html\n",
      "  self.n_iter_ = _check_optimize_result(\"lbfgs\", opt_res, self.max_iter)\n"
     ]
    },
    {
     "name": "stdout",
     "output_type": "stream",
     "text": [
      "[CV] END activation=identity, alpha=0.0001, early_stopping=True, learning_rate=constant, learning_rate_init=1e-06, max_iter=50, n_iter_no_change=5, power_t=0.5, solver=lbfgs; total time= 2.2min\n",
      "[CV] END activation=identity, alpha=0.0001, early_stopping=True, learning_rate=constant, learning_rate_init=1e-06, max_iter=50, n_iter_no_change=5, power_t=0.1, solver=sgd; total time=  21.3s\n",
      "[CV] END activation=identity, alpha=0.0001, early_stopping=True, learning_rate=constant, learning_rate_init=1e-06, max_iter=50, n_iter_no_change=5, power_t=0.1, solver=sgd; total time=  20.4s\n"
     ]
    },
    {
     "name": "stderr",
     "output_type": "stream",
     "text": [
      "/Users/sebastianlopez/miniconda3/envs/maestriamatching/lib/python3.10/site-packages/sklearn/neural_network/_multilayer_perceptron.py:691: ConvergenceWarning: Stochastic Optimizer: Maximum iterations (50) reached and the optimization hasn't converged yet.\n",
      "  warnings.warn(\n"
     ]
    },
    {
     "name": "stdout",
     "output_type": "stream",
     "text": [
      "[CV] END activation=identity, alpha=0.0001, early_stopping=True, learning_rate=constant, learning_rate_init=1e-06, max_iter=50, n_iter_no_change=5, power_t=0.5, solver=sgd; total time= 2.3min\n",
      "[CV] END activation=identity, alpha=0.0001, early_stopping=True, learning_rate=constant, learning_rate_init=1e-06, max_iter=50, n_iter_no_change=5, power_t=0.1, solver=adam; total time=  22.7s\n"
     ]
    },
    {
     "name": "stderr",
     "output_type": "stream",
     "text": [
      "/Users/sebastianlopez/miniconda3/envs/maestriamatching/lib/python3.10/site-packages/sklearn/neural_network/_multilayer_perceptron.py:546: ConvergenceWarning: lbfgs failed to converge (status=1):\n",
      "STOP: TOTAL NO. of ITERATIONS REACHED LIMIT.\n",
      "\n",
      "Increase the number of iterations (max_iter) or scale the data as shown in:\n",
      "    https://scikit-learn.org/stable/modules/preprocessing.html\n",
      "  self.n_iter_ = _check_optimize_result(\"lbfgs\", opt_res, self.max_iter)\n"
     ]
    },
    {
     "name": "stdout",
     "output_type": "stream",
     "text": [
      "[CV] END activation=identity, alpha=0.0001, early_stopping=True, learning_rate=constant, learning_rate_init=1e-06, max_iter=50, n_iter_no_change=5, power_t=0.1, solver=lbfgs; total time= 2.2min\n"
     ]
    },
    {
     "name": "stderr",
     "output_type": "stream",
     "text": [
      "/Users/sebastianlopez/miniconda3/envs/maestriamatching/lib/python3.10/site-packages/sklearn/neural_network/_multilayer_perceptron.py:691: ConvergenceWarning: Stochastic Optimizer: Maximum iterations (50) reached and the optimization hasn't converged yet.\n",
      "  warnings.warn(\n"
     ]
    },
    {
     "name": "stdout",
     "output_type": "stream",
     "text": [
      "[CV] END activation=identity, alpha=0.0001, early_stopping=True, learning_rate=constant, learning_rate_init=1e-06, max_iter=50, n_iter_no_change=5, power_t=0.5, solver=adam; total time= 2.5min\n"
     ]
    },
    {
     "name": "stderr",
     "output_type": "stream",
     "text": [
      "/Users/sebastianlopez/miniconda3/envs/maestriamatching/lib/python3.10/site-packages/sklearn/neural_network/_multilayer_perceptron.py:546: ConvergenceWarning: lbfgs failed to converge (status=1):\n",
      "STOP: TOTAL NO. of ITERATIONS REACHED LIMIT.\n",
      "\n",
      "Increase the number of iterations (max_iter) or scale the data as shown in:\n",
      "    https://scikit-learn.org/stable/modules/preprocessing.html\n",
      "  self.n_iter_ = _check_optimize_result(\"lbfgs\", opt_res, self.max_iter)\n"
     ]
    },
    {
     "name": "stdout",
     "output_type": "stream",
     "text": [
      "[CV] END activation=identity, alpha=0.0001, early_stopping=True, learning_rate=constant, learning_rate_init=1e-06, max_iter=50, n_iter_no_change=5, power_t=0.1, solver=lbfgs; total time= 2.2min\n"
     ]
    },
    {
     "name": "stderr",
     "output_type": "stream",
     "text": [
      "/Users/sebastianlopez/miniconda3/envs/maestriamatching/lib/python3.10/site-packages/sklearn/neural_network/_multilayer_perceptron.py:691: ConvergenceWarning: Stochastic Optimizer: Maximum iterations (50) reached and the optimization hasn't converged yet.\n",
      "  warnings.warn(\n"
     ]
    },
    {
     "name": "stdout",
     "output_type": "stream",
     "text": [
      "[CV] END activation=identity, alpha=0.0001, early_stopping=True, learning_rate=constant, learning_rate_init=1e-06, max_iter=50, n_iter_no_change=5, power_t=0.5, solver=adam; total time= 2.5min\n"
     ]
    },
    {
     "name": "stderr",
     "output_type": "stream",
     "text": [
      "/Users/sebastianlopez/miniconda3/envs/maestriamatching/lib/python3.10/site-packages/sklearn/neural_network/_multilayer_perceptron.py:546: ConvergenceWarning: lbfgs failed to converge (status=1):\n",
      "STOP: TOTAL NO. of ITERATIONS REACHED LIMIT.\n",
      "\n",
      "Increase the number of iterations (max_iter) or scale the data as shown in:\n",
      "    https://scikit-learn.org/stable/modules/preprocessing.html\n",
      "  self.n_iter_ = _check_optimize_result(\"lbfgs\", opt_res, self.max_iter)\n"
     ]
    },
    {
     "name": "stdout",
     "output_type": "stream",
     "text": [
      "[CV] END activation=identity, alpha=0.0001, early_stopping=True, learning_rate=constant, learning_rate_init=1e-06, max_iter=50, n_iter_no_change=5, power_t=0.1, solver=lbfgs; total time= 2.3min\n"
     ]
    },
    {
     "name": "stderr",
     "output_type": "stream",
     "text": [
      "/Users/sebastianlopez/miniconda3/envs/maestriamatching/lib/python3.10/site-packages/sklearn/neural_network/_multilayer_perceptron.py:691: ConvergenceWarning: Stochastic Optimizer: Maximum iterations (50) reached and the optimization hasn't converged yet.\n",
      "  warnings.warn(\n"
     ]
    },
    {
     "name": "stdout",
     "output_type": "stream",
     "text": [
      "[CV] END activation=identity, alpha=0.0001, early_stopping=True, learning_rate=constant, learning_rate_init=1e-06, max_iter=50, n_iter_no_change=5, power_t=0.5, solver=adam; total time= 2.5min\n"
     ]
    },
    {
     "name": "stderr",
     "output_type": "stream",
     "text": [
      "/Users/sebastianlopez/miniconda3/envs/maestriamatching/lib/python3.10/site-packages/sklearn/neural_network/_multilayer_perceptron.py:691: ConvergenceWarning: Stochastic Optimizer: Maximum iterations (50) reached and the optimization hasn't converged yet.\n",
      "  warnings.warn(\n"
     ]
    },
    {
     "name": "stdout",
     "output_type": "stream",
     "text": [
      "[CV] END activation=identity, alpha=0.0001, early_stopping=True, learning_rate=constant, learning_rate_init=1e-06, max_iter=50, n_iter_no_change=5, power_t=0.1, solver=sgd; total time= 2.3min\n",
      "[CV] END activation=identity, alpha=0.0001, early_stopping=True, learning_rate=constant, learning_rate_init=1e-06, max_iter=50, n_iter_no_change=5, power_t=0.9, solver=sgd; total time=  20.2s\n",
      "[CV] END activation=identity, alpha=0.0001, early_stopping=True, learning_rate=constant, learning_rate_init=1e-06, max_iter=50, n_iter_no_change=5, power_t=0.9, solver=sgd; total time=  19.7s\n",
      "[CV] END activation=identity, alpha=0.0001, early_stopping=True, learning_rate=constant, learning_rate_init=1e-06, max_iter=50, n_iter_no_change=5, power_t=0.9, solver=adam; total time=  21.1s\n"
     ]
    },
    {
     "name": "stderr",
     "output_type": "stream",
     "text": [
      "/Users/sebastianlopez/miniconda3/envs/maestriamatching/lib/python3.10/site-packages/sklearn/neural_network/_multilayer_perceptron.py:691: ConvergenceWarning: Stochastic Optimizer: Maximum iterations (50) reached and the optimization hasn't converged yet.\n",
      "  warnings.warn(\n"
     ]
    },
    {
     "name": "stdout",
     "output_type": "stream",
     "text": [
      "[CV] END activation=identity, alpha=0.0001, early_stopping=True, learning_rate=constant, learning_rate_init=1e-06, max_iter=50, n_iter_no_change=5, power_t=0.1, solver=adam; total time= 2.5min\n"
     ]
    },
    {
     "name": "stderr",
     "output_type": "stream",
     "text": [
      "/Users/sebastianlopez/miniconda3/envs/maestriamatching/lib/python3.10/site-packages/sklearn/neural_network/_multilayer_perceptron.py:546: ConvergenceWarning: lbfgs failed to converge (status=1):\n",
      "STOP: TOTAL NO. of ITERATIONS REACHED LIMIT.\n",
      "\n",
      "Increase the number of iterations (max_iter) or scale the data as shown in:\n",
      "    https://scikit-learn.org/stable/modules/preprocessing.html\n",
      "  self.n_iter_ = _check_optimize_result(\"lbfgs\", opt_res, self.max_iter)\n"
     ]
    },
    {
     "name": "stdout",
     "output_type": "stream",
     "text": [
      "[CV] END activation=identity, alpha=0.0001, early_stopping=True, learning_rate=constant, learning_rate_init=1e-06, max_iter=50, n_iter_no_change=5, power_t=0.9, solver=lbfgs; total time= 2.1min\n"
     ]
    },
    {
     "name": "stderr",
     "output_type": "stream",
     "text": [
      "/Users/sebastianlopez/miniconda3/envs/maestriamatching/lib/python3.10/site-packages/sklearn/neural_network/_multilayer_perceptron.py:691: ConvergenceWarning: Stochastic Optimizer: Maximum iterations (50) reached and the optimization hasn't converged yet.\n",
      "  warnings.warn(\n"
     ]
    },
    {
     "name": "stdout",
     "output_type": "stream",
     "text": [
      "[CV] END activation=identity, alpha=0.0001, early_stopping=True, learning_rate=constant, learning_rate_init=1e-06, max_iter=50, n_iter_no_change=5, power_t=0.1, solver=adam; total time= 2.5min\n"
     ]
    },
    {
     "name": "stderr",
     "output_type": "stream",
     "text": [
      "/Users/sebastianlopez/miniconda3/envs/maestriamatching/lib/python3.10/site-packages/sklearn/neural_network/_multilayer_perceptron.py:546: ConvergenceWarning: lbfgs failed to converge (status=1):\n",
      "STOP: TOTAL NO. of ITERATIONS REACHED LIMIT.\n",
      "\n",
      "Increase the number of iterations (max_iter) or scale the data as shown in:\n",
      "    https://scikit-learn.org/stable/modules/preprocessing.html\n",
      "  self.n_iter_ = _check_optimize_result(\"lbfgs\", opt_res, self.max_iter)\n"
     ]
    },
    {
     "name": "stdout",
     "output_type": "stream",
     "text": [
      "[CV] END activation=identity, alpha=0.0001, early_stopping=True, learning_rate=constant, learning_rate_init=1e-06, max_iter=50, n_iter_no_change=5, power_t=0.9, solver=lbfgs; total time= 2.1min\n"
     ]
    },
    {
     "name": "stderr",
     "output_type": "stream",
     "text": [
      "/Users/sebastianlopez/miniconda3/envs/maestriamatching/lib/python3.10/site-packages/sklearn/neural_network/_multilayer_perceptron.py:546: ConvergenceWarning: lbfgs failed to converge (status=1):\n",
      "STOP: TOTAL NO. of ITERATIONS REACHED LIMIT.\n",
      "\n",
      "Increase the number of iterations (max_iter) or scale the data as shown in:\n",
      "    https://scikit-learn.org/stable/modules/preprocessing.html\n",
      "  self.n_iter_ = _check_optimize_result(\"lbfgs\", opt_res, self.max_iter)\n"
     ]
    },
    {
     "name": "stdout",
     "output_type": "stream",
     "text": [
      "[CV] END activation=identity, alpha=0.0001, early_stopping=True, learning_rate=constant, learning_rate_init=1e-06, max_iter=50, n_iter_no_change=5, power_t=0.9, solver=lbfgs; total time= 2.1min\n",
      "[CV] END activation=identity, alpha=0.0001, early_stopping=True, learning_rate=constant, learning_rate_init=1e-06, max_iter=50, n_iter_no_change=5, power_t=0.001, solver=sgd; total time=  20.7s\n"
     ]
    },
    {
     "name": "stderr",
     "output_type": "stream",
     "text": [
      "/Users/sebastianlopez/miniconda3/envs/maestriamatching/lib/python3.10/site-packages/sklearn/neural_network/_multilayer_perceptron.py:691: ConvergenceWarning: Stochastic Optimizer: Maximum iterations (50) reached and the optimization hasn't converged yet.\n",
      "  warnings.warn(\n"
     ]
    },
    {
     "name": "stdout",
     "output_type": "stream",
     "text": [
      "[CV] END activation=identity, alpha=0.0001, early_stopping=True, learning_rate=constant, learning_rate_init=1e-06, max_iter=50, n_iter_no_change=5, power_t=0.9, solver=sgd; total time= 2.2min\n"
     ]
    },
    {
     "name": "stderr",
     "output_type": "stream",
     "text": [
      "/Users/sebastianlopez/miniconda3/envs/maestriamatching/lib/python3.10/site-packages/sklearn/neural_network/_multilayer_perceptron.py:546: ConvergenceWarning: lbfgs failed to converge (status=1):\n",
      "STOP: TOTAL NO. of ITERATIONS REACHED LIMIT.\n",
      "\n",
      "Increase the number of iterations (max_iter) or scale the data as shown in:\n",
      "    https://scikit-learn.org/stable/modules/preprocessing.html\n",
      "  self.n_iter_ = _check_optimize_result(\"lbfgs\", opt_res, self.max_iter)\n"
     ]
    },
    {
     "name": "stdout",
     "output_type": "stream",
     "text": [
      "[CV] END activation=identity, alpha=0.0001, early_stopping=True, learning_rate=constant, learning_rate_init=1e-06, max_iter=50, n_iter_no_change=5, power_t=0.001, solver=lbfgs; total time= 2.1min\n"
     ]
    },
    {
     "name": "stderr",
     "output_type": "stream",
     "text": [
      "/Users/sebastianlopez/miniconda3/envs/maestriamatching/lib/python3.10/site-packages/sklearn/neural_network/_multilayer_perceptron.py:691: ConvergenceWarning: Stochastic Optimizer: Maximum iterations (50) reached and the optimization hasn't converged yet.\n",
      "  warnings.warn(\n"
     ]
    },
    {
     "name": "stdout",
     "output_type": "stream",
     "text": [
      "[CV] END activation=identity, alpha=0.0001, early_stopping=True, learning_rate=constant, learning_rate_init=1e-06, max_iter=50, n_iter_no_change=5, power_t=0.9, solver=adam; total time= 2.5min\n"
     ]
    },
    {
     "name": "stderr",
     "output_type": "stream",
     "text": [
      "/Users/sebastianlopez/miniconda3/envs/maestriamatching/lib/python3.10/site-packages/sklearn/neural_network/_multilayer_perceptron.py:546: ConvergenceWarning: lbfgs failed to converge (status=1):\n",
      "STOP: TOTAL NO. of ITERATIONS REACHED LIMIT.\n",
      "\n",
      "Increase the number of iterations (max_iter) or scale the data as shown in:\n",
      "    https://scikit-learn.org/stable/modules/preprocessing.html\n",
      "  self.n_iter_ = _check_optimize_result(\"lbfgs\", opt_res, self.max_iter)\n"
     ]
    },
    {
     "name": "stdout",
     "output_type": "stream",
     "text": [
      "[CV] END activation=identity, alpha=0.0001, early_stopping=True, learning_rate=constant, learning_rate_init=1e-06, max_iter=50, n_iter_no_change=5, power_t=0.001, solver=lbfgs; total time= 2.3min\n"
     ]
    },
    {
     "name": "stderr",
     "output_type": "stream",
     "text": [
      "/Users/sebastianlopez/miniconda3/envs/maestriamatching/lib/python3.10/site-packages/sklearn/neural_network/_multilayer_perceptron.py:691: ConvergenceWarning: Stochastic Optimizer: Maximum iterations (50) reached and the optimization hasn't converged yet.\n",
      "  warnings.warn(\n",
      "/Users/sebastianlopez/miniconda3/envs/maestriamatching/lib/python3.10/site-packages/sklearn/neural_network/_multilayer_perceptron.py:546: ConvergenceWarning: lbfgs failed to converge (status=1):\n",
      "STOP: TOTAL NO. of ITERATIONS REACHED LIMIT.\n",
      "\n",
      "Increase the number of iterations (max_iter) or scale the data as shown in:\n",
      "    https://scikit-learn.org/stable/modules/preprocessing.html\n",
      "  self.n_iter_ = _check_optimize_result(\"lbfgs\", opt_res, self.max_iter)\n"
     ]
    },
    {
     "name": "stdout",
     "output_type": "stream",
     "text": [
      "[CV] END activation=identity, alpha=0.0001, early_stopping=True, learning_rate=constant, learning_rate_init=1e-06, max_iter=50, n_iter_no_change=5, power_t=0.9, solver=adam; total time= 2.4min\n",
      "[CV] END activation=identity, alpha=0.0001, early_stopping=True, learning_rate=constant, learning_rate_init=1e-06, max_iter=50, n_iter_no_change=5, power_t=0.001, solver=lbfgs; total time= 2.2min\n",
      "[CV] END activation=identity, alpha=0.0001, early_stopping=True, learning_rate=constant, learning_rate_init=1e-06, max_iter=50, n_iter_no_change=5, power_t=0.005, solver=sgd; total time=  21.5s\n",
      "[CV] END activation=identity, alpha=0.0001, early_stopping=True, learning_rate=constant, learning_rate_init=1e-06, max_iter=50, n_iter_no_change=5, power_t=0.005, solver=sgd; total time=  21.1s\n"
     ]
    },
    {
     "name": "stderr",
     "output_type": "stream",
     "text": [
      "/Users/sebastianlopez/miniconda3/envs/maestriamatching/lib/python3.10/site-packages/sklearn/neural_network/_multilayer_perceptron.py:691: ConvergenceWarning: Stochastic Optimizer: Maximum iterations (50) reached and the optimization hasn't converged yet.\n",
      "  warnings.warn(\n"
     ]
    },
    {
     "name": "stdout",
     "output_type": "stream",
     "text": [
      "[CV] END activation=identity, alpha=0.0001, early_stopping=True, learning_rate=constant, learning_rate_init=1e-06, max_iter=50, n_iter_no_change=5, power_t=0.001, solver=sgd; total time= 2.5min\n"
     ]
    },
    {
     "name": "stderr",
     "output_type": "stream",
     "text": [
      "/Users/sebastianlopez/miniconda3/envs/maestriamatching/lib/python3.10/site-packages/sklearn/neural_network/_multilayer_perceptron.py:691: ConvergenceWarning: Stochastic Optimizer: Maximum iterations (50) reached and the optimization hasn't converged yet.\n",
      "  warnings.warn(\n"
     ]
    },
    {
     "name": "stdout",
     "output_type": "stream",
     "text": [
      "[CV] END activation=identity, alpha=0.0001, early_stopping=True, learning_rate=constant, learning_rate_init=1e-06, max_iter=50, n_iter_no_change=5, power_t=0.001, solver=sgd; total time= 2.6min\n"
     ]
    },
    {
     "name": "stderr",
     "output_type": "stream",
     "text": [
      "/Users/sebastianlopez/miniconda3/envs/maestriamatching/lib/python3.10/site-packages/sklearn/neural_network/_multilayer_perceptron.py:546: ConvergenceWarning: lbfgs failed to converge (status=1):\n",
      "STOP: TOTAL NO. of ITERATIONS REACHED LIMIT.\n",
      "\n",
      "Increase the number of iterations (max_iter) or scale the data as shown in:\n",
      "    https://scikit-learn.org/stable/modules/preprocessing.html\n",
      "  self.n_iter_ = _check_optimize_result(\"lbfgs\", opt_res, self.max_iter)\n"
     ]
    },
    {
     "name": "stdout",
     "output_type": "stream",
     "text": [
      "[CV] END activation=identity, alpha=0.0001, early_stopping=True, learning_rate=constant, learning_rate_init=1e-06, max_iter=50, n_iter_no_change=5, power_t=0.005, solver=lbfgs; total time= 2.3min\n"
     ]
    },
    {
     "name": "stderr",
     "output_type": "stream",
     "text": [
      "/Users/sebastianlopez/miniconda3/envs/maestriamatching/lib/python3.10/site-packages/sklearn/neural_network/_multilayer_perceptron.py:691: ConvergenceWarning: Stochastic Optimizer: Maximum iterations (50) reached and the optimization hasn't converged yet.\n",
      "  warnings.warn(\n"
     ]
    },
    {
     "name": "stdout",
     "output_type": "stream",
     "text": [
      "[CV] END activation=identity, alpha=0.0001, early_stopping=True, learning_rate=constant, learning_rate_init=1e-06, max_iter=50, n_iter_no_change=5, power_t=0.001, solver=adam; total time= 2.8min\n"
     ]
    },
    {
     "name": "stderr",
     "output_type": "stream",
     "text": [
      "/Users/sebastianlopez/miniconda3/envs/maestriamatching/lib/python3.10/site-packages/sklearn/neural_network/_multilayer_perceptron.py:546: ConvergenceWarning: lbfgs failed to converge (status=1):\n",
      "STOP: TOTAL NO. of ITERATIONS REACHED LIMIT.\n",
      "\n",
      "Increase the number of iterations (max_iter) or scale the data as shown in:\n",
      "    https://scikit-learn.org/stable/modules/preprocessing.html\n",
      "  self.n_iter_ = _check_optimize_result(\"lbfgs\", opt_res, self.max_iter)\n"
     ]
    },
    {
     "name": "stdout",
     "output_type": "stream",
     "text": [
      "[CV] END activation=identity, alpha=0.0001, early_stopping=True, learning_rate=invscaling, learning_rate_init=0.0001, max_iter=5, n_iter_no_change=5, power_t=0.5, solver=lbfgs; total time=  20.1s\n"
     ]
    },
    {
     "name": "stderr",
     "output_type": "stream",
     "text": [
      "/Users/sebastianlopez/miniconda3/envs/maestriamatching/lib/python3.10/site-packages/sklearn/neural_network/_multilayer_perceptron.py:691: ConvergenceWarning: Stochastic Optimizer: Maximum iterations (50) reached and the optimization hasn't converged yet.\n",
      "  warnings.warn(\n"
     ]
    },
    {
     "name": "stdout",
     "output_type": "stream",
     "text": [
      "[CV] END activation=identity, alpha=0.0001, early_stopping=True, learning_rate=constant, learning_rate_init=1e-06, max_iter=50, n_iter_no_change=5, power_t=0.001, solver=adam; total time= 2.8min\n"
     ]
    },
    {
     "name": "stderr",
     "output_type": "stream",
     "text": [
      "/Users/sebastianlopez/miniconda3/envs/maestriamatching/lib/python3.10/site-packages/sklearn/neural_network/_multilayer_perceptron.py:691: ConvergenceWarning: Stochastic Optimizer: Maximum iterations (50) reached and the optimization hasn't converged yet.\n",
      "  warnings.warn(\n",
      "/Users/sebastianlopez/miniconda3/envs/maestriamatching/lib/python3.10/site-packages/sklearn/neural_network/_multilayer_perceptron.py:546: ConvergenceWarning: lbfgs failed to converge (status=1):\n",
      "STOP: TOTAL NO. of ITERATIONS REACHED LIMIT.\n",
      "\n",
      "Increase the number of iterations (max_iter) or scale the data as shown in:\n",
      "    https://scikit-learn.org/stable/modules/preprocessing.html\n",
      "  self.n_iter_ = _check_optimize_result(\"lbfgs\", opt_res, self.max_iter)\n"
     ]
    },
    {
     "name": "stdout",
     "output_type": "stream",
     "text": [
      "[CV] END activation=identity, alpha=0.0001, early_stopping=True, learning_rate=constant, learning_rate_init=1e-06, max_iter=50, n_iter_no_change=5, power_t=0.001, solver=adam; total time= 2.8min\n",
      "[CV] END activation=identity, alpha=0.0001, early_stopping=True, learning_rate=constant, learning_rate_init=1e-06, max_iter=50, n_iter_no_change=5, power_t=0.005, solver=lbfgs; total time= 2.5min\n"
     ]
    },
    {
     "name": "stderr",
     "output_type": "stream",
     "text": [
      "/Users/sebastianlopez/miniconda3/envs/maestriamatching/lib/python3.10/site-packages/sklearn/neural_network/_multilayer_perceptron.py:546: ConvergenceWarning: lbfgs failed to converge (status=1):\n",
      "STOP: TOTAL NO. of ITERATIONS REACHED LIMIT.\n",
      "\n",
      "Increase the number of iterations (max_iter) or scale the data as shown in:\n",
      "    https://scikit-learn.org/stable/modules/preprocessing.html\n",
      "  self.n_iter_ = _check_optimize_result(\"lbfgs\", opt_res, self.max_iter)\n"
     ]
    },
    {
     "name": "stdout",
     "output_type": "stream",
     "text": [
      "[CV] END activation=identity, alpha=0.0001, early_stopping=True, learning_rate=invscaling, learning_rate_init=0.0001, max_iter=5, n_iter_no_change=5, power_t=0.5, solver=lbfgs; total time=  18.3s\n"
     ]
    },
    {
     "name": "stderr",
     "output_type": "stream",
     "text": [
      "/Users/sebastianlopez/miniconda3/envs/maestriamatching/lib/python3.10/site-packages/sklearn/neural_network/_multilayer_perceptron.py:546: ConvergenceWarning: lbfgs failed to converge (status=1):\n",
      "STOP: TOTAL NO. of ITERATIONS REACHED LIMIT.\n",
      "\n",
      "Increase the number of iterations (max_iter) or scale the data as shown in:\n",
      "    https://scikit-learn.org/stable/modules/preprocessing.html\n",
      "  self.n_iter_ = _check_optimize_result(\"lbfgs\", opt_res, self.max_iter)\n"
     ]
    },
    {
     "name": "stdout",
     "output_type": "stream",
     "text": [
      "[CV] END activation=identity, alpha=0.0001, early_stopping=True, learning_rate=constant, learning_rate_init=1e-06, max_iter=50, n_iter_no_change=5, power_t=0.005, solver=lbfgs; total time= 2.4min\n"
     ]
    },
    {
     "name": "stderr",
     "output_type": "stream",
     "text": [
      "/Users/sebastianlopez/miniconda3/envs/maestriamatching/lib/python3.10/site-packages/sklearn/neural_network/_multilayer_perceptron.py:546: ConvergenceWarning: lbfgs failed to converge (status=1):\n",
      "STOP: TOTAL NO. of ITERATIONS REACHED LIMIT.\n",
      "\n",
      "Increase the number of iterations (max_iter) or scale the data as shown in:\n",
      "    https://scikit-learn.org/stable/modules/preprocessing.html\n",
      "  self.n_iter_ = _check_optimize_result(\"lbfgs\", opt_res, self.max_iter)\n"
     ]
    },
    {
     "name": "stdout",
     "output_type": "stream",
     "text": [
      "[CV] END activation=identity, alpha=0.0001, early_stopping=True, learning_rate=invscaling, learning_rate_init=0.0001, max_iter=5, n_iter_no_change=5, power_t=0.5, solver=lbfgs; total time=  18.1s\n"
     ]
    },
    {
     "name": "stderr",
     "output_type": "stream",
     "text": [
      "/Users/sebastianlopez/miniconda3/envs/maestriamatching/lib/python3.10/site-packages/sklearn/neural_network/_multilayer_perceptron.py:691: ConvergenceWarning: Stochastic Optimizer: Maximum iterations (5) reached and the optimization hasn't converged yet.\n",
      "  warnings.warn(\n"
     ]
    },
    {
     "name": "stdout",
     "output_type": "stream",
     "text": [
      "[CV] END activation=identity, alpha=0.0001, early_stopping=True, learning_rate=invscaling, learning_rate_init=0.0001, max_iter=5, n_iter_no_change=5, power_t=0.5, solver=sgd; total time=  15.9s\n"
     ]
    },
    {
     "name": "stderr",
     "output_type": "stream",
     "text": [
      "/Users/sebastianlopez/miniconda3/envs/maestriamatching/lib/python3.10/site-packages/sklearn/neural_network/_multilayer_perceptron.py:691: ConvergenceWarning: Stochastic Optimizer: Maximum iterations (5) reached and the optimization hasn't converged yet.\n",
      "  warnings.warn(\n"
     ]
    },
    {
     "name": "stdout",
     "output_type": "stream",
     "text": [
      "[CV] END activation=identity, alpha=0.0001, early_stopping=True, learning_rate=invscaling, learning_rate_init=0.0001, max_iter=5, n_iter_no_change=5, power_t=0.5, solver=sgd; total time=  15.9s\n"
     ]
    },
    {
     "name": "stderr",
     "output_type": "stream",
     "text": [
      "/Users/sebastianlopez/miniconda3/envs/maestriamatching/lib/python3.10/site-packages/sklearn/neural_network/_multilayer_perceptron.py:691: ConvergenceWarning: Stochastic Optimizer: Maximum iterations (5) reached and the optimization hasn't converged yet.\n",
      "  warnings.warn(\n"
     ]
    },
    {
     "name": "stdout",
     "output_type": "stream",
     "text": [
      "[CV] END activation=identity, alpha=0.0001, early_stopping=True, learning_rate=invscaling, learning_rate_init=0.0001, max_iter=5, n_iter_no_change=5, power_t=0.5, solver=sgd; total time=  16.3s\n"
     ]
    },
    {
     "name": "stderr",
     "output_type": "stream",
     "text": [
      "/Users/sebastianlopez/miniconda3/envs/maestriamatching/lib/python3.10/site-packages/sklearn/neural_network/_multilayer_perceptron.py:691: ConvergenceWarning: Stochastic Optimizer: Maximum iterations (5) reached and the optimization hasn't converged yet.\n",
      "  warnings.warn(\n"
     ]
    },
    {
     "name": "stdout",
     "output_type": "stream",
     "text": [
      "[CV] END activation=identity, alpha=0.0001, early_stopping=True, learning_rate=invscaling, learning_rate_init=0.0001, max_iter=5, n_iter_no_change=5, power_t=0.5, solver=adam; total time=  17.8s\n"
     ]
    },
    {
     "name": "stderr",
     "output_type": "stream",
     "text": [
      "/Users/sebastianlopez/miniconda3/envs/maestriamatching/lib/python3.10/site-packages/sklearn/neural_network/_multilayer_perceptron.py:691: ConvergenceWarning: Stochastic Optimizer: Maximum iterations (5) reached and the optimization hasn't converged yet.\n",
      "  warnings.warn(\n",
      "/Users/sebastianlopez/miniconda3/envs/maestriamatching/lib/python3.10/site-packages/sklearn/neural_network/_multilayer_perceptron.py:691: ConvergenceWarning: Stochastic Optimizer: Maximum iterations (50) reached and the optimization hasn't converged yet.\n",
      "  warnings.warn(\n"
     ]
    },
    {
     "name": "stdout",
     "output_type": "stream",
     "text": [
      "[CV] END activation=identity, alpha=0.0001, early_stopping=True, learning_rate=invscaling, learning_rate_init=0.0001, max_iter=5, n_iter_no_change=5, power_t=0.5, solver=adam; total time=  17.0s\n",
      "[CV] END activation=identity, alpha=0.0001, early_stopping=True, learning_rate=constant, learning_rate_init=1e-06, max_iter=50, n_iter_no_change=5, power_t=0.005, solver=sgd; total time= 2.6min\n"
     ]
    },
    {
     "name": "stderr",
     "output_type": "stream",
     "text": [
      "/Users/sebastianlopez/miniconda3/envs/maestriamatching/lib/python3.10/site-packages/sklearn/neural_network/_multilayer_perceptron.py:691: ConvergenceWarning: Stochastic Optimizer: Maximum iterations (5) reached and the optimization hasn't converged yet.\n",
      "  warnings.warn(\n"
     ]
    },
    {
     "name": "stdout",
     "output_type": "stream",
     "text": [
      "[CV] END activation=identity, alpha=0.0001, early_stopping=True, learning_rate=invscaling, learning_rate_init=0.0001, max_iter=5, n_iter_no_change=5, power_t=0.5, solver=adam; total time=  17.1s\n"
     ]
    },
    {
     "name": "stderr",
     "output_type": "stream",
     "text": [
      "/Users/sebastianlopez/miniconda3/envs/maestriamatching/lib/python3.10/site-packages/sklearn/neural_network/_multilayer_perceptron.py:546: ConvergenceWarning: lbfgs failed to converge (status=1):\n",
      "STOP: TOTAL NO. of ITERATIONS REACHED LIMIT.\n",
      "\n",
      "Increase the number of iterations (max_iter) or scale the data as shown in:\n",
      "    https://scikit-learn.org/stable/modules/preprocessing.html\n",
      "  self.n_iter_ = _check_optimize_result(\"lbfgs\", opt_res, self.max_iter)\n"
     ]
    },
    {
     "name": "stdout",
     "output_type": "stream",
     "text": [
      "[CV] END activation=identity, alpha=0.0001, early_stopping=True, learning_rate=invscaling, learning_rate_init=0.0001, max_iter=5, n_iter_no_change=5, power_t=0.1, solver=lbfgs; total time=  18.8s\n"
     ]
    },
    {
     "name": "stderr",
     "output_type": "stream",
     "text": [
      "/Users/sebastianlopez/miniconda3/envs/maestriamatching/lib/python3.10/site-packages/sklearn/neural_network/_multilayer_perceptron.py:546: ConvergenceWarning: lbfgs failed to converge (status=1):\n",
      "STOP: TOTAL NO. of ITERATIONS REACHED LIMIT.\n",
      "\n",
      "Increase the number of iterations (max_iter) or scale the data as shown in:\n",
      "    https://scikit-learn.org/stable/modules/preprocessing.html\n",
      "  self.n_iter_ = _check_optimize_result(\"lbfgs\", opt_res, self.max_iter)\n",
      "/Users/sebastianlopez/miniconda3/envs/maestriamatching/lib/python3.10/site-packages/sklearn/neural_network/_multilayer_perceptron.py:691: ConvergenceWarning: Stochastic Optimizer: Maximum iterations (5) reached and the optimization hasn't converged yet.\n",
      "  warnings.warn(\n"
     ]
    },
    {
     "name": "stdout",
     "output_type": "stream",
     "text": [
      "[CV] END activation=identity, alpha=0.0001, early_stopping=True, learning_rate=invscaling, learning_rate_init=0.0001, max_iter=5, n_iter_no_change=5, power_t=0.1, solver=lbfgs; total time=  21.4s\n",
      "[CV] END activation=identity, alpha=0.0001, early_stopping=True, learning_rate=invscaling, learning_rate_init=0.0001, max_iter=5, n_iter_no_change=5, power_t=0.1, solver=sgd; total time=  15.5s\n"
     ]
    },
    {
     "name": "stderr",
     "output_type": "stream",
     "text": [
      "/Users/sebastianlopez/miniconda3/envs/maestriamatching/lib/python3.10/site-packages/sklearn/neural_network/_multilayer_perceptron.py:691: ConvergenceWarning: Stochastic Optimizer: Maximum iterations (5) reached and the optimization hasn't converged yet.\n",
      "  warnings.warn(\n"
     ]
    },
    {
     "name": "stdout",
     "output_type": "stream",
     "text": [
      "[CV] END activation=identity, alpha=0.0001, early_stopping=True, learning_rate=invscaling, learning_rate_init=0.0001, max_iter=5, n_iter_no_change=5, power_t=0.1, solver=sgd; total time=  15.1s\n",
      "[CV] END activation=identity, alpha=0.0001, early_stopping=True, learning_rate=constant, learning_rate_init=1e-06, max_iter=50, n_iter_no_change=5, power_t=0.005, solver=adam; total time= 1.2min\n"
     ]
    },
    {
     "name": "stderr",
     "output_type": "stream",
     "text": [
      "/Users/sebastianlopez/miniconda3/envs/maestriamatching/lib/python3.10/site-packages/sklearn/neural_network/_multilayer_perceptron.py:691: ConvergenceWarning: Stochastic Optimizer: Maximum iterations (5) reached and the optimization hasn't converged yet.\n",
      "  warnings.warn(\n"
     ]
    },
    {
     "name": "stdout",
     "output_type": "stream",
     "text": [
      "[CV] END activation=identity, alpha=0.0001, early_stopping=True, learning_rate=invscaling, learning_rate_init=0.0001, max_iter=5, n_iter_no_change=5, power_t=0.1, solver=sgd; total time=  15.7s\n"
     ]
    },
    {
     "name": "stderr",
     "output_type": "stream",
     "text": [
      "/Users/sebastianlopez/miniconda3/envs/maestriamatching/lib/python3.10/site-packages/sklearn/neural_network/_multilayer_perceptron.py:546: ConvergenceWarning: lbfgs failed to converge (status=1):\n",
      "STOP: TOTAL NO. of ITERATIONS REACHED LIMIT.\n",
      "\n",
      "Increase the number of iterations (max_iter) or scale the data as shown in:\n",
      "    https://scikit-learn.org/stable/modules/preprocessing.html\n",
      "  self.n_iter_ = _check_optimize_result(\"lbfgs\", opt_res, self.max_iter)\n",
      "/Users/sebastianlopez/miniconda3/envs/maestriamatching/lib/python3.10/site-packages/sklearn/neural_network/_multilayer_perceptron.py:691: ConvergenceWarning: Stochastic Optimizer: Maximum iterations (5) reached and the optimization hasn't converged yet.\n",
      "  warnings.warn(\n"
     ]
    },
    {
     "name": "stdout",
     "output_type": "stream",
     "text": [
      "[CV] END activation=identity, alpha=0.0001, early_stopping=True, learning_rate=invscaling, learning_rate_init=0.0001, max_iter=5, n_iter_no_change=5, power_t=0.1, solver=lbfgs; total time=  30.6s\n",
      "[CV] END activation=identity, alpha=0.0001, early_stopping=True, learning_rate=invscaling, learning_rate_init=0.0001, max_iter=5, n_iter_no_change=5, power_t=0.1, solver=adam; total time=  16.7s\n"
     ]
    },
    {
     "name": "stderr",
     "output_type": "stream",
     "text": [
      "/Users/sebastianlopez/miniconda3/envs/maestriamatching/lib/python3.10/site-packages/sklearn/neural_network/_multilayer_perceptron.py:691: ConvergenceWarning: Stochastic Optimizer: Maximum iterations (5) reached and the optimization hasn't converged yet.\n",
      "  warnings.warn(\n"
     ]
    },
    {
     "name": "stdout",
     "output_type": "stream",
     "text": [
      "[CV] END activation=identity, alpha=0.0001, early_stopping=True, learning_rate=invscaling, learning_rate_init=0.0001, max_iter=5, n_iter_no_change=5, power_t=0.1, solver=adam; total time=  16.8s\n"
     ]
    },
    {
     "name": "stderr",
     "output_type": "stream",
     "text": [
      "/Users/sebastianlopez/miniconda3/envs/maestriamatching/lib/python3.10/site-packages/sklearn/neural_network/_multilayer_perceptron.py:691: ConvergenceWarning: Stochastic Optimizer: Maximum iterations (5) reached and the optimization hasn't converged yet.\n",
      "  warnings.warn(\n"
     ]
    },
    {
     "name": "stdout",
     "output_type": "stream",
     "text": [
      "[CV] END activation=identity, alpha=0.0001, early_stopping=True, learning_rate=invscaling, learning_rate_init=0.0001, max_iter=5, n_iter_no_change=5, power_t=0.1, solver=adam; total time=  16.6s\n"
     ]
    },
    {
     "name": "stderr",
     "output_type": "stream",
     "text": [
      "/Users/sebastianlopez/miniconda3/envs/maestriamatching/lib/python3.10/site-packages/sklearn/neural_network/_multilayer_perceptron.py:546: ConvergenceWarning: lbfgs failed to converge (status=1):\n",
      "STOP: TOTAL NO. of ITERATIONS REACHED LIMIT.\n",
      "\n",
      "Increase the number of iterations (max_iter) or scale the data as shown in:\n",
      "    https://scikit-learn.org/stable/modules/preprocessing.html\n",
      "  self.n_iter_ = _check_optimize_result(\"lbfgs\", opt_res, self.max_iter)\n"
     ]
    },
    {
     "name": "stdout",
     "output_type": "stream",
     "text": [
      "[CV] END activation=identity, alpha=0.0001, early_stopping=True, learning_rate=invscaling, learning_rate_init=0.0001, max_iter=5, n_iter_no_change=5, power_t=0.9, solver=lbfgs; total time=  18.1s\n"
     ]
    },
    {
     "name": "stderr",
     "output_type": "stream",
     "text": [
      "/Users/sebastianlopez/miniconda3/envs/maestriamatching/lib/python3.10/site-packages/sklearn/neural_network/_multilayer_perceptron.py:691: ConvergenceWarning: Stochastic Optimizer: Maximum iterations (5) reached and the optimization hasn't converged yet.\n",
      "  warnings.warn(\n"
     ]
    },
    {
     "name": "stdout",
     "output_type": "stream",
     "text": [
      "[CV] END activation=identity, alpha=0.0001, early_stopping=True, learning_rate=invscaling, learning_rate_init=0.0001, max_iter=5, n_iter_no_change=5, power_t=0.9, solver=sgd; total time=  15.4s\n"
     ]
    },
    {
     "name": "stderr",
     "output_type": "stream",
     "text": [
      "/Users/sebastianlopez/miniconda3/envs/maestriamatching/lib/python3.10/site-packages/sklearn/neural_network/_multilayer_perceptron.py:546: ConvergenceWarning: lbfgs failed to converge (status=1):\n",
      "STOP: TOTAL NO. of ITERATIONS REACHED LIMIT.\n",
      "\n",
      "Increase the number of iterations (max_iter) or scale the data as shown in:\n",
      "    https://scikit-learn.org/stable/modules/preprocessing.html\n",
      "  self.n_iter_ = _check_optimize_result(\"lbfgs\", opt_res, self.max_iter)\n",
      "/Users/sebastianlopez/miniconda3/envs/maestriamatching/lib/python3.10/site-packages/sklearn/neural_network/_multilayer_perceptron.py:691: ConvergenceWarning: Stochastic Optimizer: Maximum iterations (5) reached and the optimization hasn't converged yet.\n",
      "  warnings.warn(\n",
      "/Users/sebastianlopez/miniconda3/envs/maestriamatching/lib/python3.10/site-packages/sklearn/neural_network/_multilayer_perceptron.py:546: ConvergenceWarning: lbfgs failed to converge (status=1):\n",
      "STOP: TOTAL NO. of ITERATIONS REACHED LIMIT.\n",
      "\n",
      "Increase the number of iterations (max_iter) or scale the data as shown in:\n",
      "    https://scikit-learn.org/stable/modules/preprocessing.html\n",
      "  self.n_iter_ = _check_optimize_result(\"lbfgs\", opt_res, self.max_iter)\n"
     ]
    },
    {
     "name": "stdout",
     "output_type": "stream",
     "text": [
      "[CV] END activation=identity, alpha=0.0001, early_stopping=True, learning_rate=invscaling, learning_rate_init=0.0001, max_iter=5, n_iter_no_change=5, power_t=0.9, solver=lbfgs; total time=  18.1s\n",
      "[CV] END activation=identity, alpha=0.0001, early_stopping=True, learning_rate=invscaling, learning_rate_init=0.0001, max_iter=5, n_iter_no_change=5, power_t=0.9, solver=sgd; total time=  14.8s\n",
      "[CV] END activation=identity, alpha=0.0001, early_stopping=True, learning_rate=invscaling, learning_rate_init=0.0001, max_iter=5, n_iter_no_change=5, power_t=0.9, solver=lbfgs; total time=  20.0s\n"
     ]
    },
    {
     "name": "stderr",
     "output_type": "stream",
     "text": [
      "/Users/sebastianlopez/miniconda3/envs/maestriamatching/lib/python3.10/site-packages/sklearn/neural_network/_multilayer_perceptron.py:691: ConvergenceWarning: Stochastic Optimizer: Maximum iterations (5) reached and the optimization hasn't converged yet.\n",
      "  warnings.warn(\n"
     ]
    },
    {
     "name": "stdout",
     "output_type": "stream",
     "text": [
      "[CV] END activation=identity, alpha=0.0001, early_stopping=True, learning_rate=invscaling, learning_rate_init=0.0001, max_iter=5, n_iter_no_change=5, power_t=0.9, solver=sgd; total time=  15.0s\n"
     ]
    },
    {
     "name": "stderr",
     "output_type": "stream",
     "text": [
      "/Users/sebastianlopez/miniconda3/envs/maestriamatching/lib/python3.10/site-packages/sklearn/neural_network/_multilayer_perceptron.py:691: ConvergenceWarning: Stochastic Optimizer: Maximum iterations (5) reached and the optimization hasn't converged yet.\n",
      "  warnings.warn(\n"
     ]
    },
    {
     "name": "stdout",
     "output_type": "stream",
     "text": [
      "[CV] END activation=identity, alpha=0.0001, early_stopping=True, learning_rate=invscaling, learning_rate_init=0.0001, max_iter=5, n_iter_no_change=5, power_t=0.9, solver=adam; total time=  16.0s\n"
     ]
    },
    {
     "name": "stderr",
     "output_type": "stream",
     "text": [
      "/Users/sebastianlopez/miniconda3/envs/maestriamatching/lib/python3.10/site-packages/sklearn/neural_network/_multilayer_perceptron.py:691: ConvergenceWarning: Stochastic Optimizer: Maximum iterations (50) reached and the optimization hasn't converged yet.\n",
      "  warnings.warn(\n",
      "/Users/sebastianlopez/miniconda3/envs/maestriamatching/lib/python3.10/site-packages/sklearn/neural_network/_multilayer_perceptron.py:691: ConvergenceWarning: Stochastic Optimizer: Maximum iterations (50) reached and the optimization hasn't converged yet.\n",
      "  warnings.warn(\n"
     ]
    },
    {
     "name": "stdout",
     "output_type": "stream",
     "text": [
      "[CV] END activation=identity, alpha=0.0001, early_stopping=True, learning_rate=constant, learning_rate_init=1e-06, max_iter=50, n_iter_no_change=5, power_t=0.005, solver=adam; total time= 2.8min\n",
      "[CV] END activation=identity, alpha=0.0001, early_stopping=True, learning_rate=constant, learning_rate_init=1e-06, max_iter=50, n_iter_no_change=5, power_t=0.005, solver=adam; total time= 2.8min\n"
     ]
    },
    {
     "name": "stderr",
     "output_type": "stream",
     "text": [
      "/Users/sebastianlopez/miniconda3/envs/maestriamatching/lib/python3.10/site-packages/sklearn/neural_network/_multilayer_perceptron.py:691: ConvergenceWarning: Stochastic Optimizer: Maximum iterations (5) reached and the optimization hasn't converged yet.\n",
      "  warnings.warn(\n"
     ]
    },
    {
     "name": "stdout",
     "output_type": "stream",
     "text": [
      "[CV] END activation=identity, alpha=0.0001, early_stopping=True, learning_rate=invscaling, learning_rate_init=0.0001, max_iter=5, n_iter_no_change=5, power_t=0.9, solver=adam; total time=  16.8s\n"
     ]
    },
    {
     "name": "stderr",
     "output_type": "stream",
     "text": [
      "/Users/sebastianlopez/miniconda3/envs/maestriamatching/lib/python3.10/site-packages/sklearn/neural_network/_multilayer_perceptron.py:691: ConvergenceWarning: Stochastic Optimizer: Maximum iterations (5) reached and the optimization hasn't converged yet.\n",
      "  warnings.warn(\n"
     ]
    },
    {
     "name": "stdout",
     "output_type": "stream",
     "text": [
      "[CV] END activation=identity, alpha=0.0001, early_stopping=True, learning_rate=invscaling, learning_rate_init=0.0001, max_iter=5, n_iter_no_change=5, power_t=0.9, solver=adam; total time=  17.0s\n"
     ]
    },
    {
     "name": "stderr",
     "output_type": "stream",
     "text": [
      "/Users/sebastianlopez/miniconda3/envs/maestriamatching/lib/python3.10/site-packages/sklearn/neural_network/_multilayer_perceptron.py:546: ConvergenceWarning: lbfgs failed to converge (status=1):\n",
      "STOP: TOTAL NO. of ITERATIONS REACHED LIMIT.\n",
      "\n",
      "Increase the number of iterations (max_iter) or scale the data as shown in:\n",
      "    https://scikit-learn.org/stable/modules/preprocessing.html\n",
      "  self.n_iter_ = _check_optimize_result(\"lbfgs\", opt_res, self.max_iter)\n",
      "/Users/sebastianlopez/miniconda3/envs/maestriamatching/lib/python3.10/site-packages/sklearn/neural_network/_multilayer_perceptron.py:691: ConvergenceWarning: Stochastic Optimizer: Maximum iterations (5) reached and the optimization hasn't converged yet.\n",
      "  warnings.warn(\n"
     ]
    },
    {
     "name": "stdout",
     "output_type": "stream",
     "text": [
      "[CV] END activation=identity, alpha=0.0001, early_stopping=True, learning_rate=invscaling, learning_rate_init=0.0001, max_iter=5, n_iter_no_change=5, power_t=0.001, solver=lbfgs; total time=  17.7s\n"
     ]
    },
    {
     "name": "stderr",
     "output_type": "stream",
     "text": [
      "/Users/sebastianlopez/miniconda3/envs/maestriamatching/lib/python3.10/site-packages/sklearn/neural_network/_multilayer_perceptron.py:691: ConvergenceWarning: Stochastic Optimizer: Maximum iterations (5) reached and the optimization hasn't converged yet.\n",
      "  warnings.warn(\n"
     ]
    },
    {
     "name": "stdout",
     "output_type": "stream",
     "text": [
      "[CV] END activation=identity, alpha=0.0001, early_stopping=True, learning_rate=invscaling, learning_rate_init=0.0001, max_iter=5, n_iter_no_change=5, power_t=0.001, solver=sgd; total time=  15.9s\n"
     ]
    },
    {
     "name": "stderr",
     "output_type": "stream",
     "text": [
      "/Users/sebastianlopez/miniconda3/envs/maestriamatching/lib/python3.10/site-packages/sklearn/neural_network/_multilayer_perceptron.py:546: ConvergenceWarning: lbfgs failed to converge (status=1):\n",
      "STOP: TOTAL NO. of ITERATIONS REACHED LIMIT.\n",
      "\n",
      "Increase the number of iterations (max_iter) or scale the data as shown in:\n",
      "    https://scikit-learn.org/stable/modules/preprocessing.html\n",
      "  self.n_iter_ = _check_optimize_result(\"lbfgs\", opt_res, self.max_iter)\n",
      "/Users/sebastianlopez/miniconda3/envs/maestriamatching/lib/python3.10/site-packages/sklearn/neural_network/_multilayer_perceptron.py:691: ConvergenceWarning: Stochastic Optimizer: Maximum iterations (5) reached and the optimization hasn't converged yet.\n",
      "  warnings.warn(\n"
     ]
    },
    {
     "name": "stdout",
     "output_type": "stream",
     "text": [
      "[CV] END activation=identity, alpha=0.0001, early_stopping=True, learning_rate=invscaling, learning_rate_init=0.0001, max_iter=5, n_iter_no_change=5, power_t=0.001, solver=sgd; total time=  16.3s\n",
      "[CV] END activation=identity, alpha=0.0001, early_stopping=True, learning_rate=invscaling, learning_rate_init=0.0001, max_iter=5, n_iter_no_change=5, power_t=0.001, solver=lbfgs; total time=  18.3s\n",
      "[CV] END activation=identity, alpha=0.0001, early_stopping=True, learning_rate=invscaling, learning_rate_init=0.0001, max_iter=5, n_iter_no_change=5, power_t=0.001, solver=sgd; total time=  15.8s\n"
     ]
    },
    {
     "name": "stderr",
     "output_type": "stream",
     "text": [
      "/Users/sebastianlopez/miniconda3/envs/maestriamatching/lib/python3.10/site-packages/sklearn/neural_network/_multilayer_perceptron.py:691: ConvergenceWarning: Stochastic Optimizer: Maximum iterations (5) reached and the optimization hasn't converged yet.\n",
      "  warnings.warn(\n"
     ]
    },
    {
     "name": "stdout",
     "output_type": "stream",
     "text": [
      "[CV] END activation=identity, alpha=0.0001, early_stopping=True, learning_rate=invscaling, learning_rate_init=0.0001, max_iter=5, n_iter_no_change=5, power_t=0.001, solver=adam; total time=  17.4s\n"
     ]
    },
    {
     "name": "stderr",
     "output_type": "stream",
     "text": [
      "/Users/sebastianlopez/miniconda3/envs/maestriamatching/lib/python3.10/site-packages/sklearn/neural_network/_multilayer_perceptron.py:691: ConvergenceWarning: Stochastic Optimizer: Maximum iterations (5) reached and the optimization hasn't converged yet.\n",
      "  warnings.warn(\n",
      "/Users/sebastianlopez/miniconda3/envs/maestriamatching/lib/python3.10/site-packages/sklearn/neural_network/_multilayer_perceptron.py:691: ConvergenceWarning: Stochastic Optimizer: Maximum iterations (5) reached and the optimization hasn't converged yet.\n",
      "  warnings.warn(\n"
     ]
    },
    {
     "name": "stdout",
     "output_type": "stream",
     "text": [
      "[CV] END activation=identity, alpha=0.0001, early_stopping=True, learning_rate=invscaling, learning_rate_init=0.0001, max_iter=5, n_iter_no_change=5, power_t=0.001, solver=adam; total time=  16.8s\n",
      "[CV] END activation=identity, alpha=0.0001, early_stopping=True, learning_rate=invscaling, learning_rate_init=0.0001, max_iter=5, n_iter_no_change=5, power_t=0.001, solver=adam; total time=  17.1s\n"
     ]
    },
    {
     "name": "stderr",
     "output_type": "stream",
     "text": [
      "/Users/sebastianlopez/miniconda3/envs/maestriamatching/lib/python3.10/site-packages/sklearn/neural_network/_multilayer_perceptron.py:546: ConvergenceWarning: lbfgs failed to converge (status=1):\n",
      "STOP: TOTAL NO. of ITERATIONS REACHED LIMIT.\n",
      "\n",
      "Increase the number of iterations (max_iter) or scale the data as shown in:\n",
      "    https://scikit-learn.org/stable/modules/preprocessing.html\n",
      "  self.n_iter_ = _check_optimize_result(\"lbfgs\", opt_res, self.max_iter)\n"
     ]
    },
    {
     "name": "stdout",
     "output_type": "stream",
     "text": [
      "[CV] END activation=identity, alpha=0.0001, early_stopping=True, learning_rate=invscaling, learning_rate_init=0.0001, max_iter=5, n_iter_no_change=5, power_t=0.005, solver=lbfgs; total time=  17.8s\n"
     ]
    },
    {
     "name": "stderr",
     "output_type": "stream",
     "text": [
      "/Users/sebastianlopez/miniconda3/envs/maestriamatching/lib/python3.10/site-packages/sklearn/neural_network/_multilayer_perceptron.py:546: ConvergenceWarning: lbfgs failed to converge (status=1):\n",
      "STOP: TOTAL NO. of ITERATIONS REACHED LIMIT.\n",
      "\n",
      "Increase the number of iterations (max_iter) or scale the data as shown in:\n",
      "    https://scikit-learn.org/stable/modules/preprocessing.html\n",
      "  self.n_iter_ = _check_optimize_result(\"lbfgs\", opt_res, self.max_iter)\n"
     ]
    },
    {
     "name": "stdout",
     "output_type": "stream",
     "text": [
      "[CV] END activation=identity, alpha=0.0001, early_stopping=True, learning_rate=invscaling, learning_rate_init=0.0001, max_iter=5, n_iter_no_change=5, power_t=0.001, solver=lbfgs; total time=  26.1s\n"
     ]
    },
    {
     "name": "stderr",
     "output_type": "stream",
     "text": [
      "/Users/sebastianlopez/miniconda3/envs/maestriamatching/lib/python3.10/site-packages/sklearn/neural_network/_multilayer_perceptron.py:546: ConvergenceWarning: lbfgs failed to converge (status=1):\n",
      "STOP: TOTAL NO. of ITERATIONS REACHED LIMIT.\n",
      "\n",
      "Increase the number of iterations (max_iter) or scale the data as shown in:\n",
      "    https://scikit-learn.org/stable/modules/preprocessing.html\n",
      "  self.n_iter_ = _check_optimize_result(\"lbfgs\", opt_res, self.max_iter)\n"
     ]
    },
    {
     "name": "stdout",
     "output_type": "stream",
     "text": [
      "[CV] END activation=identity, alpha=0.0001, early_stopping=True, learning_rate=invscaling, learning_rate_init=0.0001, max_iter=5, n_iter_no_change=5, power_t=0.005, solver=lbfgs; total time=  17.9s\n"
     ]
    },
    {
     "name": "stderr",
     "output_type": "stream",
     "text": [
      "/Users/sebastianlopez/miniconda3/envs/maestriamatching/lib/python3.10/site-packages/sklearn/neural_network/_multilayer_perceptron.py:691: ConvergenceWarning: Stochastic Optimizer: Maximum iterations (5) reached and the optimization hasn't converged yet.\n",
      "  warnings.warn(\n",
      "/Users/sebastianlopez/miniconda3/envs/maestriamatching/lib/python3.10/site-packages/sklearn/neural_network/_multilayer_perceptron.py:691: ConvergenceWarning: Stochastic Optimizer: Maximum iterations (5) reached and the optimization hasn't converged yet.\n",
      "  warnings.warn(\n"
     ]
    },
    {
     "name": "stdout",
     "output_type": "stream",
     "text": [
      "[CV] END activation=identity, alpha=0.0001, early_stopping=True, learning_rate=invscaling, learning_rate_init=0.0001, max_iter=5, n_iter_no_change=5, power_t=0.005, solver=sgd; total time=  16.2s\n",
      "[CV] END activation=identity, alpha=0.0001, early_stopping=True, learning_rate=invscaling, learning_rate_init=0.0001, max_iter=5, n_iter_no_change=5, power_t=0.005, solver=sgd; total time=  16.3s\n"
     ]
    },
    {
     "name": "stderr",
     "output_type": "stream",
     "text": [
      "/Users/sebastianlopez/miniconda3/envs/maestriamatching/lib/python3.10/site-packages/sklearn/neural_network/_multilayer_perceptron.py:691: ConvergenceWarning: Stochastic Optimizer: Maximum iterations (5) reached and the optimization hasn't converged yet.\n",
      "  warnings.warn(\n",
      "/Users/sebastianlopez/miniconda3/envs/maestriamatching/lib/python3.10/site-packages/sklearn/neural_network/_multilayer_perceptron.py:546: ConvergenceWarning: lbfgs failed to converge (status=1):\n",
      "STOP: TOTAL NO. of ITERATIONS REACHED LIMIT.\n",
      "\n",
      "Increase the number of iterations (max_iter) or scale the data as shown in:\n",
      "    https://scikit-learn.org/stable/modules/preprocessing.html\n",
      "  self.n_iter_ = _check_optimize_result(\"lbfgs\", opt_res, self.max_iter)\n"
     ]
    },
    {
     "name": "stdout",
     "output_type": "stream",
     "text": [
      "[CV] END activation=identity, alpha=0.0001, early_stopping=True, learning_rate=invscaling, learning_rate_init=0.0001, max_iter=5, n_iter_no_change=5, power_t=0.005, solver=sgd; total time=  16.6s\n"
     ]
    },
    {
     "name": "stderr",
     "output_type": "stream",
     "text": [
      "/Users/sebastianlopez/miniconda3/envs/maestriamatching/lib/python3.10/site-packages/sklearn/neural_network/_multilayer_perceptron.py:691: ConvergenceWarning: Stochastic Optimizer: Maximum iterations (5) reached and the optimization hasn't converged yet.\n",
      "  warnings.warn(\n"
     ]
    },
    {
     "name": "stdout",
     "output_type": "stream",
     "text": [
      "[CV] END activation=identity, alpha=0.0001, early_stopping=True, learning_rate=invscaling, learning_rate_init=0.0001, max_iter=5, n_iter_no_change=5, power_t=0.005, solver=lbfgs; total time=  18.4s\n",
      "[CV] END activation=identity, alpha=0.0001, early_stopping=True, learning_rate=invscaling, learning_rate_init=0.0001, max_iter=5, n_iter_no_change=5, power_t=0.005, solver=adam; total time=  17.6s\n"
     ]
    },
    {
     "name": "stderr",
     "output_type": "stream",
     "text": [
      "/Users/sebastianlopez/miniconda3/envs/maestriamatching/lib/python3.10/site-packages/sklearn/neural_network/_multilayer_perceptron.py:691: ConvergenceWarning: Stochastic Optimizer: Maximum iterations (5) reached and the optimization hasn't converged yet.\n",
      "  warnings.warn(\n"
     ]
    },
    {
     "name": "stdout",
     "output_type": "stream",
     "text": [
      "[CV] END activation=identity, alpha=0.0001, early_stopping=True, learning_rate=invscaling, learning_rate_init=0.0001, max_iter=5, n_iter_no_change=5, power_t=0.005, solver=adam; total time=  17.5s\n"
     ]
    },
    {
     "name": "stderr",
     "output_type": "stream",
     "text": [
      "/Users/sebastianlopez/miniconda3/envs/maestriamatching/lib/python3.10/site-packages/sklearn/neural_network/_multilayer_perceptron.py:691: ConvergenceWarning: Stochastic Optimizer: Maximum iterations (5) reached and the optimization hasn't converged yet.\n",
      "  warnings.warn(\n"
     ]
    },
    {
     "name": "stdout",
     "output_type": "stream",
     "text": [
      "[CV] END activation=identity, alpha=0.0001, early_stopping=True, learning_rate=invscaling, learning_rate_init=0.0001, max_iter=5, n_iter_no_change=5, power_t=0.005, solver=adam; total time=  17.4s\n",
      "[CV] END activation=identity, alpha=0.0001, early_stopping=True, learning_rate=invscaling, learning_rate_init=0.0001, max_iter=10, n_iter_no_change=5, power_t=0.5, solver=sgd; total time=  21.6s\n"
     ]
    },
    {
     "name": "stderr",
     "output_type": "stream",
     "text": [
      "/Users/sebastianlopez/miniconda3/envs/maestriamatching/lib/python3.10/site-packages/sklearn/neural_network/_multilayer_perceptron.py:546: ConvergenceWarning: lbfgs failed to converge (status=1):\n",
      "STOP: TOTAL NO. of ITERATIONS REACHED LIMIT.\n",
      "\n",
      "Increase the number of iterations (max_iter) or scale the data as shown in:\n",
      "    https://scikit-learn.org/stable/modules/preprocessing.html\n",
      "  self.n_iter_ = _check_optimize_result(\"lbfgs\", opt_res, self.max_iter)\n"
     ]
    },
    {
     "name": "stdout",
     "output_type": "stream",
     "text": [
      "[CV] END activation=identity, alpha=0.0001, early_stopping=True, learning_rate=invscaling, learning_rate_init=0.0001, max_iter=10, n_iter_no_change=5, power_t=0.5, solver=lbfgs; total time=  29.2s\n",
      "[CV] END activation=identity, alpha=0.0001, early_stopping=True, learning_rate=invscaling, learning_rate_init=0.0001, max_iter=10, n_iter_no_change=5, power_t=0.5, solver=sgd; total time=  20.6s\n"
     ]
    },
    {
     "name": "stderr",
     "output_type": "stream",
     "text": [
      "/Users/sebastianlopez/miniconda3/envs/maestriamatching/lib/python3.10/site-packages/sklearn/neural_network/_multilayer_perceptron.py:546: ConvergenceWarning: lbfgs failed to converge (status=1):\n",
      "STOP: TOTAL NO. of ITERATIONS REACHED LIMIT.\n",
      "\n",
      "Increase the number of iterations (max_iter) or scale the data as shown in:\n",
      "    https://scikit-learn.org/stable/modules/preprocessing.html\n",
      "  self.n_iter_ = _check_optimize_result(\"lbfgs\", opt_res, self.max_iter)\n"
     ]
    },
    {
     "name": "stdout",
     "output_type": "stream",
     "text": [
      "[CV] END activation=identity, alpha=0.0001, early_stopping=True, learning_rate=invscaling, learning_rate_init=0.0001, max_iter=10, n_iter_no_change=5, power_t=0.5, solver=lbfgs; total time=  31.7s\n"
     ]
    },
    {
     "name": "stderr",
     "output_type": "stream",
     "text": [
      "/Users/sebastianlopez/miniconda3/envs/maestriamatching/lib/python3.10/site-packages/sklearn/neural_network/_multilayer_perceptron.py:546: ConvergenceWarning: lbfgs failed to converge (status=1):\n",
      "STOP: TOTAL NO. of ITERATIONS REACHED LIMIT.\n",
      "\n",
      "Increase the number of iterations (max_iter) or scale the data as shown in:\n",
      "    https://scikit-learn.org/stable/modules/preprocessing.html\n",
      "  self.n_iter_ = _check_optimize_result(\"lbfgs\", opt_res, self.max_iter)\n"
     ]
    },
    {
     "name": "stdout",
     "output_type": "stream",
     "text": [
      "[CV] END activation=identity, alpha=0.0001, early_stopping=True, learning_rate=invscaling, learning_rate_init=0.0001, max_iter=10, n_iter_no_change=5, power_t=0.5, solver=lbfgs; total time=  34.0s\n"
     ]
    },
    {
     "name": "stderr",
     "output_type": "stream",
     "text": [
      "/Users/sebastianlopez/miniconda3/envs/maestriamatching/lib/python3.10/site-packages/sklearn/neural_network/_multilayer_perceptron.py:691: ConvergenceWarning: Stochastic Optimizer: Maximum iterations (10) reached and the optimization hasn't converged yet.\n",
      "  warnings.warn(\n"
     ]
    },
    {
     "name": "stdout",
     "output_type": "stream",
     "text": [
      "[CV] END activation=identity, alpha=0.0001, early_stopping=True, learning_rate=invscaling, learning_rate_init=0.0001, max_iter=10, n_iter_no_change=5, power_t=0.5, solver=sgd; total time=  29.7s\n"
     ]
    },
    {
     "name": "stderr",
     "output_type": "stream",
     "text": [
      "/Users/sebastianlopez/miniconda3/envs/maestriamatching/lib/python3.10/site-packages/sklearn/neural_network/_multilayer_perceptron.py:691: ConvergenceWarning: Stochastic Optimizer: Maximum iterations (10) reached and the optimization hasn't converged yet.\n",
      "  warnings.warn(\n",
      "/Users/sebastianlopez/miniconda3/envs/maestriamatching/lib/python3.10/site-packages/sklearn/neural_network/_multilayer_perceptron.py:691: ConvergenceWarning: Stochastic Optimizer: Maximum iterations (10) reached and the optimization hasn't converged yet.\n",
      "  warnings.warn(\n",
      "/Users/sebastianlopez/miniconda3/envs/maestriamatching/lib/python3.10/site-packages/sklearn/neural_network/_multilayer_perceptron.py:546: ConvergenceWarning: lbfgs failed to converge (status=1):\n",
      "STOP: TOTAL NO. of ITERATIONS REACHED LIMIT.\n",
      "\n",
      "Increase the number of iterations (max_iter) or scale the data as shown in:\n",
      "    https://scikit-learn.org/stable/modules/preprocessing.html\n",
      "  self.n_iter_ = _check_optimize_result(\"lbfgs\", opt_res, self.max_iter)\n",
      "/Users/sebastianlopez/miniconda3/envs/maestriamatching/lib/python3.10/site-packages/sklearn/neural_network/_multilayer_perceptron.py:691: ConvergenceWarning: Stochastic Optimizer: Maximum iterations (10) reached and the optimization hasn't converged yet.\n",
      "  warnings.warn(\n"
     ]
    },
    {
     "name": "stdout",
     "output_type": "stream",
     "text": [
      "[CV] END activation=identity, alpha=0.0001, early_stopping=True, learning_rate=invscaling, learning_rate_init=0.0001, max_iter=10, n_iter_no_change=5, power_t=0.5, solver=adam; total time=  31.6s\n",
      "[CV] END activation=identity, alpha=0.0001, early_stopping=True, learning_rate=invscaling, learning_rate_init=0.0001, max_iter=10, n_iter_no_change=5, power_t=0.5, solver=adam; total time=  32.3s\n",
      "[CV] END activation=identity, alpha=0.0001, early_stopping=True, learning_rate=invscaling, learning_rate_init=0.0001, max_iter=10, n_iter_no_change=5, power_t=0.1, solver=lbfgs; total time=  28.6s\n",
      "[CV] END activation=identity, alpha=0.0001, early_stopping=True, learning_rate=invscaling, learning_rate_init=0.0001, max_iter=10, n_iter_no_change=5, power_t=0.5, solver=adam; total time=  31.5s\n"
     ]
    },
    {
     "name": "stderr",
     "output_type": "stream",
     "text": [
      "/Users/sebastianlopez/miniconda3/envs/maestriamatching/lib/python3.10/site-packages/sklearn/neural_network/_multilayer_perceptron.py:546: ConvergenceWarning: lbfgs failed to converge (status=1):\n",
      "STOP: TOTAL NO. of ITERATIONS REACHED LIMIT.\n",
      "\n",
      "Increase the number of iterations (max_iter) or scale the data as shown in:\n",
      "    https://scikit-learn.org/stable/modules/preprocessing.html\n",
      "  self.n_iter_ = _check_optimize_result(\"lbfgs\", opt_res, self.max_iter)\n"
     ]
    },
    {
     "name": "stdout",
     "output_type": "stream",
     "text": [
      "[CV] END activation=identity, alpha=0.0001, early_stopping=True, learning_rate=invscaling, learning_rate_init=0.0001, max_iter=10, n_iter_no_change=5, power_t=0.1, solver=lbfgs; total time=  32.9s\n",
      "[CV] END activation=identity, alpha=0.0001, early_stopping=True, learning_rate=invscaling, learning_rate_init=0.0001, max_iter=10, n_iter_no_change=5, power_t=0.1, solver=sgd; total time=  20.7s\n"
     ]
    },
    {
     "name": "stderr",
     "output_type": "stream",
     "text": [
      "/Users/sebastianlopez/miniconda3/envs/maestriamatching/lib/python3.10/site-packages/sklearn/neural_network/_multilayer_perceptron.py:691: ConvergenceWarning: Stochastic Optimizer: Maximum iterations (10) reached and the optimization hasn't converged yet.\n",
      "  warnings.warn(\n"
     ]
    },
    {
     "name": "stdout",
     "output_type": "stream",
     "text": [
      "[CV] END activation=identity, alpha=0.0001, early_stopping=True, learning_rate=invscaling, learning_rate_init=0.0001, max_iter=10, n_iter_no_change=5, power_t=0.1, solver=sgd; total time=  29.1s\n"
     ]
    },
    {
     "name": "stderr",
     "output_type": "stream",
     "text": [
      "/Users/sebastianlopez/miniconda3/envs/maestriamatching/lib/python3.10/site-packages/sklearn/neural_network/_multilayer_perceptron.py:546: ConvergenceWarning: lbfgs failed to converge (status=1):\n",
      "STOP: TOTAL NO. of ITERATIONS REACHED LIMIT.\n",
      "\n",
      "Increase the number of iterations (max_iter) or scale the data as shown in:\n",
      "    https://scikit-learn.org/stable/modules/preprocessing.html\n",
      "  self.n_iter_ = _check_optimize_result(\"lbfgs\", opt_res, self.max_iter)\n"
     ]
    },
    {
     "name": "stdout",
     "output_type": "stream",
     "text": [
      "[CV] END activation=identity, alpha=0.0001, early_stopping=True, learning_rate=invscaling, learning_rate_init=0.0001, max_iter=10, n_iter_no_change=5, power_t=0.1, solver=lbfgs; total time=  33.4s\n"
     ]
    },
    {
     "name": "stderr",
     "output_type": "stream",
     "text": [
      "/Users/sebastianlopez/miniconda3/envs/maestriamatching/lib/python3.10/site-packages/sklearn/neural_network/_multilayer_perceptron.py:691: ConvergenceWarning: Stochastic Optimizer: Maximum iterations (10) reached and the optimization hasn't converged yet.\n",
      "  warnings.warn(\n"
     ]
    },
    {
     "name": "stdout",
     "output_type": "stream",
     "text": [
      "[CV] END activation=identity, alpha=0.0001, early_stopping=True, learning_rate=invscaling, learning_rate_init=0.0001, max_iter=10, n_iter_no_change=5, power_t=0.1, solver=sgd; total time=  29.9s\n"
     ]
    },
    {
     "name": "stderr",
     "output_type": "stream",
     "text": [
      "/Users/sebastianlopez/miniconda3/envs/maestriamatching/lib/python3.10/site-packages/sklearn/neural_network/_multilayer_perceptron.py:691: ConvergenceWarning: Stochastic Optimizer: Maximum iterations (10) reached and the optimization hasn't converged yet.\n",
      "  warnings.warn(\n"
     ]
    },
    {
     "name": "stdout",
     "output_type": "stream",
     "text": [
      "[CV] END activation=identity, alpha=0.0001, early_stopping=True, learning_rate=invscaling, learning_rate_init=0.0001, max_iter=10, n_iter_no_change=5, power_t=0.1, solver=adam; total time=  32.3s\n"
     ]
    },
    {
     "name": "stderr",
     "output_type": "stream",
     "text": [
      "/Users/sebastianlopez/miniconda3/envs/maestriamatching/lib/python3.10/site-packages/sklearn/neural_network/_multilayer_perceptron.py:691: ConvergenceWarning: Stochastic Optimizer: Maximum iterations (10) reached and the optimization hasn't converged yet.\n",
      "  warnings.warn(\n"
     ]
    },
    {
     "name": "stdout",
     "output_type": "stream",
     "text": [
      "[CV] END activation=identity, alpha=0.0001, early_stopping=True, learning_rate=invscaling, learning_rate_init=0.0001, max_iter=10, n_iter_no_change=5, power_t=0.1, solver=adam; total time=  31.9s\n",
      "[CV] END activation=identity, alpha=0.0001, early_stopping=True, learning_rate=invscaling, learning_rate_init=0.0001, max_iter=10, n_iter_no_change=5, power_t=0.9, solver=sgd; total time=  20.9s\n",
      "[CV] END activation=identity, alpha=0.0001, early_stopping=True, learning_rate=invscaling, learning_rate_init=0.0001, max_iter=10, n_iter_no_change=5, power_t=0.9, solver=sgd; total time=  23.5s\n"
     ]
    },
    {
     "name": "stderr",
     "output_type": "stream",
     "text": [
      "/Users/sebastianlopez/miniconda3/envs/maestriamatching/lib/python3.10/site-packages/sklearn/neural_network/_multilayer_perceptron.py:691: ConvergenceWarning: Stochastic Optimizer: Maximum iterations (10) reached and the optimization hasn't converged yet.\n",
      "  warnings.warn(\n"
     ]
    },
    {
     "name": "stdout",
     "output_type": "stream",
     "text": [
      "[CV] END activation=identity, alpha=0.0001, early_stopping=True, learning_rate=invscaling, learning_rate_init=0.0001, max_iter=10, n_iter_no_change=5, power_t=0.1, solver=adam; total time=  31.6s\n"
     ]
    },
    {
     "name": "stderr",
     "output_type": "stream",
     "text": [
      "/Users/sebastianlopez/miniconda3/envs/maestriamatching/lib/python3.10/site-packages/sklearn/neural_network/_multilayer_perceptron.py:546: ConvergenceWarning: lbfgs failed to converge (status=1):\n",
      "STOP: TOTAL NO. of ITERATIONS REACHED LIMIT.\n",
      "\n",
      "Increase the number of iterations (max_iter) or scale the data as shown in:\n",
      "    https://scikit-learn.org/stable/modules/preprocessing.html\n",
      "  self.n_iter_ = _check_optimize_result(\"lbfgs\", opt_res, self.max_iter)\n",
      "/Users/sebastianlopez/miniconda3/envs/maestriamatching/lib/python3.10/site-packages/sklearn/neural_network/_multilayer_perceptron.py:546: ConvergenceWarning: lbfgs failed to converge (status=1):\n",
      "STOP: TOTAL NO. of ITERATIONS REACHED LIMIT.\n",
      "\n",
      "Increase the number of iterations (max_iter) or scale the data as shown in:\n",
      "    https://scikit-learn.org/stable/modules/preprocessing.html\n",
      "  self.n_iter_ = _check_optimize_result(\"lbfgs\", opt_res, self.max_iter)\n"
     ]
    },
    {
     "name": "stdout",
     "output_type": "stream",
     "text": [
      "[CV] END activation=identity, alpha=0.0001, early_stopping=True, learning_rate=invscaling, learning_rate_init=0.0001, max_iter=10, n_iter_no_change=5, power_t=0.9, solver=lbfgs; total time=  32.1s\n"
     ]
    },
    {
     "name": "stderr",
     "output_type": "stream",
     "text": [
      "/Users/sebastianlopez/miniconda3/envs/maestriamatching/lib/python3.10/site-packages/sklearn/neural_network/_multilayer_perceptron.py:546: ConvergenceWarning: lbfgs failed to converge (status=1):\n",
      "STOP: TOTAL NO. of ITERATIONS REACHED LIMIT.\n",
      "\n",
      "Increase the number of iterations (max_iter) or scale the data as shown in:\n",
      "    https://scikit-learn.org/stable/modules/preprocessing.html\n",
      "  self.n_iter_ = _check_optimize_result(\"lbfgs\", opt_res, self.max_iter)\n"
     ]
    },
    {
     "name": "stdout",
     "output_type": "stream",
     "text": [
      "[CV] END activation=identity, alpha=0.0001, early_stopping=True, learning_rate=invscaling, learning_rate_init=0.0001, max_iter=10, n_iter_no_change=5, power_t=0.9, solver=lbfgs; total time=  32.9s\n",
      "[CV] END activation=identity, alpha=0.0001, early_stopping=True, learning_rate=invscaling, learning_rate_init=0.0001, max_iter=10, n_iter_no_change=5, power_t=0.9, solver=lbfgs; total time=  32.8s\n",
      "[CV] END activation=identity, alpha=0.0001, early_stopping=True, learning_rate=invscaling, learning_rate_init=0.0001, max_iter=10, n_iter_no_change=5, power_t=0.9, solver=sgd; total time=  20.6s\n"
     ]
    },
    {
     "name": "stderr",
     "output_type": "stream",
     "text": [
      "/Users/sebastianlopez/miniconda3/envs/maestriamatching/lib/python3.10/site-packages/sklearn/neural_network/_multilayer_perceptron.py:691: ConvergenceWarning: Stochastic Optimizer: Maximum iterations (10) reached and the optimization hasn't converged yet.\n",
      "  warnings.warn(\n"
     ]
    },
    {
     "name": "stdout",
     "output_type": "stream",
     "text": [
      "[CV] END activation=identity, alpha=0.0001, early_stopping=True, learning_rate=invscaling, learning_rate_init=0.0001, max_iter=10, n_iter_no_change=5, power_t=0.9, solver=adam; total time=  31.5s\n"
     ]
    },
    {
     "name": "stderr",
     "output_type": "stream",
     "text": [
      "/Users/sebastianlopez/miniconda3/envs/maestriamatching/lib/python3.10/site-packages/sklearn/neural_network/_multilayer_perceptron.py:691: ConvergenceWarning: Stochastic Optimizer: Maximum iterations (10) reached and the optimization hasn't converged yet.\n",
      "  warnings.warn(\n"
     ]
    },
    {
     "name": "stdout",
     "output_type": "stream",
     "text": [
      "[CV] END activation=identity, alpha=0.0001, early_stopping=True, learning_rate=invscaling, learning_rate_init=0.0001, max_iter=10, n_iter_no_change=5, power_t=0.9, solver=adam; total time=  31.5s\n",
      "[CV] END activation=identity, alpha=0.0001, early_stopping=True, learning_rate=invscaling, learning_rate_init=0.0001, max_iter=10, n_iter_no_change=5, power_t=0.001, solver=sgd; total time=  20.5s\n"
     ]
    },
    {
     "name": "stderr",
     "output_type": "stream",
     "text": [
      "/Users/sebastianlopez/miniconda3/envs/maestriamatching/lib/python3.10/site-packages/sklearn/neural_network/_multilayer_perceptron.py:546: ConvergenceWarning: lbfgs failed to converge (status=1):\n",
      "STOP: TOTAL NO. of ITERATIONS REACHED LIMIT.\n",
      "\n",
      "Increase the number of iterations (max_iter) or scale the data as shown in:\n",
      "    https://scikit-learn.org/stable/modules/preprocessing.html\n",
      "  self.n_iter_ = _check_optimize_result(\"lbfgs\", opt_res, self.max_iter)\n",
      "/Users/sebastianlopez/miniconda3/envs/maestriamatching/lib/python3.10/site-packages/sklearn/neural_network/_multilayer_perceptron.py:691: ConvergenceWarning: Stochastic Optimizer: Maximum iterations (10) reached and the optimization hasn't converged yet.\n",
      "  warnings.warn(\n"
     ]
    },
    {
     "name": "stdout",
     "output_type": "stream",
     "text": [
      "[CV] END activation=identity, alpha=0.0001, early_stopping=True, learning_rate=invscaling, learning_rate_init=0.0001, max_iter=10, n_iter_no_change=5, power_t=0.001, solver=lbfgs; total time=  28.8s\n",
      "[CV] END activation=identity, alpha=0.0001, early_stopping=True, learning_rate=invscaling, learning_rate_init=0.0001, max_iter=10, n_iter_no_change=5, power_t=0.9, solver=adam; total time=  31.2s\n"
     ]
    },
    {
     "name": "stderr",
     "output_type": "stream",
     "text": [
      "/Users/sebastianlopez/miniconda3/envs/maestriamatching/lib/python3.10/site-packages/sklearn/neural_network/_multilayer_perceptron.py:691: ConvergenceWarning: Stochastic Optimizer: Maximum iterations (10) reached and the optimization hasn't converged yet.\n",
      "  warnings.warn(\n"
     ]
    },
    {
     "name": "stdout",
     "output_type": "stream",
     "text": [
      "[CV] END activation=identity, alpha=0.0001, early_stopping=True, learning_rate=invscaling, learning_rate_init=0.0001, max_iter=10, n_iter_no_change=5, power_t=0.001, solver=sgd; total time=  29.2s\n"
     ]
    },
    {
     "name": "stderr",
     "output_type": "stream",
     "text": [
      "/Users/sebastianlopez/miniconda3/envs/maestriamatching/lib/python3.10/site-packages/sklearn/neural_network/_multilayer_perceptron.py:691: ConvergenceWarning: Stochastic Optimizer: Maximum iterations (10) reached and the optimization hasn't converged yet.\n",
      "  warnings.warn(\n"
     ]
    },
    {
     "name": "stdout",
     "output_type": "stream",
     "text": [
      "[CV] END activation=identity, alpha=0.0001, early_stopping=True, learning_rate=invscaling, learning_rate_init=0.0001, max_iter=10, n_iter_no_change=5, power_t=0.001, solver=sgd; total time=  29.3s\n"
     ]
    },
    {
     "name": "stderr",
     "output_type": "stream",
     "text": [
      "/Users/sebastianlopez/miniconda3/envs/maestriamatching/lib/python3.10/site-packages/sklearn/neural_network/_multilayer_perceptron.py:691: ConvergenceWarning: Stochastic Optimizer: Maximum iterations (10) reached and the optimization hasn't converged yet.\n",
      "  warnings.warn(\n",
      "/Users/sebastianlopez/miniconda3/envs/maestriamatching/lib/python3.10/site-packages/sklearn/neural_network/_multilayer_perceptron.py:546: ConvergenceWarning: lbfgs failed to converge (status=1):\n",
      "STOP: TOTAL NO. of ITERATIONS REACHED LIMIT.\n",
      "\n",
      "Increase the number of iterations (max_iter) or scale the data as shown in:\n",
      "    https://scikit-learn.org/stable/modules/preprocessing.html\n",
      "  self.n_iter_ = _check_optimize_result(\"lbfgs\", opt_res, self.max_iter)\n"
     ]
    },
    {
     "name": "stdout",
     "output_type": "stream",
     "text": [
      "[CV] END activation=identity, alpha=0.0001, early_stopping=True, learning_rate=invscaling, learning_rate_init=0.0001, max_iter=10, n_iter_no_change=5, power_t=0.001, solver=adam; total time=  31.0s\n",
      "[CV] END activation=identity, alpha=0.0001, early_stopping=True, learning_rate=invscaling, learning_rate_init=0.0001, max_iter=10, n_iter_no_change=5, power_t=0.001, solver=lbfgs; total time=  35.3s\n"
     ]
    },
    {
     "name": "stderr",
     "output_type": "stream",
     "text": [
      "/Users/sebastianlopez/miniconda3/envs/maestriamatching/lib/python3.10/site-packages/sklearn/neural_network/_multilayer_perceptron.py:691: ConvergenceWarning: Stochastic Optimizer: Maximum iterations (10) reached and the optimization hasn't converged yet.\n",
      "  warnings.warn(\n"
     ]
    },
    {
     "name": "stdout",
     "output_type": "stream",
     "text": [
      "[CV] END activation=identity, alpha=0.0001, early_stopping=True, learning_rate=invscaling, learning_rate_init=0.0001, max_iter=10, n_iter_no_change=5, power_t=0.001, solver=adam; total time=  31.2s\n"
     ]
    },
    {
     "name": "stderr",
     "output_type": "stream",
     "text": [
      "/Users/sebastianlopez/miniconda3/envs/maestriamatching/lib/python3.10/site-packages/sklearn/neural_network/_multilayer_perceptron.py:546: ConvergenceWarning: lbfgs failed to converge (status=1):\n",
      "STOP: TOTAL NO. of ITERATIONS REACHED LIMIT.\n",
      "\n",
      "Increase the number of iterations (max_iter) or scale the data as shown in:\n",
      "    https://scikit-learn.org/stable/modules/preprocessing.html\n",
      "  self.n_iter_ = _check_optimize_result(\"lbfgs\", opt_res, self.max_iter)\n"
     ]
    },
    {
     "name": "stdout",
     "output_type": "stream",
     "text": [
      "[CV] END activation=identity, alpha=0.0001, early_stopping=True, learning_rate=invscaling, learning_rate_init=0.0001, max_iter=10, n_iter_no_change=5, power_t=0.001, solver=lbfgs; total time=  39.6s\n"
     ]
    },
    {
     "name": "stderr",
     "output_type": "stream",
     "text": [
      "/Users/sebastianlopez/miniconda3/envs/maestriamatching/lib/python3.10/site-packages/sklearn/neural_network/_multilayer_perceptron.py:546: ConvergenceWarning: lbfgs failed to converge (status=1):\n",
      "STOP: TOTAL NO. of ITERATIONS REACHED LIMIT.\n",
      "\n",
      "Increase the number of iterations (max_iter) or scale the data as shown in:\n",
      "    https://scikit-learn.org/stable/modules/preprocessing.html\n",
      "  self.n_iter_ = _check_optimize_result(\"lbfgs\", opt_res, self.max_iter)\n"
     ]
    },
    {
     "name": "stdout",
     "output_type": "stream",
     "text": [
      "[CV] END activation=identity, alpha=0.0001, early_stopping=True, learning_rate=invscaling, learning_rate_init=0.0001, max_iter=10, n_iter_no_change=5, power_t=0.005, solver=lbfgs; total time=  28.5s\n"
     ]
    },
    {
     "name": "stderr",
     "output_type": "stream",
     "text": [
      "/Users/sebastianlopez/miniconda3/envs/maestriamatching/lib/python3.10/site-packages/sklearn/neural_network/_multilayer_perceptron.py:691: ConvergenceWarning: Stochastic Optimizer: Maximum iterations (10) reached and the optimization hasn't converged yet.\n",
      "  warnings.warn(\n"
     ]
    },
    {
     "name": "stdout",
     "output_type": "stream",
     "text": [
      "[CV] END activation=identity, alpha=0.0001, early_stopping=True, learning_rate=invscaling, learning_rate_init=0.0001, max_iter=10, n_iter_no_change=5, power_t=0.001, solver=adam; total time=  31.4s\n"
     ]
    },
    {
     "name": "stderr",
     "output_type": "stream",
     "text": [
      "/Users/sebastianlopez/miniconda3/envs/maestriamatching/lib/python3.10/site-packages/sklearn/neural_network/_multilayer_perceptron.py:546: ConvergenceWarning: lbfgs failed to converge (status=1):\n",
      "STOP: TOTAL NO. of ITERATIONS REACHED LIMIT.\n",
      "\n",
      "Increase the number of iterations (max_iter) or scale the data as shown in:\n",
      "    https://scikit-learn.org/stable/modules/preprocessing.html\n",
      "  self.n_iter_ = _check_optimize_result(\"lbfgs\", opt_res, self.max_iter)\n"
     ]
    },
    {
     "name": "stdout",
     "output_type": "stream",
     "text": [
      "[CV] END activation=identity, alpha=0.0001, early_stopping=True, learning_rate=invscaling, learning_rate_init=0.0001, max_iter=10, n_iter_no_change=5, power_t=0.005, solver=lbfgs; total time=  28.7s\n"
     ]
    },
    {
     "name": "stderr",
     "output_type": "stream",
     "text": [
      "/Users/sebastianlopez/miniconda3/envs/maestriamatching/lib/python3.10/site-packages/sklearn/neural_network/_multilayer_perceptron.py:546: ConvergenceWarning: lbfgs failed to converge (status=1):\n",
      "STOP: TOTAL NO. of ITERATIONS REACHED LIMIT.\n",
      "\n",
      "Increase the number of iterations (max_iter) or scale the data as shown in:\n",
      "    https://scikit-learn.org/stable/modules/preprocessing.html\n",
      "  self.n_iter_ = _check_optimize_result(\"lbfgs\", opt_res, self.max_iter)\n"
     ]
    },
    {
     "name": "stdout",
     "output_type": "stream",
     "text": [
      "[CV] END activation=identity, alpha=0.0001, early_stopping=True, learning_rate=invscaling, learning_rate_init=0.0001, max_iter=10, n_iter_no_change=5, power_t=0.005, solver=lbfgs; total time=  28.3s\n"
     ]
    },
    {
     "name": "stderr",
     "output_type": "stream",
     "text": [
      "/Users/sebastianlopez/miniconda3/envs/maestriamatching/lib/python3.10/site-packages/sklearn/neural_network/_multilayer_perceptron.py:691: ConvergenceWarning: Stochastic Optimizer: Maximum iterations (10) reached and the optimization hasn't converged yet.\n",
      "  warnings.warn(\n"
     ]
    },
    {
     "name": "stdout",
     "output_type": "stream",
     "text": [
      "[CV] END activation=identity, alpha=0.0001, early_stopping=True, learning_rate=invscaling, learning_rate_init=0.0001, max_iter=10, n_iter_no_change=5, power_t=0.005, solver=sgd; total time=  29.0s\n"
     ]
    },
    {
     "name": "stderr",
     "output_type": "stream",
     "text": [
      "/Users/sebastianlopez/miniconda3/envs/maestriamatching/lib/python3.10/site-packages/sklearn/neural_network/_multilayer_perceptron.py:691: ConvergenceWarning: Stochastic Optimizer: Maximum iterations (10) reached and the optimization hasn't converged yet.\n",
      "  warnings.warn(\n"
     ]
    },
    {
     "name": "stdout",
     "output_type": "stream",
     "text": [
      "[CV] END activation=identity, alpha=0.0001, early_stopping=True, learning_rate=invscaling, learning_rate_init=0.0001, max_iter=10, n_iter_no_change=5, power_t=0.005, solver=sgd; total time=  28.8s\n"
     ]
    },
    {
     "name": "stderr",
     "output_type": "stream",
     "text": [
      "/Users/sebastianlopez/miniconda3/envs/maestriamatching/lib/python3.10/site-packages/sklearn/neural_network/_multilayer_perceptron.py:691: ConvergenceWarning: Stochastic Optimizer: Maximum iterations (10) reached and the optimization hasn't converged yet.\n",
      "  warnings.warn(\n"
     ]
    },
    {
     "name": "stdout",
     "output_type": "stream",
     "text": [
      "[CV] END activation=identity, alpha=0.0001, early_stopping=True, learning_rate=invscaling, learning_rate_init=0.0001, max_iter=10, n_iter_no_change=5, power_t=0.005, solver=sgd; total time=  29.1s\n"
     ]
    },
    {
     "name": "stderr",
     "output_type": "stream",
     "text": [
      "/Users/sebastianlopez/miniconda3/envs/maestriamatching/lib/python3.10/site-packages/sklearn/neural_network/_multilayer_perceptron.py:691: ConvergenceWarning: Stochastic Optimizer: Maximum iterations (10) reached and the optimization hasn't converged yet.\n",
      "  warnings.warn(\n",
      "/Users/sebastianlopez/miniconda3/envs/maestriamatching/lib/python3.10/site-packages/sklearn/neural_network/_multilayer_perceptron.py:691: ConvergenceWarning: Stochastic Optimizer: Maximum iterations (10) reached and the optimization hasn't converged yet.\n",
      "  warnings.warn(\n"
     ]
    },
    {
     "name": "stdout",
     "output_type": "stream",
     "text": [
      "[CV] END activation=identity, alpha=0.0001, early_stopping=True, learning_rate=invscaling, learning_rate_init=0.0001, max_iter=10, n_iter_no_change=5, power_t=0.005, solver=adam; total time=  31.0s\n",
      "[CV] END activation=identity, alpha=0.0001, early_stopping=True, learning_rate=invscaling, learning_rate_init=0.0001, max_iter=10, n_iter_no_change=5, power_t=0.005, solver=adam; total time=  31.2s\n"
     ]
    },
    {
     "name": "stderr",
     "output_type": "stream",
     "text": [
      "/Users/sebastianlopez/miniconda3/envs/maestriamatching/lib/python3.10/site-packages/sklearn/neural_network/_multilayer_perceptron.py:691: ConvergenceWarning: Stochastic Optimizer: Maximum iterations (10) reached and the optimization hasn't converged yet.\n",
      "  warnings.warn(\n"
     ]
    },
    {
     "name": "stdout",
     "output_type": "stream",
     "text": [
      "[CV] END activation=identity, alpha=0.0001, early_stopping=True, learning_rate=invscaling, learning_rate_init=0.0001, max_iter=10, n_iter_no_change=5, power_t=0.005, solver=adam; total time=  31.2s\n",
      "[CV] END activation=identity, alpha=0.0001, early_stopping=True, learning_rate=invscaling, learning_rate_init=0.0001, max_iter=20, n_iter_no_change=5, power_t=0.5, solver=sgd; total time=  20.1s\n",
      "[CV] END activation=identity, alpha=0.0001, early_stopping=True, learning_rate=invscaling, learning_rate_init=0.0001, max_iter=20, n_iter_no_change=5, power_t=0.5, solver=sgd; total time=  28.0s\n"
     ]
    },
    {
     "name": "stderr",
     "output_type": "stream",
     "text": [
      "/Users/sebastianlopez/miniconda3/envs/maestriamatching/lib/python3.10/site-packages/sklearn/neural_network/_multilayer_perceptron.py:546: ConvergenceWarning: lbfgs failed to converge (status=1):\n",
      "STOP: TOTAL NO. of ITERATIONS REACHED LIMIT.\n",
      "\n",
      "Increase the number of iterations (max_iter) or scale the data as shown in:\n",
      "    https://scikit-learn.org/stable/modules/preprocessing.html\n",
      "  self.n_iter_ = _check_optimize_result(\"lbfgs\", opt_res, self.max_iter)\n"
     ]
    },
    {
     "name": "stdout",
     "output_type": "stream",
     "text": [
      "[CV] END activation=identity, alpha=0.0001, early_stopping=True, learning_rate=invscaling, learning_rate_init=0.0001, max_iter=20, n_iter_no_change=5, power_t=0.5, solver=lbfgs; total time=  50.4s\n"
     ]
    },
    {
     "name": "stderr",
     "output_type": "stream",
     "text": [
      "/Users/sebastianlopez/miniconda3/envs/maestriamatching/lib/python3.10/site-packages/sklearn/neural_network/_multilayer_perceptron.py:546: ConvergenceWarning: lbfgs failed to converge (status=1):\n",
      "STOP: TOTAL NO. of ITERATIONS REACHED LIMIT.\n",
      "\n",
      "Increase the number of iterations (max_iter) or scale the data as shown in:\n",
      "    https://scikit-learn.org/stable/modules/preprocessing.html\n",
      "  self.n_iter_ = _check_optimize_result(\"lbfgs\", opt_res, self.max_iter)\n",
      "/Users/sebastianlopez/miniconda3/envs/maestriamatching/lib/python3.10/site-packages/sklearn/neural_network/_multilayer_perceptron.py:546: ConvergenceWarning: lbfgs failed to converge (status=1):\n",
      "STOP: TOTAL NO. of ITERATIONS REACHED LIMIT.\n",
      "\n",
      "Increase the number of iterations (max_iter) or scale the data as shown in:\n",
      "    https://scikit-learn.org/stable/modules/preprocessing.html\n",
      "  self.n_iter_ = _check_optimize_result(\"lbfgs\", opt_res, self.max_iter)\n"
     ]
    },
    {
     "name": "stdout",
     "output_type": "stream",
     "text": [
      "[CV] END activation=identity, alpha=0.0001, early_stopping=True, learning_rate=invscaling, learning_rate_init=0.0001, max_iter=20, n_iter_no_change=5, power_t=0.5, solver=lbfgs; total time= 1.1min\n",
      "[CV] END activation=identity, alpha=0.0001, early_stopping=True, learning_rate=invscaling, learning_rate_init=0.0001, max_iter=20, n_iter_no_change=5, power_t=0.5, solver=lbfgs; total time=  52.5s\n",
      "[CV] END activation=identity, alpha=0.0001, early_stopping=True, learning_rate=invscaling, learning_rate_init=0.0001, max_iter=20, n_iter_no_change=5, power_t=0.5, solver=sgd; total time=  50.6s\n"
     ]
    },
    {
     "name": "stderr",
     "output_type": "stream",
     "text": [
      "/Users/sebastianlopez/miniconda3/envs/maestriamatching/lib/python3.10/site-packages/sklearn/neural_network/_multilayer_perceptron.py:546: ConvergenceWarning: lbfgs failed to converge (status=1):\n",
      "STOP: TOTAL NO. of ITERATIONS REACHED LIMIT.\n",
      "\n",
      "Increase the number of iterations (max_iter) or scale the data as shown in:\n",
      "    https://scikit-learn.org/stable/modules/preprocessing.html\n",
      "  self.n_iter_ = _check_optimize_result(\"lbfgs\", opt_res, self.max_iter)\n"
     ]
    },
    {
     "name": "stdout",
     "output_type": "stream",
     "text": [
      "[CV] END activation=identity, alpha=0.0001, early_stopping=True, learning_rate=invscaling, learning_rate_init=0.0001, max_iter=20, n_iter_no_change=5, power_t=0.1, solver=lbfgs; total time=  50.6s\n",
      "[CV] END activation=identity, alpha=0.0001, early_stopping=True, learning_rate=invscaling, learning_rate_init=0.0001, max_iter=20, n_iter_no_change=5, power_t=0.5, solver=adam; total time=  58.3s\n",
      "[CV] END activation=identity, alpha=0.0001, early_stopping=True, learning_rate=invscaling, learning_rate_init=0.0001, max_iter=20, n_iter_no_change=5, power_t=0.1, solver=sgd; total time=  21.1s\n"
     ]
    },
    {
     "name": "stderr",
     "output_type": "stream",
     "text": [
      "/Users/sebastianlopez/miniconda3/envs/maestriamatching/lib/python3.10/site-packages/sklearn/neural_network/_multilayer_perceptron.py:691: ConvergenceWarning: Stochastic Optimizer: Maximum iterations (20) reached and the optimization hasn't converged yet.\n",
      "  warnings.warn(\n"
     ]
    },
    {
     "name": "stdout",
     "output_type": "stream",
     "text": [
      "[CV] END activation=identity, alpha=0.0001, early_stopping=True, learning_rate=invscaling, learning_rate_init=0.0001, max_iter=20, n_iter_no_change=5, power_t=0.5, solver=adam; total time= 1.0min\n"
     ]
    },
    {
     "name": "stderr",
     "output_type": "stream",
     "text": [
      "/Users/sebastianlopez/miniconda3/envs/maestriamatching/lib/python3.10/site-packages/sklearn/neural_network/_multilayer_perceptron.py:546: ConvergenceWarning: lbfgs failed to converge (status=1):\n",
      "STOP: TOTAL NO. of ITERATIONS REACHED LIMIT.\n",
      "\n",
      "Increase the number of iterations (max_iter) or scale the data as shown in:\n",
      "    https://scikit-learn.org/stable/modules/preprocessing.html\n",
      "  self.n_iter_ = _check_optimize_result(\"lbfgs\", opt_res, self.max_iter)\n"
     ]
    },
    {
     "name": "stdout",
     "output_type": "stream",
     "text": [
      "[CV] END activation=identity, alpha=0.0001, early_stopping=True, learning_rate=invscaling, learning_rate_init=0.0001, max_iter=20, n_iter_no_change=5, power_t=0.1, solver=lbfgs; total time=  57.3s\n"
     ]
    },
    {
     "name": "stderr",
     "output_type": "stream",
     "text": [
      "/Users/sebastianlopez/miniconda3/envs/maestriamatching/lib/python3.10/site-packages/sklearn/neural_network/_multilayer_perceptron.py:546: ConvergenceWarning: lbfgs failed to converge (status=1):\n",
      "STOP: TOTAL NO. of ITERATIONS REACHED LIMIT.\n",
      "\n",
      "Increase the number of iterations (max_iter) or scale the data as shown in:\n",
      "    https://scikit-learn.org/stable/modules/preprocessing.html\n",
      "  self.n_iter_ = _check_optimize_result(\"lbfgs\", opt_res, self.max_iter)\n"
     ]
    },
    {
     "name": "stdout",
     "output_type": "stream",
     "text": [
      "[CV] END activation=identity, alpha=0.0001, early_stopping=True, learning_rate=invscaling, learning_rate_init=0.0001, max_iter=20, n_iter_no_change=5, power_t=0.1, solver=lbfgs; total time=  52.5s\n"
     ]
    },
    {
     "name": "stderr",
     "output_type": "stream",
     "text": [
      "/Users/sebastianlopez/miniconda3/envs/maestriamatching/lib/python3.10/site-packages/sklearn/neural_network/_multilayer_perceptron.py:691: ConvergenceWarning: Stochastic Optimizer: Maximum iterations (20) reached and the optimization hasn't converged yet.\n",
      "  warnings.warn(\n"
     ]
    },
    {
     "name": "stdout",
     "output_type": "stream",
     "text": [
      "[CV] END activation=identity, alpha=0.0001, early_stopping=True, learning_rate=invscaling, learning_rate_init=0.0001, max_iter=20, n_iter_no_change=5, power_t=0.5, solver=adam; total time= 1.0min\n"
     ]
    }
   ],
   "source": [
    "grid_search.fit(X_train, np.ravel(y_train))"
   ]
  }
 ],
 "metadata": {
  "kernelspec": {
   "display_name": "maestriamatching",
   "language": "python",
   "name": "python3"
  },
  "language_info": {
   "codemirror_mode": {
    "name": "ipython",
    "version": 3
   },
   "file_extension": ".py",
   "mimetype": "text/x-python",
   "name": "python",
   "nbconvert_exporter": "python",
   "pygments_lexer": "ipython3",
   "version": "3.10.13"
  }
 },
 "nbformat": 4,
 "nbformat_minor": 2
}
