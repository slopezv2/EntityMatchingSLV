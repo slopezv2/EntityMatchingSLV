{
 "cells": [
  {
   "cell_type": "code",
   "execution_count": 2,
   "metadata": {},
   "outputs": [],
   "source": [
    "from sklearn.neural_network import MLPClassifier\n",
    "import numpy as np # linear algebra\n",
    "import pandas as pd # data processing, CSV file I/O (e.g. pd.read_csv)\n",
    "from sklearn.model_selection import train_test_split\n"
   ]
  },
  {
   "cell_type": "code",
   "execution_count": 3,
   "metadata": {},
   "outputs": [],
   "source": [
    "import matplotlib.pyplot as plt\n",
    "#%matplotlib inline \n",
    "import seaborn as sns"
   ]
  },
  {
   "cell_type": "code",
   "execution_count": 4,
   "metadata": {},
   "outputs": [],
   "source": [
    "df_skroutz_word2vec = pd.read_parquet('../../Datos/embeddings/df_skroutz_word2vec.parquet', engine='pyarrow')"
   ]
  },
  {
   "cell_type": "code",
   "execution_count": 5,
   "metadata": {},
   "outputs": [
    {
     "data": {
      "text/html": [
       "<div>\n",
       "<style scoped>\n",
       "    .dataframe tbody tr th:only-of-type {\n",
       "        vertical-align: middle;\n",
       "    }\n",
       "\n",
       "    .dataframe tbody tr th {\n",
       "        vertical-align: top;\n",
       "    }\n",
       "\n",
       "    .dataframe thead th {\n",
       "        text-align: right;\n",
       "    }\n",
       "</style>\n",
       "<table border=\"1\" class=\"dataframe\">\n",
       "  <thead>\n",
       "    <tr style=\"text-align: right;\">\n",
       "      <th></th>\n",
       "      <th>ProductID</th>\n",
       "      <th>ProductID2</th>\n",
       "      <th>ProductID_word2vec</th>\n",
       "      <th>ProductID2_word2vec</th>\n",
       "    </tr>\n",
       "    <tr>\n",
       "      <th>same_product</th>\n",
       "      <th></th>\n",
       "      <th></th>\n",
       "      <th></th>\n",
       "      <th></th>\n",
       "    </tr>\n",
       "  </thead>\n",
       "  <tbody>\n",
       "    <tr>\n",
       "      <th>False</th>\n",
       "      <td>31762</td>\n",
       "      <td>31762</td>\n",
       "      <td>31762</td>\n",
       "      <td>31762</td>\n",
       "    </tr>\n",
       "    <tr>\n",
       "      <th>True</th>\n",
       "      <td>31762</td>\n",
       "      <td>31762</td>\n",
       "      <td>31762</td>\n",
       "      <td>31762</td>\n",
       "    </tr>\n",
       "  </tbody>\n",
       "</table>\n",
       "</div>"
      ],
      "text/plain": [
       "              ProductID  ProductID2  ProductID_word2vec  ProductID2_word2vec\n",
       "same_product                                                                \n",
       "False             31762       31762               31762                31762\n",
       "True              31762       31762               31762                31762"
      ]
     },
     "execution_count": 5,
     "metadata": {},
     "output_type": "execute_result"
    }
   ],
   "source": [
    "df_skroutz_word2vec.groupby(\"same_product\").count()"
   ]
  },
  {
   "cell_type": "code",
   "execution_count": 6,
   "metadata": {},
   "outputs": [],
   "source": [
    "df_skroutz_word2vec[\"features\"] = df_skroutz_word2vec[\"ProductID_word2vec\"].apply(lambda row: row.tolist()) + df_skroutz_word2vec[\"ProductID2_word2vec\"].apply(lambda row: row.tolist())\n",
    "df_skroutz_word2vec[\"features\"]=df_skroutz_word2vec[\"features\"].apply(lambda row: np.array(row))"
   ]
  },
  {
   "cell_type": "code",
   "execution_count": 7,
   "metadata": {},
   "outputs": [],
   "source": [
    "X = df_skroutz_word2vec[\"features\"].explode().to_numpy().reshape(df_skroutz_word2vec.shape[0],600).astype(\"float\")\n",
    "y = df_skroutz_word2vec[[\"same_product\"]].astype(\"int\").to_numpy().reshape(df_skroutz_word2vec.shape[0],1)"
   ]
  },
  {
   "cell_type": "code",
   "execution_count": 8,
   "metadata": {},
   "outputs": [],
   "source": [
    "X_train, X_test, y_train, y_test = train_test_split(\n",
    "    X, y, test_size=0.33, random_state=42, stratify= y)"
   ]
  },
  {
   "cell_type": "code",
   "execution_count": 9,
   "metadata": {},
   "outputs": [],
   "source": [
    "from sklearn.model_selection import GridSearchCV\n",
    "clf = MLPClassifier(hidden_layer_sizes=(600,100,50,1))\n",
    "param_grid = {\"activation\": [\"identity\",\"logistic\",\"tanh\",\"relu\"], \n",
    "              \"solver\":[\"lbfgs\", \"sgd\",\"adam\"], \"alpha\":[0.0001, 0.0005, 0.001, 0.005, 0.01, 0.05, 0.1,0.000001], \n",
    "              \"learning_rate\":[\"constant\", \"invscaling\", \"adaptive\"],\n",
    "              \"learning_rate_init\":[0.0001, 0.0005, 0.001, 0.005, 0.01, 0.05, 0.1,0.000001],\n",
    "              \"power_t\":[0.5, 0.1, 0.9,0.001,0.005],\"max_iter\":[5,10,20,50], \"early_stopping\": [True],\"n_iter_no_change\":[5]}\n",
    "grid_search = GridSearchCV(clf, param_grid, verbose=2, n_jobs=-1, cv=3, scoring=\"balanced_accuracy\")"
   ]
  },
  {
   "cell_type": "code",
   "execution_count": null,
   "metadata": {},
   "outputs": [],
   "source": [
    "grid_search.fit(X_train, np.ravel(y_train))"
   ]
  }
 ],
 "metadata": {
  "kernelspec": {
   "display_name": "maestriamatching",
   "language": "python",
   "name": "python3"
  },
  "language_info": {
   "codemirror_mode": {
    "name": "ipython",
    "version": 3
   },
   "file_extension": ".py",
   "mimetype": "text/x-python",
   "name": "python",
   "nbconvert_exporter": "python",
   "pygments_lexer": "ipython3",
   "version": "3.10.13"
  }
 },
 "nbformat": 4,
 "nbformat_minor": 2
}
